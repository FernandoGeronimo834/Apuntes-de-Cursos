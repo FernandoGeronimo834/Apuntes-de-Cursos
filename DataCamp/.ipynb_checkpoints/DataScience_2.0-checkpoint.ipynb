{
 "cells": [
  {
   "cell_type": "markdown",
   "id": "0f49ce16",
   "metadata": {},
   "source": [
    "<h1 style='background:#000000; color:#FFFFFF;height: 65px;padding-top: 8px;font-size: 45px;border-style: double;'><center>Data Science 2.0</center></h1>\n",
    "\n",
    "<h1 style='background:#000000; color:#FFFFFF;height: 55px;padding-top: 13px;font-size: 25px;border-style: double;'><center>ÍNDICE</center></h1>\n",
    "\n",
    "1. [Introducción a la importación de datos en Python](#IntroducciónalaimportacióndedatosenPython)\n",
    "2. [Intermedio Importar datos en Python](#IntermedioImportardatosenPython)\n",
    "3. [Limpieza de datos en Python](#LimpiezadedatosenPython) \n",
    "4. [Trabajar con fechas y horas en Python](#TrabajarconfechasyhorasenPython)\n",
    "5. [Escribir funciones en Python](#EscribirfuncionesenPython)"
   ]
  },
  {
   "cell_type": "markdown",
   "id": "4f086ce5",
   "metadata": {},
   "source": [
    "<h1 style='background:#000000; color:#FFFFFF;height: 55px;padding-top: 13px;font-size: 25px;border-style: double;'><center>Curso: Introducción a la importación de datos en Python</center></h1><a name=\"IntroducciónalaimportacióndedatosenPython\"></a>\n",
    "\n",
    "\n",
    "## Leer un archivo de texto (**`.txt`**)\n",
    "\n",
    "\n",
    "Para verificar cualquier archivo de texto sin formato, puede usar la función de apertura básica de Python para abri una conexión con el archivo.\n",
    "\n",
    "Para hacerlo, asigna el nombre del archivo a una varibale como una cadena, pasa el nombre del archiovo a la función open y también le pasa el modo de argumento es igual a **`'r'`**, lo que asegura que solo podamos leerlo (no nos gustarias escribirlo accidentalmente.), asgine el texto del archivo a un texto variable aplicando el métodod e lectura a la conexión con el archivo.\n",
    "\n",
    "Después de hacer esto, asegúrese de cerrar la conexión con el archivo usando el comando `file.close()`. Luego puede imprimir el archivo en la consola y verificarlo usando el comando `print(text)`.\n",
    "\n"
   ]
  },
  {
   "cell_type": "code",
   "execution_count": 16,
   "id": "0c623026",
   "metadata": {},
   "outputs": [
    {
     "name": "stdout",
     "output_type": "stream",
     "text": [
      "\n"
     ]
    }
   ],
   "source": [
    "filename = './datasets/seaslug.txt'\n",
    "\n",
    "file = open(filename, mode = 'r')\n",
    "\n",
    "text = file.read()\n",
    "\n",
    "print(text)\n",
    "\n",
    "file.close()  # Cerrar siempre el archivo luego de terminar de manipularlo\n"
   ]
  },
  {
   "cell_type": "markdown",
   "id": "781042c8",
   "metadata": {},
   "source": [
    "## Escribir en un archivo\n",
    "\n",
    "Si quisieras abrir un archivo en orden para escribirle, le pasaría el modo de argumento igual a **`'w'`**."
   ]
  },
  {
   "cell_type": "code",
   "execution_count": 13,
   "id": "2de749a1",
   "metadata": {},
   "outputs": [],
   "source": [
    "filename = './datasets/seaslug.txt'\n",
    "\n",
    "file = open(filename, mode = 'w')\n",
    "\n",
    "file.close()"
   ]
  },
  {
   "cell_type": "markdown",
   "id": "1cec765e",
   "metadata": {},
   "source": [
    "\n",
    "## Administrador de contexto `with`\n",
    "\n",
    "\n",
    "Puede evitar tener que cerrar la conexión con el archivo utilizando una sentencia `with`. Esto le permite crear un contexto en el que puede ejecutar comandos con el archivo abierto. Una vez fuera de esta cláusula/contexto, el archivo ya no está abierto y, por este motivo, se denomina Administrador de contexto.\n",
    "\n",
    "\n",
    "Lo que está haciendo aquí se llama \"vincular\" una variable en la construcción del administrador de contexto; mientras aún esté dentro de esta construcción, el archivo variable estará vinculado a `open(filename, 'r')`.\n",
    "\n",
    "Es una buena practica usar la declaración `with` ya que nunca tendrá que preocuparse por cerrar los archivos nuevamente."
   ]
  },
  {
   "cell_type": "code",
   "execution_count": 18,
   "id": "eff7a7bd",
   "metadata": {},
   "outputs": [
    {
     "name": "stdout",
     "output_type": "stream",
     "text": [
      "Recuerde el alma dormida\n",
      "Avive el seso y despierte\n",
      "Contemplando\n",
      "CÃ³mo se pasa la vida,\n",
      "CÃ³mo se viene la muerte,\n",
      "Tan callando,\n",
      "CuÃ¡n presto se va el placer,\n",
      "CÃ³mo, despuÃ©s de acordado\n",
      "Da dolor,\n",
      "CÃ³mo, a nuestro parecer,\n",
      "Cualquier tiempo pasado\n",
      "Fue mejor.\n",
      "\n",
      "\n"
     ]
    }
   ],
   "source": [
    "with open('./datasets/seaslug.txt', 'r') as file:\n",
    "    print(file.read())"
   ]
  },
  {
   "cell_type": "markdown",
   "id": "c5bcc32f",
   "metadata": {},
   "source": [
    "# La importancia de los archivos planos en la ciencia de datos\n",
    "\n",
    "\n",
    "## Archivos planos\n",
    "\n",
    "Ahora que sabe cómo importar archivos de texto sin formato, vamos a ver archivos planos, como \"titanic.csv\", en el que cada fil es un pasajero único a bordo y la columna es una caracteristica del atributo, como género, cabina y \"sobrevivió o no\".\n",
    "\n",
    "\n",
    "---\n",
    "\n",
    "Los archivos planos son archivos de texto básico que contienen registros, es decir, datos de tabla, sin relaciones estructuradas. Esto contrasta con una base de datos relacional, por ejemplo, en la que se pueden relacionar columnas de tablas distintas. Para ser aún más precisos, los archivos planos consisten en registros, donde un registro se refiere a una fila de campos o atributos, cada uno de los cuales contiene como máximo un elemento de información.\n",
    "\n",
    "## Header\n",
    "\n",
    "También es esencial tener en cuenta que un archivo plano pueda tener un encabezado, como en el \"titanic.csv\", que es una fila que ocurre como la primera fila, y describe el contenido de las columnas de datos o establecer cuáles son los atributos o características correspondientes en cada columnas.\n",
    "\n",
    "Será importante saber si su archivo tiene o no un encabezado, ya que puede alterar la importación de datos.\n",
    "\n",
    "La razón por la que los archivos planos son tan importantes en la ciencia de datos es que a los cientificos de datos realmente les gusta pensar en registris o filas de atributos.\n",
    "\n",
    "\n",
    "## Extensión del archivo\n",
    "\n",
    "Ahora es posible que haya notado que la extensión del archivo es `.csv`. CSV es un acrónimo de valor separado por comas y significa exactamente lo que dice. Los valores de cada fila están separados por comas.\n",
    "\n",
    "\n",
    "Otra extensión común para un archivo plano es `.txt`, lo que significa un archivo de texto. Los valores en archivos sin formato se pueden separar por caracteres o secuencias de caracteres distintos que las comas, como un tabulador, y el carácter o caracteres en cuestión se denomina **delimitador**.\n",
    "\n",
    "\n",
    "\n",
    "## Archivo delimitado por tabulador\n",
    "\n",
    "\n",
    "Vea aquí un ejemplo de un archivo delimitado por tabuladores. Los datos consisten en el famoso reconodimiento de dígitos MNIST imagenes, donde cada fila contiene los valores de píxeles de una imagen determinada. \n",
    "\n",
    "Tenga en cuenta que todos los campos en los datos MNIST son numéricos mientras que en el \"titanic.csv\" también contenía cadenas.\n",
    "\n",
    "<img src=\".\\img_3\\1.png\" width=\"350px\" height=\"350px\">\n",
    "\n",
    "<img src=\".\\img_3\\2.png\" width=\"150px\" height=\"350px\">\n",
    "\n",
    "\n",
    "## Como importamos estos archivos?\n",
    "\n",
    "Si consiste completamente en números y queremos almacenarlos como una matriz numpy, podríamos usar numpy.\n",
    "\n",
    "Si, en cambio, queremos almacenar los datos en un marco de datos (DataFrame), podríamos usar pandas.\n",
    "\n",
    "La mayoria de las veces, utilizará una de estas opciones."
   ]
  },
  {
   "cell_type": "markdown",
   "id": "980e83a6",
   "metadata": {},
   "source": [
    "# Importación de archivos planos usando NumPy\n",
    "\n",
    "\n",
    "¿Qué sucede si ahora desea importar un archivo plano y asignarlo a una variable?\n",
    "\n",
    "Si todos los datos son numéricos, puede usar el paquete numpy para importar los datos como una matriz numpy.\n",
    "\n",
    "¿Por qué querriamos hacer esto?\n",
    "\n",
    "## ¿Por qué Numpy?\n",
    "\n",
    "En primero lugar, las matrices numpy son el estándar de Python para almacenar datos numéricos. Son eficientes, rápidos y limpios.\n",
    "\n",
    "En segundo lugar, las matrices numpy suelen ser esenciales para otros paquetes, comoscikit-learn, un popular paquete de aprendizaje automatico para Python.\n",
    "\n",
    "Numpy en si tiene una serie de funcionalidades integradas que hacen que sea mucho más fácil y eficiente para nosotros importar datos como matrices.\n",
    "\n",
    "\n",
    "Ingrese las funciones Numpy `loadtxt()` y `genfromtxt()`.\n",
    "\n",
    "\n",
    "## Importar archivo planos usando NumPy\n",
    "\n",
    "Para usar cualquiera de estos, primero debemos importar NumPy. Luego llamamos a `loadtxt()` y le pasamos el nombre del archivo como primer argumento, junto con el delimitador, como segundo argumento. Tenga en cuenta que el delimitador predeterminado es cualquier espacio en blanco, por lo que normalmente necesitaremos especificarlo explícitamente."
   ]
  },
  {
   "cell_type": "code",
   "execution_count": 10,
   "id": "2a230620",
   "metadata": {},
   "outputs": [
    {
     "data": {
      "text/plain": [
       "array([[1., 0., 0., ..., 0., 0., 0.],\n",
       "       [0., 0., 0., ..., 0., 0., 0.],\n",
       "       [1., 0., 0., ..., 0., 0., 0.],\n",
       "       ...,\n",
       "       [2., 0., 0., ..., 0., 0., 0.],\n",
       "       [0., 0., 0., ..., 0., 0., 0.],\n",
       "       [5., 0., 0., ..., 0., 0., 0.]])"
      ]
     },
     "execution_count": 10,
     "metadata": {},
     "output_type": "execute_result"
    }
   ],
   "source": [
    "import numpy as np\n",
    "\n",
    "filename = './datasets/MNIST.txt'\n",
    "\n",
    "data = np.loadtxt(filename, delimiter = ',')\n",
    "\n",
    "data"
   ]
  },
  {
   "cell_type": "markdown",
   "id": "7e1f1a2f",
   "metadata": {},
   "source": [
    "\n",
    "## Personalización de la importación de Numpy\n",
    "\n",
    "Hay una serie de argumentos adicionales que tal vez desee especificar.\n",
    "\n",
    "Si, por ejemplo, sus datos consisten en números y su encabezado tiene cadenas, como en el MNIST datos de dígitos, querrá omitir la primer fila llamando a `loadtxt` con el argumento `skiprows = 1`. "
   ]
  },
  {
   "cell_type": "code",
   "execution_count": 33,
   "id": "400e4712",
   "metadata": {},
   "outputs": [
    {
     "name": "stdout",
     "output_type": "stream",
     "text": [
      "[[0. 0. 0. ... 0. 0. 0.]\n",
      " [1. 0. 0. ... 0. 0. 0.]\n",
      " [4. 0. 0. ... 0. 0. 0.]\n",
      " ...\n",
      " [2. 0. 0. ... 0. 0. 0.]\n",
      " [0. 0. 0. ... 0. 0. 0.]\n",
      " [5. 0. 0. ... 0. 0. 0.]]\n"
     ]
    }
   ],
   "source": [
    "import numpy as np\n",
    "\n",
    "filename = './datasets/MNIST.txt'\n",
    "\n",
    "data = np.loadtxt(filename, delimiter = ',', skiprows = 1) #skiprows = [1], , usecols= [0,1]\n",
    "\n",
    "print(data)"
   ]
  },
  {
   "cell_type": "markdown",
   "id": "8c1ef9f5",
   "metadata": {},
   "source": [
    "\n",
    "Si solo desea la primera y la tercera columna de los datos, querrá establecer `usecols = [0,2]`.\n",
    "\n",
    "<img src=\".\\img_3\\4.png\" width=\"150px\" height=\"350px\">\n",
    "\n",
    "\n",
    "### Importar matriz compuesta de cadenas\n",
    "\n",
    "También puede importar diferentes tipos de datos en matrices NumPy: por ejemplo, establecer el argumento `dtype = str` garantizará que todas las entradas se importen como cadenas.\n",
    "\n",
    "**`data = np.loadtxt(filename, delimiter = ',', dtype = str)`**\n",
    "\n",
    "\n",
    "## Tipos de datos Mixtos\n",
    "\n",
    "`loadtxt` es excelente para casos básicos, pero tiende a fallar cuando tenemos tipos de datos mixtos, por ejemplo, columnas que consisten en flotadores y columnas que consisten en cadenas, como vimos en el conjunto de datos Titanic."
   ]
  },
  {
   "cell_type": "markdown",
   "id": "1c86403e",
   "metadata": {},
   "source": [
    "# Importar archivos planos usando Pandas\n",
    "\n",
    "\n",
    "\n",
    "## Qué necesit un cientifico de datos:\n",
    "\n",
    "Tener \"una estructura de datos etiquetas [bi]dimensionales con columnas de tipos potencialmente diferentes\" en los que puede realizar fácilmente una gran cantiad de cosas de tipo Data Sceincey: manipular, dividr, remodelar, agrupar, unir, fusionar, realizar estadísticas de una manera amigable con los valores faltantes, manejar series de tiempo.\n",
    "\n",
    "La necesitad de tal estructura de datos, entre otras cuestiones, llevó a Wws McKinney a desarrollar la bibilioteca pandas para Python. Nada hablas más del proyecto de pandas que la propia documentación: \"Python durante mucho tiempo ha sido excelente para la recopilación y preparación de datos, pero no tanto para el análisis y modelado de datos. Pandas ayuda a llenar este vacío, permitíendole llevar a cabo todo su análisis de datos y flujo de trabajo en Python sin tener que cambiar a un lenguaje más especifico de dominio como R\".\n",
    "\n",
    "\n",
    "La estructura de datos más relevante para el flujo de trabajo de análisis y manipulación de datos que ofrece pandas es el marco de datos y es el análogo Pythonic del marco de datos de R.\n",
    "\n",
    "\n",
    "\n",
    "## Manipulando DataFrames Con Pandas\n",
    "\n",
    "\n",
    "La manipulación de marco de datos en pandas puede ser útil en todos los pasos del método cientifico de datos, desde el análisis exploratorio de datos hasta la disputa de datos, el preprocesamiento, la construcción de modelos y la visualización. \n",
    "\n",
    "Aquí veremos su gran utilidad en la importación de archivos planos, incluso en la forma en que trata con datos faltantes, comentarios juntos con muchos otros problemas que afectan a los cientificos de datos en funcionamiento. Por todas estas razones, ahora es estándar y la mejor práctica en Data Science para usar pandas para importar archivos planos como DataFrames.\n",
    "\n",
    "\n",
    "\n",
    "## Importar usando Pandas\n",
    "\n",
    "Para usar pandas, primero debe importarlo. Entonces, si deseamos importar un CSV en el caso más básico, todo lo que tenemos que hacer es llamar a la función `read_csv()` y proporciones un solo argumento, el nombre del archivo. Habiendo asignado el DataFrame a una variable, podemos verificar las primeras 5 filas del DataFrame, incluido el encabezado, con el comando `.head()`.\n",
    "\n",
    "Tambien podemos convertir fácilmente el DataFrame en una matriz numpy llamando al atributo `.values` en el DataFrame."
   ]
  },
  {
   "cell_type": "code",
   "execution_count": 4,
   "id": "0face368",
   "metadata": {},
   "outputs": [
    {
     "data": {
      "text/html": [
       "<div>\n",
       "<style scoped>\n",
       "    .dataframe tbody tr th:only-of-type {\n",
       "        vertical-align: middle;\n",
       "    }\n",
       "\n",
       "    .dataframe tbody tr th {\n",
       "        vertical-align: top;\n",
       "    }\n",
       "\n",
       "    .dataframe thead th {\n",
       "        text-align: right;\n",
       "    }\n",
       "</style>\n",
       "<table border=\"1\" class=\"dataframe\">\n",
       "  <thead>\n",
       "    <tr style=\"text-align: right;\">\n",
       "      <th></th>\n",
       "      <th>PassengerId</th>\n",
       "      <th>Survived</th>\n",
       "      <th>Pclass</th>\n",
       "      <th>Sex</th>\n",
       "      <th>Age</th>\n",
       "      <th>SibSp</th>\n",
       "      <th>Parch</th>\n",
       "      <th>Ticket</th>\n",
       "      <th>Fare</th>\n",
       "      <th>Cabin</th>\n",
       "      <th>Embarked</th>\n",
       "    </tr>\n",
       "  </thead>\n",
       "  <tbody>\n",
       "    <tr>\n",
       "      <th>0</th>\n",
       "      <td>1</td>\n",
       "      <td>0</td>\n",
       "      <td>3</td>\n",
       "      <td>male</td>\n",
       "      <td>22.0</td>\n",
       "      <td>1</td>\n",
       "      <td>0</td>\n",
       "      <td>A/5 21171</td>\n",
       "      <td>7.2500</td>\n",
       "      <td>NaN</td>\n",
       "      <td>S</td>\n",
       "    </tr>\n",
       "    <tr>\n",
       "      <th>1</th>\n",
       "      <td>2</td>\n",
       "      <td>1</td>\n",
       "      <td>1</td>\n",
       "      <td>female</td>\n",
       "      <td>38.0</td>\n",
       "      <td>1</td>\n",
       "      <td>0</td>\n",
       "      <td>PC 17599</td>\n",
       "      <td>71.2833</td>\n",
       "      <td>C85</td>\n",
       "      <td>C</td>\n",
       "    </tr>\n",
       "    <tr>\n",
       "      <th>2</th>\n",
       "      <td>3</td>\n",
       "      <td>1</td>\n",
       "      <td>3</td>\n",
       "      <td>female</td>\n",
       "      <td>26.0</td>\n",
       "      <td>0</td>\n",
       "      <td>0</td>\n",
       "      <td>STON/O2. 3101282</td>\n",
       "      <td>7.9250</td>\n",
       "      <td>NaN</td>\n",
       "      <td>S</td>\n",
       "    </tr>\n",
       "    <tr>\n",
       "      <th>3</th>\n",
       "      <td>4</td>\n",
       "      <td>1</td>\n",
       "      <td>1</td>\n",
       "      <td>female</td>\n",
       "      <td>35.0</td>\n",
       "      <td>1</td>\n",
       "      <td>0</td>\n",
       "      <td>113803</td>\n",
       "      <td>53.1000</td>\n",
       "      <td>C123</td>\n",
       "      <td>S</td>\n",
       "    </tr>\n",
       "    <tr>\n",
       "      <th>4</th>\n",
       "      <td>5</td>\n",
       "      <td>0</td>\n",
       "      <td>3</td>\n",
       "      <td>male</td>\n",
       "      <td>35.0</td>\n",
       "      <td>0</td>\n",
       "      <td>0</td>\n",
       "      <td>373450</td>\n",
       "      <td>8.0500</td>\n",
       "      <td>NaN</td>\n",
       "      <td>S</td>\n",
       "    </tr>\n",
       "  </tbody>\n",
       "</table>\n",
       "</div>"
      ],
      "text/plain": [
       "   PassengerId  Survived  Pclass     Sex   Age  SibSp  Parch  \\\n",
       "0            1         0       3    male  22.0      1      0   \n",
       "1            2         1       1  female  38.0      1      0   \n",
       "2            3         1       3  female  26.0      0      0   \n",
       "3            4         1       1  female  35.0      1      0   \n",
       "4            5         0       3    male  35.0      0      0   \n",
       "\n",
       "             Ticket     Fare Cabin Embarked  \n",
       "0         A/5 21171   7.2500   NaN        S  \n",
       "1          PC 17599  71.2833   C85        C  \n",
       "2  STON/O2. 3101282   7.9250   NaN        S  \n",
       "3            113803  53.1000  C123        S  \n",
       "4            373450   8.0500   NaN        S  "
      ]
     },
     "execution_count": 4,
     "metadata": {},
     "output_type": "execute_result"
    }
   ],
   "source": [
    "import pandas as pd\n",
    "\n",
    "df = pd.read_csv(r'.\\datasets\\titanic_sub.csv')\n",
    "df.head()"
   ]
  },
  {
   "cell_type": "markdown",
   "id": "67d42d7a",
   "metadata": {},
   "source": [
    "Tambien podemos convertir fácilmente el DataFrame en una matriz numpy llamando al atributo `.values` en el DataFrame.\n",
    "\n"
   ]
  },
  {
   "cell_type": "code",
   "execution_count": 7,
   "id": "7eca412e",
   "metadata": {},
   "outputs": [
    {
     "data": {
      "text/plain": [
       "array([[1, 0, 3, ..., 7.25, nan, 'S'],\n",
       "       [2, 1, 1, ..., 71.2833, 'C85', 'C'],\n",
       "       [3, 1, 3, ..., 7.925, nan, 'S'],\n",
       "       ...,\n",
       "       [889, 0, 3, ..., 23.45, nan, 'S'],\n",
       "       [890, 1, 1, ..., 30.0, 'C148', 'C'],\n",
       "       [891, 0, 3, ..., 7.75, nan, 'Q']], dtype=object)"
      ]
     },
     "execution_count": 7,
     "metadata": {},
     "output_type": "execute_result"
    }
   ],
   "source": [
    "df.values # Me devuelve un arreglo bidimensional de numpy"
   ]
  },
  {
   "cell_type": "markdown",
   "id": "1c97ba8a",
   "metadata": {},
   "source": [
    "### Argumentos de `read_csv()`\n",
    "\n",
    "Complete **`sep`**(la pandasversión de delim) **`comment`** los **`na_values`** argumentos de pd.read_csv(). **`comment`** toma los caracteres que aparecen después de los comentarios en el archivo, que en este caso es '#'. **`na_values`** toma una lista de cadenas para reconocer como NA/ NaN, en este caso la cadena 'Nothing'. **`sep`** es el argumento donde se declara el delimitador que podria ser `','`, `'\\t'`, etc."
   ]
  },
  {
   "cell_type": "markdown",
   "id": "30880d4f",
   "metadata": {},
   "source": [
    "# Introducción a otros tipos de archivos\n",
    "\n",
    "\n",
    "## Otros tipos de archivos\n",
    "\n",
    "* **`Hojas de calculo Excel`**\n",
    "* **`Archivos MATLAB`** \n",
    "* **`Archivos SAS`**\n",
    "* **`Archivos Stata`**\n",
    "* **`Archivos HDF5`**\n",
    "\n",
    "Los archivos HDF5 se están convirtiendo en una forma más frecuente de almacenar grandes conjuntos de datos, ya que demostrado por el hecho de que los investigadores de LIGO lo utilizan para almacenar sus datos.\n",
    "\n",
    "\n",
    "## Archivos Decapado\n",
    "\n",
    "Este es un tipo de archivo nativo de Python. El concepto de decapado de un archivo está motivado por lo siguiente: si bien puede ser fácil guardar una matriz numpy o un DataFrame de pandas en un archivo plano, hay muchos otros tiposd e datos, como diccionarios y listas, para loas que no es obvio cómo almacenarlos.\n",
    "\n",
    "\n",
    "Si desea que sus archivos sean legibles por humanos, es posible que desee guardarlos como archivos de texto de una manera inteligente (los JSON, son apropiados para los diccionarios de Python). Sin embargo, si simplemente desea poder importarlos a Python, puede serializarlos. Todo esto significa convertir el objeto en una secuencia de bytes o flujo de bytes.\n",
    "\n",
    "\n",
    "---\n",
    "\n",
    "## Importar archivos Decapados (o encurtidos)\n",
    "\n",
    "\n",
    "Como lo ha hecho antes, al abrir un archivo de este tipo, querrá especificar que es de solo lectura; Tambien quiero especificar que es un archivo binario, lo que significa que es legible por computadora y no por humanos.\n",
    "\n",
    "Para especificar solo lectura y binario, querrá pasar la cadena `'rb'` como segundo argumento de `open()`."
   ]
  },
  {
   "cell_type": "code",
   "execution_count": 7,
   "id": "3b7ec9bd",
   "metadata": {},
   "outputs": [
    {
     "data": {
      "text/html": [
       "<div>\n",
       "<style scoped>\n",
       "    .dataframe tbody tr th:only-of-type {\n",
       "        vertical-align: middle;\n",
       "    }\n",
       "\n",
       "    .dataframe tbody tr th {\n",
       "        vertical-align: top;\n",
       "    }\n",
       "\n",
       "    .dataframe thead th {\n",
       "        text-align: right;\n",
       "    }\n",
       "</style>\n",
       "<table border=\"1\" class=\"dataframe\">\n",
       "  <thead>\n",
       "    <tr style=\"text-align: right;\">\n",
       "      <th></th>\n",
       "      <th>date</th>\n",
       "      <th>type</th>\n",
       "      <th>year</th>\n",
       "      <th>avg_price</th>\n",
       "      <th>size</th>\n",
       "      <th>nb_sold</th>\n",
       "    </tr>\n",
       "  </thead>\n",
       "  <tbody>\n",
       "    <tr>\n",
       "      <th>0</th>\n",
       "      <td>2015-12-27</td>\n",
       "      <td>conventional</td>\n",
       "      <td>2015</td>\n",
       "      <td>0.95</td>\n",
       "      <td>small</td>\n",
       "      <td>9626901.09</td>\n",
       "    </tr>\n",
       "    <tr>\n",
       "      <th>1</th>\n",
       "      <td>2015-12-20</td>\n",
       "      <td>conventional</td>\n",
       "      <td>2015</td>\n",
       "      <td>0.98</td>\n",
       "      <td>small</td>\n",
       "      <td>8710021.76</td>\n",
       "    </tr>\n",
       "    <tr>\n",
       "      <th>2</th>\n",
       "      <td>2015-12-13</td>\n",
       "      <td>conventional</td>\n",
       "      <td>2015</td>\n",
       "      <td>0.93</td>\n",
       "      <td>small</td>\n",
       "      <td>9855053.66</td>\n",
       "    </tr>\n",
       "    <tr>\n",
       "      <th>3</th>\n",
       "      <td>2015-12-06</td>\n",
       "      <td>conventional</td>\n",
       "      <td>2015</td>\n",
       "      <td>0.89</td>\n",
       "      <td>small</td>\n",
       "      <td>9405464.36</td>\n",
       "    </tr>\n",
       "    <tr>\n",
       "      <th>4</th>\n",
       "      <td>2015-11-29</td>\n",
       "      <td>conventional</td>\n",
       "      <td>2015</td>\n",
       "      <td>0.99</td>\n",
       "      <td>small</td>\n",
       "      <td>8094803.56</td>\n",
       "    </tr>\n",
       "    <tr>\n",
       "      <th>...</th>\n",
       "      <td>...</td>\n",
       "      <td>...</td>\n",
       "      <td>...</td>\n",
       "      <td>...</td>\n",
       "      <td>...</td>\n",
       "      <td>...</td>\n",
       "    </tr>\n",
       "    <tr>\n",
       "      <th>1009</th>\n",
       "      <td>2018-02-04</td>\n",
       "      <td>organic</td>\n",
       "      <td>2018</td>\n",
       "      <td>1.53</td>\n",
       "      <td>extra_large</td>\n",
       "      <td>1703.52</td>\n",
       "    </tr>\n",
       "    <tr>\n",
       "      <th>1010</th>\n",
       "      <td>2018-01-28</td>\n",
       "      <td>organic</td>\n",
       "      <td>2018</td>\n",
       "      <td>1.61</td>\n",
       "      <td>extra_large</td>\n",
       "      <td>1270.61</td>\n",
       "    </tr>\n",
       "    <tr>\n",
       "      <th>1011</th>\n",
       "      <td>2018-01-21</td>\n",
       "      <td>organic</td>\n",
       "      <td>2018</td>\n",
       "      <td>1.63</td>\n",
       "      <td>extra_large</td>\n",
       "      <td>1490.02</td>\n",
       "    </tr>\n",
       "    <tr>\n",
       "      <th>1012</th>\n",
       "      <td>2018-01-14</td>\n",
       "      <td>organic</td>\n",
       "      <td>2018</td>\n",
       "      <td>1.59</td>\n",
       "      <td>extra_large</td>\n",
       "      <td>1580.01</td>\n",
       "    </tr>\n",
       "    <tr>\n",
       "      <th>1013</th>\n",
       "      <td>2018-01-07</td>\n",
       "      <td>organic</td>\n",
       "      <td>2018</td>\n",
       "      <td>1.51</td>\n",
       "      <td>extra_large</td>\n",
       "      <td>1289.07</td>\n",
       "    </tr>\n",
       "  </tbody>\n",
       "</table>\n",
       "<p>1014 rows × 6 columns</p>\n",
       "</div>"
      ],
      "text/plain": [
       "            date          type  year  avg_price         size     nb_sold\n",
       "0     2015-12-27  conventional  2015       0.95        small  9626901.09\n",
       "1     2015-12-20  conventional  2015       0.98        small  8710021.76\n",
       "2     2015-12-13  conventional  2015       0.93        small  9855053.66\n",
       "3     2015-12-06  conventional  2015       0.89        small  9405464.36\n",
       "4     2015-11-29  conventional  2015       0.99        small  8094803.56\n",
       "...          ...           ...   ...        ...          ...         ...\n",
       "1009  2018-02-04       organic  2018       1.53  extra_large     1703.52\n",
       "1010  2018-01-28       organic  2018       1.61  extra_large     1270.61\n",
       "1011  2018-01-21       organic  2018       1.63  extra_large     1490.02\n",
       "1012  2018-01-14       organic  2018       1.59  extra_large     1580.01\n",
       "1013  2018-01-07       organic  2018       1.51  extra_large     1289.07\n",
       "\n",
       "[1014 rows x 6 columns]"
      ]
     },
     "execution_count": 7,
     "metadata": {},
     "output_type": "execute_result"
    }
   ],
   "source": [
    "import pickle\n",
    "\n",
    "with open('./datasets/avoplotto.pkl', 'rb') as file:\n",
    "    data = pickle.load(file)\n",
    "\n",
    "data"
   ]
  },
  {
   "cell_type": "markdown",
   "id": "c585be80",
   "metadata": {},
   "source": [
    "## Importar Hojas de cálculo Excel\n",
    "\n",
    "\n",
    "Un archivo de Excel generalmente consta de varias hojas. Hay muchas formas de importar archivos Excel y usted use pandas para hacerlo porque produce DataFrame de forma nativa, lo cual es excelente para su práctica como cientifico de datos.\n",
    "\n",
    "## Importar y mostrar lista con los nombres de las hojas\n",
    "\n",
    "Como puede ver en este ejemplo, puede usar la función `ExcelFile()` para asignar un archivo de Excel a una variable de datos.\n",
    "\n",
    "Como un archivo de Excel consta de hojas, lo primero que debe hacer es averiguar cuáles son las hojas. Esto es sencillo con el comado (atributo) `.sheet_names`."
   ]
  },
  {
   "cell_type": "code",
   "execution_count": 13,
   "id": "6792f074",
   "metadata": {},
   "outputs": [
    {
     "name": "stdout",
     "output_type": "stream",
     "text": [
      "['worksheet1']\n"
     ]
    }
   ],
   "source": [
    "import pandas as pd\n",
    "\n",
    "\n",
    "file = './datasets/Earlwood_Air_Data.xls'\n",
    "\n",
    "data = pd.ExcelFile(file)\n",
    "print(data.sheet_names)  # Me muestra los nombres de las diferentes hojas que contiene el archivo Excel\n"
   ]
  },
  {
   "cell_type": "markdown",
   "id": "e41e763c",
   "metadata": {},
   "source": [
    "## Mostrar una hoja en espeficico de un archivo Excel\n",
    "\n",
    "Para luego cargar una hoja en particular como un DataFrame, solo necesita aplicar el método `.parse()` al objeto `data` con un solo argumento, que es el nombre como una cadena o el índice como un flotante de la hoja que desea carga: Pandas es lo suficientemente inteligennte como para saber si le está diciendo el nombre de la hoja o el índice."
   ]
  },
  {
   "cell_type": "code",
   "execution_count": 18,
   "id": "26645997",
   "metadata": {
    "scrolled": true
   },
   "outputs": [
    {
     "data": {
      "text/html": [
       "<div>\n",
       "<style scoped>\n",
       "    .dataframe tbody tr th:only-of-type {\n",
       "        vertical-align: middle;\n",
       "    }\n",
       "\n",
       "    .dataframe tbody tr th {\n",
       "        vertical-align: top;\n",
       "    }\n",
       "\n",
       "    .dataframe thead th {\n",
       "        text-align: right;\n",
       "    }\n",
       "</style>\n",
       "<table border=\"1\" class=\"dataframe\">\n",
       "  <thead>\n",
       "    <tr style=\"text-align: right;\">\n",
       "      <th></th>\n",
       "      <th>Date</th>\n",
       "      <th>Time</th>\n",
       "      <th>EARLWOOD WDR 1h average [°]</th>\n",
       "      <th>EARLWOOD TEMP 1h average [°C]</th>\n",
       "      <th>EARLWOOD WSP 1h average [m/s]</th>\n",
       "      <th>EARLWOOD NO 1h average [pphm]</th>\n",
       "      <th>EARLWOOD NO2 1h average [pphm]</th>\n",
       "      <th>EARLWOOD CO 1h average [ppm]</th>\n",
       "      <th>EARLWOOD OZONE 1h average [pphm]</th>\n",
       "      <th>EARLWOOD OZONE 4h rolling average [pphm]</th>\n",
       "      <th>EARLWOOD PM10 1h average [µg/m³]</th>\n",
       "      <th>EARLWOOD PM2.5 1h average [µg/m³]</th>\n",
       "      <th>EARLWOOD HUMID 1h average [%]</th>\n",
       "      <th>EARLWOOD SD1 1h average [°]</th>\n",
       "      <th>EARLWOOD CO 8h rolling average [ppm]</th>\n",
       "    </tr>\n",
       "  </thead>\n",
       "  <tbody>\n",
       "    <tr>\n",
       "      <th>0</th>\n",
       "      <td>01/01/2017</td>\n",
       "      <td>01:00</td>\n",
       "      <td>152.3</td>\n",
       "      <td>22.6</td>\n",
       "      <td>0.4</td>\n",
       "      <td>0.0</td>\n",
       "      <td>0.4</td>\n",
       "      <td>NaN</td>\n",
       "      <td>2.0</td>\n",
       "      <td>2.1</td>\n",
       "      <td>23.6</td>\n",
       "      <td>7.0</td>\n",
       "      <td>87.2</td>\n",
       "      <td>49.01</td>\n",
       "      <td>NaN</td>\n",
       "    </tr>\n",
       "    <tr>\n",
       "      <th>1</th>\n",
       "      <td>01/01/2017</td>\n",
       "      <td>02:00</td>\n",
       "      <td>134.0</td>\n",
       "      <td>22.6</td>\n",
       "      <td>0.3</td>\n",
       "      <td>NaN</td>\n",
       "      <td>NaN</td>\n",
       "      <td>NaN</td>\n",
       "      <td>NaN</td>\n",
       "      <td>2.2</td>\n",
       "      <td>21.0</td>\n",
       "      <td>6.6</td>\n",
       "      <td>87.2</td>\n",
       "      <td>46.56</td>\n",
       "      <td>NaN</td>\n",
       "    </tr>\n",
       "  </tbody>\n",
       "</table>\n",
       "</div>"
      ],
      "text/plain": [
       "         Date   Time  EARLWOOD WDR 1h average [°]  \\\n",
       "0  01/01/2017  01:00                        152.3   \n",
       "1  01/01/2017  02:00                        134.0   \n",
       "\n",
       "   EARLWOOD TEMP 1h average [°C]  EARLWOOD WSP 1h average [m/s]  \\\n",
       "0                           22.6                            0.4   \n",
       "1                           22.6                            0.3   \n",
       "\n",
       "   EARLWOOD NO 1h average [pphm]  EARLWOOD NO2 1h average [pphm]  \\\n",
       "0                            0.0                             0.4   \n",
       "1                            NaN                             NaN   \n",
       "\n",
       "   EARLWOOD CO 1h average [ppm]  EARLWOOD OZONE 1h average [pphm]  \\\n",
       "0                           NaN                               2.0   \n",
       "1                           NaN                               NaN   \n",
       "\n",
       "   EARLWOOD OZONE 4h rolling average [pphm]  EARLWOOD PM10 1h average [µg/m³]  \\\n",
       "0                                       2.1                              23.6   \n",
       "1                                       2.2                              21.0   \n",
       "\n",
       "   EARLWOOD PM2.5 1h average [µg/m³]  EARLWOOD HUMID 1h average [%]  \\\n",
       "0                                7.0                           87.2   \n",
       "1                                6.6                           87.2   \n",
       "\n",
       "   EARLWOOD SD1 1h average [°]  EARLWOOD CO 8h rolling average [ppm]  \n",
       "0                        49.01                                   NaN  \n",
       "1                        46.56                                   NaN  "
      ]
     },
     "execution_count": 18,
     "metadata": {},
     "output_type": "execute_result"
    }
   ],
   "source": [
    "df1 = data.parse('worksheet1')  # Usando el nombre de la hoja como String\n",
    "df1.head(2)"
   ]
  },
  {
   "cell_type": "code",
   "execution_count": 20,
   "id": "bb23cfdf",
   "metadata": {},
   "outputs": [
    {
     "data": {
      "text/html": [
       "<div>\n",
       "<style scoped>\n",
       "    .dataframe tbody tr th:only-of-type {\n",
       "        vertical-align: middle;\n",
       "    }\n",
       "\n",
       "    .dataframe tbody tr th {\n",
       "        vertical-align: top;\n",
       "    }\n",
       "\n",
       "    .dataframe thead th {\n",
       "        text-align: right;\n",
       "    }\n",
       "</style>\n",
       "<table border=\"1\" class=\"dataframe\">\n",
       "  <thead>\n",
       "    <tr style=\"text-align: right;\">\n",
       "      <th></th>\n",
       "      <th>Date</th>\n",
       "      <th>Time</th>\n",
       "      <th>EARLWOOD WDR 1h average [°]</th>\n",
       "      <th>EARLWOOD TEMP 1h average [°C]</th>\n",
       "      <th>EARLWOOD WSP 1h average [m/s]</th>\n",
       "      <th>EARLWOOD NO 1h average [pphm]</th>\n",
       "      <th>EARLWOOD NO2 1h average [pphm]</th>\n",
       "      <th>EARLWOOD CO 1h average [ppm]</th>\n",
       "      <th>EARLWOOD OZONE 1h average [pphm]</th>\n",
       "      <th>EARLWOOD OZONE 4h rolling average [pphm]</th>\n",
       "      <th>EARLWOOD PM10 1h average [µg/m³]</th>\n",
       "      <th>EARLWOOD PM2.5 1h average [µg/m³]</th>\n",
       "      <th>EARLWOOD HUMID 1h average [%]</th>\n",
       "      <th>EARLWOOD SD1 1h average [°]</th>\n",
       "      <th>EARLWOOD CO 8h rolling average [ppm]</th>\n",
       "    </tr>\n",
       "  </thead>\n",
       "  <tbody>\n",
       "    <tr>\n",
       "      <th>0</th>\n",
       "      <td>01/01/2017</td>\n",
       "      <td>01:00</td>\n",
       "      <td>152.3</td>\n",
       "      <td>22.6</td>\n",
       "      <td>0.4</td>\n",
       "      <td>0.0</td>\n",
       "      <td>0.4</td>\n",
       "      <td>NaN</td>\n",
       "      <td>2.0</td>\n",
       "      <td>2.1</td>\n",
       "      <td>23.6</td>\n",
       "      <td>7.0</td>\n",
       "      <td>87.2</td>\n",
       "      <td>49.01</td>\n",
       "      <td>NaN</td>\n",
       "    </tr>\n",
       "    <tr>\n",
       "      <th>1</th>\n",
       "      <td>01/01/2017</td>\n",
       "      <td>02:00</td>\n",
       "      <td>134.0</td>\n",
       "      <td>22.6</td>\n",
       "      <td>0.3</td>\n",
       "      <td>NaN</td>\n",
       "      <td>NaN</td>\n",
       "      <td>NaN</td>\n",
       "      <td>NaN</td>\n",
       "      <td>2.2</td>\n",
       "      <td>21.0</td>\n",
       "      <td>6.6</td>\n",
       "      <td>87.2</td>\n",
       "      <td>46.56</td>\n",
       "      <td>NaN</td>\n",
       "    </tr>\n",
       "  </tbody>\n",
       "</table>\n",
       "</div>"
      ],
      "text/plain": [
       "         Date   Time  EARLWOOD WDR 1h average [°]  \\\n",
       "0  01/01/2017  01:00                        152.3   \n",
       "1  01/01/2017  02:00                        134.0   \n",
       "\n",
       "   EARLWOOD TEMP 1h average [°C]  EARLWOOD WSP 1h average [m/s]  \\\n",
       "0                           22.6                            0.4   \n",
       "1                           22.6                            0.3   \n",
       "\n",
       "   EARLWOOD NO 1h average [pphm]  EARLWOOD NO2 1h average [pphm]  \\\n",
       "0                            0.0                             0.4   \n",
       "1                            NaN                             NaN   \n",
       "\n",
       "   EARLWOOD CO 1h average [ppm]  EARLWOOD OZONE 1h average [pphm]  \\\n",
       "0                           NaN                               2.0   \n",
       "1                           NaN                               NaN   \n",
       "\n",
       "   EARLWOOD OZONE 4h rolling average [pphm]  EARLWOOD PM10 1h average [µg/m³]  \\\n",
       "0                                       2.1                              23.6   \n",
       "1                                       2.2                              21.0   \n",
       "\n",
       "   EARLWOOD PM2.5 1h average [µg/m³]  EARLWOOD HUMID 1h average [%]  \\\n",
       "0                                7.0                           87.2   \n",
       "1                                6.6                           87.2   \n",
       "\n",
       "   EARLWOOD SD1 1h average [°]  EARLWOOD CO 8h rolling average [ppm]  \n",
       "0                        49.01                                   NaN  \n",
       "1                        46.56                                   NaN  "
      ]
     },
     "execution_count": 20,
     "metadata": {},
     "output_type": "execute_result"
    }
   ],
   "source": [
    "df2 = data.parse(0)  # Usando el índice de la hoja, (inicia en 0 como en una lista)\n",
    "\n",
    "df2.head(2)"
   ]
  },
  {
   "cell_type": "markdown",
   "id": "92a63c11",
   "metadata": {},
   "source": [
    "# Importación de archivos SAS/Stata usando pandas\n",
    "\n",
    "Existen muchos paquetes de software estadístico y, aunque es posible que no necesite hacerlo todo el tiempo. Será importante para usted, como cienfico de datos en activo, poder importar estos archivos a su entorno de Python.\n",
    "\n",
    "\n",
    "## Archivos SAS y Stata\n",
    "\n",
    "\n",
    "Los ejemplo más comunes son SAS, que es un acrónimo de \"Statistical Analysis System\" y Stata, es una contracción de \"Statistics\" y \"Data\".\n",
    "\n",
    "El primero se usa mucho en análisis de negocios y bioestadística, mientras que este último es popular en la investigación académica de la ciencias sociales, como la economia y la epidemiología.\n",
    "\n",
    "\n",
    "## Archivos SAS\n",
    "\n",
    "Los archivos SAS son importante porque SAs es un paquete de software que realiza analítica avanada, análisis multivariante, inteligencia empresarial, gestión de datos, análisis predictivo y es un estándar para que los estadísticos realicen análisis computacional.\n",
    "\n",
    "\n",
    "## Importar un Archivo SAS\n",
    "\n",
    "Los archivos SAS más comunes tiene la extensión `.sas7bdat` y `.sas7bcat`, que son archivos de conjunto de datos y archivos de catálogos respectivamente.\n",
    "\n",
    "Aprendera a importar los primeros como DataFrame usando la función `SAS7BDAT` del paquete `sas7bdat`.\n",
    "\n",
    "En este caso, puede vincular el archivo de variables a una conexión con el archivo \"sales.sas7bdat\" en un administrador de contexto. Dentro de este contexto, puede asignar a una variable df_sas el resultado de aplicar el método `.to_data_frame` al archivo."
   ]
  },
  {
   "cell_type": "code",
   "execution_count": 37,
   "id": "50ffde5e",
   "metadata": {
    "collapsed": true
   },
   "outputs": [
    {
     "name": "stdout",
     "output_type": "stream",
     "text": [
      "Note: you may need to restart the kernel to use updated packages.\n"
     ]
    },
    {
     "name": "stderr",
     "output_type": "stream",
     "text": [
      "ERROR: Invalid requirement: '#'\n"
     ]
    }
   ],
   "source": [
    "pip install sas7bdat  # Instalar libreria SAS7BDAT\n"
   ]
  },
  {
   "cell_type": "code",
   "execution_count": 40,
   "id": "518d0893",
   "metadata": {},
   "outputs": [
    {
     "data": {
      "text/html": [
       "<div>\n",
       "<style scoped>\n",
       "    .dataframe tbody tr th:only-of-type {\n",
       "        vertical-align: middle;\n",
       "    }\n",
       "\n",
       "    .dataframe tbody tr th {\n",
       "        vertical-align: top;\n",
       "    }\n",
       "\n",
       "    .dataframe thead th {\n",
       "        text-align: right;\n",
       "    }\n",
       "</style>\n",
       "<table border=\"1\" class=\"dataframe\">\n",
       "  <thead>\n",
       "    <tr style=\"text-align: right;\">\n",
       "      <th></th>\n",
       "      <th>YEAR</th>\n",
       "      <th>P</th>\n",
       "      <th>S</th>\n",
       "    </tr>\n",
       "  </thead>\n",
       "  <tbody>\n",
       "    <tr>\n",
       "      <th>0</th>\n",
       "      <td>1950.0</td>\n",
       "      <td>12.9</td>\n",
       "      <td>181.899994</td>\n",
       "    </tr>\n",
       "    <tr>\n",
       "      <th>1</th>\n",
       "      <td>1951.0</td>\n",
       "      <td>11.9</td>\n",
       "      <td>245.000000</td>\n",
       "    </tr>\n",
       "    <tr>\n",
       "      <th>2</th>\n",
       "      <td>1952.0</td>\n",
       "      <td>10.7</td>\n",
       "      <td>250.199997</td>\n",
       "    </tr>\n",
       "    <tr>\n",
       "      <th>3</th>\n",
       "      <td>1953.0</td>\n",
       "      <td>11.3</td>\n",
       "      <td>265.899994</td>\n",
       "    </tr>\n",
       "    <tr>\n",
       "      <th>4</th>\n",
       "      <td>1954.0</td>\n",
       "      <td>11.2</td>\n",
       "      <td>248.500000</td>\n",
       "    </tr>\n",
       "  </tbody>\n",
       "</table>\n",
       "</div>"
      ],
      "text/plain": [
       "     YEAR     P           S\n",
       "0  1950.0  12.9  181.899994\n",
       "1  1951.0  11.9  245.000000\n",
       "2  1952.0  10.7  250.199997\n",
       "3  1953.0  11.3  265.899994\n",
       "4  1954.0  11.2  248.500000"
      ]
     },
     "execution_count": 40,
     "metadata": {},
     "output_type": "execute_result"
    }
   ],
   "source": [
    "import pandas as pd\n",
    "\n",
    "from sas7bdat import SAS7BDAT\n",
    "\n",
    "with SAS7BDAT('./datasets/sales.sas7bdat') as file:\n",
    "    df_sas = file.to_data_frame()\n",
    "\n",
    "df_sas.head()\n",
    "    "
   ]
  },
  {
   "cell_type": "markdown",
   "id": "4463d827",
   "metadata": {},
   "source": [
    "# Importar Archivos Stata\n",
    "\n",
    "\n",
    "Los archivos Stata tienen extensión `.dta` y podemos importarlos usando pandas. Simplemente pasamos el nombre del archivo a la función `read_stata` y lo asignamos a una variable."
   ]
  },
  {
   "cell_type": "code",
   "execution_count": 41,
   "id": "390a6f98",
   "metadata": {},
   "outputs": [
    {
     "data": {
      "text/html": [
       "<div>\n",
       "<style scoped>\n",
       "    .dataframe tbody tr th:only-of-type {\n",
       "        vertical-align: middle;\n",
       "    }\n",
       "\n",
       "    .dataframe tbody tr th {\n",
       "        vertical-align: top;\n",
       "    }\n",
       "\n",
       "    .dataframe thead th {\n",
       "        text-align: right;\n",
       "    }\n",
       "</style>\n",
       "<table border=\"1\" class=\"dataframe\">\n",
       "  <thead>\n",
       "    <tr style=\"text-align: right;\">\n",
       "      <th></th>\n",
       "      <th>wbcode</th>\n",
       "      <th>country</th>\n",
       "      <th>disa1</th>\n",
       "      <th>disa2</th>\n",
       "      <th>disa3</th>\n",
       "      <th>disa4</th>\n",
       "      <th>disa5</th>\n",
       "      <th>disa6</th>\n",
       "      <th>disa7</th>\n",
       "      <th>disa8</th>\n",
       "      <th>...</th>\n",
       "      <th>disa16</th>\n",
       "      <th>disa17</th>\n",
       "      <th>disa18</th>\n",
       "      <th>disa19</th>\n",
       "      <th>disa20</th>\n",
       "      <th>disa21</th>\n",
       "      <th>disa22</th>\n",
       "      <th>disa23</th>\n",
       "      <th>disa24</th>\n",
       "      <th>disa25</th>\n",
       "    </tr>\n",
       "  </thead>\n",
       "  <tbody>\n",
       "    <tr>\n",
       "      <th>0</th>\n",
       "      <td>AFG</td>\n",
       "      <td>Afghanistan</td>\n",
       "      <td>0.00</td>\n",
       "      <td>0.00</td>\n",
       "      <td>0.76</td>\n",
       "      <td>0.73</td>\n",
       "      <td>0.0</td>\n",
       "      <td>0.00</td>\n",
       "      <td>0.00</td>\n",
       "      <td>0.0</td>\n",
       "      <td>...</td>\n",
       "      <td>0.0</td>\n",
       "      <td>0.0</td>\n",
       "      <td>0.0</td>\n",
       "      <td>0.00</td>\n",
       "      <td>0.00</td>\n",
       "      <td>0.0</td>\n",
       "      <td>0.00</td>\n",
       "      <td>0.02</td>\n",
       "      <td>0.00</td>\n",
       "      <td>0.00</td>\n",
       "    </tr>\n",
       "    <tr>\n",
       "      <th>1</th>\n",
       "      <td>AGO</td>\n",
       "      <td>Angola</td>\n",
       "      <td>0.32</td>\n",
       "      <td>0.02</td>\n",
       "      <td>0.56</td>\n",
       "      <td>0.00</td>\n",
       "      <td>0.0</td>\n",
       "      <td>0.00</td>\n",
       "      <td>0.56</td>\n",
       "      <td>0.0</td>\n",
       "      <td>...</td>\n",
       "      <td>0.0</td>\n",
       "      <td>0.4</td>\n",
       "      <td>0.0</td>\n",
       "      <td>0.61</td>\n",
       "      <td>0.00</td>\n",
       "      <td>0.0</td>\n",
       "      <td>0.99</td>\n",
       "      <td>0.98</td>\n",
       "      <td>0.61</td>\n",
       "      <td>0.00</td>\n",
       "    </tr>\n",
       "    <tr>\n",
       "      <th>2</th>\n",
       "      <td>ALB</td>\n",
       "      <td>Albania</td>\n",
       "      <td>0.00</td>\n",
       "      <td>0.00</td>\n",
       "      <td>0.02</td>\n",
       "      <td>0.00</td>\n",
       "      <td>0.0</td>\n",
       "      <td>0.00</td>\n",
       "      <td>0.00</td>\n",
       "      <td>0.0</td>\n",
       "      <td>...</td>\n",
       "      <td>0.0</td>\n",
       "      <td>0.0</td>\n",
       "      <td>0.0</td>\n",
       "      <td>0.00</td>\n",
       "      <td>0.00</td>\n",
       "      <td>0.0</td>\n",
       "      <td>0.00</td>\n",
       "      <td>0.00</td>\n",
       "      <td>0.00</td>\n",
       "      <td>0.16</td>\n",
       "    </tr>\n",
       "    <tr>\n",
       "      <th>3</th>\n",
       "      <td>ARE</td>\n",
       "      <td>United Arab Emirates</td>\n",
       "      <td>0.00</td>\n",
       "      <td>0.00</td>\n",
       "      <td>0.00</td>\n",
       "      <td>0.00</td>\n",
       "      <td>0.0</td>\n",
       "      <td>0.00</td>\n",
       "      <td>0.00</td>\n",
       "      <td>0.0</td>\n",
       "      <td>...</td>\n",
       "      <td>0.0</td>\n",
       "      <td>0.0</td>\n",
       "      <td>0.0</td>\n",
       "      <td>0.00</td>\n",
       "      <td>0.00</td>\n",
       "      <td>0.0</td>\n",
       "      <td>0.00</td>\n",
       "      <td>0.00</td>\n",
       "      <td>0.00</td>\n",
       "      <td>0.00</td>\n",
       "    </tr>\n",
       "    <tr>\n",
       "      <th>4</th>\n",
       "      <td>ARG</td>\n",
       "      <td>Argentina</td>\n",
       "      <td>0.00</td>\n",
       "      <td>0.24</td>\n",
       "      <td>0.24</td>\n",
       "      <td>0.00</td>\n",
       "      <td>0.0</td>\n",
       "      <td>0.23</td>\n",
       "      <td>0.00</td>\n",
       "      <td>0.0</td>\n",
       "      <td>...</td>\n",
       "      <td>0.0</td>\n",
       "      <td>0.0</td>\n",
       "      <td>0.0</td>\n",
       "      <td>0.00</td>\n",
       "      <td>0.05</td>\n",
       "      <td>0.0</td>\n",
       "      <td>0.00</td>\n",
       "      <td>0.01</td>\n",
       "      <td>0.00</td>\n",
       "      <td>0.11</td>\n",
       "    </tr>\n",
       "  </tbody>\n",
       "</table>\n",
       "<p>5 rows × 27 columns</p>\n",
       "</div>"
      ],
      "text/plain": [
       "  wbcode               country  disa1  disa2  disa3  disa4  disa5  disa6  \\\n",
       "0    AFG           Afghanistan   0.00   0.00   0.76   0.73    0.0   0.00   \n",
       "1    AGO                Angola   0.32   0.02   0.56   0.00    0.0   0.00   \n",
       "2    ALB               Albania   0.00   0.00   0.02   0.00    0.0   0.00   \n",
       "3    ARE  United Arab Emirates   0.00   0.00   0.00   0.00    0.0   0.00   \n",
       "4    ARG             Argentina   0.00   0.24   0.24   0.00    0.0   0.23   \n",
       "\n",
       "   disa7  disa8  ...  disa16  disa17  disa18  disa19  disa20  disa21  disa22  \\\n",
       "0   0.00    0.0  ...     0.0     0.0     0.0    0.00    0.00     0.0    0.00   \n",
       "1   0.56    0.0  ...     0.0     0.4     0.0    0.61    0.00     0.0    0.99   \n",
       "2   0.00    0.0  ...     0.0     0.0     0.0    0.00    0.00     0.0    0.00   \n",
       "3   0.00    0.0  ...     0.0     0.0     0.0    0.00    0.00     0.0    0.00   \n",
       "4   0.00    0.0  ...     0.0     0.0     0.0    0.00    0.05     0.0    0.00   \n",
       "\n",
       "   disa23  disa24  disa25  \n",
       "0    0.02    0.00    0.00  \n",
       "1    0.98    0.61    0.00  \n",
       "2    0.00    0.00    0.16  \n",
       "3    0.00    0.00    0.00  \n",
       "4    0.01    0.00    0.11  \n",
       "\n",
       "[5 rows x 27 columns]"
      ]
     },
     "execution_count": 41,
     "metadata": {},
     "output_type": "execute_result"
    }
   ],
   "source": [
    "import pandas as pd\n",
    "\n",
    "data = pd.read_stata('./datasets/disarea.dta')\n",
    "\n",
    "data.head()"
   ]
  },
  {
   "cell_type": "markdown",
   "id": "020bdb6c",
   "metadata": {},
   "source": [
    "# Importación de archivos HDF5\n",
    "\n",
    " \n",
    "##  Archivos HDF5\n",
    "\n",
    "En el mundo de Python, el consenso está convergiendo rápidamente en la versión de formato de datos jerárquicos 5, o \"HDF5\", como el mecanismo estándar para almacenar grandes cantidades de datos numéricos.\n",
    "\n",
    "\n",
    "* **De qué tamaño estamos hablando aquí?**\n",
    "\n",
    "\n",
    "Ahora es relativamente común tratar con conjuntos de datos de cientos de gigabytes o inclusos terabytes de tamaño; HDF5 en sí mismo puede escalar hasta exabytes.\n",
    "\n",
    "\n",
    "\n",
    "Exploremos con un ejemplo concreto de LIGO, el proyecto del Observatorio de ondas gravitacionales con interferómetro láser.\n",
    "\n",
    "\n",
    "## Importar Archivo HDF5\n",
    "\n",
    "\n",
    "Primero importar el paquete h5py y luego importar el archivo usando `h5py.File()`, recordando usar `\"r\"` para especificar solo lectura. \n",
    "\n",
    "Imprimir el tipo de datos revela que estamos tratando con un archivo `h5py`."
   ]
  },
  {
   "cell_type": "code",
   "execution_count": 10,
   "id": "6d26d3b0",
   "metadata": {},
   "outputs": [
    {
     "name": "stdout",
     "output_type": "stream",
     "text": [
      "<class 'h5py._hl.files.File'>\n"
     ]
    }
   ],
   "source": [
    "import h5py\n",
    "import numpy as np\n",
    "\n",
    "filename = './datasets/L-L1_LOSC_4_V1-1126259446-32.hdf5'\n",
    "\n",
    "data = h5py.File(filename, 'r') # 'r' es para leer\n",
    "\n",
    "print(type(data))"
   ]
  },
  {
   "cell_type": "markdown",
   "id": "00640586",
   "metadata": {},
   "source": [
    "## La estructura del Archivo HDF5\n",
    "\n",
    "\n",
    "Pero, ¿cuál es la estructura de este archivo?\n",
    "\n",
    "Puede explorar su estructura jerárquica como lo haría con un diccionario de Python usando el método de `.keys()`."
   ]
  },
  {
   "cell_type": "code",
   "execution_count": 6,
   "id": "8bf522f4",
   "metadata": {},
   "outputs": [
    {
     "name": "stdout",
     "output_type": "stream",
     "text": [
      "meta\n",
      "quality\n",
      "strain\n"
     ]
    }
   ],
   "source": [
    "for key in data.keys():\n",
    "    print(key)"
   ]
  },
  {
   "cell_type": "markdown",
   "id": "12fa739c",
   "metadata": {},
   "source": [
    "Ves que hay tres claves, meta, calidad y tensión. Cada uno de estos es un grupo HDF. Puede pensar en estos grupos como diccionarios.\n",
    "\n",
    "La documentación de LIGO nos dice que 'meta' contiene metadatos para el archivo, 'calidad' contiene información sobre la calidad de los datos y 'tensión' contiene 'datos de tensión del inferómetro', la principal medida realizada por LIGO, los datos de interés. \n",
    "\n",
    "Si supiera qué datos y metadatos deberían estar en cada grupo, podría acceder a ellos directamente. Sin embargo, si no, debido a la naturaleza jerárquica de la estructura de archivos, es fácil de explorar.\n",
    "\n",
    "Por ejemplo:\n",
    "\n",
    "Digamos que desea averiguar qué tipo de metadatos hay, podría imprimir fácilmente las claves."
   ]
  },
  {
   "cell_type": "code",
   "execution_count": 8,
   "id": "cbdca443",
   "metadata": {
    "scrolled": true
   },
   "outputs": [
    {
     "name": "stdout",
     "output_type": "stream",
     "text": [
      "Description\n",
      "DescriptionURL\n",
      "Detector\n",
      "Duration\n",
      "GPSstart\n",
      "Observatory\n",
      "Type\n",
      "UTCstart\n"
     ]
    }
   ],
   "source": [
    "for key in data['meta'].keys():\n",
    "    print(key)"
   ]
  },
  {
   "cell_type": "markdown",
   "id": "4cc4205f",
   "metadata": {},
   "source": [
    "Ahora que conoce las claves, puede acceder a cualquier metadato de su interés. Si está interesado en 'Description' y 'Detector', puede pasar estas claves para la función `np.array()` para convertir los valores en una matriz Numpy."
   ]
  },
  {
   "cell_type": "code",
   "execution_count": 16,
   "id": "b07a3a6a",
   "metadata": {},
   "outputs": [
    {
     "name": "stdout",
     "output_type": "stream",
     "text": [
      "b'Strain data time series from LIGO' b'L1'\n"
     ]
    }
   ],
   "source": [
    "print(np.array(data['meta']['Description']),  np.array(data['meta']['Detector']))"
   ]
  },
  {
   "cell_type": "markdown",
   "id": "1d3b4de9",
   "metadata": {},
   "source": [
    "Verá que los datos en el archivo son \"Serie temporal de datos de tensión de LIGO\" y que el detector utilizado fue \"L1\".\n"
   ]
  },
  {
   "cell_type": "markdown",
   "id": "ed9bcc28",
   "metadata": {},
   "source": [
    "# Importación de Archivos MATLAB\n",
    "\n",
    "\n",
    "MATLAB, que significa Matrix Laboratory, es un ambiente de computación numérica que es un estándar de la industria en las disciplinas de la ingenieria y la ciencia. Esto se debe en parte a sus poderosas capacidades de matriz y álgebra lineal, en parte a su naturaleza propietaria y en parte a lo difícil que le resulta al mundo académico deshacerse de los viejo hábitos.\n",
    "\n",
    "Independientemente de las razones de su uso generalizado, el hecho es que una gran cantidad de la gente usa MATLAB y guarda sus datos como archivos `.mat`, el formato de archivo nativo de MATLAB. \n",
    "\n",
    "* **¿Cómo puedes importarlos a Python?**\n",
    "\n",
    "Afortunadamente para nosotros, la biblioteca estándar `scipy` tiene funciones `loadmat` y `savemat`, que nos permite leer y escribir archivos `.mat`, respectivamente.\n",
    "\n",
    "\n",
    "## Qué hay en un archivo `.mat`?\n",
    "\n",
    "* **¿Qué hay exactamente en un archivo `.mat`?**\n",
    "\n",
    "Para responder esto, veamos el IDE de MATLAB.\n",
    "\n",
    "En particular, consulte el espacio de trabajo de MATLAB donde se almacenan todas sus variables. Este espacio de trabajo puede contener cadenas, flotantes, vectores y matrices, entre muchos otros objetos.\n",
    "\n",
    "Un archivo `.mat` es simplemente una colección de dicho objetos.\n",
    "\n",
    "## Importar un archivo `.mat`\n",
    "\n",
    "Ahora bien, esto significa que al importar un archivo `.mat` en Python, debe esperar ver una serie de diferentes variables y objetos.\n",
    "\n",
    "En este código, primero importo `scipy.io` y luego cargo el archivo `ja_data2.mat`. Verificar qué tipo de objeto da como resultado me dice que es un diccionario.\n",
    "\n",
    "La forma en que este diccionario se relaciona con un espacio de trabajo e MATLAB es sencilla: Las claves del diccionario de Python son los nombres de las variables de MATLAB y los valores del diccionario de Python son los objetos que se asignan a las variables.\n",
    "\n",
    "* **Llaves:** Nombre de variables de MATLAB.\n",
    "\n",
    "* **Valores:** Objetos que se le asignan a las variables.\n",
    "\n",
    "En el ejemplo anterior,"
   ]
  },
  {
   "cell_type": "code",
   "execution_count": 18,
   "id": "6af2f0c4",
   "metadata": {},
   "outputs": [
    {
     "name": "stdout",
     "output_type": "stream",
     "text": [
      "<class 'dict'>\n"
     ]
    }
   ],
   "source": [
    "import scipy.io\n",
    "\n",
    "filename = './datasets/ja_data2.mat'\n",
    "\n",
    "mat = scipy.io.loadmat(filename)\n",
    "\n",
    "print(type(mat))"
   ]
  },
  {
   "cell_type": "code",
   "execution_count": 27,
   "id": "caa115a9",
   "metadata": {},
   "outputs": [
    {
     "name": "stdout",
     "output_type": "stream",
     "text": [
      "{'__header__': b'MATLAB 5.0 MAT-file, Platform: PCWIN64, Created on: Tue Nov 24 17:35:19 2015', '__version__': '1.0', '__globals__': [], 'rfpCyt': array([[  0.        , 238.62933333, 238.62264151, ..., 250.17403315,\n",
      "        249.05801105, 251.3489011 ],\n",
      "       [  0.        , 291.7718254 , 292.006     , ..., 269.99239544,\n",
      "        271.32044199, 271.26086957],\n",
      "       [  0.        , 252.45212766, 253.34851138, ..., 225.76428571,\n",
      "        224.02909091, 226.38103757],\n",
      "       ...,\n",
      "       [  0.        ,   0.        ,   0.        , ...,   0.        ,\n",
      "          0.        ,   0.        ],\n",
      "       [  0.        , 373.45756458, 377.05420561, ...,   0.        ,\n",
      "          0.        ,   0.        ],\n",
      "       [  0.        , 415.25079365,   0.        , ..., 407.76514032,\n",
      "        402.54331865, 409.40528634]]), 'rfpNuc': array([[  0.        , 183.34256055, 187.84859155, ..., 200.62101911,\n",
      "        198.79566563, 201.73566879],\n",
      "       [  0.        , 191.7195122 , 189.11340206, ..., 183.73829787,\n",
      "        187.35918367, 189.04320988],\n",
      "       [  0.        , 174.97307692, 174.79961464, ..., 157.78478664,\n",
      "        157.32887189, 157.59962049],\n",
      "       ...,\n",
      "       [  0.        ,   0.        ,   0.        , ...,   0.        ,\n",
      "          0.        ,   0.        ],\n",
      "       [  0.        , 247.48251748, 249.63270142, ...,   0.        ,\n",
      "          0.        ,   0.        ],\n",
      "       [  0.        , 280.50465839,   0.        , ..., 249.66157761,\n",
      "        247.85316456, 250.16287879]]), 'cfpNuc': array([[  0.        , 844.75086505, 874.15492958, ..., 710.70382166,\n",
      "        715.50154799, 727.59872611],\n",
      "       [  0.        , 643.34878049, 641.84020619, ..., 583.27021277,\n",
      "        603.84897959, 608.45679012],\n",
      "       [  0.        , 487.2       , 486.08863198, ..., 435.80705009,\n",
      "        431.29063098, 439.29222011],\n",
      "       ...,\n",
      "       [  0.        ,   0.        ,   0.        , ...,   0.        ,\n",
      "          0.        ,   0.        ],\n",
      "       [  0.        , 535.31235431, 541.69194313, ...,   0.        ,\n",
      "          0.        ,   0.        ],\n",
      "       [  0.        , 793.31832298,   0.        , ..., 584.53435115,\n",
      "        577.9835443 , 599.96085859]]), 'cfpCyt': array([[   0.        , 1519.37866667, 1518.73045822, ..., 1354.96132597,\n",
      "        1352.75966851, 1367.18681319],\n",
      "       [   0.        , 1175.74007937, 1176.164     , ..., 1098.57984791,\n",
      "        1109.05893186, 1111.66847826],\n",
      "       [   0.        ,  856.7535461 ,  856.88091068, ...,  736.54821429,\n",
      "         738.08909091,  746.82110912],\n",
      "       ...,\n",
      "       [   0.        ,    0.        ,    0.        , ...,    0.        ,\n",
      "           0.        ,    0.        ],\n",
      "       [   0.        ,  908.85424354,  920.44859813, ...,    0.        ,\n",
      "           0.        ,    0.        ],\n",
      "       [   0.        , 1256.34603175,    0.        , ..., 1128.29542097,\n",
      "        1122.6328928 , 1170.41703377]]), 'yfpNuc': array([[  0.        , 532.3633218 , 551.92253521, ..., 495.13375796,\n",
      "        497.89783282, 507.28025478],\n",
      "       [  0.        , 448.39268293, 448.56958763, ..., 399.82553191,\n",
      "        417.9244898 , 421.81069959],\n",
      "       [  0.        , 307.85576923, 308.32177264, ..., 283.20222635,\n",
      "        281.00382409, 285.47628083],\n",
      "       ...,\n",
      "       [  0.        ,   0.        ,   0.        , ...,   0.        ,\n",
      "          0.        ,   0.        ],\n",
      "       [  0.        , 326.36363636, 330.20379147, ...,   0.        ,\n",
      "          0.        ,   0.        ],\n",
      "       [  0.        , 502.60869565,   0.        , ..., 418.83842239,\n",
      "        417.3721519 , 426.93434343]]), 'yfpCyt': array([[  0.        , 951.432     , 944.48787062, ..., 939.66022099,\n",
      "        936.        , 949.12912088],\n",
      "       [  0.        , 840.49801587, 836.542     , ..., 767.11596958,\n",
      "        781.38489871, 780.76811594],\n",
      "       [  0.        , 578.08865248, 577.66725044, ..., 509.98035714,\n",
      "        512.38181818, 515.31127013],\n",
      "       ...,\n",
      "       [  0.        ,   0.        ,   0.        , ...,   0.        ,\n",
      "          0.        ,   0.        ],\n",
      "       [  0.        , 577.48708487, 590.89719626, ...,   0.        ,\n",
      "          0.        ,   0.        ],\n",
      "       [  0.        , 812.01904762,   0.        , ..., 901.44756278,\n",
      "        896.88399413, 920.85756241]]), 'CYratioCyt': array([[0.        , 1.53071547, 1.54297013, ..., 1.34990123, 1.35329984,\n",
      "        1.34922173],\n",
      "       [0.        , 1.28605578, 1.29385656, ..., 1.31307311, 1.30039694,\n",
      "        1.30563938],\n",
      "       [0.        , 1.32731222, 1.32884617, ..., 1.24887565, 1.24506205,\n",
      "        1.25825831],\n",
      "       ...,\n",
      "       [0.        , 0.        , 0.        , ..., 0.        , 0.        ,\n",
      "        0.        ],\n",
      "       [0.        , 1.44552606, 1.42862357, ..., 0.        , 0.        ,\n",
      "        0.        ],\n",
      "       [0.        , 1.45794466, 0.        , ..., 1.1229479 , 1.12224652,\n",
      "        1.1486481 ]])}\n"
     ]
    }
   ],
   "source": [
    "print(mat)"
   ]
  },
  {
   "cell_type": "code",
   "execution_count": 37,
   "id": "83e40919",
   "metadata": {},
   "outputs": [
    {
     "name": "stdout",
     "output_type": "stream",
     "text": [
      "b'MATLAB 5.0 MAT-file, Platform: PCWIN64, Created on: Tue Nov 24 17:35:19 2015' \n",
      "\n",
      "\n",
      "[[0.         1.53071547 1.54297013 ... 1.34990123 1.35329984 1.34922173]\n",
      " [0.         1.28605578 1.29385656 ... 1.31307311 1.30039694 1.30563938]\n",
      " [0.         1.32731222 1.32884617 ... 1.24887565 1.24506205 1.25825831]\n",
      " ...\n",
      " [0.         0.         0.         ... 0.         0.         0.        ]\n",
      " [0.         1.44552606 1.42862357 ... 0.         0.         0.        ]\n",
      " [0.         1.45794466 0.         ... 1.1229479  1.12224652 1.1486481 ]]\n"
     ]
    }
   ],
   "source": [
    "print(mat['__header__'], '\\n\\n')\n",
    "\n",
    "\n",
    "print(mat['CYratioCyt'])"
   ]
  },
  {
   "cell_type": "markdown",
   "id": "52ac11b5",
   "metadata": {},
   "source": [
    "# Introducción a las bases de datos relacionales\n",
    "\n",
    "\n",
    "## ¿Qué es una base de datos relacional?\n",
    "\n",
    "Es un tipo de base de datos que se basa en el modelo de datos relacional, descripto por primer vez por Ted Codd a finales de la década de 1960.\n",
    "\n",
    "## Ejemplo: Base de datos Northwind \n",
    "\n",
    "\n",
    "Base de datos de Northwind Traders, una base de datos sntética que contiene datos de ventas de una empresa ficticia.\n",
    "\n",
    "\n",
    "<img src=\".\\img_3\\5.png\" width=\"650px\" height=\"350px\">\n",
    "\n",
    "En primer lugar, una base de datos consta de tablas. Aquí puede ver 3 tablas de la base de datos Northwind: \n",
    "\n",
    "* Ordenes\n",
    "* Clientes\n",
    "* Empleados\n",
    "\n",
    "**Entonces, ¿qué es una tabla?**\n",
    "\n",
    "Una tabla generalmente representa un tipo de entidad. Como \"Orden\"\n",
    "\n",
    "\n",
    "## La tabla de \"ordenes\"\n",
    "\n",
    "<img src=\".\\img_3\\6.png\" width=\"550px\" height=\"350px\">\n",
    "\n",
    "Tenga en cuenta que esta tabla se parece mucho a un DataFrame. Ese es el punto. En una tabla de base de datos relacional, cada fila o registro representa una instancia del tipo de entidad: en este caso, cada fila es una Orden. Cada columna representa un atributo de cada instancia, como \"OrderDate\" en el caso de \"Orders\".\n",
    "\n",
    "En este sentido, una tabla es completamente análoga a un DataFrame. Es esencial que cada fila contenga un identificador único, conocido como `clave principal`, que podemos usar para acceder explícitamente a la fila en cuestión.\n",
    "\n",
    "En nuestra tabla de \"Ordenes\", puede ver que la clave es \"OrderID\" la primera columna. Pero recuerde que una base de datos consta de muchas tablas.\n",
    "\n",
    "Lo realmente genial de las bases de datos relacionales no es simplemente que tienen un mónton de tablas, lo es que las tablas están enlazadas.\n",
    "\n",
    "<img src=\".\\img_3\\7.png\" width=\"550px\" height=\"350px\">\n",
    "\n",
    "Cómo funcionan este enlace es ultra-intuitivo: vea que la tabla de \"Ordenes\" tiene una columna llamada \"CustomerID\" como otra llamada \"EmployeeID\". Estas columnas corresponden precisamente a las claves primaria en las tablas \"Clientes\" y \"Empleados\", respectivamente.\n",
    "\n",
    "Entonces, dado que un Pedido, puede buscar inmediatamente los detalles del Cliente o Empleado relevante. Esto es genial porque significa que no necesita almacenar todos los detalles del Cliente, como el nombre, apellido, empresa con cada pedido que hacer: solo tienes que buscarlo en la tabla \"Clientes\". Esto ahorra una cantidad increible de espacio.\n",
    "\n",
    "\n",
    "\n",
    "## Modelo Relacional\n",
    "\n",
    "\n",
    "Como se indicó anteriormente, el modelo de base de datos relacional fue propuesto originalmente por \"Ted Codd\" y ha sido ampliamente adoptado. Hay mucho en la teoría, pero está más claramente resumido en las 12 reglas de Codd, también conodidas como los 12 Mandamientos de Codd, que desarrolló a principios de 1980 para combatir lo que él veía como una dilución de su visión original de base de datos relacional.\n",
    "\n",
    "Las 12 reglas de Codd en realidad consisten en 13 reglas pero tienen un índice cero, es decir, la primer regla tiene un índice cero.\n",
    "\n",
    "\n",
    "Estas 13 reglas se definieron para describir qué es una base de datos relacional.  \n",
    "\n",
    "El Sistema de Gestión debe cumplir para ser considerado relacional.\n",
    "\n",
    "\n",
    "## Sistemas de gestión de bases de datos relacionales\n",
    "\n",
    "Entre los más populare e tales sistemas están PostgreSQL, Mysql y SQLite, todos los cuales utilizan el lenguaje de consulta SQL. De echo, SQL en sí mismo es en realidad un acrónimo para el lenguaje (Language) de consulta (Query) estructurado (Structured), que describe cómo te comunicas con una base de datos para acceder y actualizar la información que contiene.\n",
    "\n",
    "El término \"Consultad\" es realmente una forma elegante de decir obtener datos de la base de datos."
   ]
  },
  {
   "cell_type": "markdown",
   "id": "f52f2976",
   "metadata": {},
   "source": [
    "# Creando un motor de base de datos en Python\n",
    "\n",
    "\n",
    "Lo que realmente queremos hacer es obtener datos de nuestra base de datos utilizando SQL o el lenguaje de consulta estructurado.\n",
    "\n",
    "## Crear un motor de base de datos\n",
    "\n",
    "Usaremos una base de datos SQLite como ejemplo porque SQLite es rápido y simple mientras que contien suficiente funcionalidad para presentarle todos los conceptos necesarios para consultar una base de datos.\n",
    "\n",
    "\n",
    "Hay muchos paquetes que podríamos usar para acceder a una base de datos SQLite como sqlite3 y SQLAlchemy.\n",
    "\n",
    "Usaremos SQLAlchemy, ya que funciona con mucho otros sistemas de administración de bases de datos relacionales, como POSTgres y MySQL.\n",
    "\n",
    "\n",
    "Para conectarse a \"Chinook.sqlite\", necesitamos importar la función relevante `create_engine()` del paquete SQLAlchemy.\n",
    "\n",
    "Luego usamos la función `create_engine()` para iniciar un motor SQL que comunicará nuestras consultas a la base de datos. El único argumento requerido de `create_engine()` es una cadena que indica el tipo de base de datos a la que se está conectando y el nombre de la base de datos. A continuación, para consultar la base de datos, debemos conectarnos al motor para hacerlo. Pero antes de hacer esto, nos gustaria saber el nombre de las tablas que contiene."
   ]
  },
  {
   "cell_type": "code",
   "execution_count": 6,
   "id": "5c160dea",
   "metadata": {},
   "outputs": [],
   "source": [
    "from sqlalchemy import create_engine\n",
    "\n",
    "engine = create_engine('sqlite:///./datasets/Chinook.sqlite')\n",
    "\n"
   ]
  },
  {
   "cell_type": "markdown",
   "id": "7a6f6c61",
   "metadata": {},
   "source": [
    "## Obtener nombres de las tablas\n",
    "\n",
    "Para ello, aplique el método `table_names()` al motor de objetos. Esto devolverá una lista de los nombre de las tablas que luego puede imprimir en la consola."
   ]
  },
  {
   "cell_type": "code",
   "execution_count": 7,
   "id": "6193edcf",
   "metadata": {},
   "outputs": [
    {
     "name": "stdout",
     "output_type": "stream",
     "text": [
      "['Album', 'Artist', 'Customer', 'Employee', 'Genre', 'Invoice', 'InvoiceLine', 'MediaType', 'Playlist', 'PlaylistTrack', 'Track']\n"
     ]
    },
    {
     "name": "stderr",
     "output_type": "stream",
     "text": [
      "C:\\Users\\fer_s\\AppData\\Local\\Temp\\ipykernel_13368\\865887770.py:1: SADeprecationWarning: The Engine.table_names() method is deprecated and will be removed in a future release.  Please refer to Inspector.get_table_names(). (deprecated since: 1.4)\n",
      "  table_names = engine.table_names()\n"
     ]
    }
   ],
   "source": [
    "table_names = engine.table_names()\n",
    "print(table_names)"
   ]
  },
  {
   "cell_type": "markdown",
   "id": "5c96f354",
   "metadata": {},
   "source": [
    "# Consultando bases de datos relacionales en Python\n",
    "\n",
    "Ahora que ha descubierto cómo crear un motor de base de datos y enumerar las tablas de la base de datos en cuestión, es hora de conectarse al motor y consultar la base de datos.\n",
    "\n",
    "Una vez más, el término \"consultar\" es solo una forma elegante de decir obtener datos de la base de datos.\n",
    "\n",
    "\n",
    "## Consultas basicas de SQL\n",
    "\n",
    "\n",
    "El \"Hola mundo\" de consultas SQL es 'SELECT * FROM Table_Nane', donde 'Table_name' es el nombre de cualquiera de las tablas en la base de datos.\n",
    "\n",
    "Esta consulta devuelve todas las columnas de todas las filas de la tabla de interés.\n",
    "\n",
    "`SELECT * FROM Table_name`\n",
    "\n",
    "Por ejemplo, podría consultar la base de datos Northwind con `SELECT * FROM Orders` y esto devolvería todas la columnas de todas las filas de la tabla \"Ordenes\". El Asterisco (`*`) después de SELECT significa \"todas las columnas\".\n",
    "\n",
    "Esta es una consulta SQL y necesitamos descubrir cómo hacer dicha consulta usando Python, SQLAlchemy y, de hecho, también usaremos pandas para almacenar los resultados de nuestras consultas.\n",
    "\n",
    "## Flujo de trabajo de las consultas SQL\n",
    "\n",
    "El flujo de trabajo será el siguiente:\n",
    "\n",
    "Importara los paquetes y funciones requeridos, creará el motor, se concetará a él, consultara la base de datos, guardara los resultados de la consulta en un DataFrame y cerrara la conexión.\n",
    "\n",
    "\n",
    "* 1) **Importara paquetes y funciones**\n",
    "* 2) **Creará el motor de base de datos**\n",
    "* 3) **Se conectará al motor**\n",
    "* 4) **Consultara la base de datos**\n",
    "* 5) **Guardara los resultados en un DataFrame**\n",
    "* 6) **Cerrara la conexión**\n",
    "\n",
    "\n",
    "## Su primero consulta SQL\n",
    "\n",
    "Cree el motor usando la función `create_engine()`. Para conectarse a la base de datos después de crear el motor, cree un objeto de conexión aplicando el método `.connect()` al motor.\n",
    "\n",
    "Para consultar la base de datos, aplique el método de ejecución a la conexión `con` y pásele un solo argumento, la consulta SQL relevante; Esto creara un objeto de resultado de SQLAlchemy que asignamos a la variable `rs`.\n",
    "\n",
    "Para convertir el objeto de resultado `rs` en un DataFrame, aplicamos el método `fetchall()` a `rs` y guárdelo como un DataFrame usando la función de pandas `.DataFrame()`. `fetchall()` obtiene todas las filas, como era de esperar. \n",
    "\n",
    "Para cerrar la conexión, ejecute `con.close()`.\n",
    "\n"
   ]
  },
  {
   "cell_type": "code",
   "execution_count": 2,
   "id": "c3175e2e",
   "metadata": {},
   "outputs": [],
   "source": [
    "# Paso N° 1\n",
    "from sqlalchemy import create_engine\n",
    "import pandas as pd\n",
    "\n",
    "# Paso N° 2\n",
    "engine = create_engine('sqlite:///./datasets/Chinook.sqlite')\n",
    "\n",
    "# Paso N°3\n",
    "con = engine.connect()\n",
    "\n",
    "# Paso N° 4\n",
    "rs = con.execute('SELECT * FROM Album')\n",
    "\n",
    "# Paso N° 5\n",
    "\n",
    "df = pd.DataFrame(rs.fetchall())\n",
    "\n",
    "# Paso N° 6\n",
    "con.close()"
   ]
  },
  {
   "cell_type": "markdown",
   "id": "02c449c4",
   "metadata": {},
   "source": [
    "## Imprimir los resultados de la consulta\n",
    "\n",
    "A continuacion puede imprimir el encabezado del DataFrame, como hemos hecho antes, como prueba de cordura: todas las filas se ven bien pero los nombres de las columnas no son correctos (Podria aparecerme con números como en los índices.)."
   ]
  },
  {
   "cell_type": "code",
   "execution_count": 5,
   "id": "bbd0db18",
   "metadata": {},
   "outputs": [
    {
     "data": {
      "text/html": [
       "<div>\n",
       "<style scoped>\n",
       "    .dataframe tbody tr th:only-of-type {\n",
       "        vertical-align: middle;\n",
       "    }\n",
       "\n",
       "    .dataframe tbody tr th {\n",
       "        vertical-align: top;\n",
       "    }\n",
       "\n",
       "    .dataframe thead th {\n",
       "        text-align: right;\n",
       "    }\n",
       "</style>\n",
       "<table border=\"1\" class=\"dataframe\">\n",
       "  <thead>\n",
       "    <tr style=\"text-align: right;\">\n",
       "      <th></th>\n",
       "      <th>AlbumId</th>\n",
       "      <th>Title</th>\n",
       "      <th>ArtistId</th>\n",
       "    </tr>\n",
       "  </thead>\n",
       "  <tbody>\n",
       "    <tr>\n",
       "      <th>0</th>\n",
       "      <td>1</td>\n",
       "      <td>For Those About To Rock We Salute You</td>\n",
       "      <td>1</td>\n",
       "    </tr>\n",
       "    <tr>\n",
       "      <th>1</th>\n",
       "      <td>2</td>\n",
       "      <td>Balls to the Wall</td>\n",
       "      <td>2</td>\n",
       "    </tr>\n",
       "    <tr>\n",
       "      <th>2</th>\n",
       "      <td>3</td>\n",
       "      <td>Restless and Wild</td>\n",
       "      <td>2</td>\n",
       "    </tr>\n",
       "    <tr>\n",
       "      <th>3</th>\n",
       "      <td>4</td>\n",
       "      <td>Let There Be Rock</td>\n",
       "      <td>1</td>\n",
       "    </tr>\n",
       "    <tr>\n",
       "      <th>4</th>\n",
       "      <td>5</td>\n",
       "      <td>Big Ones</td>\n",
       "      <td>3</td>\n",
       "    </tr>\n",
       "  </tbody>\n",
       "</table>\n",
       "</div>"
      ],
      "text/plain": [
       "   AlbumId                                  Title  ArtistId\n",
       "0        1  For Those About To Rock We Salute You         1\n",
       "1        2                      Balls to the Wall         2\n",
       "2        3                      Restless and Wild         2\n",
       "3        4                      Let There Be Rock         1\n",
       "4        5                               Big Ones         3"
      ]
     },
     "execution_count": 5,
     "metadata": {},
     "output_type": "execute_result"
    }
   ],
   "source": [
    "df.head()"
   ]
  },
  {
   "cell_type": "markdown",
   "id": "3c09d414",
   "metadata": {},
   "source": [
    "## Establecer los nombres de las columnas del DataFrame\n",
    "\n",
    "Para solucionar los nombres de las columnas, antes de cerrar conexión, puede configurar los nombre de las columnas del DataFrame ejecutando `df.columns = rs.keys()`."
   ]
  },
  {
   "cell_type": "code",
   "execution_count": 9,
   "id": "11cb96d4",
   "metadata": {},
   "outputs": [],
   "source": [
    "# Paso N° 1\n",
    "from sqlalchemy import create_engine\n",
    "import pandas as pd\n",
    "\n",
    "# Paso N° 2\n",
    "engine = create_engine('sqlite:///./datasets/Chinook.sqlite')\n",
    "\n",
    "# Paso N°3\n",
    "con = engine.connect()\n",
    "\n",
    "# Paso N° 4\n",
    "rs = con.execute('SELECT * FROM Album')\n",
    "\n",
    "# Paso N° 5\n",
    "\n",
    "df = pd.DataFrame(rs.fetchall())\n",
    "\n",
    "df.columns = rs.keys()\n",
    "\n",
    "# Paso N° 6\n",
    "con.close()"
   ]
  },
  {
   "cell_type": "code",
   "execution_count": 11,
   "id": "efc9fd57",
   "metadata": {},
   "outputs": [
    {
     "data": {
      "text/html": [
       "<div>\n",
       "<style scoped>\n",
       "    .dataframe tbody tr th:only-of-type {\n",
       "        vertical-align: middle;\n",
       "    }\n",
       "\n",
       "    .dataframe tbody tr th {\n",
       "        vertical-align: top;\n",
       "    }\n",
       "\n",
       "    .dataframe thead th {\n",
       "        text-align: right;\n",
       "    }\n",
       "</style>\n",
       "<table border=\"1\" class=\"dataframe\">\n",
       "  <thead>\n",
       "    <tr style=\"text-align: right;\">\n",
       "      <th></th>\n",
       "      <th>AlbumId</th>\n",
       "      <th>Title</th>\n",
       "      <th>ArtistId</th>\n",
       "    </tr>\n",
       "  </thead>\n",
       "  <tbody>\n",
       "    <tr>\n",
       "      <th>0</th>\n",
       "      <td>1</td>\n",
       "      <td>For Those About To Rock We Salute You</td>\n",
       "      <td>1</td>\n",
       "    </tr>\n",
       "    <tr>\n",
       "      <th>1</th>\n",
       "      <td>2</td>\n",
       "      <td>Balls to the Wall</td>\n",
       "      <td>2</td>\n",
       "    </tr>\n",
       "    <tr>\n",
       "      <th>2</th>\n",
       "      <td>3</td>\n",
       "      <td>Restless and Wild</td>\n",
       "      <td>2</td>\n",
       "    </tr>\n",
       "    <tr>\n",
       "      <th>3</th>\n",
       "      <td>4</td>\n",
       "      <td>Let There Be Rock</td>\n",
       "      <td>1</td>\n",
       "    </tr>\n",
       "    <tr>\n",
       "      <th>4</th>\n",
       "      <td>5</td>\n",
       "      <td>Big Ones</td>\n",
       "      <td>3</td>\n",
       "    </tr>\n",
       "  </tbody>\n",
       "</table>\n",
       "</div>"
      ],
      "text/plain": [
       "   AlbumId                                  Title  ArtistId\n",
       "0        1  For Those About To Rock We Salute You         1\n",
       "1        2                      Balls to the Wall         2\n",
       "2        3                      Restless and Wild         2\n",
       "3        4                      Let There Be Rock         1\n",
       "4        5                               Big Ones         3"
      ]
     },
     "execution_count": 11,
     "metadata": {},
     "output_type": "execute_result"
    }
   ],
   "source": [
    "df.head()"
   ]
  },
  {
   "cell_type": "markdown",
   "id": "09d735bb",
   "metadata": {},
   "source": [
    "## Ejemplo con la tabla 'Artist':"
   ]
  },
  {
   "cell_type": "code",
   "execution_count": 3,
   "id": "dee36e83",
   "metadata": {},
   "outputs": [],
   "source": [
    "# Paso N° 1\n",
    "from sqlalchemy import create_engine\n",
    "import pandas as pd\n",
    "\n",
    "# Paso N° 2\n",
    "engine = create_engine('sqlite:///./datasets/Chinook.sqlite')\n",
    "\n",
    "# Paso N°3\n",
    "con = engine.connect()\n",
    "\n",
    "# Paso N° 4\n",
    "rs = con.execute('SELECT * FROM Artist')\n",
    "\n",
    "# Paso N° 5\n",
    "\n",
    "df = pd.DataFrame(rs.fetchall())\n",
    "\n",
    "df.columns = rs.keys()\n",
    "\n",
    "# Paso N° 6\n",
    "con.close()"
   ]
  },
  {
   "cell_type": "code",
   "execution_count": 4,
   "id": "8f336b17",
   "metadata": {},
   "outputs": [
    {
     "data": {
      "text/html": [
       "<div>\n",
       "<style scoped>\n",
       "    .dataframe tbody tr th:only-of-type {\n",
       "        vertical-align: middle;\n",
       "    }\n",
       "\n",
       "    .dataframe tbody tr th {\n",
       "        vertical-align: top;\n",
       "    }\n",
       "\n",
       "    .dataframe thead th {\n",
       "        text-align: right;\n",
       "    }\n",
       "</style>\n",
       "<table border=\"1\" class=\"dataframe\">\n",
       "  <thead>\n",
       "    <tr style=\"text-align: right;\">\n",
       "      <th></th>\n",
       "      <th>ArtistId</th>\n",
       "      <th>Name</th>\n",
       "    </tr>\n",
       "  </thead>\n",
       "  <tbody>\n",
       "    <tr>\n",
       "      <th>0</th>\n",
       "      <td>1</td>\n",
       "      <td>AC/DC</td>\n",
       "    </tr>\n",
       "    <tr>\n",
       "      <th>1</th>\n",
       "      <td>2</td>\n",
       "      <td>Accept</td>\n",
       "    </tr>\n",
       "    <tr>\n",
       "      <th>2</th>\n",
       "      <td>3</td>\n",
       "      <td>Aerosmith</td>\n",
       "    </tr>\n",
       "    <tr>\n",
       "      <th>3</th>\n",
       "      <td>4</td>\n",
       "      <td>Alanis Morissette</td>\n",
       "    </tr>\n",
       "    <tr>\n",
       "      <th>4</th>\n",
       "      <td>5</td>\n",
       "      <td>Alice In Chains</td>\n",
       "    </tr>\n",
       "  </tbody>\n",
       "</table>\n",
       "</div>"
      ],
      "text/plain": [
       "   ArtistId               Name\n",
       "0         1              AC/DC\n",
       "1         2             Accept\n",
       "2         3          Aerosmith\n",
       "3         4  Alanis Morissette\n",
       "4         5    Alice In Chains"
      ]
     },
     "execution_count": 4,
     "metadata": {},
     "output_type": "execute_result"
    }
   ],
   "source": [
    "df.head()"
   ]
  },
  {
   "cell_type": "markdown",
   "id": "7094dbdd",
   "metadata": {},
   "source": [
    "## Usar un Administrador de contexto\n",
    "\n",
    "Una última nota: de forma análoga a lo que vio anteriormente al abrir archivos de texto sin formato, puede usar la construcción del administrador de contexto para abrir una conexión, lo que le ahorrá el problema de cerra la conexión más tarde, o ahorrarle la molestia de olvidarse de cerrarla. \n",
    "\n",
    "Hay otras dos diferencias que puede haber notados entre este y el código anterior: en primero lugar, ya no tener `SELECT *` en la consulta SQL; ahora tengo nombres de columnas de la tabla \"Ordenes\"; todo lo que hace es importar esas columnas particulares y no otras muesntras que `SELECT *` importa todas las columnas; en segundo lugar, en lugar de aplicar el método `fetchall()` a los resultados `rs`, aplico el método `fetchmany()` con el tamaño del argumento igual a 5; esto importara 5 filas en lugar de todas las filas."
   ]
  },
  {
   "cell_type": "code",
   "execution_count": 12,
   "id": "d497215c",
   "metadata": {},
   "outputs": [],
   "source": [
    "# Forma N° 1\n",
    "\n",
    "from sqlalchemy import create_engine\n",
    "import pandas as pd\n",
    "\n",
    "engine = create_engine('sqlite:///./datasets/Chinook.sqlite')"
   ]
  },
  {
   "cell_type": "code",
   "execution_count": 18,
   "id": "cdda8735",
   "metadata": {},
   "outputs": [],
   "source": [
    "# Forma N° 2\n",
    "\n",
    "with engine.connect() as con:\n",
    "    \n",
    "    rs = con.execute('SELECT AlbumId, Title FROM Album')\n",
    "    \n",
    "    df = pd.DataFrame(rs.fetchmany(size = 5))\n",
    "    \n",
    "    df.columns = rs.keys()"
   ]
  },
  {
   "cell_type": "code",
   "execution_count": 20,
   "id": "c74a0be8",
   "metadata": {},
   "outputs": [
    {
     "data": {
      "text/html": [
       "<div>\n",
       "<style scoped>\n",
       "    .dataframe tbody tr th:only-of-type {\n",
       "        vertical-align: middle;\n",
       "    }\n",
       "\n",
       "    .dataframe tbody tr th {\n",
       "        vertical-align: top;\n",
       "    }\n",
       "\n",
       "    .dataframe thead th {\n",
       "        text-align: right;\n",
       "    }\n",
       "</style>\n",
       "<table border=\"1\" class=\"dataframe\">\n",
       "  <thead>\n",
       "    <tr style=\"text-align: right;\">\n",
       "      <th></th>\n",
       "      <th>AlbumId</th>\n",
       "      <th>Title</th>\n",
       "    </tr>\n",
       "  </thead>\n",
       "  <tbody>\n",
       "    <tr>\n",
       "      <th>0</th>\n",
       "      <td>1</td>\n",
       "      <td>For Those About To Rock We Salute You</td>\n",
       "    </tr>\n",
       "    <tr>\n",
       "      <th>1</th>\n",
       "      <td>2</td>\n",
       "      <td>Balls to the Wall</td>\n",
       "    </tr>\n",
       "    <tr>\n",
       "      <th>2</th>\n",
       "      <td>3</td>\n",
       "      <td>Restless and Wild</td>\n",
       "    </tr>\n",
       "  </tbody>\n",
       "</table>\n",
       "</div>"
      ],
      "text/plain": [
       "   AlbumId                                  Title\n",
       "0        1  For Those About To Rock We Salute You\n",
       "1        2                      Balls to the Wall\n",
       "2        3                      Restless and Wild"
      ]
     },
     "execution_count": 20,
     "metadata": {},
     "output_type": "execute_result"
    }
   ],
   "source": [
    "df.head(3)"
   ]
  },
  {
   "cell_type": "markdown",
   "id": "93463f21",
   "metadata": {},
   "source": [
    "# Consultar bases de datos relacionales directamente con pandas\n",
    "\n",
    "Después de crear un motor de base de datos puede obtener los resultados de cualquier línea particular usando 4 líneas de código: conectando, ejecutando una consulta, pasando los resultados a un dataframe y nombrando las columnas: 4 líneas de código es bastante bueno, pero puede hacerlo mejor.\n",
    "\n",
    "## La forma pandas de hacer consultas\n",
    "\n",
    "De hecho, puede hacerlo en 1 línea, utilizando la función pandas `read_sql_query` y pasándole 2 argumentos. \n",
    "\n",
    "El primer argumento será la consulta que desea realizar, el segundo argumento el motor al que desea conectarse. Y, por lo tanto, puede lograr lo mismo que este código ejecutando esta única línea."
   ]
  },
  {
   "cell_type": "code",
   "execution_count": 22,
   "id": "db7c15e7",
   "metadata": {},
   "outputs": [],
   "source": [
    "# Forma N° 1\n",
    "\n",
    "from sqlalchemy import create_engine\n",
    "import pandas as pd\n",
    "\n",
    "engine = create_engine('sqlite:///./datasets/Chinook.sqlite')\n",
    "\n",
    "# -----------------------------------\n",
    "\n",
    "# Forma N° 2\n",
    "\n",
    "with engine.connect() as con:\n",
    "    \n",
    "    rs = con.execute('SELECT AlbumId, Title FROM Album')\n",
    "    \n",
    "    df = pd.DataFrame(rs.fetchmany(size = 5))\n",
    "    \n",
    "    df.columns = rs.keys()"
   ]
  },
  {
   "cell_type": "code",
   "execution_count": 23,
   "id": "a80d8389",
   "metadata": {},
   "outputs": [],
   "source": [
    "df = pd.read_sql_query('SELECT * FROM Album', engine)"
   ]
  },
  {
   "cell_type": "markdown",
   "id": "829127a2",
   "metadata": {},
   "source": [
    "# Consulta avanzada: explotación de las relaciones entre tablas\n",
    "\n",
    "\n",
    "## Las tablas están vinculadas\n",
    "\n",
    "Como vimos anteriormente, la tabla \"Ordenes\" de la base de datos Northwind Traders tiene una columna llamada \"CustomerID\" y una columna llamada \"EmployeeID\", columnas que corresponden precisamente a las claves primarias en las tablas \"Clientes\" y \"Empleados\", respectivamente. Esto significa que, dada una Orden, puede buscar inmediatamente el detalle del Cliente o Empleado relevante en la tabla correspondiente.\n",
    "\n",
    "<img src=\".\\img_3\\8.png\" width=\"550px\" height=\"350px\">\n",
    "\n",
    "\n",
    "## Unir tablas\n",
    "\n",
    "Ahora, ¿qué sucede si desea incorporar dicha información en su consulta?\n",
    "\n",
    "Por ejemplo, si desea consultar la tabla \"Ordenes\" e incluir, para cada Pedido, ¿información sobre el Cliente correspondiente a la tabla \"Cliente?\"\n",
    "\n",
    "Digamos que quería, para cada Orden, obtener el ID de pedido y el CompanyName del Cliente. OrderID vive en la tabla \"Ordenes\" mientras que CompanyName vive en la tabla \"Clientes\".\n",
    "\n",
    "\n",
    "<img src=\".\\img_3\\9.png\" width=\"450px\" height=\"350px\">\n",
    "\n",
    "\n",
    "SQL tiene una manera muy inteligente de hacer esto: se llama JOIN porque lo que realmente estás haciendo es unir dos tablas, en este caso, las tablas de \"Ordenes\" y \"Clientes\". Específicamente es una UNION INTERNA.\n",
    "\n",
    "\n",
    "## INNER JOIN en Python (pandas)\n",
    "\n",
    "\n",
    "Como son las columnas \"CustomerID\" de las tablas \"Ordenes\" y \"Clientes\" las que corresponden a cada una, querrá UNIRSE a las tablas EN estas columnas y eso precisamente lo que hace el siguiente código.\n",
    "\n",
    "La notación de punto seguida de nombre de la columna es simplemente seleccionar una columna de una tabla.\n",
    "\n",
    "La tabla de la que estamos seleccionando es \"Album INNER JOIN Artist on Album.ArtistId = Artist.ArtistId\" y estoy seleccionando la columna AlbumId, Title, y Name de esta nueva tabla. "
   ]
  },
  {
   "cell_type": "code",
   "execution_count": 7,
   "id": "338c919a",
   "metadata": {},
   "outputs": [
    {
     "data": {
      "text/html": [
       "<div>\n",
       "<style scoped>\n",
       "    .dataframe tbody tr th:only-of-type {\n",
       "        vertical-align: middle;\n",
       "    }\n",
       "\n",
       "    .dataframe tbody tr th {\n",
       "        vertical-align: top;\n",
       "    }\n",
       "\n",
       "    .dataframe thead th {\n",
       "        text-align: right;\n",
       "    }\n",
       "</style>\n",
       "<table border=\"1\" class=\"dataframe\">\n",
       "  <thead>\n",
       "    <tr style=\"text-align: right;\">\n",
       "      <th></th>\n",
       "      <th>AlbumId</th>\n",
       "      <th>Title</th>\n",
       "      <th>Name</th>\n",
       "    </tr>\n",
       "  </thead>\n",
       "  <tbody>\n",
       "    <tr>\n",
       "      <th>0</th>\n",
       "      <td>1</td>\n",
       "      <td>For Those About To Rock We Salute You</td>\n",
       "      <td>AC/DC</td>\n",
       "    </tr>\n",
       "    <tr>\n",
       "      <th>1</th>\n",
       "      <td>2</td>\n",
       "      <td>Balls to the Wall</td>\n",
       "      <td>Accept</td>\n",
       "    </tr>\n",
       "    <tr>\n",
       "      <th>2</th>\n",
       "      <td>3</td>\n",
       "      <td>Restless and Wild</td>\n",
       "      <td>Accept</td>\n",
       "    </tr>\n",
       "    <tr>\n",
       "      <th>3</th>\n",
       "      <td>4</td>\n",
       "      <td>Let There Be Rock</td>\n",
       "      <td>AC/DC</td>\n",
       "    </tr>\n",
       "    <tr>\n",
       "      <th>4</th>\n",
       "      <td>5</td>\n",
       "      <td>Big Ones</td>\n",
       "      <td>Aerosmith</td>\n",
       "    </tr>\n",
       "  </tbody>\n",
       "</table>\n",
       "</div>"
      ],
      "text/plain": [
       "   AlbumId                                  Title       Name\n",
       "0        1  For Those About To Rock We Salute You      AC/DC\n",
       "1        2                      Balls to the Wall     Accept\n",
       "2        3                      Restless and Wild     Accept\n",
       "3        4                      Let There Be Rock      AC/DC\n",
       "4        5                               Big Ones  Aerosmith"
      ]
     },
     "execution_count": 7,
     "metadata": {},
     "output_type": "execute_result"
    }
   ],
   "source": [
    "from sqlalchemy import create_engine\n",
    "import pandas as pd\n",
    "\n",
    "engine = create_engine('sqlite:///./datasets/Chinook.sqlite')\n",
    "\n",
    "df = pd.read_sql_query('SELECT AlbumId, Title,Name FROM Album INNER JOIN Artist on Album.ArtistId = Artist.ArtistId', engine)\n",
    "\n",
    "df.head()"
   ]
  },
  {
   "cell_type": "markdown",
   "id": "5a8492c9",
   "metadata": {},
   "source": [
    "<h1 style='background:#000000; color:#FFFFFF;height: 55px;padding-top: 13px;font-size: 25px;border-style: double;'><center>Curso: Intermedio Importar datos en Python</center></h1><a name=\"IntermedioImportardatosenPython\"></a>\n",
    "\n",
    "\n",
    "# Importación de archivos planos desde la web\n",
    "\n",
    "\n",
    "## ¿Se pueden importar datos web?\n",
    "\n",
    "Como científico de datos, tendrás que importar datos desde la web, esto debido a que nos siempre se contara con los archivos planos de forma local.\n",
    "\n",
    "Digamos, por ejemplo, que desea importar el conjunto de datos de calidad del vino de el Repositorio de aprendizaje automático alojado por la Universidad de California, Irnive.\n",
    "\n",
    "**¿Cómo se obtiene este archivo de la web?**\n",
    "\n",
    "Ahora puede usar su navegador web favorito para navegar a la URL relevante, apunte y haga clic en los hipervínculos correspondientes para descargar el archivo, pero esto plantea algunos problemas.\n",
    "\n",
    "En primer lugar, no está escrito en código y plantea problemas de reproducibilidad. Si otro cientifico de datos quisiera reproducir su flujo de trabajo, necesariamente tendría que hacerlo fuera de Python.\n",
    "\n",
    "En segundo lugar, NO es escalable. Si quisiera descargar cien o mil archivos de este tipo, necesitaría cien o miles veces más largo, respectivamente, mientras que si lo escribirera en código, su flujo de trabajo podría escalar.\n",
    "\n",
    "\n",
    "## Aprenderás a...\n",
    "\n",
    "Dado que la reproducibilidad y la escabilidad están situadas en el corazón mismo de la ciencia de datos, aprendera cómo usar el código Python para importar y guardar localmente conjuntos de datos de la red mundial. \n",
    "\n",
    "También aprenderá cómo cargar dicho conjuntos de datos en DataFrames de pandas directamente desde la web, ya sean archivos plano o de otro tipo.\n",
    "\n",
    "Luego, colocará estas habilidades en el contexto más amplio de realizar solicitudes HTTP. En particular, relizará solicitudes HTTP GET, que en lenguaje sencillo significa obtener datos de la web.\n",
    "\n",
    "Utilizará estas nuevas habilidades de Solicitud para aprender los conceptos básicos de la extracción de HTML de Internet y usará el maravilloso paquete de Python BeatifulSoup para analizar el HTML y convertirlo en datos.\n",
    "\n",
    "Hay una serie de excelentes paquetes que nos ayudan a importar datos web: aquí, se familiarizara con los paquetes `urllib` y `request`.\n",
    "\n",
    "Primero revisaremos `urllib`.\n",
    "\n",
    "## El paquete `urllib`\n",
    "\n",
    "Este módulo proporciona una interfaz de alto nivel para obtener datos a través de la World Wide Web. En particular, la función `urlopen()` es similar a la función `open` incorporada, pero acepta localizadores universales de recursos (URL) en lugar de nombres de archivos.\n",
    "\n",
    "\n",
    "## Cómo automatizar la descarga de archivos en Python\n",
    "\n",
    "Todo lo que hemos hecho aquí es importar la función `urlretrieve` de la solicitud subpaquete `urllib`, asignamos la URL relevante como una cadena a la variable url.\n",
    "\n",
    "Luego usamos la función `urlretrieve` para escribir el contenido de la URL en una archivo \"winequality-white.csv\""
   ]
  },
  {
   "cell_type": "code",
   "execution_count": 4,
   "id": "35f4d4a7",
   "metadata": {},
   "outputs": [
    {
     "data": {
      "text/plain": [
       "('winequality-white-prueba.csv', <http.client.HTTPMessage at 0x19da77cb3a0>)"
      ]
     },
     "execution_count": 4,
     "metadata": {},
     "output_type": "execute_result"
    }
   ],
   "source": [
    "from urllib.request import urlretrieve\n",
    "\n",
    "url = 'http://archive.ics.uci.edu/ml/machine-learning-databases/wine-quality/winequality-white.csv'\n",
    "\n",
    "urlretrieve(url, 'winequality-white-prueba.csv')  # Me crea un archivo llamado 'winequality-white-prueba.csv' en\n",
    "                                                    # la carpeta donde esta alojado este script"
   ]
  },
  {
   "cell_type": "markdown",
   "id": "85775f90",
   "metadata": {},
   "source": [
    "## Abrir y leer archivos planos desde la web\n",
    "\n",
    "Acaba de importar un archivo de la web, lo guardó localmente y lo cargó en un DataFrame. Si solo desea cargar un archivo de la web en un DataFrame sin guardarlo primero localmente, puede hacerlo fácilmente usando pandas. En particular, puede usar la función **`pd.read_csv()`** con la URL como primer argumento y el separador **`sep = ';'`** (';' es un ejemplo) como segundo argumento."
   ]
  },
  {
   "cell_type": "code",
   "execution_count": 6,
   "id": "03d986a4",
   "metadata": {
    "scrolled": true
   },
   "outputs": [
    {
     "data": {
      "text/html": [
       "<div>\n",
       "<style scoped>\n",
       "    .dataframe tbody tr th:only-of-type {\n",
       "        vertical-align: middle;\n",
       "    }\n",
       "\n",
       "    .dataframe tbody tr th {\n",
       "        vertical-align: top;\n",
       "    }\n",
       "\n",
       "    .dataframe thead th {\n",
       "        text-align: right;\n",
       "    }\n",
       "</style>\n",
       "<table border=\"1\" class=\"dataframe\">\n",
       "  <thead>\n",
       "    <tr style=\"text-align: right;\">\n",
       "      <th></th>\n",
       "      <th>fixed acidity</th>\n",
       "      <th>volatile acidity</th>\n",
       "      <th>citric acid</th>\n",
       "      <th>residual sugar</th>\n",
       "      <th>chlorides</th>\n",
       "      <th>free sulfur dioxide</th>\n",
       "      <th>total sulfur dioxide</th>\n",
       "      <th>density</th>\n",
       "      <th>pH</th>\n",
       "      <th>sulphates</th>\n",
       "      <th>alcohol</th>\n",
       "      <th>quality</th>\n",
       "    </tr>\n",
       "  </thead>\n",
       "  <tbody>\n",
       "    <tr>\n",
       "      <th>0</th>\n",
       "      <td>7.0</td>\n",
       "      <td>0.27</td>\n",
       "      <td>0.36</td>\n",
       "      <td>20.7</td>\n",
       "      <td>0.045</td>\n",
       "      <td>45.0</td>\n",
       "      <td>170.0</td>\n",
       "      <td>1.0010</td>\n",
       "      <td>3.00</td>\n",
       "      <td>0.45</td>\n",
       "      <td>8.8</td>\n",
       "      <td>6</td>\n",
       "    </tr>\n",
       "    <tr>\n",
       "      <th>1</th>\n",
       "      <td>6.3</td>\n",
       "      <td>0.30</td>\n",
       "      <td>0.34</td>\n",
       "      <td>1.6</td>\n",
       "      <td>0.049</td>\n",
       "      <td>14.0</td>\n",
       "      <td>132.0</td>\n",
       "      <td>0.9940</td>\n",
       "      <td>3.30</td>\n",
       "      <td>0.49</td>\n",
       "      <td>9.5</td>\n",
       "      <td>6</td>\n",
       "    </tr>\n",
       "    <tr>\n",
       "      <th>2</th>\n",
       "      <td>8.1</td>\n",
       "      <td>0.28</td>\n",
       "      <td>0.40</td>\n",
       "      <td>6.9</td>\n",
       "      <td>0.050</td>\n",
       "      <td>30.0</td>\n",
       "      <td>97.0</td>\n",
       "      <td>0.9951</td>\n",
       "      <td>3.26</td>\n",
       "      <td>0.44</td>\n",
       "      <td>10.1</td>\n",
       "      <td>6</td>\n",
       "    </tr>\n",
       "    <tr>\n",
       "      <th>3</th>\n",
       "      <td>7.2</td>\n",
       "      <td>0.23</td>\n",
       "      <td>0.32</td>\n",
       "      <td>8.5</td>\n",
       "      <td>0.058</td>\n",
       "      <td>47.0</td>\n",
       "      <td>186.0</td>\n",
       "      <td>0.9956</td>\n",
       "      <td>3.19</td>\n",
       "      <td>0.40</td>\n",
       "      <td>9.9</td>\n",
       "      <td>6</td>\n",
       "    </tr>\n",
       "    <tr>\n",
       "      <th>4</th>\n",
       "      <td>7.2</td>\n",
       "      <td>0.23</td>\n",
       "      <td>0.32</td>\n",
       "      <td>8.5</td>\n",
       "      <td>0.058</td>\n",
       "      <td>47.0</td>\n",
       "      <td>186.0</td>\n",
       "      <td>0.9956</td>\n",
       "      <td>3.19</td>\n",
       "      <td>0.40</td>\n",
       "      <td>9.9</td>\n",
       "      <td>6</td>\n",
       "    </tr>\n",
       "  </tbody>\n",
       "</table>\n",
       "</div>"
      ],
      "text/plain": [
       "   fixed acidity  volatile acidity  citric acid  residual sugar  chlorides  \\\n",
       "0            7.0              0.27         0.36            20.7      0.045   \n",
       "1            6.3              0.30         0.34             1.6      0.049   \n",
       "2            8.1              0.28         0.40             6.9      0.050   \n",
       "3            7.2              0.23         0.32             8.5      0.058   \n",
       "4            7.2              0.23         0.32             8.5      0.058   \n",
       "\n",
       "   free sulfur dioxide  total sulfur dioxide  density    pH  sulphates  \\\n",
       "0                 45.0                 170.0   1.0010  3.00       0.45   \n",
       "1                 14.0                 132.0   0.9940  3.30       0.49   \n",
       "2                 30.0                  97.0   0.9951  3.26       0.44   \n",
       "3                 47.0                 186.0   0.9956  3.19       0.40   \n",
       "4                 47.0                 186.0   0.9956  3.19       0.40   \n",
       "\n",
       "   alcohol  quality  \n",
       "0      8.8        6  \n",
       "1      9.5        6  \n",
       "2     10.1        6  \n",
       "3      9.9        6  \n",
       "4      9.9        6  "
      ]
     },
     "execution_count": 6,
     "metadata": {},
     "output_type": "execute_result"
    }
   ],
   "source": [
    "from urllib.request import urlretrieve\n",
    "import pandas as pd\n",
    "\n",
    "url = 'http://archive.ics.uci.edu/ml/machine-learning-databases/wine-quality/winequality-white.csv'\n",
    "\n",
    "df = pd.read_csv(url, sep = ';')\n",
    "\n",
    "df.head()"
   ]
  },
  {
   "cell_type": "markdown",
   "id": "2b6a96b5",
   "metadata": {},
   "source": [
    "## Importar archivos Excel desde la web y usar pandas"
   ]
  },
  {
   "cell_type": "code",
   "execution_count": 12,
   "id": "3dcd6cc8",
   "metadata": {},
   "outputs": [
    {
     "name": "stdout",
     "output_type": "stream",
     "text": [
      "dict_keys(['1700', '1900'])\n"
     ]
    },
    {
     "data": {
      "text/html": [
       "<div>\n",
       "<style scoped>\n",
       "    .dataframe tbody tr th:only-of-type {\n",
       "        vertical-align: middle;\n",
       "    }\n",
       "\n",
       "    .dataframe tbody tr th {\n",
       "        vertical-align: top;\n",
       "    }\n",
       "\n",
       "    .dataframe thead th {\n",
       "        text-align: right;\n",
       "    }\n",
       "</style>\n",
       "<table border=\"1\" class=\"dataframe\">\n",
       "  <thead>\n",
       "    <tr style=\"text-align: right;\">\n",
       "      <th></th>\n",
       "      <th>country</th>\n",
       "      <th>1700</th>\n",
       "    </tr>\n",
       "  </thead>\n",
       "  <tbody>\n",
       "    <tr>\n",
       "      <th>0</th>\n",
       "      <td>Afghanistan</td>\n",
       "      <td>34.565000</td>\n",
       "    </tr>\n",
       "    <tr>\n",
       "      <th>1</th>\n",
       "      <td>Akrotiri and Dhekelia</td>\n",
       "      <td>34.616667</td>\n",
       "    </tr>\n",
       "    <tr>\n",
       "      <th>2</th>\n",
       "      <td>Albania</td>\n",
       "      <td>41.312000</td>\n",
       "    </tr>\n",
       "    <tr>\n",
       "      <th>3</th>\n",
       "      <td>Algeria</td>\n",
       "      <td>36.720000</td>\n",
       "    </tr>\n",
       "    <tr>\n",
       "      <th>4</th>\n",
       "      <td>American Samoa</td>\n",
       "      <td>-14.307000</td>\n",
       "    </tr>\n",
       "  </tbody>\n",
       "</table>\n",
       "</div>"
      ],
      "text/plain": [
       "                 country       1700\n",
       "0            Afghanistan  34.565000\n",
       "1  Akrotiri and Dhekelia  34.616667\n",
       "2                Albania  41.312000\n",
       "3                Algeria  36.720000\n",
       "4         American Samoa -14.307000"
      ]
     },
     "execution_count": 12,
     "metadata": {},
     "output_type": "execute_result"
    }
   ],
   "source": [
    "# Import package\n",
    "import pandas as pd\n",
    "\n",
    "# Assign url of file: url\n",
    "\n",
    "url = 'https://assets.datacamp.com/course/importing_data_into_r/latitude.xls'\n",
    "# Read in all sheets of Excel file: xls\n",
    "\n",
    "xls = pd.read_excel(url, sheet_name = None)\n",
    "# Print the sheetnames to the shell\n",
    "print(xls.keys())\n",
    "\n",
    "# Print the head of the first sheet (using its name, NOT its index\n",
    "\n",
    "xls['1700'].head()\n"
   ]
  },
  {
   "cell_type": "markdown",
   "id": "fbc807a0",
   "metadata": {},
   "source": [
    "# Solicitudes HTTP para importar archivos desde la web\n",
    "\n",
    "\n",
    "Para importar archivos desde la web, usamos la función `urlretrieve` de un subpaquete de `urllib.request`.\n",
    "\n",
    "## URL\n",
    "\n",
    "Ahora analicemos esto un poco y, en el proceso, comprendamos algunas cosas sobre cómo funciona Internet. \n",
    "\n",
    "URL significa Localizador de recursos uniforme o universal y todo lo que realmente son referencias a recursos web.\n",
    "\n",
    "La gran mayoría de las URL son direcciones web, pero pueden referirse a algunas otras cosas, como los protocolos de transferencia de archivos (FTP) y el acceso a la base de datos. Actualmente nos centraremos en las URL que son direcciones web O las ubicaciones de los sitios web. Dicha URL consta de 2 partes, un identificador de protocolo HTTP o HTTPS y un nombre de recurso como datacamp.com.\n",
    "\n",
    "La combinación de identificador de protocolo y nombre de recurso especifica de forma única la dirección web.\n",
    "\n",
    "## HTTP\n",
    "\n",
    "Para explicar las URL, he introducido otro acrónimo http, que en sí mismo significa Protocolo de transferencia de hipertexto.\n",
    "\n",
    "Wikipedia proporciona una excelente descripción de HTTP: \"El Protocolo de Transferencia de Hipertexto (HTTP) es una aplicación protocolo para sistemas de información distribuidos, colaborativos e hipermedia. HTTP es la base de la comunicación de datos para la World Wide Web.\"\n",
    "\n",
    "Tenga en cuenta que HTTPS es una forma más segura de HTTP. Cada vez que visita un sitio web, en realidad está enviando una solicitud HTTP a un servidor. Esta solicitud se conoce como solicitud GET, con mucho, el tipo más común de solicitud HTTP.\n",
    "\n",
    "En realidad, estamos realizando una solicitud GET cuando usamos la función `urlretrieve`. El ingenio de `urlretrieve` también radica en que no solo realiza una soliciud GET, también guarda los datos relevantes localmente.\n",
    "\n",
    "A continuación, aprenderá a realizar más solicitudes GET para almacenar datos web en su entorno. En particular, descrubrirá cómo obtener los datos HTML de una página web.\n",
    "\n",
    "HTML significa Hypertext Markup Language y es el lenguaje de marcado estándar para la web.\n",
    "\n",
    "\n",
    "\n",
    "## Solicitudes GET con urllib\n",
    "\n",
    "\n",
    "Para extraer el html de la página de inicio de wikipedia, importa las funciones necesarias, especifica la URL, empaquete la solicitud GET usando la función `Request()`, envie la solicitud y capture la respuesta usando la función `urlopen()`.\n",
    "\n",
    "Esto devuelve un objeto `HTTP Respuesta`, que tiene un método de lectura asociado. Luego aplica este método de lectura a la respuesta, que devuelve el HTML como una cadena, que almacena en la variable html. Recuerda cerra la repuesta."
   ]
  },
  {
   "cell_type": "code",
   "execution_count": 24,
   "id": "44297189",
   "metadata": {},
   "outputs": [],
   "source": [
    "from urllib.request import urlopen, Request\n",
    "\n",
    "url = 'https://www.wikipedia.org/'\n",
    "\n",
    "request = Request(url) # Solicitud\n",
    "\n",
    "response = urlopen(request)  # Respuesta\n",
    "\n",
    "html = response.read()\n",
    "\n",
    "response.close()"
   ]
  },
  {
   "cell_type": "markdown",
   "id": "bbdbe255",
   "metadata": {},
   "source": [
    "## Leer el HTML obtenido"
   ]
  },
  {
   "cell_type": "code",
   "execution_count": 25,
   "id": "9fcf00af",
   "metadata": {},
   "outputs": [
    {
     "name": "stdout",
     "output_type": "stream",
     "text": [
      "b'<!DOCTYPE html>\\n<html lang=\"en\" class=\"no-js\">\\n<head>\\n<meta charset=\"utf-8\">\\n<title>Wikipedia</title>\\n<meta name=\"description\" content=\"Wikipedia is a free online encyclopedia, created and edited by volunteers around the world and hosted by the Wikimedia Foundation.\">\\n<script>\\ndocument.documentElement.className = document.documentElement.className.replace( /(^|\\\\s)no-js(\\\\s|$)/, \"$1js-enabled$2\" );\\n</script>\\n<meta name=\"viewport\" content=\"initial-scale=1,user-scalable=yes\">\\n<link rel=\"apple-touch-icon\" href=\"/static/apple-touch/wikipedia.png\">\\n<link rel=\"shortcut icon\" href=\"/static/favicon/wikipedia.ico\">\\n<link rel=\"license\" href=\"//creativecommons.org/licenses/by-sa/3.0/\">\\n<style>\\n.sprite{background-image:linear-gradient(transparent,transparent),url(portal/wikipedia.org/assets/img/sprite-e99844f6.svg);background-repeat:no-repeat;display:inline-block;vertical-align:middle}.svg-Commons-logo_sister{background-position:0 0;width:47px;height:47px}.svg-MediaWiki-logo_sister{background-position:0 -47px;width:42px;height:42px}.svg-Meta-Wiki-logo_sister{background-position:0 -89px;width:37px;height:37px}.svg-Wikibooks-logo_sister{background-position:0 -126px;width:37px;height:37px}.svg-Wikidata-logo_sister{background-position:0 -163px;width:49px;height:49px}.svg-Wikimedia-logo_black{background-position:0 -212px;width:42px;height:42px}.svg-Wikipedia_wordmark{background-position:0 -254px;width:176px;height:32px}.svg-Wikiquote-logo_sister{background-position:0 -286px;width:42px;height:42px}.svg-Wikisource-logo_sister{background-position:0 -328px;width:39px;height:39px}.svg-Wikispecies-logo_sister{background-position:0 -367px;width:42px;height:42px}.svg-Wikiversity-logo_sister{background-position:0 -409px;width:43px;height:37px}.svg-Wikivoyage-logo_sister{background-position:0 -446px;width:36px;height:36px}.svg-Wiktionary-logo_sister{background-position:0 -482px;width:37px;height:37px}.svg-arrow-down{background-position:0 -519px;width:12px;height:8px}.svg-arrow-down-blue{background-position:0 -527px;width:14px;height:14px}.svg-badge_google_play_store{background-position:0 -541px;width:124px;height:38px}.svg-badge_ios_app_store{background-position:0 -579px;width:110px;height:38px}.svg-language-icon{background-position:0 -617px;width:22px;height:22px}.svg-noimage{background-position:0 -639px;width:58px;height:58px}.svg-search-icon{background-position:0 -697px;width:22px;height:22px}.svg-wikipedia_app_tile{background-position:0 -719px;width:42px;height:42px}\\n</style>\\n<style>\\nhtml{font-family:sans-serif;-ms-text-size-adjust:100%;-webkit-text-size-adjust:100%;font-size:62.5%}body{margin:0}article,aside,details,figcaption,figure,footer,header,hgroup,main,menu,nav,section,summary{display:block}audio,canvas,progress,video{display:inline-block;vertical-align:baseline}audio:not([controls]){display:none;height:0}[hidden],template{display:none}a{background-color:transparent}a:active,a:hover{outline:0}abbr[title]{border-bottom:1px dotted}b,strong{font-weight:700}dfn{font-style:italic}h1{font-size:32px;font-size:3.2rem;margin:1.2rem 0}mark{background:#fc3;color:#000}small{font-size:13px;font-size:1.3rem}sub,sup{font-size:75%;line-height:0;position:relative;vertical-align:baseline}sup{top:-.5em}sub{bottom:-.25em}svg:not(:root){overflow:hidden}figure{margin:1.6rem 4rem}hr{-webkit-box-sizing:content-box;-moz-box-sizing:content-box;box-sizing:content-box}pre{overflow:auto}code,kbd,pre,samp{font-family:monospace,monospace;font-size:14px;font-size:1.4rem}button,input,optgroup,select,textarea{color:inherit;font:inherit;margin:0}button{overflow:visible}button,select{text-transform:none}button,html input[type=button],input[type=reset],input[type=submit]{-webkit-appearance:button;cursor:pointer}button[disabled],html input[disabled]{cursor:default}button::-moz-focus-inner,input::-moz-focus-inner{border:0;padding:0}input{line-height:normal}input[type=checkbox],input[type=radio]{-webkit-box-sizing:border-box;-moz-box-sizing:border-box;box-sizing:border-box;padding:0}input[type=number]::-webkit-inner-spin-button,input[type=number]::-webkit-outer-spin-button{height:auto}input[type=search]{-webkit-appearance:none;-webkit-box-sizing:content-box;-moz-box-sizing:content-box;box-sizing:content-box}input[type=search]::-webkit-search-cancel-button,input[type=search]::-webkit-search-decoration{-webkit-appearance:none}input[type=search]:focus{outline-offset:-2px}fieldset{border:1px solid #a2a9b1;margin:0 .2rem;padding:.6rem 1rem 1.2rem}legend{border:0;padding:0}textarea{overflow:auto}optgroup{font-weight:700}table{border-collapse:collapse;border-spacing:0}td,th{padding:0}.hidden,[hidden]{display:none!important}.screen-reader-text{display:block;position:absolute!important;clip:rect(1px,1px,1px,1px);width:1px;height:1px;margin:-1px;border:0;padding:0;overflow:hidden}body{background-color:#fff;font-family:-apple-system,BlinkMacSystemFont,Segoe UI,Roboto,Lato,Helvetica,Arial,sans-serif;font-size:14px;font-size:1.4rem;line-height:1.5;margin:.4rem 0 1.6rem}a{-ms-touch-action:manipulation;touch-action:manipulation}a,a:active,a:focus{unicode-bidi:embed;outline:0;color:#36c;text-decoration:none}a:focus{outline:1px solid #36c}a:hover{text-decoration:underline}img{vertical-align:middle}hr,img{border:0}hr{clear:both;height:0;border-bottom:1px solid #c8ccd1;margin:.26rem 1.3rem}.pure-button{display:inline-block;zoom:1;line-height:normal;white-space:nowrap;text-align:center;cursor:pointer;-webkit-user-drag:none;-webkit-user-select:none;-moz-user-select:none;-ms-user-select:none;user-select:none;-webkit-box-sizing:border-box;-moz-box-sizing:border-box;box-sizing:border-box;background-color:#f8f9fa;color:#202122;position:relative;min-height:19.2px;min-height:1.92rem;min-width:16px;min-width:1.6rem;margin:.16rem 0;border:1px solid #a2a9b1;-moz-border-radius:2px;border-radius:2px;padding:.8rem 1.6rem;font-family:inherit;font-size:inherit;font-weight:700;text-decoration:none;vertical-align:top;-webkit-transition:background .1s ease,color .1s ease,border-color .1s ease,-webkit-box-shadow .1s ease;transition:background .1s ease,color .1s ease,border-color .1s ease,-webkit-box-shadow .1s ease;-o-transition:background .1s ease,color .1s ease,border-color .1s ease,box-shadow .1s ease;-moz-transition:background .1s ease,color .1s ease,border-color .1s ease,box-shadow .1s ease,-moz-box-shadow .1s ease;transition:background .1s ease,color .1s ease,border-color .1s ease,box-shadow .1s ease;transition:background .1s ease,color .1s ease,border-color .1s ease,box-shadow .1s ease,-webkit-box-shadow .1s ease,-moz-box-shadow .1s ease}.pure-button::-moz-focus-inner{padding:0;border:0}.pure-button-hover,.pure-button:hover{background-color:#fff;border-color:#a2a9b1;color:#404244}.pure-button-active,.pure-button:active{background-color:#c8ccd1;border-color:#72777d;color:#000}.pure-button:focus{outline:0;border-color:#36c;-webkit-box-shadow:inset 0 0 0 1px #36c;-moz-box-shadow:inset 0 0 0 1px #36c;box-shadow:inset 0 0 0 1px #36c}.pure-button-primary-progressive{background-color:#36c;border-color:#36c;color:#fff}.pure-button-primary-progressive:hover{background:#447ff5;border-color:#447ff5}.pure-button-primary-progressive:active{background-color:#2a4b8d;border-color:#2a4b8d;-webkit-box-shadow:none;-moz-box-shadow:none;box-shadow:none;color:#fff}.pure-button-primary-progressive:focus{-webkit-box-shadow:inset 0 0 0 1px #36c,inset 0 0 0 2px #fff;-moz-box-shadow:inset 0 0 0 1px #36c,inset 0 0 0 2px #fff;box-shadow:inset 0 0 0 1px #36c,inset 0 0 0 2px #fff;border-color:#36c}.pure-form input[type=search]{background-color:#fff;display:inline-block;-webkit-box-sizing:border-box;-moz-box-sizing:border-box;box-sizing:border-box;border:1px solid #a2a9b1;-moz-border-radius:2px;border-radius:2px;padding:.8rem;-webkit-box-shadow:inset 0 0 0 1px #fff;-moz-box-shadow:inset 0 0 0 1px #fff;box-shadow:inset 0 0 0 1px #fff;vertical-align:middle}.pure-form input:focus:invalid{color:#b32424;border-color:#d33}.pure-form fieldset{margin:0;padding:.56rem 0 1.2rem;border:0}@media only screen and (max-width:480px){.pure-form input[type=search]{display:block}}.central-textlogo-wrapper{display:inline-block;vertical-align:bottom}.central-textlogo{position:relative;margin:4rem auto .5rem;width:270px;font-family:Linux Libertine,Hoefler Text,Georgia,Times New Roman,Times,serif;font-size:30px;font-size:3rem;font-weight:400;line-height:33px;line-height:3.3rem;text-align:center;-moz-font-feature-settings:\"ss05=1\";-moz-font-feature-settings:\"ss05\";-webkit-font-feature-settings:\"ss05\";-ms-font-feature-settings:\"ss05\";font-feature-settings:\"ss05\"}.localized-slogan{display:block;font-family:Linux Libertine,Georgia,Times,serif;font-size:15px;font-size:1.5rem;font-weight:400}.central-textlogo__image{color:transparent;display:inline-block;overflow:hidden;text-indent:-10000px}.central-featured-logo{position:absolute;top:158px;left:35px}@media (max-width:480px){.central-textlogo{position:relative;height:70px;width:auto;margin:2rem 0 0;text-align:center;line-height:25px;line-height:2.5rem;text-indent:-10px;text-indent:-1rem;font-size:1em}.central-textlogo-wrapper{position:relative;top:12px;text-indent:2px;text-indent:.2rem}.svg-Wikipedia_wordmark{width:150px;height:25px;background-position:0 -218px;-webkit-background-size:100% 100%;-moz-background-size:100%;background-size:100%}.localized-slogan{font-size:14px;font-size:1.4rem}.central-featured-logo{position:relative;display:inline-block;width:57px;height:auto;left:0;top:0}}@media (max-width:240px){.central-textlogo__image{height:auto}}.central-featured{position:relative;height:325px;height:32.5rem;width:546px;width:54.6rem;max-width:100%;margin:0 auto;text-align:center;vertical-align:middle}.central-featured-lang{position:absolute;width:156px;width:15.6rem}.central-featured-lang .link-box{display:block;padding:0;text-decoration:none;white-space:normal}.central-featured-lang .link-box:hover strong{text-decoration:underline}.central-featured-lang :hover{background-color:#eaecf0}.central-featured-lang strong{display:block;font-size:16px;font-size:1.6rem}.central-featured-lang small{color:#54595d;display:inline-block;font-size:13px;font-size:1.3rem;line-height:1.6}.central-featured-lang em{font-style:italic}.central-featured-lang .emNonItalicLang{font-style:normal}.lang1{top:0;right:60%}.lang2{top:0;left:60%}.lang3{top:20%;right:70%}.lang4{top:20%;left:70%}.lang5{top:40%;right:72%}.lang6{top:40%;left:72%}.lang7{top:60%;right:70%}.lang8{top:60%;left:70%}.lang9{top:80%;right:60%}.lang10{top:80%;left:60%}@media (max-width:480px){.central-featured{width:auto;height:auto;margin-top:7rem;font-size:13px;font-size:1.3rem;text-align:left}.central-featured:after{content:\" \";display:block;visibility:hidden;clear:both;height:0;font-size:0}.central-featured-lang{display:block;float:left;position:relative;top:auto;left:auto;right:auto;-webkit-box-sizing:border-box;-moz-box-sizing:border-box;box-sizing:border-box;height:64px;height:6.4rem;width:33%;margin:0 0 16px;padding:0 1.6rem;font-size:14px;font-size:1.4rem;text-align:center}.central-featured-lang strong{font-size:14px;font-size:1.4rem;margin-bottom:4px}.central-featured-lang small{line-height:1.4}}@media (max-width:375px){.central-featured-lang{font-size:13px;font-size:1.3rem}}@media (max-width:240px){.central-featured-lang{width:100%}}.search-container{float:none;max-width:95%;width:540px;margin:.4rem auto 1.95rem;text-align:center;vertical-align:middle}.search-container fieldset{word-spacing:-4px}.search-container button{min-height:44px;min-height:4.4rem;margin:0;-moz-border-radius:0 2px 2px 0;border-radius:0 2px 2px 0;padding:.8rem 1.6rem;font-size:16px;font-size:1.6rem;z-index:2}.search-container button .svg-search-icon{text-indent:-9999px}.search-container input[type=search]::-webkit-search-results-button,.search-container input[type=search]::-webkit-search-results-decoration{-webkit-appearance:none}.search-container input::-webkit-calendar-picker-indicator{display:none}.search-container .sprite.svg-arrow-down{position:absolute;top:8px;top:.8rem;right:6px;right:.6rem}#searchInput{-webkit-appearance:none;width:100%;height:44px;height:4.4rem;border-width:1px 0 1px 1px;-moz-border-radius:2px 0 0 2px;border-radius:2px 0 0 2px;padding:.8rem 9.6rem .8rem 1.2rem;font-size:16px;font-size:1.6rem;line-height:1.6;-webkit-transition:background .1s ease,border-color .1s ease,-webkit-box-shadow .1s ease;transition:background .1s ease,border-color .1s ease,-webkit-box-shadow .1s ease;-o-transition:background .1s ease,border-color .1s ease,box-shadow .1s ease;-moz-transition:background .1s ease,border-color .1s ease,box-shadow .1s ease,-moz-box-shadow .1s ease;transition:background .1s ease,border-color .1s ease,box-shadow .1s ease;transition:background .1s ease,border-color .1s ease,box-shadow .1s ease,-webkit-box-shadow .1s ease,-moz-box-shadow .1s ease}#searchInput:hover{border-color:#72777d}#searchInput:focus{border-color:#36c;-webkit-box-shadow:inset 0 0 0 1px #36c;-moz-box-shadow:inset 0 0 0 1px #36c;box-shadow:inset 0 0 0 1px #36c;outline:0}.search-container .search-input{display:inline-block;position:relative;width:73%;vertical-align:top}@media only screen and (max-width:480px){.search-container .pure-form fieldset{margin-left:1rem;margin-right:6.6rem}.search-container .search-input{width:100%;margin-right:-6.6rem}.search-container .pure-form button{float:right;right:-56px;right:-5.6rem}}.suggestions-dropdown{background-color:#fff;display:inline-block;position:absolute;left:0;z-index:2;margin:0;padding:0;border:1px solid #a2a9b1;border-top:0;-webkit-box-shadow:0 2px 2px 0 rgba(0,0,0,.25);-moz-box-shadow:0 2px 2px 0 rgba(0,0,0,.25);box-shadow:0 2px 2px 0 rgba(0,0,0,.25);list-style-type:none;word-spacing:normal}.suggestion-link,.suggestions-dropdown{-webkit-box-sizing:border-box;-moz-box-sizing:border-box;box-sizing:border-box;width:100%;text-align:left}.suggestion-link{display:block;position:relative;min-height:70px;min-height:7rem;padding:1rem 1rem 1rem 8.5rem;border-bottom:1px solid #eaecf0;color:inherit;text-decoration:none;text-align:initial;white-space:normal}.suggestion-link.active{background-color:#eaf3ff}a.suggestion-link:hover{text-decoration:none}a.suggestion-link:active,a.suggestion-link:focus{outline:0;white-space:normal}.suggestion-thumbnail{background-color:#eaecf0;background-image:url(portal/wikipedia.org/assets/img/noimage.png);background-image:-webkit-linear-gradient(transparent,transparent),url(\"data:image/svg+xml;charset=utf-8,%3Csvg xmlns=\\'http://www.w3.org/2000/svg\\' viewBox=\\'0 0 56 56\\'%3E%3Cpath fill=\\'%23eee\\' d=\\'M0 0h56v56H0z\\'/%3E%3Cpath fill=\\'%23999\\' d=\\'M36.4 13.5H17.8v24.9c0 1.4.9 2.3 2.3 2.3h18.7v-25c.1-1.4-1-2.2-2.4-2.2zM30.2 17h5.1v6.4h-5.1V17zm-8.8 0h6v1.8h-6V17zm0 4.6h6v1.8h-6v-1.8zm0 15.5v-1.8h13.8v1.8H21.4zm13.8-4.5H21.4v-1.8h13.8v1.8zm0-4.7H21.4v-1.8h13.8v1.8z\\'/%3E%3C/svg%3E\");background-image:-webkit-linear-gradient(transparent,transparent),url(portal/wikipedia.org/assets/img/noimage.svg) !ie;background-image:-webkit-gradient(linear,left top,left bottom,from(transparent),to(transparent)),url(\"data:image/svg+xml;charset=utf-8,%3Csvg xmlns=\\'http://www.w3.org/2000/svg\\' viewBox=\\'0 0 56 56\\'%3E%3Cpath fill=\\'%23eee\\' d=\\'M0 0h56v56H0z\\'/%3E%3Cpath fill=\\'%23999\\' d=\\'M36.4 13.5H17.8v24.9c0 1.4.9 2.3 2.3 2.3h18.7v-25c.1-1.4-1-2.2-2.4-2.2zM30.2 17h5.1v6.4h-5.1V17zm-8.8 0h6v1.8h-6V17zm0 4.6h6v1.8h-6v-1.8zm0 15.5v-1.8h13.8v1.8H21.4zm13.8-4.5H21.4v-1.8h13.8v1.8zm0-4.7H21.4v-1.8h13.8v1.8z\\'/%3E%3C/svg%3E\");background-image:-moz- oldlinear-gradient(transparent,transparent),url(\"data:image/svg+xml;charset=utf-8,%3Csvg xmlns=\\'http://www.w3.org/2000/svg\\' viewBox=\\'0 0 56 56\\'%3E%3Cpath fill=\\'%23eee\\' d=\\'M0 0h56v56H0z\\'/%3E%3Cpath fill=\\'%23999\\' d=\\'M36.4 13.5H17.8v24.9c0 1.4.9 2.3 2.3 2.3h18.7v-25c.1-1.4-1-2.2-2.4-2.2zM30.2 17h5.1v6.4h-5.1V17zm-8.8 0h6v1.8h-6V17zm0 4.6h6v1.8h-6v-1.8zm0 15.5v-1.8h13.8v1.8H21.4zm13.8-4.5H21.4v-1.8h13.8v1.8zm0-4.7H21.4v-1.8h13.8v1.8z\\'/%3E%3C/svg%3E\");background-image:-o-linear-gradient(transparent,transparent),url(\"data:image/svg+xml;charset=utf-8,%3Csvg xmlns=\\'http://www.w3.org/2000/svg\\' viewBox=\\'0 0 56 56\\'%3E%3Cpath fill=\\'%23eee\\' d=\\'M0 0h56v56H0z\\'/%3E%3Cpath fill=\\'%23999\\' d=\\'M36.4 13.5H17.8v24.9c0 1.4.9 2.3 2.3 2.3h18.7v-25c.1-1.4-1-2.2-2.4-2.2zM30.2 17h5.1v6.4h-5.1V17zm-8.8 0h6v1.8h-6V17zm0 4.6h6v1.8h-6v-1.8zm0 15.5v-1.8h13.8v1.8H21.4zm13.8-4.5H21.4v-1.8h13.8v1.8zm0-4.7H21.4v-1.8h13.8v1.8z\\'/%3E%3C/svg%3E\");background-image:linear-gradient(transparent,transparent),url(\"data:image/svg+xml;charset=utf-8,%3Csvg xmlns=\\'http://www.w3.org/2000/svg\\' viewBox=\\'0 0 56 56\\'%3E%3Cpath fill=\\'%23eee\\' d=\\'M0 0h56v56H0z\\'/%3E%3Cpath fill=\\'%23999\\' d=\\'M36.4 13.5H17.8v24.9c0 1.4.9 2.3 2.3 2.3h18.7v-25c.1-1.4-1-2.2-2.4-2.2zM30.2 17h5.1v6.4h-5.1V17zm-8.8 0h6v1.8h-6V17zm0 4.6h6v1.8h-6v-1.8zm0 15.5v-1.8h13.8v1.8H21.4zm13.8-4.5H21.4v-1.8h13.8v1.8zm0-4.7H21.4v-1.8h13.8v1.8z\\'/%3E%3C/svg%3E\");background-image:-webkit-gradient(linear,left top,left bottom,from(transparent),to(transparent)),url(portal/wikipedia.org/assets/img/noimage.svg) !ie;background-image:-moz- oldlinear-gradient(transparent,transparent),url(portal/wikipedia.org/assets/img/noimage.svg) !ie;background-image:-o-linear-gradient(transparent,transparent),url(portal/wikipedia.org/assets/img/noimage.svg) !ie;background-image:linear-gradient(transparent,transparent),url(portal/wikipedia.org/assets/img/noimage.svg) !ie;background-image:-o-linear-gradient(transparent,transparent),url(portal/wikipedia.org/assets/img/noimage.png);background-position:50%;background-repeat:no-repeat;-webkit-background-size:100% auto;-moz-background-size:100% auto;background-size:100% auto;-webkit-background-size:cover;-moz-background-size:cover;background-size:cover;height:100%;width:70px;width:7rem;position:absolute;top:0;left:0}.suggestion-title{margin:0 0 .78rem;color:#54595d;font-size:16px;font-size:1.6rem;line-height:18.72px;line-height:1.872rem}.suggestion-link.active .suggestion-title{color:#36c}.suggestion-highlight{font-style:normal;text-decoration:underline}.suggestion-description{color:#72777d;margin:0;font-size:13px;font-size:1.3rem;line-height:14.299px;line-height:1.43rem}.styled-select{display:none;position:absolute;top:10px;top:1rem;bottom:12px;bottom:1.2rem;right:12px;right:1.2rem;max-width:95px;max-width:9.5rem;height:24px;height:2.4rem;-moz-border-radius:2px;border-radius:2px}.styled-select:hover{background-color:#f8f9fa}.styled-select .hide-arrow{right:32px;right:3.2rem;max-width:68px;max-width:6.8rem;height:24px;height:2.4rem;overflow:hidden;text-align:right}.styled-select select{background:transparent;display:inline;overflow:hidden;height:24px;height:2.4rem;min-width:110px;min-width:11rem;max-width:110px;max-width:11rem;width:110px;width:11rem;outline:0;-webkit-box-sizing:border-box;-moz-box-sizing:border-box;box-sizing:border-box;border:0;line-height:24px;line-height:2.4rem;-webkit-appearance:none;-moz-appearance:window;text-indent:.01px;-o-text-overflow:\"\";text-overflow:\"\";opacity:0;-moz-appearance:none;appearance:none;cursor:pointer}.styled-select.no-js{width:95px;width:9.5rem}.styled-select.no-js select{opacity:1;margin:0;padding:0 2.4rem 0 .8rem;color:#54595d}.styled-select.no-js .hide-arrow{width:68px;width:6.8rem}.search-container .styled-select.no-js .js-langpicker-label{display:none}.styled-select.js-enabled .hide-arrow{padding:0 2.4rem 0 .8rem}.styled-select.js-enabled select{background:transparent;position:absolute;top:0;left:0;height:100%;z-index:1;width:100%;border:0;margin:0;padding:0 2.4rem;color:transparent;color:hsla(0,0%,100%,0)}.styled-select.js-enabled select option{color:#54595d}.styled-select.js-enabled select:hover{background-color:transparent}.styled-select-active-helper{display:none}.styled-select.js-enabled select:focus+.styled-select-active-helper{display:block;position:absolute;top:0;left:0;z-index:0;width:100%;height:100%;outline:1px solid #36c}.search-container .js-langpicker-label{display:inline-block;margin:0;color:#54595d;font-size:13px;font-size:1.3rem;line-height:24px;line-height:2.4rem;text-transform:uppercase}.styled-select select:hover{background-color:#f8f9fa}.styled-select select::-ms-expand{display:none}.styled-select select:focus{outline:0;-webkit-box-shadow:none;-moz-box-shadow:none;box-shadow:none}@-moz-document url-prefix(){.styled-select select{width:110%}}.other-projects{display:inline-block;width:65%}.other-project{float:left;position:relative;width:33%;height:90px;height:9rem}.other-project-link{display:inline-block;min-height:50px;width:90%;padding:1em;white-space:nowrap}.other-project-link:hover{background-color:#eaecf0}a.other-project-link{text-decoration:none}.other-project-icon{display:inline-block;width:50px;text-align:center}.svg-Wikinews-logo_sister{background-image:url(portal/wikipedia.org/assets/img/Wikinews-logo_sister.png);background-position:0 0;-webkit-background-size:47px 26px;-moz-background-size:47px 26px;background-size:47px 26px;width:47px;height:26px}@media (-o-min-device-pixel-ratio:5/4),(-webkit-min-device-pixel-ratio:1.25),(min-resolution:120dpi){.svg-Wikinews-logo_sister{background-image:url(portal/wikipedia.org/assets/img/Wikinews-logo_sister@2x.png)}}.other-project-text,.other-project .sprite-project-logos{display:inline-block}.other-project-text{max-width:65%;font-size:14px;font-size:1.4rem;vertical-align:middle;white-space:normal}.other-project-tagline,.other-project-title{display:block}.other-project-tagline{color:#54595d;font-size:13px;font-size:1.3rem}@media screen and (max-width:768px){.other-projects{width:100%}.other-project{width:33%}}@media screen and (max-width:480px){.other-project{width:50%}.other-project-tagline{-webkit-hyphens:auto;-moz-hyphens:auto;-ms-hyphens:auto;hyphens:auto}}@media screen and (max-width:320px){.other-project-text{margin-right:5px;font-size:13px;font-size:1.3rem}}.lang-list-container{background-color:#f8f9fa;overflow:hidden;position:relative;-webkit-box-sizing:border-box;-moz-box-sizing:border-box;box-sizing:border-box;max-height:0;width:80%;margin:-1.6rem auto 4.8rem;-webkit-transition:max-height .5s ease-out .16s,visibility .5s ease-in 1s;-o-transition:max-height .5s ease-out .16s,visibility .5s ease-in 1s;-moz-transition:max-height .5s ease-out .16s,visibility .5s ease-in 1s;transition:max-height .5s ease-out .16s,visibility .5s ease-in 1s}.js-enabled .lang-list-container{visibility:hidden}.lang-list-active .lang-list-container,.no-js .lang-list-container{visibility:visible;max-height:10000px;-webkit-transition:max-height 1s ease-in .2s,visibility 1000s ease-in 0ms;-o-transition:max-height 1s ease-in .2s,visibility 1000s ease-in 0ms;-moz-transition:max-height 1s ease-in .2s,visibility 1000s ease-in 0ms;transition:max-height 1s ease-in .2s,visibility 1000s ease-in 0ms}.no-js .lang-list-button{display:none}.lang-list-button-wrapper{text-align:center}.lang-list-button{background-color:#f8f9fa;display:inline;position:relative;z-index:1;margin:0 auto;padding:.6rem 1.2rem;outline:16px solid #fff;outline:1.6rem solid #fff;border:1px solid #a2a9b1;-moz-border-radius:2px;border-radius:2px;color:#36c;font-size:14px;font-size:1.4rem;font-weight:700;line-height:1;-webkit-transition:outline-width .1s ease-in .5s;-o-transition:outline-width .1s ease-in .5s;-moz-transition:outline-width .1s ease-in .5s;transition:outline-width .1s ease-in .5s}.lang-list-button:hover{background-color:#fff;border-color:#a2a9b1}.lang-list-button:focus{border-color:#36c;-webkit-box-shadow:inset 0 0 0 1px #36c;-moz-box-shadow:inset 0 0 0 1px #36c;box-shadow:inset 0 0 0 1px #36c}.lang-list-active .lang-list-button{background-color:#fff;outline:1px solid #fff;border-color:#72777d;-webkit-transition-delay:0s;-moz-transition-delay:0s;-o-transition-delay:0s;transition-delay:0s}.lang-list-button-text{padding:0 .64rem;vertical-align:middle}.lang-list-button i{display:inline-block;vertical-align:middle}.no-js .lang-list-border,.no-js .lang-list-button{display:none}.lang-list-border{background-color:#c8ccd1;display:block;position:relative;max-width:460px;width:80%;margin:-1.6rem auto 1.6rem;height:1px;-webkit-transition:max-width .2s ease-out .4s;-o-transition:max-width .2s ease-out .4s;-moz-transition:max-width .2s ease-out .4s;transition:max-width .2s ease-out .4s}.lang-list-active .lang-list-border{max-width:85%;-webkit-transition-delay:0s;-moz-transition-delay:0s;-o-transition-delay:0s;transition-delay:0s}.no-js .lang-list-content{padding:0}.lang-list-content{position:relative;-webkit-box-sizing:border-box;-moz-box-sizing:border-box;box-sizing:border-box;width:100%;padding:1.6rem 1.6rem 0}.svg-arrow-down-blue{-webkit-transition:-webkit-transform .2s ease-out;transition:-webkit-transform .2s ease-out;-o-transition:transform .2s ease-out;-moz-transition:transform .2s ease-out,-moz-transform .2s ease-out;transition:transform .2s ease-out;transition:transform .2s ease-out,-webkit-transform .2s ease-out,-moz-transform .2s ease-out}.lang-list-active .svg-arrow-down-blue{-webkit-transform:rotate(180deg);-moz-transform:rotate(180deg);-ms-transform:rotate(180deg);transform:rotate(180deg)}.langlist{width:auto;margin:1.6rem 0;text-align:left}.langlist-others{font-weight:700;text-align:center}.hlist ul{margin:0;padding:0}.hlist li,.hlist ul ul{display:inline}.hlist li:before{content:\" \\xc2\\xb7 \";font-weight:700}.hlist li:first-child:before{content:none}.hlist li>ul:before{content:\"\\\\00a0(\"}.hlist li>ul:after{content:\") \"}.langlist>ul{-webkit-column-width:11.2rem;-moz-column-width:11.2rem;column-width:11.2rem}.langlist>ul>li{display:block;line-height:1.7;-webkit-column-break-inside:avoid;page-break-inside:avoid;break-inside:avoid}.no-js .langlist>ul{text-align:center;list-style-type:circle}.no-js .langlist>ul>li{display:inline-block;padding:0 .8rem}.langlist>ul>li:before{content:none}.langlist>ul>li a{white-space:normal}@media (max-width:480px){.langlist{font-size:inherit}.langlist a{word-wrap:break-word;white-space:normal}.lang-list-container{width:auto;margin-left:.8rem;margin-right:.8rem}.bookshelf{overflow:visible}}.bookshelf{display:block;border-top:1px solid #c8ccd1;-webkit-box-shadow:0 -1px 0 #fff;-moz-box-shadow:0 -1px 0 #fff;box-shadow:0 -1px 0 #fff;text-align:center;white-space:nowrap}.bookshelf .text{background-color:#f8f9fa;position:relative;top:-11.2px;top:-1.12rem;font-weight:400;padding:0 .8rem}.bookshelf-container{display:block;overflow:visible;width:100%;height:1px;margin:2.4rem 0 1.6rem;font-size:13px;font-size:1.3rem;font-weight:700;line-height:1.5}@media (max-width:480px){.bookshelf{width:auto;left:auto}.bookshelf-container{text-align:left;width:auto}}.app-badges .footer-sidebar-content{background-color:#f8f9fa}.app-badges .footer-sidebar-text{padding-top:.8rem;padding-bottom:.8rem}.app-badges .sprite.footer-sidebar-icon{top:8px;top:.8rem}.app-badges ul{margin:0;padding:0;list-style-type:none}.app-badge{display:inline-block}.app-badge a{color:transparent}@media screen and (max-width:768px){.app-badges .footer-sidebar-content{text-align:center}.app-badges .sprite.footer-sidebar-icon{display:inline-block;position:relative;margin:0;top:-3px;left:0;vertical-align:middle;-webkit-transform:scale(.7);-moz-transform:scale(.7);-ms-transform:scale(.7);transform:scale(.7)}}.footer{overflow:hidden;max-width:100%;margin:0 auto;padding:4.16rem 1.28rem 1.28rem;font-size:13px;font-size:1.3rem}.footer:after,.footer:before{content:\" \";display:table}.footer:after{clear:both}.footer-sidebar{width:35%;float:left;clear:left;margin-bottom:3.2rem;vertical-align:top}.footer-sidebar-content{position:relative;max-width:350px;margin:0 auto}.sprite.footer-sidebar-icon{position:absolute;top:0;left:8px;left:.8rem}.footer-sidebar-text{position:relative;margin:0;padding-left:6rem;padding-right:2rem;color:#54595d}.site-license{color:#54595d;text-align:center}.site-license small:after{content:\"\\\\2022\";display:inline-block;font-size:13px;font-size:1.3rem;line-height:inherit;margin-left:.8rem;margin-right:.5rem}.site-license small:last-child:after{display:none}@media screen and (max-width:768px){.footer{display:-webkit-box;display:-webkit-flex;display:-moz-box;display:-ms-flexbox;display:flex;-webkit-box-orient:vertical;-webkit-box-direction:normal;-webkit-flex-direction:column;-moz-box-orient:vertical;-moz-box-direction:normal;-ms-flex-direction:column;flex-direction:column;padding-top:1.28rem}.footer .footer-sidebar{-webkit-box-ordinal-group:1;-moz-box-ordinal-group:1;-webkit-order:1;-ms-flex-order:1;order:1}.footer .other-projects{-webkit-box-ordinal-group:2;-moz-box-ordinal-group:2;-webkit-order:2;-ms-flex-order:2;order:2}.footer .app-badges{-webkit-box-ordinal-group:3;-moz-box-ordinal-group:3;-webkit-order:3;-ms-flex-order:3;order:3}.footer-sidebar{width:100%}.sprite.footer-sidebar-icon{display:block;position:relative;left:0;margin:0 auto 1.28rem}.footer-sidebar-content{max-width:none}.footer-sidebar-text{margin:0;padding:0;text-align:center}}@media screen and (max-width:480px){.footer{padding:.96rem .64rem 1.28rem}}@media (max-width:480px){.search-container{margin-top:0;height:78px;height:7.8rem;position:absolute;top:96px;top:9.6rem;left:0;right:0;max-width:100%;width:auto;padding:0;text-align:left}.search-container label{display:none}.search-form #searchInput{max-width:40%;vertical-align:middle}.search-form .formBtn{max-width:25%;vertical-align:middle}form fieldset{margin:0;border-left:0;border-right:0}hr{margin-top:.65rem}}@media (-o-min-device-pixel-ratio:2/1),(-webkit-min-device-pixel-ratio:2),(min--moz-device-pixel-ratio:2),(min-resolution:2dppx),(min-resolution:192dpi){hr{border-bottom-width:.5px}}@supports (-webkit-marquee-style:slide){hr{border-bottom-width:1px}}.js-enabled .central-featured,.js-enabled .jsl10n{visibility:hidden}.jsl10n-visible .central-featured,.jsl10n-visible .jsl10n{visibility:visible}@media print{body{background-color:transparent}a{color:#000!important;background:none!important;padding:0!important}a:link,a:visited{color:#520;background:transparent}img{border:0}}\\n</style>\\n<link rel=\"preconnect\" href=\"//upload.wikimedia.org\">\\n</head>\\n<body id=\"www-wikipedia-org\">\\n<div class=\"central-textlogo\">\\n<img class=\"central-featured-logo\" src=\"portal/wikipedia.org/assets/img/Wikipedia-logo-v2.png\" srcset=\"portal/wikipedia.org/assets/img/Wikipedia-logo-v2@1.5x.png 1.5x, portal/wikipedia.org/assets/img/Wikipedia-logo-v2@2x.png 2x\" width=\"200\" height=\"183\" alt=\"Wikipedia\">\\n<h1 class=\"central-textlogo-wrapper\">\\n<span class=\"central-textlogo__image sprite svg-Wikipedia_wordmark\">\\nWikipedia\\n</span>\\n<strong class=\"jsl10n localized-slogan\" data-jsl10n=\"portal.slogan\">The Free Encyclopedia</strong>\\n</h1>\\n</div>\\n<div class=\"central-featured\" data-el-section=\"primary links\">\\n<!-- #1. en.wikipedia.org - 1 796 091 000 views/day -->\\n<div class=\"central-featured-lang lang1\" lang=\"en\" dir=\"ltr\">\\n<a id=\"js-link-box-en\" href=\"//en.wikipedia.org/\" title=\"English \\xe2\\x80\\x94 Wikipedia \\xe2\\x80\\x94 The Free Encyclopedia\" class=\"link-box\" data-slogan=\"The Free Encyclopedia\">\\n<strong>English</strong>\\n<small><bdi dir=\"ltr\">6&nbsp;606&nbsp;000+</bdi> <span>articles</span></small>\\n</a>\\n</div>\\n<!-- #2. ru.wikipedia.org - 233 010 000 views/day -->\\n<div class=\"central-featured-lang lang2\" lang=\"ru\" dir=\"ltr\">\\n<a id=\"js-link-box-ru\" href=\"//ru.wikipedia.org/\" title=\"Russkiy \\xe2\\x80\\x94 \\xd0\\x92\\xd0\\xb8\\xd0\\xba\\xd0\\xb8\\xd0\\xbf\\xd0\\xb5\\xd0\\xb4\\xd0\\xb8\\xd1\\x8f \\xe2\\x80\\x94 \\xd0\\xa1\\xd0\\xb2\\xd0\\xbe\\xd0\\xb1\\xd0\\xbe\\xd0\\xb4\\xd0\\xbd\\xd0\\xb0\\xd1\\x8f \\xd1\\x8d\\xd0\\xbd\\xd1\\x86\\xd0\\xb8\\xd0\\xba\\xd0\\xbb\\xd0\\xbe\\xd0\\xbf\\xd0\\xb5\\xd0\\xb4\\xd0\\xb8\\xd1\\x8f\" class=\"link-box\" data-slogan=\"\\xd0\\xa1\\xd0\\xb2\\xd0\\xbe\\xd0\\xb1\\xd0\\xbe\\xd0\\xb4\\xd0\\xbd\\xd0\\xb0\\xd1\\x8f \\xd1\\x8d\\xd0\\xbd\\xd1\\x86\\xd0\\xb8\\xd0\\xba\\xd0\\xbb\\xd0\\xbe\\xd0\\xbf\\xd0\\xb5\\xd0\\xb4\\xd0\\xb8\\xd1\\x8f\">\\n<strong>\\xd0\\xa0\\xd1\\x83\\xd1\\x81\\xd1\\x81\\xd0\\xba\\xd0\\xb8\\xd0\\xb9</strong>\\n<small><bdi dir=\"ltr\">1&nbsp;887&nbsp;000+</bdi> <span>\\xd1\\x81\\xd1\\x82\\xd0\\xb0\\xd1\\x82\\xd0\\xb5\\xd0\\xb9</span></small>\\n</a>\\n</div>\\n<!-- #3. ja.wikipedia.org - 227 287 000 views/day -->\\n<div class=\"central-featured-lang lang3\" lang=\"ja\" dir=\"ltr\">\\n<a id=\"js-link-box-ja\" href=\"//ja.wikipedia.org/\" title=\"Nihongo \\xe2\\x80\\x94 \\xe3\\x82\\xa6\\xe3\\x82\\xa3\\xe3\\x82\\xad\\xe3\\x83\\x9a\\xe3\\x83\\x87\\xe3\\x82\\xa3\\xe3\\x82\\xa2 \\xe2\\x80\\x94 \\xe3\\x83\\x95\\xe3\\x83\\xaa\\xe3\\x83\\xbc\\xe7\\x99\\xbe\\xe7\\xa7\\x91\\xe4\\xba\\x8b\\xe5\\x85\\xb8\" class=\"link-box\" data-slogan=\"\\xe3\\x83\\x95\\xe3\\x83\\xaa\\xe3\\x83\\xbc\\xe7\\x99\\xbe\\xe7\\xa7\\x91\\xe4\\xba\\x8b\\xe5\\x85\\xb8\">\\n<strong>\\xe6\\x97\\xa5\\xe6\\x9c\\xac\\xe8\\xaa\\x9e</strong>\\n<small><bdi dir=\"ltr\">1&nbsp;359&nbsp;000+</bdi> <span>\\xe8\\xa8\\x98\\xe4\\xba\\x8b</span></small>\\n</a>\\n</div>\\n<!-- #4. de.wikipedia.org - 208 724 000 views/day -->\\n<div class=\"central-featured-lang lang4\" lang=\"de\" dir=\"ltr\">\\n<a id=\"js-link-box-de\" href=\"//de.wikipedia.org/\" title=\"Deutsch \\xe2\\x80\\x94 Wikipedia \\xe2\\x80\\x94 Die freie Enzyklop\\xc3\\xa4die\" class=\"link-box\" data-slogan=\"Die freie Enzyklop\\xc3\\xa4die\">\\n<strong>Deutsch</strong>\\n<small><bdi dir=\"ltr\">2&nbsp;764&nbsp;000+</bdi> <span>Artikel</span></small>\\n</a>\\n</div>\\n<!-- #5. fr.wikipedia.org - 202 463 000 views/day -->\\n<div class=\"central-featured-lang lang5\" lang=\"fr\" dir=\"ltr\">\\n<a id=\"js-link-box-fr\" href=\"//fr.wikipedia.org/\" title=\"fran\\xc3\\xa7ais \\xe2\\x80\\x94 Wikip\\xc3\\xa9dia \\xe2\\x80\\x94 L\\xe2\\x80\\x99encyclop\\xc3\\xa9die libre\" class=\"link-box\" data-slogan=\"L\\xe2\\x80\\x99encyclop\\xc3\\xa9die libre\">\\n<strong>Fran\\xc3\\xa7ais</strong>\\n<small><bdi dir=\"ltr\">2&nbsp;488&nbsp;000+</bdi> <span>articles</span></small>\\n</a>\\n</div>\\n<!-- #6. es.wikipedia.org - 192 928 000 views/day -->\\n<div class=\"central-featured-lang lang6\" lang=\"es\" dir=\"ltr\">\\n<a id=\"js-link-box-es\" href=\"//es.wikipedia.org/\" title=\"Espa\\xc3\\xb1ol \\xe2\\x80\\x94 Wikipedia \\xe2\\x80\\x94 La enciclopedia libre\" class=\"link-box\" data-slogan=\"La enciclopedia libre\">\\n<strong>Espa\\xc3\\xb1ol</strong>\\n<small><bdi dir=\"ltr\">1&nbsp;833&nbsp;000+</bdi> <span>art\\xc3\\xadculos</span></small>\\n</a>\\n</div>\\n<!-- #7. it.wikipedia.org - 124 624 000 views/day -->\\n<div class=\"central-featured-lang lang7\" lang=\"it\" dir=\"ltr\">\\n<a id=\"js-link-box-it\" href=\"//it.wikipedia.org/\" title=\"Italiano \\xe2\\x80\\x94 Wikipedia \\xe2\\x80\\x94 L&#x27;enciclopedia libera\" class=\"link-box\" data-slogan=\"L&#x27;enciclopedia libera\">\\n<strong>Italiano</strong>\\n<small><bdi dir=\"ltr\">1&nbsp;792&nbsp;000+</bdi> <span>voci</span></small>\\n</a>\\n</div>\\n<!-- #8. zh.wikipedia.org - 77 591 000 views/day -->\\n<div class=\"central-featured-lang lang8\" lang=\"zh\" dir=\"ltr\">\\n<a id=\"js-link-box-zh\" href=\"//zh.wikipedia.org/\" title=\"Zh\\xc5\\x8dngw\\xc3\\xa9n \\xe2\\x80\\x94 \\xe7\\xbb\\xb4\\xe5\\x9f\\xba\\xe7\\x99\\xbe\\xe7\\xa7\\x91 / \\xe7\\xb6\\xad\\xe5\\x9f\\xba\\xe7\\x99\\xbe\\xe7\\xa7\\x91 \\xe2\\x80\\x94 \\xe8\\x87\\xaa\\xe7\\x94\\xb1\\xe7\\x9a\\x84\\xe7\\x99\\xbe\\xe7\\xa7\\x91\\xe5\\x85\\xa8\\xe4\\xb9\\xa6 / \\xe8\\x87\\xaa\\xe7\\x94\\xb1\\xe7\\x9a\\x84\\xe7\\x99\\xbe\\xe7\\xa7\\x91\\xe5\\x85\\xa8\\xe6\\x9b\\xb8\" class=\"link-box jscnconv\" data-title-hans=\"Zh\\xc5\\x8dngw\\xc3\\xa9n \\xe2\\x80\\x94 \\xe7\\xbb\\xb4\\xe5\\x9f\\xba\\xe7\\x99\\xbe\\xe7\\xa7\\x91 \\xe2\\x80\\x94 \\xe8\\x87\\xaa\\xe7\\x94\\xb1\\xe7\\x9a\\x84\\xe7\\x99\\xbe\\xe7\\xa7\\x91\\xe5\\x85\\xa8\\xe4\\xb9\\xa6\" data-title-hant=\"Zh\\xc5\\x8dngw\\xc3\\xa9n \\xe2\\x80\\x94 \\xe7\\xb6\\xad\\xe5\\x9f\\xba\\xe7\\x99\\xbe\\xe7\\xa7\\x91 \\xe2\\x80\\x94 \\xe8\\x87\\xaa\\xe7\\x94\\xb1\\xe7\\x9a\\x84\\xe7\\x99\\xbe\\xe7\\xa7\\x91\\xe5\\x85\\xa8\\xe6\\x9b\\xb8\" data-slogan=\"\\xe8\\x87\\xaa\\xe7\\x94\\xb1\\xe7\\x9a\\x84\\xe7\\x99\\xbe\\xe7\\xa7\\x91\\xe5\\x85\\xa8\\xe4\\xb9\\xa6 / \\xe8\\x87\\xaa\\xe7\\x94\\xb1\\xe7\\x9a\\x84\\xe7\\x99\\xbe\\xe7\\xa7\\x91\\xe5\\x85\\xa8\\xe6\\x9b\\xb8\">\\n<strong>\\xe4\\xb8\\xad\\xe6\\x96\\x87</strong>\\n<small><bdi dir=\"ltr\">1&nbsp;331&nbsp;000+</bdi> <span data-hans=\"\\xe6\\x9d\\xa1\\xe7\\x9b\\xae\" data-hant=\"\\xe6\\xa2\\x9d\\xe7\\x9b\\xae\" class=\"jscnconv\">\\xe6\\x9d\\xa1\\xe7\\x9b\\xae / \\xe6\\xa2\\x9d\\xe7\\x9b\\xae</span></small>\\n</a>\\n</div>\\n<!-- #9. fa.wikipedia.org - 63 020 000 views/day -->\\n<div class=\"central-featured-lang lang9\" lang=\"fa\" dir=\"rtl\">\\n<a id=\"js-link-box-fa\" href=\"//fa.wikipedia.org/\" title=\"F\\xc4\\x81rsi \\xe2\\x80\\x94 \\xd9\\x88\\xdb\\x8c\\xda\\xa9\\xdb\\x8c\\xe2\\x80\\x8c\\xd9\\xbe\\xd8\\xaf\\xdb\\x8c\\xd8\\xa7 \\xe2\\x80\\x94 \\xd8\\xaf\\xd8\\xa7\\xd9\\x86\\xd8\\xb4\\xd9\\x86\\xd8\\xa7\\xd9\\x85\\xd9\\x87\\xd9\\x94 \\xd8\\xa2\\xd8\\xb2\\xd8\\xa7\\xd8\\xaf\" class=\"link-box\" data-slogan=\"\\xd8\\xaf\\xd8\\xa7\\xd9\\x86\\xd8\\xb4\\xd9\\x86\\xd8\\xa7\\xd9\\x85\\xd9\\x87\\xd9\\x94 \\xd8\\xa2\\xd8\\xb2\\xd8\\xa7\\xd8\\xaf\">\\n<strong><bdi dir=\"rtl\">\\xd9\\x81\\xd8\\xa7\\xd8\\xb1\\xd8\\xb3\\xdb\\x8c</bdi></strong>\\n<small><bdi dir=\"ltr\">947&nbsp;000+</bdi> <span>\\xd9\\x85\\xd9\\x82\\xd8\\xa7\\xd9\\x84\\xd9\\x87</span></small>\\n</a>\\n</div>\\n<!-- #10. pl.wikipedia.org - 56 271 000 views/day -->\\n<div class=\"central-featured-lang lang10\" lang=\"pl\" dir=\"ltr\">\\n<a id=\"js-link-box-pl\" href=\"//pl.wikipedia.org/\" title=\"Polski \\xe2\\x80\\x94 Wikipedia \\xe2\\x80\\x94 Wolna encyklopedia\" class=\"link-box\" data-slogan=\"Wolna encyklopedia\">\\n<strong>Polski</strong>\\n<small><bdi dir=\"ltr\">1&nbsp;552&nbsp;000+</bdi> <span>hase\\xc5\\x82</span></small>\\n</a>\\n</div>\\n</div>\\n<div class=\"search-container\">\\n<form class=\"pure-form\" id=\"search-form\" action=\"//www.wikipedia.org/search-redirect.php\" data-el-section=\"search\">\\n<fieldset>\\n<input type=\"hidden\" name=\"family\" value=\"Wikipedia\">\\n<input type=\"hidden\" id=\"hiddenLanguageInput\" name=\"language\" value=\"en\">\\n<div class=\"search-input\" id=\"search-input\">\\n<label for=\"searchInput\" class=\"screen-reader-text\" data-jsl10n=\"portal.search-input-label\">Search Wikipedia</label>\\n<input id=\"searchInput\" name=\"search\" type=\"search\" size=\"20\" autofocus=\"autofocus\" accesskey=\"F\" dir=\"auto\" autocomplete=\"off\">\\n<div class=\"styled-select no-js\">\\n<div class=\"hide-arrow\">\\n<select id=\"searchLanguage\" name=\"language\">\\n<option value=\"af\" lang=\"af\">Afrikaans</option>\\n<option value=\"pl\" lang=\"pl\">Polski</option>\\n<option value=\"ar\" lang=\"ar\">\\xd8\\xa7\\xd9\\x84\\xd8\\xb9\\xd8\\xb1\\xd8\\xa8\\xd9\\x8a\\xd8\\xa9</option><!-- Al-\\xca\\xbfArab\\xc4\\xabyah -->\\n<option value=\"ast\" lang=\"ast\">Asturianu</option>\\n<option value=\"az\" lang=\"az\">Az\\xc9\\x99rbaycanca</option>\\n<option value=\"bg\" lang=\"bg\">\\xd0\\x91\\xd1\\x8a\\xd0\\xbb\\xd0\\xb3\\xd0\\xb0\\xd1\\x80\\xd1\\x81\\xd0\\xba\\xd0\\xb8</option><!-- B\\xc7\\x8elgarski -->\\n<option value=\"nan\" lang=\"nan\">B\\xc3\\xa2n-l\\xc3\\xa2m-g\\xc3\\xba / H\\xc5\\x8d-l\\xc3\\xb3-o\\xc4\\x93</option>\\n<option value=\"bn\" lang=\"bn\">\\xe0\\xa6\\xac\\xe0\\xa6\\xbe\\xe0\\xa6\\x82\\xe0\\xa6\\xb2\\xe0\\xa6\\xbe</option><!-- Bangla -->\\n<option value=\"be\" lang=\"be\">\\xd0\\x91\\xd0\\xb5\\xd0\\xbb\\xd0\\xb0\\xd1\\x80\\xd1\\x83\\xd1\\x81\\xd0\\xba\\xd0\\xb0\\xd1\\x8f</option><!-- Belaruskaya -->\\n<option value=\"ca\" lang=\"ca\">Catal\\xc3\\xa0</option>\\n<option value=\"cs\" lang=\"cs\">\\xc4\\x8ce\\xc5\\xa1tina</option><!-- \\xc4\\x8de\\xc5\\xa1tina -->\\n<option value=\"cy\" lang=\"cy\">Cymraeg</option><!-- Cymraeg -->\\n<option value=\"da\" lang=\"da\">Dansk</option>\\n<option value=\"de\" lang=\"de\">Deutsch</option>\\n<option value=\"et\" lang=\"et\">Eesti</option>\\n<option value=\"el\" lang=\"el\">\\xce\\x95\\xce\\xbb\\xce\\xbb\\xce\\xb7\\xce\\xbd\\xce\\xb9\\xce\\xba\\xce\\xac</option><!-- Ell\\xc4\\xabnik\\xc3\\xa1 -->\\n<option value=\"en\" lang=\"en\" selected=selected>English</option><!-- English -->\\n<option value=\"es\" lang=\"es\">Espa\\xc3\\xb1ol</option>\\n<option value=\"eo\" lang=\"eo\">Esperanto</option>\\n<option value=\"eu\" lang=\"eu\">Euskara</option>\\n<option value=\"fa\" lang=\"fa\">\\xd9\\x81\\xd8\\xa7\\xd8\\xb1\\xd8\\xb3\\xdb\\x8c</option><!-- F\\xc4\\x81rsi -->\\n<option value=\"fr\" lang=\"fr\">Fran\\xc3\\xa7ais</option><!-- fran\\xc3\\xa7ais -->\\n<option value=\"gl\" lang=\"gl\">Galego</option>\\n<option value=\"ko\" lang=\"ko\">\\xed\\x95\\x9c\\xea\\xb5\\xad\\xec\\x96\\xb4</option><!-- Hangugeo -->\\n<option value=\"hi\" lang=\"hi\">\\xe0\\xa4\\xb9\\xe0\\xa4\\xbf\\xe0\\xa4\\xa8\\xe0\\xa5\\x8d\\xe0\\xa4\\xa6\\xe0\\xa5\\x80</option><!-- Hind\\xc4\\xab -->\\n<option value=\"hr\" lang=\"hr\">Hrvatski</option>\\n<option value=\"id\" lang=\"id\">Bahasa Indonesia</option>\\n<option value=\"it\" lang=\"it\">Italiano</option>\\n<option value=\"he\" lang=\"he\">\\xd7\\xa2\\xd7\\x91\\xd7\\xa8\\xd7\\x99\\xd7\\xaa</option><!-- Ivrit -->\\n<option value=\"ka\" lang=\"ka\">\\xe1\\x83\\xa5\\xe1\\x83\\x90\\xe1\\x83\\xa0\\xe1\\x83\\x97\\xe1\\x83\\xa3\\xe1\\x83\\x9a\\xe1\\x83\\x98</option><!-- Kartuli -->\\n<option value=\"la\" lang=\"la\">Latina</option>\\n<option value=\"lv\" lang=\"lv\">Latvie\\xc5\\xa1u</option>\\n<option value=\"lt\" lang=\"lt\">Lietuvi\\xc5\\xb3</option>\\n<option value=\"hu\" lang=\"hu\">Magyar</option>\\n<option value=\"mk\" lang=\"mk\">\\xd0\\x9c\\xd0\\xb0\\xd0\\xba\\xd0\\xb5\\xd0\\xb4\\xd0\\xbe\\xd0\\xbd\\xd1\\x81\\xd0\\xba\\xd0\\xb8</option><!-- Makedonski -->\\n<option value=\"arz\" lang=\"arz\">\\xd9\\x85\\xd8\\xb5\\xd8\\xb1\\xd9\\x89</option><!-- Ma\\xe1\\xb9\\xa3r\\xc4\\xab -->\\n<option value=\"ms\" lang=\"ms\">Bahasa Melayu</option>\\n<option value=\"min\" lang=\"min\">Bahaso Minangkabau</option>\\n<option value=\"nl\" lang=\"nl\">Nederlands</option>\\n<option value=\"ja\" lang=\"ja\">\\xe6\\x97\\xa5\\xe6\\x9c\\xac\\xe8\\xaa\\x9e</option><!-- Nihongo -->\\n<option value=\"no\" lang=\"nb\">Norsk (bokm\\xc3\\xa5l)</option>\\n<option value=\"nn\" lang=\"nn\">Norsk (nynorsk)</option>\\n<option value=\"ce\" lang=\"ce\">\\xd0\\x9d\\xd0\\xbe\\xd1\\x85\\xd1\\x87\\xd0\\xb8\\xd0\\xb9\\xd0\\xbd</option><!-- Nox\\xc3\\xa7iyn -->\\n<option value=\"uz\" lang=\"uz\">O\\xca\\xbbzbekcha / \\xd0\\x8e\\xd0\\xb7\\xd0\\xb1\\xd0\\xb5\\xd0\\xba\\xd1\\x87\\xd0\\xb0</option><!-- O\\xca\\xbbzbekcha -->\\n<option value=\"pt\" lang=\"pt\">Portugu\\xc3\\xaas</option>\\n<option value=\"kk\" lang=\"kk\">\\xd2\\x9a\\xd0\\xb0\\xd0\\xb7\\xd0\\xb0\\xd2\\x9b\\xd1\\x88\\xd0\\xb0 / Qazaq\\xc5\\x9fa / \\xd9\\x82\\xd8\\xa7\\xd8\\xb2\\xd8\\xa7\\xd9\\x82\\xd8\\xb4\\xd8\\xa7</option>\\n<option value=\"ro\" lang=\"ro\">Rom\\xc3\\xa2n\\xc4\\x83</option><!-- Rom\\xc3\\xa2n\\xc4\\x83 -->\\n<option value=\"simple\" lang=\"en\">Simple English</option>\\n<option value=\"ceb\" lang=\"ceb\">Sinugboanong Binisaya</option>\\n<option value=\"sk\" lang=\"sk\">Sloven\\xc4\\x8dina</option>\\n<option value=\"sl\" lang=\"sl\">Sloven\\xc5\\xa1\\xc4\\x8dina</option><!-- sloven\\xc5\\xa1\\xc4\\x8dina -->\\n<option value=\"sr\" lang=\"sr\">\\xd0\\xa1\\xd1\\x80\\xd0\\xbf\\xd1\\x81\\xd0\\xba\\xd0\\xb8 / Srpski</option>\\n<option value=\"sh\" lang=\"sh\">Srpskohrvatski / \\xd0\\xa1\\xd1\\x80\\xd0\\xbf\\xd1\\x81\\xd0\\xba\\xd0\\xbe\\xd1\\x85\\xd1\\x80\\xd0\\xb2\\xd0\\xb0\\xd1\\x82\\xd1\\x81\\xd0\\xba\\xd0\\xb8</option>\\n<option value=\"fi\" lang=\"fi\">Suomi</option><!-- suomi -->\\n<option value=\"sv\" lang=\"sv\">Svenska</option>\\n<option value=\"ta\" lang=\"ta\">\\xe0\\xae\\xa4\\xe0\\xae\\xae\\xe0\\xae\\xbf\\xe0\\xae\\xb4\\xe0\\xaf\\x8d</option><!-- Tami\\xe1\\xb8\\xbb -->\\n<option value=\"tt\" lang=\"tt\">\\xd0\\xa2\\xd0\\xb0\\xd1\\x82\\xd0\\xb0\\xd1\\x80\\xd1\\x87\\xd0\\xb0 / Tatar\\xc3\\xa7a</option>\\n<option value=\"th\" lang=\"th\">\\xe0\\xb8\\xa0\\xe0\\xb8\\xb2\\xe0\\xb8\\xa9\\xe0\\xb8\\xb2\\xe0\\xb9\\x84\\xe0\\xb8\\x97\\xe0\\xb8\\xa2</option><!-- Phasa Thai -->\\n<option value=\"tg\" lang=\"tg\">\\xd0\\xa2\\xd0\\xbe\\xd2\\xb7\\xd0\\xb8\\xd0\\xba\\xd3\\xa3</option><!-- Tojik\\xc4\\xab -->\\n<option value=\"azb\" lang=\"azb\">\\xd8\\xaa\\xdb\\x86\\xd8\\xb1\\xda\\xa9\\xd8\\xac\\xd9\\x87</option><!-- T\\xc3\\xbcrkce -->\\n<option value=\"tr\" lang=\"tr\">T\\xc3\\xbcrk\\xc3\\xa7e</option><!-- T\\xc3\\xbcrk\\xc3\\xa7e -->\\n<option value=\"uk\" lang=\"uk\">\\xd0\\xa3\\xd0\\xba\\xd1\\x80\\xd0\\xb0\\xd1\\x97\\xd0\\xbd\\xd1\\x81\\xd1\\x8c\\xd0\\xba\\xd0\\xb0</option><!-- Ukrayins\\xe2\\x80\\x99ka -->\\n<option value=\"ur\" lang=\"ur\">\\xd8\\xa7\\xd8\\xb1\\xd8\\xaf\\xd9\\x88</option><!-- Urdu -->\\n<option value=\"vi\" lang=\"vi\">Ti\\xe1\\xba\\xbfng Vi\\xe1\\xbb\\x87t</option>\\n<option value=\"war\" lang=\"war\">Winaray</option>\\n<option value=\"zh-yue\" lang=\"yue\">\\xe7\\xb2\\xb5\\xe8\\xaa\\x9e</option><!-- Yuht Y\\xc3\\xbah / Jyut6 jyu5 -->\\n<option value=\"zh\" lang=\"zh\">\\xe4\\xb8\\xad\\xe6\\x96\\x87</option><!-- Zh\\xc5\\x8dngw\\xc3\\xa9n -->\\n<option value=\"ru\" lang=\"ru\">\\xd0\\xa0\\xd1\\x83\\xd1\\x81\\xd1\\x81\\xd0\\xba\\xd0\\xb8\\xd0\\xb9</option><!-- Russkiy -->\\n<option value=\"hy\" lang=\"hy\">\\xd5\\x80\\xd5\\xa1\\xd5\\xb5\\xd5\\xa5\\xd6\\x80\\xd5\\xa5\\xd5\\xb6</option><!-- Hayeren -->\\n<option value=\"my\" lang=\"my\">\\xe1\\x80\\x99\\xe1\\x80\\xbc\\xe1\\x80\\x94\\xe1\\x80\\xba\\xe1\\x80\\x99\\xe1\\x80\\xac\\xe1\\x80\\x98\\xe1\\x80\\xac\\xe1\\x80\\x9e\\xe1\\x80\\xac</option><!-- Myanmarsar -->\\n</select>\\n<div class=\"styled-select-active-helper\"></div>\\n</div>\\n<i class=\"sprite svg-arrow-down\"></i>\\n</div>\\n</div>\\n<button class=\"pure-button pure-button-primary-progressive\" type=\"submit\">\\n<i class=\"sprite svg-search-icon\" data-jsl10n=\"search-input-button\">Search</i>\\n</button>\\n<input type=\"hidden\" value=\"Go\" name=\"go\">\\n</fieldset>\\n</form>\\n</div>\\n<div class=\"lang-list-button-wrapper\">\\n<button id=\"js-lang-list-button\" class=\"lang-list-button\">\\n<i class=\"sprite svg-language-icon\"></i>\\n<span class=\"lang-list-button-text jsl10n\" data-jsl10n=\"portal.language-button-text\">Read Wikipedia in your language </span>\\n<i class=\"sprite svg-arrow-down-blue\"></i>\\n</button>\\n</div>\\n<div class=\"lang-list-border\"></div>\\n<div class=\"lang-list-container\">\\n<div id=\"js-lang-lists\" class=\"lang-list-content\">\\n<h2 class=\"bookshelf-container\">\\n<span class=\"bookshelf\">\\n<span class=\"text\">\\n<bdi dir=\"ltr\">\\n1&nbsp;000&nbsp;000+\\n</bdi>\\n<span class=\"jsl10n\" data-jsl10n=\"entries\">\\narticles\\n</span>\\n</span>\\n</span>\\n</h2>\\n<div class=\"langlist langlist-large hlist\" data-el-section=\"secondary links\">\\n<ul>\\n<li><a href=\"//pl.wikipedia.org/\" lang=\"pl\">Polski</a></li>\\n<li><a href=\"//ar.wikipedia.org/\" lang=\"ar\" title=\"Al-\\xca\\xbfArab\\xc4\\xabyah\"><bdi dir=\"rtl\">\\xd8\\xa7\\xd9\\x84\\xd8\\xb9\\xd8\\xb1\\xd8\\xa8\\xd9\\x8a\\xd8\\xa9</bdi></a></li>\\n<li><a href=\"//de.wikipedia.org/\" lang=\"de\">Deutsch</a></li>\\n<li><a href=\"//en.wikipedia.org/\" lang=\"en\" title=\"English\">English</a></li>\\n<li><a href=\"//es.wikipedia.org/\" lang=\"es\">Espa\\xc3\\xb1ol</a></li>\\n<li><a href=\"//fr.wikipedia.org/\" lang=\"fr\" title=\"fran\\xc3\\xa7ais\">Fran\\xc3\\xa7ais</a></li>\\n<li><a href=\"//it.wikipedia.org/\" lang=\"it\">Italiano</a></li>\\n<li><a href=\"//arz.wikipedia.org/\" lang=\"arz\" title=\"Ma\\xe1\\xb9\\xa3r\\xc4\\xab\"><bdi dir=\"rtl\">\\xd9\\x85\\xd8\\xb5\\xd8\\xb1\\xd9\\x89</bdi></a></li>\\n<li><a href=\"//nl.wikipedia.org/\" lang=\"nl\">Nederlands</a></li>\\n<li><a href=\"//ja.wikipedia.org/\" lang=\"ja\" title=\"Nihongo\">\\xe6\\x97\\xa5\\xe6\\x9c\\xac\\xe8\\xaa\\x9e</a></li>\\n<li><a href=\"//pt.wikipedia.org/\" lang=\"pt\">Portugu\\xc3\\xaas</a></li>\\n<li><a href=\"//ceb.wikipedia.org/\" lang=\"ceb\">Sinugboanong Binisaya</a></li>\\n<li><a href=\"//sv.wikipedia.org/\" lang=\"sv\">Svenska</a></li>\\n<li><a href=\"//uk.wikipedia.org/\" lang=\"uk\" title=\"Ukrayins\\xe2\\x80\\x99ka\">\\xd0\\xa3\\xd0\\xba\\xd1\\x80\\xd0\\xb0\\xd1\\x97\\xd0\\xbd\\xd1\\x81\\xd1\\x8c\\xd0\\xba\\xd0\\xb0</a></li>\\n<li><a href=\"//vi.wikipedia.org/\" lang=\"vi\">Ti\\xe1\\xba\\xbfng Vi\\xe1\\xbb\\x87t</a></li>\\n<li><a href=\"//war.wikipedia.org/\" lang=\"war\">Winaray</a></li>\\n<li><a href=\"//zh.wikipedia.org/\" lang=\"zh\" title=\"Zh\\xc5\\x8dngw\\xc3\\xa9n\">\\xe4\\xb8\\xad\\xe6\\x96\\x87</a></li>\\n<li><a href=\"//ru.wikipedia.org/\" lang=\"ru\" title=\"Russkiy\">\\xd0\\xa0\\xd1\\x83\\xd1\\x81\\xd1\\x81\\xd0\\xba\\xd0\\xb8\\xd0\\xb9</a></li>\\n</ul>\\n</div>\\n<h2 class=\"bookshelf-container\">\\n<span class=\"bookshelf\">\\n<span class=\"text\">\\n<bdi dir=\"ltr\">\\n100&nbsp;000+\\n</bdi>\\n<span class=\"jsl10n\" data-jsl10n=\"portal.entries\">\\narticles\\n</span>\\n</span>\\n</span>\\n</h2>\\n<div class=\"langlist langlist-large hlist\" data-el-section=\"secondary links\">\\n<ul>\\n<li><a href=\"//af.wikipedia.org/\" lang=\"af\">Afrikaans</a></li>\\n<li><a href=\"//ast.wikipedia.org/\" lang=\"ast\">Asturianu</a></li>\\n<li><a href=\"//az.wikipedia.org/\" lang=\"az\">Az\\xc9\\x99rbaycanca</a></li>\\n<li><a href=\"//bg.wikipedia.org/\" lang=\"bg\" title=\"B\\xc7\\x8elgarski\">\\xd0\\x91\\xd1\\x8a\\xd0\\xbb\\xd0\\xb3\\xd0\\xb0\\xd1\\x80\\xd1\\x81\\xd0\\xba\\xd0\\xb8</a></li>\\n<li><a href=\"//zh-min-nan.wikipedia.org/\" lang=\"nan\">B\\xc3\\xa2n-l\\xc3\\xa2m-g\\xc3\\xba / H\\xc5\\x8d-l\\xc3\\xb3-o\\xc4\\x93</a></li>\\n<li><a href=\"//bn.wikipedia.org/\" lang=\"bn\" title=\"Bangla\">\\xe0\\xa6\\xac\\xe0\\xa6\\xbe\\xe0\\xa6\\x82\\xe0\\xa6\\xb2\\xe0\\xa6\\xbe</a></li>\\n<li><a href=\"//be.wikipedia.org/\" lang=\"be\" title=\"Belaruskaya\">\\xd0\\x91\\xd0\\xb5\\xd0\\xbb\\xd0\\xb0\\xd1\\x80\\xd1\\x83\\xd1\\x81\\xd0\\xba\\xd0\\xb0\\xd1\\x8f</a></li>\\n<li><a href=\"//ca.wikipedia.org/\" lang=\"ca\">Catal\\xc3\\xa0</a></li>\\n<li><a href=\"//cs.wikipedia.org/\" lang=\"cs\" title=\"\\xc4\\x8de\\xc5\\xa1tina\">\\xc4\\x8ce\\xc5\\xa1tina</a></li>\\n<li><a href=\"//cy.wikipedia.org/\" lang=\"cy\" title=\"Cymraeg\">Cymraeg</a></li>\\n<li><a href=\"//da.wikipedia.org/\" lang=\"da\">Dansk</a></li>\\n<li><a href=\"//et.wikipedia.org/\" lang=\"et\">Eesti</a></li>\\n<li><a href=\"//el.wikipedia.org/\" lang=\"el\" title=\"Ell\\xc4\\xabnik\\xc3\\xa1\">\\xce\\x95\\xce\\xbb\\xce\\xbb\\xce\\xb7\\xce\\xbd\\xce\\xb9\\xce\\xba\\xce\\xac</a></li>\\n<li><a href=\"//eo.wikipedia.org/\" lang=\"eo\">Esperanto</a></li>\\n<li><a href=\"//eu.wikipedia.org/\" lang=\"eu\">Euskara</a></li>\\n<li><a href=\"//fa.wikipedia.org/\" lang=\"fa\" title=\"F\\xc4\\x81rsi\"><bdi dir=\"rtl\">\\xd9\\x81\\xd8\\xa7\\xd8\\xb1\\xd8\\xb3\\xdb\\x8c</bdi></a></li>\\n<li><a href=\"//gl.wikipedia.org/\" lang=\"gl\">Galego</a></li>\\n<li><a href=\"//ko.wikipedia.org/\" lang=\"ko\" title=\"Hangugeo\">\\xed\\x95\\x9c\\xea\\xb5\\xad\\xec\\x96\\xb4</a></li>\\n<li><a href=\"//hi.wikipedia.org/\" lang=\"hi\" title=\"Hind\\xc4\\xab\">\\xe0\\xa4\\xb9\\xe0\\xa4\\xbf\\xe0\\xa4\\xa8\\xe0\\xa5\\x8d\\xe0\\xa4\\xa6\\xe0\\xa5\\x80</a></li>\\n<li><a href=\"//hr.wikipedia.org/\" lang=\"hr\">Hrvatski</a></li>\\n<li><a href=\"//id.wikipedia.org/\" lang=\"id\">Bahasa Indonesia</a></li>\\n<li><a href=\"//he.wikipedia.org/\" lang=\"he\" title=\"Ivrit\"><bdi dir=\"rtl\">\\xd7\\xa2\\xd7\\x91\\xd7\\xa8\\xd7\\x99\\xd7\\xaa</bdi></a></li>\\n<li><a href=\"//ka.wikipedia.org/\" lang=\"ka\" title=\"Kartuli\">\\xe1\\x83\\xa5\\xe1\\x83\\x90\\xe1\\x83\\xa0\\xe1\\x83\\x97\\xe1\\x83\\xa3\\xe1\\x83\\x9a\\xe1\\x83\\x98</a></li>\\n<li><a href=\"//la.wikipedia.org/\" lang=\"la\">Latina</a></li>\\n<li><a href=\"//lv.wikipedia.org/\" lang=\"lv\">Latvie\\xc5\\xa1u</a></li>\\n<li><a href=\"//lt.wikipedia.org/\" lang=\"lt\">Lietuvi\\xc5\\xb3</a></li>\\n<li><a href=\"//hu.wikipedia.org/\" lang=\"hu\">Magyar</a></li>\\n<li><a href=\"//mk.wikipedia.org/\" lang=\"mk\" title=\"Makedonski\">\\xd0\\x9c\\xd0\\xb0\\xd0\\xba\\xd0\\xb5\\xd0\\xb4\\xd0\\xbe\\xd0\\xbd\\xd1\\x81\\xd0\\xba\\xd0\\xb8</a></li>\\n<li><a href=\"//ms.wikipedia.org/\" lang=\"ms\">Bahasa Melayu</a></li>\\n<li><a href=\"//min.wikipedia.org/\" lang=\"min\">Bahaso Minangkabau</a></li>\\n<li lang=\"no\">Norsk<ul><li><a href=\"//no.wikipedia.org/\" lang=\"nb\">bokm\\xc3\\xa5l</a></li><li><a href=\"//nn.wikipedia.org/\" lang=\"nn\">nynorsk</a></li></ul></li>\\n<li><a href=\"//ce.wikipedia.org/\" lang=\"ce\" title=\"Nox\\xc3\\xa7iyn\">\\xd0\\x9d\\xd0\\xbe\\xd1\\x85\\xd1\\x87\\xd0\\xb8\\xd0\\xb9\\xd0\\xbd</a></li>\\n<li><a href=\"//uz.wikipedia.org/\" lang=\"uz\" title=\"O\\xca\\xbbzbekcha\">O\\xca\\xbbzbekcha / \\xd0\\x8e\\xd0\\xb7\\xd0\\xb1\\xd0\\xb5\\xd0\\xba\\xd1\\x87\\xd0\\xb0</a></li>\\n<li><a href=\"//kk.wikipedia.org/\" lang=\"kk\"><span lang=\"kk-Cyrl\">\\xd2\\x9a\\xd0\\xb0\\xd0\\xb7\\xd0\\xb0\\xd2\\x9b\\xd1\\x88\\xd0\\xb0</span> / <span lang=\"kk-Latn\">Qazaq\\xc5\\x9fa</span> / <bdi lang=\"kk-Arab\" dir=\"rtl\">\\xd9\\x82\\xd8\\xa7\\xd8\\xb2\\xd8\\xa7\\xd9\\x82\\xd8\\xb4\\xd8\\xa7</bdi></a></li>\\n<li><a href=\"//ro.wikipedia.org/\" lang=\"ro\" title=\"Rom\\xc3\\xa2n\\xc4\\x83\">Rom\\xc3\\xa2n\\xc4\\x83</a></li>\\n<li><a href=\"//simple.wikipedia.org/\" lang=\"en\">Simple English</a></li>\\n<li><a href=\"//sk.wikipedia.org/\" lang=\"sk\">Sloven\\xc4\\x8dina</a></li>\\n<li><a href=\"//sl.wikipedia.org/\" lang=\"sl\" title=\"sloven\\xc5\\xa1\\xc4\\x8dina\">Sloven\\xc5\\xa1\\xc4\\x8dina</a></li>\\n<li><a href=\"//sr.wikipedia.org/\" lang=\"sr\">\\xd0\\xa1\\xd1\\x80\\xd0\\xbf\\xd1\\x81\\xd0\\xba\\xd0\\xb8 / Srpski</a></li>\\n<li><a href=\"//sh.wikipedia.org/\" lang=\"sh\">Srpskohrvatski / \\xd0\\xa1\\xd1\\x80\\xd0\\xbf\\xd1\\x81\\xd0\\xba\\xd0\\xbe\\xd1\\x85\\xd1\\x80\\xd0\\xb2\\xd0\\xb0\\xd1\\x82\\xd1\\x81\\xd0\\xba\\xd0\\xb8</a></li>\\n<li><a href=\"//fi.wikipedia.org/\" lang=\"fi\" title=\"suomi\">Suomi</a></li>\\n<li><a href=\"//ta.wikipedia.org/\" lang=\"ta\" title=\"Tami\\xe1\\xb8\\xbb\">\\xe0\\xae\\xa4\\xe0\\xae\\xae\\xe0\\xae\\xbf\\xe0\\xae\\xb4\\xe0\\xaf\\x8d</a></li>\\n<li><a href=\"//tt.wikipedia.org/\" lang=\"tt\">\\xd0\\xa2\\xd0\\xb0\\xd1\\x82\\xd0\\xb0\\xd1\\x80\\xd1\\x87\\xd0\\xb0 / Tatar\\xc3\\xa7a</a></li>\\n<li><a href=\"//th.wikipedia.org/\" lang=\"th\" title=\"Phasa Thai\">\\xe0\\xb8\\xa0\\xe0\\xb8\\xb2\\xe0\\xb8\\xa9\\xe0\\xb8\\xb2\\xe0\\xb9\\x84\\xe0\\xb8\\x97\\xe0\\xb8\\xa2</a></li>\\n<li><a href=\"//tg.wikipedia.org/\" lang=\"tg\" title=\"Tojik\\xc4\\xab\">\\xd0\\xa2\\xd0\\xbe\\xd2\\xb7\\xd0\\xb8\\xd0\\xba\\xd3\\xa3</a></li>\\n<li><a href=\"//azb.wikipedia.org/\" lang=\"azb\" title=\"T\\xc3\\xbcrkce\"><bdi dir=\"rtl\">\\xd8\\xaa\\xdb\\x86\\xd8\\xb1\\xda\\xa9\\xd8\\xac\\xd9\\x87</bdi></a></li>\\n<li><a href=\"//tr.wikipedia.org/\" lang=\"tr\" title=\"T\\xc3\\xbcrk\\xc3\\xa7e\">T\\xc3\\xbcrk\\xc3\\xa7e</a></li>\\n<li><a href=\"//ur.wikipedia.org/\" lang=\"ur\" title=\"Urdu\"><bdi dir=\"rtl\">\\xd8\\xa7\\xd8\\xb1\\xd8\\xaf\\xd9\\x88</bdi></a></li>\\n<li><a href=\"//zh-yue.wikipedia.org/\" lang=\"yue\" title=\"Yuht Y\\xc3\\xbah / Jyut6 jyu5\">\\xe7\\xb2\\xb5\\xe8\\xaa\\x9e</a></li>\\n<li><a href=\"//hy.wikipedia.org/\" lang=\"hy\" title=\"Hayeren\">\\xd5\\x80\\xd5\\xa1\\xd5\\xb5\\xd5\\xa5\\xd6\\x80\\xd5\\xa5\\xd5\\xb6</a></li>\\n<li><a href=\"//my.wikipedia.org/\" lang=\"my\" title=\"Myanmarsar\">\\xe1\\x80\\x99\\xe1\\x80\\xbc\\xe1\\x80\\x94\\xe1\\x80\\xba\\xe1\\x80\\x99\\xe1\\x80\\xac\\xe1\\x80\\x98\\xe1\\x80\\xac\\xe1\\x80\\x9e\\xe1\\x80\\xac</a></li>\\n</ul>\\n</div>\\n<h2 class=\"bookshelf-container\">\\n<span class=\"bookshelf\">\\n<span class=\"text\">\\n<bdi dir=\"ltr\">\\n10&nbsp;000+\\n</bdi>\\n<span class=\"jsl10n\" data-jsl10n=\"portal.entries\">\\narticles\\n</span>\\n</span>\\n</span>\\n</h2>\\n<div class=\"langlist hlist\" data-el-section=\"secondary links\">\\n<ul>\\n<li><a href=\"//ace.wikipedia.org/\" lang=\"ace\">Bahsa Ac\\xc3\\xa8h</a></li>\\n<li><a href=\"//als.wikipedia.org/\" lang=\"gsw\">Alemannisch</a></li>\\n<li><a href=\"//am.wikipedia.org/\" lang=\"am\" title=\"\\xc4\\x80mari\\xc3\\xb1\\xc3\\xb1\\xc4\\x81\">\\xe1\\x8a\\xa0\\xe1\\x88\\x9b\\xe1\\x88\\xad\\xe1\\x8a\\x9b</a></li>\\n<li><a href=\"//an.wikipedia.org/\" lang=\"an\">Aragon\\xc3\\xa9s</a></li>\\n<li><a href=\"//hyw.wikipedia.org/\" lang=\"hyw\" title=\"Arevmdahayeren\">\\xd4\\xb1\\xd6\\x80\\xd5\\xa5\\xd6\\x82\\xd5\\xb4\\xd5\\xbf\\xd5\\xa1\\xd5\\xb0\\xd5\\xa1\\xd5\\xb5\\xd5\\xa5\\xd6\\x80\\xd5\\xa7\\xd5\\xb6</a></li>\\n<li><a href=\"//ban.wikipedia.org/\" lang=\"ban\" title=\"Basa Bali\">Basa Bali</a></li>\\n<li><a href=\"//bjn.wikipedia.org/\" lang=\"bjn\">Bahasa Banjar</a></li>\\n<li><a href=\"//map-bms.wikipedia.org/\" lang=\"map-x-bms\">Basa Banyumasan</a></li>\\n<li><a href=\"//ba.wikipedia.org/\" lang=\"ba\" title=\"Ba\\xc5\\x9fqortsa\">\\xd0\\x91\\xd0\\xb0\\xd1\\x88\\xd2\\xa1\\xd0\\xbe\\xd1\\x80\\xd1\\x82\\xd1\\x81\\xd0\\xb0</a></li>\\n<li><a href=\"//be-tarask.wikipedia.org/\" lang=\"be\" title=\"Belaruskaya (Tara\\xc5\\xa1kievica)\">\\xd0\\x91\\xd0\\xb5\\xd0\\xbb\\xd0\\xb0\\xd1\\x80\\xd1\\x83\\xd1\\x81\\xd0\\xba\\xd0\\xb0\\xd1\\x8f (\\xd0\\xa2\\xd0\\xb0\\xd1\\x80\\xd0\\xb0\\xd1\\x88\\xd0\\xba\\xd0\\xb5\\xd0\\xb2\\xd1\\x96\\xd1\\x86\\xd0\\xb0)</a></li>\\n<li><a href=\"//bcl.wikipedia.org/\" lang=\"bcl\">Bikol Central</a></li>\\n<li><a href=\"//bpy.wikipedia.org/\" lang=\"bpy\" title=\"Bishnupriya Manipuri\">\\xe0\\xa6\\xac\\xe0\\xa6\\xbf\\xe0\\xa6\\xb7\\xe0\\xa7\\x8d\\xe0\\xa6\\xa3\\xe0\\xa7\\x81\\xe0\\xa6\\xaa\\xe0\\xa7\\x8d\\xe0\\xa6\\xb0\\xe0\\xa6\\xbf\\xe0\\xa6\\xaf\\xe0\\xa6\\xbc\\xe0\\xa6\\xbe \\xe0\\xa6\\xae\\xe0\\xa6\\xa3\\xe0\\xa6\\xbf\\xe0\\xa6\\xaa\\xe0\\xa7\\x81\\xe0\\xa6\\xb0\\xe0\\xa7\\x80</a></li>\\n<li><a href=\"//bar.wikipedia.org/\" lang=\"bar\">Boarisch</a></li>\\n<li><a href=\"//bs.wikipedia.org/\" lang=\"bs\">Bosanski</a></li>\\n<li><a href=\"//br.wikipedia.org/\" lang=\"br\">Brezhoneg</a></li>\\n<li><a href=\"//cv.wikipedia.org/\" lang=\"cv\" title=\"\\xc4\\x8c\\xc4\\x83va\\xc5\\xa1la\">\\xd0\\xa7\\xd3\\x91\\xd0\\xb2\\xd0\\xb0\\xd1\\x88\\xd0\\xbb\\xd0\\xb0</a></li>\\n<li><a href=\"//nv.wikipedia.org/\" lang=\"nv\">Din\\xc3\\xa9 Bizaad</a></li>\\n<li><a href=\"//eml.wikipedia.org/\" lang=\"roa-x-eml\">Emigli\\xc3\\xa0n\\xe2\\x80\\x93Rumagn\\xc3\\xb2l</a></li>\\n<li><a href=\"//hif.wikipedia.org/\" lang=\"hif\">Fiji Hindi</a></li>\\n<li><a href=\"//fo.wikipedia.org/\" lang=\"fo\">F\\xc3\\xb8royskt</a></li>\\n<li><a href=\"//fy.wikipedia.org/\" lang=\"fy\">Frysk</a></li>\\n<li><a href=\"//ga.wikipedia.org/\" lang=\"ga\">Gaeilge</a></li>\\n<li><a href=\"//gd.wikipedia.org/\" lang=\"gd\">G\\xc3\\xa0idhlig</a></li>\\n<li><a href=\"//gu.wikipedia.org/\" lang=\"gu\" title=\"Gujarati\">\\xe0\\xaa\\x97\\xe0\\xab\\x81\\xe0\\xaa\\x9c\\xe0\\xaa\\xb0\\xe0\\xaa\\xbe\\xe0\\xaa\\xa4\\xe0\\xab\\x80</a></li>\\n<li><a href=\"//hak.wikipedia.org/\" lang=\"hak\">Hak-k\\xc3\\xa2-ng\\xc3\\xae / \\xe5\\xae\\xa2\\xe5\\xae\\xb6\\xe8\\xaa\\x9e</a></li>\\n<li><a href=\"//ha.wikipedia.org/\" lang=\"ha\" title=\"Hausa\">Hausa</a></li>\\n<li><a href=\"//hsb.wikipedia.org/\" lang=\"hsb\">Hornjoserbsce</a></li>\\n<li><a href=\"//io.wikipedia.org/\" lang=\"io\" title=\"Ido\">Ido</a></li>\\n<li><a href=\"//ig.wikipedia.org/\" lang=\"ig\">Igbo</a></li>\\n<li><a href=\"//ilo.wikipedia.org/\" lang=\"ilo\">Ilokano</a></li>\\n<li><a href=\"//ia.wikipedia.org/\" lang=\"ia\">Interlingua</a></li>\\n<li><a href=\"//ie.wikipedia.org/\" lang=\"ie\">Interlingue</a></li>\\n<li><a href=\"//os.wikipedia.org/\" lang=\"os\" title=\"Iron\">\\xd0\\x98\\xd1\\x80\\xd0\\xbe\\xd0\\xbd</a></li>\\n<li><a href=\"//is.wikipedia.org/\" lang=\"is\">\\xc3\\x8dslenska</a></li>\\n<li><a href=\"//jv.wikipedia.org/\" lang=\"jv\" title=\"Jawa\">Jawa</a></li>\\n<li><a href=\"//kn.wikipedia.org/\" lang=\"kn\" title=\"Kannada\">\\xe0\\xb2\\x95\\xe0\\xb2\\xa8\\xe0\\xb3\\x8d\\xe0\\xb2\\xa8\\xe0\\xb2\\xa1</a></li>\\n<li><a href=\"//ht.wikipedia.org/\" lang=\"ht\">Krey\\xc3\\xb2l Ayisyen</a></li>\\n<li><a href=\"//ku.wikipedia.org/\" lang=\"ku\"><span lang=\"ku-Latn\">Kurd\\xc3\\xae</span> / <bdi lang=\"ku-Arab\" dir=\"rtl\">\\xd9\\x83\\xd9\\x88\\xd8\\xb1\\xd8\\xaf\\xdb\\x8c</bdi></a></li>\\n<li><a href=\"//ckb.wikipedia.org/\" lang=\"ckb\" title=\"Kurd\\xc3\\xaey Nawend\\xc3\\xae\"><bdi dir=\"rtl\">\\xda\\xa9\\xd9\\x88\\xd8\\xb1\\xd8\\xaf\\xdb\\x8c\\xdb\\x8c \\xd9\\x86\\xd8\\xa7\\xd9\\x88\\xdb\\x95\\xd9\\x86\\xd8\\xaf\\xdb\\x8c</bdi></a></li>\\n<li><a href=\"//ky.wikipedia.org/\" lang=\"ky\" title=\"Kyrgyz\\xc4\\x8da\">\\xd0\\x9a\\xd1\\x8b\\xd1\\x80\\xd0\\xb3\\xd1\\x8b\\xd0\\xb7\\xd1\\x87\\xd0\\xb0</a></li>\\n<li><a href=\"//mrj.wikipedia.org/\" lang=\"mjr\" title=\"Kyryk Mary\">\\xd0\\x9a\\xd1\\x8b\\xd1\\x80\\xd1\\x8b\\xd0\\xba \\xd0\\xbc\\xd0\\xb0\\xd1\\x80\\xd1\\x8b</a></li>\\n<li><a href=\"//lb.wikipedia.org/\" lang=\"lb\">L\\xc3\\xabtzebuergesch</a></li>\\n<li><a href=\"//lij.wikipedia.org/\" lang=\"lij\">L\\xc3\\xacgure</a></li>\\n<li><a href=\"//li.wikipedia.org/\" lang=\"li\">Limburgs</a></li>\\n<li><a href=\"//lmo.wikipedia.org/\" lang=\"lmo\">Lombard</a></li>\\n<li><a href=\"//mai.wikipedia.org/\" lang=\"mai\" title=\"Maithil\\xc4\\xab\">\\xe0\\xa4\\xae\\xe0\\xa5\\x88\\xe0\\xa4\\xa5\\xe0\\xa4\\xbf\\xe0\\xa4\\xb2\\xe0\\xa5\\x80</a></li>\\n<li><a href=\"//mg.wikipedia.org/\" lang=\"mg\">Malagasy</a></li>\\n<li><a href=\"//ml.wikipedia.org/\" lang=\"ml\" title=\"Malayalam\">\\xe0\\xb4\\xae\\xe0\\xb4\\xb2\\xe0\\xb4\\xaf\\xe0\\xb4\\xbe\\xe0\\xb4\\xb3\\xe0\\xb4\\x82</a></li>\\n<li><a href=\"//zh-classical.wikipedia.org/\" lang=\"lzh\" title=\"Man4jin4 / W\\xc3\\xa9ny\\xc3\\xa1n\">\\xe6\\x96\\x87\\xe8\\xa8\\x80</a></li>\\n<li><a href=\"//mr.wikipedia.org/\" lang=\"mr\" title=\"Marathi\">\\xe0\\xa4\\xae\\xe0\\xa4\\xb0\\xe0\\xa4\\xbe\\xe0\\xa4\\xa0\\xe0\\xa5\\x80</a></li>\\n<li><a href=\"//xmf.wikipedia.org/\" lang=\"xmf\" title=\"Margaluri\">\\xe1\\x83\\x9b\\xe1\\x83\\x90\\xe1\\x83\\xa0\\xe1\\x83\\x92\\xe1\\x83\\x90\\xe1\\x83\\x9a\\xe1\\x83\\xa3\\xe1\\x83\\xa0\\xe1\\x83\\x98</a></li>\\n<li><a href=\"//mzn.wikipedia.org/\" lang=\"mzn\" title=\"M\\xc3\\xa4zeruni\"><bdi dir=\"rtl\">\\xd9\\x85\\xd8\\xa7\\xd8\\xb2\\xd9\\x90\\xd8\\xb1\\xd9\\x88\\xd9\\x86\\xdb\\x8c</bdi></a></li>\\n<li><a href=\"//cdo.wikipedia.org/\" lang=\"cdo\" title=\"Ming-deng-ngu\">M\\xc3\\xacng-d\\xc4\\x95\\xcc\\xa4ng-ng\\xe1\\xb9\\xb3\\xcc\\x84 / \\xe9\\x96\\xa9\\xe6\\x9d\\xb1\\xe8\\xaa\\x9e</a></li>\\n<li><a href=\"//mn.wikipedia.org/\" lang=\"mn\" title=\"Mongol\">\\xd0\\x9c\\xd0\\xbe\\xd0\\xbd\\xd0\\xb3\\xd0\\xbe\\xd0\\xbb</a></li>\\n<li><a href=\"//nap.wikipedia.org/\" lang=\"nap\">Napulitano</a></li>\\n<li><a href=\"//new.wikipedia.org/\" lang=\"new\" title=\"Nepal Bhasa\">\\xe0\\xa4\\xa8\\xe0\\xa5\\x87\\xe0\\xa4\\xaa\\xe0\\xa4\\xbe\\xe0\\xa4\\xb2 \\xe0\\xa4\\xad\\xe0\\xa4\\xbe\\xe0\\xa4\\xb7\\xe0\\xa4\\xbe</a></li>\\n<li><a href=\"//ne.wikipedia.org/\" lang=\"ne\" title=\"Nep\\xc4\\x81l\\xc4\\xab\">\\xe0\\xa4\\xa8\\xe0\\xa5\\x87\\xe0\\xa4\\xaa\\xe0\\xa4\\xbe\\xe0\\xa4\\xb2\\xe0\\xa5\\x80</a></li>\\n<li><a href=\"//frr.wikipedia.org/\" lang=\"frr\">Nordfriisk</a></li>\\n<li><a href=\"//oc.wikipedia.org/\" lang=\"oc\">Occitan</a></li>\\n<li><a href=\"//mhr.wikipedia.org/\" lang=\"mhr\" title=\"Olyk Marij\">\\xd0\\x9e\\xd0\\xbb\\xd1\\x8b\\xd0\\xba \\xd0\\xbc\\xd0\\xb0\\xd1\\x80\\xd0\\xb8\\xd0\\xb9</a></li>\\n<li><a href=\"//or.wikipedia.org/\" lang=\"or\" title=\"O\\xe1\\xb9\\x9bi\\xc4\\x81\">\\xe0\\xac\\x93\\xe0\\xac\\xa1\\xe0\\xac\\xbf\\xe0\\xac\\xbc\\xe0\\xac\\x86</a></li>\\n<li><a href=\"//as.wikipedia.org/\" lang=\"as\" title=\"\\xc3\\x94x\\xc3\\xb4miya\">\\xe0\\xa6\\x85\\xe0\\xa6\\xb8\\xe0\\xa6\\xae\\xe0\\xa7\\x80\\xe0\\xa6\\xaf\\xe0\\xa6\\xbe\\xe0\\xa6\\xbc</a></li>\\n<li><a href=\"//pa.wikipedia.org/\" lang=\"pa\" title=\"Pa\\xc3\\xb1j\\xc4\\x81b\\xc4\\xab (Gurmukh\\xc4\\xab)\">\\xe0\\xa8\\xaa\\xe0\\xa9\\xb0\\xe0\\xa8\\x9c\\xe0\\xa8\\xbe\\xe0\\xa8\\xac\\xe0\\xa9\\x80 (\\xe0\\xa8\\x97\\xe0\\xa9\\x81\\xe0\\xa8\\xb0\\xe0\\xa8\\xae\\xe0\\xa9\\x81\\xe0\\xa8\\x96\\xe0\\xa9\\x80)</a></li>\\n<li><a href=\"//pnb.wikipedia.org/\" lang=\"pnb\" title=\"Pa\\xc3\\xb1j\\xc4\\x81b\\xc4\\xab (Sh\\xc4\\x81hmukh\\xc4\\xab)\"><bdi dir=\"rtl\">\\xd9\\xbe\\xd9\\x86\\xd8\\xac\\xd8\\xa7\\xd8\\xa8\\xdb\\x8c (\\xd8\\xb4\\xd8\\xa7\\xdb\\x81 \\xd9\\x85\\xda\\xa9\\xda\\xbe\\xdb\\x8c)</bdi></a></li>\\n<li><a href=\"//ps.wikipedia.org/\" lang=\"ps\" title=\"Pa\\xca\\x82to\"><bdi dir=\"rtl\">\\xd9\\xbe\\xda\\x9a\\xd8\\xaa\\xd9\\x88</bdi></a></li>\\n<li><a href=\"//pms.wikipedia.org/\" lang=\"pms\">Piemont\\xc3\\xa8is</a></li>\\n<li><a href=\"//nds.wikipedia.org/\" lang=\"nds\">Plattd\\xc3\\xbc\\xc3\\xbctsch</a></li>\\n<li><a href=\"//crh.wikipedia.org/\" lang=\"crh\">Q\\xc4\\xb1r\\xc4\\xb1mtatarca</a></li>\\n<li><a href=\"//qu.wikipedia.org/\" lang=\"qu\">Runa Simi</a></li>\\n<li><a href=\"//sa.wikipedia.org/\" lang=\"sa\" title=\"Sa\\xe1\\xb9\\x83sk\\xe1\\xb9\\x9btam\">\\xe0\\xa4\\xb8\\xe0\\xa4\\x82\\xe0\\xa4\\xb8\\xe0\\xa5\\x8d\\xe0\\xa4\\x95\\xe0\\xa5\\x83\\xe0\\xa4\\xa4\\xe0\\xa4\\xae\\xe0\\xa5\\x8d</a></li>\\n<li><a href=\"//sah.wikipedia.org/\" lang=\"sah\" title=\"Saxa Tyla\">\\xd0\\xa1\\xd0\\xb0\\xd1\\x85\\xd0\\xb0 \\xd0\\xa2\\xd1\\x8b\\xd0\\xbb\\xd0\\xb0</a></li>\\n<li><a href=\"//sco.wikipedia.org/\" lang=\"sco\">Scots</a></li>\\n<li><a href=\"//sn.wikipedia.org/\" lang=\"sn\">ChiShona</a></li>\\n<li><a href=\"//sq.wikipedia.org/\" lang=\"sq\">Shqip</a></li>\\n<li><a href=\"//scn.wikipedia.org/\" lang=\"scn\">Sicilianu</a></li>\\n<li><a href=\"//si.wikipedia.org/\" lang=\"si\" title=\"Si\\xe1\\xb9\\x83hala\">\\xe0\\xb7\\x83\\xe0\\xb7\\x92\\xe0\\xb6\\x82\\xe0\\xb7\\x84\\xe0\\xb6\\xbd</a></li>\\n<li><a href=\"//sd.wikipedia.org/\" lang=\"sd\" title=\"Sindh\\xc4\\xab\"><bdi dir=\"rtl\">\\xd8\\xb3\\xd9\\x86\\xda\\x8c\\xd9\\x8a</bdi></a></li>\\n<li><a href=\"//szl.wikipedia.org/\" lang=\"szl\">\\xc5\\x9al\\xc5\\xafnski</a></li>\\n<li><a href=\"//su.wikipedia.org/\" lang=\"su\">Basa Sunda</a></li>\\n<li><a href=\"//sw.wikipedia.org/\" lang=\"sw\">Kiswahili</a></li>\\n<li><a href=\"//tl.wikipedia.org/\" lang=\"tl\">Tagalog</a></li>\\n<li><a href=\"//shn.wikipedia.org/\" lang=\"shn\">\\xe1\\x81\\xbd\\xe1\\x82\\x83\\xe1\\x82\\x87\\xe1\\x80\\x9e\\xe1\\x82\\x83\\xe1\\x82\\x87\\xe1\\x80\\x90\\xe1\\x82\\x86\\xe1\\x80\\xb8</a></li>\\n<li><a href=\"//te.wikipedia.org/\" lang=\"te\" title=\"Telugu\">\\xe0\\xb0\\xa4\\xe0\\xb1\\x86\\xe0\\xb0\\xb2\\xe0\\xb1\\x81\\xe0\\xb0\\x97\\xe0\\xb1\\x81</a></li>\\n<li><a href=\"//bug.wikipedia.org/\" lang=\"bug\">\\xe1\\xa8\\x85\\xe1\\xa8\\x94 \\xe1\\xa8\\x95\\xe1\\xa8\\x99\\xe1\\xa8\\x81\\xe1\\xa8\\x97 / Basa Ugi</a></li>\\n<li><a href=\"//vec.wikipedia.org/\" lang=\"vec\">V\\xc3\\xa8neto</a></li>\\n<li><a href=\"//vo.wikipedia.org/\" lang=\"vo\">Volap\\xc3\\xbck</a></li>\\n<li><a href=\"//wa.wikipedia.org/\" lang=\"wa\">Walon</a></li>\\n<li><a href=\"//wuu.wikipedia.org/\" lang=\"wuu\" title=\"W\\xc3\\xbay\\xc7\\x94\">\\xe5\\x90\\xb4\\xe8\\xaf\\xad</a></li>\\n<li><a href=\"//yi.wikipedia.org/\" lang=\"yi\" title=\"Yidi\\xc5\\xa1\"><bdi dir=\"rtl\">\\xd7\\x99\\xd7\\x99\\xd6\\xb4\\xd7\\x93\\xd7\\x99\\xd7\\xa9</bdi></a></li>\\n<li><a href=\"//yo.wikipedia.org/\" lang=\"yo\">Yor\\xc3\\xb9b\\xc3\\xa1</a></li>\\n<li><a href=\"//diq.wikipedia.org/\" lang=\"diq\" title=\"Zazaki\">Zazaki</a></li>\\n<li><a href=\"//bat-smg.wikipedia.org/\" lang=\"sgs\">\\xc5\\xbdemait\\xc4\\x97\\xc5\\xa1ka</a></li>\\n<li><a href=\"//zu.wikipedia.org/\" lang=\"zu\">isiZulu</a></li>\\n</ul>\\n</div>\\n<h2 class=\"bookshelf-container\">\\n<span class=\"bookshelf\">\\n<span class=\"text\">\\n<bdi dir=\"ltr\">\\n1&nbsp;000+\\n</bdi>\\n<span class=\"jsl10n\" data-jsl10n=\"portal.entries\">\\narticles\\n</span>\\n</span>\\n</span>\\n</h2>\\n<div class=\"langlist hlist\" data-el-section=\"secondary links\">\\n<ul>\\n<li><a href=\"//lad.wikipedia.org/\" lang=\"lad\"><span lang=\"lad-Latn\">Dzhudezmo</span> / <bdi lang=\"lad-Hebr\" dir=\"rtl\">\\xd7\\x9c\\xd7\\x90\\xd7\\x93\\xd7\\x99\\xd7\\xa0\\xd7\\x95</bdi></a></li>\\n<li><a href=\"//kbd.wikipedia.org/\" lang=\"kbd\" title=\"Adighabze\">\\xd0\\x90\\xd0\\xb4\\xd1\\x8b\\xd0\\xb3\\xd1\\x8d\\xd0\\xb1\\xd0\\xb7\\xd1\\x8d</a></li>\\n<li><a href=\"//ang.wikipedia.org/\" lang=\"ang\">\\xc3\\x86nglisc</a></li>\\n<li><a href=\"//smn.wikipedia.org/\" lang=\"smn\" title=\"anar\\xc3\\xa2\\xc5\\xa1kiel\\xc3\\xa2\">Anar\\xc3\\xa2\\xc5\\xa1kiel\\xc3\\xa2</a></li>\\n<li><a href=\"//ab.wikipedia.org/\" lang=\"ab\" title=\"a\\xe1\\xb9\\x97sshwa\">\\xd0\\xb0\\xd4\\xa5\\xd1\\x81\\xd1\\x88\\xd3\\x99\\xd0\\xb0</a></li>\\n<li><a href=\"//roa-rup.wikipedia.org/\" lang=\"roa-rup\">Arm\\xc3\\xa3neashce</a></li>\\n<li><a href=\"//frp.wikipedia.org/\" lang=\"frp\">Arpitan</a></li>\\n<li><a href=\"//arc.wikipedia.org/\" lang=\"arc\" title=\"\\xc4\\x80t\\xc3\\xbbr\\xc4\\x81y\\xc3\\xa2\"><bdi dir=\"rtl\">\\xdc\\x90\\xdc\\xac\\xdc\\x98\\xdc\\xaa\\xdc\\x9d\\xdc\\x90</bdi></a></li>\\n<li><a href=\"//gn.wikipedia.org/\" lang=\"gn\">Ava\\xc3\\xb1e\\xe2\\x80\\x99\\xe1\\xba\\xbd</a></li>\\n<li><a href=\"//av.wikipedia.org/\" lang=\"av\" title=\"Avar\">\\xd0\\x90\\xd0\\xb2\\xd0\\xb0\\xd1\\x80</a></li>\\n<li><a href=\"//ay.wikipedia.org/\" lang=\"ay\">Aymar</a></li>\\n<li><a href=\"//bh.wikipedia.org/\" lang=\"bh\" title=\"Bh\\xc5\\x8djapur\\xc4\\xab\">\\xe0\\xa4\\xad\\xe0\\xa5\\x8b\\xe0\\xa4\\x9c\\xe0\\xa4\\xaa\\xe0\\xa5\\x81\\xe0\\xa4\\xb0\\xe0\\xa5\\x80</a></li>\\n<li><a href=\"//bi.wikipedia.org/\" lang=\"bi\">Bislama</a></li>\\n<li><a href=\"//bo.wikipedia.org/\" lang=\"bo\" title=\"Bod Skad\">\\xe0\\xbd\\x96\\xe0\\xbd\\xbc\\xe0\\xbd\\x91\\xe0\\xbc\\x8b\\xe0\\xbd\\xa1\\xe0\\xbd\\xb2\\xe0\\xbd\\x82</a></li>\\n<li><a href=\"//bxr.wikipedia.org/\" lang=\"bxr\" title=\"Buryad\">\\xd0\\x91\\xd1\\x83\\xd1\\x80\\xd1\\x8f\\xd0\\xb0\\xd0\\xb4</a></li>\\n<li><a href=\"//cbk-zam.wikipedia.org/\" lang=\"cbk-x-zam\">Chavacano de Zamboanga</a></li>\\n<li><a href=\"//co.wikipedia.org/\" lang=\"co\">Corsu</a></li>\\n<li><a href=\"//za.wikipedia.org/\" lang=\"za\">Vahcuengh / \\xe8\\xa9\\xb1\\xe5\\x83\\xae</a></li>\\n<li><a href=\"//dag.wikipedia.org/\" lang=\"dag\">Dagbanli</a></li>\\n<li><a href=\"//ary.wikipedia.org/\" lang=\"ary\" title=\"Darija\"><bdi dir=\"rtl\">\\xd8\\xa7\\xd9\\x84\\xd8\\xaf\\xd8\\xa7\\xd8\\xb1\\xd8\\xac\\xd8\\xa9</bdi></a></li>\\n<li><a href=\"//se.wikipedia.org/\" lang=\"se\" title=\"davvis\\xc3\\xa1megiella\">Davvis\\xc3\\xa1megiella</a></li>\\n<li><a href=\"//pdc.wikipedia.org/\" lang=\"pdc\">Deitsch</a></li>\\n<li><a href=\"//dv.wikipedia.org/\" lang=\"dv\" title=\"Divehi\"><bdi dir=\"rtl\">\\xde\\x8b\\xde\\xa8\\xde\\x88\\xde\\xac\\xde\\x80\\xde\\xa8\\xde\\x84\\xde\\xa6\\xde\\x90\\xde\\xb0</bdi></a></li>\\n<li><a href=\"//dsb.wikipedia.org/\" lang=\"dsb\">Dolnoserbski</a></li>\\n<li><a href=\"//myv.wikipedia.org/\" lang=\"myv\" title=\"Erzjanj\">\\xd0\\xad\\xd1\\x80\\xd0\\xb7\\xd1\\x8f\\xd0\\xbd\\xd1\\x8c</a></li>\\n<li><a href=\"//ext.wikipedia.org/\" lang=\"ext\">Estreme\\xc3\\xb1u</a></li>\\n<li><a href=\"//fur.wikipedia.org/\" lang=\"fur\">Furlan</a></li>\\n<li><a href=\"//gv.wikipedia.org/\" lang=\"gv\">Gaelg</a></li>\\n<li><a href=\"//gag.wikipedia.org/\" lang=\"gag\">Gagauz</a></li>\\n<li><a href=\"//inh.wikipedia.org/\" lang=\"inh\" title=\"Ghalghai\">\\xd0\\x93\\xd3\\x80\\xd0\\xb0\\xd0\\xbb\\xd0\\xb3\\xd3\\x80\\xd0\\xb0\\xd0\\xb9</a></li>\\n<li><a href=\"//ki.wikipedia.org/\" lang=\"ki\">G\\xc4\\xa9k\\xc5\\xa9y\\xc5\\xa9</a></li>\\n<li><a href=\"//glk.wikipedia.org/\" lang=\"glk\" title=\"Gil\\xc9\\x99ki\"><bdi dir=\"rtl\">\\xda\\xaf\\xdb\\x8c\\xd9\\x84\\xda\\xa9\\xdb\\x8c</bdi></a></li>\\n<li><a href=\"//gan.wikipedia.org/\" lang=\"gan\" title=\"Gon ua\" data-hans=\"\\xe8\\xb5\\xa3\\xe8\\xaf\\xad\" data-hant=\"\\xe8\\xb4\\x9b\\xe8\\xaa\\x9e\" class=\"jscnconv\">\\xe8\\xb5\\xa3\\xe8\\xaf\\xad / \\xe8\\xb4\\x9b\\xe8\\xaa\\x9e</a></li>\\n<li><a href=\"//guw.wikipedia.org/\" lang=\"guw\">Gungbe</a></li>\\n<li><a href=\"//xal.wikipedia.org/\" lang=\"xal\" title=\"Hal\\xca\\xb9mg\">\\xd0\\xa5\\xd0\\xb0\\xd0\\xbb\\xd1\\x8c\\xd0\\xbc\\xd0\\xb3</a></li>\\n<li><a href=\"//haw.wikipedia.org/\" lang=\"haw\">\\xca\\xbb\\xc5\\x8clelo Hawai\\xca\\xbbi</a></li>\\n<li><a href=\"//rw.wikipedia.org/\" lang=\"rw\">Ikinyarwanda</a></li>\\n<li><a href=\"//kbp.wikipedia.org/\" lang=\"kbp\">Kab\\xc9\\xa9y\\xc9\\x9b</a></li>\\n<li><a href=\"//pam.wikipedia.org/\" lang=\"pam\">Kapampangan</a></li>\\n<li><a href=\"//csb.wikipedia.org/\" lang=\"csb\">Kasz\\xc3\\xabbsczi</a></li>\\n<li><a href=\"//kw.wikipedia.org/\" lang=\"kw\">Kernewek</a></li>\\n<li><a href=\"//km.wikipedia.org/\" lang=\"km\" title=\"Ph\\xc3\\xa9asa Khm\\xc3\\xa9r\">\\xe1\\x9e\\x97\\xe1\\x9e\\xb6\\xe1\\x9e\\x9f\\xe1\\x9e\\xb6\\xe1\\x9e\\x81\\xe1\\x9f\\x92\\xe1\\x9e\\x98\\xe1\\x9f\\x82\\xe1\\x9e\\x9a</a></li>\\n<li><a href=\"//kv.wikipedia.org/\" lang=\"kv\" title=\"Komi\">\\xd0\\x9a\\xd0\\xbe\\xd0\\xbc\\xd0\\xb8</a></li>\\n<li><a href=\"//koi.wikipedia.org/\" lang=\"koi\" title=\"Perem Komi\">\\xd0\\x9f\\xd0\\xb5\\xd1\\x80\\xd0\\xb5\\xd0\\xbc \\xd0\\xba\\xd0\\xbe\\xd0\\xbc\\xd0\\xb8</a></li>\\n<li><a href=\"//kg.wikipedia.org/\" lang=\"kg\">Kongo</a></li>\\n<li><a href=\"//gom.wikipedia.org/\" lang=\"gom\">\\xe0\\xa4\\x95\\xe0\\xa5\\x8b\\xe0\\xa4\\x82\\xe0\\xa4\\x95\\xe0\\xa4\\xa3\\xe0\\xa5\\x80 / Konknni</a></li>\\n<li><a href=\"//ks.wikipedia.org/\" lang=\"ks\" title=\"Koshur\"><bdi dir=\"rtl\">\\xd9\\x83\\xd9\\xb2\\xd8\\xb4\\xd9\\x8f\\xd8\\xb1</bdi></a></li>\\n<li><a href=\"//gcr.wikipedia.org/\" lang=\"gcr\" title=\"Kriy\\xc3\\xb2l Gwiyannen\">Kriy\\xc3\\xb2l Gwiyannen</a></li>\\n<li><a href=\"//lo.wikipedia.org/\" lang=\"lo\" title=\"Phaasaa Laao\">\\xe0\\xba\\x9e\\xe0\\xba\\xb2\\xe0\\xba\\xaa\\xe0\\xba\\xb2\\xe0\\xba\\xa5\\xe0\\xba\\xb2\\xe0\\xba\\xa7</a></li>\\n<li><a href=\"//lbe.wikipedia.org/\" lang=\"lbe\" title=\"Lakku\">\\xd0\\x9b\\xd0\\xb0\\xd0\\xba\\xd0\\xba\\xd1\\x83</a></li>\\n<li><a href=\"//ltg.wikipedia.org/\" lang=\"ltg\">Latga\\xc4\\xbcu</a></li>\\n<li><a href=\"//lez.wikipedia.org/\" lang=\"lez\" title=\"Lezgi\">\\xd0\\x9b\\xd0\\xb5\\xd0\\xb7\\xd0\\xb3\\xd0\\xb8</a></li>\\n<li><a href=\"//nia.wikipedia.org/\" lang=\"nia\">Li Niha</a></li>\\n<li><a href=\"//ln.wikipedia.org/\" lang=\"ln\">Ling\\xc3\\xa1la</a></li>\\n<li><a href=\"//jbo.wikipedia.org/\" lang=\"jbo\">lojban</a></li>\\n<li><a href=\"//lg.wikipedia.org/\" lang=\"lg\">Luganda</a></li>\\n<li><a href=\"//mt.wikipedia.org/\" lang=\"mt\">Malti</a></li>\\n<li><a href=\"//mi.wikipedia.org/\" lang=\"mi\">M\\xc4\\x81ori</a></li>\\n<li><a href=\"//tw.wikipedia.org/\" lang=\"tw\" title=\"Mfantse\">Twi</a></li>\\n<li><a href=\"//mwl.wikipedia.org/\" lang=\"mwl\">Mirand\\xc3\\xa9s</a></li>\\n<li><a href=\"//mdf.wikipedia.org/\" lang=\"mdf\" title=\"Mok\\xc5\\xa1enj\">\\xd0\\x9c\\xd0\\xbe\\xd0\\xba\\xd1\\x88\\xd0\\xb5\\xd0\\xbd\\xd1\\x8c</a></li>\\n<li><a href=\"//mnw.wikipedia.org/\" lang=\"mnw\">\\xe1\\x80\\x98\\xe1\\x80\\xac\\xe1\\x80\\x9e\\xe1\\x80\\xac \\xe1\\x80\\x99\\xe1\\x80\\x94\\xe1\\x80\\xba</a></li>\\n<li><a href=\"//nqo.wikipedia.org/\" lang=\"nqo\" title=\"N&#x27;Ko\">\\xdf\\x92\\xdf\\x9e\\xdf\\x8f</a></li>\\n<li><a href=\"//fj.wikipedia.org/\" lang=\"fj\">Na Vosa Vaka-Viti</a></li>\\n<li><a href=\"//nah.wikipedia.org/\" lang=\"nah\">N\\xc4\\x81huatlaht\\xc5\\x8dlli</a></li>\\n<li><a href=\"//na.wikipedia.org/\" lang=\"na\">Dorerin Naoero</a></li>\\n<li><a href=\"//nds-nl.wikipedia.org/\" lang=\"nds-nl\">Nedersaksisch</a></li>\\n<li><a href=\"//nrm.wikipedia.org/\" lang=\"roa-x-nrm\">Nouormand / Normaund</a></li>\\n<li><a href=\"//nov.wikipedia.org/\" lang=\"nov\">Novial</a></li>\\n<li><a href=\"//om.wikipedia.org/\" lang=\"om\" title=\"Ingiliffaa\">Afaan Oromoo</a></li>\\n<li><a href=\"//blk.wikipedia.org/\" lang=\"blk\">\\xe1\\x80\\x95\\xe1\\x80\\xa1\\xe1\\x80\\xad\\xe1\\x80\\xaf\\xe1\\x80\\x9d\\xe1\\x80\\xba\\xe1\\x82\\x8f\\xe1\\x80\\x98\\xe1\\x80\\xac\\xe1\\x82\\x8f\\xe1\\x80\\x9e\\xe1\\x80\\xac\\xe1\\x82\\x8f</a></li>\\n<li><a href=\"//pi.wikipedia.org/\" lang=\"pi\" title=\"P\\xc4\\x81\\xe1\\xb8\\xb7i\">\\xe0\\xa4\\xaa\\xe0\\xa4\\xbe\\xe0\\xa4\\xb2\\xe0\\xa4\\xbf</a></li>\\n<li><a href=\"//pag.wikipedia.org/\" lang=\"pag\">Pangasin\\xc3\\xa1n</a></li>\\n<li><a href=\"//pap.wikipedia.org/\" lang=\"pap\">Papiamentu</a></li>\\n<li><a href=\"//pfl.wikipedia.org/\" lang=\"pfl\">Pf\\xc3\\xa4lzisch</a></li>\\n<li><a href=\"//pcd.wikipedia.org/\" lang=\"pcd\">Picard</a></li>\\n<li><a href=\"//krc.wikipedia.org/\" lang=\"krc\" title=\"Qara\\xc3\\xa7ay\\xe2\\x80\\x93Malqar\">\\xd0\\x9a\\xd1\\x8a\\xd0\\xb0\\xd1\\x80\\xd0\\xb0\\xd1\\x87\\xd0\\xb0\\xd0\\xb9\\xe2\\x80\\x93\\xd0\\xbc\\xd0\\xb0\\xd0\\xbb\\xd0\\xba\\xd1\\x8a\\xd0\\xb0\\xd1\\x80</a></li>\\n<li><a href=\"//kaa.wikipedia.org/\" lang=\"kaa\">Qaraqalpaqsha</a></li>\\n<li><a href=\"//ksh.wikipedia.org/\" lang=\"ksh\">Ripoarisch</a></li>\\n<li><a href=\"//rm.wikipedia.org/\" lang=\"rm\">Rumantsch</a></li>\\n<li><a href=\"//rue.wikipedia.org/\" lang=\"rue\" title=\"Rusin\\xe2\\x80\\x99skyj\">\\xd0\\xa0\\xd1\\x83\\xd1\\x81\\xd0\\xb8\\xd0\\xbd\\xd1\\x8c\\xd1\\x81\\xd0\\xba\\xd1\\x8b\\xd0\\xb9</a></li>\\n<li><a href=\"//sm.wikipedia.org/\" lang=\"sm\">Gagana S\\xc4\\x81moa</a></li>\\n<li><a href=\"//sat.wikipedia.org/\" lang=\"sat\" title=\"Santali\">\\xe1\\xb1\\xa5\\xe1\\xb1\\x9f\\xe1\\xb1\\xb1\\xe1\\xb1\\x9b\\xe1\\xb1\\x9f\\xe1\\xb1\\xb2\\xe1\\xb1\\xa4</a></li>\\n<li><a href=\"//sc.wikipedia.org/\" lang=\"sc\" title=\"Sardu\">Sardu</a></li>\\n<li><a href=\"//trv.wikipedia.org/\" lang=\"trv\">Seediq</a></li>\\n<li><a href=\"//stq.wikipedia.org/\" lang=\"stq\">Seeltersk</a></li>\\n<li><a href=\"//nso.wikipedia.org/\" lang=\"nso\">Sesotho sa Leboa</a></li>\\n<li><a href=\"//tn.wikipedia.org/\" lang=\"tn\">Setswana</a></li>\\n<li><a href=\"//cu.wikipedia.org/\" lang=\"cu\" title=\"Slov\\xc4\\x9bn\\xc4\\xadsk\\xc5\\xad\">\\xd0\\xa1\\xd0\\xbb\\xd0\\xbe\\xd0\\xb2\\xd1\\xa3\\xcc\\x81\\xd0\\xbd\\xd1\\x8c\\xd1\\x81\\xd0\\xba\\xd1\\x8a / \\xe2\\xb0\\x94\\xe2\\xb0\\x8e\\xe2\\xb0\\x91\\xe2\\xb0\\x82\\xe2\\xb0\\xa1\\xe2\\xb0\\x90\\xe2\\xb0\\xa0\\xe2\\xb0\\x94\\xe2\\xb0\\x8d\\xe2\\xb0\\x9f</a></li>\\n<li><a href=\"//so.wikipedia.org/\" lang=\"so\">Soomaaliga</a></li>\\n<li><a href=\"//srn.wikipedia.org/\" lang=\"srn\">Sranantongo</a></li>\\n<li><a href=\"//kab.wikipedia.org/\" lang=\"kab\" title=\"Taqbaylit\">Taqbaylit</a></li>\\n<li><a href=\"//roa-tara.wikipedia.org/\" lang=\"roa\">Tarand\\xc3\\xadne</a></li>\\n<li><a href=\"//tet.wikipedia.org/\" lang=\"tet\">Tetun</a></li>\\n<li><a href=\"//tpi.wikipedia.org/\" lang=\"tpi\">Tok Pisin</a></li>\\n<li><a href=\"//to.wikipedia.org/\" lang=\"to\">faka Tonga</a></li>\\n<li><a href=\"//chr.wikipedia.org/\" lang=\"chr\" title=\"Tsalagi\">\\xe1\\x8f\\xa3\\xe1\\x8e\\xb3\\xe1\\x8e\\xa9</a></li>\\n<li><a href=\"//tum.wikipedia.org/\" lang=\"tum\">chiTumbuka</a></li>\\n<li><a href=\"//tk.wikipedia.org/\" lang=\"tk\">T\\xc3\\xbcrkmen\\xc3\\xa7e</a></li>\\n<li><a href=\"//tyv.wikipedia.org/\" lang=\"tyv\" title=\"Tyva dyl\">\\xd0\\xa2\\xd1\\x8b\\xd0\\xb2\\xd0\\xb0 \\xd0\\xb4\\xd1\\x8b\\xd0\\xbb</a></li>\\n<li><a href=\"//udm.wikipedia.org/\" lang=\"udm\" title=\"Udmurt\">\\xd0\\xa3\\xd0\\xb4\\xd0\\xbc\\xd1\\x83\\xd1\\x80\\xd1\\x82</a></li>\\n<li><a href=\"//ug.wikipedia.org/\" lang=\"ug\"><bdi dir=\"rtl\">\\xd8\\xa6\\xdb\\x87\\xd9\\x8a\\xd8\\xba\\xdb\\x87\\xd8\\xb1\\xda\\x86\\xd9\\x87</bdi></a></li>\\n<li><a href=\"//vep.wikipedia.org/\" lang=\"vep\">Veps\\xc3\\xa4n</a></li>\\n<li><a href=\"//fiu-vro.wikipedia.org/\" lang=\"fiu-vro\">V\\xc3\\xb5ro</a></li>\\n<li><a href=\"//vls.wikipedia.org/\" lang=\"vls\">West-Vlams</a></li>\\n<li><a href=\"//wo.wikipedia.org/\" lang=\"wo\">Wolof</a></li>\\n<li><a href=\"//xh.wikipedia.org/\" lang=\"xh\">isiXhosa</a></li>\\n<li><a href=\"//zea.wikipedia.org/\" lang=\"zea\">Ze\\xc3\\xaauws</a></li>\\n<li><a href=\"//ty.wikipedia.org/\" lang=\"ty\">Reo tahiti</a></li>\\n</ul>\\n</div>\\n<h2 class=\"bookshelf-container\">\\n<span class=\"bookshelf\">\\n<span class=\"text\">\\n<bdi dir=\"ltr\">\\n100+\\n</bdi>\\n<span class=\"jsl10n\" data-jsl10n=\"portal.entries\">\\narticles\\n</span>\\n</span>\\n</span>\\n</h2>\\n<div class=\"langlist langlist-tiny hlist\" data-el-section=\"secondary links\">\\n<ul>\\n<li><a href=\"//ak.wikipedia.org/\" lang=\"ak\">Akan</a></li>\\n<li><a href=\"//bm.wikipedia.org/\" lang=\"bm\">Bamanankan</a></li>\\n<li><a href=\"//ch.wikipedia.org/\" lang=\"ch\">Chamoru</a></li>\\n<li><a href=\"//ny.wikipedia.org/\" lang=\"ny\">Chichewa</a></li>\\n<li><a href=\"//ee.wikipedia.org/\" lang=\"ee\">E\\xca\\x8begbe</a></li>\\n<li><a href=\"//ff.wikipedia.org/\" lang=\"ff\">Fulfulde</a></li>\\n<li><a href=\"//got.wikipedia.org/\" lang=\"got\" title=\"Gutisk\">\\xf0\\x90\\x8c\\xb2\\xf0\\x90\\x8c\\xbf\\xf0\\x90\\x8d\\x84\\xf0\\x90\\x8c\\xb9\\xf0\\x90\\x8d\\x83\\xf0\\x90\\x8c\\xba</a></li>\\n<li><a href=\"//iu.wikipedia.org/\" lang=\"iu\">\\xe1\\x90\\x83\\xe1\\x93\\x84\\xe1\\x92\\x83\\xe1\\x91\\x8e\\xe1\\x91\\x90\\xe1\\x91\\xa6 / Inuktitut</a></li>\\n<li><a href=\"//ik.wikipedia.org/\" lang=\"ik\">I\\xc3\\xb1upiak</a></li>\\n<li><a href=\"//kl.wikipedia.org/\" lang=\"kl\">Kalaallisut</a></li>\\n<li><a href=\"//mad.wikipedia.org/\" lang=\"mad\">Madhur\\xc3\\xa2</a></li>\\n<li><a href=\"//cr.wikipedia.org/\" lang=\"cr\">N\\xc4\\x93hiyaw\\xc4\\x93win / \\xe1\\x93\\x80\\xe1\\x90\\xa6\\xe1\\x90\\x83\\xe1\\x94\\xad\\xe1\\x90\\x8d\\xe1\\x90\\x8f\\xe1\\x90\\xa3</a></li>\\n<li><a href=\"//pih.wikipedia.org/\" lang=\"pih\">Norfuk / Pitkern</a></li>\\n<li><a href=\"//ami.wikipedia.org/\" lang=\"ami\">Pangcah</a></li>\\n<li><a href=\"//pwn.wikipedia.org/\" lang=\"pwn\">pinayuanan</a></li>\\n<li><a href=\"//pnt.wikipedia.org/\" lang=\"pnt\" title=\"Pontiak\\xc3\\xa1\">\\xce\\xa0\\xce\\xbf\\xce\\xbd\\xcf\\x84\\xce\\xb9\\xce\\xb1\\xce\\xba\\xce\\xac</a></li>\\n<li><a href=\"//dz.wikipedia.org/\" lang=\"dz\" title=\"Rdzong-Kha\">\\xe0\\xbd\\xa2\\xe0\\xbe\\xab\\xe0\\xbd\\xbc\\xe0\\xbd\\x84\\xe0\\xbc\\x8b\\xe0\\xbd\\x81</a></li>\\n<li><a href=\"//rmy.wikipedia.org/\" lang=\"rmy\">romani \\xc4\\x8dhib</a></li>\\n<li><a href=\"//rn.wikipedia.org/\" lang=\"rn\">Ikirundi</a></li>\\n<li><a href=\"//sg.wikipedia.org/\" lang=\"sg\">S\\xc3\\xa4ng\\xc3\\xb6</a></li>\\n<li><a href=\"//st.wikipedia.org/\" lang=\"st\">Sesotho</a></li>\\n<li><a href=\"//ss.wikipedia.org/\" lang=\"ss\">SiSwati</a></li>\\n<li><a href=\"//ti.wikipedia.org/\" lang=\"ti\" title=\"T\\xc9\\x99g\\xc9\\x99r\\xc9\\x99\\xc3\\xb1a\">\\xe1\\x89\\xb5\\xe1\\x8c\\x8d\\xe1\\x88\\xad\\xe1\\x8a\\x9b</a></li>\\n<li><a href=\"//din.wikipedia.org/\" lang=\"din\">Thu\\xc9\\x94\\xc5\\x8bj\\xc3\\xa4\\xc5\\x8b</a></li>\\n<li><a href=\"//chy.wikipedia.org/\" lang=\"chy\">Ts\\xc4\\x97hesen\\xc4\\x97stsestotse</a></li>\\n<li><a href=\"//ts.wikipedia.org/\" lang=\"ts\">Xitsonga</a></li>\\n<li><a href=\"//kcg.wikipedia.org/\" lang=\"kcg\">Tyap</a></li>\\n<li><a href=\"//ve.wikipedia.org/\" lang=\"ve\">Tshiven\\xe1\\xb8\\x93a</a></li>\\n</ul>\\n</div>\\n<div class=\"langlist langlist-others hlist\" data-el-section=\"other languages\">\\n<a class=\"jsl10n\" href=\"https://meta.wikimedia.org/wiki/Special:MyLanguage/List_of_Wikipedias\" lang data-jsl10n=\"other-languages-label\">Other languages</a>\\n</div></div>\\n</div>\\n<hr>\\n<div class=\"footer\" data-el-section=\"other projects\">\\n<div class=\"footer-sidebar\">\\n<div class=\"footer-sidebar-content\">\\n<div class=\"footer-sidebar-icon sprite svg-Wikimedia-logo_black\">\\n</div>\\n<div class=\"footer-sidebar-text jsl10n\" data-jsl10n=\"portal.footer-description\">\\nWikipedia is hosted by the Wikimedia Foundation, a non-profit organization that also hosts a range of other projects.\\n</div>\\n<div class=\"footer-sidebar-text\">\\n<a href=\"https://donate.wikimedia.org/?utm_medium=portal&utm_campaign=portalFooter&utm_source=portalFooter\" target=\"_blank\">\\n<span class=\"jsl10n\" data-jsl10n=\"footer-donate\">You can support our work with a donation.</span>\\n</a>\\n</div>\\n</div>\\n</div>\\n<div class=\"footer-sidebar app-badges\">\\n<div class=\"footer-sidebar-content\">\\n<div class=\"footer-sidebar-text\">\\n<div class=\"footer-sidebar-icon sprite svg-wikipedia_app_tile\"></div>\\n<strong class=\"jsl10n\" data-jsl10n=\"portal.app-links.title\">\\n<a class=\"jsl10n\" data-jsl10n=\"portal.app-links.url\" href=\"https://en.wikipedia.org/wiki/List_of_Wikipedia_mobile_applications\">\\nDownload Wikipedia for Android or iOS\\n</a>\\n</strong>\\n<p class=\"jsl10n\" data-jsl10n=\"portal.app-links.description\">\\nSave your favorite articles to read offline, sync your reading lists across devices and customize your reading experience with the official Wikipedia app.\\n</p>\\n<ul>\\n<li class=\"app-badge app-badge-android\">\\n<a target=\"_blank\" rel=\"noreferrer\" href=\"https://play.google.com/store/apps/details?id=org.wikipedia&referrer=utm_source%3Dportal%26utm_medium%3Dbutton%26anid%3Dadmob\">\\n<span class=\"jsl10n sprite svg-badge_google_play_store\" data-jsl10n=\"portal.app-links.google-store\">Google Play Store</span>\\n</a>\\n</li>\\n<li class=\"app-badge app-badge-ios\">\\n<a target=\"_blank\" rel=\"noreferrer\" href=\"https://itunes.apple.com/app/apple-store/id324715238?pt=208305&ct=portal&mt=8\">\\n<span class=\"jsl10n sprite svg-badge_ios_app_store\" data-jsl10n=\"portal.app-links.apple-store\">Apple App Store</span>\\n</a>\\n</li>\\n</ul>\\n</div>\\n</div>\\n</div>\\n<div class=\"other-projects\">\\n<div class=\"other-project\">\\n<a class=\"other-project-link\" href=\"//commons.wikimedia.org/\">\\n<div class=\"other-project-icon\">\\n<div class=\"sprite svg-Commons-logo_sister\"></div>\\n</div>\\n<div class=\"other-project-text\">\\n<span class=\"other-project-title jsl10n\" data-jsl10n=\"commons.name\">Commons</span>\\n<span class=\"other-project-tagline jsl10n\" data-jsl10n=\"commons.slogan\">Freely usable photos &amp; more</span>\\n</div>\\n</a>\\n</div>\\n<div class=\"other-project\">\\n<a class=\"other-project-link\" href=\"//www.wikivoyage.org/\">\\n<div class=\"other-project-icon\">\\n<div class=\"sprite svg-Wikivoyage-logo_sister\"></div>\\n</div>\\n<div class=\"other-project-text\">\\n<span class=\"other-project-title jsl10n\" data-jsl10n=\"wikivoyage.name\">Wikivoyage</span>\\n<span class=\"other-project-tagline jsl10n\" data-jsl10n=\"wikivoyage.slogan\">Free travel guide</span>\\n</div>\\n</a>\\n</div>\\n<div class=\"other-project\">\\n<a class=\"other-project-link\" href=\"//www.wiktionary.org/\">\\n<div class=\"other-project-icon\">\\n<div class=\"sprite svg-Wiktionary-logo_sister\"></div>\\n</div>\\n<div class=\"other-project-text\">\\n<span class=\"other-project-title jsl10n\" data-jsl10n=\"wiktionary.name\">Wiktionary</span>\\n<span class=\"other-project-tagline jsl10n\" data-jsl10n=\"wiktionary.slogan\">Free dictionary</span>\\n</div>\\n</a>\\n</div>\\n<div class=\"other-project\">\\n<a class=\"other-project-link\" href=\"//www.wikibooks.org/\">\\n<div class=\"other-project-icon\">\\n<div class=\"sprite svg-Wikibooks-logo_sister\"></div>\\n</div>\\n<div class=\"other-project-text\">\\n<span class=\"other-project-title jsl10n\" data-jsl10n=\"wikibooks.name\">Wikibooks</span>\\n<span class=\"other-project-tagline jsl10n\" data-jsl10n=\"wikibooks.slogan\">Free textbooks</span>\\n</div>\\n</a>\\n</div>\\n<div class=\"other-project\">\\n<a class=\"other-project-link\" href=\"//www.wikinews.org/\">\\n<div class=\"other-project-icon\">\\n<div class=\"sprite svg-Wikinews-logo_sister\"></div>\\n</div>\\n<div class=\"other-project-text\">\\n<span class=\"other-project-title jsl10n\" data-jsl10n=\"wikinews.name\">Wikinews</span>\\n<span class=\"other-project-tagline jsl10n\" data-jsl10n=\"wikinews.slogan\">Free news source</span>\\n</div>\\n</a>\\n</div>\\n<div class=\"other-project\">\\n<a class=\"other-project-link\" href=\"//www.wikidata.org/\">\\n<div class=\"other-project-icon\">\\n<div class=\"sprite svg-Wikidata-logo_sister\"></div>\\n</div>\\n<div class=\"other-project-text\">\\n<span class=\"other-project-title jsl10n\" data-jsl10n=\"wikidata.name\">Wikidata</span>\\n<span class=\"other-project-tagline jsl10n\" data-jsl10n=\"wikidata.slogan\">Free knowledge base</span>\\n</div>\\n</a>\\n</div>\\n<div class=\"other-project\">\\n<a class=\"other-project-link\" href=\"//www.wikiversity.org/\">\\n<div class=\"other-project-icon\">\\n<div class=\"sprite svg-Wikiversity-logo_sister\"></div>\\n</div>\\n<div class=\"other-project-text\">\\n<span class=\"other-project-title jsl10n\" data-jsl10n=\"wikiversity.name\">Wikiversity</span>\\n<span class=\"other-project-tagline jsl10n\" data-jsl10n=\"wikiversity.slogan\">Free course materials</span>\\n</div>\\n</a>\\n</div>\\n<div class=\"other-project\">\\n<a class=\"other-project-link\" href=\"//www.wikiquote.org/\">\\n<div class=\"other-project-icon\">\\n<div class=\"sprite svg-Wikiquote-logo_sister\"></div>\\n</div>\\n<div class=\"other-project-text\">\\n<span class=\"other-project-title jsl10n\" data-jsl10n=\"wikiquote.name\">Wikiquote</span>\\n<span class=\"other-project-tagline jsl10n\" data-jsl10n=\"wikiquote.slogan\">Free quote compendium</span>\\n</div>\\n</a>\\n</div>\\n<div class=\"other-project\">\\n<a class=\"other-project-link\" href=\"//www.mediawiki.org/\">\\n<div class=\"other-project-icon\">\\n<div class=\"sprite svg-MediaWiki-logo_sister\"></div>\\n</div>\\n<div class=\"other-project-text\">\\n<span class=\"other-project-title jsl10n\" data-jsl10n=\"mediawiki.name\">MediaWiki</span>\\n<span class=\"other-project-tagline jsl10n\" data-jsl10n=\"mediawiki.slogan\">Free &amp; open wiki application</span>\\n</div>\\n</a>\\n</div>\\n<div class=\"other-project\">\\n<a class=\"other-project-link\" href=\"//www.wikisource.org/\">\\n<div class=\"other-project-icon\">\\n<div class=\"sprite svg-Wikisource-logo_sister\"></div>\\n</div>\\n<div class=\"other-project-text\">\\n<span class=\"other-project-title jsl10n\" data-jsl10n=\"wikisource.name\">Wikisource</span>\\n<span class=\"other-project-tagline jsl10n\" data-jsl10n=\"wikisource.slogan\">Free library</span>\\n</div>\\n</a>\\n</div>\\n<div class=\"other-project\">\\n<a class=\"other-project-link\" href=\"//species.wikimedia.org/\">\\n<div class=\"other-project-icon\">\\n<div class=\"sprite svg-Wikispecies-logo_sister\"></div>\\n</div>\\n<div class=\"other-project-text\">\\n<span class=\"other-project-title jsl10n\" data-jsl10n=\"wikispecies.name\">Wikispecies</span>\\n<span class=\"other-project-tagline jsl10n\" data-jsl10n=\"wikispecies.slogan\">Free species directory</span>\\n</div>\\n</a>\\n</div>\\n<div class=\"other-project\">\\n<a class=\"other-project-link\" href=\"//meta.wikimedia.org/\">\\n<div class=\"other-project-icon\">\\n<div class=\"sprite svg-Meta-Wiki-logo_sister\"></div>\\n</div>\\n<div class=\"other-project-text\">\\n<span class=\"other-project-title jsl10n\" data-jsl10n=\"metawiki.name\">Meta-Wiki</span>\\n<span class=\"other-project-tagline jsl10n\" data-jsl10n=\"metawiki.slogan\">Community coordination &amp; documentation</span>\\n</div>\\n</a>\\n</div>\\n</div>\\n</div>\\n<hr>\\n<p class=\"site-license\">\\n<small class=\"jsl10n\" data-jsl10n=\"license\">This page is available under the <a href=\"https://creativecommons.org/licenses/by-sa/3.0/\">Creative Commons Attribution-ShareAlike License</a></small>\\n<small class=\"jsl10n\" data-jsl10n=\"terms\"><a href=\"https://meta.wikimedia.org/wiki/Terms_of_use\">Terms of Use</a></small>\\n<small class=\"jsl10n\" data-jsl10n=\"privacy-policy\"><a href=\"https://meta.wikimedia.org/wiki/Privacy_policy\">Privacy Policy</a></small>\\n</p>\\n<script>\\nvar rtlLangs = [\\'ar\\',\\'arc\\',\\'ary\\',\\'arz\\',\\'bcc\\',\\'bgn\\',\\'bqi\\',\\'ckb\\',\\'dv\\',\\'fa\\',\\'glk\\',\\'he\\',\\'kk-cn\\',\\'kk-arab\\',\\'khw\\',\\'ks\\',\\'ku-arab\\',\\'lki\\',\\'luz\\',\\'mzn\\',\\'nqo\\',\\'pnb\\',\\'ps\\',\\'sd\\',\\'sdh\\',\\'skr\\',\\'ug\\',\\'ur\\',\\'yi\\'],\\n    translationsHash = \\'d22766fe\\',\\n    /**\\n     * This variable is used to convert the generic \"portal\" keyword in the data-jsl10n attributes\\n     * e.g. \\'data-jsl10n=\"portal.footer-description\"\\' into a portal-specific key, e.g. \"wiki\"\\n     * for the Wikipedia portal.\\n     */\\n    translationsPortalKey = \\'wiki\\';\\n    /**\\n     * The wm-typeahead.js feature is used for search,and it uses domain name for searching. We want domain\\n     * name to be portal Specific (different for every portal).So by declaring variable \\'portalSearchDomain\\'\\n     * in index.handlebars we will make this portal Specific.\\n    **/\\n    portalSearchDomain = \\'wikipedia.org\\'\\n    /*\\n     This object is used by l10n scripts (page-localized.js, topten-localized.js)\\n     to reveal the page content after l10n json is loaded.\\n     A timer is also set to prevent JS from hiding page content indefinitelty.\\n     This script is inlined to safeguard againt script loading errors and placed\\n     at the top of the page to safeguard against any HTML loading/parsing errors.\\n    */\\n    wmL10nVisible = {\\n        ready: false,\\n        makeVisible: function(){\\n            if ( !wmL10nVisible.ready ) {\\n                wmL10nVisible.ready = true;\\n                document.body.className += \\' jsl10n-visible\\';\\n            }\\n        }\\n    };\\n    window.setTimeout( wmL10nVisible.makeVisible, 1000 )\\n</script>\\n<script src=\"portal/wikipedia.org/assets/js/index-86c7e2579d.js\"></script>\\n<!--[if gt IE 9]><!-->\\n<script src=\"portal/wikipedia.org/assets/js/gt-ie9-ce3fe8e88d.js\"></script>\\n<!--<![endif]-->\\n<!--[if lte IE 9]><!-->\\n<style>\\n.styled-select {\\n        display: block;\\n    }\\n</style>\\n<!--<![endif]-->\\n<!--[if lte IE 9]>\\n<style>\\n    .langlist > ul {\\n        text-align: center;\\n    }\\n    .langlist > ul > li {\\n        display: inline;\\n        padding: 0 0.5em;\\n    }\\n</style>\\n<![endif]-->\\n</body>\\n</html>\\n'\n"
     ]
    }
   ],
   "source": [
    "print(html)"
   ]
  },
  {
   "cell_type": "markdown",
   "id": "7b3786f7",
   "metadata": {},
   "source": [
    "## Peticiones GET mediante `requests`\n",
    "\n",
    "Ahora vamos a hacer lo mismo, sin embargo aquí usaremos el paquete `requests`, que proporciona una maravillosa API para realizar solicitudes. De acuerdo con el sitio web del paquete `requests`, \"`Requests` le permite enviar solicitudes HTTP/1.1 orgánicas y alimentadas con hierba, sin necesidad de mano de obra\". y las siguientes organizaciones afirman utilizar las solicitudes internamente: \"Su majestad Governmen, Amazon, Google, Twilio, NPRm Obama for America, Twitter, Sony y Federal U. e Instituciones que prefieren no ser nombradas\".\n",
    "\n",
    "Además, \"`Requests` es uno de los paquetes de Python más descargados de todos los tiempos, con más de 7000000 de descargas cada mes.\"\n",
    "\n",
    "\n",
    "---\n",
    "**En práctica:**\n",
    "\n",
    "Aquí, importara el paquete `requests`, especificara la URL, empaqueta la solicitud, envia la solicitud y captura la respuesta con `requests.get()`; aplique el método de texto a la respuesta que devuelve el HTML como una cadena."
   ]
  },
  {
   "cell_type": "code",
   "execution_count": 26,
   "id": "8158133b",
   "metadata": {},
   "outputs": [],
   "source": [
    "import requests\n",
    "url = 'https://www.wikipedia.org/'\n",
    "r = requests.get(url)\n",
    "text = r.text"
   ]
  },
  {
   "cell_type": "code",
   "execution_count": 34,
   "id": "25050531",
   "metadata": {
    "scrolled": true
   },
   "outputs": [
    {
     "name": "stdout",
     "output_type": "stream",
     "text": [
      "<!DOCTYPE html>\n",
      "<html lang=\"en\" class=\"no-js\">\n",
      "<head>\n",
      "<meta charset=\"utf-8\">\n",
      "<title>Wikipedia</title>\n",
      "<meta name=\"description\" content=\"Wikipedia is a free online encyclopedia, created and edited by volunteers around the world and hosted by the Wikimedia Foundation.\">\n",
      "<script>\n",
      "document.documentElement.className = document.documentElement.className.replace( /(^|\\s)no-js(\\s|$)/, \"$1js-enabled$2\" );\n",
      "</script>\n",
      "<meta name=\"viewport\" content=\"initial-scale=1,user-scalable=yes\">\n",
      "<link rel=\"apple-touch-icon\" href=\"/static/apple-touch/wikipedia.png\">\n",
      "<link rel=\"shortcut icon\" href=\"/static/favicon/wikipedia.ico\">\n",
      "<link rel=\"license\" href=\"//creativecommons.org/licenses/by-sa/3.0/\">\n",
      "<style>\n",
      ".sprite{background-image:linear-gradient(transparent,transparent),url(portal/wikipedia.org/assets/img/sprite-e99844f6.svg);background-repeat:no-repeat;display:inline-block;vertical-align:middle}.svg-Commons-logo_sister{background-position:0 0;width:47px;height:47px}.svg-MediaWiki-logo_sister{background-position:0 -47px;width:42px;height:42px}.svg-Meta-Wiki-logo_sister{background-position:0 -89px;width:37px;height:37px}.svg-Wikibooks-logo_sister{background-position:0 -126px;width:37px;height:37px}.svg-Wikidata-logo_sister{background-position:0 -163px;width:49px;height:49px}.svg-Wikimedia-logo_black{background-position:0 -212px;width:42px;height:42px}.svg-Wikipedia_wordmark{background-position:0 -254px;width:176px;height:32px}.svg-Wikiquote-logo_sister{background-position:0 -286px;width:42px;height:42px}.svg-Wikisource-logo_sister{background-position:0 -328px;width:39px;height:39px}.svg-Wikispecies-logo_sister{background-position:0 -367px;width:42px;height:42px}.svg-Wikiversity-logo_sister{background-position:0 -409px;width:43px;height:37px}.svg-Wikivoyage-logo_sister{background-position:0 -446px;width:36px;height:36px}.svg-Wiktionary-logo_sister{background-position:0 -482px;width:37px;height:37px}.svg-arrow-down{background-position:0 -519px;width:12px;height:8px}.svg-arrow-down-blue{background-position:0 -527px;width:14px;height:14px}.svg-badge_google_play_store{background-position:0 -541px;width:124px;height:38px}.svg-badge_ios_app_store{background-position:0 -579px;width:110px;height:38px}.svg-language-icon{background-position:0 -617px;width:22px;height:22px}.svg-noimage{background-position:0 -639px;width:58px;height:58px}.svg-search-icon{background-position:0 -697px;width:22px;height:22px}.svg-wikipedia_app_tile{background-position:0 -719px;width:42px;height:42px}\n",
      "</style>\n",
      "<style>\n",
      "html{font-family:sans-serif;-ms-text-size-adjust:100%;-webkit-text-size-adjust:100%;font-size:62.5%}body{margin:0}article,aside,details,figcaption,figure,footer,header,hgroup,main,menu,nav,section,summary{display:block}audio,canvas,progress,video{display:inline-block;vertical-align:baseline}audio:not([controls]){display:none;height:0}[hidden],template{display:none}a{background-color:transparent}a:active,a:hover{outline:0}abbr[title]{border-bottom:1px dotted}b,strong{font-weight:700}dfn{font-style:italic}h1{font-size:32px;font-size:3.2rem;margin:1.2rem 0}mark{background:#fc3;color:#000}small{font-size:13px;font-size:1.3rem}sub,sup{font-size:75%;line-height:0;position:relative;vertical-align:baseline}sup{top:-.5em}sub{bottom:-.25em}svg:not(:root){overflow:hidden}figure{margin:1.6rem 4rem}hr{-webkit-box-sizing:content-box;-moz-box-sizing:content-box;box-sizing:content-box}pre{overflow:auto}code,kbd,pre,samp{font-family:monospace,monospace;font-size:14px;font-size:1.4rem}button,input,optgroup,select,textarea{color:inherit;font:inherit;margin:0}button{overflow:visible}button,select{text-transform:none}button,html input[type=button],input[type=reset],input[type=submit]{-webkit-appearance:button;cursor:pointer}button[disabled],html input[disabled]{cursor:default}button::-moz-focus-inner,input::-moz-focus-inner{border:0;padding:0}input{line-height:normal}input[type=checkbox],input[type=radio]{-webkit-box-sizing:border-box;-moz-box-sizing:border-box;box-sizing:border-box;padding:0}input[type=number]::-webkit-inner-spin-button,input[type=number]::-webkit-outer-spin-button{height:auto}input[type=search]{-webkit-appearance:none;-webkit-box-sizing:content-box;-moz-box-sizing:content-box;box-sizing:content-box}input[type=search]::-webkit-search-cancel-button,input[type=search]::-webkit-search-decoration{-webkit-appearance:none}input[type=search]:focus{outline-offset:-2px}fieldset{border:1px solid #a2a9b1;margin:0 .2rem;padding:.6rem 1rem 1.2rem}legend{border:0;padding:0}textarea{overflow:auto}optgroup{font-weight:700}table{border-collapse:collapse;border-spacing:0}td,th{padding:0}.hidden,[hidden]{display:none!important}.screen-reader-text{display:block;position:absolute!important;clip:rect(1px,1px,1px,1px);width:1px;height:1px;margin:-1px;border:0;padding:0;overflow:hidden}body{background-color:#fff;font-family:-apple-system,BlinkMacSystemFont,Segoe UI,Roboto,Lato,Helvetica,Arial,sans-serif;font-size:14px;font-size:1.4rem;line-height:1.5;margin:.4rem 0 1.6rem}a{-ms-touch-action:manipulation;touch-action:manipulation}a,a:active,a:focus{unicode-bidi:embed;outline:0;color:#36c;text-decoration:none}a:focus{outline:1px solid #36c}a:hover{text-decoration:underline}img{vertical-align:middle}hr,img{border:0}hr{clear:both;height:0;border-bottom:1px solid #c8ccd1;margin:.26rem 1.3rem}.pure-button{display:inline-block;zoom:1;line-height:normal;white-space:nowrap;text-align:center;cursor:pointer;-webkit-user-drag:none;-webkit-user-select:none;-moz-user-select:none;-ms-user-select:none;user-select:none;-webkit-box-sizing:border-box;-moz-box-sizing:border-box;box-sizing:border-box;background-color:#f8f9fa;color:#202122;position:relative;min-height:19.2px;min-height:1.92rem;min-width:16px;min-width:1.6rem;margin:.16rem 0;border:1px solid #a2a9b1;-moz-border-radius:2px;border-radius:2px;padding:.8rem 1.6rem;font-family:inherit;font-size:inherit;font-weight:700;text-decoration:none;vertical-align:top;-webkit-transition:background .1s ease,color .1s ease,border-color .1s ease,-webkit-box-shadow .1s ease;transition:background .1s ease,color .1s ease,border-color .1s ease,-webkit-box-shadow .1s ease;-o-transition:background .1s ease,color .1s ease,border-color .1s ease,box-shadow .1s ease;-moz-transition:background .1s ease,color .1s ease,border-color .1s ease,box-shadow .1s ease,-moz-box-shadow .1s ease;transition:background .1s ease,color .1s ease,border-color .1s ease,box-shadow .1s ease;transition:background .1s ease,color .1s ease,border-color .1s ease,box-shadow .1s ease,-webkit-box-shadow .1s ease,-moz-box-shadow .1s ease}.pure-button::-moz-focus-inner{padding:0;border:0}.pure-button-hover,.pure-button:hover{background-color:#fff;border-color:#a2a9b1;color:#404244}.pure-button-active,.pure-button:active{background-color:#c8ccd1;border-color:#72777d;color:#000}.pure-button:focus{outline:0;border-color:#36c;-webkit-box-shadow:inset 0 0 0 1px #36c;-moz-box-shadow:inset 0 0 0 1px #36c;box-shadow:inset 0 0 0 1px #36c}.pure-button-primary-progressive{background-color:#36c;border-color:#36c;color:#fff}.pure-button-primary-progressive:hover{background:#447ff5;border-color:#447ff5}.pure-button-primary-progressive:active{background-color:#2a4b8d;border-color:#2a4b8d;-webkit-box-shadow:none;-moz-box-shadow:none;box-shadow:none;color:#fff}.pure-button-primary-progressive:focus{-webkit-box-shadow:inset 0 0 0 1px #36c,inset 0 0 0 2px #fff;-moz-box-shadow:inset 0 0 0 1px #36c,inset 0 0 0 2px #fff;box-shadow:inset 0 0 0 1px #36c,inset 0 0 0 2px #fff;border-color:#36c}.pure-form input[type=search]{background-color:#fff;display:inline-block;-webkit-box-sizing:border-box;-moz-box-sizing:border-box;box-sizing:border-box;border:1px solid #a2a9b1;-moz-border-radius:2px;border-radius:2px;padding:.8rem;-webkit-box-shadow:inset 0 0 0 1px #fff;-moz-box-shadow:inset 0 0 0 1px #fff;box-shadow:inset 0 0 0 1px #fff;vertical-align:middle}.pure-form input:focus:invalid{color:#b32424;border-color:#d33}.pure-form fieldset{margin:0;padding:.56rem 0 1.2rem;border:0}@media only screen and (max-width:480px){.pure-form input[type=search]{display:block}}.central-textlogo-wrapper{display:inline-block;vertical-align:bottom}.central-textlogo{position:relative;margin:4rem auto .5rem;width:270px;font-family:Linux Libertine,Hoefler Text,Georgia,Times New Roman,Times,serif;font-size:30px;font-size:3rem;font-weight:400;line-height:33px;line-height:3.3rem;text-align:center;-moz-font-feature-settings:\"ss05=1\";-moz-font-feature-settings:\"ss05\";-webkit-font-feature-settings:\"ss05\";-ms-font-feature-settings:\"ss05\";font-feature-settings:\"ss05\"}.localized-slogan{display:block;font-family:Linux Libertine,Georgia,Times,serif;font-size:15px;font-size:1.5rem;font-weight:400}.central-textlogo__image{color:transparent;display:inline-block;overflow:hidden;text-indent:-10000px}.central-featured-logo{position:absolute;top:158px;left:35px}@media (max-width:480px){.central-textlogo{position:relative;height:70px;width:auto;margin:2rem 0 0;text-align:center;line-height:25px;line-height:2.5rem;text-indent:-10px;text-indent:-1rem;font-size:1em}.central-textlogo-wrapper{position:relative;top:12px;text-indent:2px;text-indent:.2rem}.svg-Wikipedia_wordmark{width:150px;height:25px;background-position:0 -218px;-webkit-background-size:100% 100%;-moz-background-size:100%;background-size:100%}.localized-slogan{font-size:14px;font-size:1.4rem}.central-featured-logo{position:relative;display:inline-block;width:57px;height:auto;left:0;top:0}}@media (max-width:240px){.central-textlogo__image{height:auto}}.central-featured{position:relative;height:325px;height:32.5rem;width:546px;width:54.6rem;max-width:100%;margin:0 auto;text-align:center;vertical-align:middle}.central-featured-lang{position:absolute;width:156px;width:15.6rem}.central-featured-lang .link-box{display:block;padding:0;text-decoration:none;white-space:normal}.central-featured-lang .link-box:hover strong{text-decoration:underline}.central-featured-lang :hover{background-color:#eaecf0}.central-featured-lang strong{display:block;font-size:16px;font-size:1.6rem}.central-featured-lang small{color:#54595d;display:inline-block;font-size:13px;font-size:1.3rem;line-height:1.6}.central-featured-lang em{font-style:italic}.central-featured-lang .emNonItalicLang{font-style:normal}.lang1{top:0;right:60%}.lang2{top:0;left:60%}.lang3{top:20%;right:70%}.lang4{top:20%;left:70%}.lang5{top:40%;right:72%}.lang6{top:40%;left:72%}.lang7{top:60%;right:70%}.lang8{top:60%;left:70%}.lang9{top:80%;right:60%}.lang10{top:80%;left:60%}@media (max-width:480px){.central-featured{width:auto;height:auto;margin-top:7rem;font-size:13px;font-size:1.3rem;text-align:left}.central-featured:after{content:\" \";display:block;visibility:hidden;clear:both;height:0;font-size:0}.central-featured-lang{display:block;float:left;position:relative;top:auto;left:auto;right:auto;-webkit-box-sizing:border-box;-moz-box-sizing:border-box;box-sizing:border-box;height:64px;height:6.4rem;width:33%;margin:0 0 16px;padding:0 1.6rem;font-size:14px;font-size:1.4rem;text-align:center}.central-featured-lang strong{font-size:14px;font-size:1.4rem;margin-bottom:4px}.central-featured-lang small{line-height:1.4}}@media (max-width:375px){.central-featured-lang{font-size:13px;font-size:1.3rem}}@media (max-width:240px){.central-featured-lang{width:100%}}.search-container{float:none;max-width:95%;width:540px;margin:.4rem auto 1.95rem;text-align:center;vertical-align:middle}.search-container fieldset{word-spacing:-4px}.search-container button{min-height:44px;min-height:4.4rem;margin:0;-moz-border-radius:0 2px 2px 0;border-radius:0 2px 2px 0;padding:.8rem 1.6rem;font-size:16px;font-size:1.6rem;z-index:2}.search-container button .svg-search-icon{text-indent:-9999px}.search-container input[type=search]::-webkit-search-results-button,.search-container input[type=search]::-webkit-search-results-decoration{-webkit-appearance:none}.search-container input::-webkit-calendar-picker-indicator{display:none}.search-container .sprite.svg-arrow-down{position:absolute;top:8px;top:.8rem;right:6px;right:.6rem}#searchInput{-webkit-appearance:none;width:100%;height:44px;height:4.4rem;border-width:1px 0 1px 1px;-moz-border-radius:2px 0 0 2px;border-radius:2px 0 0 2px;padding:.8rem 9.6rem .8rem 1.2rem;font-size:16px;font-size:1.6rem;line-height:1.6;-webkit-transition:background .1s ease,border-color .1s ease,-webkit-box-shadow .1s ease;transition:background .1s ease,border-color .1s ease,-webkit-box-shadow .1s ease;-o-transition:background .1s ease,border-color .1s ease,box-shadow .1s ease;-moz-transition:background .1s ease,border-color .1s ease,box-shadow .1s ease,-moz-box-shadow .1s ease;transition:background .1s ease,border-color .1s ease,box-shadow .1s ease;transition:background .1s ease,border-color .1s ease,box-shadow .1s ease,-webkit-box-shadow .1s ease,-moz-box-shadow .1s ease}#searchInput:hover{border-color:#72777d}#searchInput:focus{border-color:#36c;-webkit-box-shadow:inset 0 0 0 1px #36c;-moz-box-shadow:inset 0 0 0 1px #36c;box-shadow:inset 0 0 0 1px #36c;outline:0}.search-container .search-input{display:inline-block;position:relative;width:73%;vertical-align:top}@media only screen and (max-width:480px){.search-container .pure-form fieldset{margin-left:1rem;margin-right:6.6rem}.search-container .search-input{width:100%;margin-right:-6.6rem}.search-container .pure-form button{float:right;right:-56px;right:-5.6rem}}.suggestions-dropdown{background-color:#fff;display:inline-block;position:absolute;left:0;z-index:2;margin:0;padding:0;border:1px solid #a2a9b1;border-top:0;-webkit-box-shadow:0 2px 2px 0 rgba(0,0,0,.25);-moz-box-shadow:0 2px 2px 0 rgba(0,0,0,.25);box-shadow:0 2px 2px 0 rgba(0,0,0,.25);list-style-type:none;word-spacing:normal}.suggestion-link,.suggestions-dropdown{-webkit-box-sizing:border-box;-moz-box-sizing:border-box;box-sizing:border-box;width:100%;text-align:left}.suggestion-link{display:block;position:relative;min-height:70px;min-height:7rem;padding:1rem 1rem 1rem 8.5rem;border-bottom:1px solid #eaecf0;color:inherit;text-decoration:none;text-align:initial;white-space:normal}.suggestion-link.active{background-color:#eaf3ff}a.suggestion-link:hover{text-decoration:none}a.suggestion-link:active,a.suggestion-link:focus{outline:0;white-space:normal}.suggestion-thumbnail{background-color:#eaecf0;background-image:url(portal/wikipedia.org/assets/img/noimage.png);background-image:-webkit-linear-gradient(transparent,transparent),url(\"data:image/svg+xml;charset=utf-8,%3Csvg xmlns='http://www.w3.org/2000/svg' viewBox='0 0 56 56'%3E%3Cpath fill='%23eee' d='M0 0h56v56H0z'/%3E%3Cpath fill='%23999' d='M36.4 13.5H17.8v24.9c0 1.4.9 2.3 2.3 2.3h18.7v-25c.1-1.4-1-2.2-2.4-2.2zM30.2 17h5.1v6.4h-5.1V17zm-8.8 0h6v1.8h-6V17zm0 4.6h6v1.8h-6v-1.8zm0 15.5v-1.8h13.8v1.8H21.4zm13.8-4.5H21.4v-1.8h13.8v1.8zm0-4.7H21.4v-1.8h13.8v1.8z'/%3E%3C/svg%3E\");background-image:-webkit-linear-gradient(transparent,transparent),url(portal/wikipedia.org/assets/img/noimage.svg) !ie;background-image:-webkit-gradient(linear,left top,left bottom,from(transparent),to(transparent)),url(\"data:image/svg+xml;charset=utf-8,%3Csvg xmlns='http://www.w3.org/2000/svg' viewBox='0 0 56 56'%3E%3Cpath fill='%23eee' d='M0 0h56v56H0z'/%3E%3Cpath fill='%23999' d='M36.4 13.5H17.8v24.9c0 1.4.9 2.3 2.3 2.3h18.7v-25c.1-1.4-1-2.2-2.4-2.2zM30.2 17h5.1v6.4h-5.1V17zm-8.8 0h6v1.8h-6V17zm0 4.6h6v1.8h-6v-1.8zm0 15.5v-1.8h13.8v1.8H21.4zm13.8-4.5H21.4v-1.8h13.8v1.8zm0-4.7H21.4v-1.8h13.8v1.8z'/%3E%3C/svg%3E\");background-image:-moz- oldlinear-gradient(transparent,transparent),url(\"data:image/svg+xml;charset=utf-8,%3Csvg xmlns='http://www.w3.org/2000/svg' viewBox='0 0 56 56'%3E%3Cpath fill='%23eee' d='M0 0h56v56H0z'/%3E%3Cpath fill='%23999' d='M36.4 13.5H17.8v24.9c0 1.4.9 2.3 2.3 2.3h18.7v-25c.1-1.4-1-2.2-2.4-2.2zM30.2 17h5.1v6.4h-5.1V17zm-8.8 0h6v1.8h-6V17zm0 4.6h6v1.8h-6v-1.8zm0 15.5v-1.8h13.8v1.8H21.4zm13.8-4.5H21.4v-1.8h13.8v1.8zm0-4.7H21.4v-1.8h13.8v1.8z'/%3E%3C/svg%3E\");background-image:-o-linear-gradient(transparent,transparent),url(\"data:image/svg+xml;charset=utf-8,%3Csvg xmlns='http://www.w3.org/2000/svg' viewBox='0 0 56 56'%3E%3Cpath fill='%23eee' d='M0 0h56v56H0z'/%3E%3Cpath fill='%23999' d='M36.4 13.5H17.8v24.9c0 1.4.9 2.3 2.3 2.3h18.7v-25c.1-1.4-1-2.2-2.4-2.2zM30.2 17h5.1v6.4h-5.1V17zm-8.8 0h6v1.8h-6V17zm0 4.6h6v1.8h-6v-1.8zm0 15.5v-1.8h13.8v1.8H21.4zm13.8-4.5H21.4v-1.8h13.8v1.8zm0-4.7H21.4v-1.8h13.8v1.8z'/%3E%3C/svg%3E\");background-image:linear-gradient(transparent,transparent),url(\"data:image/svg+xml;charset=utf-8,%3Csvg xmlns='http://www.w3.org/2000/svg' viewBox='0 0 56 56'%3E%3Cpath fill='%23eee' d='M0 0h56v56H0z'/%3E%3Cpath fill='%23999' d='M36.4 13.5H17.8v24.9c0 1.4.9 2.3 2.3 2.3h18.7v-25c.1-1.4-1-2.2-2.4-2.2zM30.2 17h5.1v6.4h-5.1V17zm-8.8 0h6v1.8h-6V17zm0 4.6h6v1.8h-6v-1.8zm0 15.5v-1.8h13.8v1.8H21.4zm13.8-4.5H21.4v-1.8h13.8v1.8zm0-4.7H21.4v-1.8h13.8v1.8z'/%3E%3C/svg%3E\");background-image:-webkit-gradient(linear,left top,left bottom,from(transparent),to(transparent)),url(portal/wikipedia.org/assets/img/noimage.svg) !ie;background-image:-moz- oldlinear-gradient(transparent,transparent),url(portal/wikipedia.org/assets/img/noimage.svg) !ie;background-image:-o-linear-gradient(transparent,transparent),url(portal/wikipedia.org/assets/img/noimage.svg) !ie;background-image:linear-gradient(transparent,transparent),url(portal/wikipedia.org/assets/img/noimage.svg) !ie;background-image:-o-linear-gradient(transparent,transparent),url(portal/wikipedia.org/assets/img/noimage.png);background-position:50%;background-repeat:no-repeat;-webkit-background-size:100% auto;-moz-background-size:100% auto;background-size:100% auto;-webkit-background-size:cover;-moz-background-size:cover;background-size:cover;height:100%;width:70px;width:7rem;position:absolute;top:0;left:0}.suggestion-title{margin:0 0 .78rem;color:#54595d;font-size:16px;font-size:1.6rem;line-height:18.72px;line-height:1.872rem}.suggestion-link.active .suggestion-title{color:#36c}.suggestion-highlight{font-style:normal;text-decoration:underline}.suggestion-description{color:#72777d;margin:0;font-size:13px;font-size:1.3rem;line-height:14.299px;line-height:1.43rem}.styled-select{display:none;position:absolute;top:10px;top:1rem;bottom:12px;bottom:1.2rem;right:12px;right:1.2rem;max-width:95px;max-width:9.5rem;height:24px;height:2.4rem;-moz-border-radius:2px;border-radius:2px}.styled-select:hover{background-color:#f8f9fa}.styled-select .hide-arrow{right:32px;right:3.2rem;max-width:68px;max-width:6.8rem;height:24px;height:2.4rem;overflow:hidden;text-align:right}.styled-select select{background:transparent;display:inline;overflow:hidden;height:24px;height:2.4rem;min-width:110px;min-width:11rem;max-width:110px;max-width:11rem;width:110px;width:11rem;outline:0;-webkit-box-sizing:border-box;-moz-box-sizing:border-box;box-sizing:border-box;border:0;line-height:24px;line-height:2.4rem;-webkit-appearance:none;-moz-appearance:window;text-indent:.01px;-o-text-overflow:\"\";text-overflow:\"\";opacity:0;-moz-appearance:none;appearance:none;cursor:pointer}.styled-select.no-js{width:95px;width:9.5rem}.styled-select.no-js select{opacity:1;margin:0;padding:0 2.4rem 0 .8rem;color:#54595d}.styled-select.no-js .hide-arrow{width:68px;width:6.8rem}.search-container .styled-select.no-js .js-langpicker-label{display:none}.styled-select.js-enabled .hide-arrow{padding:0 2.4rem 0 .8rem}.styled-select.js-enabled select{background:transparent;position:absolute;top:0;left:0;height:100%;z-index:1;width:100%;border:0;margin:0;padding:0 2.4rem;color:transparent;color:hsla(0,0%,100%,0)}.styled-select.js-enabled select option{color:#54595d}.styled-select.js-enabled select:hover{background-color:transparent}.styled-select-active-helper{display:none}.styled-select.js-enabled select:focus+.styled-select-active-helper{display:block;position:absolute;top:0;left:0;z-index:0;width:100%;height:100%;outline:1px solid #36c}.search-container .js-langpicker-label{display:inline-block;margin:0;color:#54595d;font-size:13px;font-size:1.3rem;line-height:24px;line-height:2.4rem;text-transform:uppercase}.styled-select select:hover{background-color:#f8f9fa}.styled-select select::-ms-expand{display:none}.styled-select select:focus{outline:0;-webkit-box-shadow:none;-moz-box-shadow:none;box-shadow:none}@-moz-document url-prefix(){.styled-select select{width:110%}}.other-projects{display:inline-block;width:65%}.other-project{float:left;position:relative;width:33%;height:90px;height:9rem}.other-project-link{display:inline-block;min-height:50px;width:90%;padding:1em;white-space:nowrap}.other-project-link:hover{background-color:#eaecf0}a.other-project-link{text-decoration:none}.other-project-icon{display:inline-block;width:50px;text-align:center}.svg-Wikinews-logo_sister{background-image:url(portal/wikipedia.org/assets/img/Wikinews-logo_sister.png);background-position:0 0;-webkit-background-size:47px 26px;-moz-background-size:47px 26px;background-size:47px 26px;width:47px;height:26px}@media (-o-min-device-pixel-ratio:5/4),(-webkit-min-device-pixel-ratio:1.25),(min-resolution:120dpi){.svg-Wikinews-logo_sister{background-image:url(portal/wikipedia.org/assets/img/Wikinews-logo_sister@2x.png)}}.other-project-text,.other-project .sprite-project-logos{display:inline-block}.other-project-text{max-width:65%;font-size:14px;font-size:1.4rem;vertical-align:middle;white-space:normal}.other-project-tagline,.other-project-title{display:block}.other-project-tagline{color:#54595d;font-size:13px;font-size:1.3rem}@media screen and (max-width:768px){.other-projects{width:100%}.other-project{width:33%}}@media screen and (max-width:480px){.other-project{width:50%}.other-project-tagline{-webkit-hyphens:auto;-moz-hyphens:auto;-ms-hyphens:auto;hyphens:auto}}@media screen and (max-width:320px){.other-project-text{margin-right:5px;font-size:13px;font-size:1.3rem}}.lang-list-container{background-color:#f8f9fa;overflow:hidden;position:relative;-webkit-box-sizing:border-box;-moz-box-sizing:border-box;box-sizing:border-box;max-height:0;width:80%;margin:-1.6rem auto 4.8rem;-webkit-transition:max-height .5s ease-out .16s,visibility .5s ease-in 1s;-o-transition:max-height .5s ease-out .16s,visibility .5s ease-in 1s;-moz-transition:max-height .5s ease-out .16s,visibility .5s ease-in 1s;transition:max-height .5s ease-out .16s,visibility .5s ease-in 1s}.js-enabled .lang-list-container{visibility:hidden}.lang-list-active .lang-list-container,.no-js .lang-list-container{visibility:visible;max-height:10000px;-webkit-transition:max-height 1s ease-in .2s,visibility 1000s ease-in 0ms;-o-transition:max-height 1s ease-in .2s,visibility 1000s ease-in 0ms;-moz-transition:max-height 1s ease-in .2s,visibility 1000s ease-in 0ms;transition:max-height 1s ease-in .2s,visibility 1000s ease-in 0ms}.no-js .lang-list-button{display:none}.lang-list-button-wrapper{text-align:center}.lang-list-button{background-color:#f8f9fa;display:inline;position:relative;z-index:1;margin:0 auto;padding:.6rem 1.2rem;outline:16px solid #fff;outline:1.6rem solid #fff;border:1px solid #a2a9b1;-moz-border-radius:2px;border-radius:2px;color:#36c;font-size:14px;font-size:1.4rem;font-weight:700;line-height:1;-webkit-transition:outline-width .1s ease-in .5s;-o-transition:outline-width .1s ease-in .5s;-moz-transition:outline-width .1s ease-in .5s;transition:outline-width .1s ease-in .5s}.lang-list-button:hover{background-color:#fff;border-color:#a2a9b1}.lang-list-button:focus{border-color:#36c;-webkit-box-shadow:inset 0 0 0 1px #36c;-moz-box-shadow:inset 0 0 0 1px #36c;box-shadow:inset 0 0 0 1px #36c}.lang-list-active .lang-list-button{background-color:#fff;outline:1px solid #fff;border-color:#72777d;-webkit-transition-delay:0s;-moz-transition-delay:0s;-o-transition-delay:0s;transition-delay:0s}.lang-list-button-text{padding:0 .64rem;vertical-align:middle}.lang-list-button i{display:inline-block;vertical-align:middle}.no-js .lang-list-border,.no-js .lang-list-button{display:none}.lang-list-border{background-color:#c8ccd1;display:block;position:relative;max-width:460px;width:80%;margin:-1.6rem auto 1.6rem;height:1px;-webkit-transition:max-width .2s ease-out .4s;-o-transition:max-width .2s ease-out .4s;-moz-transition:max-width .2s ease-out .4s;transition:max-width .2s ease-out .4s}.lang-list-active .lang-list-border{max-width:85%;-webkit-transition-delay:0s;-moz-transition-delay:0s;-o-transition-delay:0s;transition-delay:0s}.no-js .lang-list-content{padding:0}.lang-list-content{position:relative;-webkit-box-sizing:border-box;-moz-box-sizing:border-box;box-sizing:border-box;width:100%;padding:1.6rem 1.6rem 0}.svg-arrow-down-blue{-webkit-transition:-webkit-transform .2s ease-out;transition:-webkit-transform .2s ease-out;-o-transition:transform .2s ease-out;-moz-transition:transform .2s ease-out,-moz-transform .2s ease-out;transition:transform .2s ease-out;transition:transform .2s ease-out,-webkit-transform .2s ease-out,-moz-transform .2s ease-out}.lang-list-active .svg-arrow-down-blue{-webkit-transform:rotate(180deg);-moz-transform:rotate(180deg);-ms-transform:rotate(180deg);transform:rotate(180deg)}.langlist{width:auto;margin:1.6rem 0;text-align:left}.langlist-others{font-weight:700;text-align:center}.hlist ul{margin:0;padding:0}.hlist li,.hlist ul ul{display:inline}.hlist li:before{content:\" Â· \";font-weight:700}.hlist li:first-child:before{content:none}.hlist li>ul:before{content:\"\\00a0(\"}.hlist li>ul:after{content:\") \"}.langlist>ul{-webkit-column-width:11.2rem;-moz-column-width:11.2rem;column-width:11.2rem}.langlist>ul>li{display:block;line-height:1.7;-webkit-column-break-inside:avoid;page-break-inside:avoid;break-inside:avoid}.no-js .langlist>ul{text-align:center;list-style-type:circle}.no-js .langlist>ul>li{display:inline-block;padding:0 .8rem}.langlist>ul>li:before{content:none}.langlist>ul>li a{white-space:normal}@media (max-width:480px){.langlist{font-size:inherit}.langlist a{word-wrap:break-word;white-space:normal}.lang-list-container{width:auto;margin-left:.8rem;margin-right:.8rem}.bookshelf{overflow:visible}}.bookshelf{display:block;border-top:1px solid #c8ccd1;-webkit-box-shadow:0 -1px 0 #fff;-moz-box-shadow:0 -1px 0 #fff;box-shadow:0 -1px 0 #fff;text-align:center;white-space:nowrap}.bookshelf .text{background-color:#f8f9fa;position:relative;top:-11.2px;top:-1.12rem;font-weight:400;padding:0 .8rem}.bookshelf-container{display:block;overflow:visible;width:100%;height:1px;margin:2.4rem 0 1.6rem;font-size:13px;font-size:1.3rem;font-weight:700;line-height:1.5}@media (max-width:480px){.bookshelf{width:auto;left:auto}.bookshelf-container{text-align:left;width:auto}}.app-badges .footer-sidebar-content{background-color:#f8f9fa}.app-badges .footer-sidebar-text{padding-top:.8rem;padding-bottom:.8rem}.app-badges .sprite.footer-sidebar-icon{top:8px;top:.8rem}.app-badges ul{margin:0;padding:0;list-style-type:none}.app-badge{display:inline-block}.app-badge a{color:transparent}@media screen and (max-width:768px){.app-badges .footer-sidebar-content{text-align:center}.app-badges .sprite.footer-sidebar-icon{display:inline-block;position:relative;margin:0;top:-3px;left:0;vertical-align:middle;-webkit-transform:scale(.7);-moz-transform:scale(.7);-ms-transform:scale(.7);transform:scale(.7)}}.footer{overflow:hidden;max-width:100%;margin:0 auto;padding:4.16rem 1.28rem 1.28rem;font-size:13px;font-size:1.3rem}.footer:after,.footer:before{content:\" \";display:table}.footer:after{clear:both}.footer-sidebar{width:35%;float:left;clear:left;margin-bottom:3.2rem;vertical-align:top}.footer-sidebar-content{position:relative;max-width:350px;margin:0 auto}.sprite.footer-sidebar-icon{position:absolute;top:0;left:8px;left:.8rem}.footer-sidebar-text{position:relative;margin:0;padding-left:6rem;padding-right:2rem;color:#54595d}.site-license{color:#54595d;text-align:center}.site-license small:after{content:\"\\2022\";display:inline-block;font-size:13px;font-size:1.3rem;line-height:inherit;margin-left:.8rem;margin-right:.5rem}.site-license small:last-child:after{display:none}@media screen and (max-width:768px){.footer{display:-webkit-box;display:-webkit-flex;display:-moz-box;display:-ms-flexbox;display:flex;-webkit-box-orient:vertical;-webkit-box-direction:normal;-webkit-flex-direction:column;-moz-box-orient:vertical;-moz-box-direction:normal;-ms-flex-direction:column;flex-direction:column;padding-top:1.28rem}.footer .footer-sidebar{-webkit-box-ordinal-group:1;-moz-box-ordinal-group:1;-webkit-order:1;-ms-flex-order:1;order:1}.footer .other-projects{-webkit-box-ordinal-group:2;-moz-box-ordinal-group:2;-webkit-order:2;-ms-flex-order:2;order:2}.footer .app-badges{-webkit-box-ordinal-group:3;-moz-box-ordinal-group:3;-webkit-order:3;-ms-flex-order:3;order:3}.footer-sidebar{width:100%}.sprite.footer-sidebar-icon{display:block;position:relative;left:0;margin:0 auto 1.28rem}.footer-sidebar-content{max-width:none}.footer-sidebar-text{margin:0;padding:0;text-align:center}}@media screen and (max-width:480px){.footer{padding:.96rem .64rem 1.28rem}}@media (max-width:480px){.search-container{margin-top:0;height:78px;height:7.8rem;position:absolute;top:96px;top:9.6rem;left:0;right:0;max-width:100%;width:auto;padding:0;text-align:left}.search-container label{display:none}.search-form #searchInput{max-width:40%;vertical-align:middle}.search-form .formBtn{max-width:25%;vertical-align:middle}form fieldset{margin:0;border-left:0;border-right:0}hr{margin-top:.65rem}}@media (-o-min-device-pixel-ratio:2/1),(-webkit-min-device-pixel-ratio:2),(min--moz-device-pixel-ratio:2),(min-resolution:2dppx),(min-resolution:192dpi){hr{border-bottom-width:.5px}}@supports (-webkit-marquee-style:slide){hr{border-bottom-width:1px}}.js-enabled .central-featured,.js-enabled .jsl10n{visibility:hidden}.jsl10n-visible .central-featured,.jsl10n-visible .jsl10n{visibility:visible}@media print{body{background-color:transparent}a{color:#000!important;background:none!important;padding:0!important}a:link,a:visited{color:#520;background:transparent}img{border:0}}\n",
      "</style>\n",
      "<link rel=\"preconnect\" href=\"//upload.wikimedia.org\">\n",
      "</head>\n",
      "<body id=\"www-wikipedia-org\">\n",
      "<div class=\"central-textlogo\">\n",
      "<img class=\"central-featured-logo\" src=\"portal/wikipedia.org/assets/img/Wikipedia-logo-v2.png\" srcset=\"portal/wikipedia.org/assets/img/Wikipedia-logo-v2@1.5x.png 1.5x, portal/wikipedia.org/assets/img/Wikipedia-logo-v2@2x.png 2x\" width=\"200\" height=\"183\" alt=\"Wikipedia\">\n",
      "<h1 class=\"central-textlogo-wrapper\">\n",
      "<span class=\"central-textlogo__image sprite svg-Wikipedia_wordmark\">\n",
      "Wikipedia\n",
      "</span>\n",
      "<strong class=\"jsl10n localized-slogan\" data-jsl10n=\"portal.slogan\">The Free Encyclopedia</strong>\n",
      "</h1>\n",
      "</div>\n",
      "<div class=\"central-featured\" data-el-section=\"primary links\">\n",
      "<!-- #1. en.wikipedia.org - 1 796 091 000 views/day -->\n",
      "<div class=\"central-featured-lang lang1\" lang=\"en\" dir=\"ltr\">\n",
      "<a id=\"js-link-box-en\" href=\"//en.wikipedia.org/\" title=\"English â Wikipedia â The Free Encyclopedia\" class=\"link-box\" data-slogan=\"The Free Encyclopedia\">\n",
      "<strong>English</strong>\n",
      "<small><bdi dir=\"ltr\">6&nbsp;606&nbsp;000+</bdi> <span>articles</span></small>\n",
      "</a>\n",
      "</div>\n",
      "<!-- #2. ru.wikipedia.org - 233 010 000 views/day -->\n",
      "<div class=\"central-featured-lang lang2\" lang=\"ru\" dir=\"ltr\">\n",
      "<a id=\"js-link-box-ru\" href=\"//ru.wikipedia.org/\" title=\"Russkiy â ÐÐ¸ÐºÐ¸Ð¿ÐµÐ´Ð¸Ñ â Ð¡Ð²Ð¾Ð±Ð¾Ð´Ð½Ð°Ñ ÑÐ½ÑÐ¸ÐºÐ»Ð¾Ð¿ÐµÐ´Ð¸Ñ\" class=\"link-box\" data-slogan=\"Ð¡Ð²Ð¾Ð±Ð¾Ð´Ð½Ð°Ñ ÑÐ½ÑÐ¸ÐºÐ»Ð¾Ð¿ÐµÐ´Ð¸Ñ\">\n",
      "<strong>Ð ÑÑÑÐºÐ¸Ð¹</strong>\n",
      "<small><bdi dir=\"ltr\">1&nbsp;887&nbsp;000+</bdi> <span>ÑÑÐ°ÑÐµÐ¹</span></small>\n",
      "</a>\n",
      "</div>\n",
      "<!-- #3. ja.wikipedia.org - 227 287 000 views/day -->\n",
      "<div class=\"central-featured-lang lang3\" lang=\"ja\" dir=\"ltr\">\n",
      "<a id=\"js-link-box-ja\" href=\"//ja.wikipedia.org/\" title=\"Nihongo â ã¦ã£ã­ããã£ã¢ â ããªã¼ç¾ç§äºå",
      "¸\" class=\"link-box\" data-slogan=\"ããªã¼ç¾ç§äºå",
      "¸\">\n",
      "<strong>æ¥æ¬èª</strong>\n",
      "<small><bdi dir=\"ltr\">1&nbsp;359&nbsp;000+</bdi> <span>è¨äº</span></small>\n",
      "</a>\n",
      "</div>\n",
      "<!-- #4. de.wikipedia.org - 208 724 000 views/day -->\n",
      "<div class=\"central-featured-lang lang4\" lang=\"de\" dir=\"ltr\">\n",
      "<a id=\"js-link-box-de\" href=\"//de.wikipedia.org/\" title=\"Deutsch â Wikipedia â Die freie EnzyklopÃ¤die\" class=\"link-box\" data-slogan=\"Die freie EnzyklopÃ¤die\">\n",
      "<strong>Deutsch</strong>\n",
      "<small><bdi dir=\"ltr\">2&nbsp;764&nbsp;000+</bdi> <span>Artikel</span></small>\n",
      "</a>\n",
      "</div>\n",
      "<!-- #5. fr.wikipedia.org - 202 463 000 views/day -->\n",
      "<div class=\"central-featured-lang lang5\" lang=\"fr\" dir=\"ltr\">\n",
      "<a id=\"js-link-box-fr\" href=\"//fr.wikipedia.org/\" title=\"franÃ§ais â WikipÃ©dia â LâencyclopÃ©die libre\" class=\"link-box\" data-slogan=\"LâencyclopÃ©die libre\">\n",
      "<strong>FranÃ§ais</strong>\n",
      "<small><bdi dir=\"ltr\">2&nbsp;488&nbsp;000+</bdi> <span>articles</span></small>\n",
      "</a>\n",
      "</div>\n",
      "<!-- #6. es.wikipedia.org - 192 928 000 views/day -->\n",
      "<div class=\"central-featured-lang lang6\" lang=\"es\" dir=\"ltr\">\n",
      "<a id=\"js-link-box-es\" href=\"//es.wikipedia.org/\" title=\"EspaÃ±ol â Wikipedia â La enciclopedia libre\" class=\"link-box\" data-slogan=\"La enciclopedia libre\">\n",
      "<strong>EspaÃ±ol</strong>\n",
      "<small><bdi dir=\"ltr\">1&nbsp;833&nbsp;000+</bdi> <span>artÃ­culos</span></small>\n",
      "</a>\n",
      "</div>\n",
      "<!-- #7. it.wikipedia.org - 124 624 000 views/day -->\n",
      "<div class=\"central-featured-lang lang7\" lang=\"it\" dir=\"ltr\">\n",
      "<a id=\"js-link-box-it\" href=\"//it.wikipedia.org/\" title=\"Italiano â Wikipedia â L&#x27;enciclopedia libera\" class=\"link-box\" data-slogan=\"L&#x27;enciclopedia libera\">\n",
      "<strong>Italiano</strong>\n",
      "<small><bdi dir=\"ltr\">1&nbsp;792&nbsp;000+</bdi> <span>voci</span></small>\n",
      "</a>\n",
      "</div>\n",
      "<!-- #8. zh.wikipedia.org - 77 591 000 views/day -->\n",
      "<div class=\"central-featured-lang lang8\" lang=\"zh\" dir=\"ltr\">\n",
      "<a id=\"js-link-box-zh\" href=\"//zh.wikipedia.org/\" title=\"ZhÅngwÃ©n â ç»´åºç¾ç§ / ç¶­åºç¾ç§ â èªç±çç¾ç§å",
      "¨ä¹¦ / èªç±çç¾ç§å",
      "¨æ¸\" class=\"link-box jscnconv\" data-title-hans=\"ZhÅngwÃ©n â ç»´åºç¾ç§ â èªç±çç¾ç§å",
      "¨ä¹¦\" data-title-hant=\"ZhÅngwÃ©n â ç¶­åºç¾ç§ â èªç±çç¾ç§å",
      "¨æ¸\" data-slogan=\"èªç±çç¾ç§å",
      "¨ä¹¦ / èªç±çç¾ç§å",
      "¨æ¸\">\n",
      "<strong>ä¸­æ</strong>\n",
      "<small><bdi dir=\"ltr\">1&nbsp;331&nbsp;000+</bdi> <span data-hans=\"æ¡ç®\" data-hant=\"æ¢ç®\" class=\"jscnconv\">æ¡ç® / æ¢ç®</span></small>\n",
      "</a>\n",
      "</div>\n",
      "<!-- #9. fa.wikipedia.org - 63 020 000 views/day -->\n",
      "<div class=\"central-featured-lang lang9\" lang=\"fa\" dir=\"rtl\">\n",
      "<a id=\"js-link-box-fa\" href=\"//fa.wikipedia.org/\" title=\"FÄrsi â ÙÛÚ©ÛâÙ¾Ø¯ÛØ§ â Ø¯Ø§ÙØ´ÙØ§Ù",
      "ÙÙ Ø¢Ø²Ø§Ø¯\" class=\"link-box\" data-slogan=\"Ø¯Ø§ÙØ´ÙØ§Ù",
      "ÙÙ Ø¢Ø²Ø§Ø¯\">\n",
      "<strong><bdi dir=\"rtl\">ÙØ§Ø±Ø³Û</bdi></strong>\n",
      "<small><bdi dir=\"ltr\">947&nbsp;000+</bdi> <span>Ù",
      "ÙØ§ÙÙ</span></small>\n",
      "</a>\n",
      "</div>\n",
      "<!-- #10. pl.wikipedia.org - 56 271 000 views/day -->\n",
      "<div class=\"central-featured-lang lang10\" lang=\"pl\" dir=\"ltr\">\n",
      "<a id=\"js-link-box-pl\" href=\"//pl.wikipedia.org/\" title=\"Polski â Wikipedia â Wolna encyklopedia\" class=\"link-box\" data-slogan=\"Wolna encyklopedia\">\n",
      "<strong>Polski</strong>\n",
      "<small><bdi dir=\"ltr\">1&nbsp;552&nbsp;000+</bdi> <span>haseÅ</span></small>\n",
      "</a>\n",
      "</div>\n",
      "</div>\n",
      "<div class=\"search-container\">\n",
      "<form class=\"pure-form\" id=\"search-form\" action=\"//www.wikipedia.org/search-redirect.php\" data-el-section=\"search\">\n",
      "<fieldset>\n",
      "<input type=\"hidden\" name=\"family\" value=\"Wikipedia\">\n",
      "<input type=\"hidden\" id=\"hiddenLanguageInput\" name=\"language\" value=\"en\">\n",
      "<div class=\"search-input\" id=\"search-input\">\n",
      "<label for=\"searchInput\" class=\"screen-reader-text\" data-jsl10n=\"portal.search-input-label\">Search Wikipedia</label>\n",
      "<input id=\"searchInput\" name=\"search\" type=\"search\" size=\"20\" autofocus=\"autofocus\" accesskey=\"F\" dir=\"auto\" autocomplete=\"off\">\n",
      "<div class=\"styled-select no-js\">\n",
      "<div class=\"hide-arrow\">\n",
      "<select id=\"searchLanguage\" name=\"language\">\n",
      "<option value=\"af\" lang=\"af\">Afrikaans</option>\n",
      "<option value=\"pl\" lang=\"pl\">Polski</option>\n",
      "<option value=\"ar\" lang=\"ar\">Ø§ÙØ¹Ø±Ø¨ÙØ©</option><!-- Al-Ê¿ArabÄ«yah -->\n",
      "<option value=\"ast\" lang=\"ast\">Asturianu</option>\n",
      "<option value=\"az\" lang=\"az\">AzÉrbaycanca</option>\n",
      "<option value=\"bg\" lang=\"bg\">ÐÑÐ»Ð³Ð°ÑÑÐºÐ¸</option><!-- BÇlgarski -->\n",
      "<option value=\"nan\" lang=\"nan\">BÃ¢n-lÃ¢m-gÃº / HÅ-lÃ³-oÄ</option>\n",
      "<option value=\"bn\" lang=\"bn\">à¦¬à¦¾à¦à¦²à¦¾</option><!-- Bangla -->\n",
      "<option value=\"be\" lang=\"be\">ÐÐµÐ»Ð°ÑÑÑÐºÐ°Ñ</option><!-- Belaruskaya -->\n",
      "<option value=\"ca\" lang=\"ca\">CatalÃ </option>\n",
      "<option value=\"cs\" lang=\"cs\">ÄeÅ¡tina</option><!-- ÄeÅ¡tina -->\n",
      "<option value=\"cy\" lang=\"cy\">Cymraeg</option><!-- Cymraeg -->\n",
      "<option value=\"da\" lang=\"da\">Dansk</option>\n",
      "<option value=\"de\" lang=\"de\">Deutsch</option>\n",
      "<option value=\"et\" lang=\"et\">Eesti</option>\n",
      "<option value=\"el\" lang=\"el\">ÎÎ»Î»Î·Î½Î¹ÎºÎ¬</option><!-- EllÄ«nikÃ¡ -->\n",
      "<option value=\"en\" lang=\"en\" selected=selected>English</option><!-- English -->\n",
      "<option value=\"es\" lang=\"es\">EspaÃ±ol</option>\n",
      "<option value=\"eo\" lang=\"eo\">Esperanto</option>\n",
      "<option value=\"eu\" lang=\"eu\">Euskara</option>\n",
      "<option value=\"fa\" lang=\"fa\">ÙØ§Ø±Ø³Û</option><!-- FÄrsi -->\n",
      "<option value=\"fr\" lang=\"fr\">FranÃ§ais</option><!-- franÃ§ais -->\n",
      "<option value=\"gl\" lang=\"gl\">Galego</option>\n",
      "<option value=\"ko\" lang=\"ko\">íêµ­ì´</option><!-- Hangugeo -->\n",
      "<option value=\"hi\" lang=\"hi\">à¤¹à¤¿à¤¨à¥à¤¦à¥</option><!-- HindÄ« -->\n",
      "<option value=\"hr\" lang=\"hr\">Hrvatski</option>\n",
      "<option value=\"id\" lang=\"id\">Bahasa Indonesia</option>\n",
      "<option value=\"it\" lang=\"it\">Italiano</option>\n",
      "<option value=\"he\" lang=\"he\">×¢××¨××ª</option><!-- Ivrit -->\n",
      "<option value=\"ka\" lang=\"ka\">á¥áá áá£áá</option><!-- Kartuli -->\n",
      "<option value=\"la\" lang=\"la\">Latina</option>\n",
      "<option value=\"lv\" lang=\"lv\">LatvieÅ¡u</option>\n",
      "<option value=\"lt\" lang=\"lt\">LietuviÅ³</option>\n",
      "<option value=\"hu\" lang=\"hu\">Magyar</option>\n",
      "<option value=\"mk\" lang=\"mk\">ÐÐ°ÐºÐµÐ´Ð¾Ð½ÑÐºÐ¸</option><!-- Makedonski -->\n",
      "<option value=\"arz\" lang=\"arz\">Ù",
      "ØµØ±Ù</option><!-- Maá¹£rÄ« -->\n",
      "<option value=\"ms\" lang=\"ms\">Bahasa Melayu</option>\n",
      "<option value=\"min\" lang=\"min\">Bahaso Minangkabau</option>\n",
      "<option value=\"nl\" lang=\"nl\">Nederlands</option>\n",
      "<option value=\"ja\" lang=\"ja\">æ¥æ¬èª</option><!-- Nihongo -->\n",
      "<option value=\"no\" lang=\"nb\">Norsk (bokmÃ¥l)</option>\n",
      "<option value=\"nn\" lang=\"nn\">Norsk (nynorsk)</option>\n",
      "<option value=\"ce\" lang=\"ce\">ÐÐ¾Ñ",
      "ÑÐ¸Ð¹Ð½</option><!-- NoxÃ§iyn -->\n",
      "<option value=\"uz\" lang=\"uz\">OÊ»zbekcha / ÐÐ·Ð±ÐµÐºÑÐ°</option><!-- OÊ»zbekcha -->\n",
      "<option value=\"pt\" lang=\"pt\">PortuguÃªs</option>\n",
      "<option value=\"kk\" lang=\"kk\">ÒÐ°Ð·Ð°ÒÑÐ° / QazaqÅa / ÙØ§Ø²Ø§ÙØ´Ø§</option>\n",
      "<option value=\"ro\" lang=\"ro\">RomÃ¢nÄ</option><!-- RomÃ¢nÄ -->\n",
      "<option value=\"simple\" lang=\"en\">Simple English</option>\n",
      "<option value=\"ceb\" lang=\"ceb\">Sinugboanong Binisaya</option>\n",
      "<option value=\"sk\" lang=\"sk\">SlovenÄina</option>\n",
      "<option value=\"sl\" lang=\"sl\">SlovenÅ¡Äina</option><!-- slovenÅ¡Äina -->\n",
      "<option value=\"sr\" lang=\"sr\">Ð¡ÑÐ¿ÑÐºÐ¸ / Srpski</option>\n",
      "<option value=\"sh\" lang=\"sh\">Srpskohrvatski / Ð¡ÑÐ¿ÑÐºÐ¾Ñ",
      "ÑÐ²Ð°ÑÑÐºÐ¸</option>\n",
      "<option value=\"fi\" lang=\"fi\">Suomi</option><!-- suomi -->\n",
      "<option value=\"sv\" lang=\"sv\">Svenska</option>\n",
      "<option value=\"ta\" lang=\"ta\">à®¤à®®à®¿à®´à¯</option><!-- Tamiá¸» -->\n",
      "<option value=\"tt\" lang=\"tt\">Ð¢Ð°ÑÐ°ÑÑÐ° / TatarÃ§a</option>\n",
      "<option value=\"th\" lang=\"th\">à¸ à¸²à¸©à¸²à¹à¸à¸¢</option><!-- Phasa Thai -->\n",
      "<option value=\"tg\" lang=\"tg\">Ð¢Ð¾Ò·Ð¸ÐºÓ£</option><!-- TojikÄ« -->\n",
      "<option value=\"azb\" lang=\"azb\">ØªÛØ±Ú©Ø¬Ù</option><!-- TÃ¼rkce -->\n",
      "<option value=\"tr\" lang=\"tr\">TÃ¼rkÃ§e</option><!-- TÃ¼rkÃ§e -->\n",
      "<option value=\"uk\" lang=\"uk\">Ð£ÐºÑÐ°ÑÐ½ÑÑÐºÐ°</option><!-- Ukrayinsâka -->\n",
      "<option value=\"ur\" lang=\"ur\">Ø§Ø±Ø¯Ù</option><!-- Urdu -->\n",
      "<option value=\"vi\" lang=\"vi\">Tiáº¿ng Viá»t</option>\n",
      "<option value=\"war\" lang=\"war\">Winaray</option>\n",
      "<option value=\"zh-yue\" lang=\"yue\">ç²µèª</option><!-- Yuht YÃºh / Jyut6 jyu5 -->\n",
      "<option value=\"zh\" lang=\"zh\">ä¸­æ</option><!-- ZhÅngwÃ©n -->\n",
      "<option value=\"ru\" lang=\"ru\">Ð ÑÑÑÐºÐ¸Ð¹</option><!-- Russkiy -->\n",
      "<option value=\"hy\" lang=\"hy\">ÕÕ¡ÕµÕ¥ÖÕ¥Õ¶</option><!-- Hayeren -->\n",
      "<option value=\"my\" lang=\"my\">áá¼ááºáá¬áá¬áá¬</option><!-- Myanmarsar -->\n",
      "</select>\n",
      "<div class=\"styled-select-active-helper\"></div>\n",
      "</div>\n",
      "<i class=\"sprite svg-arrow-down\"></i>\n",
      "</div>\n",
      "</div>\n",
      "<button class=\"pure-button pure-button-primary-progressive\" type=\"submit\">\n",
      "<i class=\"sprite svg-search-icon\" data-jsl10n=\"search-input-button\">Search</i>\n",
      "</button>\n",
      "<input type=\"hidden\" value=\"Go\" name=\"go\">\n",
      "</fieldset>\n",
      "</form>\n",
      "</div>\n",
      "<div class=\"lang-list-button-wrapper\">\n",
      "<button id=\"js-lang-list-button\" class=\"lang-list-button\">\n",
      "<i class=\"sprite svg-language-icon\"></i>\n",
      "<span class=\"lang-list-button-text jsl10n\" data-jsl10n=\"portal.language-button-text\">Read Wikipedia in your language </span>\n",
      "<i class=\"sprite svg-arrow-down-blue\"></i>\n",
      "</button>\n",
      "</div>\n",
      "<div class=\"lang-list-border\"></div>\n",
      "<div class=\"lang-list-container\">\n",
      "<div id=\"js-lang-lists\" class=\"lang-list-content\">\n",
      "<h2 class=\"bookshelf-container\">\n",
      "<span class=\"bookshelf\">\n",
      "<span class=\"text\">\n",
      "<bdi dir=\"ltr\">\n",
      "1&nbsp;000&nbsp;000+\n",
      "</bdi>\n",
      "<span class=\"jsl10n\" data-jsl10n=\"entries\">\n",
      "articles\n",
      "</span>\n",
      "</span>\n",
      "</span>\n",
      "</h2>\n",
      "<div class=\"langlist langlist-large hlist\" data-el-section=\"secondary links\">\n",
      "<ul>\n",
      "<li><a href=\"//pl.wikipedia.org/\" lang=\"pl\">Polski</a></li>\n",
      "<li><a href=\"//ar.wikipedia.org/\" lang=\"ar\" title=\"Al-Ê¿ArabÄ«yah\"><bdi dir=\"rtl\">Ø§ÙØ¹Ø±Ø¨ÙØ©</bdi></a></li>\n",
      "<li><a href=\"//de.wikipedia.org/\" lang=\"de\">Deutsch</a></li>\n",
      "<li><a href=\"//en.wikipedia.org/\" lang=\"en\" title=\"English\">English</a></li>\n",
      "<li><a href=\"//es.wikipedia.org/\" lang=\"es\">EspaÃ±ol</a></li>\n",
      "<li><a href=\"//fr.wikipedia.org/\" lang=\"fr\" title=\"franÃ§ais\">FranÃ§ais</a></li>\n",
      "<li><a href=\"//it.wikipedia.org/\" lang=\"it\">Italiano</a></li>\n",
      "<li><a href=\"//arz.wikipedia.org/\" lang=\"arz\" title=\"Maá¹£rÄ«\"><bdi dir=\"rtl\">Ù",
      "ØµØ±Ù</bdi></a></li>\n",
      "<li><a href=\"//nl.wikipedia.org/\" lang=\"nl\">Nederlands</a></li>\n",
      "<li><a href=\"//ja.wikipedia.org/\" lang=\"ja\" title=\"Nihongo\">æ¥æ¬èª</a></li>\n",
      "<li><a href=\"//pt.wikipedia.org/\" lang=\"pt\">PortuguÃªs</a></li>\n",
      "<li><a href=\"//ceb.wikipedia.org/\" lang=\"ceb\">Sinugboanong Binisaya</a></li>\n",
      "<li><a href=\"//sv.wikipedia.org/\" lang=\"sv\">Svenska</a></li>\n",
      "<li><a href=\"//uk.wikipedia.org/\" lang=\"uk\" title=\"Ukrayinsâka\">Ð£ÐºÑÐ°ÑÐ½ÑÑÐºÐ°</a></li>\n",
      "<li><a href=\"//vi.wikipedia.org/\" lang=\"vi\">Tiáº¿ng Viá»t</a></li>\n",
      "<li><a href=\"//war.wikipedia.org/\" lang=\"war\">Winaray</a></li>\n",
      "<li><a href=\"//zh.wikipedia.org/\" lang=\"zh\" title=\"ZhÅngwÃ©n\">ä¸­æ</a></li>\n",
      "<li><a href=\"//ru.wikipedia.org/\" lang=\"ru\" title=\"Russkiy\">Ð ÑÑÑÐºÐ¸Ð¹</a></li>\n",
      "</ul>\n",
      "</div>\n",
      "<h2 class=\"bookshelf-container\">\n",
      "<span class=\"bookshelf\">\n",
      "<span class=\"text\">\n",
      "<bdi dir=\"ltr\">\n",
      "100&nbsp;000+\n",
      "</bdi>\n",
      "<span class=\"jsl10n\" data-jsl10n=\"portal.entries\">\n",
      "articles\n",
      "</span>\n",
      "</span>\n",
      "</span>\n",
      "</h2>\n",
      "<div class=\"langlist langlist-large hlist\" data-el-section=\"secondary links\">\n",
      "<ul>\n",
      "<li><a href=\"//af.wikipedia.org/\" lang=\"af\">Afrikaans</a></li>\n",
      "<li><a href=\"//ast.wikipedia.org/\" lang=\"ast\">Asturianu</a></li>\n",
      "<li><a href=\"//az.wikipedia.org/\" lang=\"az\">AzÉrbaycanca</a></li>\n",
      "<li><a href=\"//bg.wikipedia.org/\" lang=\"bg\" title=\"BÇlgarski\">ÐÑÐ»Ð³Ð°ÑÑÐºÐ¸</a></li>\n",
      "<li><a href=\"//zh-min-nan.wikipedia.org/\" lang=\"nan\">BÃ¢n-lÃ¢m-gÃº / HÅ-lÃ³-oÄ</a></li>\n",
      "<li><a href=\"//bn.wikipedia.org/\" lang=\"bn\" title=\"Bangla\">à¦¬à¦¾à¦à¦²à¦¾</a></li>\n",
      "<li><a href=\"//be.wikipedia.org/\" lang=\"be\" title=\"Belaruskaya\">ÐÐµÐ»Ð°ÑÑÑÐºÐ°Ñ</a></li>\n",
      "<li><a href=\"//ca.wikipedia.org/\" lang=\"ca\">CatalÃ </a></li>\n",
      "<li><a href=\"//cs.wikipedia.org/\" lang=\"cs\" title=\"ÄeÅ¡tina\">ÄeÅ¡tina</a></li>\n",
      "<li><a href=\"//cy.wikipedia.org/\" lang=\"cy\" title=\"Cymraeg\">Cymraeg</a></li>\n",
      "<li><a href=\"//da.wikipedia.org/\" lang=\"da\">Dansk</a></li>\n",
      "<li><a href=\"//et.wikipedia.org/\" lang=\"et\">Eesti</a></li>\n",
      "<li><a href=\"//el.wikipedia.org/\" lang=\"el\" title=\"EllÄ«nikÃ¡\">ÎÎ»Î»Î·Î½Î¹ÎºÎ¬</a></li>\n",
      "<li><a href=\"//eo.wikipedia.org/\" lang=\"eo\">Esperanto</a></li>\n",
      "<li><a href=\"//eu.wikipedia.org/\" lang=\"eu\">Euskara</a></li>\n",
      "<li><a href=\"//fa.wikipedia.org/\" lang=\"fa\" title=\"FÄrsi\"><bdi dir=\"rtl\">ÙØ§Ø±Ø³Û</bdi></a></li>\n",
      "<li><a href=\"//gl.wikipedia.org/\" lang=\"gl\">Galego</a></li>\n",
      "<li><a href=\"//ko.wikipedia.org/\" lang=\"ko\" title=\"Hangugeo\">íêµ­ì´</a></li>\n",
      "<li><a href=\"//hi.wikipedia.org/\" lang=\"hi\" title=\"HindÄ«\">à¤¹à¤¿à¤¨à¥à¤¦à¥</a></li>\n",
      "<li><a href=\"//hr.wikipedia.org/\" lang=\"hr\">Hrvatski</a></li>\n",
      "<li><a href=\"//id.wikipedia.org/\" lang=\"id\">Bahasa Indonesia</a></li>\n",
      "<li><a href=\"//he.wikipedia.org/\" lang=\"he\" title=\"Ivrit\"><bdi dir=\"rtl\">×¢××¨××ª</bdi></a></li>\n",
      "<li><a href=\"//ka.wikipedia.org/\" lang=\"ka\" title=\"Kartuli\">á¥áá áá£áá</a></li>\n",
      "<li><a href=\"//la.wikipedia.org/\" lang=\"la\">Latina</a></li>\n",
      "<li><a href=\"//lv.wikipedia.org/\" lang=\"lv\">LatvieÅ¡u</a></li>\n",
      "<li><a href=\"//lt.wikipedia.org/\" lang=\"lt\">LietuviÅ³</a></li>\n",
      "<li><a href=\"//hu.wikipedia.org/\" lang=\"hu\">Magyar</a></li>\n",
      "<li><a href=\"//mk.wikipedia.org/\" lang=\"mk\" title=\"Makedonski\">ÐÐ°ÐºÐµÐ´Ð¾Ð½ÑÐºÐ¸</a></li>\n",
      "<li><a href=\"//ms.wikipedia.org/\" lang=\"ms\">Bahasa Melayu</a></li>\n",
      "<li><a href=\"//min.wikipedia.org/\" lang=\"min\">Bahaso Minangkabau</a></li>\n",
      "<li lang=\"no\">Norsk<ul><li><a href=\"//no.wikipedia.org/\" lang=\"nb\">bokmÃ¥l</a></li><li><a href=\"//nn.wikipedia.org/\" lang=\"nn\">nynorsk</a></li></ul></li>\n",
      "<li><a href=\"//ce.wikipedia.org/\" lang=\"ce\" title=\"NoxÃ§iyn\">ÐÐ¾Ñ",
      "ÑÐ¸Ð¹Ð½</a></li>\n",
      "<li><a href=\"//uz.wikipedia.org/\" lang=\"uz\" title=\"OÊ»zbekcha\">OÊ»zbekcha / ÐÐ·Ð±ÐµÐºÑÐ°</a></li>\n",
      "<li><a href=\"//kk.wikipedia.org/\" lang=\"kk\"><span lang=\"kk-Cyrl\">ÒÐ°Ð·Ð°ÒÑÐ°</span> / <span lang=\"kk-Latn\">QazaqÅa</span> / <bdi lang=\"kk-Arab\" dir=\"rtl\">ÙØ§Ø²Ø§ÙØ´Ø§</bdi></a></li>\n",
      "<li><a href=\"//ro.wikipedia.org/\" lang=\"ro\" title=\"RomÃ¢nÄ\">RomÃ¢nÄ</a></li>\n",
      "<li><a href=\"//simple.wikipedia.org/\" lang=\"en\">Simple English</a></li>\n",
      "<li><a href=\"//sk.wikipedia.org/\" lang=\"sk\">SlovenÄina</a></li>\n",
      "<li><a href=\"//sl.wikipedia.org/\" lang=\"sl\" title=\"slovenÅ¡Äina\">SlovenÅ¡Äina</a></li>\n",
      "<li><a href=\"//sr.wikipedia.org/\" lang=\"sr\">Ð¡ÑÐ¿ÑÐºÐ¸ / Srpski</a></li>\n",
      "<li><a href=\"//sh.wikipedia.org/\" lang=\"sh\">Srpskohrvatski / Ð¡ÑÐ¿ÑÐºÐ¾Ñ",
      "ÑÐ²Ð°ÑÑÐºÐ¸</a></li>\n",
      "<li><a href=\"//fi.wikipedia.org/\" lang=\"fi\" title=\"suomi\">Suomi</a></li>\n",
      "<li><a href=\"//ta.wikipedia.org/\" lang=\"ta\" title=\"Tamiá¸»\">à®¤à®®à®¿à®´à¯</a></li>\n",
      "<li><a href=\"//tt.wikipedia.org/\" lang=\"tt\">Ð¢Ð°ÑÐ°ÑÑÐ° / TatarÃ§a</a></li>\n",
      "<li><a href=\"//th.wikipedia.org/\" lang=\"th\" title=\"Phasa Thai\">à¸ à¸²à¸©à¸²à¹à¸à¸¢</a></li>\n",
      "<li><a href=\"//tg.wikipedia.org/\" lang=\"tg\" title=\"TojikÄ«\">Ð¢Ð¾Ò·Ð¸ÐºÓ£</a></li>\n",
      "<li><a href=\"//azb.wikipedia.org/\" lang=\"azb\" title=\"TÃ¼rkce\"><bdi dir=\"rtl\">ØªÛØ±Ú©Ø¬Ù</bdi></a></li>\n",
      "<li><a href=\"//tr.wikipedia.org/\" lang=\"tr\" title=\"TÃ¼rkÃ§e\">TÃ¼rkÃ§e</a></li>\n",
      "<li><a href=\"//ur.wikipedia.org/\" lang=\"ur\" title=\"Urdu\"><bdi dir=\"rtl\">Ø§Ø±Ø¯Ù</bdi></a></li>\n",
      "<li><a href=\"//zh-yue.wikipedia.org/\" lang=\"yue\" title=\"Yuht YÃºh / Jyut6 jyu5\">ç²µèª</a></li>\n",
      "<li><a href=\"//hy.wikipedia.org/\" lang=\"hy\" title=\"Hayeren\">ÕÕ¡ÕµÕ¥ÖÕ¥Õ¶</a></li>\n",
      "<li><a href=\"//my.wikipedia.org/\" lang=\"my\" title=\"Myanmarsar\">áá¼ááºáá¬áá¬áá¬</a></li>\n",
      "</ul>\n",
      "</div>\n",
      "<h2 class=\"bookshelf-container\">\n",
      "<span class=\"bookshelf\">\n",
      "<span class=\"text\">\n",
      "<bdi dir=\"ltr\">\n",
      "10&nbsp;000+\n",
      "</bdi>\n",
      "<span class=\"jsl10n\" data-jsl10n=\"portal.entries\">\n",
      "articles\n",
      "</span>\n",
      "</span>\n",
      "</span>\n",
      "</h2>\n",
      "<div class=\"langlist hlist\" data-el-section=\"secondary links\">\n",
      "<ul>\n",
      "<li><a href=\"//ace.wikipedia.org/\" lang=\"ace\">Bahsa AcÃ¨h</a></li>\n",
      "<li><a href=\"//als.wikipedia.org/\" lang=\"gsw\">Alemannisch</a></li>\n",
      "<li><a href=\"//am.wikipedia.org/\" lang=\"am\" title=\"ÄmariÃ±Ã±Ä\">á áá­á</a></li>\n",
      "<li><a href=\"//an.wikipedia.org/\" lang=\"an\">AragonÃ©s</a></li>\n",
      "<li><a href=\"//hyw.wikipedia.org/\" lang=\"hyw\" title=\"Arevmdahayeren\">Ô±ÖÕ¥ÖÕ´Õ¿Õ¡Õ°Õ¡ÕµÕ¥ÖÕ§Õ¶</a></li>\n",
      "<li><a href=\"//ban.wikipedia.org/\" lang=\"ban\" title=\"Basa Bali\">Basa Bali</a></li>\n",
      "<li><a href=\"//bjn.wikipedia.org/\" lang=\"bjn\">Bahasa Banjar</a></li>\n",
      "<li><a href=\"//map-bms.wikipedia.org/\" lang=\"map-x-bms\">Basa Banyumasan</a></li>\n",
      "<li><a href=\"//ba.wikipedia.org/\" lang=\"ba\" title=\"BaÅqortsa\">ÐÐ°ÑÒ¡Ð¾ÑÑÑÐ°</a></li>\n",
      "<li><a href=\"//be-tarask.wikipedia.org/\" lang=\"be\" title=\"Belaruskaya (TaraÅ¡kievica)\">ÐÐµÐ»Ð°ÑÑÑÐºÐ°Ñ (Ð¢Ð°ÑÐ°ÑÐºÐµÐ²ÑÑÐ°)</a></li>\n",
      "<li><a href=\"//bcl.wikipedia.org/\" lang=\"bcl\">Bikol Central</a></li>\n",
      "<li><a href=\"//bpy.wikipedia.org/\" lang=\"bpy\" title=\"Bishnupriya Manipuri\">à¦¬à¦¿à¦·à§à¦£à§à¦ªà§à¦°à¦¿à¦¯à¦¼à¦¾ à¦®à¦£à¦¿à¦ªà§à¦°à§</a></li>\n",
      "<li><a href=\"//bar.wikipedia.org/\" lang=\"bar\">Boarisch</a></li>\n",
      "<li><a href=\"//bs.wikipedia.org/\" lang=\"bs\">Bosanski</a></li>\n",
      "<li><a href=\"//br.wikipedia.org/\" lang=\"br\">Brezhoneg</a></li>\n",
      "<li><a href=\"//cv.wikipedia.org/\" lang=\"cv\" title=\"ÄÄvaÅ¡la\">Ð§ÓÐ²Ð°ÑÐ»Ð°</a></li>\n",
      "<li><a href=\"//nv.wikipedia.org/\" lang=\"nv\">DinÃ© Bizaad</a></li>\n",
      "<li><a href=\"//eml.wikipedia.org/\" lang=\"roa-x-eml\">EmigliÃ nâRumagnÃ²l</a></li>\n",
      "<li><a href=\"//hif.wikipedia.org/\" lang=\"hif\">Fiji Hindi</a></li>\n",
      "<li><a href=\"//fo.wikipedia.org/\" lang=\"fo\">FÃ¸royskt</a></li>\n",
      "<li><a href=\"//fy.wikipedia.org/\" lang=\"fy\">Frysk</a></li>\n",
      "<li><a href=\"//ga.wikipedia.org/\" lang=\"ga\">Gaeilge</a></li>\n",
      "<li><a href=\"//gd.wikipedia.org/\" lang=\"gd\">GÃ idhlig</a></li>\n",
      "<li><a href=\"//gu.wikipedia.org/\" lang=\"gu\" title=\"Gujarati\">àªà«àªàª°àª¾àª¤à«</a></li>\n",
      "<li><a href=\"//hak.wikipedia.org/\" lang=\"hak\">Hak-kÃ¢-ngÃ® / å®¢å®¶èª</a></li>\n",
      "<li><a href=\"//ha.wikipedia.org/\" lang=\"ha\" title=\"Hausa\">Hausa</a></li>\n",
      "<li><a href=\"//hsb.wikipedia.org/\" lang=\"hsb\">Hornjoserbsce</a></li>\n",
      "<li><a href=\"//io.wikipedia.org/\" lang=\"io\" title=\"Ido\">Ido</a></li>\n",
      "<li><a href=\"//ig.wikipedia.org/\" lang=\"ig\">Igbo</a></li>\n",
      "<li><a href=\"//ilo.wikipedia.org/\" lang=\"ilo\">Ilokano</a></li>\n",
      "<li><a href=\"//ia.wikipedia.org/\" lang=\"ia\">Interlingua</a></li>\n",
      "<li><a href=\"//ie.wikipedia.org/\" lang=\"ie\">Interlingue</a></li>\n",
      "<li><a href=\"//os.wikipedia.org/\" lang=\"os\" title=\"Iron\">ÐÑÐ¾Ð½</a></li>\n",
      "<li><a href=\"//is.wikipedia.org/\" lang=\"is\">Ãslenska</a></li>\n",
      "<li><a href=\"//jv.wikipedia.org/\" lang=\"jv\" title=\"Jawa\">Jawa</a></li>\n",
      "<li><a href=\"//kn.wikipedia.org/\" lang=\"kn\" title=\"Kannada\">à²à²¨à³à²¨à²¡</a></li>\n",
      "<li><a href=\"//ht.wikipedia.org/\" lang=\"ht\">KreyÃ²l Ayisyen</a></li>\n",
      "<li><a href=\"//ku.wikipedia.org/\" lang=\"ku\"><span lang=\"ku-Latn\">KurdÃ®</span> / <bdi lang=\"ku-Arab\" dir=\"rtl\">ÙÙØ±Ø¯Û</bdi></a></li>\n",
      "<li><a href=\"//ckb.wikipedia.org/\" lang=\"ckb\" title=\"KurdÃ®y NawendÃ®\"><bdi dir=\"rtl\">Ú©ÙØ±Ø¯ÛÛ ÙØ§ÙÛÙØ¯Û</bdi></a></li>\n",
      "<li><a href=\"//ky.wikipedia.org/\" lang=\"ky\" title=\"KyrgyzÄa\">ÐÑÑÐ³ÑÐ·ÑÐ°</a></li>\n",
      "<li><a href=\"//mrj.wikipedia.org/\" lang=\"mjr\" title=\"Kyryk Mary\">ÐÑÑÑÐº Ð¼Ð°ÑÑ</a></li>\n",
      "<li><a href=\"//lb.wikipedia.org/\" lang=\"lb\">LÃ«tzebuergesch</a></li>\n",
      "<li><a href=\"//lij.wikipedia.org/\" lang=\"lij\">LÃ¬gure</a></li>\n",
      "<li><a href=\"//li.wikipedia.org/\" lang=\"li\">Limburgs</a></li>\n",
      "<li><a href=\"//lmo.wikipedia.org/\" lang=\"lmo\">Lombard</a></li>\n",
      "<li><a href=\"//mai.wikipedia.org/\" lang=\"mai\" title=\"MaithilÄ«\">à¤®à¥à¤¥à¤¿à¤²à¥</a></li>\n",
      "<li><a href=\"//mg.wikipedia.org/\" lang=\"mg\">Malagasy</a></li>\n",
      "<li><a href=\"//ml.wikipedia.org/\" lang=\"ml\" title=\"Malayalam\">à´®à´²à´¯à´¾à´³à´</a></li>\n",
      "<li><a href=\"//zh-classical.wikipedia.org/\" lang=\"lzh\" title=\"Man4jin4 / WÃ©nyÃ¡n\">æè¨</a></li>\n",
      "<li><a href=\"//mr.wikipedia.org/\" lang=\"mr\" title=\"Marathi\">à¤®à¤°à¤¾à¤ à¥</a></li>\n",
      "<li><a href=\"//xmf.wikipedia.org/\" lang=\"xmf\" title=\"Margaluri\">ááá áááá£á á</a></li>\n",
      "<li><a href=\"//mzn.wikipedia.org/\" lang=\"mzn\" title=\"MÃ¤zeruni\"><bdi dir=\"rtl\">Ù",
      "Ø§Ø²ÙØ±ÙÙÛ</bdi></a></li>\n",
      "<li><a href=\"//cdo.wikipedia.org/\" lang=\"cdo\" title=\"Ming-deng-ngu\">MÃ¬ng-dÄÌ¤ng-ngá¹³Ì / é©æ±èª</a></li>\n",
      "<li><a href=\"//mn.wikipedia.org/\" lang=\"mn\" title=\"Mongol\">ÐÐ¾Ð½Ð³Ð¾Ð»</a></li>\n",
      "<li><a href=\"//nap.wikipedia.org/\" lang=\"nap\">Napulitano</a></li>\n",
      "<li><a href=\"//new.wikipedia.org/\" lang=\"new\" title=\"Nepal Bhasa\">à¤¨à¥à¤ªà¤¾à¤² à¤­à¤¾à¤·à¤¾</a></li>\n",
      "<li><a href=\"//ne.wikipedia.org/\" lang=\"ne\" title=\"NepÄlÄ«\">à¤¨à¥à¤ªà¤¾à¤²à¥</a></li>\n",
      "<li><a href=\"//frr.wikipedia.org/\" lang=\"frr\">Nordfriisk</a></li>\n",
      "<li><a href=\"//oc.wikipedia.org/\" lang=\"oc\">Occitan</a></li>\n",
      "<li><a href=\"//mhr.wikipedia.org/\" lang=\"mhr\" title=\"Olyk Marij\">ÐÐ»ÑÐº Ð¼Ð°ÑÐ¸Ð¹</a></li>\n",
      "<li><a href=\"//or.wikipedia.org/\" lang=\"or\" title=\"Oá¹iÄ\">à¬à¬¡à¬¿à¬¼à¬</a></li>\n",
      "<li><a href=\"//as.wikipedia.org/\" lang=\"as\" title=\"ÃxÃ´miya\">à¦",
      "à¦¸à¦®à§à¦¯à¦¾à¦¼</a></li>\n",
      "<li><a href=\"//pa.wikipedia.org/\" lang=\"pa\" title=\"PaÃ±jÄbÄ« (GurmukhÄ«)\">à¨ªà©°à¨à¨¾à¨¬à© (à¨à©à¨°à¨®à©à¨à©)</a></li>\n",
      "<li><a href=\"//pnb.wikipedia.org/\" lang=\"pnb\" title=\"PaÃ±jÄbÄ« (ShÄhmukhÄ«)\"><bdi dir=\"rtl\">Ù¾ÙØ¬Ø§Ø¨Û (Ø´Ø§Û Ù",
      "Ú©Ú¾Û)</bdi></a></li>\n",
      "<li><a href=\"//ps.wikipedia.org/\" lang=\"ps\" title=\"PaÊto\"><bdi dir=\"rtl\">Ù¾ÚØªÙ</bdi></a></li>\n",
      "<li><a href=\"//pms.wikipedia.org/\" lang=\"pms\">PiemontÃ¨is</a></li>\n",
      "<li><a href=\"//nds.wikipedia.org/\" lang=\"nds\">PlattdÃ¼Ã¼tsch</a></li>\n",
      "<li><a href=\"//crh.wikipedia.org/\" lang=\"crh\">QÄ±rÄ±mtatarca</a></li>\n",
      "<li><a href=\"//qu.wikipedia.org/\" lang=\"qu\">Runa Simi</a></li>\n",
      "<li><a href=\"//sa.wikipedia.org/\" lang=\"sa\" title=\"Saá¹ská¹tam\">à¤¸à¤à¤¸à¥à¤à¥à¤¤à¤®à¥</a></li>\n",
      "<li><a href=\"//sah.wikipedia.org/\" lang=\"sah\" title=\"Saxa Tyla\">Ð¡Ð°Ñ",
      "Ð° Ð¢ÑÐ»Ð°</a></li>\n",
      "<li><a href=\"//sco.wikipedia.org/\" lang=\"sco\">Scots</a></li>\n",
      "<li><a href=\"//sn.wikipedia.org/\" lang=\"sn\">ChiShona</a></li>\n",
      "<li><a href=\"//sq.wikipedia.org/\" lang=\"sq\">Shqip</a></li>\n",
      "<li><a href=\"//scn.wikipedia.org/\" lang=\"scn\">Sicilianu</a></li>\n",
      "<li><a href=\"//si.wikipedia.org/\" lang=\"si\" title=\"Siá¹hala\">à·à·à¶à·à¶½</a></li>\n",
      "<li><a href=\"//sd.wikipedia.org/\" lang=\"sd\" title=\"SindhÄ«\"><bdi dir=\"rtl\">Ø³ÙÚÙ</bdi></a></li>\n",
      "<li><a href=\"//szl.wikipedia.org/\" lang=\"szl\">ÅlÅ¯nski</a></li>\n",
      "<li><a href=\"//su.wikipedia.org/\" lang=\"su\">Basa Sunda</a></li>\n",
      "<li><a href=\"//sw.wikipedia.org/\" lang=\"sw\">Kiswahili</a></li>\n",
      "<li><a href=\"//tl.wikipedia.org/\" lang=\"tl\">Tagalog</a></li>\n",
      "<li><a href=\"//shn.wikipedia.org/\" lang=\"shn\">á½áááááááá¸</a></li>\n",
      "<li><a href=\"//te.wikipedia.org/\" lang=\"te\" title=\"Telugu\">à°¤à±à°²à±à°à±</a></li>\n",
      "<li><a href=\"//bug.wikipedia.org/\" lang=\"bug\">á¨",
      "á¨ á¨á¨á¨á¨ / Basa Ugi</a></li>\n",
      "<li><a href=\"//vec.wikipedia.org/\" lang=\"vec\">VÃ¨neto</a></li>\n",
      "<li><a href=\"//vo.wikipedia.org/\" lang=\"vo\">VolapÃ¼k</a></li>\n",
      "<li><a href=\"//wa.wikipedia.org/\" lang=\"wa\">Walon</a></li>\n",
      "<li><a href=\"//wuu.wikipedia.org/\" lang=\"wuu\" title=\"WÃºyÇ\">å´è¯­</a></li>\n",
      "<li><a href=\"//yi.wikipedia.org/\" lang=\"yi\" title=\"YidiÅ¡\"><bdi dir=\"rtl\">××Ö´×××©</bdi></a></li>\n",
      "<li><a href=\"//yo.wikipedia.org/\" lang=\"yo\">YorÃ¹bÃ¡</a></li>\n",
      "<li><a href=\"//diq.wikipedia.org/\" lang=\"diq\" title=\"Zazaki\">Zazaki</a></li>\n",
      "<li><a href=\"//bat-smg.wikipedia.org/\" lang=\"sgs\">Å½emaitÄÅ¡ka</a></li>\n",
      "<li><a href=\"//zu.wikipedia.org/\" lang=\"zu\">isiZulu</a></li>\n",
      "</ul>\n",
      "</div>\n",
      "<h2 class=\"bookshelf-container\">\n",
      "<span class=\"bookshelf\">\n",
      "<span class=\"text\">\n",
      "<bdi dir=\"ltr\">\n",
      "1&nbsp;000+\n",
      "</bdi>\n",
      "<span class=\"jsl10n\" data-jsl10n=\"portal.entries\">\n",
      "articles\n",
      "</span>\n",
      "</span>\n",
      "</span>\n",
      "</h2>\n",
      "<div class=\"langlist hlist\" data-el-section=\"secondary links\">\n",
      "<ul>\n",
      "<li><a href=\"//lad.wikipedia.org/\" lang=\"lad\"><span lang=\"lad-Latn\">Dzhudezmo</span> / <bdi lang=\"lad-Hebr\" dir=\"rtl\">××××× ×</bdi></a></li>\n",
      "<li><a href=\"//kbd.wikipedia.org/\" lang=\"kbd\" title=\"Adighabze\">ÐÐ´ÑÐ³ÑÐ±Ð·Ñ</a></li>\n",
      "<li><a href=\"//ang.wikipedia.org/\" lang=\"ang\">Ãnglisc</a></li>\n",
      "<li><a href=\"//smn.wikipedia.org/\" lang=\"smn\" title=\"anarÃ¢Å¡kielÃ¢\">AnarÃ¢Å¡kielÃ¢</a></li>\n",
      "<li><a href=\"//ab.wikipedia.org/\" lang=\"ab\" title=\"aá¹sshwa\">Ð°Ô¥ÑÑÓÐ°</a></li>\n",
      "<li><a href=\"//roa-rup.wikipedia.org/\" lang=\"roa-rup\">ArmÃ£neashce</a></li>\n",
      "<li><a href=\"//frp.wikipedia.org/\" lang=\"frp\">Arpitan</a></li>\n",
      "<li><a href=\"//arc.wikipedia.org/\" lang=\"arc\" title=\"ÄtÃ»rÄyÃ¢\"><bdi dir=\"rtl\">ÜÜ¬ÜÜªÜÜ</bdi></a></li>\n",
      "<li><a href=\"//gn.wikipedia.org/\" lang=\"gn\">AvaÃ±eâáº½</a></li>\n",
      "<li><a href=\"//av.wikipedia.org/\" lang=\"av\" title=\"Avar\">ÐÐ²Ð°Ñ</a></li>\n",
      "<li><a href=\"//ay.wikipedia.org/\" lang=\"ay\">Aymar</a></li>\n",
      "<li><a href=\"//bh.wikipedia.org/\" lang=\"bh\" title=\"BhÅjapurÄ«\">à¤­à¥à¤à¤ªà¥à¤°à¥</a></li>\n",
      "<li><a href=\"//bi.wikipedia.org/\" lang=\"bi\">Bislama</a></li>\n",
      "<li><a href=\"//bo.wikipedia.org/\" lang=\"bo\" title=\"Bod Skad\">à½à½¼à½à¼à½¡à½²à½</a></li>\n",
      "<li><a href=\"//bxr.wikipedia.org/\" lang=\"bxr\" title=\"Buryad\">ÐÑÑÑÐ°Ð´</a></li>\n",
      "<li><a href=\"//cbk-zam.wikipedia.org/\" lang=\"cbk-x-zam\">Chavacano de Zamboanga</a></li>\n",
      "<li><a href=\"//co.wikipedia.org/\" lang=\"co\">Corsu</a></li>\n",
      "<li><a href=\"//za.wikipedia.org/\" lang=\"za\">Vahcuengh / è©±å®</a></li>\n",
      "<li><a href=\"//dag.wikipedia.org/\" lang=\"dag\">Dagbanli</a></li>\n",
      "<li><a href=\"//ary.wikipedia.org/\" lang=\"ary\" title=\"Darija\"><bdi dir=\"rtl\">Ø§ÙØ¯Ø§Ø±Ø¬Ø©</bdi></a></li>\n",
      "<li><a href=\"//se.wikipedia.org/\" lang=\"se\" title=\"davvisÃ¡megiella\">DavvisÃ¡megiella</a></li>\n",
      "<li><a href=\"//pdc.wikipedia.org/\" lang=\"pdc\">Deitsch</a></li>\n",
      "<li><a href=\"//dv.wikipedia.org/\" lang=\"dv\" title=\"Divehi\"><bdi dir=\"rtl\">ÞÞ¨ÞÞ¬ÞÞ¨ÞÞ¦ÞÞ°</bdi></a></li>\n",
      "<li><a href=\"//dsb.wikipedia.org/\" lang=\"dsb\">Dolnoserbski</a></li>\n",
      "<li><a href=\"//myv.wikipedia.org/\" lang=\"myv\" title=\"Erzjanj\">Ð­ÑÐ·ÑÐ½Ñ</a></li>\n",
      "<li><a href=\"//ext.wikipedia.org/\" lang=\"ext\">EstremeÃ±u</a></li>\n",
      "<li><a href=\"//fur.wikipedia.org/\" lang=\"fur\">Furlan</a></li>\n",
      "<li><a href=\"//gv.wikipedia.org/\" lang=\"gv\">Gaelg</a></li>\n",
      "<li><a href=\"//gag.wikipedia.org/\" lang=\"gag\">Gagauz</a></li>\n",
      "<li><a href=\"//inh.wikipedia.org/\" lang=\"inh\" title=\"Ghalghai\">ÐÓÐ°Ð»Ð³ÓÐ°Ð¹</a></li>\n",
      "<li><a href=\"//ki.wikipedia.org/\" lang=\"ki\">GÄ©kÅ©yÅ©</a></li>\n",
      "<li><a href=\"//glk.wikipedia.org/\" lang=\"glk\" title=\"GilÉki\"><bdi dir=\"rtl\">Ú¯ÛÙÚ©Û</bdi></a></li>\n",
      "<li><a href=\"//gan.wikipedia.org/\" lang=\"gan\" title=\"Gon ua\" data-hans=\"èµ£è¯­\" data-hant=\"è´èª\" class=\"jscnconv\">èµ£è¯­ / è´èª</a></li>\n",
      "<li><a href=\"//guw.wikipedia.org/\" lang=\"guw\">Gungbe</a></li>\n",
      "<li><a href=\"//xal.wikipedia.org/\" lang=\"xal\" title=\"HalÊ¹mg\">Ð¥Ð°Ð»ÑÐ¼Ð³</a></li>\n",
      "<li><a href=\"//haw.wikipedia.org/\" lang=\"haw\">Ê»Ålelo HawaiÊ»i</a></li>\n",
      "<li><a href=\"//rw.wikipedia.org/\" lang=\"rw\">Ikinyarwanda</a></li>\n",
      "<li><a href=\"//kbp.wikipedia.org/\" lang=\"kbp\">KabÉ©yÉ</a></li>\n",
      "<li><a href=\"//pam.wikipedia.org/\" lang=\"pam\">Kapampangan</a></li>\n",
      "<li><a href=\"//csb.wikipedia.org/\" lang=\"csb\">KaszÃ«bsczi</a></li>\n",
      "<li><a href=\"//kw.wikipedia.org/\" lang=\"kw\">Kernewek</a></li>\n",
      "<li><a href=\"//km.wikipedia.org/\" lang=\"km\" title=\"PhÃ©asa KhmÃ©r\">áá¶áá¶ááááá</a></li>\n",
      "<li><a href=\"//kv.wikipedia.org/\" lang=\"kv\" title=\"Komi\">ÐÐ¾Ð¼Ð¸</a></li>\n",
      "<li><a href=\"//koi.wikipedia.org/\" lang=\"koi\" title=\"Perem Komi\">ÐÐµÑÐµÐ¼ ÐºÐ¾Ð¼Ð¸</a></li>\n",
      "<li><a href=\"//kg.wikipedia.org/\" lang=\"kg\">Kongo</a></li>\n",
      "<li><a href=\"//gom.wikipedia.org/\" lang=\"gom\">à¤à¥à¤à¤à¤£à¥ / Konknni</a></li>\n",
      "<li><a href=\"//ks.wikipedia.org/\" lang=\"ks\" title=\"Koshur\"><bdi dir=\"rtl\">ÙÙ²Ø´ÙØ±</bdi></a></li>\n",
      "<li><a href=\"//gcr.wikipedia.org/\" lang=\"gcr\" title=\"KriyÃ²l Gwiyannen\">KriyÃ²l Gwiyannen</a></li>\n",
      "<li><a href=\"//lo.wikipedia.org/\" lang=\"lo\" title=\"Phaasaa Laao\">àºàº²àºªàº²àº¥àº²àº§</a></li>\n",
      "<li><a href=\"//lbe.wikipedia.org/\" lang=\"lbe\" title=\"Lakku\">ÐÐ°ÐºÐºÑ</a></li>\n",
      "<li><a href=\"//ltg.wikipedia.org/\" lang=\"ltg\">LatgaÄ¼u</a></li>\n",
      "<li><a href=\"//lez.wikipedia.org/\" lang=\"lez\" title=\"Lezgi\">ÐÐµÐ·Ð³Ð¸</a></li>\n",
      "<li><a href=\"//nia.wikipedia.org/\" lang=\"nia\">Li Niha</a></li>\n",
      "<li><a href=\"//ln.wikipedia.org/\" lang=\"ln\">LingÃ¡la</a></li>\n",
      "<li><a href=\"//jbo.wikipedia.org/\" lang=\"jbo\">lojban</a></li>\n",
      "<li><a href=\"//lg.wikipedia.org/\" lang=\"lg\">Luganda</a></li>\n",
      "<li><a href=\"//mt.wikipedia.org/\" lang=\"mt\">Malti</a></li>\n",
      "<li><a href=\"//mi.wikipedia.org/\" lang=\"mi\">MÄori</a></li>\n",
      "<li><a href=\"//tw.wikipedia.org/\" lang=\"tw\" title=\"Mfantse\">Twi</a></li>\n",
      "<li><a href=\"//mwl.wikipedia.org/\" lang=\"mwl\">MirandÃ©s</a></li>\n",
      "<li><a href=\"//mdf.wikipedia.org/\" lang=\"mdf\" title=\"MokÅ¡enj\">ÐÐ¾ÐºÑÐµÐ½Ñ</a></li>\n",
      "<li><a href=\"//mnw.wikipedia.org/\" lang=\"mnw\">áá¬áá¬ áááº</a></li>\n",
      "<li><a href=\"//nqo.wikipedia.org/\" lang=\"nqo\" title=\"N&#x27;Ko\">ßßß</a></li>\n",
      "<li><a href=\"//fj.wikipedia.org/\" lang=\"fj\">Na Vosa Vaka-Viti</a></li>\n",
      "<li><a href=\"//nah.wikipedia.org/\" lang=\"nah\">NÄhuatlahtÅlli</a></li>\n",
      "<li><a href=\"//na.wikipedia.org/\" lang=\"na\">Dorerin Naoero</a></li>\n",
      "<li><a href=\"//nds-nl.wikipedia.org/\" lang=\"nds-nl\">Nedersaksisch</a></li>\n",
      "<li><a href=\"//nrm.wikipedia.org/\" lang=\"roa-x-nrm\">Nouormand / Normaund</a></li>\n",
      "<li><a href=\"//nov.wikipedia.org/\" lang=\"nov\">Novial</a></li>\n",
      "<li><a href=\"//om.wikipedia.org/\" lang=\"om\" title=\"Ingiliffaa\">Afaan Oromoo</a></li>\n",
      "<li><a href=\"//blk.wikipedia.org/\" lang=\"blk\">áá¡á­á¯ááºááá¬ááá¬á</a></li>\n",
      "<li><a href=\"//pi.wikipedia.org/\" lang=\"pi\" title=\"PÄá¸·i\">à¤ªà¤¾à¤²à¤¿</a></li>\n",
      "<li><a href=\"//pag.wikipedia.org/\" lang=\"pag\">PangasinÃ¡n</a></li>\n",
      "<li><a href=\"//pap.wikipedia.org/\" lang=\"pap\">Papiamentu</a></li>\n",
      "<li><a href=\"//pfl.wikipedia.org/\" lang=\"pfl\">PfÃ¤lzisch</a></li>\n",
      "<li><a href=\"//pcd.wikipedia.org/\" lang=\"pcd\">Picard</a></li>\n",
      "<li><a href=\"//krc.wikipedia.org/\" lang=\"krc\" title=\"QaraÃ§ayâMalqar\">ÐÑÐ°ÑÐ°ÑÐ°Ð¹âÐ¼Ð°Ð»ÐºÑÐ°Ñ</a></li>\n",
      "<li><a href=\"//kaa.wikipedia.org/\" lang=\"kaa\">Qaraqalpaqsha</a></li>\n",
      "<li><a href=\"//ksh.wikipedia.org/\" lang=\"ksh\">Ripoarisch</a></li>\n",
      "<li><a href=\"//rm.wikipedia.org/\" lang=\"rm\">Rumantsch</a></li>\n",
      "<li><a href=\"//rue.wikipedia.org/\" lang=\"rue\" title=\"Rusinâskyj\">Ð ÑÑÐ¸Ð½ÑÑÐºÑÐ¹</a></li>\n",
      "<li><a href=\"//sm.wikipedia.org/\" lang=\"sm\">Gagana SÄmoa</a></li>\n",
      "<li><a href=\"//sat.wikipedia.org/\" lang=\"sat\" title=\"Santali\">á±¥á±á±±á±á±á±²á±¤</a></li>\n",
      "<li><a href=\"//sc.wikipedia.org/\" lang=\"sc\" title=\"Sardu\">Sardu</a></li>\n",
      "<li><a href=\"//trv.wikipedia.org/\" lang=\"trv\">Seediq</a></li>\n",
      "<li><a href=\"//stq.wikipedia.org/\" lang=\"stq\">Seeltersk</a></li>\n",
      "<li><a href=\"//nso.wikipedia.org/\" lang=\"nso\">Sesotho sa Leboa</a></li>\n",
      "<li><a href=\"//tn.wikipedia.org/\" lang=\"tn\">Setswana</a></li>\n",
      "<li><a href=\"//cu.wikipedia.org/\" lang=\"cu\" title=\"SlovÄnÄ­skÅ­\">Ð¡Ð»Ð¾Ð²Ñ£ÌÐ½ÑÑÐºÑ / â°â°â°â°â°¡â°â° â°â°â°</a></li>\n",
      "<li><a href=\"//so.wikipedia.org/\" lang=\"so\">Soomaaliga</a></li>\n",
      "<li><a href=\"//srn.wikipedia.org/\" lang=\"srn\">Sranantongo</a></li>\n",
      "<li><a href=\"//kab.wikipedia.org/\" lang=\"kab\" title=\"Taqbaylit\">Taqbaylit</a></li>\n",
      "<li><a href=\"//roa-tara.wikipedia.org/\" lang=\"roa\">TarandÃ­ne</a></li>\n",
      "<li><a href=\"//tet.wikipedia.org/\" lang=\"tet\">Tetun</a></li>\n",
      "<li><a href=\"//tpi.wikipedia.org/\" lang=\"tpi\">Tok Pisin</a></li>\n",
      "<li><a href=\"//to.wikipedia.org/\" lang=\"to\">faka Tonga</a></li>\n",
      "<li><a href=\"//chr.wikipedia.org/\" lang=\"chr\" title=\"Tsalagi\">á£á³á©</a></li>\n",
      "<li><a href=\"//tum.wikipedia.org/\" lang=\"tum\">chiTumbuka</a></li>\n",
      "<li><a href=\"//tk.wikipedia.org/\" lang=\"tk\">TÃ¼rkmenÃ§e</a></li>\n",
      "<li><a href=\"//tyv.wikipedia.org/\" lang=\"tyv\" title=\"Tyva dyl\">Ð¢ÑÐ²Ð° Ð´ÑÐ»</a></li>\n",
      "<li><a href=\"//udm.wikipedia.org/\" lang=\"udm\" title=\"Udmurt\">Ð£Ð´Ð¼ÑÑÑ</a></li>\n",
      "<li><a href=\"//ug.wikipedia.org/\" lang=\"ug\"><bdi dir=\"rtl\">Ø¦ÛÙØºÛØ±ÚÙ</bdi></a></li>\n",
      "<li><a href=\"//vep.wikipedia.org/\" lang=\"vep\">VepsÃ¤n</a></li>\n",
      "<li><a href=\"//fiu-vro.wikipedia.org/\" lang=\"fiu-vro\">VÃµro</a></li>\n",
      "<li><a href=\"//vls.wikipedia.org/\" lang=\"vls\">West-Vlams</a></li>\n",
      "<li><a href=\"//wo.wikipedia.org/\" lang=\"wo\">Wolof</a></li>\n",
      "<li><a href=\"//xh.wikipedia.org/\" lang=\"xh\">isiXhosa</a></li>\n",
      "<li><a href=\"//zea.wikipedia.org/\" lang=\"zea\">ZeÃªuws</a></li>\n",
      "<li><a href=\"//ty.wikipedia.org/\" lang=\"ty\">Reo tahiti</a></li>\n",
      "</ul>\n",
      "</div>\n",
      "<h2 class=\"bookshelf-container\">\n",
      "<span class=\"bookshelf\">\n",
      "<span class=\"text\">\n",
      "<bdi dir=\"ltr\">\n",
      "100+\n",
      "</bdi>\n",
      "<span class=\"jsl10n\" data-jsl10n=\"portal.entries\">\n",
      "articles\n",
      "</span>\n",
      "</span>\n",
      "</span>\n",
      "</h2>\n",
      "<div class=\"langlist langlist-tiny hlist\" data-el-section=\"secondary links\">\n",
      "<ul>\n",
      "<li><a href=\"//ak.wikipedia.org/\" lang=\"ak\">Akan</a></li>\n",
      "<li><a href=\"//bm.wikipedia.org/\" lang=\"bm\">Bamanankan</a></li>\n",
      "<li><a href=\"//ch.wikipedia.org/\" lang=\"ch\">Chamoru</a></li>\n",
      "<li><a href=\"//ny.wikipedia.org/\" lang=\"ny\">Chichewa</a></li>\n",
      "<li><a href=\"//ee.wikipedia.org/\" lang=\"ee\">EÊegbe</a></li>\n",
      "<li><a href=\"//ff.wikipedia.org/\" lang=\"ff\">Fulfulde</a></li>\n",
      "<li><a href=\"//got.wikipedia.org/\" lang=\"got\" title=\"Gutisk\">ð²ð¿ðð¹ððº</a></li>\n",
      "<li><a href=\"//iu.wikipedia.org/\" lang=\"iu\">áááááá¦ / Inuktitut</a></li>\n",
      "<li><a href=\"//ik.wikipedia.org/\" lang=\"ik\">IÃ±upiak</a></li>\n",
      "<li><a href=\"//kl.wikipedia.org/\" lang=\"kl\">Kalaallisut</a></li>\n",
      "<li><a href=\"//mad.wikipedia.org/\" lang=\"mad\">MadhurÃ¢</a></li>\n",
      "<li><a href=\"//cr.wikipedia.org/\" lang=\"cr\">NÄhiyawÄwin / áá¦áá­ááá£</a></li>\n",
      "<li><a href=\"//pih.wikipedia.org/\" lang=\"pih\">Norfuk / Pitkern</a></li>\n",
      "<li><a href=\"//ami.wikipedia.org/\" lang=\"ami\">Pangcah</a></li>\n",
      "<li><a href=\"//pwn.wikipedia.org/\" lang=\"pwn\">pinayuanan</a></li>\n",
      "<li><a href=\"//pnt.wikipedia.org/\" lang=\"pnt\" title=\"PontiakÃ¡\">Î Î¿Î½ÏÎ¹Î±ÎºÎ¬</a></li>\n",
      "<li><a href=\"//dz.wikipedia.org/\" lang=\"dz\" title=\"Rdzong-Kha\">à½¢à¾«à½¼à½à¼à½</a></li>\n",
      "<li><a href=\"//rmy.wikipedia.org/\" lang=\"rmy\">romani Ähib</a></li>\n",
      "<li><a href=\"//rn.wikipedia.org/\" lang=\"rn\">Ikirundi</a></li>\n",
      "<li><a href=\"//sg.wikipedia.org/\" lang=\"sg\">SÃ¤ngÃ¶</a></li>\n",
      "<li><a href=\"//st.wikipedia.org/\" lang=\"st\">Sesotho</a></li>\n",
      "<li><a href=\"//ss.wikipedia.org/\" lang=\"ss\">SiSwati</a></li>\n",
      "<li><a href=\"//ti.wikipedia.org/\" lang=\"ti\" title=\"TÉgÉrÉÃ±a\">áµáá­á</a></li>\n",
      "<li><a href=\"//din.wikipedia.org/\" lang=\"din\">ThuÉÅjÃ¤Å</a></li>\n",
      "<li><a href=\"//chy.wikipedia.org/\" lang=\"chy\">TsÄhesenÄstsestotse</a></li>\n",
      "<li><a href=\"//ts.wikipedia.org/\" lang=\"ts\">Xitsonga</a></li>\n",
      "<li><a href=\"//kcg.wikipedia.org/\" lang=\"kcg\">Tyap</a></li>\n",
      "<li><a href=\"//ve.wikipedia.org/\" lang=\"ve\">Tshivená¸a</a></li>\n",
      "</ul>\n",
      "</div>\n",
      "<div class=\"langlist langlist-others hlist\" data-el-section=\"other languages\">\n",
      "<a class=\"jsl10n\" href=\"https://meta.wikimedia.org/wiki/Special:MyLanguage/List_of_Wikipedias\" lang data-jsl10n=\"other-languages-label\">Other languages</a>\n",
      "</div></div>\n",
      "</div>\n",
      "<hr>\n",
      "<div class=\"footer\" data-el-section=\"other projects\">\n",
      "<div class=\"footer-sidebar\">\n",
      "<div class=\"footer-sidebar-content\">\n",
      "<div class=\"footer-sidebar-icon sprite svg-Wikimedia-logo_black\">\n",
      "</div>\n",
      "<div class=\"footer-sidebar-text jsl10n\" data-jsl10n=\"portal.footer-description\">\n",
      "Wikipedia is hosted by the Wikimedia Foundation, a non-profit organization that also hosts a range of other projects.\n",
      "</div>\n",
      "<div class=\"footer-sidebar-text\">\n",
      "<a href=\"https://donate.wikimedia.org/?utm_medium=portal&utm_campaign=portalFooter&utm_source=portalFooter\" target=\"_blank\">\n",
      "<span class=\"jsl10n\" data-jsl10n=\"footer-donate\">You can support our work with a donation.</span>\n",
      "</a>\n",
      "</div>\n",
      "</div>\n",
      "</div>\n",
      "<div class=\"footer-sidebar app-badges\">\n",
      "<div class=\"footer-sidebar-content\">\n",
      "<div class=\"footer-sidebar-text\">\n",
      "<div class=\"footer-sidebar-icon sprite svg-wikipedia_app_tile\"></div>\n",
      "<strong class=\"jsl10n\" data-jsl10n=\"portal.app-links.title\">\n",
      "<a class=\"jsl10n\" data-jsl10n=\"portal.app-links.url\" href=\"https://en.wikipedia.org/wiki/List_of_Wikipedia_mobile_applications\">\n",
      "Download Wikipedia for Android or iOS\n",
      "</a>\n",
      "</strong>\n",
      "<p class=\"jsl10n\" data-jsl10n=\"portal.app-links.description\">\n",
      "Save your favorite articles to read offline, sync your reading lists across devices and customize your reading experience with the official Wikipedia app.\n",
      "</p>\n",
      "<ul>\n",
      "<li class=\"app-badge app-badge-android\">\n",
      "<a target=\"_blank\" rel=\"noreferrer\" href=\"https://play.google.com/store/apps/details?id=org.wikipedia&referrer=utm_source%3Dportal%26utm_medium%3Dbutton%26anid%3Dadmob\">\n",
      "<span class=\"jsl10n sprite svg-badge_google_play_store\" data-jsl10n=\"portal.app-links.google-store\">Google Play Store</span>\n",
      "</a>\n",
      "</li>\n",
      "<li class=\"app-badge app-badge-ios\">\n",
      "<a target=\"_blank\" rel=\"noreferrer\" href=\"https://itunes.apple.com/app/apple-store/id324715238?pt=208305&ct=portal&mt=8\">\n",
      "<span class=\"jsl10n sprite svg-badge_ios_app_store\" data-jsl10n=\"portal.app-links.apple-store\">Apple App Store</span>\n",
      "</a>\n",
      "</li>\n",
      "</ul>\n",
      "</div>\n",
      "</div>\n",
      "</div>\n",
      "<div class=\"other-projects\">\n",
      "<div class=\"other-project\">\n",
      "<a class=\"other-project-link\" href=\"//commons.wikimedia.org/\">\n",
      "<div class=\"other-project-icon\">\n",
      "<div class=\"sprite svg-Commons-logo_sister\"></div>\n",
      "</div>\n",
      "<div class=\"other-project-text\">\n",
      "<span class=\"other-project-title jsl10n\" data-jsl10n=\"commons.name\">Commons</span>\n",
      "<span class=\"other-project-tagline jsl10n\" data-jsl10n=\"commons.slogan\">Freely usable photos &amp; more</span>\n",
      "</div>\n",
      "</a>\n",
      "</div>\n",
      "<div class=\"other-project\">\n",
      "<a class=\"other-project-link\" href=\"//www.wikivoyage.org/\">\n",
      "<div class=\"other-project-icon\">\n",
      "<div class=\"sprite svg-Wikivoyage-logo_sister\"></div>\n",
      "</div>\n",
      "<div class=\"other-project-text\">\n",
      "<span class=\"other-project-title jsl10n\" data-jsl10n=\"wikivoyage.name\">Wikivoyage</span>\n",
      "<span class=\"other-project-tagline jsl10n\" data-jsl10n=\"wikivoyage.slogan\">Free travel guide</span>\n",
      "</div>\n",
      "</a>\n",
      "</div>\n",
      "<div class=\"other-project\">\n",
      "<a class=\"other-project-link\" href=\"//www.wiktionary.org/\">\n",
      "<div class=\"other-project-icon\">\n",
      "<div class=\"sprite svg-Wiktionary-logo_sister\"></div>\n",
      "</div>\n",
      "<div class=\"other-project-text\">\n",
      "<span class=\"other-project-title jsl10n\" data-jsl10n=\"wiktionary.name\">Wiktionary</span>\n",
      "<span class=\"other-project-tagline jsl10n\" data-jsl10n=\"wiktionary.slogan\">Free dictionary</span>\n",
      "</div>\n",
      "</a>\n",
      "</div>\n",
      "<div class=\"other-project\">\n",
      "<a class=\"other-project-link\" href=\"//www.wikibooks.org/\">\n",
      "<div class=\"other-project-icon\">\n",
      "<div class=\"sprite svg-Wikibooks-logo_sister\"></div>\n",
      "</div>\n",
      "<div class=\"other-project-text\">\n",
      "<span class=\"other-project-title jsl10n\" data-jsl10n=\"wikibooks.name\">Wikibooks</span>\n",
      "<span class=\"other-project-tagline jsl10n\" data-jsl10n=\"wikibooks.slogan\">Free textbooks</span>\n",
      "</div>\n",
      "</a>\n",
      "</div>\n",
      "<div class=\"other-project\">\n",
      "<a class=\"other-project-link\" href=\"//www.wikinews.org/\">\n",
      "<div class=\"other-project-icon\">\n",
      "<div class=\"sprite svg-Wikinews-logo_sister\"></div>\n",
      "</div>\n",
      "<div class=\"other-project-text\">\n",
      "<span class=\"other-project-title jsl10n\" data-jsl10n=\"wikinews.name\">Wikinews</span>\n",
      "<span class=\"other-project-tagline jsl10n\" data-jsl10n=\"wikinews.slogan\">Free news source</span>\n",
      "</div>\n",
      "</a>\n",
      "</div>\n",
      "<div class=\"other-project\">\n",
      "<a class=\"other-project-link\" href=\"//www.wikidata.org/\">\n",
      "<div class=\"other-project-icon\">\n",
      "<div class=\"sprite svg-Wikidata-logo_sister\"></div>\n",
      "</div>\n",
      "<div class=\"other-project-text\">\n",
      "<span class=\"other-project-title jsl10n\" data-jsl10n=\"wikidata.name\">Wikidata</span>\n",
      "<span class=\"other-project-tagline jsl10n\" data-jsl10n=\"wikidata.slogan\">Free knowledge base</span>\n",
      "</div>\n",
      "</a>\n",
      "</div>\n",
      "<div class=\"other-project\">\n",
      "<a class=\"other-project-link\" href=\"//www.wikiversity.org/\">\n",
      "<div class=\"other-project-icon\">\n",
      "<div class=\"sprite svg-Wikiversity-logo_sister\"></div>\n",
      "</div>\n",
      "<div class=\"other-project-text\">\n",
      "<span class=\"other-project-title jsl10n\" data-jsl10n=\"wikiversity.name\">Wikiversity</span>\n",
      "<span class=\"other-project-tagline jsl10n\" data-jsl10n=\"wikiversity.slogan\">Free course materials</span>\n",
      "</div>\n",
      "</a>\n",
      "</div>\n",
      "<div class=\"other-project\">\n",
      "<a class=\"other-project-link\" href=\"//www.wikiquote.org/\">\n",
      "<div class=\"other-project-icon\">\n",
      "<div class=\"sprite svg-Wikiquote-logo_sister\"></div>\n",
      "</div>\n",
      "<div class=\"other-project-text\">\n",
      "<span class=\"other-project-title jsl10n\" data-jsl10n=\"wikiquote.name\">Wikiquote</span>\n",
      "<span class=\"other-project-tagline jsl10n\" data-jsl10n=\"wikiquote.slogan\">Free quote compendium</span>\n",
      "</div>\n",
      "</a>\n",
      "</div>\n",
      "<div class=\"other-project\">\n",
      "<a class=\"other-project-link\" href=\"//www.mediawiki.org/\">\n",
      "<div class=\"other-project-icon\">\n",
      "<div class=\"sprite svg-MediaWiki-logo_sister\"></div>\n",
      "</div>\n",
      "<div class=\"other-project-text\">\n",
      "<span class=\"other-project-title jsl10n\" data-jsl10n=\"mediawiki.name\">MediaWiki</span>\n",
      "<span class=\"other-project-tagline jsl10n\" data-jsl10n=\"mediawiki.slogan\">Free &amp; open wiki application</span>\n",
      "</div>\n",
      "</a>\n",
      "</div>\n",
      "<div class=\"other-project\">\n",
      "<a class=\"other-project-link\" href=\"//www.wikisource.org/\">\n",
      "<div class=\"other-project-icon\">\n",
      "<div class=\"sprite svg-Wikisource-logo_sister\"></div>\n",
      "</div>\n",
      "<div class=\"other-project-text\">\n",
      "<span class=\"other-project-title jsl10n\" data-jsl10n=\"wikisource.name\">Wikisource</span>\n",
      "<span class=\"other-project-tagline jsl10n\" data-jsl10n=\"wikisource.slogan\">Free library</span>\n",
      "</div>\n",
      "</a>\n",
      "</div>\n",
      "<div class=\"other-project\">\n",
      "<a class=\"other-project-link\" href=\"//species.wikimedia.org/\">\n",
      "<div class=\"other-project-icon\">\n",
      "<div class=\"sprite svg-Wikispecies-logo_sister\"></div>\n",
      "</div>\n",
      "<div class=\"other-project-text\">\n",
      "<span class=\"other-project-title jsl10n\" data-jsl10n=\"wikispecies.name\">Wikispecies</span>\n",
      "<span class=\"other-project-tagline jsl10n\" data-jsl10n=\"wikispecies.slogan\">Free species directory</span>\n",
      "</div>\n",
      "</a>\n",
      "</div>\n",
      "<div class=\"other-project\">\n",
      "<a class=\"other-project-link\" href=\"//meta.wikimedia.org/\">\n",
      "<div class=\"other-project-icon\">\n",
      "<div class=\"sprite svg-Meta-Wiki-logo_sister\"></div>\n",
      "</div>\n",
      "<div class=\"other-project-text\">\n",
      "<span class=\"other-project-title jsl10n\" data-jsl10n=\"metawiki.name\">Meta-Wiki</span>\n",
      "<span class=\"other-project-tagline jsl10n\" data-jsl10n=\"metawiki.slogan\">Community coordination &amp; documentation</span>\n",
      "</div>\n",
      "</a>\n",
      "</div>\n",
      "</div>\n",
      "</div>\n",
      "<hr>\n",
      "<p class=\"site-license\">\n",
      "<small class=\"jsl10n\" data-jsl10n=\"license\">This page is available under the <a href=\"https://creativecommons.org/licenses/by-sa/3.0/\">Creative Commons Attribution-ShareAlike License</a></small>\n",
      "<small class=\"jsl10n\" data-jsl10n=\"terms\"><a href=\"https://meta.wikimedia.org/wiki/Terms_of_use\">Terms of Use</a></small>\n",
      "<small class=\"jsl10n\" data-jsl10n=\"privacy-policy\"><a href=\"https://meta.wikimedia.org/wiki/Privacy_policy\">Privacy Policy</a></small>\n",
      "</p>\n",
      "<script>\n",
      "var rtlLangs = ['ar','arc','ary','arz','bcc','bgn','bqi','ckb','dv','fa','glk','he','kk-cn','kk-arab','khw','ks','ku-arab','lki','luz','mzn','nqo','pnb','ps','sd','sdh','skr','ug','ur','yi'],\n",
      "    translationsHash = 'd22766fe',\n",
      "    /**\n",
      "     * This variable is used to convert the generic \"portal\" keyword in the data-jsl10n attributes\n",
      "     * e.g. 'data-jsl10n=\"portal.footer-description\"' into a portal-specific key, e.g. \"wiki\"\n",
      "     * for the Wikipedia portal.\n",
      "     */\n",
      "    translationsPortalKey = 'wiki';\n",
      "    /**\n",
      "     * The wm-typeahead.js feature is used for search,and it uses domain name for searching. We want domain\n",
      "     * name to be portal Specific (different for every portal).So by declaring variable 'portalSearchDomain'\n",
      "     * in index.handlebars we will make this portal Specific.\n",
      "    **/\n",
      "    portalSearchDomain = 'wikipedia.org'\n",
      "    /*\n",
      "     This object is used by l10n scripts (page-localized.js, topten-localized.js)\n",
      "     to reveal the page content after l10n json is loaded.\n",
      "     A timer is also set to prevent JS from hiding page content indefinitelty.\n",
      "     This script is inlined to safeguard againt script loading errors and placed\n",
      "     at the top of the page to safeguard against any HTML loading/parsing errors.\n",
      "    */\n",
      "    wmL10nVisible = {\n",
      "        ready: false,\n",
      "        makeVisible: function(){\n",
      "            if ( !wmL10nVisible.ready ) {\n",
      "                wmL10nVisible.ready = true;\n",
      "                document.body.className += ' jsl10n-visible';\n",
      "            }\n",
      "        }\n",
      "    };\n",
      "    window.setTimeout( wmL10nVisible.makeVisible, 1000 )\n",
      "</script>\n",
      "<script src=\"portal/wikipedia.org/assets/js/index-86c7e2579d.js\"></script>\n",
      "<!--[if gt IE 9]><!-->\n",
      "<script src=\"portal/wikipedia.org/assets/js/gt-ie9-ce3fe8e88d.js\"></script>\n",
      "<!--<![endif]-->\n",
      "<!--[if lte IE 9]><!-->\n",
      "<style>\n",
      ".styled-select {\n",
      "        display: block;\n",
      "    }\n",
      "</style>\n",
      "<!--<![endif]-->\n",
      "<!--[if lte IE 9]>\n",
      "<style>\n",
      "    .langlist > ul {\n",
      "        text-align: center;\n",
      "    }\n",
      "    .langlist > ul > li {\n",
      "        display: inline;\n",
      "        padding: 0 0.5em;\n",
      "    }\n",
      "</style>\n",
      "<![endif]-->\n",
      "</body>\n",
      "</html>\n",
      "\n"
     ]
    }
   ],
   "source": [
    "print(text)"
   ]
  },
  {
   "cell_type": "markdown",
   "id": "2c577c53",
   "metadata": {},
   "source": [
    "# Scraping de la web en Python\n",
    "\n",
    "Acaba de extraer datos HTML de la web y lo ha hecho utilizando dos paquetes diferentes, `urllib` y `requests`. También vio que  `requests` proporciona una interfaz de nivel superior, en ese paquete necesitaba escribir menos líneas para recuperar el HTML relevante como una cadena.\n",
    "\n",
    "\n",
    "## HTML\n",
    "\n",
    "Tienes el HTML de tu página de interés pero, en general HTML es una mezcla humilde de datos estructurados y no estructurados.\n",
    "\n",
    "Una palabra en estos términos: \n",
    "\n",
    "Los datos estructurados son datos que tienen un modelo de datos predefinido o que está organizado de una manera definida.\n",
    "\n",
    "Los datos no estructurados son datos que no poseen ninguna de estas propiedades.\n",
    "\n",
    "HTML es interesante porque, aunque gran parte de él es texto no estructurado, no contiene etiquetas que determinan dónde, por ejemplo, se pueden encontrar encabezados e hipervínculos.\n",
    "\n",
    "\n",
    "## BeautifulSoup\n",
    "\n",
    "En general, para convertir HTML que haya extraído de Internet en datos útiles, deberá analizarlos y extrar datos estructurados de ellos.\n",
    "\n",
    "En desarrollo web, el término \"sopa de etiquetas\" se refiere a codigo HTML estructural o sintácticamente incorrecto escrito para una página web. Lo que Beatiful Soup hace mejor es hacer que la sopa de etiquetas vuelva a ser hermosa y extrar información de ella con facilidad. De hecho, el objeto principal creado y consultado al usar este paquete es llamado `BeautifulSoup` y tiene un método asociado muy importante llamado \"Embellecer\" (`.prettify()`).\n",
    "\n",
    "---\n",
    "\n",
    "**En la Practica:**\n",
    "\n",
    "Una vez más, utiliza `requests` para raspar el HTML de la web. Luego, crea un objeto BeautifulSoup a partir del HTML resultante y lo embellece."
   ]
  },
  {
   "cell_type": "code",
   "execution_count": 30,
   "id": "10e5578a",
   "metadata": {},
   "outputs": [],
   "source": [
    "from bs4 import BeautifulSoup\n",
    "import requests\n",
    "\n",
    "url = 'https://www.crummy.com/software/BeautifulSoup/'\n",
    "r = requests.get(url)\n",
    "html_doc = r.text\n",
    "soup = BeautifulSoup(html_doc)"
   ]
  },
  {
   "cell_type": "code",
   "execution_count": 32,
   "id": "de66b6ae",
   "metadata": {
    "scrolled": true
   },
   "outputs": [
    {
     "name": "stdout",
     "output_type": "stream",
     "text": [
      "<!DOCTYPE HTML PUBLIC \"-//W3C//DTD HTML 4.0 Transitional//EN\" \"http://www.w3.org/TR/REC-html40/transitional.dtd\">\n",
      "<html>\n",
      " <head>\n",
      "  <meta content=\"text/html; charset=utf-8\" http-equiv=\"Content-Type\"/>\n",
      "  <title>\n",
      "   Beautiful Soup: We called him Tortoise because he taught us.\n",
      "  </title>\n",
      "  <link href=\"mailto:leonardr@segfault.org\" rev=\"made\"/>\n",
      "  <link href=\"/nb/themes/Default/nb.css\" rel=\"stylesheet\" type=\"text/css\"/>\n",
      "  <meta content=\"Beautiful Soup: a library designed for screen-scraping HTML and XML.\" name=\"Description\"/>\n",
      "  <meta content=\"Markov Approximation 1.4 (module: leonardr)\" name=\"generator\"/>\n",
      "  <meta content=\"Leonard Richardson\" name=\"author\"/>\n",
      " </head>\n",
      " <body alink=\"red\" bgcolor=\"white\" link=\"blue\" text=\"black\" vlink=\"660066\">\n",
      "  <style>\n",
      "   #tidelift { }\n",
      "\n",
      "#tidelift a {\n",
      " border: 1px solid #666666;\n",
      " margin-left: auto;\n",
      " padding: 10px;\n",
      " text-decoration: none;\n",
      "}\n",
      "\n",
      "#tidelift .cta {\n",
      " background: url(\"tidelift.svg\") no-repeat;\n",
      " padding-left: 30px;\n",
      "}\n",
      "  </style>\n",
      "  <img align=\"right\" src=\"10.1.jpg\" width=\"250\"/>\n",
      "  <br/>\n",
      "  <p>\n",
      "   [\n",
      "   <a href=\"#Download\">\n",
      "    Download\n",
      "   </a>\n",
      "   |\n",
      "   <a href=\"bs4/doc/\">\n",
      "    Documentation\n",
      "   </a>\n",
      "   |\n",
      "   <a href=\"#HallOfFame\">\n",
      "    Hall of Fame\n",
      "   </a>\n",
      "   |\n",
      "   <a href=\"enterprise.html\">\n",
      "    For enterprise\n",
      "   </a>\n",
      "   |\n",
      "   <a href=\"https://code.launchpad.net/beautifulsoup\">\n",
      "    Source\n",
      "   </a>\n",
      "   |\n",
      "   <a href=\"https://bazaar.launchpad.net/%7Eleonardr/beautifulsoup/bs4/view/head:/CHANGELOG\">\n",
      "    Changelog\n",
      "   </a>\n",
      "   |\n",
      "   <a href=\"https://groups.google.com/forum/?fromgroups#!forum/beautifulsoup\">\n",
      "    Discussion group\n",
      "   </a>\n",
      "   |\n",
      "   <a href=\"zine/\">\n",
      "    Zine\n",
      "   </a>\n",
      "   ]\n",
      "  </p>\n",
      "  <div align=\"center\">\n",
      "   <a href=\"bs4/download/\">\n",
      "    <h1>\n",
      "     Beautiful Soup\n",
      "    </h1>\n",
      "   </a>\n",
      "  </div>\n",
      "  <p>\n",
      "   You didn't write that awful page. You're just trying to get some\n",
      "data out of it. Beautiful Soup is here to help. Since 2004, it's been\n",
      "saving programmers hours or days of work on quick-turnaround\n",
      "screen scraping projects.\n",
      "  </p>\n",
      "  <p>\n",
      "   Beautiful Soup is a Python library designed for quick turnaround\n",
      "projects like screen-scraping. Three features make it powerful:\n",
      "  </p>\n",
      "  <ol>\n",
      "   <li>\n",
      "    Beautiful Soup provides a few simple methods and Pythonic idioms\n",
      "for navigating, searching, and modifying a parse tree: a toolkit for\n",
      "dissecting a document and extracting what you need. It doesn't take\n",
      "much code to write an application\n",
      "   </li>\n",
      "   <li>\n",
      "    Beautiful Soup automatically converts incoming documents to\n",
      "Unicode and outgoing documents to UTF-8. You don't have to think\n",
      "about encodings, unless the document doesn't specify an encoding and\n",
      "Beautiful Soup can't detect one. Then you just have to specify the\n",
      "original encoding.\n",
      "   </li>\n",
      "   <li>\n",
      "    Beautiful Soup sits on top of popular Python parsers like\n",
      "    <a href=\"http://lxml.de/\">\n",
      "     lxml\n",
      "    </a>\n",
      "    and\n",
      "    <a href=\"http://code.google.com/p/html5lib/\">\n",
      "     html5lib\n",
      "    </a>\n",
      "    , allowing you\n",
      "to try out different parsing strategies or trade speed for\n",
      "flexibility.\n",
      "   </li>\n",
      "  </ol>\n",
      "  <p>\n",
      "   Beautiful Soup parses anything you give it, and does the tree\n",
      "traversal stuff for you. You can tell it \"Find all the links\", or\n",
      "\"Find all the links of class\n",
      "   <tt>\n",
      "    externalLink\n",
      "   </tt>\n",
      "   \", or \"Find all the\n",
      "links whose urls match \"foo.com\", or \"Find the table heading that's\n",
      "got bold text, then give me that text.\"\n",
      "  </p>\n",
      "  <p>\n",
      "   Valuable data that was once locked up in poorly-designed websites\n",
      "is now within your reach. Projects that would have taken hours take\n",
      "only minutes with Beautiful Soup.\n",
      "  </p>\n",
      "  <p>\n",
      "   Interested?\n",
      "   <a href=\"bs4/doc/\">\n",
      "    Read more.\n",
      "   </a>\n",
      "  </p>\n",
      "  <h3>\n",
      "   Getting and giving support\n",
      "  </h3>\n",
      "  <div align=\"center\" id=\"tidelift\">\n",
      "   <a href=\"https://tidelift.com/subscription/pkg/pypi-beautifulsoup4?utm_source=pypi-beautifulsoup4&amp;utm_medium=referral&amp;utm_campaign=enterprise\" target=\"_blank\">\n",
      "    <span class=\"cta\">\n",
      "     Beautiful Soup for enterprise available via Tidelift\n",
      "    </span>\n",
      "   </a>\n",
      "  </div>\n",
      "  <p>\n",
      "   If you have questions, send them to\n",
      "   <a href=\"https://groups.google.com/forum/?fromgroups#!forum/beautifulsoup\">\n",
      "    the discussion\n",
      "group\n",
      "   </a>\n",
      "   . If you find a bug,\n",
      "   <a href=\"https://bugs.launchpad.net/beautifulsoup/\">\n",
      "    file it on Launchpad\n",
      "   </a>\n",
      "   . If it's a security vulnerability, report it confidentially through\n",
      "   <a href=\"https://tidelift.com/security\">\n",
      "    Tidelift\n",
      "   </a>\n",
      "   .\n",
      "  </p>\n",
      "  <p>\n",
      "   If you use Beautiful Soup as part of your work, please consider a\n",
      "   <a href=\"https://tidelift.com/subscription/pkg/pypi-beautifulsoup4?utm_source=pypi-beautifulsoup4&amp;utm_medium=referral&amp;utm_campaign=website\">\n",
      "    Tidelift subscription\n",
      "   </a>\n",
      "   . This will support many of the free software projects your organization depends on, not just Beautiful Soup.\n",
      "  </p>\n",
      "  <p>\n",
      "   If Beautiful Soup is useful to you on a personal level, you might like to read\n",
      "   <a href=\"zine/\">\n",
      "    <i>\n",
      "     Tool Safety\n",
      "    </i>\n",
      "   </a>\n",
      "   , a short zine I wrote about what I learned about software development from working on Beautiful Soup. Thanks!\n",
      "  </p>\n",
      "  <a name=\"Download\">\n",
      "   <h2>\n",
      "    Download Beautiful Soup\n",
      "   </h2>\n",
      "  </a>\n",
      "  <p>\n",
      "   The current release is\n",
      "   <a href=\"bs4/download/\">\n",
      "    Beautiful Soup\n",
      "4.11.2\n",
      "   </a>\n",
      "   (January 31, 2023). You can install Beautiful Soup 4 with\n",
      "   <code>\n",
      "    pip install beautifulsoup4\n",
      "   </code>\n",
      "   .\n",
      "  </p>\n",
      "  <p>\n",
      "   In Debian and Ubuntu, Beautiful Soup is available as the\n",
      "   <code>\n",
      "    python-bs4\n",
      "   </code>\n",
      "   package (for Python 2) or the\n",
      "   <code>\n",
      "    python3-bs4\n",
      "   </code>\n",
      "   package (for Python 3). In Fedora it's\n",
      "available as the\n",
      "   <code>\n",
      "    python-beautifulsoup4\n",
      "   </code>\n",
      "   package.\n",
      "  </p>\n",
      "  <p>\n",
      "   Beautiful Soup is licensed under the MIT license, so you can also\n",
      "download the tarball, drop the\n",
      "   <code>\n",
      "    bs4/\n",
      "   </code>\n",
      "   directory into almost\n",
      "any Python application (or into your library path) and start using it\n",
      "immediately. (If you want to do this under Python 3, you will need to\n",
      "manually convert the code using\n",
      "   <code>\n",
      "    2to3\n",
      "   </code>\n",
      "   .)\n",
      "  </p>\n",
      "  <p>\n",
      "   Beautiful Soup 4 works on Python 3.6 and up. Support for Python 2 was discontinued on January 1,\n",
      "2021—one year after the Python 2 sunsetting date.\n",
      "  </p>\n",
      "  <h3>\n",
      "   Beautiful Soup 3\n",
      "  </h3>\n",
      "  <p>\n",
      "   Beautiful Soup 3 was the official release line of Beautiful Soup\n",
      "from May 2006 to March 2012. It does not support Python 3 and was\n",
      "discontinued or January 1, 2021—one year after the Python 2\n",
      "sunsetting date. If you have any active projects using Beautiful Soup\n",
      "3, you should migrate to Beautiful Soup 4 as part of your Python 3\n",
      "conversion.\n",
      "  </p>\n",
      "  <p>\n",
      "   <a href=\"http://www.crummy.com/software/BeautifulSoup/bs3/documentation.html\">\n",
      "    Here's\n",
      "the Beautiful Soup 3 documentation.\n",
      "   </a>\n",
      "  </p>\n",
      "  <p>\n",
      "   The current and hopefully final release of Beautiful Soup 3 is\n",
      "   <a href=\"download/3.x/BeautifulSoup-3.2.2.tar.gz\">\n",
      "    3.2.2\n",
      "   </a>\n",
      "   (October 5,\n",
      "2019). It's the\n",
      "   <code>\n",
      "    BeautifulSoup\n",
      "   </code>\n",
      "   package on pip. It's also\n",
      "available as\n",
      "   <code>\n",
      "    python-beautifulsoup\n",
      "   </code>\n",
      "   in Debian and Ubuntu,\n",
      "and as\n",
      "   <code>\n",
      "    python-BeautifulSoup\n",
      "   </code>\n",
      "   in Fedora.\n",
      "  </p>\n",
      "  <p>\n",
      "   Once Beautiful Soup 3 is discontinued, these package names will be available for use by a more recent version of Beautiful Soup.\n",
      "  </p>\n",
      "  <p>\n",
      "   Beautiful Soup 3, like Beautiful Soup 4, is\n",
      "   <a href=\"https://tidelift.com/subscription/pkg/pypi-beautifulsoup?utm_source=pypi-beautifulsoup&amp;utm_medium=referral&amp;utm_campaign=website\">\n",
      "    supported through Tidelift\n",
      "   </a>\n",
      "   .\n",
      "  </p>\n",
      "  <a name=\"HallOfFame\">\n",
      "   <h2>\n",
      "    Hall of Fame\n",
      "   </h2>\n",
      "  </a>\n",
      "  <p>\n",
      "   Over the years, Beautiful Soup has been used in hundreds of\n",
      "different projects. There's no way I can list them all, but I want to\n",
      "highlight a few high-profile projects. Beautiful Soup isn't what makes\n",
      "these projects interesting, but it did make their completion easier:\n",
      "  </p>\n",
      "  <ul>\n",
      "   <li>\n",
      "    <a href=\"http://www.nytimes.com/2007/10/25/arts/design/25vide.html\">\n",
      "     \"Movable\n",
      " Type\"\n",
      "    </a>\n",
      "    , a work of digital art on display in the lobby of the New\n",
      " York Times building, uses Beautiful Soup to scrape news feeds.\n",
      "   </li>\n",
      "   <li>\n",
      "    Jiabao Lin's\n",
      "    <a href=\"https://github.com/BlankerL/DXY-COVID-19-Crawler\">\n",
      "     DXY-COVID-19-Crawler\n",
      "    </a>\n",
      "    uses Beautiful Soup to scrape a Chinese medical site for information\n",
      "about COVID-19, making it easier for researchers to track the spread\n",
      "of the virus. (Source:\n",
      "    <a href=\"https://blog.tidelift.com/how-open-source-software-is-fighting-covid-19\">\n",
      "     \"How open source software is fighting COVID-19\"\n",
      "    </a>\n",
      "    )\n",
      "   </li>\n",
      "   <li>\n",
      "    Reddit uses Beautiful Soup to\n",
      "    <a href=\"https://github.com/reddit/reddit/blob/85f9cff3e2ab9bb8f19b96acd8da4ebacc079f04/r2/r2/lib/media.py\">\n",
      "     parse\n",
      "a page that's been linked to and find a representative image\n",
      "    </a>\n",
      "    .\n",
      "   </li>\n",
      "   <li>\n",
      "    Alexander Harrowell uses Beautiful Soup to\n",
      "    <a href=\"http://www.harrowell.org.uk/viktormap.html\">\n",
      "     track the business\n",
      " activities\n",
      "    </a>\n",
      "    of an arms merchant.\n",
      "   </li>\n",
      "   <li>\n",
      "    The developers of Python itself used Beautiful Soup to\n",
      "    <a href=\"http://svn.python.org/view/tracker/importer/\">\n",
      "     migrate the Python\n",
      "bug tracker from Sourceforge to Roundup\n",
      "    </a>\n",
      "    .\n",
      "   </li>\n",
      "   <li>\n",
      "    The\n",
      "    <a href=\"http://www2.ljworld.com/\">\n",
      "     Lawrence Journal-World\n",
      "    </a>\n",
      "    uses Beautiful Soup to\n",
      "    <a href=\"http://www.b-list.org/weblog/2010/nov/02/news-done-broke/\">\n",
      "     gather\n",
      "statewide election results\n",
      "    </a>\n",
      "    .\n",
      "   </li>\n",
      "   <li>\n",
      "    The\n",
      "    <a href=\"http://esrl.noaa.gov/gsd/fab/\">\n",
      "     NOAA's Forecast\n",
      "Applications Branch\n",
      "    </a>\n",
      "    uses Beautiful Soup in\n",
      "    <a href=\"http://laps.noaa.gov/topograbber/\">\n",
      "     TopoGrabber\n",
      "    </a>\n",
      "    , a script for\n",
      "downloading \"high resolution USGS datasets.\"\n",
      "   </li>\n",
      "  </ul>\n",
      "  <p>\n",
      "   If you've used Beautiful Soup in a project you'd like me to know\n",
      "about, please do send email to me or\n",
      "   <a href=\"http://groups.google.com/group/beautifulsoup/\">\n",
      "    the discussion\n",
      "group\n",
      "   </a>\n",
      "   .\n",
      "  </p>\n",
      "  <h2>\n",
      "   Development\n",
      "  </h2>\n",
      "  <p>\n",
      "   Development happens at\n",
      "   <a href=\"https://launchpad.net/beautifulsoup\">\n",
      "    Launchpad\n",
      "   </a>\n",
      "   . You can\n",
      "   <a href=\"https://code.launchpad.net/beautifulsoup/\">\n",
      "    get the source\n",
      "code\n",
      "   </a>\n",
      "   or\n",
      "   <a href=\"https://bugs.launchpad.net/beautifulsoup/\">\n",
      "    file\n",
      "bugs\n",
      "   </a>\n",
      "   .\n",
      "  </p>\n",
      "  <hr/>\n",
      "  <table>\n",
      "   <tr>\n",
      "    <td valign=\"top\">\n",
      "     <p>\n",
      "      This document (\n",
      "      <a href=\"/source/software/BeautifulSoup/index.bhtml\">\n",
      "       source\n",
      "      </a>\n",
      "      ) is part of Crummy, the webspace of\n",
      "      <a href=\"/self/\">\n",
      "       Leonard Richardson\n",
      "      </a>\n",
      "      (\n",
      "      <a href=\"/self/contact.html\">\n",
      "       contact information\n",
      "      </a>\n",
      "      ). It was last modified on Tuesday, January 31 2023, 18:01:14 Nowhere Standard Time and last built on Tuesday, February 07 2023, 03:00:01 Nowhere Standard Time.\n",
      "     </p>\n",
      "     <p>\n",
      "     </p>\n",
      "     <table class=\"licenseText\">\n",
      "      <tr>\n",
      "       <td>\n",
      "        <a href=\"http://creativecommons.org/licenses/by-sa/2.0/\">\n",
      "         <img border=\"0\" src=\"/nb//resources/img/somerights20.jpg\"/>\n",
      "        </a>\n",
      "       </td>\n",
      "       <td valign=\"top\">\n",
      "        Crummy is © 1996-2023 Leonard Richardson. Unless otherwise noted, all text licensed under a\n",
      "        <a href=\"http://creativecommons.org/licenses/by-sa/2.0/\">\n",
      "         Creative Commons License\n",
      "        </a>\n",
      "        .\n",
      "       </td>\n",
      "      </tr>\n",
      "     </table>\n",
      "     <!--<rdf:RDF xmlns=\"http://web.resource.org/cc/\" xmlns:dc=\"http://purl.org/dc/elements/1.1/\" xmlns:rdf=\"http://www.w3.org/1999/02/22-rdf-syntax-ns#\"><Work rdf:about=\"http://www.crummy.com/\"><dc:title>Crummy: The Site</dc:title><dc:rights><Agent><dc:title>Crummy: the Site</dc:title></Agent></dc:rights><dc:format>text/html</dc:format><license rdf:resource=http://creativecommons.org/licenses/by-sa/2.0//></Work><License rdf:about=\"http://creativecommons.org/licenses/by-sa/2.0/\"></License></rdf:RDF>-->\n",
      "    </td>\n",
      "    <td valign=\"top\">\n",
      "     <p>\n",
      "      <b>\n",
      "       Document tree:\n",
      "      </b>\n",
      "     </p>\n",
      "     <dl>\n",
      "      <dd>\n",
      "       <a href=\"http://www.crummy.com/\">\n",
      "        http://www.crummy.com/\n",
      "       </a>\n",
      "       <dl>\n",
      "        <dd>\n",
      "         <a href=\"http://www.crummy.com/software/\">\n",
      "          software/\n",
      "         </a>\n",
      "         <dl>\n",
      "          <dd>\n",
      "           <a href=\"http://www.crummy.com/software/BeautifulSoup/\">\n",
      "            BeautifulSoup/\n",
      "           </a>\n",
      "          </dd>\n",
      "         </dl>\n",
      "        </dd>\n",
      "       </dl>\n",
      "      </dd>\n",
      "     </dl>\n",
      "     Site Search:\n",
      "     <form action=\"/search/\" method=\"get\">\n",
      "      <input maxlength=\"255\" name=\"q\" type=\"text\" value=\"\"/>\n",
      "     </form>\n",
      "    </td>\n",
      "   </tr>\n",
      "  </table>\n",
      " </body>\n",
      "</html>\n",
      "\n"
     ]
    }
   ],
   "source": [
    "print(soup.prettify())"
   ]
  },
  {
   "cell_type": "markdown",
   "id": "f9cc5805",
   "metadata": {},
   "source": [
    "Al imprimir el objeto `soup.prettify()` y el HTML original, puede ver que, por ejemplo, la salida de `soup.prettify()` está sangrada de la forma en que se esperaría que etuviera correctamente escrito en HTML.\n",
    "\n",
    "\n",
    "\n",
    "## Explorar BeautifulSoup\n",
    "\n",
    "Explorará algunos de los métodos que puede aplicar a su HTML, como `.title` y `get_text()`, que extraen el título y el texto, respectivamente."
   ]
  },
  {
   "cell_type": "code",
   "execution_count": 38,
   "id": "df41af3a",
   "metadata": {},
   "outputs": [
    {
     "name": "stdout",
     "output_type": "stream",
     "text": [
      "<title>Beautiful Soup: We called him Tortoise because he taught us.</title>\n"
     ]
    }
   ],
   "source": [
    "print(soup.title)"
   ]
  },
  {
   "cell_type": "code",
   "execution_count": 39,
   "id": "1866e88f",
   "metadata": {},
   "outputs": [
    {
     "name": "stdout",
     "output_type": "stream",
     "text": [
      "\n",
      "\n",
      "\n",
      "Beautiful Soup: We called him Tortoise because he taught us.\n",
      "\n",
      "\n",
      "\n",
      "\n",
      "\n",
      "\n",
      "\n",
      "\n",
      "\n",
      "[ Download | Documentation | Hall of Fame | For enterprise | Source | Changelog | Discussion group  | Zine ]\n",
      "\n",
      "Beautiful Soup\n",
      "\n",
      "You didn't write that awful page. You're just trying to get some\n",
      "data out of it. Beautiful Soup is here to help. Since 2004, it's been\n",
      "saving programmers hours or days of work on quick-turnaround\n",
      "screen scraping projects.\n",
      "Beautiful Soup is a Python library designed for quick turnaround\n",
      "projects like screen-scraping. Three features make it powerful:\n",
      "\n",
      "\n",
      "Beautiful Soup provides a few simple methods and Pythonic idioms\n",
      "for navigating, searching, and modifying a parse tree: a toolkit for\n",
      "dissecting a document and extracting what you need. It doesn't take\n",
      "much code to write an application\n",
      "\n",
      "Beautiful Soup automatically converts incoming documents to\n",
      "Unicode and outgoing documents to UTF-8. You don't have to think\n",
      "about encodings, unless the document doesn't specify an encoding and\n",
      "Beautiful Soup can't detect one. Then you just have to specify the\n",
      "original encoding.\n",
      "\n",
      "Beautiful Soup sits on top of popular Python parsers like lxml and html5lib, allowing you\n",
      "to try out different parsing strategies or trade speed for\n",
      "flexibility.\n",
      "\n",
      "\n",
      "Beautiful Soup parses anything you give it, and does the tree\n",
      "traversal stuff for you. You can tell it \"Find all the links\", or\n",
      "\"Find all the links of class externalLink\", or \"Find all the\n",
      "links whose urls match \"foo.com\", or \"Find the table heading that's\n",
      "got bold text, then give me that text.\"\n",
      "\n",
      "Valuable data that was once locked up in poorly-designed websites\n",
      "is now within your reach. Projects that would have taken hours take\n",
      "only minutes with Beautiful Soup.\n",
      "\n",
      "Interested? Read more.\n",
      "Getting and giving support\n",
      "\n",
      "\n",
      "\n",
      "  Beautiful Soup for enterprise available via Tidelift\n",
      " \n",
      "\n",
      "\n",
      "If you have questions, send them to the discussion\n",
      "group. If you find a bug, file it on Launchpad. If it's a security vulnerability, report it confidentially through Tidelift.\n",
      "If you use Beautiful Soup as part of your work, please consider a Tidelift subscription. This will support many of the free software projects your organization depends on, not just Beautiful Soup.\n",
      "\n",
      "\n",
      "If Beautiful Soup is useful to you on a personal level, you might like to read Tool Safety, a short zine I wrote about what I learned about software development from working on Beautiful Soup. Thanks!\n",
      "Download Beautiful Soup\n",
      "The current release is Beautiful Soup\n",
      "4.11.2 (January 31, 2023). You can install Beautiful Soup 4 with\n",
      "pip install beautifulsoup4.\n",
      "\n",
      "In Debian and Ubuntu, Beautiful Soup is available as the\n",
      "python-bs4 package (for Python 2) or the\n",
      "python3-bs4 package (for Python 3). In Fedora it's\n",
      "available as the python-beautifulsoup4 package.\n",
      "\n",
      "Beautiful Soup is licensed under the MIT license, so you can also\n",
      "download the tarball, drop the bs4/ directory into almost\n",
      "any Python application (or into your library path) and start using it\n",
      "immediately. (If you want to do this under Python 3, you will need to\n",
      "manually convert the code using 2to3.)\n",
      "\n",
      "Beautiful Soup 4 works on Python 3.6 and up. Support for Python 2 was discontinued on January 1,\n",
      "2021—one year after the Python 2 sunsetting date.\n",
      "\n",
      "Beautiful Soup 3\n",
      "Beautiful Soup 3 was the official release line of Beautiful Soup\n",
      "from May 2006 to March 2012. It does not support Python 3 and was\n",
      "discontinued or January 1, 2021—one year after the Python 2\n",
      "sunsetting date. If you have any active projects using Beautiful Soup\n",
      "3, you should migrate to Beautiful Soup 4 as part of your Python 3\n",
      "conversion.\n",
      "\n",
      "Here's\n",
      "the Beautiful Soup 3 documentation.\n",
      "The current and hopefully final release of Beautiful Soup 3 is 3.2.2 (October 5,\n",
      "2019). It's the BeautifulSoup package on pip. It's also\n",
      "available as python-beautifulsoup in Debian and Ubuntu,\n",
      "and as python-BeautifulSoup in Fedora.\n",
      "\n",
      "Once Beautiful Soup 3 is discontinued, these package names will be available for use by a more recent version of Beautiful Soup.\n",
      "\n",
      "Beautiful Soup 3, like Beautiful Soup 4, is supported through Tidelift.\n",
      "Hall of Fame\n",
      "Over the years, Beautiful Soup has been used in hundreds of\n",
      "different projects. There's no way I can list them all, but I want to\n",
      "highlight a few high-profile projects. Beautiful Soup isn't what makes\n",
      "these projects interesting, but it did make their completion easier:\n",
      "\n",
      "\n",
      "\"Movable\n",
      " Type\", a work of digital art on display in the lobby of the New\n",
      " York Times building, uses Beautiful Soup to scrape news feeds.\n",
      "\n",
      "Jiabao Lin's DXY-COVID-19-Crawler\n",
      "uses Beautiful Soup to scrape a Chinese medical site for information\n",
      "about COVID-19, making it easier for researchers to track the spread\n",
      "of the virus. (Source: \"How open source software is fighting COVID-19\")\n",
      "\n",
      "Reddit uses Beautiful Soup to parse\n",
      "a page that's been linked to and find a representative image.\n",
      "\n",
      "Alexander Harrowell uses Beautiful Soup to track the business\n",
      " activities of an arms merchant.\n",
      "\n",
      "The developers of Python itself used Beautiful Soup to migrate the Python\n",
      "bug tracker from Sourceforge to Roundup.\n",
      "\n",
      "The Lawrence Journal-World\n",
      "uses Beautiful Soup to gather\n",
      "statewide election results.\n",
      "\n",
      "The NOAA's Forecast\n",
      "Applications Branch uses Beautiful Soup in TopoGrabber, a script for\n",
      "downloading \"high resolution USGS datasets.\"\n",
      "\n",
      "\n",
      "If you've used Beautiful Soup in a project you'd like me to know\n",
      "about, please do send email to me or the discussion\n",
      "group.\n",
      "\n",
      "Development\n",
      "Development happens at Launchpad. You can get the source\n",
      "code or file\n",
      "bugs.\n",
      "This document (source) is part of Crummy, the webspace of Leonard Richardson (contact information). It was last modified on Tuesday, January 31 2023, 18:01:14 Nowhere Standard Time and last built on Tuesday, February 07 2023, 03:00:01 Nowhere Standard Time.Crummy is © 1996-2023 Leonard Richardson. Unless otherwise noted, all text licensed under a Creative Commons License.Document tree:\n",
      "http://www.crummy.com/software/BeautifulSoup/\n",
      "\n",
      "\n",
      "\n",
      "\n",
      "Site Search:\n",
      "\n",
      "\n",
      "\n",
      "\n",
      "\n",
      "\n",
      "\n",
      "\n",
      "\n",
      "\n"
     ]
    }
   ],
   "source": [
    "print(soup.get_text())"
   ]
  },
  {
   "cell_type": "markdown",
   "id": "5c07aeb4",
   "metadata": {},
   "source": [
    "También trabajará con el método `find_all()` de Soupy para extraer las URL de todos los hipervínculos en el HTML.\n",
    "\n",
    "Recordando que los hipervínculos están definidos por la etiqueta HTML `<a>` pero se pasan `find_all()` sin paréntesis angulares."
   ]
  },
  {
   "cell_type": "code",
   "execution_count": 40,
   "id": "fb1a7250",
   "metadata": {
    "scrolled": true
   },
   "outputs": [
    {
     "name": "stdout",
     "output_type": "stream",
     "text": [
      "#Download\n",
      "bs4/doc/\n",
      "#HallOfFame\n",
      "enterprise.html\n",
      "https://code.launchpad.net/beautifulsoup\n",
      "https://bazaar.launchpad.net/%7Eleonardr/beautifulsoup/bs4/view/head:/CHANGELOG\n",
      "https://groups.google.com/forum/?fromgroups#!forum/beautifulsoup\n",
      "zine/\n",
      "bs4/download/\n",
      "http://lxml.de/\n",
      "http://code.google.com/p/html5lib/\n",
      "bs4/doc/\n",
      "https://tidelift.com/subscription/pkg/pypi-beautifulsoup4?utm_source=pypi-beautifulsoup4&utm_medium=referral&utm_campaign=enterprise\n",
      "https://groups.google.com/forum/?fromgroups#!forum/beautifulsoup\n",
      "https://bugs.launchpad.net/beautifulsoup/\n",
      "https://tidelift.com/security\n",
      "https://tidelift.com/subscription/pkg/pypi-beautifulsoup4?utm_source=pypi-beautifulsoup4&utm_medium=referral&utm_campaign=website\n",
      "zine/\n",
      "None\n",
      "bs4/download/\n",
      "http://www.crummy.com/software/BeautifulSoup/bs3/documentation.html\n",
      "download/3.x/BeautifulSoup-3.2.2.tar.gz\n",
      "https://tidelift.com/subscription/pkg/pypi-beautifulsoup?utm_source=pypi-beautifulsoup&utm_medium=referral&utm_campaign=website\n",
      "None\n",
      "http://www.nytimes.com/2007/10/25/arts/design/25vide.html\n",
      "https://github.com/BlankerL/DXY-COVID-19-Crawler\n",
      "https://blog.tidelift.com/how-open-source-software-is-fighting-covid-19\n",
      "https://github.com/reddit/reddit/blob/85f9cff3e2ab9bb8f19b96acd8da4ebacc079f04/r2/r2/lib/media.py\n",
      "http://www.harrowell.org.uk/viktormap.html\n",
      "http://svn.python.org/view/tracker/importer/\n",
      "http://www2.ljworld.com/\n",
      "http://www.b-list.org/weblog/2010/nov/02/news-done-broke/\n",
      "http://esrl.noaa.gov/gsd/fab/\n",
      "http://laps.noaa.gov/topograbber/\n",
      "http://groups.google.com/group/beautifulsoup/\n",
      "https://launchpad.net/beautifulsoup\n",
      "https://code.launchpad.net/beautifulsoup/\n",
      "https://bugs.launchpad.net/beautifulsoup/\n",
      "/source/software/BeautifulSoup/index.bhtml\n",
      "/self/\n",
      "/self/contact.html\n",
      "http://creativecommons.org/licenses/by-sa/2.0/\n",
      "http://creativecommons.org/licenses/by-sa/2.0/\n",
      "http://www.crummy.com/\n",
      "http://www.crummy.com/software/\n",
      "http://www.crummy.com/software/BeautifulSoup/\n"
     ]
    }
   ],
   "source": [
    "for link in soup.find_all('a'):\n",
    "    print(link.get('href'))"
   ]
  },
  {
   "cell_type": "markdown",
   "id": "725ac3c6",
   "metadata": {},
   "source": [
    "# Introducción a las API y JSON\n",
    "\n",
    "\n",
    "## APIs\n",
    "\n",
    "Una API es un conjunto de protocolos y rutinas para crear e interactuar con aplicaciones de software. \n",
    "\n",
    "\n",
    "## JSONs\n",
    "\n",
    "Un formulario estándar para la transferencia de datos a través de las API es el formato de archivo JSON.\n",
    "\n",
    "JSON es un acrónimo que es la abreviatura de JavaScript Object Notation. Es un formato de archivo que surgió de una creciente necesidad de comunicacion en tiempo real de un servidor a navegador que no depenería necesariamente de Flash o Java y fue especificado por primera vez y tabién popularizado por Douglas Crockford, un programador y empresario estadounidense.\n",
    "\n",
    "Una de las cosas interesantes de los JSON es que son legibles por humanos, es decir, pueden ser leidos naturalmente por humanos a diferencia, por ejemplo, de los archivo encurtido, como vimos en anteriormente.\n",
    "\n",
    "### Ejemplo:\n",
    "\n",
    "\n",
    "<img src=\".\\img_3\\10.png\" width=\"550px\" height=\"350px\">\n",
    "\n",
    "Aquí ve un JSON de OMDB OR Open Movie Database API.\n",
    "\n",
    "En particular, este JSON que contiene información sobre la película Snakes on a Plane.\n",
    "\n",
    "Primero observe que el JSON consta de pares de nombre y valor, separados por comas. Esto le recordará los pares clave-valor en un diccionario de Python. Veremos que, por esta razón, al cargar archivos JSON en Python, es natural almacenarlos en en diccionario.\n",
    "\n",
    "Las claves de JSON siempre serán cadenas entre comillas. Los valores pueden ser cadenas, enteros, matrices o incluso objetos. Tal objeto puede incluso ser un JSON y luego tiene JSON anidados.\n",
    "\n",
    "En este caso de Snakes on a Plane JSON, todos los valores son cadenas y podemor verlo entre comillas.\n",
    "\n",
    "El valor correspondiente a la clave \"Titulo\" es el titulo de la pelicula como una cadena: Serpientes en un avión.\n",
    "\n",
    "El valor correspondiente a la clave \"Año\" es el año de lanzamiento como cadena: 2006 y así sucesivamente.\n",
    "\n",
    "\n",
    "\n",
    "## Cargar JSONs en Python\n",
    "\n",
    "Digamos que tenía el JSON almacenado en mi directorio de trabajo como \"snakes.json\". Para cargar el JSON a mi entorno Python, primero importe el paquete `json` y luego abra una conexión al archivo y use la función `json.load()` para cargar el JSON.\n",
    "\n",
    "Si luego compruebo el tipo de datos de json_data ejecutando `type(json_data)`, veo que Python importo inteligentemente el JSON como un diccionarion."
   ]
  },
  {
   "cell_type": "code",
   "execution_count": 14,
   "id": "04e30761",
   "metadata": {
    "scrolled": true
   },
   "outputs": [
    {
     "ename": "FileNotFoundError",
     "evalue": "[Errno 2] No such file or directory: 'snakes.json'",
     "output_type": "error",
     "traceback": [
      "\u001b[1;31m---------------------------------------------------------------------------\u001b[0m",
      "\u001b[1;31mFileNotFoundError\u001b[0m                         Traceback (most recent call last)",
      "Input \u001b[1;32mIn [14]\u001b[0m, in \u001b[0;36m<cell line: 2>\u001b[1;34m()\u001b[0m\n\u001b[0;32m      1\u001b[0m \u001b[38;5;28;01mimport\u001b[39;00m \u001b[38;5;21;01mjson\u001b[39;00m\n\u001b[1;32m----> 2\u001b[0m \u001b[38;5;28;01mwith\u001b[39;00m \u001b[38;5;28;43mopen\u001b[39;49m\u001b[43m(\u001b[49m\u001b[38;5;124;43m'\u001b[39;49m\u001b[38;5;124;43msnakes.json\u001b[39;49m\u001b[38;5;124;43m'\u001b[39;49m\u001b[43m,\u001b[49m\u001b[43m \u001b[49m\u001b[38;5;124;43m'\u001b[39;49m\u001b[38;5;124;43mr\u001b[39;49m\u001b[38;5;124;43m'\u001b[39;49m\u001b[43m)\u001b[49m \u001b[38;5;28;01mas\u001b[39;00m json_file:\n\u001b[0;32m      3\u001b[0m     json_data \u001b[38;5;241m=\u001b[39m json\u001b[38;5;241m.\u001b[39mload(json_file)\n",
      "\u001b[1;31mFileNotFoundError\u001b[0m: [Errno 2] No such file or directory: 'snakes.json'"
     ]
    }
   ],
   "source": [
    "import json\n",
    "with open('snakes.json', 'r') as json_file:\n",
    "    json_data = json.load(json_file)"
   ]
  },
  {
   "cell_type": "code",
   "execution_count": null,
   "id": "d68d67ac",
   "metadata": {},
   "outputs": [],
   "source": [
    "type(json_data) # --> dict"
   ]
  },
  {
   "cell_type": "markdown",
   "id": "efc563d6",
   "metadata": {},
   "source": [
    "## Explorar JSONs en Python\n",
    "\n",
    "Para imprimir los pares clave-valor en la consola, puedeo iterar sobre los pares clave-valor usando un bucle for."
   ]
  },
  {
   "cell_type": "code",
   "execution_count": null,
   "id": "18841f66",
   "metadata": {},
   "outputs": [],
   "source": [
    "for key, value in json_data.items():\n",
    "    print(key + ':', value)"
   ]
  },
  {
   "cell_type": "markdown",
   "id": "8109b505",
   "metadata": {},
   "source": [
    "<img src=\".\\img_3\\11.png\" width=\"550px\" height=\"350px\">"
   ]
  },
  {
   "cell_type": "markdown",
   "id": "02298434",
   "metadata": {},
   "source": [
    "# API e interacción con la red mundial\n",
    "\n",
    "Los JSON están en todas partes y una de las principales razones de motivación para saber cómo trabajar como cientifico de datos es que gran parte de los datos que obtendrá de las API están empaquetados como JSON.\n",
    "\n",
    "## ¿Qué es una API y por qué es tan importante?\n",
    "\n",
    "En pocas palabras, una API es un conjunto de protocolos y rutinas para crear aplicaciones de software e interactuar con ellas. Otra forma de verlo es que una API es un mónton de código que permite que dos programas de software se comuniquen entre sí.\n",
    "\n",
    "Por ejemplo, si quisiera transmitir datos de Twitter escribiendo código Python, usaría la API de Twitter. Si desea automatizar la extracción y el procesamiento de la información de wikipedia en el lenguaje de programación de su elección, puede hacerlo utilizando la API de Wikipedia. \n",
    "\n",
    "\n",
    "## Las API están en todas partes\n",
    "\n",
    "El uso de tales API ahora se ha convertido en una forma estándar de interactuar con tales aplicaciones. Twitter tiene una API que utilizan las empresas de marketing y científicos sociales dedicados a la investigación sobre las redes sociales. uber, facebook, todos los de Instagram tiene API.\n",
    "\n",
    "\n",
    "## Conexión a una API en Python\n",
    "\n",
    "En este ejemplo, extraeremos datos de peliculas de la API Open Movie Database u OMDB.\n",
    "\n",
    "Una vez más. utilizará la biblioteca `requests`. Importa `requests` y asignar la URL de interés a la variable url. Luego empaqueta y envía la solicitud a la URL, que describe su consulta API y captura la respuesta en una línea de código.\n",
    "\n",
    "Otro aspecto realmente interesante del paquete `requests` es que los objetos de Respuesta, como `r`, tienen un método asociado json, que es un decodificador JSON incorporado para cuando estamos tratando con datos JSON.\n",
    "\n",
    "Esto devuelve un diccionario y luego podemos imprimir todos los pares clave-valor pra verificar lo que extrajimos de la API OMBD."
   ]
  },
  {
   "cell_type": "code",
   "execution_count": 13,
   "id": "3c2ca029",
   "metadata": {},
   "outputs": [
    {
     "name": "stdout",
     "output_type": "stream",
     "text": [
      "Title: Hackers\n",
      "Year: 1995\n",
      "Rated: PG-13\n",
      "Released: 15 Sep 1995\n",
      "Runtime: 105 min\n",
      "Genre: Crime, Drama, Romance\n",
      "Director: Iain Softley\n",
      "Writer: Rafael Moreu\n",
      "Actors: Jonny Lee Miller, Angelina Jolie, Jesse Bradford\n",
      "Plot: Hackers are blamed for making a virus that will capsize five oil tankers.\n",
      "Language: English, Italian, Spanish, Japanese, Russian\n",
      "Country: United States\n",
      "Awards: N/A\n",
      "Poster: https://m.media-amazon.com/images/M/MV5BNmExMTkyYjItZTg0YS00NWYzLTkwMjItZWJiOWQ2M2ZkYjE4XkEyXkFqcGdeQXVyMTQxNzMzNDI@._V1_SX300.jpg\n",
      "Ratings: [{'Source': 'Internet Movie Database', 'Value': '6.2/10'}, {'Source': 'Rotten Tomatoes', 'Value': '31%'}, {'Source': 'Metacritic', 'Value': '46/100'}]\n",
      "Metascore: 46\n",
      "imdbRating: 6.2\n",
      "imdbVotes: 70,848\n",
      "imdbID: tt0113243\n",
      "Type: movie\n",
      "DVD: 24 Apr 2001\n",
      "BoxOffice: $7,563,728\n",
      "Production: N/A\n",
      "Website: N/A\n",
      "Response: True\n"
     ]
    }
   ],
   "source": [
    "import requests\n",
    "\n",
    "url = 'https://www.omdbapi.com/?t=Hackers&apikey=eb33fb85'  # Debo solicitar una apikey, Ej. --> ...&apikey=eb33fb85\n",
    "\n",
    "r = requests.get(url)\n",
    "\n",
    "json_data = r.json()\n",
    "\n",
    "for key, value in json_data.items():\n",
    "    print(key + ':', value)"
   ]
  },
  {
   "cell_type": "markdown",
   "id": "87c9f7ae",
   "metadata": {},
   "source": [
    "## ¿Qué era esa URL?\n",
    "\n",
    "Ahora, lo último que se discutirá es cómo la URL que usamos en realidad extrajo datos de la API. Para hacerlo, vamos a dividirlo en trozos.\n",
    "\n",
    "El `http` significa que estamos haciendo una solicitud HTTP.\n",
    "\n",
    "El `www.omdbapi.com` que estamos consultando la API OMDB.\n",
    "\n",
    "Luego está el `?t=hackers`, que es la parte realmente interesante. Esta cadena que comienza con un signo de interrogación se denomina cadena de consulta.\n",
    "\n",
    "Las cadenas de consulta son parte de URL que no necesariamente se ajustan a una estructura de ruta jerárquica convencional. Lo que sigue al signo de interrogación en la cadena de consulta es la consulta que estamos realizando a la API de OMBD.\n",
    "\n",
    "La consulta que acabamos de hacer fue simple: Pidió a la API que devolviera los datos sobre la película con el título (`t`) \"Hackers\". La `t` en la consulta representaba el título.\n",
    "\n",
    "\n",
    "## OMDb API\n",
    "\n",
    "Sabíamos que esta era la forma de realizar dicha consulta a partir de la documentación en la página de inicio de la API de OMDB.\n",
    "\n",
    "El \"USO\" aquí, afirma explicitamente que \"Envia todas las solicitudes de datos a \"`http://www.omdbapi.com/?`\" \n",
    "\n",
    "También tiene una tabla de parámetros de cadena de consulta que muestra cómo consultar un título en particular o una ID de película en particular.\n",
    "\n",
    "## Es una URL normal\n",
    "\n",
    "También vale la pena mencionar que no hay nada especial en esta URL, por lo que también puede navegar hasta ella en el navegador de su eleccion. Por lo general, se verá asi:\n",
    "\n",
    "<img src=\".\\img_3\\12.png\" width=\"1050px\" height=\"350px\">\n",
    "\n",
    "Pero usando una extensión de Chrome llamada `JSON Formatter` le dara una estructura (se visualizara) de una forma más entendible:\n",
    "\n",
    "<img src=\".\\img_3\\13.png\" width=\"850px\" height=\"350px\">"
   ]
  },
  {
   "cell_type": "markdown",
   "id": "f13de084",
   "metadata": {},
   "source": [
    "# La API de Twitter y la autenticación\n",
    "\n",
    "\n",
    "Como última inmersión profunda, transmitira datos desde la API de Twitter. Aprendera a filtrar los Tweets entrantes por palabra clave. Aprenderá sobre los principios de autenticación API y OAuth. También aprenderá los conceptos básicos del paquete `tweepy`, que muchas personas usan para interactuar con la API de Twitter.\n",
    "\n",
    "\n",
    "## Acceso a la API de Twitter\n",
    "\n",
    "Una de las primeras diferencias importantes entre la API de Twitter y todas las API que ha visto hasta ahora es que pudo acceder a todas las demás de forma anónima y Twitter requiere que tenga una cuenta.\n",
    "\n",
    "Para obtener acceso a la API de Twitter, es necesario crear una cuenta de Twitter.\n",
    "\n",
    "Inicie sesión en Twitter Apps y haga click en \"Crear  una nueva aplicación\"; necesitará aceptar una variedad de términos y condiciones aquí.\n",
    "\n",
    "\n",
    "Luego, vaya a su \"Claves y Acceso Tokens\" y copie su clave de API, su secreto de API, su token de acceso y el secreto de su token de acceso.\n",
    "\n",
    "Estas son las credenciales de autenticación que le permitirán acceder a la API de Twitter desde Python.\n",
    "\n",
    "<img src=\".\\img_3\\14.png\" width=\"850px\" height=\"350px\">\n",
    "\n",
    "\n",
    "## Twitter dispone de varias API\n",
    "\n",
    "Ahora es importante mencionar que Twitter tiene una serie de API.\n",
    "\n",
    "En primer lugar, tiene una API REST; No entraremos en los detalles sangrientos de las API REST aquí, pero diré dos cosas, una: REST es la abreviatura de Transferencia e Estado Representacional; dos: la API REST de Twitter permite al usuario \"leer y escribir datos de Twitter\". \n",
    "\n",
    "Para \"monitoriar o procesar Tweets en tiempo real\", es es para transmitir datos de Twitter, sin embargo, querremos usar la API de transmisión de Twitter.\n",
    "\n",
    "En particular, usaremos la transmisión pública, que la documentacion de la API de Twitter se define como \"flujos de datos públicos que fluyen a través de Twitter\".\n",
    "\n",
    "El Public Stream en sí contiene una serie de opciones. Como queremos leer y procesar tweets, querremo usar el GET API statuses/sample, que \"devuelve una pequeña muestra aleatoria de todos los estados públicos\".\n",
    "\n",
    "\n",
    "Si desea acceder absolutamente a \"Todos los estados públicos\", necesitaria usar la API Firehose de Twitter, que no está disponible públicamente y lo más probable es que le cueste un centavo.\n",
    "\n",
    "\n",
    "## Los tweets se devuelven en formato JSON\n",
    "\n",
    "Un último punto a tener en cuenta antes de comenzar a transmitir tweets: los tweets se devuelven a nosotros como JSON y contienen numerosos campos posibles.\n",
    "\n",
    "Consulte la guía de campo de twees de Twitter aquí.\n",
    "\n",
    "<img src=\".\\img_3\\15.png\" width=\"250px\" height=\"350px\">\n",
    "\n",
    "Puede obtener el texto del twet, el usuario, el idioma, la hora del tweet, entre muchos otros campos.\n",
    "\n",
    "\n",
    "## Usando Tweepy: Autenticación\n",
    "\n",
    "\n",
    "Para los tweet-streamers de Python por primera vez, generalmente recomiendo el paquete `tweepy`, que tiene un buen equilibrio de usabilidad y capacidad.\n",
    "\n",
    "**Transmitir**\n",
    "\n",
    "\n",
    "En primer lugar, necesitamos crear variables para almacenar nuestro token de acceso y secreto, además de nuestra clave y secreto de consumidor.\n",
    "\n",
    "\n",
    "Crear un Script:  `tweets.py`"
   ]
  },
  {
   "cell_type": "code",
   "execution_count": 2,
   "id": "a4d598b9",
   "metadata": {},
   "outputs": [
    {
     "name": "stdout",
     "output_type": "stream",
     "text": [
      "Collecting tweepy\n",
      "  Downloading tweepy-4.12.1-py3-none-any.whl (101 kB)\n",
      "     -------------------------------------- 101.6/101.6 kB 1.9 MB/s eta 0:00:00\n",
      "Collecting requests-oauthlib<2,>=1.2.0\n",
      "  Downloading requests_oauthlib-1.3.1-py2.py3-none-any.whl (23 kB)\n",
      "Requirement already satisfied: requests<3,>=2.27.0 in c:\\users\\fer_s\\anaconda3\\lib\\site-packages (from tweepy) (2.28.1)\n",
      "Collecting oauthlib<4,>=3.2.0\n",
      "  Downloading oauthlib-3.2.2-py3-none-any.whl (151 kB)\n",
      "     -------------------------------------- 151.7/151.7 kB 4.4 MB/s eta 0:00:00\n",
      "Requirement already satisfied: urllib3<1.27,>=1.21.1 in c:\\users\\fer_s\\anaconda3\\lib\\site-packages (from requests<3,>=2.27.0->tweepy) (1.26.11)\n",
      "Requirement already satisfied: certifi>=2017.4.17 in c:\\users\\fer_s\\anaconda3\\lib\\site-packages (from requests<3,>=2.27.0->tweepy) (2022.9.14)\n",
      "Requirement already satisfied: charset-normalizer<3,>=2 in c:\\users\\fer_s\\anaconda3\\lib\\site-packages (from requests<3,>=2.27.0->tweepy) (2.0.4)\n",
      "Requirement already satisfied: idna<4,>=2.5 in c:\\users\\fer_s\\anaconda3\\lib\\site-packages (from requests<3,>=2.27.0->tweepy) (3.3)\n",
      "Installing collected packages: oauthlib, requests-oauthlib, tweepy\n",
      "Successfully installed oauthlib-3.2.2 requests-oauthlib-1.3.1 tweepy-4.12.1\n",
      "Note: you may need to restart the kernel to use updated packages.\n"
     ]
    }
   ],
   "source": [
    "#pip install tweepy"
   ]
  },
  {
   "cell_type": "code",
   "execution_count": 4,
   "id": "f55f9c95",
   "metadata": {},
   "outputs": [],
   "source": [
    "import tweepy, json\n",
    "\n",
    "access_token = '...'\n",
    "access_token_secret = '...'\n",
    "consumer_key = '...'\n",
    "consumer_secret = '...'"
   ]
  },
  {
   "cell_type": "markdown",
   "id": "2c1d62cf",
   "metadata": {},
   "source": [
    "## Uso de Tweepy: flujo de tweets\n",
    "\n",
    "Para transmitir, creamos una instancia de la clase Strem de `tweepy`, pasando nuestra clave de consumidor, token de acceso y secreto de token de acceso.\n",
    "\n",
    "Luego puede transmitir tweets que contienen palabras clave de su elección aplicando el método de filtro (`.filter()`) al flujo de objetos.\n",
    "\n"
   ]
  },
  {
   "cell_type": "code",
   "execution_count": 5,
   "id": "b8166614",
   "metadata": {
    "collapsed": true
   },
   "outputs": [
    {
     "name": "stderr",
     "output_type": "stream",
     "text": [
      "Stream encountered HTTP error: 401\n",
      "HTTP error response text: <html>\\n<head>\\n<meta http-equiv=\"Content-Type\" content=\"text/html; charset=utf-8\"/>\\n<title>Error 401 Unauthorized</title>\n",
      "</head>\n",
      "<body>\n",
      "<h2>HTTP ERROR: 401</h2>\n",
      "<p>Problem accessing '/1.1/statuses/filter.json'. Reason:\n",
      "<pre>    Unauthorized</pre>\n",
      "</body>\n",
      "</html>\n",
      "\n",
      "Stream encountered HTTP error: 401\n",
      "HTTP error response text: <html>\\n<head>\\n<meta http-equiv=\"Content-Type\" content=\"text/html; charset=utf-8\"/>\\n<title>Error 401 Unauthorized</title>\n",
      "</head>\n",
      "<body>\n",
      "<h2>HTTP ERROR: 401</h2>\n",
      "<p>Problem accessing '/1.1/statuses/filter.json'. Reason:\n",
      "<pre>    Unauthorized</pre>\n",
      "</body>\n",
      "</html>\n",
      "\n"
     ]
    },
    {
     "ename": "KeyboardInterrupt",
     "evalue": "",
     "output_type": "error",
     "traceback": [
      "\u001b[1;31m---------------------------------------------------------------------------\u001b[0m",
      "\u001b[1;31mKeyboardInterrupt\u001b[0m                         Traceback (most recent call last)",
      "\u001b[1;32m~\\AppData\\Local\\Temp\\ipykernel_11204\\3467777383.py\u001b[0m in \u001b[0;36m<module>\u001b[1;34m\u001b[0m\n\u001b[0;32m      2\u001b[0m \u001b[0mstrem\u001b[0m \u001b[1;33m=\u001b[0m \u001b[0mtweepy\u001b[0m\u001b[1;33m.\u001b[0m\u001b[0mStream\u001b[0m\u001b[1;33m(\u001b[0m\u001b[0mconsumer_key\u001b[0m\u001b[1;33m,\u001b[0m \u001b[0mconsumer_key\u001b[0m\u001b[1;33m,\u001b[0m \u001b[0maccess_token\u001b[0m\u001b[1;33m,\u001b[0m \u001b[0maccess_token_secret\u001b[0m\u001b[1;33m)\u001b[0m\u001b[1;33m\u001b[0m\u001b[1;33m\u001b[0m\u001b[0m\n\u001b[0;32m      3\u001b[0m \u001b[1;33m\u001b[0m\u001b[0m\n\u001b[1;32m----> 4\u001b[1;33m \u001b[0mstrem\u001b[0m\u001b[1;33m.\u001b[0m\u001b[0mfilter\u001b[0m\u001b[1;33m(\u001b[0m\u001b[0mtrack\u001b[0m\u001b[1;33m=\u001b[0m\u001b[1;33m[\u001b[0m\u001b[1;34m'apples'\u001b[0m\u001b[1;33m,\u001b[0m \u001b[1;34m'oranges'\u001b[0m\u001b[1;33m]\u001b[0m\u001b[1;33m)\u001b[0m\u001b[1;33m\u001b[0m\u001b[1;33m\u001b[0m\u001b[0m\n\u001b[0m",
      "\u001b[1;32m~\\anaconda3\\lib\\site-packages\\tweepy\\streaming.py\u001b[0m in \u001b[0;36mfilter\u001b[1;34m(self, follow, track, locations, filter_level, languages, stall_warnings, threaded)\u001b[0m\n\u001b[0;32m    383\u001b[0m                                           body=body)\n\u001b[0;32m    384\u001b[0m         \u001b[1;32melse\u001b[0m\u001b[1;33m:\u001b[0m\u001b[1;33m\u001b[0m\u001b[1;33m\u001b[0m\u001b[0m\n\u001b[1;32m--> 385\u001b[1;33m             \u001b[0mself\u001b[0m\u001b[1;33m.\u001b[0m\u001b[0m_connect\u001b[0m\u001b[1;33m(\u001b[0m\u001b[0mmethod\u001b[0m\u001b[1;33m,\u001b[0m \u001b[0mendpoint\u001b[0m\u001b[1;33m,\u001b[0m \u001b[0mheaders\u001b[0m\u001b[1;33m=\u001b[0m\u001b[0mheaders\u001b[0m\u001b[1;33m,\u001b[0m \u001b[0mbody\u001b[0m\u001b[1;33m=\u001b[0m\u001b[0mbody\u001b[0m\u001b[1;33m)\u001b[0m\u001b[1;33m\u001b[0m\u001b[1;33m\u001b[0m\u001b[0m\n\u001b[0m\u001b[0;32m    386\u001b[0m \u001b[1;33m\u001b[0m\u001b[0m\n\u001b[0;32m    387\u001b[0m     \u001b[1;32mdef\u001b[0m \u001b[0msample\u001b[0m\u001b[1;33m(\u001b[0m\u001b[0mself\u001b[0m\u001b[1;33m,\u001b[0m \u001b[1;33m*\u001b[0m\u001b[1;33m,\u001b[0m \u001b[0mlanguages\u001b[0m\u001b[1;33m=\u001b[0m\u001b[1;32mNone\u001b[0m\u001b[1;33m,\u001b[0m \u001b[0mstall_warnings\u001b[0m\u001b[1;33m=\u001b[0m\u001b[1;32mFalse\u001b[0m\u001b[1;33m,\u001b[0m \u001b[0mthreaded\u001b[0m\u001b[1;33m=\u001b[0m\u001b[1;32mFalse\u001b[0m\u001b[1;33m)\u001b[0m\u001b[1;33m:\u001b[0m\u001b[1;33m\u001b[0m\u001b[1;33m\u001b[0m\u001b[0m\n",
      "\u001b[1;32m~\\anaconda3\\lib\\site-packages\\tweepy\\streaming.py\u001b[0m in \u001b[0;36m_connect\u001b[1;34m(self, method, endpoint, **kwargs)\u001b[0m\n\u001b[0;32m    290\u001b[0m                       self.access_token, self.access_token_secret)\n\u001b[0;32m    291\u001b[0m         \u001b[0murl\u001b[0m \u001b[1;33m=\u001b[0m \u001b[1;34mf\"https://stream.twitter.com/1.1/{endpoint}.json\"\u001b[0m\u001b[1;33m\u001b[0m\u001b[1;33m\u001b[0m\u001b[0m\n\u001b[1;32m--> 292\u001b[1;33m         \u001b[0msuper\u001b[0m\u001b[1;33m(\u001b[0m\u001b[1;33m)\u001b[0m\u001b[1;33m.\u001b[0m\u001b[0m_connect\u001b[0m\u001b[1;33m(\u001b[0m\u001b[0mmethod\u001b[0m\u001b[1;33m,\u001b[0m \u001b[0murl\u001b[0m\u001b[1;33m,\u001b[0m \u001b[0mauth\u001b[0m\u001b[1;33m=\u001b[0m\u001b[0mauth\u001b[0m\u001b[1;33m,\u001b[0m \u001b[0mtimeout\u001b[0m\u001b[1;33m=\u001b[0m\u001b[1;36m90\u001b[0m\u001b[1;33m,\u001b[0m \u001b[1;33m**\u001b[0m\u001b[0mkwargs\u001b[0m\u001b[1;33m)\u001b[0m\u001b[1;33m\u001b[0m\u001b[1;33m\u001b[0m\u001b[0m\n\u001b[0m\u001b[0;32m    293\u001b[0m \u001b[1;33m\u001b[0m\u001b[0m\n\u001b[0;32m    294\u001b[0m     def filter(self, *, follow=None, track=None, locations=None,\n",
      "\u001b[1;32m~\\anaconda3\\lib\\site-packages\\tweepy\\streaming.py\u001b[0m in \u001b[0;36m_connect\u001b[1;34m(self, method, url, auth, params, headers, body, timeout)\u001b[0m\n\u001b[0;32m    118\u001b[0m                                     \u001b[0mhttp_error_wait\u001b[0m \u001b[1;33m=\u001b[0m \u001b[0mhttp_429_error_wait_start\u001b[0m\u001b[1;33m\u001b[0m\u001b[1;33m\u001b[0m\u001b[0m\n\u001b[0;32m    119\u001b[0m \u001b[1;33m\u001b[0m\u001b[0m\n\u001b[1;32m--> 120\u001b[1;33m                             \u001b[0msleep\u001b[0m\u001b[1;33m(\u001b[0m\u001b[0mhttp_error_wait\u001b[0m\u001b[1;33m)\u001b[0m\u001b[1;33m\u001b[0m\u001b[1;33m\u001b[0m\u001b[0m\n\u001b[0m\u001b[0;32m    121\u001b[0m \u001b[1;33m\u001b[0m\u001b[0m\n\u001b[0;32m    122\u001b[0m                             \u001b[0mhttp_error_wait\u001b[0m \u001b[1;33m*=\u001b[0m \u001b[1;36m2\u001b[0m\u001b[1;33m\u001b[0m\u001b[1;33m\u001b[0m\u001b[0m\n",
      "\u001b[1;31mKeyboardInterrupt\u001b[0m: "
     ]
    }
   ],
   "source": [
    "# Crear objeto streaming\n",
    "strem = tweepy.Stream(consumer_key, consumer_key, access_token, access_token_secret)\n",
    "\n",
    "strem.filter(track=['apples', 'oranges'])"
   ]
  },
  {
   "cell_type": "markdown",
   "id": "6ef22552",
   "metadata": {},
   "source": [
    "## Ejercicio de extraccion de API de Tweeter"
   ]
  },
  {
   "cell_type": "code",
   "execution_count": null,
   "id": "b61f941d",
   "metadata": {},
   "outputs": [],
   "source": [
    "# Cree su Streamobjeto con las credenciales dadas.\n",
    "# Filtre su variable Stream por las palabras clave \"clinton\", \"trump\", \"sanders\"y \"cruz\".\n",
    "\n",
    "\n",
    "# Store credentials in relevant variables\n",
    "consumer_key = \"nZ6EA0FxZ293SxGNg8g8aP0HM\"\n",
    "consumer_secret = \"fJGEodwe3KiKUnsYJC3VRndj7jevVvXbK2D5EiJ2nehafRgA6i\"\n",
    "access_token = \"1092294848-aHN7DcRP9B4VMTQIhwqOYiB14YkW92fFO8k8EPy\"\n",
    "access_token_secret = \"X4dHmhPfaksHcQ7SCbmZa2oYBBVSD2g8uIHXsp5CTaksx\"\n",
    "\n",
    "# Create your Stream object with credentials\n",
    "stream = tweepy.Stream(consumer_key, consumer_secret, access_token, access_token_secret)\n",
    "\n",
    "# Filter your Stream variable\n",
    "stream.filter([\"clinton\",\"trump\",\"sanders\",\"cruz\"])\n",
    "\n",
    "\n",
    "# ______\n",
    "\n",
    "\n",
    "# Ahora que tiene sus datos de Twitter ubicados localmente en un archivo de texto, ¡es hora de explorarlos!\n",
    "\n",
    "# Asigne el nombre de archivo 'tweets.txt'a la variable tweets_data_path.\n",
    "# Inicialice tweets_data como una lista vacía para almacenar los tweets.\n",
    "# Dentro del ciclo fro iniciado por for line in tweets_file:, cargue cada tweet en una variable tweet, usando\n",
    "# json.loads(), luego agréguelo tweeta tweets_datausando el método append().\n",
    "# Presiona enviar y revisa las claves del primer diccionario de tweets impreso en el shell.\n",
    "\n",
    "# Import package\n",
    "import json\n",
    "\n",
    "# String of path to file: tweets_data_path\n",
    "\n",
    "tweets_data_path = 'tweets.txt'\n",
    "# Initialize empty list to store tweets: tweets_data\n",
    "tweets_data = []\n",
    "\n",
    "# Open connection to file\n",
    "tweets_file = open(tweets_data_path, \"r\")\n",
    "\n",
    "# Read in tweets and store in list: tweets_data\n",
    "for line in tweets_file:\n",
    "    tweet = json.loads(line)\n",
    "    tweets_data.append(tweet)\n",
    "\n",
    "# Close connection to file\n",
    "tweets_file.close()\n",
    "\n",
    "# Print the keys of the first tweet dict\n",
    "print(tweets_data[0].keys())\n",
    "\n",
    "\n",
    "# __________________________\n",
    "\n",
    "\n",
    "# Ahora tienes los datos de Twitter en una lista de diccionarios tweets_data, donde cada diccionario corresponde a\n",
    "# un solo tweet. A continuación, extraerá el texto y el idioma de cada tweet.\n",
    "\n",
    "# Úselo pd.DataFrame()para construir un DataFrame de textos e idiomas de tweets; para hacerlo, \n",
    "# el primer argumento debe ser tweets_data, una lista de diccionarios. El segundo argumento pd.DataFrame()\n",
    "# es una lista de las claves que desea tener como columnas. Asigne el resultado de la pd.DataFrame() llamada a df.\n",
    "\n",
    "#Imprime el encabezado del DataFrame.\n",
    "\n",
    "# Import package\n",
    "import pandas as pd\n",
    "\n",
    "# Build DataFrame of tweet texts and languages\n",
    "df = pd.DataFrame(tweets_data, columns=['text', 'lang'])\n",
    "\n",
    "# Print head of DataFrame\n",
    "print(df.head())"
   ]
  },
  {
   "cell_type": "code",
   "execution_count": null,
   "id": "d4a78b87",
   "metadata": {},
   "outputs": [],
   "source": [
    "# Un poco de análisis de texto de Twitter\n",
    "# Ahora que tiene configurado su DataFrame de tweets, va a hacer un poco de análisis de texto para contar cuántos \n",
    "# tweets contienen las palabras 'clinton', 'sanders','trump' y 'cruz'. En el código previo al ejercicio, \n",
    "# hemos definido la siguiente función word_in_text(), que le indicará si el primer argumento (una palabra) \n",
    "# aparece dentro del segundo argumento (un tweet).\n",
    "\n",
    "import re\n",
    "\n",
    "def word_in_text(word, text):\n",
    "    word = word.lower()\n",
    "    text = text.lower()\n",
    "    match = re.search(word, text)\n",
    "\n",
    "    if match:\n",
    "        return True\n",
    "    return False\n",
    "\n",
    "# Ejercicio: \n",
    "# Dentro del forciclo for index, row in df.iterrows():, el código actualmente aumenta el valor de clinton cada 1 vez \n",
    "# que se encuentra un tweet (fila de texto) que menciona a 'Clinton'; completa el código para que suceda lo mismo con trump, \n",
    "# sandersy cruz.\n",
    "\n",
    "# Initialize list to store tweet counts\n",
    "[clinton, trump, sanders, cruz] = [0, 0, 0, 0]\n",
    "\n",
    "# Iterate through df, counting the number of tweets in which\n",
    "# each candidate is mentioned\n",
    "for index, row in df.iterrows():\n",
    "    clinton += word_in_text('clinton', row['text'])\n",
    "    trump += word_in_text('trump', row['text'])\n",
    "    sanders += word_in_text('sanders', row['text'])\n",
    "    cruz += word_in_text('cruz', row['text'])"
   ]
  },
  {
   "cell_type": "markdown",
   "id": "4321b399",
   "metadata": {},
   "source": [
    "<h1 style='background:#000000; color:#FFFFFF;height: 55px;padding-top: 13px;font-size: 25px;border-style: double;'><center>Curso: Limpieza de datos en Python</center></h1><a name=\"LimpiezadedatosenPython\"></a>\n",
    "\n",
    "\n",
    "# Restricciones de tipos de datos\n",
    "\n",
    "## ¿Por qué hay que limpiar los datos?\n",
    "\n",
    "En el flujo de trabajo típico de ciencia de datos, generalmente accedemos a nuestro datos sin procesar, los exploramos y procesamos, desarrollamos información utilizando visualizaciones o modelos predictivos y, finalmente, reportar esta informació con paneles o informes.\n",
    "\n",
    "<img src=\".\\img\\55.png\" width=\"450px\" height=\"350px\">\n",
    "\n",
    "Los datos sucions pueden aparecer debido a vlaores duplicados, faltas de ortografía, errores de análisis del tipo de datos y sistemas heredados.\n",
    "\n",
    "\n",
    "Sin asegurarse de que los datos se limpian correctamente en la exploración y fase de procesamiento, seguramente comprometeremos los conocimientos y los informes generados posteriormente.\n",
    "\n",
    "<img src=\".\\img\\56.png\" width=\"550px\" height=\"350px\">\n",
    "\n",
    "Como dice el viejo adagio, basura adentro, basura afuera.\n",
    "\n",
    "\n",
    "## Restricciones del tipo de datos\n",
    "\n",
    "Cuando se trabaja con datos, hay varios tipos que podemos encontrar en el camino. Podriamos estar trabajando con datos de texto, enteros, decimales, fecha, códigos postales y otros.\n",
    "\n",
    "Afortunadamente, Python tiene objetos de tipos de datos especificos para varios tipos de datos con los que probablemente ya esté familiarizado. \n",
    "\n",
    "\n",
    "<img src=\".\\img\\57.png\" width=\"550px\" height=\"350px\">\n",
    "\n",
    "Esto hace que sea mucho más fácil manipular estos diversos tipos de datos en Python. \n",
    "\n",
    "Como tal, antes de prepararnos para analizar y extraer información de nuestros datos, debemos asegurarnos de que nuestras variables tengan los tipos de datos correctos, de los contrario corremos el riesgo de comprometer nuestro análisis.\n",
    "\n",
    "## Cadenas a Enteros\n",
    "\n",
    "Este es el encabezado de un DataFrame que contiene los ingresos generadors y la cantidad de artículos vendido para un pedido de ventas.\n",
    "\n",
    "Queremos calcular los ingresos totales generados por toas las órdenes de venta. Como puede ver, la columna tiene el signo de dólar en el lado derecho."
   ]
  },
  {
   "cell_type": "code",
   "execution_count": 58,
   "id": "3cd55a92",
   "metadata": {},
   "outputs": [
    {
     "data": {
      "text/html": [
       "<div>\n",
       "<style scoped>\n",
       "    .dataframe tbody tr th:only-of-type {\n",
       "        vertical-align: middle;\n",
       "    }\n",
       "\n",
       "    .dataframe tbody tr th {\n",
       "        vertical-align: top;\n",
       "    }\n",
       "\n",
       "    .dataframe thead th {\n",
       "        text-align: right;\n",
       "    }\n",
       "</style>\n",
       "<table border=\"1\" class=\"dataframe\">\n",
       "  <thead>\n",
       "    <tr style=\"text-align: right;\">\n",
       "      <th></th>\n",
       "      <th>SalesOrderID</th>\n",
       "      <th>Revenue</th>\n",
       "      <th>Quantity</th>\n",
       "    </tr>\n",
       "  </thead>\n",
       "  <tbody>\n",
       "    <tr>\n",
       "      <th>0</th>\n",
       "      <td>43659</td>\n",
       "      <td>23156$</td>\n",
       "      <td>12</td>\n",
       "    </tr>\n",
       "    <tr>\n",
       "      <th>1</th>\n",
       "      <td>43660</td>\n",
       "      <td>1457$</td>\n",
       "      <td>2</td>\n",
       "    </tr>\n",
       "  </tbody>\n",
       "</table>\n",
       "</div>"
      ],
      "text/plain": [
       "   SalesOrderID Revenue  Quantity\n",
       "0         43659  23156$        12\n",
       "1         43660   1457$         2"
      ]
     },
     "execution_count": 58,
     "metadata": {},
     "output_type": "execute_result"
    }
   ],
   "source": [
    "diccionario = {'SalesOrderID':[43659,43660],'Revenue':['23156$','1457$'], 'Quantity':[12,2]}\n",
    "sales = pd.DataFrame(diccionario)\n",
    "sales.head()"
   ]
  },
  {
   "cell_type": "markdown",
   "id": "8df61b9f",
   "metadata": {},
   "source": [
    "Una inspección detallada de tipos de datos de la columna DataFrame utilizando el atributo `.dtypes` devuelve `object` para la columna de Ingresos, que es lo que pandas usa para almacenar cadenas."
   ]
  },
  {
   "cell_type": "code",
   "execution_count": 28,
   "id": "11acdc60",
   "metadata": {
    "scrolled": true
   },
   "outputs": [
    {
     "data": {
      "text/plain": [
       "SalesOrderID     int64\n",
       "Revenue         object\n",
       "Quantity         int64\n",
       "dtype: object"
      ]
     },
     "execution_count": 28,
     "metadata": {},
     "output_type": "execute_result"
    }
   ],
   "source": [
    "sales.dtypes"
   ]
  },
  {
   "cell_type": "markdown",
   "id": "6c0f9590",
   "metadata": {},
   "source": [
    "También podemos comprobar los tipos de datos, así como el número de valores faltantes por columna de un DataFrame, usando el método `.info()`.\n"
   ]
  },
  {
   "cell_type": "code",
   "execution_count": 42,
   "id": "5d4b0c29",
   "metadata": {},
   "outputs": [
    {
     "name": "stdout",
     "output_type": "stream",
     "text": [
      "<class 'pandas.core.frame.DataFrame'>\n",
      "RangeIndex: 2 entries, 0 to 1\n",
      "Data columns (total 3 columns):\n",
      " #   Column        Non-Null Count  Dtype \n",
      "---  ------        --------------  ----- \n",
      " 0   SalesOrderID  2 non-null      int64 \n",
      " 1   Revenue       2 non-null      object\n",
      " 2   Quantity      2 non-null      int64 \n",
      "dtypes: int64(2), object(1)\n",
      "memory usage: 176.0+ bytes\n"
     ]
    }
   ],
   "source": [
    "sales.info()"
   ]
  },
  {
   "cell_type": "markdown",
   "id": "40aa76cb",
   "metadata": {},
   "source": [
    "Dado que la columna de Ingresos es una cadena, la suma de todas las ventas devolveran una grana cadena concatenada que contiene la cadena de cada fila."
   ]
  },
  {
   "cell_type": "code",
   "execution_count": 44,
   "id": "f0efa2de",
   "metadata": {},
   "outputs": [
    {
     "data": {
      "text/plain": [
       "'23156$1457$'"
      ]
     },
     "execution_count": 44,
     "metadata": {},
     "output_type": "execute_result"
    }
   ],
   "source": [
    "sales.Revenue.sum()"
   ]
  },
  {
   "cell_type": "markdown",
   "id": "d3474c9e",
   "metadata": {},
   "source": [
    "Para solucionar esto, primero debemos eliminar el signo `$` de la cadena para que pandas pueda convertir las cadenas en números sin error.\n",
    "\n",
    "Hacemos esto con el método `.str.strip()`, mientras especificamos la cadeba que queremos eliminar como argumento, que en este caso es el signo de dólar."
   ]
  },
  {
   "cell_type": "code",
   "execution_count": 59,
   "id": "3b1bf4f0",
   "metadata": {
    "scrolled": true
   },
   "outputs": [
    {
     "data": {
      "text/html": [
       "<div>\n",
       "<style scoped>\n",
       "    .dataframe tbody tr th:only-of-type {\n",
       "        vertical-align: middle;\n",
       "    }\n",
       "\n",
       "    .dataframe tbody tr th {\n",
       "        vertical-align: top;\n",
       "    }\n",
       "\n",
       "    .dataframe thead th {\n",
       "        text-align: right;\n",
       "    }\n",
       "</style>\n",
       "<table border=\"1\" class=\"dataframe\">\n",
       "  <thead>\n",
       "    <tr style=\"text-align: right;\">\n",
       "      <th></th>\n",
       "      <th>SalesOrderID</th>\n",
       "      <th>Revenue</th>\n",
       "      <th>Quantity</th>\n",
       "    </tr>\n",
       "  </thead>\n",
       "  <tbody>\n",
       "    <tr>\n",
       "      <th>0</th>\n",
       "      <td>43659</td>\n",
       "      <td>23156</td>\n",
       "      <td>12</td>\n",
       "    </tr>\n",
       "    <tr>\n",
       "      <th>1</th>\n",
       "      <td>43660</td>\n",
       "      <td>1457</td>\n",
       "      <td>2</td>\n",
       "    </tr>\n",
       "  </tbody>\n",
       "</table>\n",
       "</div>"
      ],
      "text/plain": [
       "   SalesOrderID Revenue  Quantity\n",
       "0         43659   23156        12\n",
       "1         43660    1457         2"
      ]
     },
     "execution_count": 59,
     "metadata": {},
     "output_type": "execute_result"
    }
   ],
   "source": [
    "# Remover string especifico de valores de columna\n",
    "\n",
    "sales.Revenue = sales['Revenue'].str.strip('$')\n",
    "sales.head()"
   ]
  },
  {
   "cell_type": "markdown",
   "id": "f450e1aa",
   "metadata": {},
   "source": [
    "Dado que nuestros valores en dólares no contienen decimales, convertimos la columna Ingresos a un entero utilizando el metodo `.astype()`, especificando el tipo de dato deseado como argumento. Si nuestros valores de ingresos hubieran sido decimales, habríamos convertido la columna Ingresos en flotante.\n",
    "\n",
    "Podemos asegurarnos de que la columna ingresos ahora sea un número entero usando la declaración de afirmación, que toma una condición como entrada, ya que no devuelve nada si se cumple esa condición y un error si no se cumple."
   ]
  },
  {
   "cell_type": "code",
   "execution_count": 67,
   "id": "e98b6759",
   "metadata": {},
   "outputs": [],
   "source": [
    "# Cambiar el tipo de datos de los valores de una columna y comprobar:\n",
    "\n",
    "sales['Revenue'] = sales['Revenue'].astype(np.int64)  # o .astype('int')\n",
    "assert sales['Revenue'].dtype == 'int64'"
   ]
  },
  {
   "cell_type": "code",
   "execution_count": 69,
   "id": "3869809a",
   "metadata": {},
   "outputs": [
    {
     "name": "stdout",
     "output_type": "stream",
     "text": [
      "<class 'pandas.core.frame.DataFrame'>\n",
      "RangeIndex: 2 entries, 0 to 1\n",
      "Data columns (total 3 columns):\n",
      " #   Column        Non-Null Count  Dtype\n",
      "---  ------        --------------  -----\n",
      " 0   SalesOrderID  2 non-null      int64\n",
      " 1   Revenue       2 non-null      int64\n",
      " 2   Quantity      2 non-null      int64\n",
      "dtypes: int64(3)\n",
      "memory usage: 176.0 bytes\n"
     ]
    }
   ],
   "source": [
    "sales.info()"
   ]
  },
  {
   "cell_type": "markdown",
   "id": "b1e39689",
   "metadata": {},
   "source": [
    "## Numérico o categórico?\n",
    "\n",
    "Un tipo común de datos parece númerico, pero en realidad representa categorías con un conjunto finito de categorías posibles.\n",
    "\n",
    "Esto se llama datos categóricos.\n",
    "\n",
    "<img src=\".\\img\\58.png\" width=\"250px\" height=\"350px\">\n",
    "\n",
    "Aquí tenemos una columna de estadp civil, que está representada por 0 para nunca casados, 1 para casados, 2 para separados y 3 para divorciados.\n",
    "\n",
    "Sin embargo, se importará de tipo entero, lo que podria dar lugar a resultados engañosos al tratar de extrar algunos resúmenes estadísticos.\n",
    "\n",
    "<img src=\".\\img\\59.png\" width=\"200px\" height=\"350px\">\n",
    "\n",
    "Podemos resolver esto usando el mismo método `astype()`, pero esta vez especificando el tipo de datos de categoría.\n",
    "\n",
    "**`df['marriage_status'] = df['marriage_status'].astype('category')`**\n",
    "\n",
    "**`df.describe()`**\n",
    "\n",
    "<img src=\".\\img\\60.png\" width=\"250px\" height=\"350px\">\n",
    "\n",
    "Al aplicar el describe nuevamente, vemos que las estadísticas de resumen son mucho más alineadas con el de una variable categórica, discutiendo el número de observaciones, número de valores únicos, categoria más frecuente en lugar de media y desviación estándar."
   ]
  },
  {
   "cell_type": "markdown",
   "id": "7258b0ba",
   "metadata": {},
   "source": [
    "# Restricciones de rango de datos\n",
    "\n",
    "## Motivacion\n",
    "\n",
    "Imagine que tenemos un conjunto de datos de películas con su respectiva calificación promedio de un servicio de transmisión. La calificación puede ser cualquier número entero entre 1 y 5.\n",
    "\n",
    "Desdués de crear un histograma con matplotlib, vemos que hay algunas peliculas con una calificación promedio de 6, que está muy por encima del rango permitido.\n",
    "\n",
    "Lo más probale es que se trare de un error en la recopilación o en análisis de datos, donde una variable está mucho más allá de su rango y tratarlo es esencial para tener un análisi preciso.\n",
    "\n",
    "<img src=\".\\img\\61.png\" width=\"550px\" height=\"350px\">\n",
    "\n",
    "\n",
    "---\n",
    "\n",
    "Aqui hay otro ejemplo, donde vemos fecha de suscripción en el futuro para un servicio. Intrínsecamente esto no tiene ningún sentido, ya que no puede suscribirse a un servicio en el futuro, pero estos errores existen debido a un error técnico o humano.\n",
    "\n",
    "<img src=\".\\img\\62.png\" width=\"550px\" height=\"350px\">\n",
    "\n",
    "\n",
    "Usamos la función **`.date.today()`** del paquete `datetime` para obtener el día de hoy. y filtramos el conjunto de datos por cualquier fecha de suscripción posterior a la fecha de hoy. Necesitamos prestar atención al rango de nuestros datos."
   ]
  },
  {
   "cell_type": "markdown",
   "id": "03546c84",
   "metadata": {},
   "source": [
    "## ¿Cómo tratar los datos fuera de rango?\n",
    "\n",
    "\n",
    "Hay una variedad de opciones para manejar datos fuera de rango. La opción más simple es soltar los datos.\n",
    "\n",
    "Sin embargo, dependiendo del tamaño de sus datos fuera de rango, podría estar perdiendo información esencial.\n",
    "\n",
    "como regla general, solo suelte datos cuando una pequeña proporción de su conjunto de datos se vea afectada por valores fuera de rango, sin embargo, realmente necesita comprender su conjunto de datos antes de decidir descartar valores.\n",
    "\n",
    "\n",
    "Otra opción sería establecer mínimos o máximos personalizados para sus columnas. También podríamos configurar los datos como perdidos e imputarlos.\n",
    "\n",
    "También, podriamos, dependiendo de las suposiciones comerciales detrás de nuestros datos, asignar un valor personalizado para cualquier valor de nuestros datos que vaya más allá de un cierto rango.\n",
    "\n",
    "## Ejemplo de películas\n",
    "\n",
    "Primero aislamos las peliculas con calificaciones superiores a 5. Ahora, si estos valores afectan a un pequeño conjunto de nuestros datos, podemos descartarlos.\n",
    "\n",
    "\n",
    "<img src=\".\\img\\63.png\" width=\"350px\" height=\"350px\">\n",
    "\n",
    "Podemos colocarlos de dos maneras: podemos crear un nuevo DataFrame de Movies filtrada, donde solo mantenemos valores de `avg_rating` inferiores o iguales a 5.\n",
    "\n",
    "<img src=\".\\img\\64.png\" width=\"350px\" height=\"350px\">\n",
    "\n",
    "O suelte los valores usando el método `.drop`. El método `.drop()` toma como argumentos los índices de fila de las películas para las que `avg_rating` es superior a 5.\n",
    "\n",
    "Establecemos el argumento `inplace` en `True` para que los valores se coloquen en su lugar y no tengamos que crear una nueva columna.\n",
    "\n",
    "\n",
    "<img src=\".\\img\\65.png\" width=\"550px\" height=\"350px\">\n",
    "\n",
    "Podemos asegurarlos de que esto se establezca utilizando una declaración de afirmación que comprueba si el máximo de `avg_rating` es inferior o igual a 5.\n",
    "\n",
    "<img src=\".\\img\\66.png\" width=\"350px\" height=\"350px\">\n",
    "\n",
    "\n",
    "\n",
    "Dependiendo de las suposiciones detrás de nuestros datos, también podemos cambiar los valores fuera de rango a un límite estricto. Por ejemplo, aquí estamos configurando cualquier valor de columna `avg_rating` en 5 si va más allá (Es decir que si tengo un valor 6 en rating, lo bajo a 5).\n",
    "\n",
    "Podemos hacer esto usando el método `.loc`, que devuelve todas las celdas que se ajustan a un índice de fila y columna personalizado.\n",
    "\n",
    "Toma como primero argumento el índice de la fila, o aquí todas las instancias de `avg_rating` por encima de 5 y como segundo argumento el índice de la columna, que aquí es la columna `avg_rating`.\n",
    "\n",
    "**`movies.loc[movies['avg_rating'] > 5, 'avg_rating'] = 5`**\n",
    "\n",
    "Una vez más, podemos asegurarnos de que este cambio se realizó mediando una declaración de afirmación.\n",
    "\n",
    "**`assert movies['avg_rating'].max() <= 5`**"
   ]
  },
  {
   "cell_type": "markdown",
   "id": "3e21fd29",
   "metadata": {},
   "source": [
    "## Ejemplo de rango de Fechas.\n",
    "\n",
    "\n",
    "Echemos otro vistazo al ejemplo del intervalo de fechas mencionado anteriormente, donde tuvimos suscripciones en el futuro.\n",
    "\n",
    "Primero observamos los tipos de datos de la columna con el atributo `.dtypes`. Podemos confirmar que la columna de `sbscribe_date` es un objeto y no un objeto de fecha o fecha y hora.\n",
    "\n",
    "<img src=\".\\img\\67.png\" width=\"250px\" height=\"350px\">\n",
    "\n",
    "Para comparar objetos pandas con una fecha, el primer paso es convertirlo en otra fecha.\n",
    "\n",
    "Lo hacemos convirtiéndolo primero en una fecha y hora de objeto pandas con la función `to_datetime` de pandas, que toma como argumento la columna que queremos convertir.\n",
    "\n",
    "Luego necesitamos convertir el objeto de fecha y hora en una fecha. Esta conversión se realiza agregando `.dt.date` al código. \n",
    "\n",
    "**`user_signups['subscription_date'] = pd.to_datetime(user_signups['subscription_date']).dt.date`**\n",
    "\n",
    "\n",
    "**¿Podríamos haber convertido de un objeto directament a una fecha, sin la conversión de fecha y hora de pandas en el medio?**\n",
    "\n",
    "**Si**. Pero tendríamos que proporcionar información sobre el formato de la fecha como una cadena, por lo que es igual de fácil hacerlo de esta manera. \n",
    "\n",
    "---\n",
    "\n",
    "Ahora que la columna es una fecha, podemos tratarla de varias maneras. Primero creamos una variable `today_date` usando la función fecha y hora `dt.date.today()`, que nos permite almacenar la fecha de hoy.\n",
    "\n",
    "Entonces podemos soltar las filas con exceso de fechas (fecha que aun no llegan), de forma similar a como lo hicimos en el ejemplo de calificación promedio, o reemplace los valores excedente con la fecha de hoy.\n",
    "\n",
    "En ambos casos podemos usar la declaración de afirmacion para verificar si nuestro tratamiento salió bien,comparando el valor máximo en la columna `subscribe_date`. Sin embargo, asegúrese de encadenarlo con el método `.date` para devolver una fecha en lugar de una marca de tiempo.\n",
    "\n",
    "<img src=\".\\img\\68.png\" width=\"850px\" height=\"350px\">\n",
    "\n"
   ]
  },
  {
   "cell_type": "markdown",
   "id": "8a4b11bf",
   "metadata": {},
   "source": [
    "# Restricciones de unicidad\n",
    "\n",
    "## ¿Qué son los valores duplicados?\n",
    "\n",
    "Los valores duplicados se pueden diagnosticar cuando tenemos exactamente la misma información repetida en varias filas, para algunas o todas las columnas en nuestro DataFrame.\n",
    "\n",
    "En este ejempo, DataFrame que contiene los nombres, la direccion, la altura y peso de los individuos, las filas presentadas tiene valores idénticos en todas las columnas.\n",
    "\n",
    "<img src=\".\\img\\69.png\" width=\"550px\" height=\"350px\">\n",
    "\n",
    "En este, hay valores duplicados para todas las columnas, excepto la columna de altura: Lo que nos lleva a pensar que es más probable que sea un error de entrada de datos o de una persona real.\n",
    "\n",
    "<img src=\".\\img\\70.png\" width=\"550px\" height=\"350px\">\n",
    "\n",
    "## ¿Por qué se producen?\n",
    "\n",
    "Además de la entrada de datos y los errores humanos mencionado, los datos duplicados también pueden surgir debido a errores de diseño, ya sea en los procesos comerciales o en las canalizaciones de datos.\n",
    "\n",
    "Si embargo, la mayoria de las veces surgen los actos necesario de unir y consolidación de datos de varios recursos, que podrían retener valores duplicados. \n",
    "\n",
    "<img src=\".\\img\\71.png\" width=\"750px\" height=\"350px\">\n",
    "\n",
    "\n",
    "## ¿Cómo encontrar valores duplicados?\n",
    "\n",
    "En este ejemplo, estamos trabajando con una versión más grande de los datos de altura y peso vistos anteriormente visto.\n",
    "\n",
    "<img src=\".\\img\\72.png\" width=\"550px\" height=\"350px\">\n",
    "\n",
    "Podemos encontrar duplicados en un DataFrame usando el método `.duplicated()`\n",
    "\n",
    "**`duplicates = height_weight.duplicated()`**\n",
    "\n",
    "**`print(duplicates)`**\n",
    "\n",
    "<img src=\".\\img\\73.png\" width=\"450px\" height=\"350px\">\n",
    "\n",
    "Devuelve una serie de valores booleanos que son True para valores duplicados y False para valores no duplicados.\n",
    "\n",
    "Podemos ver exactamente qué filas se ven afectadas al usar corchetes como tales.\n",
    "\n",
    "**`duplicates = height_weight.duplicated()`**\n",
    "\n",
    "**`height_weight[duplicates]`**\n",
    "\n",
    "<img src=\".\\img\\74.png\" width=\"550px\" height=\"350px\">\n",
    "\n",
    "Sin embargo, usar `.duplicated()` sin jugar con los argumentos del método puede dar lugar a resultados engañosos, ya que se requiere que todas las columnas tengan valores duplicados de forma predeterminada, todos los valores duplicados se marcan como verdaderos excepto la primera aparición.\n",
    "\n",
    "Esto limita nuestra capacidad para diagnosticar correctamente qué tipo de duplicación tenemos y cómo tratarlas de manera efectiva.\n",
    "\n",
    "\n",
    "## ¿Cómo encontrar una fila duplicada?\n",
    "\n",
    "Para calibrar correctamente cómo buscamos duplicados, usaremos 2 argumentos de método `.duplicated()`.\n",
    "\n",
    "El argumento `subset` nos permite establecer una lista de nombres de columna para verificar la duplicación. Por ejemplo, nos permite encontrar duplicados solo para las columnas de nombre y apellido.\n",
    "\n",
    "El argumento `keep` nos permite mantener la primera ocurrencia de un valor duplicado estableciéndolo en `'first'`, la última aparición de un valor duplicado establenciéndola como `'last'`, o mantenga todas las apariciones de valores duplicados estableciéndola en `False`.\n",
    "\n",
    "En este ejemplo, buscamos duplicados en el primer nombre, apellido y apellido, y estamos eligiendo mantener todos los duplicados.\n",
    "\n",
    "**`columns_names = ['first_name', 'last_name', 'address']`**\n",
    "\n",
    "**`duplicates = height_weight.duplicated(subset = columns_names, keep = False)`**\n",
    "\n",
    "Vemos los siguiente resultados:\n",
    "\n",
    "**`height_weight[duplicates]`**\n",
    "\n",
    "<img src=\".\\img\\75.png\" width=\"650px\" height=\"350px\">\n",
    "\n",
    "Para obtener una mejor vista de los duplicados: Ordenamos las filas duplicadas usando el método `sort_values()`, eligiendo `first_name` para ordenar.\n",
    "\n",
    "**`height_weight[duplicates].sort_values(by = 'first_name')`**\n",
    "\n",
    "<img src=\".\\img\\76.png\" width=\"650px\" height=\"350px\">\n",
    "\n",
    "Encontramos que hay cuatro conjuntos de filas duplicadas, siendo los primeros 2 duplicados completos entre sí en todas a las columnas (indice: 22, 102, 37, 100).\n",
    "\n",
    "Los otros 2 (indice: 28, 103, 1, 101) son duplicados incompletos, con discrepancias en altura y peso respectivamente.\n",
    "\n",
    "\n",
    "## ¿Cómo tratar los valores duplicados?\n",
    "\n",
    "Los duplicados completos se pueden tratar fácilmente. Todo lo que se requiere es mantener uno solo y rescatar los demás.\n",
    "\n",
    "Esto se puede hacer con el método **`.drop_duplicates()`**, que también toma un mismo subconjunto y mantenga los argumento como en el método `.duplicate()`, así como el argumento **`inplace`** (asignandole `True`)que suelta los valores duplicados directamente dentro del marco de datos height_weight.\n",
    "\n",
    "\n",
    "Aquí soltamos solo duplicados completos, por lo que no es necesario ni recomendable establecer un subconjunto, y dado que el argumento de mantener se toma primer como predeterminado, podemos mantenerlo como tal.\n",
    "\n",
    "Tenga en cuenta que también podemos configurarlo como último (`'last'`), pero no como `False`, ya que mantendría todos los duplicados.\n",
    "\n",
    "**`height_weight.drop_duplicated(inplace = True)`**\n",
    "\n",
    "\n",
    "Esto nos deja con los otros 2 conjuntos de duplicados discutidos anteriormente que son los mismo para nombre, apellido y dirección, pero contiene discrepancias en altura y peso.\n",
    "\n",
    "<img src=\".\\img\\77.png\" width=\"650px\" height=\"350px\">\n",
    "\n",
    "Además de soltar filas con realmente pequeñas discrepancias, podemos usar una medida estadística para combinar cada conjunto de valores duplicados.\n",
    "\n",
    "Por ejemplo, podemos combinar dos filas en una sola calculados el promedio entre ellos, o el máximo, u otras medidas estadísticas, esto altamente depende de una comprensión de sentido común de nuestro datos y del tipo de datos que tenemos.\n",
    "\n",
    "<img src=\".\\img\\78.png\" width=\"650px\" height=\"350px\">\n",
    "\n",
    "\n",
    "Podemos hacer esto fácilmente usando el método `groupby`, que cuando se encadena con el método `agg`, le permite agrupar por un conjunto de columnas comunes y devolver valores estadísticos para columnas específicas cuando se realiza la agregación.\n",
    "\n",
    "Por ejemplo aquí, creamos un diccionario llamado resúmenes, que le indica a `groupby`que devuelva el máximo de filas duplicadas para la columna de altura y el promedio de filas duplicadas para la columna de peso.\n",
    "\n",
    "Luego agrupamos `height_weight` por nombres de columna definidos anteriormente, y lo encadenó al método `agg`, que toma el diccionario de resúmenes que creamos.\n",
    "\n",
    "Encadenamos toda esta línea con el método `.reset_index()`, para que podamos tener índices numerados en el resultado final.\n",
    "\n",
    "**`columns_names = ['first_name', 'last_name', 'address']`**\n",
    "\n",
    "**`summaries = {'height': 'max', 'weight': 'mean'}`**\n",
    "\n",
    "**`height_weight = height_weight.groupby(by = columns_names).agg(summaries).reset_index()`**\n",
    "\n",
    "\n",
    "Podemos comprobar que no hay más valores duplicados ejecutando el método `.duplicated()` nuevamente y use corchetes para generar filas duplicadas.\n",
    "\n",
    "**`duplicates = height_weight.duplicated(subset = columns_names, keep = False)`**\n",
    "\n",
    "**`height_weight[duplicates].sort_values(by = 'first_name')`**\n",
    "\n",
    "<img src=\".\\img\\79.png\" width=\"550px\" height=\"350px\">\n"
   ]
  },
  {
   "cell_type": "markdown",
   "id": "9deddde1",
   "metadata": {},
   "source": [
    "# Restricciones de afiliacion\n",
    "\n",
    "\n",
    "## Categorías y restricciones de afiliación\n",
    "\n",
    "Los datos categoricos representan variables que representan un conjunto finito predefinido de categorías.\n",
    "\n",
    "Los ejemplos de esto van desde el estado civil, las categorias de ingreso del hogar, el estado del préstamo y otros.\n",
    "\n",
    "<img src=\".\\img\\80.png\" width=\"650px\" height=\"350px\">\n",
    "\n",
    "Para ejecutar modelos de aprendizaje automático en datos categóricos, a menudo se codifican como números. Dado que los datos categóricos representan un conjunto predefinido de categorías, no pueden tener valores que vayan más allá de estas categorías predefinidas.\n",
    "\n",
    "## ¿Por qué podemos tener estos problemas? \n",
    "\n",
    "Podemos tener incosistencias en nuestros datos categóricos por una variedad de razones. Esto podría deberse a problemas de entrada de datos con texto libre frente a campos desplegables, errores de análisis de datos y otros tipos de errores.\n",
    "\n",
    "<img src=\".\\img\\81.png\" width=\"550px\" height=\"350px\">\n",
    "\n",
    "\n",
    "## ¿Cómo tratamos estos problemas?\n",
    "\n",
    "Hay una variedade de maneras en que podemos tratarlos, con soluciones cada vez más específicas para diferentes tipos de inconsistencias.\n",
    "\n",
    "De manera más simple, podemos descartar las filas con categorías incorrectas. \n",
    "\n",
    "Podemos intentar reasignar categorías incorrectas para corregirlas, y más.\n",
    "\n",
    "<img src=\".\\img\\82.png\" width=\"550px\" height=\"350px\">\n",
    "\n",
    "\n",
    "## Un ejemplo:\n",
    "\n",
    "Aquí hay un DataFrame llamado study_data que contiene una lista de nombres, fechas de nacimiento y tipos de sangre. Además un DataFrame cargado en la variable `categories`, que contiene la categorias correctas. También se han creado posibles categorías para las columnas de tipo de sangre.\n",
    "\n",
    "<img src=\".\\img\\83.png\" width=\"650px\" height=\"350px\">\n",
    "\n",
    "Se puede observar que no hay un tipo de sangre llamado `Z+`. Afortunadamente, las categorías DataFrame nos ayudarán a detectar sistemáticamente todas las filas con estas inconsistencias.\n",
    "\n",
    "Siempre es una buena práctica mantener un registro de todos los valores posibles de sus datos categóricos, ya que hará que lidiar con este tipo de inconsistencias sea mucho más fácil.\n",
    "\n",
    "## Una nota sobre las uniones\n",
    "\n",
    "Ahora, antes de pasar a tratar con estos valores inconsistentes, tengamos un breve recordatorio sobre las uniones.\n",
    "\n",
    "Los dos tipos principales de uniones que nos interesan aquí son las antiuniones y las uniones internas.\n",
    "\n",
    "\n",
    "<img src=\".\\img\\84.png\" width=\"450px\" height=\"350px\">\n",
    "\n",
    "Unimos DataFrames en columnas comunes entre ellos. Las anti uniones, toman dos DataFrames A y B, y devuelve datos de un DataFrame que no está contenido en otro.\n",
    "\n",
    "En este ejemplo, estamos realizando una anti unión izquierda de A y B, y estamos devolviendo las columnas de DataFrame A y B para valores que solo se encuentran en A de la columna en común entre ellos que se unen.\n",
    "\n",
    "Uniones internas, devuelve solo los datos contenidos en ambos DataFrame. Por ejemplo, una combinación interna de A y B devolvería columnas de ambos DataFrames para valores que sólo se encuentran en A y B, de la columna común entre ellos uniéndose.\n",
    "\n",
    "\n",
    "## Una anti-unión izquierda en los tipos de sangre\n",
    "\n",
    "En nuestro ejemplo, una anti unión izquierda esencialmente devuelve todos los datos en los datos del estudio con tipos de sangre inconsistente.\n",
    "\n",
    "<img src=\".\\img\\85.png\" width=\"250px\" height=\"350px\">\n",
    "\n",
    "## Una union interna en los tipos de sangre\n",
    "\n",
    "Y una combinación interna devuelve todas las filas que contienen signos de tipos de sangre consistentes.\n",
    "\n",
    "<img src=\".\\img\\86.png\" width=\"250px\" height=\"350px\">\n",
    "\n",
    "\n",
    "## Encontrar categorías incoherentes\n",
    "\n",
    "\n",
    "Para hacerlo en Python: Primero obtenemos todas las categorías incosistentes en la columna tipo de sangre del DataFrame de datos de estudio. Lo hacemos creando un conjunto a partir de la columna `blood_type` que almacena sus valores únicos y usamos el método `.difference()` que toma como argumento la columna `blood_type` del DataFrame de categorías.\n",
    "\n",
    "Esto devuelve todas las categorías en `blood_type` que no están en el DataFrame de Categorías. \n",
    "\n",
    "**`inconsistent_categories = set(study_data['blood_type']).difference(categories['blood_type'])`**\n",
    "\n",
    "**`print(inconsistent_categories)`**\n",
    "\n",
    "Resultado -> `{'Z+'}`\n",
    "\n",
    "Luego encontramos las filas inconsistentes encontrando todas las dilas de las columnas `blood_type` que son iguales a inconsistent_categories usando el método `.isin`, esto devuelve una serie de valores booleanos que son True para filas incosistente y False para filas consistentes.\n",
    "\n",
    "**`inconsistent_rows = study_data['blood_type'].isin(inconsistent_categories)`**\n",
    "\n",
    "Luego creamos un subconjunto del DataFrame study_data en función de estos valores booleanos, y listo, tenemos nuestros datos inconsistentes.\n",
    "\n",
    "**`study_data[inconsistent_rows]`**\n",
    "\n",
    "<img src=\".\\img\\87.png\" width=\"350px\" height=\"350px\">\n",
    "\n",
    "\n",
    "## Soltar las categorías incoherentes\n",
    "\n",
    "Para descartar filas incosistentes y mantener las que solo son consistentes. Simplemente usamos el símbolo de tilde (**`~`**) mientras cramos subconjuntos, lo que devuelve todo excepto las filas incosistentes.\n",
    "\n",
    "**`inconsistent_categories = set(study_data['blood_type']).difference(categories['blood_type'])`**\n",
    "\n",
    "**`inconsistent_rows = study_data['blood_type'].isin(inconsistent_categories)`**\n",
    "\n",
    "**`inconsistent_data = study_data[inconsistent_rows]`**  # Solo guarda un dataframe con los valores incosistentes\n",
    "\n",
    "Drop inconsistent categories and get consistent data only\n",
    "\n",
    "**`consistent_data = study_data[~inconsistent_rows]`**\n",
    "\n",
    "<img src=\".\\img\\88.png\" width=\"350px\" height=\"350px\">\n",
    "\n"
   ]
  },
  {
   "cell_type": "markdown",
   "id": "48d6987a",
   "metadata": {},
   "source": [
    "# Variables Categoricas\n",
    "\n",
    "## ¿Qué tipo de errores podríamos tener?\n",
    "\n",
    "Al limpiar datos categóricos, alguos de los problemas que podriamos encontrar incluyen inconsistencias de valores, la presencia de demasiadas categórias que prodrían colapsarse en una sola, y asegurarse de que los datos sean del tipo correcto.\n",
    "\n",
    "<img src=\".\\img\\89.png\" width=\"750px\" height=\"350px\">\n",
    "\n",
    "## Consistencia de los valores\n",
    "\n",
    "Un problema común de los datos categóricos es tener valores que difieren ligeramente debido a las mayúsculas. No tratar esto podría conducir a resultados engañosos cuando decidamos analizar nuestros datos. Por ejemplo, supongamos que estamos trabajando con un conjunto de datos demográficos, y tenemos una columna de estado civil con mayúsculas inconsistentes.\n",
    "\n",
    "Asi es como se vería contar el número de persona casadas en la Serie status_matrimonial.\n",
    "\n",
    "<img src=\".\\img\\90.png\" width=\"550px\" height=\"350px\">\n",
    "\n",
    "**Tenga en cuenta que el método `.values_counts()` funcionan solo en Series. Para un DataFrame, podemos agrupar por columna y usar el método `.count()`**\n",
    "\n",
    "<img src=\".\\img\\91.png\" width=\"450px\" height=\"350px\">\n",
    "\n",
    "Para lidiar con esto, podemos poner en mayúsulas o minúsculas la columna \"estado matrimonial\". Esto se puede hacer con las funciones `str.upper()` o `.lower()` respectivamente.\n",
    "\n",
    "\n",
    "### Capitalize\n",
    "\n",
    "**`marriage_status['marriage_status'] = marriage_status['marriage_status'].str.upper()`**\n",
    "\n",
    "**`marriage_status['marriage_status'].value_counts()`**\n",
    "\n",
    "\n",
    "-> Resulado:\n",
    "\n",
    "`UNMARRIED   528`\n",
    "\n",
    "`MARRIED     472`\n",
    "\n",
    "\n",
    "### Lowercase\n",
    "\n",
    "**`marriage_status['marriage_status'] = marriage_status['marriage_status'].str.lower()`**\n",
    "\n",
    "**`marriage_status['marriage_status'].value_counts()`**\n",
    "\n",
    "\n",
    "-> Resultado:\n",
    "\n",
    "`unmarried    528`\n",
    "\n",
    "`married      472`\n",
    "\n",
    "\n",
    "\n",
    "\n",
    "## Espacios en blanco en variables categoricas\n",
    "\n",
    "\n",
    "Otro problema común con los valores categóricos son los espacios iniciales o finales. Por ejemplo, el mismo DataFrame de datos demográficos que contiene valores con espacios iniciales.\n",
    "\n",
    "Asi es como se vería el recuento de personas casadas y solteras:\n",
    "\n",
    "Tenga en cuenta que hay una categoría casada con un espacio final en el lado derecho, lo que hace que sea díficil de detectar, a diferencia de soltero.\n",
    "\n",
    "<img src=\".\\img\\92.png\" width=\"550px\" height=\"350px\">\n",
    "\n",
    "\n",
    "Para eliminar los espacios iniciales. Podmeos usar el método `str.strip()` que, cuando no se le da ninguna entrada, elimina todos los espacios en blanco iniciales y finales.\n",
    "\n",
    "<img src=\".\\img\\93.png\" width=\"550px\" height=\"350px\">\n",
    "\n"
   ]
  },
  {
   "cell_type": "markdown",
   "id": "5c2ff137",
   "metadata": {},
   "source": [
    "## Colapsar los datos en categorías\n",
    "\n",
    "A vecees es posbiel que queramos crear catogorías a partir de nuestros datos, como la creación de grupos de ingresos de los hogares a partir de los datos de ingreso.\n",
    "\n",
    "Para crear categorías a partir de datos, usaremos el ejempo de creando una columna de grupo de ingresos en el DataFrame de datos demográficos.\n",
    "\n",
    "Puede hacer esto de dos formas:\n",
    "\n",
    "**El primero método:** utilizar la función `qcut` de pandas, que divide automáticamente nuestro datos en función de su distribución en el número de categorías que establecimos en el argumento `q`. Creamos los nombres de categoría en la lista \"group_names\" y lo alimentó al argumento de las aetiquetas, devolviendo lo siguiente.\n",
    "\n",
    "<img src=\".\\img\\94.png\" width=\"650px\" height=\"350px\">\n",
    "\n",
    "Observe que la primera fila en realidad tergiversa el ingreso real del grupo de ingresos, ya que no le indicamos a `qcut` dónde se encuentra realmente nuestros rangos.\n",
    "\n",
    "\n",
    "\n",
    "**El segundo método:** Podemos evitar el problema anterior con la función `cut` (función de corte), que nos permite definir rangos de corte de categoría con el argumento `bins`.\n",
    "\n",
    "Toma una lista de puntos de corte para cada categoría, siendo el final el infinito representado con `np.inf()`.\n",
    "\n",
    "<img src=\".\\img\\95.png\" width=\"650px\" height=\"350px\">\n",
    "\n",
    "Desde la salida, podemos ver que esto es mucho más correcto.\n",
    "\n",
    "\n",
    "## Asignar categorías a menos: reducir las categorías en las columnas categóricas\n",
    "\n",
    "\n",
    "A veces, es posible que queremoas reducir la cantidad de categorías que tenemos en nuestro datos.\n",
    "\n",
    "Pasemos a asignar categorías a menos.\n",
    "\n",
    "Por ejemplo, supongamos que tenemos una columna que contiene el sistema operativo de diferentes dispositivos, y contiene estos valores únicos:\n",
    "\n",
    "`operating_system` columns is: `'Microsoft', 'MacOS', 'IOS', 'Android', 'Linux'`\n",
    "\n",
    "\n",
    "Digamos que queremos colapsar estas categorías en 2: `DesktopOS` y `MobileOS`.\n",
    "\n",
    "\n",
    "Podemos hacer esto usando el método `.replace()`. Toma un diccionario que asigna cada categpría existente al nombre de categoría que deseo. En este caso, este diccionario de mapeo.\n",
    "\n",
    "Una impresión rápida de los valores únicos del sistema operativos muestra que la asignación ha completado.\n",
    "\n",
    "<img src=\".\\img\\96.png\" width=\"650px\" height=\"350px\">"
   ]
  },
  {
   "cell_type": "markdown",
   "id": "1de68398",
   "metadata": {},
   "source": [
    "# Limpieza de datos de texto\n",
    "\n",
    "## ¿Que son los datos de Texto?\n",
    "\n",
    "Los datos de texto son uno de los tipos de datos más comunes. Los ejemplos van desde nombres, números de teléfono, direcciones, correos electrónicos y más.\n",
    "\n",
    "Los problemas comunes de datos de texto incluyen el manejo de inconsistencias asegurándose de que los datos de texto tengan cierta longitud, errores tipográficos y otros.\n",
    "\n",
    "<img src=\".\\img\\97.png\" width=\"650px\" height=\"350px\">\n",
    "\n",
    "## Ejemplo:\n",
    "\n",
    "Aqui hay un DataFrame llamado teléfonos que contiene el nombre completo y los números de teléfonos de las personas. Ambos son columnas de cadenan\n",
    "\n",
    "Observe la columna del número de teléfono. Podemos ver que hay valores de números de teléfono, que comienzan con 00 o +. Tambien vemos que hay entrada donde el número de teléfono es de 4 digitos que es inexistente. Además, podemos ver que hay guiones en la columna del número de teléfono. Si quisiéramos introducir estos números de teléfono en un sistema de llamadas automatizado o crear un informe discutiendo la distribución de usuario por código de área, realmente no podríamos hacerlo sin números de teléfono uniformes.\n",
    "\n",
    "**`phones = pd.read_csv('phones.csv')`**\n",
    "\n",
    "**`print(phones)`**\n",
    "\n",
    "<img src=\".\\img\\98.png\" width=\"650px\" height=\"350px\">\n",
    "\n",
    "\n",
    "Idealmente, querriamos la columna del número de teléfono como tal.\n",
    "\n",
    "**`phones = pd.read_csv('phones.csv')`**\n",
    "\n",
    "**`print(phones)`**\n",
    "\n",
    "<img src=\".\\img\\99.png\" width=\"350px\" height=\"350px\">\n",
    "\n",
    "\n",
    "Donde todos los números de teléfono están alineados para comenzar con 00, donde cualquier número por debajo del dígito 10 el valor se reemplaza con NaN para representar un valor que falta, y donde se han eliminado todos los guiones.\n",
    "\n",
    "## Arreglar la columna del número de teléfono\n",
    "\n",
    "Primero comencemos reemplazando el signo `+` con `00`, para hacer esto, usamos elmétodo `str.replace()` que toma dos valores, la cadena que se reemplaza, que es en este caso el signo `+` y la cadena para reemplazarlo que en este caso es `00`.\n",
    "\n",
    "Podremos ver que la columna ha sido actualizada.\n",
    "\n",
    "**`phones['Phones number'] = phones['Phone number'].str.replace('+','00')`**\n",
    "\n",
    "**`phones`**\n",
    "\n",
    "<img src=\".\\img\\100.png\" width=\"350px\" height=\"350px\">\n",
    "\n",
    "Usamos exactamente la misma técnica para eliminar los guines, reemplazando el simbolo del guión con una cadena vacía.\n",
    "\n",
    "**`phones['Phones number'] = phones['Phone number'].str.replace('-','')`**\n",
    "\n",
    "**`phones`**\n",
    "\n",
    "<img src=\".\\img\\101.png\" width=\"350px\" height=\"350px\">\n",
    "\n",
    "Ahora, finalmente, vamos a reemplazar todos los números de teléfono de menos de 10 digitos a NaN.\n",
    "\n",
    "Podemos hacer esto encadenando la columna Numero de teléfono con el método `.str.len()`, que devuelve la longitud de la cadena de cada fila de la columna. Luego podemos usar el método `.loc[]`, para indezar filas donde los dígitos están por debajo de 10, y reemplaze el valor del número de teléfono con el objeto nan de numpy, que aquí se importa como np.\n",
    "\n",
    "**`digits = phones ['Phones number'].str.len()`**\n",
    "\n",
    "**`phones.loc[digits < 10, 'Phones number'] = np.nan`**\n",
    "\n",
    "**`phones`**\n",
    "\n",
    "<img src=\".\\img\\102.png\" width=\"350px\" height=\"350px\">\n",
    "\n",
    "\n",
    "---\n",
    "\n",
    "También podemos escribir afirmaciones para probar si la columna de número de teléfono tiene una longitud específica y si contiene los símbolos que eliminamos.\n",
    "\n",
    "\n",
    "La primera declaración de afirmación prueba que la longitud mínima de las cadenas en la columna del número de teléfono, que se encuentra a travéz de `str.len()`, es mayor o igual a 10. \n",
    "\n",
    "En la segunda declaración de afirmación, usamo el método `str.contains` para probar si la columna del número de teléfono contiene un patrón especifico. Devuelve una serie de valores booleanos que son True para coincidencias y False para no coincidencias.\n",
    "\n",
    "Establecemos el patrón `'+|-'`, el `|` aquí es básicamente una declaración `or`, por lo que estamos tratando de encontrar coincidencias para cualquiera de los simbolos. Lo encadenamos con el método `.any()` que devuelve True si algún elemento en la salida de nuestro `.str.contains` es True, y prueba si devuelve False.\n",
    "\n",
    "**`sanity_check = phone['Phone number'].str.len()`**\n",
    "\n",
    "**`assert sanity_check.min() >= 10`**\n",
    "\n",
    "**`assert phone['Phone number'].str.contains('+|-').any() == False`**\n",
    "\n",
    "Si se cumplen las afirmaciones no debe retornar ningun error (no debe retornar nada.)\n",
    "\n"
   ]
  },
  {
   "cell_type": "markdown",
   "id": "d4bd0f51",
   "metadata": {},
   "source": [
    "## Pero ¿qué pasa con los ejemplos más complicados?\n",
    "\n",
    "¿ Cómo podemos limpiar una columna de número de teléfono que se ve así, por ejemplo?\n",
    "\n",
    "Donde los números de teléfonos pueden contener una variedad de símbolos, desde signos +, guiones, paréntesis y tal vez más.\n",
    "\n",
    "Aquí es donde entrar las expresiones regulares.\n",
    "\n",
    "Las expresiones regulares nos brindan la capacidad de buscar cualquier patrón en los datos de texto, como solo dígitos, por ejemplo. Son como `CTRl + F` en el navegador, pero mucho más dinámicos y robustos. \n",
    "\n",
    "**`phones.head()`**\n",
    "\n",
    "<img src=\".\\img\\103.png\" width=\"350px\" height=\"350px\">\n",
    "\n",
    "\n",
    "## Expresiones regulares en accion\n",
    "\n",
    "Ejemplo:\n",
    "\n",
    "Aquí estamos intentando extraer solo dígitos de la columna del número de teléfono.\n",
    "\n",
    "Para hacer esto, usamos el método `.str.replace` con el patrón que queremos reemplazar con una cadena vacía.\n",
    "\n",
    "Observe el patrón introducido en el método. Esto es esencialmente nosotros diciéndoles a los pandas que reemplacen cualquier cosa que no sea un dígito con nada (''). (Más sobre expresiones regulares en cursos de DataCamp, Son muy utilies para tareas difíciles de limpieza de cadenas.)\n",
    "\n",
    "**`phones['Phone number'] = phones['Phone number'].str.replace(r'\\D+', '')`**\n",
    "\n",
    "**`phones.head()`**\n",
    "\n",
    "<img src=\".\\img\\104.png\" width=\"350px\" height=\"350px\">\n",
    "\n"
   ]
  },
  {
   "cell_type": "markdown",
   "id": "740b82fa",
   "metadata": {},
   "source": [
    "# Uniformidad\n",
    "\n",
    "\n",
    "Vamos a abordar un problema que podría sesgar nuestros datos, que es la uniformidad de la unidad. Por ejemplo, podemos tener datos de temperatura que tengan valores tanto en Fahrenheit como en Celsius,datos de peso en kilogramos y en stone, fechas en múltiples formatos, etc.\n",
    "\n",
    "Verificar la uniformidad de la unidad es imperativo para tener un análisis preciso.\n",
    "\n",
    "<img src=\".\\img\\105.png\" width=\"350px\" height=\"350px\">\n",
    "\n",
    "\n",
    "## Un ejemplo\n",
    "\n",
    "Aquí hay un conjunto de datos con datos de temperatura promedio durantetodo el mes de marzo de la ciudad de Nueva York.\n",
    "\n",
    "El conjunto de datos se recopiló de diferentes fuentes con datos de temperatura en graos Celsius y Fahrenhet combinados.\n",
    "\n",
    "Podemos ver que a menos que ocurra un gran evento climático, el valor `62.6` es probablemente Fahrenheit, no Celsius.\n",
    "\n",
    "\n",
    "<img src=\".\\img\\106.png\" width=\"250px\" height=\"350px\">\n",
    "\n",
    "Confirmemos visualmenteo la presencia de estos valores.\n",
    "\n",
    "Podemos hacerlo trazando un diagrama de dispesión de nuestros datos. Podemos hacer esto usando matplotlib.pyplot.\n",
    "\n",
    "\n",
    "**`import matplotlib.pyplot as plt`**\n",
    "\n",
    "**`plt.scatter(x = 'Date', y = 'Temperature', data = Temperatures)`**\n",
    "\n",
    "**`plt.title('Temperature in Celsius March 2019 - NYC')`**\n",
    "\n",
    "**`plt.xlabel('Dates')`**\n",
    "\n",
    "**`plt.ylabel('Temperature in Celsius')`**\n",
    "\n",
    "**`plt.show()`**\n",
    "\n",
    "<img src=\".\\img\\107.png\" width=\"550px\" height=\"350px\">\n",
    "\n",
    "\n",
    "Notas los valores en rojo?. Todos deben ser en Fahrenheit.\n",
    "\n",
    "\n",
    "## Tratamiento de los datos de temperatura\n",
    "\n",
    "Una simple búsqueda en la web devuelve la fórmula para convertir Fahrenheit a Celsius.\n",
    "\n",
    "$C = (F - 32) * 5/9$\n",
    "\n",
    "Para convertir nuestros datos de temperatura, aislamos todas las filas de la columna de temperatura donde está por encima de 40 usando el método `.loc[]`.\n",
    "\n",
    "**`temp_fah = temperatures.loc[temperatures['Temperature'] > 40, 'Temperature']`**\n",
    "\n",
    "Elegimos 40 porque es un máximo de sentido común para las temperaturas Celsius en la ciudad de Nueva York.\n",
    "\n",
    "Luego converimos estos valores a Celsius usando la fórmula anterior, y reasignarlos a sus respectivos valores de Fahrenheit en temperature.\n",
    "\n",
    "**`temp_cels = (temp_fah - 32) * (5/9)`**\n",
    "\n",
    "**`temperatures.loc[temperatures['Temperature'] > 40, 'Temperature'] = temp_cels`**\n",
    "\n",
    "\n",
    "Podemos asegurarnos de que nuestra conversión fue correcta con una afirmación, asegurándose de que el valor máximo de temperatura sea inferior  40.\n",
    "\n",
    "**`assert temperatures['Temperature'].max() < 40`**\n"
   ]
  },
  {
   "cell_type": "markdown",
   "id": "1b5d4184",
   "metadata": {},
   "source": [
    "## Tratamiento de los datos de fecha\n",
    "\n",
    "Aquí hay otro problema común de uniformidad con los datos de fechas.\n",
    "\n",
    "Este dataset llamado cumpleaños que contiene las fechas de nacimiento de una variedad de personas.\n",
    "\n",
    "Ha sido recopilado de una variedad de fuentes y fusionado en uno.\n",
    "\n",
    "**`birthdays.head()`**\n",
    "\n",
    "<img src=\".\\img\\108.png\" width=\"300px\" height=\"350px\">\n",
    "\n",
    "\n",
    "\n",
    "Nota las fechas aqui?\n",
    "\n",
    "<img src=\".\\img\\109.png\" width=\"350px\" height=\"350px\">\n",
    "\n",
    "El que está en azul tiene el formato de mes, dia y año, mientras que el que está en naranja tiene el mes escrito.\n",
    "\n",
    "El que está en rojo es obviamente un error, con el que parece un formato de dia dia año.\n",
    "\n",
    "## Formato de fecha y hora.\n",
    "\n",
    "Datetime acepta diferentes formatos que lo ayudan a formatear sus fechas como desee. La función `pandas.to_datetime()` acepta automáticamente la mayoria de los formatos de fechas, pero podría generar errores cuando ciertos formatos son irreconocibles.\n",
    "\n",
    "<img src=\".\\img\\110.png\" width=\"300px\" height=\"350px\">\n",
    "\n",
    "\n",
    "## Tratamiento de datos de fecha\n",
    "\n",
    "Puede tratar estas inconsistencias de fechas fácilmente al convertir su columna de fecha a fechas y hora.\n",
    "\n",
    "Podemos hacer esto en pandas con la funcion `.to_datetime()`. Sin embargo, esto no es suficiente y lo más probable es que devuelva un error, ya que tenemos fechas en múltiples formatos, especialmente el extraño formato día/día/año que desencadena un error con los meses.\n",
    "\n",
    "**`bithdays['Birthday'] = pd.to_datetime(birthdays['Birthday'])`**\n",
    "\n",
    "Devuelve --> `ValueError: month must be in 1 .. 12`\n",
    "\n",
    "En su lugar, configuraremos el argumento `infer_datetime_format` en `True` y configuraremos los errores como `coerce` (`errors = 'coerce'`). Esto inferirá el formato y devolverá el valor faltante para las fechas que no se puedo identificar y convertir en lugar de un error de valor.\n",
    "\n",
    "\n",
    "**`birthdays['Birthday'] = pd.to_datetime(birthdays['Birthday'], (Nota: Intento de inferir el formato de cada fecha)\n",
    "infer_dateime_format = True, (Nota: Devuelve NA para las filas en las que falló la conversión) errors = 'coerce')`**\n",
    "                    \n",
    "Esto devuelve la columna de cumpleaños con formatos alineados, con el formato inicial ambiguo de day day year, que se establece en NAT, lo que representa valores faltantes en Pandas para objetos de fecha y hora.\n",
    "\n",
    "**`birthdays.head()`**\n",
    "\n",
    "<img src=\".\\img\\111.png\" width=\"250px\" height=\"350px\">\n",
    "\n",
    "\n",
    "\n",
    "También podemos convertir el formato de una columna de fecha y hora usando el método `dt.strftime`, que acepta un formato de fecha y hora de su eleccón.\n",
    "\n",
    "Por ejemplo, aquí convertimos la columna de Cumpleaños a dia mes año, en lugar de año mes dia.\n",
    "\n",
    "<img src=\".\\img\\112.png\" width=\"250px\" height=\"350px\">\n",
    "\n",
    "**Nota: También sirve para crear columnas nuevas en el dataframe donde solo se almacenen los años (por ejemplo) a partir de otra columna datetime. Por ejemplo:**\n",
    "\n",
    "**`danking['acct_year'] = df['account_opened'].dt.strftime('%Y')`** # Solo almacena el año de apertura de la cuenta.\n",
    "\n",
    "## Tratamiento de datos de fecha ambiguos\n",
    "\n",
    "Sin embargo, un problema común es tener fechas ambiguas con formatos imprecisos. Por ejemplo,¿este valor de fecha `2019-03-08` está establecido en marzo o agosto?\n",
    "\n",
    "Desafortunadamente, no hay una forma clara de detectar esta inconsistencia o tratarla. Según el tamaño del conjunto de datos y las sospechas de ambigüedad, puede convertir estas fechas en NA y tratarlas en consecuencias.\n",
    "\n",
    "Si tiene contexto adicional sobre la fuente de sus datos, probablemente pueda inferir el formato. Si la mayoría de los datos posteriores o anteriores tiene un formato, probablemente también pueda inferir el formato.\n",
    "\n",
    "En general, es esencial comprender correctamente de dónde provienen sus datos antes de tratarlos, ya que hará que tomar estas decisiones sea mucho más fácil."
   ]
  },
  {
   "cell_type": "markdown",
   "id": "2199d970",
   "metadata": {},
   "source": [
    "# Validación de campos cruzados\n",
    "\n",
    "\n",
    "## Motivacion\n",
    "\n",
    "Echemos un vistazo al siguiente conjunto de datos. Contiene estadísticas de vuelo sobre el número total de pasajeros en económica, ejectutiva y primera clase, asi como el total de pasajeros de cada vuelo. Sabemos que estas columnas se han recopilado y fusionado a partir de diferentes fuentes de datos y un desafío común cuando se fusionan datos de diferentes fuentes es la integridad de los datos, o más ampliamente, asegurarse de que nuestros datos sean correctos.\n",
    "\n",
    "**`import pandas as pd`**\n",
    "\n",
    "**`flights = pd.read_csv('flights.csv')`**\n",
    "\n",
    "**`flights.head()`**\n",
    "\n",
    "<img src=\".\\img\\113.png\" width=\"550px\" height=\"350px\">\n",
    "\n",
    "## Validación de campos cruzados\n",
    "\n",
    "Aquí es donde entra la validación de campos cruzados.\n",
    "\n",
    "La validación de campos cruzados es el uso de múltiples campos en su conjunto de datos para verificar la integridad de sus datos. \n",
    "\n",
    "### Ejemplo 1:\n",
    "\n",
    "En nuestro conjunto de datos de vuelos, esto podría sumar economía, negocios y valores de primera clase y asegurándose de que sean iguales al total de pasajeros en el avión.  \n",
    "\n",
    "<img src=\".\\img\\114.png\" width=\"550px\" height=\"350px\">\n",
    "\n",
    "Esto podrias hacerse fácilmente en Pandas, primer dividiendo el subconjunto en las columnas para sumar, luego usando el método de suma con el argumento del eje establecido en 1 para indicar la suma por fila.\n",
    "\n",
    "Luego encontramos casos en los que la columna de pasajeros totales es igual a la suma de las clases.\n",
    "\n",
    "Y encuentra y filtre instancias de cantides inconsistentes de pasajeros al subdividir en la igualdad que creamos con corchetes y el símbolo de tilde `~`.\n",
    "\n",
    "**`sum_classes = flights[['economy_class', 'business_class', 'first_class']].sum(axis = 1)`**\n",
    "\n",
    "**`passenger_equ = sum_classes == flights['total_passengers']`**\n",
    "\n",
    "**`insonsistent_pass = flights[~passenger_equ]`**\n",
    "\n",
    "**`consistent_pass = flights[passenger_equ]`**\n",
    "\n",
    "\n",
    "\n",
    "### Ejemplo 2:\n",
    "\n",
    "Aquí hay otro ejemplo que contiene ID de usuario, cumpleaños y valores de edad para un conjunto de usuarios\n",
    "\n",
    "\n",
    "**`users.head()`**\n",
    "\n",
    "<img src=\".\\img\\115.png\" width=\"250px\" height=\"350px\">\n",
    "\n",
    "Por ejemplo, podemos asegurarnos de que las columnas de edad y cumpleaños estén correcto, restando el número de años entre la fecha de hoy y cada cumpleaños.\n",
    "\n",
    "Podemos hacer esto asegurándonos primero de que la columna Cumpleaños se convierte a datetime con la función `pd.to_datetime()`. Luego creanos un objeto que almacene la fecha de hoy usando la función `dt.date.today()` del paquete datetime. Luego calculamos la diferencia en años entre el año de la fecha de hoy y el año de cada cumpleaños mediante el atributo `.dt.year` de la columna Birthday del usuario.\n",
    "\n",
    "Luego encontramos casos en los que las edades calculadas son iguales a la columna de edad real en el marco de datos de los usuarios.\n",
    "\n",
    "Luego buscamos y filtramos las instancias en las que tenemos inconsistencias, usando subconjuntos con corchetes y el simbolo de tilde en la igualdad que creamos.\n",
    "**`import pandas as pd`**\n",
    "\n",
    "**`import datetime as dt`**\n",
    "\n",
    "**`users['Birthday'] = pd.to_datetime(users['Birthday'])`**\n",
    "\n",
    "**`today = dt.date.today()`**\n",
    "\n",
    "**`age_manual = today.year - users['Birthday'].dt.year`**\n",
    "\n",
    "**`age_equ = age_manual == users['Age']`**\n",
    "\n",
    "**`insonsistent_age = users[~age_equ]`**\n",
    "\n",
    "**`consistent_age = users[age_equ]`**\n",
    "\n",
    "\n",
    "\n",
    "## ¿Qué hacer cuando detectamos incoherencias?\n",
    "\n",
    "Entonces, Cuál deberia ser el curso de acción en caso de que detectemos inconsistencias con la validación de campos cruzados?\n",
    "\n",
    "Al igual que otros problemas de limpieza de datos, no hay un talla única para toda solución, ya que a menudo la mejor solución requiere una comprensión profunda de nuestro conjuntos de datos.\n",
    "\n",
    "Podemos decidir descartar datos inconsistentes, establecerlos en perdido e imputarlo, o aplicar algunas reglas debido al conocimiento del dominio.\n",
    "\n",
    "Todas estas rutas y suposiciones se pueden decidir solo cuando tiene una buena comprensión de dónde proviene su conjunto de datos y las diferentes fuentes que lo alimentan.\n",
    "\n",
    "<img src=\".\\img\\116.png\" width=\"450px\" height=\"350px\">"
   ]
  },
  {
   "cell_type": "markdown",
   "id": "960c938f",
   "metadata": {},
   "source": [
    "# Integridad\n",
    "\n",
    "## Qué son los datos faltantes?\n",
    "\n",
    "La falta de datos es uno de los problemas de limpieza de datos más comunes e importantes. Esencialmente, los datos que faltan son cuando no se almacena ningún valor de dato para una variable en una observacion. Los datos que faltan se representan más comúnmente como `NA` o `NaN`, pero pueden tomar valores arbitrarios como 0 o un punto (`.`). \n",
    "\n",
    "Como muchos de los problemas que hemos visto hasta ahora en el curso, generalmente se deben a errores técnicos o humanos.\n",
    "\n",
    "Los datos faltantes pueden tomar muchas forma, asi que echemos un vistazo a un ejemplo:\n",
    "\n",
    "### Ejemplo -> Airquality\n",
    "\n",
    "Echemos un vistazo al conjunto de datos de calidad del aire. Contiene medidas de temperatura y CO2 para diferentes fechas.\n",
    "\n",
    "Podemos ver que el valor de CO2 en esta fila se representa como `NaN`. \n",
    "\n",
    "**`import pandas as pd`**\n",
    "\n",
    "**`airquality = pd.read_csv('airquality.csv')`**\n",
    "\n",
    "**`print(airquality)`**\n",
    "\n",
    "<img src=\".\\img\\117.png\" width=\"450px\" height=\"350px\">\n",
    "\n",
    "\n",
    "Podemos encontrar filas con valores faltantes usando el método `isna()` que devuelve True para valores faltantess y False para los valores completos en todas nuestras filas y columnas.\n",
    "\n",
    "**`airquality.isna()`**\n",
    "\n",
    "<img src=\".\\img\\118.png\" width=\"350px\" height=\"350px\">\n",
    "\n",
    "Tambien podemos encadenar el método `.isna()` con el método `sum()`, que devuelve un desglose de los valores faltantes por columna en nuestro marco de datos.\n",
    "\n",
    "**`airquality.isna().sum()`**\n",
    "\n",
    "<img src=\".\\img\\119.png\" width=\"250px\" height=\"350px\">\n",
    "\n",
    "Notamos que la columna de CO2 es la única columna con valores faltantes: Averigüemos por qué y profundicemos en la naturaleza de esta falta visualizando primero nuestros valores faltantes.\n",
    "\n",
    "\n",
    "## Missingno\n",
    "\n",
    "El paquete Missingno permite crear visualizaciones útiles de nuestros datos faltantes.\n",
    "\n",
    "Vizualizamos la falta del DataFrame de calidad del aire con la matriz de puntos msno y muéstrelo con la función show de pyplot de matplotlib, que devuelve la siguiente imagen:\n",
    "\n",
    "**`import missingno as msno`**\n",
    "\n",
    "**`import matplotlib.pyplot as plt`**\n",
    "\n",
    "**`msno.matrix(airquality)`**\n",
    "\n",
    "**`plt.show()`**\n",
    "\n",
    "<img src=\".\\img\\120.png\" width=\"750px\" height=\"350px\">\n",
    "\n",
    "Esta matriz muestra esencialmente cómo se distribyen los valores faltanes en una columna. Vamos que los valores de CO2 que faltan están dispersos aleatoriamente por toda la columna, pero ¿es realmente asi?\n",
    "\n",
    "Primero aislamos las filas de calidad del aire con valores de CO2 faltantes en un DataFrame y con los valores de CO2 completos en otro.\n",
    "\n",
    "**`missing = airquality[airquality['CO2'].isna()]`**\n",
    "\n",
    "**`complete = airquality[~airquality['CO2'].isna()]`**\n",
    "\n",
    "Luego, usemos el método `.describe()` en cada uno de los DataFrame creados.\n",
    "\n",
    "<img src=\".\\img\\121.png\" width=\"650px\" height=\"350px\">\n",
    "\n",
    "Vemos que para todos los valores faltantes de CO2, ocurren a temperaturas relativamente bajas, con la temperatura media a -39° y un minimo y máximo de -49° y -30° respectivamente.\n",
    "\n",
    "Confirmaremos esto visualmente con el paquete missngno.\n",
    "\n",
    "Primero ordenamos el DataFrame por la columna de temperatura. Luego ingresamos el marco de datos ordenado a la función de matriz de msno.\n",
    "\n",
    "**`sorted_airquality = airquality.sort_values(by = 'Temperature')`**\n",
    "\n",
    "**`msno.matrix(sorted_airquality)`**\n",
    "\n",
    "**`plt.show()`**\n",
    "\n",
    "<img src=\".\\img\\122.png\" width=\"750px\" height=\"350px\">\n",
    "\n",
    "Esto nos deja con esta matriz.\n",
    "\n",
    "Observe cómo todos los valores faltantes están en la parte superior?\n",
    "\n",
    "Esto se debe a que los valores se ordenan de menor a mayor de forma predeterminada. Esto esencialmente confirma que las mediciones de CO2 se pierden para temperaturas realmente bajas. Debe ser una falla del sensor.\n",
    "\n",
    "## Tipos de faltas\n",
    "\n",
    "Esto nos lleva a los tipos de ausencia. Sin entrar demasiado en los detalles, hay una variedad de tipos de datos faltantes. Podría faltar completamente al azar, faltar al azar o no faltar al azar.\n",
    "\n",
    "\n",
    "<img src=\".\\img\\123.png\" width=\"650px\" height=\"350px\">\n",
    "\n",
    "- MCAR: Faltan datos completamente al azar cuando faltan datos completamente debido a la aleatoriedad, y no existe una relación entre los datos faltantes y los valores restantes, tales como errores de entrada de datos. \n",
    "\n",
    "\n",
    "- MAR: A pesar de un nombre un poco engañoso, la falta de datos aleatorios es cuando hay una relación entre los datos que faltan y otros valores observados, como que faltan nuestros datos de CO2 para bajas temperaturas.\n",
    "\n",
    "\n",
    "- MNAR: Cuando faltan datos no al azar, hay una relacion sistemática entre los datos faltantes y los valores no observados. Por ejemplo, cuando hace mucho calor afuera, el termómetro puede detenerse y no funcionar, por lo que no disponemos de mediciones de temperaturas para días con temperaturas altas. Sin embargo, no tenemos manera de decir esto con solo mirar los datos ya que en realidad no podemos ver cuáles son las temperaturas que faltan.\n",
    "\n",
    "\n",
    "## ¿Cómo tratar los datos que faltan?\n",
    "\n",
    "\n",
    "Hay una variedad de formas de lidiar con los datos que faltan, desde descartar los datos que faltan, imputarlos con medidas estadisticas como la media, la mediana o la moda, o imputarlos con efoques algorítmicos más complicados o que requieren algo de aprendizaje automático.\n",
    "\n",
    "\n",
    "Cada tipo de ausencia requiere un enfoque especifico, y cada tipo de enfoque tiene inconvenientes y aspectos positivos.\n",
    "\n",
    "\n",
    "## Tratamiento de los datos que faltan\n",
    "\n",
    "**`airquality.head()`**\n",
    "\n",
    "<img src=\".\\img\\124.png\" width=\"350px\" height=\"350px\">\n",
    "\n",
    "## Eliminación de valores faltantes\n",
    "\n",
    "Podemos descartar los valores faltantes, usando el método `.dropna()`, junto con el argumento del subconjunto que nos permite elegir qué valores faltantes de la columna eliminar.\n",
    "\n",
    "\n",
    "**`airquality_dropped = airquality.dropna(subset = ['CO2'])`**\n",
    "\n",
    "**`airquality_dropped.head()`**\n",
    "\n",
    "<img src=\".\\img\\125.png\" width=\"350px\" height=\"350px\">\n",
    "\n",
    "\n",
    "\n",
    "## Sustitución por medidas estadísticas\n",
    "\n",
    "También podemos reemplazar los valores faltantes de CO2 con la valor medio de CO2, utilizando el método `.fillna()`, que en este caso es 1.73.\n",
    "\n",
    "`.fillna()` toma un diccionario con columnas como claves y el valor imputado como valores.\n",
    "\n",
    "**`co2_mean = airquality['CO2'].mean()`**\n",
    "\n",
    "**`airquality_imputed = airquality.fillna({'CO2': co2_mean})`**\n",
    "\n",
    "**`airquality_imputed.head()`**\n",
    "\n",
    "<img src=\".\\img\\126.png\" width=\"350px\" height=\"350px\">\n",
    "\n",
    "Incluso podemos introducir valores personalizados en `.fillna()` pertenecientes a nuestros datos faltantes si tenemos suficiente conocimiento del dominio de nuestro conjunto de datos."
   ]
  },
  {
   "cell_type": "markdown",
   "id": "8f71b945",
   "metadata": {},
   "source": [
    "# Comparando Strings\n",
    "\n",
    "## Distancia minima de edición\n",
    "\n",
    "La distancia de edición minima es una forma sistemática de identificar qué tan cerca están 2 cadenas. Por ejemplo, echemos un vistazo a las siguientes dos palabras: intención y ejecución.\n",
    "\n",
    "<img src=\".\\img\\127.png\" width=\"550px\" height=\"350px\">\n",
    "\n",
    "La distancia mínima de edición entre ellos es la menor cantidad posible de pasos, que podria llevarnos de la palabra intención a la palabra ejecución, con las operaciones disponibles siendo insertar nuevos caracteres, borrarlos, sustituilos y transponer caracteres consecutivos.\n",
    "\n",
    "\n",
    "Para pasar de la intención a la ejecución, primero comenzamos eliminando I de la intención y agregando C entre E y N. Nuestra distancia de edición mínima hasta ahora es 2, ya que se trata de dos operaciones. Luego sustituimos la primera N con E, T con X y N con U, ¡lo que nos lleva a la ejecución!. Con la distancia minima de edición de 5.\n",
    "\n",
    "<img src=\".\\img\\128.png\" width=\"450px\" height=\"350px\">\n",
    "\n",
    "\n",
    "Cuanto menor sea la distancia de edición, más cerca están dos palabras. Por ejemplo, los dos tipos diferentes de lectura tiene una distancia de edición minima de 1 entre ellos y la lectura.\n",
    "\n",
    "<img src=\".\\img\\129.png\" width=\"650px\" height=\"350px\">\n",
    "\n",
    "\n",
    "## Algoritmos de Minima Distancia de Edición\n",
    "\n",
    "Hay una variedad de algoritmos basados en la distancia de edición que difieren en qué operaciones utilizan, cuánto peso atribuyen a cada operación, qué tipo de cadenas para las que son adecuados y más, con una variedad de paquetes para obtener cada similitud.\n",
    "\n",
    "<img src=\".\\img\\130.png\" width=\"650px\" height=\"350px\">\n",
    "\n",
    "Compararemos cadenas usando la distancia de Levenshtein, ya que se es la forma más general de coincidencia de cadena utilizando el paquete `thefuzz`.\n",
    "\n",
    "`thefuzz` es un paquete para realizar la comparación de cadenas.\n",
    "\n",
    "Primero importaremos `fuzz` desde `thefuzz`, lo que nos permite comprarar entre cadenas individuales.\n",
    "\n",
    "Aquí usamos la función `WRatio` de `fuzz` para calcular la similitud entre la lectura y su error tipográfico, ingresando cada cadena como un argumento.\n",
    "\n",
    "**`from thefuzz import fuzz`**\n",
    "\n",
    "**`fuzz.WRatio('Reeding','Reading')`**\n",
    "\n",
    "--> `86`\n",
    "\n",
    "Para cualquier función de comparación que use `thefuzz`, nuestra salida es una puntuación de 0 a 100, siendo 0 nada parecido y 100 una coincidencia exacta. No confunda esto con la puntuación minima de distancia de edición, donde una distancia de edición minima más baja significa una coincidencia más cercana.\n",
    "\n",
    "\n",
    "## Cadenas parciales y diferentes órdenes.\n",
    "\n",
    "La función `WRatio` es muy robusta frente a la comparación de cadenas parciales con diferentes órdenes. Por ejemplo, aquí compraramos la cadena \"Hoston Rockets\" y \"Rockets\", y aun asi recibimos una alta puntuación de similitud.\n",
    "\n",
    "**`fuzz.WRatio(\"Hoston Rockets\", \"Rockets\")`**\n",
    "\n",
    "--> `90`\n",
    "\n",
    "Lo mismo puede decirse de las cadenas \"Houston Rockests vs Los Angeles Lakers\" y \"Lakers vs Rockets\", donde los nombres de los equipos son solo parciales y están ordenadas de manera diferente.\n",
    "\n",
    "**`fuzz.WRatio(\"Houston Rockests vs Los Angeles Lakers\", \"Lakers vs Rockets\")`**\n",
    "\n",
    "--> `86`\n",
    "\n",
    "\n",
    "\n",
    "## Comparacion con Matriz\n",
    "\n",
    "También podemos comparar una cadena con una matriz de cadenas utilizando la función de extracción del módulo de proceso de fuzzy wuzzy.\n",
    "\n",
    "La extracción toma una cadena, una matriz de cadena y el número de coindicencias posibles a devolver clasficiadas de mayor a menor.\n",
    "\n",
    "Devuelve una lista de tuplas con 3 elementos, siendo el primero la cadena correspondiente, el segundo es un puntaje de similitud y el tercero es su índice en la matriz.\n",
    "\n",
    "**`from thefuzz import process`**\n",
    "\n",
    "**`string = \"Houston Rockets vs Los Angeles Lakers\"`**\n",
    "\n",
    "**`choices = pd.Series(['Rockets vs Lakers', 'Lakers vs Rockets', 'Houston vs Los Angeles', 'Heat vs Bulls'])`**\n",
    "\n",
    "\n",
    "**`process.extract(string, choices, limit = 2)`**\n",
    "\n",
    "\n",
    "--> `[('Rockets vs Lakers', 86, 0), ('Lakers vs Rockets', 86, 1)]`\n",
    "\n",
    "\n",
    "## Colapsar categorías con similitud de cadenas \n",
    "\n",
    "Anteriormente, aprendi que agrupar datos en categorías es un aspecto esencial del trabajo con datos categóricos y de texto, y vimos cómo reemplazar categorias manualmente en una columna de un DataFrame.\n",
    "\n",
    "Usando `.replace()` para colapsar `eur` en `Europe`.\n",
    "\n",
    "Pero, y si tuvieramos tantas categorias inconsistentes que un reemplazo manual simplemente no es factible?\n",
    "\n",
    "`\"EU\", \"eur\", \"Europ\", \"Europa\", \"Erope\", \"Evropa\", ...`\n",
    "\n",
    "Podemos hacer eso fácilmente con la similitud de cadenas.\n",
    "\n",
    "\n",
    "## Colapsar categorías con concordancia de cadenas\n",
    "\n",
    "Digamos que tenemos una encuentas con nombre DataFrame que contiene respuestas de los encuestados del estado de Nueva York y Califorma preguntándoles qué tan probable es que se mude en una escala de 0 a 5. El campo de estado era texto libre y contiene cientos de errores tipográficos. Reasignarlos manualmente llevaria una gran cantidad de tiempo. En su lugar, usaremos la similitud de cadenas.\n",
    "\n",
    "Tambien tenemos un DataFrame de categoria que contiene las categorías correctas para cada estado.\n",
    "\n",
    "Colapsemos las categorias incorrectas con coincidencias de cadenas.\n",
    "\n",
    "\n",
    "<img src=\".\\img\\131.png\" width=\"750px\" height=\"350px\">\n",
    "\n",
    "\n",
    "## Colapsando todos los estados\n",
    "\n",
    "Primero creamos un ciclo for iterando sobre cada estado escrito correctamente en las categorias DataFrame.\n",
    "\n",
    "Para cada estado, encontramos sus coincidencias en la columna de estado del DataFrame de la encuesta, devolviendo todas las coincidencias posibles configurando el argumento de límite de extracto a la longitud del DataFrame de la encuestas.\n",
    "\n",
    "Luego iteramos sobre cada coindicencia potencial, aislando las que solo con una puntuación de similitud superior o igual a 80 con una declaracion if.\n",
    "\n",
    "Luego, para cada una de esasa cadenas devueltas, las reempladamos con el estado correcto usando el método `.loc()`.\n",
    "\n",
    "<img src=\".\\img\\132.png\" width=\"750px\" height=\"350px\">\n",
    "\n",
    "\n",
    "## Vinculación de registros\n",
    "\n",
    "Registre los intentos de vinculación para unir fuentes de datos que tiene un duplicado valor inexacto similar, de modo que terminemos con un DataFrame final sin duplicados usando la similitud de cadenas.\n",
    "\n",
    "<img src=\".\\img\\133.png\" width=\"550px\" height=\"350px\">"
   ]
  },
  {
   "cell_type": "markdown",
   "id": "89149fd2",
   "metadata": {},
   "source": [
    "# Generando Pares\n",
    "\n",
    "Anteriormente en Vinculación de registros, vimos cómo registrar vinculación intenta unir fuentes de datos con valores duplicados inexactos.\n",
    "\n",
    "Por ejemplo, aquí hay dos DataFrames que contiene juegos de la NBA y sus horarios. Ambos han sido extraídos de diferentes sitios y nos gustaria combinarlos, y tener un DataFrame que contenga todos los juegos únicos. Vemos que hay valores duplicados en ambos DataFrames con nombres diferentes marcos aqui en morado y valores no duplicados, marcados en verde(Tilde de okay). Dato que hay juegos que ocurren al mismo tiempo, no hay un identificador único común entre los DataFrames y los eventos tienen un nombre diferentente, una unión o fusión normal no funcionará. Aquí es donde entra en juego la vinculación de registros.\n",
    "\n",
    "<img src=\".\\img\\133.png\" width=\"550px\" height=\"350px\">\n",
    "\n",
    "\n",
    "## Vinculación de registros\n",
    "\n",
    "La vinculación de registros es el acto de vincular datos de diferentes fuentes con repescto a la misma entidad. Generalmente, limpiamos dos o más DataFrames, generamos pares de marcos registros potencialmente coindidentes, puntúe estos pares de acuerdo con la similitud de cadenas y otras métricas de similitud, y vincúlelos.\n",
    "\n",
    "Todos estos pasos se pueden lograr con el paquete `recordlinkage`.\n",
    "\n",
    "<img src=\".\\img\\134.png\" width=\"550px\" height=\"350px\">\n",
    "\n",
    "## Nuestros DataFrames\n",
    "\n",
    "Aquí tenemos dos tramas de datos, censo_A y censo_B, que contiene datos sobre personas en todos los estados.\n",
    "\n",
    "Queremos fusionarlos y evitar la duplicación mediante la vinculación de registros, ya que se recopilar manualmente y son propensos a errores tipográficos, no hay identificaciones consistentes entre ellos.\n",
    "\n",
    "<img src=\".\\img\\135.png\" width=\"750px\" height=\"350px\">\n",
    "\n",
    "\n",
    "## Generando pares\n",
    "\n",
    "Primero queremos generar pares entre ambos DataFrames. Idealmente, queremos generar todos los pares posibles entre nuestros DataFrames.\n",
    "\n",
    "<img src=\".\\img\\136.png\" width=\"550px\" height=\"350px\">\n",
    "\n",
    "\n",
    "Pero, ¿y si tuviéramos grandes DataFrames y termináramos generando millones, si no miles de millones, de pares?\n",
    "\n",
    "<img src=\".\\img\\137.png\" width=\"650px\" height=\"350px\">\n",
    "\n",
    "No resultaría escalable y poría dificultar seriamente el tiempo de desarrollo.\n",
    "\n",
    "\n",
    "\n",
    "## Bloqueo\n",
    "\n",
    "Aquí es donde aplicamos lo que llamamos bloqueo, que crea pares basados en una columna coincidente, que en este caso, la columna de estado, reduciendo el número de pares posibles.\n",
    "\n",
    "<img src=\".\\img\\138.png\" width=\"550px\" height=\"350px\">\n",
    "\n",
    "\n",
    "## Práctica: Generando pares\n",
    "\n",
    "Para hacer esto, primero comenzamos importando la vinculación de registros. Luego usamos la función de índice de punto de vinculación de registros para crear un objeto de indexación. \n",
    "\n",
    "Este es esencialmente un objeto que podemos usar para generar pares a partir de nuestros DataFrames.\n",
    "\n",
    "Para generar pares bloqueados en estado, usamos el método de bloque ingresando la columna de estado como entrada.\n",
    "\n",
    "Una vez inicializado el objeto indexador, generamos nuestros pares utilizando el método de índice de puntos, que toma los dos marcos de datos.\n",
    "\n",
    "**`import recordlinkage`**\n",
    "\n",
    "**`indexer = recordlinkage.Index()`**\n",
    "\n",
    "**`indezer.block('state')`**\n",
    "\n",
    "**`pairs = indexer.index(census_A, census_B)`**\n",
    "\n",
    "El objeto resultante es un objeto de múltiples índices de pandas que contieen pares de índices de fila de ambos DataFrames, que es una forma elegante de decir que es una matriz que contiene pares de índices que hacen que sea mucho más fácil crear subconjuntos de tramas de datos.\n",
    "\n",
    "**`print(pairs)`**\n",
    "\n",
    "<img src=\".\\img\\139.png\" width=\"750px\" height=\"350px\">\n",
    "\n",
    "\n",
    "## Comparando los DataFrames\n",
    "\n",
    "Dado que ya hemos generado nuestros pares, es hora de encontrar posibles coincidencias.\n",
    "\n",
    "Primero comenzamos creando un objeto de comparación usando la función de comparación de punto de enlace de registro (`.Compare()`). Esto es similar al objeto de indexación que creamos mientras genera pares, pero este se encarga de asignar diferentes procedimientos de comparación para pares.\n",
    "\n",
    "Digamos que hay columnas para las que queremos coincidencias exactas entre los pares. Para hacer eso, usamos el metodo `.exact()`. Toma el nombre de la columna en cuestión para cada DataFrame, que en este caso es  \"date_of_bith\" y \"state\", y un argumento de etiqueta que nos permite establecer el nombre de la columna en el DataFrame resultante.\n",
    "\n",
    "Ahora, para calcular similitudes de cadenas entre pares de filas para columnas que tienen valores, usamos el método de cadena de puntos (`.string`), que también toma en los nombres de columna en cuestión, el punto de corte de similitud en el argumento del umbral, que toma un valor entre 0 y 1, que aquí establecemos en 0.85.\n",
    "\n",
    "Finalmente, para calcular las coincidencias, usamos la función de cálculo (`.compute()`), que toma los posibles pares y los dos DataFrames en cuestión.\n",
    "\n",
    "Tenga en cuenta que debe tener siempre el mismo orden de DataFRames al insertarlos como argumento al generar pares, comparar entre columnas y calcular comparaciones. \n",
    "\n",
    "**`pairs = indexer.index(census_A, census_B)`**\n",
    "\n",
    "**`compare_cl = recordlinkage.Compare()`**\n",
    "\n",
    "**`compare_cl.exact('date_of_birth', 'date_of_birth', label = 'date_of_birth')`**\n",
    "\n",
    "**`compare_cl.exact('state', 'state', label = 'state')`**\n",
    "\n",
    "**`compare_cl.string('surname', 'surname', threshold = 0.85, label = 'surname')`**\n",
    "\n",
    "**`compare_cl.string('address_1', 'address_1', threshold = 0.85, label = 'address_1')`**\n",
    "\n",
    "**`potential_matches = compare_cl.compute(pairs, census_A, census_B)`**\n",
    "\n",
    "\n",
    "\n",
    "La salida es un DataFrame de múltiples índices, donde el primer índice es el índice de fila del primer DataFrame, o censa_A, y el segundo índice es una lista de tosos los ínidces de fila en el censo_B.\n",
    "\n",
    "Las columnas son las columnas que se comparan, con valores de 1 para una coindicencia y 0 para ninguna coincidencia.\n",
    "\n",
    "**`print(potential_matches)`**\n",
    "\n",
    "<img src=\".\\img\\140.png\" width=\"650px\" height=\"350px\">\n",
    "\n",
    "\n",
    "## Encontrar los únicos pares que queremos\n",
    "\n",
    "Para encontrar coincidencia potenciales, solo filtramos las filas donde la suma de los valores de fila es superior a cierto umbral, que en este caso mayor o igual a 2.\n",
    "\n",
    "**`potential_matches[potential_matches.sum(axis = 1) >= 2]`**\n",
    "\n",
    "<img src=\".\\img\\141.png\" width=\"650px\" height=\"350px\">"
   ]
  },
  {
   "cell_type": "markdown",
   "id": "e4792c9d",
   "metadata": {},
   "source": [
    "# Vinculación de tramas de datos\n",
    "\n",
    "\n",
    "## Nuestros DataFrames\n",
    "\n",
    "<img src=\".\\img\\135.png\" width=\"750px\" height=\"350px\">\n",
    "\n",
    "Ya generamos pares entre ellos, comparamos cuatro de sus columnas, dos para coincidencias exactas y dos para similitud de cadenas junto con un umbral de 0.85 y encontró posibles coindicencias.\n",
    "\n",
    "#Importar recordlinkage y generar todos los pares con bloqueo\n",
    "\n",
    "**`import recordlinkage`** \n",
    "\n",
    "**`indexer = redordlinkage.Index()`**\n",
    "\n",
    "**`indexer.block('state')`**\n",
    "\n",
    "**`full_pairs = indexer.index(census_A, census_B)`**\n",
    "\n",
    "\n",
    "#Paso de Comparación\n",
    "\n",
    "**`compare_cl = recordlinkage.Compare()`**\n",
    "\n",
    "**`compare_cl.exact('date_of_birth', 'date_of_birth', label = 'date_of_birth')`**\n",
    "\n",
    "**`compare_cl.exact('state', 'state', label = 'state')`**\n",
    "\n",
    "**`compare_cl.string('surname', 'surname', threshold = 0.85, label = 'surname')`**\n",
    "\n",
    "**`compare_cl.string('address_1', 'address_1', threshold = 0.85, label = 'address_1')`**\n",
    "\n",
    "**`potential_matches = compare_cl.compute(pairs, census_A, census_B)`**\n",
    "\n",
    "\n",
    "## Qué hacemos ahora?\n",
    "\n",
    "<img src=\".\\img\\142.png\" width=\"550px\" height=\"350px\">\n",
    "\n",
    "Ahora es el momento de vincular ambos marcos de datos del censo.\n",
    "\n",
    "## Nuestras potenciales coincidencias\n",
    "\n",
    "Echemos un vistazo de cerca a nuestras coinciencias potenciales. Es un DataFrame de múltiples indices, donde tenemos dos columnas deíndices, ID de registro 1 e ID de registro 2.\n",
    "\n",
    "**`print(potential_matches)`**\n",
    "\n",
    "<img src=\".\\img\\143.png\" width=\"550px\" height=\"350px\">\n",
    "\n",
    "La primera columna de índices almacena índices del censo A.\n",
    "\n",
    "La segunda columna de índice almacena todos los índices posibles de censo_B, para cada índice de fila de censo_A.\n",
    "\n",
    "Las columnas de nuestras coincidencias potenciales son las columnas que elegimos para que vincule ambos DataFrames, donde el valor es 1 para una coincidencia y 0 en caso contrario.\n",
    "\n",
    "\n",
    "## Coincidencias probables\n",
    "\n",
    "El primer paso para vincular DataFrames es aislar los pares potencialmente coincidentes con aquellos de los que estamos bastante seguros. Vimos cómo hacer esto, subdividiendo las filas donde la suma de las filas está por encima de un cierto número de columnas, en este caso 3.\n",
    "\n",
    "**`matches = potential_matches[potential_matches.sum(axis = 1) >= 3]`** \n",
    "\n",
    "**`print(matches)`**\n",
    "\n",
    "<img src=\".\\img\\144.png\" width=\"650px\" height=\"350px\">\n",
    "\n",
    "El resultado son índices de fila entre el censo A y el censo B que probablemente sean duplicados.\n",
    "\n",
    "Nuestro siguiente paso es extraer una de las columnas de índice, y subdividir se DataFrame asociado para filtrar duplicados.\n",
    "\n",
    "\n",
    "Aquí elegimos la segunda columna de índices, que represencia los índices de fila del censo B. Queremos extraer esos índices y crear un subconjunto de censos_B en ellos para eliminar los duplicados con censo_A antes de unirlos.\n",
    "\n",
    "\n",
    "## Obtener los indices\n",
    "\n",
    "Podemos acceder al índice de un DataFrame usando elatributo index. Dado que se trata de un DataFrame de índice múltiple, devuelve un objeto de índice múltiple que contiene pares de índices de fila de censo_A y censo_B respectivamente.\n",
    "\n",
    "\n",
    "**`matches.index`**\n",
    "\n",
    "<img src=\".\\img\\145.png\" width=\"700px\" height=\"350px\">\n",
    "\n",
    "Queremos extraer todos los índices censo_B, asi que lo encadenamos con el método `.get_level_values`, que toma en qué índice de columna queremos extraer sus valores, podemos ingresar el nombre de la columna de índice o su orden, que en este caso es 1.\n",
    "\n",
    "#obtener índices sólo de censo_B\n",
    "\n",
    "**`duplicate_row = matches.index.get_level_values(1)`**\n",
    "\n",
    "**`print(census_B_index)`**\n",
    "\n",
    "<img src=\".\\img\\146.png\" width=\"700px\" height=\"350px\">\n",
    "\n",
    "\n",
    "## Vinculación de DataFrames\n",
    "\n",
    "\n",
    "Para encontrar los duplicados en el censo_B, simplemente creamos subconjuntos en todos índices del censo_B, con los encontrados por vinculación de registros.\n",
    "\n",
    "Puede optar por examinarlos más en busca de similitudes con sus duplicados en censo_A, pero si está seguro de su análisis, puede continuar y encontrar los no duplicados repitiendo exactamente la misma línea de código, excepto agregando una tilde al comienzo de su subconjunto.\n",
    "\n",
    "#Encontrar duplicados en census_B\n",
    "\n",
    "**`census_B_duplicates = census_B[census_B.index.isin(duplicate_rows)]`**\n",
    "\n",
    "#Encontrar nuevas filas en census_B\n",
    "\n",
    "**`census_B_duplicates = census_B[~census_B.index.isin(duplicate_rows)]`**\n",
    "\n",
    "Ahora que tiene sus no duplicados, todo lo que necesita e sun simple agregado usando el método de agregar DataFrame del Censo A, y tiene sus datos vinculados.\n",
    "\n",
    "#Vincular los DataFrames\n",
    "\n",
    "**`full_census = census_A.append(census_B_new)`**\n",
    "\n",
    "---\n",
    "\n",
    "\n",
    "\n",
    "En resumen, lo que hicimos fue contruir sobre nuestro trabajo anterior un generar pares, comparar entre columnas y encontrar posibles coicidencias. Luego aislamos todas las coincidencias posibles, donde hay coincidencias en 3 columnas o más, asegurándonos de que reforzamos nuestra búsqueda de duplicados en ambos DataFrames antes de vincularlos.\n",
    "\n",
    "Extrajo los índices de fila de censo_B donde hay duplicados. Se encontrarlos filas de censo_B donde no están duplicadas con Censo_A usando el símbolo `~`. Y cinculo ambos DataFrames para obtener resultados completos del censo.\n",
    "\n",
    "\n",
    "#Importar recordlinkage y generar pares y comparar entre columnas\n",
    "\n",
    "...\n",
    "\n",
    "#Generar potenciales coincidencias\n",
    "\n",
    "**`potential_matches = compare_cl.compute(full_pairs, census_A, census_B)`** \n",
    "\n",
    "#Aislar coincidencias con valores coincidentes para 3 o más columnas\n",
    "\n",
    "**`matches = potential_matches[potential_matches.sum(axis = 1) >= 3]`**\n",
    "\n",
    "#Obtener índice sólo para la fila census_B coincidente\n",
    "\n",
    "**`duplicate_rows = matches.index.get_level_values(1)`**\n",
    "\n",
    "#Encontrar nuevas filas en census_B\n",
    "\n",
    "**`census_B_new = census_B[~census_B.index.isin(duplicate_rows)]`**\n",
    "\n",
    "#Vincular los DataFrames\n",
    "\n",
    "**`full_census = census_A.append(census_B_new)`**\n",
    "\n"
   ]
  },
  {
   "cell_type": "markdown",
   "id": "8478dc48",
   "metadata": {},
   "source": [
    "<h1 style='background:#000000; color:#FFFFFF;height: 55px;padding-top: 13px;font-size: 25px;border-style: double;'><center>Curso: Trabajar con fechas y horas en Python</center></h1><a name=\"TrabajarconfechasyhorasenPython\"></a>\n",
    "\n",
    "\n",
    "# Fechas en Python\n",
    "\n",
    "Las fechas están en todas partes en la ciencia de datos.\n",
    "\n",
    "Los precios de las acciones suben y bajan, lo experimentos comienzan y terminan, nacen personas, los politicos vota, y asi sucesivamente. Todos estos eventos suceden en un momento particular en el tiempo. Saber cómo analizar datos a lo largo del tiempo es una habilidad fundamental de la ciencia de datos.\n",
    "\n",
    "\n",
    "\n",
    "## ¿Por qué necesitamos una clase de fecha especial?\n",
    "\n",
    "\n",
    "Para entender cómo funcionan las fechas, en este capitulo vas a explorar 67 años de la llegada de huracanes al estado estadounidense de Florida.\n",
    "\n",
    "two_hurricanes es una lista con las fechas de dos huracanes representados como cadenas: el último huracán de 2016 (el 7 de octubre de 2016) y el primer huracán de 2017 (el 21 de junio de 2017). Las fechas se representan al estilo estadounidense, con el mes, luego el dia y luego el año.\n",
    "\n",
    "`two_hurricanes = ['10/7/2016', '6/21/2017']`\n",
    "\n",
    "Supongamos que quiere hacer algo interesante con estas fechas.\n",
    "\n",
    "- ¿Cómo calcularías cuántos días habían transcurrido entre ellos?\n",
    "- ¿Cómo comprobaría que se ordenaron de la más antigua a la más reciente?\n",
    "- ¿Cómo sabrías qué día de la semana era cada uno?\n",
    "\n",
    "Hacer estas cosas manualmente sería un desafío, pero Python las hace todas fáciles.\n",
    "\n",
    "\n",
    "## Crear un objeto de fecha\n",
    "\n",
    "\n",
    "Para crear un objeto de fecha, comenzamos importando la clase de fecha. La colección de clases relacionadas con la fecha y la hora se almacenan en el paquete `datetime`. \n",
    "\n",
    "Creamos una fecha usando la función `date()`. Aquí hemos creado fechas correspondientes a los dos huracanes, ahora como objetos de fecha de Python.\n",
    "\n",
    "Las entradas para `date()` son el año, el mes y el día. La primera fecha es el 7 de octubre de 2016 y la segunda fecha es el 21 de junio de 2017. \n",
    "\n",
    "El orden es fácil de recordar: va de mayor a menor -> Año, mes, dia.\n",
    "\n",
    "\n"
   ]
  },
  {
   "cell_type": "code",
   "execution_count": 15,
   "id": "a3e7b5f2",
   "metadata": {},
   "outputs": [],
   "source": [
    "from datetime import date\n",
    "\n",
    "two_hurricanes_dates = [date(2016,10,7), date(2017,6,21)]"
   ]
  },
  {
   "cell_type": "markdown",
   "id": "d24dfa6f",
   "metadata": {},
   "source": [
    "## Atributos de una fecha\n",
    "\n",
    "Puede acceder a los componentes individuales de una fecha usando los atributos de la fecha.\n",
    "\n",
    "Puede acceder al año de la fecha usando el atributo `.year`, así y el resultado es 2016. Del mismo modo, puede acceder al mes y al día usando los atributos e mes y día como este."
   ]
  },
  {
   "cell_type": "code",
   "execution_count": 23,
   "id": "cb0fc5f1",
   "metadata": {},
   "outputs": [
    {
     "name": "stdout",
     "output_type": "stream",
     "text": [
      "2016\n",
      "10\n",
      "7\n"
     ]
    }
   ],
   "source": [
    "print(two_hurricanes_dates[0].year)\n",
    "print(two_hurricanes_dates[0].month)\n",
    "print(two_hurricanes_dates[0].day)"
   ]
  },
  {
   "cell_type": "markdown",
   "id": "e3cbe48f",
   "metadata": {},
   "source": [
    "## Encontrar el día de la semana de una fecha\n",
    "\n",
    "Tambien puede pedirle a Python que haga un trabajo más complicado.\n",
    "\n",
    "Aquí llamamos al método `.weekday()` en la fecha y veamos que el día de la semana es `4`. \n",
    "\n",
    "¿Qué significa 4 aquí?\n",
    "\n",
    "Python cuenta los días de la semana desde 0, a partir del lunes... Lo que el `4` significa que esta fecha fue un viernes.\n",
    "\n",
    "<img src=\".\\img_3\\16.png\" width=\"200px\" height=\"350px\">"
   ]
  },
  {
   "cell_type": "code",
   "execution_count": 26,
   "id": "273e7fdf",
   "metadata": {},
   "outputs": [
    {
     "name": "stdout",
     "output_type": "stream",
     "text": [
      "4\n"
     ]
    }
   ],
   "source": [
    "print(two_hurricanes_dates[0].weekday()) # --> 4: Viernes"
   ]
  },
  {
   "cell_type": "markdown",
   "id": "fdcb9ab6",
   "metadata": {},
   "source": [
    "# Matemáticas con fechas\n",
    "\n",
    "Pongamos dos fechas ene sta línea del calendario: 5 de noviembre de 2017 y 4 de diciembre de 2017.\n",
    "\n",
    "<img src=\".\\img_3\\17.png\" width=\"400px\" height=\"350px\">\n",
    "\n",
    "Representemos esto en Python. Comenzamos importanto la clase de fecha del paquete de fecha y hora.\n",
    "\n",
    "Creamos dos objeto de fecha: d1 es el 5 de noviembre de 2017 y d2 es el 4 de diciembre de 2017.\n",
    "\n",
    "Como antes, los ponemos en una lista, `l`.\n",
    "\n",
    "Lo que Python está haciendo bajo el capó, por así decirlo, no es tan diferente de poner las fechas en una línea de calendario. Por ejemplo, si llamamos `min()` a la lista `l`, obtenemos le fecha \"menor\", lo que significa que es la más antigua. En este caso, eso es el 5 de noviembre de 2017."
   ]
  },
  {
   "cell_type": "code",
   "execution_count": 2,
   "id": "bed06a57",
   "metadata": {},
   "outputs": [
    {
     "name": "stdout",
     "output_type": "stream",
     "text": [
      "2017-11-05\n"
     ]
    }
   ],
   "source": [
    "from datetime import date\n",
    "\n",
    "d1 = date(2017,11,5)\n",
    "d2 = date(2017,12,4)\n",
    "\n",
    "l = [d1, d2]\n",
    "\n",
    "print(min(l))"
   ]
  },
  {
   "cell_type": "markdown",
   "id": "33385b64",
   "metadata": {},
   "source": [
    "Y al igual que los números, podemos restar dos fechas. Cuando hacemos esto, obtenemos un objeto de tipo `timedelta`.\n",
    "\n",
    "Timedeltas nos da el tiempo transcurrido entre eventos. Si accede al atributo de días de este objeto, puede obtener el número de días entre las dos fechas."
   ]
  },
  {
   "cell_type": "code",
   "execution_count": 4,
   "id": "1510b4ce",
   "metadata": {},
   "outputs": [
    {
     "name": "stdout",
     "output_type": "stream",
     "text": [
      "29\n"
     ]
    }
   ],
   "source": [
    "delta = d2 - d1\n",
    "\n",
    "print(delta.days)"
   ]
  },
  {
   "cell_type": "markdown",
   "id": "416899ba",
   "metadata": {},
   "source": [
    "### Sumar dias a una fecha inicial\n",
    "\n",
    "También podemos usar un timedelta en la otra dirección.\n",
    "\n",
    "Primero, importemos `timedelta` desde `datetime`. A continuación, creamos un timedelta de 29 días, pasando `days = 29` a `timedelta()`. \n",
    "\n",
    "Ahora, cuando agregamos `td` a nuestra fecha original, regresamos al 4 de diciembre de 2017.\n",
    "\n",
    "Python manejó el hecho de que noviembre tiene 30 días para nosotrsos, sin nosotros tener que recordar qué meses son meses de 30 días, meses de 30 días o meses de 28 días."
   ]
  },
  {
   "cell_type": "code",
   "execution_count": 7,
   "id": "65f65474",
   "metadata": {},
   "outputs": [
    {
     "name": "stdout",
     "output_type": "stream",
     "text": [
      "2017-12-04\n"
     ]
    }
   ],
   "source": [
    "from datetime import timedelta\n",
    "\n",
    "td = timedelta(days = 29)\n",
    "\n",
    "print(d1+td)"
   ]
  },
  {
   "cell_type": "markdown",
   "id": "d1e4fb05",
   "metadata": {},
   "source": [
    "## Ordenar una lista de fechas\n",
    "\n",
    "Para ordenar una lista de fechas de la más antigüa a la más reciente, puedo hacerlo usando la función `sorted()`, donde como argumento debo pasarle la lista que contiene las fechas."
   ]
  },
  {
   "cell_type": "code",
   "execution_count": 13,
   "id": "8c16d689",
   "metadata": {},
   "outputs": [
    {
     "name": "stdout",
     "output_type": "stream",
     "text": [
      "[datetime.date(2017, 11, 5), datetime.date(2017, 12, 4)]\n",
      "2017-11-05\n"
     ]
    }
   ],
   "source": [
    "ordenadas = sorted(l)\n",
    "print(ordenadas)\n",
    "\n",
    "print(l[0])"
   ]
  },
  {
   "cell_type": "markdown",
   "id": "50dc3d01",
   "metadata": {},
   "source": [
    "# Convertir fechas en cadenas\n",
    "\n",
    "Python tiene un conjunto de herramientas muy flexible para convertir las fechas en cadenas para que se puedan leer fácilmente.\n",
    "\n",
    "Queremos volver a poner fechas en cadenas cuando, por ejemplo, queremos imprimir resultados, pero también si queremos poner fechas en nombres de archivos, o si queremos escribir fechas en archivos CSV  o Excel.\n",
    "\n",
    "\n",
    "## Formato ISO 8601\n",
    "\n",
    "Por ejemplo, creemos una fecha y veamos cómo Python la imprime por defecto. Como antes, importamos `datetime` y volvemos a crear un objeto para el 5 de noviembre de 2017.\n",
    "\n",
    "Cuando le pedimos a Python que imprima la fecha, imprime el año, el mesdia y luego el dia, separados por guiones, y siempre con dos dígitos para el día y el mes.\n",
    "\n",
    "En el comentario, puede ver anotado esto como YYYY-MM-DD; año de cuatro digitos, mes de dos dígitos y día del mes de dos dígitos.\n",
    "\n",
    "Este formato predeterminado también se conoce como formato ISO o formato ISO 8601, según la norma internacional ISO 8601 en la que se basa.\n",
    "\n",
    "Las cadenas ISO 8601 siempre tienen la misma longitud, ya que el mes y el día se escriben con 0 cuando son inferiores a 10."
   ]
  },
  {
   "cell_type": "code",
   "execution_count": 18,
   "id": "e6a13bca",
   "metadata": {},
   "outputs": [
    {
     "name": "stdout",
     "output_type": "stream",
     "text": [
      "2017-11-05\n",
      "<class 'datetime.date'>\n"
     ]
    }
   ],
   "source": [
    "from datetime import date\n",
    "\n",
    "day = date(2017,11,5)\n",
    "\n",
    "# ISO Format: YYYY-MM-DD\n",
    "print(day)\n",
    "print(type(day))"
   ]
  },
  {
   "cell_type": "markdown",
   "id": "18749b90",
   "metadata": {},
   "source": [
    "Si queremos la representación ISO de una fecha como una cadena, digamos que la escriba a un archivo CSV en lugar de simplemente imprimirlo, puede llamar al método `.isoformat()`.\n",
    "\n",
    "En este ejemplo, lo colocamo dentro de una lista para que pueda ver que crea una cadena."
   ]
  },
  {
   "cell_type": "code",
   "execution_count": 23,
   "id": "cd373b42",
   "metadata": {},
   "outputs": [
    {
     "name": "stdout",
     "output_type": "stream",
     "text": [
      "['2017-11-05']\n",
      "2017-11-05\n",
      "<class 'str'>\n"
     ]
    }
   ],
   "source": [
    "print([day.isoformat()])\n",
    "print(day.isoformat())\n",
    "print(type(day.isoformat()))"
   ]
  },
  {
   "cell_type": "markdown",
   "id": "6e7c9b01",
   "metadata": {},
   "source": [
    "El formato ISO 8601 tiene otra buena ventaja. Para demostrarlo, hemos creado una varible llamada some_dates y representó dos fechas aquí como cadenas: 1 de enero de 2000 y 31 de diciembre de 1999.\n",
    "\n",
    "La fechas formateadas como cadenas ISO 8601 se ordenan correctamente. Cuando imprimimos la versión ordenada de esta lista, el día anterior es el primero y la fecha posterior es la segunda."
   ]
  },
  {
   "cell_type": "code",
   "execution_count": 25,
   "id": "cd610054",
   "metadata": {},
   "outputs": [
    {
     "name": "stdout",
     "output_type": "stream",
     "text": [
      "['1999-12-31', '2000-01-01']\n"
     ]
    }
   ],
   "source": [
    "some_date = ['2000-01-01', '1999-12-31']\n",
    "\n",
    "print(sorted(some_date))"
   ]
  },
  {
   "cell_type": "markdown",
   "id": "d74eb79d",
   "metadata": {},
   "source": [
    "Por ejemplo, si usamos fechas ISO 8601 en los nombre de archivos, se pueden ordenar correctamente desde la más antigüa hasta la más reciente.\n",
    "\n",
    "Si tuviéramos primero el mes o el día, las cadenas no se clasificaría en orden cronológico.\n",
    "\n",
    "\n",
    "\n",
    "## Cualquier otro formato\n",
    "\n",
    "\n",
    "Si no desea poner las fechas en formato ISO 8601, Python tiene un conjunto de opciones de formatos flexibles para representar fechas de otras formas, utilizando el método `.strftime()`.\n",
    "\n",
    "`strftime()` funciona el prermitirle pasar una \"cadena de formato\" que Python usa para formatear su fecha."
   ]
  },
  {
   "cell_type": "code",
   "execution_count": 27,
   "id": "01a9a158",
   "metadata": {},
   "outputs": [
    {
     "name": "stdout",
     "output_type": "stream",
     "text": [
      "2017\n"
     ]
    }
   ],
   "source": [
    "d = date(2017,1,5)\n",
    "\n",
    "print(d.strftime('%Y'))"
   ]
  },
  {
   "cell_type": "markdown",
   "id": "e5d73879",
   "metadata": {},
   "source": [
    "Aunque `strftime()` es muy flexible: podemos darle cadenas arbitrarias con `%Y` en ellos para la cadena de formato, y se pegará el año.\n",
    "\n",
    "Por ejemplo, podemos usar la cadena de formato \"Year is %Y\"."
   ]
  },
  {
   "cell_type": "code",
   "execution_count": 30,
   "id": "ff1d17b0",
   "metadata": {},
   "outputs": [
    {
     "name": "stdout",
     "output_type": "stream",
     "text": [
      "Year is 2017\n"
     ]
    }
   ],
   "source": [
    "print(d.strftime('Year is %Y'))"
   ]
  },
  {
   "cell_type": "markdown",
   "id": "6c3909be",
   "metadata": {},
   "source": [
    "`strftime()` tiene otros marcadores de posición además de `%Y`: `%m` da el mes, `%d` da el dia del mes. Usando estos, podemos representar fechas en formatos arbitrarios para cualquiera que sea nuestras necesidades."
   ]
  },
  {
   "cell_type": "code",
   "execution_count": 32,
   "id": "d15a00e6",
   "metadata": {},
   "outputs": [
    {
     "name": "stdout",
     "output_type": "stream",
     "text": [
      "2017/01/05\n"
     ]
    }
   ],
   "source": [
    "print(d.strftime('%Y/%m/%d'))"
   ]
  },
  {
   "cell_type": "code",
   "execution_count": 36,
   "id": "8bdebd97",
   "metadata": {},
   "outputs": [
    {
     "name": "stdout",
     "output_type": "stream",
     "text": [
      "01 (January)\n"
     ]
    }
   ],
   "source": [
    "# %B me dice el mes en ingles, en que se encuentra la fecha \n",
    "print(d.strftime('%m (%B)'))"
   ]
  },
  {
   "cell_type": "code",
   "execution_count": 43,
   "id": "1cd4a0a6",
   "metadata": {
    "scrolled": true
   },
   "outputs": [
    {
     "name": "stdout",
     "output_type": "stream",
     "text": [
      "113\n"
     ]
    }
   ],
   "source": [
    "# ME DICE EL DIA DEL AÑO QUE ES --> EL AÑO TIENE 365 DIAS (GENERALMENTE)\n",
    "\n",
    "d_new = date(1997,4,23)\n",
    "\n",
    "print(d_new.strftime('%j')) "
   ]
  },
  {
   "cell_type": "markdown",
   "id": "b3d40b01",
   "metadata": {},
   "source": [
    "# Fechas y horas\n",
    "\n",
    "<img src=\".\\img_3\\18.png\" width=\"300px\" height=\"350px\">\n",
    "\n",
    "Este es un ejemplo de una fecha y una hora juntas: 1 de octubre de 2017 a las 15:23:25. A diferencia de antes, donde solo trabajábamos con la fecha, ahora vamos a incluir también la hora.\n",
    "\n",
    "Veamos cómo representar esto en Python.\n",
    "\n",
    "\n",
    "Lo primero que tenemos que hacer es importa la clase `datetime` del paquete `datetime`. Idealmente, estps tendrían nombre diferentes, pero desafortunadamente por razones históricas tiene el mismo nombre.\n",
    "\n",
    "\n",
    "Vamos a crear una fecha y hora llamada `dt` y rellenar los campos juntos.\n",
    "\n",
    "Los tres primeros argumentos de la clase de fecha y hora son exactamente los mismos que los de la clase de fecha; Año, luego mes y luego el dia, cada uno como un número.\n",
    "\n",
    "A continuación, completamos la hora. Las computadoras generalmente usan un horario de 24 horas, lo que significa que las 3 p.m. se representan como la hora 15 de 24. Metemos los minutos, 23 de 60. Y por último, los segundos.\n",
    "\n",
    "Todos estos argumentos deben ser números enteros; si quieres representar .5 segundos, puede agregar microsegundos a su fecha y hora como ejemplo: `dt = datetime(2017,10,1,15,23,25,500000)`\n",
    "\n",
    "Aquí hemos añadido 500.000 microsegundos, o 0.5 segundos.\n",
    "\n",
    "Es decir, Python descompone los segundo en millonésimas de segundo cuando necesita ese tipo de precisión.\n"
   ]
  },
  {
   "cell_type": "code",
   "execution_count": 3,
   "id": "750c033b",
   "metadata": {},
   "outputs": [
    {
     "name": "stdout",
     "output_type": "stream",
     "text": [
      "2017-10-01 15:23:25\n"
     ]
    }
   ],
   "source": [
    "from datetime import datetime\n",
    "\n",
    "\n",
    "dt = datetime(2017,10,1,15,23,25)\n",
    "print(dt)"
   ]
  },
  {
   "cell_type": "markdown",
   "id": "5f600068",
   "metadata": {},
   "source": [
    "Python tiene un valor predeterminado de 0 microsegundos si no lo incluye.\n",
    "\n",
    "Son muchos argumentos; si ayuda, siempre puede ser más explícito y usar argumento con nombre."
   ]
  },
  {
   "cell_type": "code",
   "execution_count": 4,
   "id": "f47d11bf",
   "metadata": {},
   "outputs": [
    {
     "name": "stdout",
     "output_type": "stream",
     "text": [
      "2017-10-01 15:23:25.500000\n"
     ]
    }
   ],
   "source": [
    "dt = datetime(year=2017, month=10, day=1,\n",
    "             hour=15, minute=23, second=25,\n",
    "             microsecond=500000)\n",
    "\n",
    "print(dt)"
   ]
  },
  {
   "cell_type": "markdown",
   "id": "4883eda6",
   "metadata": {},
   "source": [
    "## Sustitución parcial de una fecha y hora\n",
    "\n",
    "También podemos crear nuevas fechas y horas a partir de las existentes usando el método `.replace()`.\n",
    "\n",
    "Por ejemplo, podemos tomar la fecha y hora que acabamos de hacer y hacer una nueva, que tenga la misma fecha pero se redondea hacia abajo al comienzo de la hora.\n",
    "\n",
    "Llamamos a `dt.replace()` y establecemos minutos, segundos y microsegundos en 0. Esto crea una nueva fecha y hora con los mismos valores en todos los demás campos, pero estos cambiaron."
   ]
  },
  {
   "cell_type": "code",
   "execution_count": 5,
   "id": "64455afa",
   "metadata": {},
   "outputs": [
    {
     "name": "stdout",
     "output_type": "stream",
     "text": [
      "2017-10-01 15:23:25.500000\n"
     ]
    }
   ],
   "source": [
    "print(dt)"
   ]
  },
  {
   "cell_type": "code",
   "execution_count": 8,
   "id": "de0bbce4",
   "metadata": {},
   "outputs": [
    {
     "name": "stdout",
     "output_type": "stream",
     "text": [
      "2017-10-01 15:00:00\n"
     ]
    }
   ],
   "source": [
    "dt_hr = dt.replace(minute=0, second = 0, microsecond=0)\n",
    "print(dt_hr)"
   ]
  },
  {
   "cell_type": "markdown",
   "id": "0db06071",
   "metadata": {},
   "source": [
    "## Atributos de `datetime`\n",
    "\n",
    "Si deseo obtener solo la hora, minuto o segundo de un objeto datetime, puedo hacer uso de los atributos `.hour`, `.minute`, `'second`, `.microsecond`, ..."
   ]
  },
  {
   "cell_type": "code",
   "execution_count": 19,
   "id": "3f850d35",
   "metadata": {},
   "outputs": [
    {
     "name": "stdout",
     "output_type": "stream",
     "text": [
      "2017-10-01 15:23:25.500000\n"
     ]
    }
   ],
   "source": [
    "print(dt)"
   ]
  },
  {
   "cell_type": "code",
   "execution_count": 20,
   "id": "41ce89f4",
   "metadata": {},
   "outputs": [
    {
     "name": "stdout",
     "output_type": "stream",
     "text": [
      "15\n"
     ]
    }
   ],
   "source": [
    "print(dt.hour)"
   ]
  },
  {
   "cell_type": "code",
   "execution_count": 21,
   "id": "ff7f0a93",
   "metadata": {},
   "outputs": [
    {
     "name": "stdout",
     "output_type": "stream",
     "text": [
      "23\n"
     ]
    }
   ],
   "source": [
    "print(dt.minute)"
   ]
  },
  {
   "cell_type": "code",
   "execution_count": 22,
   "id": "15d5a0f0",
   "metadata": {},
   "outputs": [
    {
     "name": "stdout",
     "output_type": "stream",
     "text": [
      "25\n"
     ]
    }
   ],
   "source": [
    "print(dt.second)"
   ]
  },
  {
   "cell_type": "code",
   "execution_count": 23,
   "id": "0650f9bd",
   "metadata": {},
   "outputs": [
    {
     "name": "stdout",
     "output_type": "stream",
     "text": [
      "500000\n"
     ]
    }
   ],
   "source": [
    "print(dt.microsecond)"
   ]
  },
  {
   "cell_type": "markdown",
   "id": "eb674062",
   "metadata": {},
   "source": [
    "# Impresión y análisis de fechas y horas\n",
    "\n",
    "\n",
    "Al igual que las fechas, las fechas y horas se pueden imprimir de muchas maneras. Python también tiene otro truco: puede tomar una cadena y convertirla directamente en una fecha y hora.\n",
    "\n",
    "comencemos con la impresión de fechas y luego pasemos a pedirle a Python que las analice.\n",
    "\n",
    "\n",
    "## Imprimir fecha y hora\n",
    "\n",
    "Primero, vamos a crear una fecha y hora de nuevo. `dt` corresponder al 30 de diciembre de 2017 a las 15:19:13, el final del último viaje que realiza W20529 en nuestro conjunto de datos. \n",
    "\n",
    "Al igual que con los objetos de fecha, usamos `strftime()` para crear una cadena con un formato particular.\n",
    "\n",
    "Primero, simplemente imprimimos el año, el mes y la fecha, usando los mismo códigos de formato que usamos para las fechas.%Y representa el año de cuatro digitos, %m para el mes y %d para el día del mes."
   ]
  },
  {
   "cell_type": "code",
   "execution_count": 26,
   "id": "013bf777",
   "metadata": {},
   "outputs": [
    {
     "name": "stdout",
     "output_type": "stream",
     "text": [
      "2017-12-30\n"
     ]
    }
   ],
   "source": [
    "dt = datetime(2017,12,30,15,19,13)\n",
    "\n",
    "print(dt.strftime('%Y-%m-%d'))"
   ]
  },
  {
   "cell_type": "markdown",
   "id": "c2acf108",
   "metadata": {},
   "source": [
    "Ahora podemos agregar las horas, minutos y segundos. De nuevo imprimimos el año, mes y dia, y ahora añadimos tres códigos de formato más: `%H` nos da la hora, `%M` nos da el minuto, `%S` nos da los segundos.\n",
    "\n",
    "También hay código de formato para relojes de 12 horas y para imprimir el AM o PM correcto."
   ]
  },
  {
   "cell_type": "code",
   "execution_count": 28,
   "id": "f70afb13",
   "metadata": {},
   "outputs": [
    {
     "name": "stdout",
     "output_type": "stream",
     "text": [
      "2017-12-30  15:19:13\n"
     ]
    }
   ],
   "source": [
    "print(dt.strftime('%Y-%m-%d  %H:%M:%S'))"
   ]
  },
  {
   "cell_type": "markdown",
   "id": "b873be39",
   "metadata": {},
   "source": [
    "Como antes, podemos hacer que estas cadenas de formato sean tan complicadas como necesitemos."
   ]
  },
  {
   "cell_type": "code",
   "execution_count": 30,
   "id": "d7a86baf",
   "metadata": {},
   "outputs": [
    {
     "name": "stdout",
     "output_type": "stream",
     "text": [
      "15:19:13 on 2017-12-30\n"
     ]
    }
   ],
   "source": [
    "print(dt.strftime('%H:%M:%S on %Y-%m-%d'))"
   ]
  },
  {
   "cell_type": "markdown",
   "id": "15869687",
   "metadata": {},
   "source": [
    "## Formato ISO 8601\n",
    "\n",
    "Finalmente, podemos usar el método `.isoformat()`, al igual que con fechas, para obtener una forma compatible con los estándares de escribir una fecha y hora.\n"
   ]
  },
  {
   "cell_type": "code",
   "execution_count": 32,
   "id": "cf31b37a",
   "metadata": {},
   "outputs": [
    {
     "name": "stdout",
     "output_type": "stream",
     "text": [
      "2017-12-30T15:19:13\n"
     ]
    }
   ],
   "source": [
    "print(dt.isoformat())"
   ]
  },
  {
   "cell_type": "markdown",
   "id": "87720de1",
   "metadata": {},
   "source": [
    "La forma oficialmente correcta de escribir una fecha y hora es el año, mes, dia, luego una T, luego la hora en formato de 24 horas, seguido del minuto y segundo. En caso de duda, este es un buen formato para usar."
   ]
  },
  {
   "cell_type": "markdown",
   "id": "c72780eb",
   "metadata": {},
   "source": [
    "## Análisis de fecha y hora con strptime\n",
    "\n",
    "También podemos analizar fechas de cadenas, usando los mismo códigos de formato que usamos para imprimir. Lo usará a menudo cuando obtenga datos de fecha y hora del internet ya que las fechas y horas a menudo se representan como cadenas.\n",
    "\n",
    "Comenzamos, como antes, importando la clase de fecha y hora.\n",
    "\n",
    "el método que vamos a usar se llama `strptime()`, que es la abreviatura de tiempo de análisis de cadena.\n",
    "\n",
    "`strptime()` toma dos argumentos: el primer argumento es la cadena a convertir, una fecha y hora, y el segundo argumtno es la cadena de formato que dice cómo hacerlo.\n",
    "\n",
    "\n",
    "Primero pasamos la cadena que queremos analizar. En este caso, una cadena que representa el 30 de diciembre de 2017 a las 15:19:13.\n",
    "\n",
    "Luego pasamos la cadena de formato, que como se mencióno anetes, usa los mismos códigos de formato que usamos como `srtftime()`. En este caso, primero el mes, luego el dia, luego el año, todo separado por barras, luego un espacio y luego la hora, los minutos y los segundos separados por dos puntos.\n",
    "\n",
    "Por lo general, debe resolver esto una vez por conjunto de datos."
   ]
  },
  {
   "cell_type": "code",
   "execution_count": 6,
   "id": "bb186875",
   "metadata": {},
   "outputs": [],
   "source": [
    "from datetime import datetime\n",
    "\n",
    "dt = datetime.strptime('12/30/2017 15:19:13',\n",
    "\n",
    "                       '%m/%d/%Y %H:%M:%S')"
   ]
  },
  {
   "cell_type": "markdown",
   "id": "cc9a553d",
   "metadata": {},
   "source": [
    "## Análisis de fecha y hora con `strptime()`\n",
    "\n",
    "Si miramos y vemos qué tipo de objeto hemos hecho, imprimiendo el tipo de dt, vemos que tenemos una fecha y hora. Y si imprimimos esa fecha y hora, obtenemos una representación de cadena de la fecha y hora. Podemos ver que el análisis funcióno correctamente."
   ]
  },
  {
   "cell_type": "code",
   "execution_count": 8,
   "id": "a4aa9f9a",
   "metadata": {},
   "outputs": [
    {
     "name": "stdout",
     "output_type": "stream",
     "text": [
      "<class 'datetime.datetime'>\n",
      "2017-12-30 15:19:13\n"
     ]
    }
   ],
   "source": [
    "print(type(dt))\n",
    "print(dt)"
   ]
  },
  {
   "cell_type": "markdown",
   "id": "2cf5cd13",
   "metadata": {},
   "source": [
    "Necesitamos una coincidencia exacta para hacer una conversión de cadena. Por ejemplo, si omitimos cómo analizar el tiempo, Python arrojara un error. Y de manera similar, si hay una coma errante u otro símbolo, `srtptime()` me dara un error al intentar la conversion.\n",
    "\n",
    "## Análisis de fechas y horas con Python\n",
    "\n",
    "\n",
    "Finalmente, hay otro tipo de fecha y hora que encontrará a veces: la marca de tiempo de Unix.\n",
    "\n",
    "Muchas computadoras almacenan información de fecha y hora entre bastidores como la cantidad de segundos desde el 1 de enero de 1970. Esta fecha se considera una gran medida de nacimiento de las computadoras de estilo moderno.\n",
    "\n",
    "Para leer una marca de tiempo de Unixm use el método `datetime.fromtimestamp()`. Python leerá su marca de tiempo y devolverá una fecha y hora."
   ]
  },
  {
   "cell_type": "code",
   "execution_count": 9,
   "id": "94d65388",
   "metadata": {},
   "outputs": [
    {
     "name": "stdout",
     "output_type": "stream",
     "text": [
      "2018-02-03 10:39:13\n"
     ]
    }
   ],
   "source": [
    "ts =1517665153.0\n",
    "\n",
    "print(datetime.fromtimestamp(ts))"
   ]
  },
  {
   "cell_type": "markdown",
   "id": "c48d49ed",
   "metadata": {},
   "source": [
    "# Trabajar con duraciones\n",
    "\n",
    "\n",
    "Al igual que las fechas, las fechas y horas tienen una especie de aritmética; podemos compararlos, restarlos y agregarles intervalos.\n",
    "\n",
    "Debido a que estamos trabajando con días y horas, la logíca de las duraciones es un poco más complicada, pero no mucho.\n",
    "\n",
    "\n",
    "\n",
    "<img src=\".\\img_3\\19.png\" width=\"500px\" height=\"350px\">\n",
    "\n",
    "Al igual que con las fechas, para tener una idea de lo que está pasando, ponemos nuestras fechas y horas en una línea de tiempo. Estas dos fechas y horas aquí corresponden al inicio y al final de un viaje en nuestro conjunto de datos.\n",
    "\n",
    "Para seguir en Python, cargaremos estos dos como \"inicio\" y \"fin\". Cuando restamos las fechas y horas, obtenemos un timedelta.\n",
    "\n",
    "Un timedelta representa lo que se llama una diración: el tiempo transcurrido entre eventos."
   ]
  },
  {
   "cell_type": "code",
   "execution_count": 15,
   "id": "5039972d",
   "metadata": {},
   "outputs": [
    {
     "name": "stdout",
     "output_type": "stream",
     "text": [
      "0:24:10\n"
     ]
    }
   ],
   "source": [
    "from datetime import datetime\n",
    "\n",
    "start = datetime(2017,10,8,23,46,47)\n",
    "end = datetime(2017,10,9,0,10,57)\n",
    "\n",
    "\n",
    "duration = end - start\n",
    "\n",
    "print(duration)"
   ]
  },
  {
   "cell_type": "markdown",
   "id": "f8271f05",
   "metadata": {},
   "source": [
    "### Método `total_seconds()`\n",
    "\n",
    "Cuando llamamos al método `total_seconds()`, obtenemos la cantidad de segundos que representa nuestro timedelta.\n",
    "\n",
    "En este caso, transcurrieron 1450 segundos entre inicio y nuestro final. 1450 segundos son 24 minutos y 10 segundos."
   ]
  },
  {
   "cell_type": "code",
   "execution_count": 17,
   "id": "08bdb940",
   "metadata": {},
   "outputs": [
    {
     "name": "stdout",
     "output_type": "stream",
     "text": [
      "1450.0\n"
     ]
    }
   ],
   "source": [
    "print(duration.total_seconds())"
   ]
  },
  {
   "cell_type": "markdown",
   "id": "ec1b469d",
   "metadata": {},
   "source": [
    "## Crear timedeltas\n",
    "\n",
    "También puede crear un timedelta a mano. \n",
    "\n",
    "Comienza importando timedelta desde datetime. Para crear un timedelta, especifique la cantidad de tiempo que ha transcurrido.\n",
    "\n",
    "Por ejemplo, hacemos delta1, un timedelta que corresponde a una duración de un segundo."
   ]
  },
  {
   "cell_type": "code",
   "execution_count": 20,
   "id": "415662f7",
   "metadata": {},
   "outputs": [],
   "source": [
    "from datetime import timedelta\n",
    "\n",
    "delta1= timedelta(seconds = 1)"
   ]
  },
  {
   "cell_type": "markdown",
   "id": "f001f163",
   "metadata": {},
   "source": [
    "Ahora, cuando agregamos delta1 a la fecha y hora de la variable \"start\", vemos que obtenemos una fecha y hora que es un segundo más tarde."
   ]
  },
  {
   "cell_type": "code",
   "execution_count": 25,
   "id": "71909917",
   "metadata": {},
   "outputs": [
    {
     "name": "stdout",
     "output_type": "stream",
     "text": [
      "Start:  2017-10-08 23:46:47\n",
      "2017-10-08 23:46:48\n"
     ]
    }
   ],
   "source": [
    "print('Start: ',start)\n",
    "print(start+delta1)"
   ]
  },
  {
   "cell_type": "markdown",
   "id": "a043af3a",
   "metadata": {},
   "source": [
    "También creamos un timedelta, delta2, que tiene una duración de un día y un segundo.\n",
    "\n",
    "Ahora, cuando lo agregamos para a \"start\", obtenemos una nueva fecha y hora que es el día siguiente y un segundo después. \n",
    "\n",
    "Los timedeltas se pueden crear con cualquier número de semanas, días, minutos, horas, segundos o microsegundos, y despues ser tan pequeño como un microsegundo o tan grande como 2,7 millones de años. "
   ]
  },
  {
   "cell_type": "code",
   "execution_count": 29,
   "id": "5ce251e3",
   "metadata": {},
   "outputs": [
    {
     "name": "stdout",
     "output_type": "stream",
     "text": [
      "2017-10-09 23:46:48\n"
     ]
    }
   ],
   "source": [
    "delta2 = timedelta(days = 1, seconds = 1)\n",
    "\n",
    "print(start + delta2)"
   ]
  },
  {
   "cell_type": "markdown",
   "id": "b98d8738",
   "metadata": {},
   "source": [
    "## Timedeltas negativos\n",
    "\n",
    "Timedeltas también pueden ser negativos.\n",
    "\n",
    "Por ejemplo, si creamos delta3, cuyo argumento es `weeks = -1`, y lo agregamos a \"start\", obtenemos una fecha y hora correspondiente a una semana antes.\n",
    "\n",
    "Tambiénn podemos restar un timedelta positivo y obtener el mismo resultado. Creamos delta4, que corresponer a una duración de 1 semana, y los restamos del inicio."
   ]
  },
  {
   "cell_type": "code",
   "execution_count": 30,
   "id": "322f2f5a",
   "metadata": {},
   "outputs": [
    {
     "name": "stdout",
     "output_type": "stream",
     "text": [
      "2017-10-01 23:46:47\n",
      "2017-10-01 23:46:47\n"
     ]
    }
   ],
   "source": [
    "delta3 = timedelta(weeks = -1)\n",
    "print(start + delta3)\n",
    "\n",
    "delta4 = timedelta(weeks = 1)\n",
    "print(start - 4)"
   ]
  },
  {
   "cell_type": "markdown",
   "id": "c3989b8d",
   "metadata": {},
   "source": [
    "# Compensaciones UTC\n",
    "\n",
    "Hasta ahora, los objetos de fecha y hora con los que ha trabajado son lo que está llamado \"ingenuo\", y no se puede comparar en diferentes partes del mundo. No saben nada acerca de su zona horaria.\n",
    "\n",
    "**Por qué importa esto?**\n",
    "\n",
    "Antes de las zonas horarias, cada pueblo o ciudad configuraba su reloj para que el mediodía estuviera directamente sobre su cabeza.\n",
    "\n",
    "Otra ciudad a 100 millas de distancia también pondría sus relojes al mediodía cuando el sol estuviera sobre su cabeza.\n",
    "\n",
    "Pero esto significaba que estas dos ciudades tenían relojes que eran diferentes, tal vez por 15 o 20 minutos. Cuando la gentes semovía a pie o a caballo, esto no era un problema. Luego surgieron los ferrocarriles y más tarde los telégrafos.\n",
    "\n",
    "Ahora podía moverse o comunicarse con alguien a 100 o incluso a 1000 millas de distancia lo suficientemente rápido como para que el tiempo fuera constante.\n",
    "\n",
    "Los gobiernos resolvieron este probllema declarando que todos los relojes dentro de un amplia área estaría de acuerdo en la hora, incluso si algunos estuvieran adelantdos o atrasados con respecto a su tiempo solar.\n",
    "\n",
    "Estados unidos, por ejemplo, tiene 4 zonas horarias principales, más una para Alaska y otra para Hawái.\n",
    "\n",
    "<img src=\".\\img_3\\20.png\" width=\"700px\" height=\"350px\">\n",
    "\n",
    "Los datos de nuestra bicicleta se recopilaron en Washington, DC, que observa la hora del Este.\n",
    "\n",
    "\n",
    "Pero como ya no usamos el sol, ¿cómo sabemos cómo programar el reloj?\n",
    "\n",
    "Debido a que el Reino Unido fue el primero en estandarizar su tiempo, todo el mundo ajusta sus relojes en relación con el estándar histórico original del Reino Unido.\n",
    "\n",
    "Esta hora estándar se llama UTC. Debido a que todos los relojes están configurados en relación con UTC, podemos comparar el tiempo en todo el mundo.\n",
    "\n",
    "Por lo general, los relojes del oeste del Reino Unido se configuran antes de la UTC y los relojes del este del Reino Unido se configuran más tarde de la UTC.\n",
    "\n",
    "Por ejemplo, el este de los Estados Unidos suele ser UTC menos 5 horas, mientras que India suele ser UTC más 5 horas y 30 minutos.\n",
    "\n",
    "<img src=\".\\img_3\\21.png\" width=\"600px\" height=\"350px\">\n",
    "\n",
    "\n",
    "<img src=\".\\img_3\\23.png\" width=\"1000px\" height=\"350px\">\n",
    "\n",
    "\n",
    "## UTC\n",
    "\n",
    "Como antes, importa `datetime`, importa `datetime` y `timedelta`. Ahora también importas la zona horaria `timezone`. Esto le permitirá especificar en qué zona horaria estaba el reloj cuando se registraron nuestros datos.\n",
    "\n",
    "\n",
    "Creamos un objeto de zona horaria, que acepta un timedelta que explica cómo traducir su fecha y hora a UTC. En este caso, dado que el reloj que midió nuestro conjunto de datos es bicileta estaba en cinco hora por detrás de UTC, creamos ET para esta en UTC-5.\n",
    "\n",
    "Podemos especificar en qúe zona horaria estaba el reloj cuando comenzo, el último viaje en nuestro conjunto de datos.\n",
    "\n",
    "El reloj que registró el viaje estaba 5 horas por detrás de UTC.\n",
    "\n",
    "Ahora, si imprime, su fecha y hora incluye el desplazamiento UTC."
   ]
  },
  {
   "cell_type": "code",
   "execution_count": 34,
   "id": "6904c61c",
   "metadata": {},
   "outputs": [
    {
     "name": "stdout",
     "output_type": "stream",
     "text": [
      "2017-12-30 15:09:03-05:00\n"
     ]
    }
   ],
   "source": [
    "from datetime import datetime, timedelta, timezone\n",
    "\n",
    "ET = timezone(timedelta(hours=-5))\n",
    "\n",
    "dt = datetime(2017,12,30,15,9,3, tzinfo = ET)\n",
    "\n",
    "print(dt)"
   ]
  },
  {
   "cell_type": "markdown",
   "id": "17f1da80",
   "metadata": {},
   "source": [
    "Hacer que una fecha y hora sea \"consciente\" de su zona horaria significa que puede hacer nuevas preguntas a Python.\n",
    "\n",
    "Por ejemplo, suponga que desea saber cuál es la fecha y la hora habría sido si el reloj se hubiera ajustado a la hora estándar de la India.\n",
    "\n",
    "Primero, cree un nuevo objeto de zona horaria establecido en UTC más 5 horas y 30 minutos. Ahora use el método `astimezone()` para pedirle a Python que cree una nuevo objeto fecha y hora correspondiente al mismo momento, pero ajustado a una zona horaria diferente.\n",
    "\n",
    "En este caso, debido a que los relojes en India se habrían adelantado 10,5 horas con respecto a los relojes en el este de EE.UU., el último viaje habría tenido lugar el 31 de diciembre, 1 hora , 39 minutos y 3 segundos después de la medianoche, hora local. Mismo momento, disntinto reloj."
   ]
  },
  {
   "cell_type": "code",
   "execution_count": 37,
   "id": "480348b4",
   "metadata": {},
   "outputs": [
    {
     "name": "stdout",
     "output_type": "stream",
     "text": [
      "2017-12-31 01:39:03+05:30\n"
     ]
    }
   ],
   "source": [
    "IST = timezone(timedelta(hours = 5, minutes = 30))\n",
    "\n",
    "# Convertir a IST -> Convierte la hora de EEUU y la pasa al horario en ese momento en la India\n",
    "\n",
    "# Es decir, mientras que en EEUU son las 15:09:03, en la india son las 01:39:03 del dia siguiente.\n",
    "\n",
    "print(dt.astimezone(IST))"
   ]
  },
  {
   "cell_type": "markdown",
   "id": "09ebda7f",
   "metadata": {},
   "source": [
    "## Ajustar la zona horaria vs cambiar tzinfo\n",
    "\n",
    "\n",
    "Finalmente, hay una diferencia importante entre ajustar las zonas horarias y cambiar el tzinfo directamente.\n",
    "\n",
    "Puede configurar tzinfo directamente, usando el método `replace()`. Aquí hemos configurado el `tzinfo` para que sea `timezone.utc`, un objeto conveniente con desplazamiento UTC cero."
   ]
  },
  {
   "cell_type": "code",
   "execution_count": 38,
   "id": "ebc99189",
   "metadata": {},
   "outputs": [
    {
     "name": "stdout",
     "output_type": "stream",
     "text": [
      "2017-12-30 15:09:03-05:00\n"
     ]
    }
   ],
   "source": [
    "print(dt)"
   ]
  },
  {
   "cell_type": "code",
   "execution_count": 40,
   "id": "d927e3a4",
   "metadata": {},
   "outputs": [
    {
     "name": "stdout",
     "output_type": "stream",
     "text": [
      "2017-12-30 15:09:03+00:00\n"
     ]
    }
   ],
   "source": [
    "print(dt.replace(tzinfo =timezone.utc))"
   ]
  },
  {
   "cell_type": "markdown",
   "id": "27b994ec",
   "metadata": {},
   "source": [
    "El reloj permanece igual, pero el desplazamiento UTC ha cambiado. O, como antes, puede llamar al método `astimezone()`."
   ]
  },
  {
   "cell_type": "code",
   "execution_count": 41,
   "id": "33b42939",
   "metadata": {},
   "outputs": [
    {
     "name": "stdout",
     "output_type": "stream",
     "text": [
      "2017-12-30 20:09:03+00:00\n"
     ]
    }
   ],
   "source": [
    "print(dt.astimezone(timezone.utc))"
   ]
  },
  {
   "cell_type": "markdown",
   "id": "0db08325",
   "metadata": {},
   "source": [
    "Ahora, si nos ajustamos a UTC con `astimezone(timezone.utc)`, cambiamos tanto el desplazamiento UTC como el reloj en sí."
   ]
  },
  {
   "cell_type": "markdown",
   "id": "1cfe901a",
   "metadata": {},
   "source": [
    "# Base de datos de zonas horarias\n",
    "\n",
    "Ahora que comprende cómo funcionan las compensaciones UTC, es hora de hablar sobre cómo usar las zonas horarias en la práctica.\n",
    "\n",
    "Esta es una imagen de todas las diferentes zonas horarias del mundo, a partir de 2017.\n",
    "\n",
    "Atraviesan países, y dentro de países, ya veces uno está totalmente rodeado por otro.\n",
    "\n",
    "<img src=\".\\img_3\\22.png\" width=\"800px\" height=\"350px\">\n",
    "\n",
    "**¿Cómo podría saber todo esto cuando necesita alinear sus datos con UTC?**\n",
    "\n",
    "**¿Necesita buscar el desplazamiento de cada uno en alguna hoja de cálculo grande en alguna parte?**\n",
    "\n",
    "**¿Puede una computadora ayudarnos con esto?**\n",
    "\n",
    "Afortunadamente, sí.\n",
    "\n",
    "## Base de dato de Zona Horaria\n",
    "\n",
    "Hay una base de datos llamada `tz`, que se actualiza 3 o 4 veces al año a medida que cambian las reglas de la zona horaria.\n",
    "\n",
    "Esta base de datos es utilizada por programas informáticos en muchos lenguajes de programación. Debido a que la información de la zona horaria cambia tan rápidamente, no tiene sentido agruparla directamente en Python. En su lugar, utilizará un paquete llamado `dateutil`.\n",
    "\n",
    "\n",
    "Comencemos creando un objeto de zona horaria que corresponda al este de los Estados Unidos, de donde provienen nuestro datos de bicicletas.\n",
    "\n",
    "Dentro de `tz`, las zonas horarias se definen primero por el continente en el que se encuentran y luego por la ciudad principal más cercana.\n",
    "\n",
    "Por ejemplo, la zona horaria utilizada en la costa este de los Estados Unidos es \"America/New_York\". Obtenemos esta zona horaria llamando a `tz.gettz()` y pasando \"America/New_York\" como cadena. (Ej: \"America/Argentina/Salta\")"
   ]
  },
  {
   "cell_type": "code",
   "execution_count": 53,
   "id": "aeced032",
   "metadata": {},
   "outputs": [],
   "source": [
    "from datetime import datetime\n",
    "from dateutil import tz\n",
    "\n",
    "\n",
    "et = tz.gettz(\"America/New_York\")"
   ]
  },
  {
   "cell_type": "markdown",
   "id": "32660d95",
   "metadata": {},
   "source": [
    "Veamos de nuevo nuestro último viaje.\n",
    "\n",
    "En lugar de especificar el desplazamiento UTC usted mismo, pasa la zona horaria que obtuvo `tz`. "
   ]
  },
  {
   "cell_type": "code",
   "execution_count": 54,
   "id": "2e6f52c7",
   "metadata": {},
   "outputs": [
    {
     "name": "stdout",
     "output_type": "stream",
     "text": [
      "2017-12-30 15:09:03-05:00\n"
     ]
    }
   ],
   "source": [
    "last = datetime(2017,12,30,15,9,3, tzinfo = et)\n",
    "print(last)"
   ]
  },
  {
   "cell_type": "markdown",
   "id": "3978b7c4",
   "metadata": {},
   "source": [
    "Mire el resultado y podrá ver que tiene el desplazamiento UTC correcto.\n",
    "\n",
    "\n",
    "Aún más emocionante, este mismo objeto ajustará el desplazamiento UTC según la fecha y la hora."
   ]
  },
  {
   "cell_type": "code",
   "execution_count": 57,
   "id": "d81c1f11",
   "metadata": {},
   "outputs": [
    {
     "name": "stdout",
     "output_type": "stream",
     "text": [
      "2017-10-01 15:23:25-04:00\n"
     ]
    }
   ],
   "source": [
    "first = datetime(2017,10,1,15,23,25, tzinfo = et)\n",
    "\n",
    "print(first)"
   ]
  },
  {
   "cell_type": "markdown",
   "id": "09e629c9",
   "metadata": {},
   "source": [
    "Si llamamos a `datetime()` con la hora de nuestro primer viaje y pasamos la misma información de zona horaria. vemos que nos da un desplazamiento UTC diferente. Discutiremos el horario de verano en la próxima lección, pero baste decir que en algunos lugares los relojes cambian dos veces al año.\n",
    "\n",
    "En lugar de tener que buscar cuando estas cosas cambian, solo le pedimos a la base de datos de zonas horarias que lo sepa por nosotros.\n",
    "\n",
    "`tz` incluye reglas para las compensaciones UTC que re remontan a fines de la década de 1960 y, a veces, antes.\n",
    "\n",
    "Si tiene datos que se extienden durante un largo período de tiempo y realmente le importa obtener las horas y minutos correctos, puede usar `tz` para poner todas sus marcas de fecha y hora en una escala común."
   ]
  },
  {
   "cell_type": "markdown",
   "id": "08e2cfcb",
   "metadata": {},
   "source": [
    "# Comenzando el horario de verano\n",
    "\n",
    "Algunos lugares cambian sus relojes dos veces al año para crear noches de verano más largas. En algunos países se llama \"horario de verano\".\n",
    "\n",
    "Tratar con horario de verano puede ser uno de los desafíos más diabólicos al tratar con fechas y horas.\n",
    "\n",
    "Para simplificar las cosas, comencemos con la situación en la que los relojes se adelantan en la primavera.\n",
    "\n",
    "### Ejemplo:\n",
    "\n",
    "\n",
    "<img src=\".\\img_3\\24.png\" width=\"800px\" height=\"350px\">\n",
    "\n",
    "El 12 de marzo de 2017, en Washington, DC, el reloj saltó directamente de las 1:59:59 am a las 3 am. El reloj \"salta hacia adelante\". Ese día nunca dieron oficialmente las 2 am en ningún lugar de la costa este de los Estados Unidos.\n",
    "\n",
    "\n",
    "\n",
    "<img src=\".\\img_3\\25.png\" width=\"800px\" height=\"350px\">\n",
    "\n",
    "Al igual que antes, para que nuestro reloj en Washington, DC sea comparable a relojes en otros lugares, necesitamos representarlo con un desplazamiento UTC. Solo que ahora el desplazamiento UTC va a cambiar.\n",
    "\n",
    "En esta fecha, a las 1 a.m. en Washington, DC, estábamos en hora estándar del este. Eran las 6 AM UTC, una diferencia de cinco horas. A las 3 AM en Washington, DC, estábamos en el horario de verano del Este. Eran las 7 AM UTC, una diferencia de cuatro horas.\n",
    "\n",
    "\n",
    "## Inicio del horario de verano\n",
    "\n",
    "Para ser lo más claro posible, vamos a crear las compensaciones UTC a mano por ahora en lugar de usar `dateutil.tz`.\n",
    "\n",
    "Comenzamos creando un objeto fecha y hora, spring_ahead_159am, para el 12 de marzo a la 1:59:59, sin información de zona horaria.\n",
    "\n",
    "Imprimimos los resultados con `isoformat()` para verificar que tenemos el tiempo correcto, y hacemos otro objeto para spring_ahead_3am.\n",
    "\n",
    "Restamos los dos objetos de fecha y hora y preguntamos cuánto tiempo ha transcurrido llamando a `total_seconds()`.\n"
   ]
  },
  {
   "cell_type": "code",
   "execution_count": 6,
   "id": "8e0b13c1",
   "metadata": {},
   "outputs": [
    {
     "data": {
      "text/plain": [
       "'2017-03-12T01:59:59'"
      ]
     },
     "execution_count": 6,
     "metadata": {},
     "output_type": "execute_result"
    }
   ],
   "source": [
    "from datetime import datetime\n",
    "\n",
    "spring_ahead_159am = datetime(2017,3,12,1,59,59)\n",
    "spring_ahead_159am.isoformat()"
   ]
  },
  {
   "cell_type": "code",
   "execution_count": 7,
   "id": "2e264b1f",
   "metadata": {},
   "outputs": [
    {
     "data": {
      "text/plain": [
       "'2017-03-12T03:00:00'"
      ]
     },
     "execution_count": 7,
     "metadata": {},
     "output_type": "execute_result"
    }
   ],
   "source": [
    "spring_ahead_3am = datetime(2017,3,12,3,0,0)\n",
    "spring_ahead_3am.isoformat()"
   ]
  },
  {
   "cell_type": "code",
   "execution_count": 8,
   "id": "4972d7d4",
   "metadata": {},
   "outputs": [
    {
     "data": {
      "text/plain": [
       "3601.0"
      ]
     },
     "execution_count": 8,
     "metadata": {},
     "output_type": "execute_result"
    }
   ],
   "source": [
    "(spring_ahead_3am - spring_ahead_159am).total_seconds()"
   ]
  },
  {
   "cell_type": "markdown",
   "id": "f75696d5",
   "metadata": {},
   "source": [
    "Como era de esperar, están separados por una hora y un segundo.\n",
    "\n",
    "---\n",
    "\n",
    "\n",
    "Como antes, para solucionar problemas con la comparación de fechas y horas, comenzamos creando objetos de zona horaria.\n",
    "\n",
    "Definimos la hora estándar del este, o EST, utilizando el constructor de zona horaria. Establecemos el desplazamiento en -5 horas.\n",
    "\n",
    "De manera similar, definimos el horarios de verano del este, o EDT, con un desplazamiento de -4 horas.\n",
    "\n",
    "\n",
    "Asignamos nuestra primera marca de tiempo, a las 1.59 am para estar en EST. Cuando llamamos a `isoformat()`, vemos que tien el desplazamiento correcto. \n",
    "\n",
    "Asignamos nuestra segunda marca de tiempo, a las 3:00 am, para que esté en EDT, y nuevamente verificamos la salida con `isoformat()`.\n",
    "\n",
    "Cuando restamos los dos objetos de fecha y hora, vemos corectamente que ha transcurrido un segundo."
   ]
  },
  {
   "cell_type": "code",
   "execution_count": 1,
   "id": "fdc08543",
   "metadata": {},
   "outputs": [],
   "source": [
    "from datetime import datetime, timedelta, timezone\n",
    "\n",
    "EST = timezone(timedelta(hours=-5))\n",
    "EDT = timezone(timedelta(hours=-4))"
   ]
  },
  {
   "cell_type": "code",
   "execution_count": 95,
   "id": "f56919d5",
   "metadata": {},
   "outputs": [
    {
     "data": {
      "text/plain": [
       "'2017-03-12T01:59:59-05:00'"
      ]
     },
     "execution_count": 95,
     "metadata": {},
     "output_type": "execute_result"
    }
   ],
   "source": [
    "spring_ahead_159am = spring_ahead_159am.replace(tzinfo = EST)\n",
    "\n",
    "spring_ahead_159am.isoformat()"
   ]
  },
  {
   "cell_type": "code",
   "execution_count": 96,
   "id": "129c76dc",
   "metadata": {},
   "outputs": [
    {
     "data": {
      "text/plain": [
       "'2017-03-12T03:00:00-04:00'"
      ]
     },
     "execution_count": 96,
     "metadata": {},
     "output_type": "execute_result"
    }
   ],
   "source": [
    "spring_ahead_3am = spring_ahead_3am.replace(tzinfo= EDT)\n",
    "\n",
    "spring_ahead_3am.isoformat()"
   ]
  },
  {
   "cell_type": "code",
   "execution_count": 97,
   "id": "0064db63",
   "metadata": {},
   "outputs": [
    {
     "name": "stdout",
     "output_type": "stream",
     "text": [
      "0:00:01\n"
     ]
    }
   ],
   "source": [
    "print(spring_ahead_3am - spring_ahead_159am)"
   ]
  },
  {
   "cell_type": "markdown",
   "id": "678bc342",
   "metadata": {},
   "source": [
    "Poner las cosas en términos de UTC una vez más nos permitió hacer comparaciones adecuadas.\n",
    "\n",
    "---\n",
    "\n",
    "## Uso de `dateutil` para horario de verano\n",
    "\n",
    "**Pero, ¿Cómo sabemos cuándo es el limite sin buscarlo nosotros mismos?**\n",
    "\n",
    "Es donde entrá `dateutil`.\n",
    "\n",
    "Al igual que antes, cuando nos salvó de tener que definir las zona horarias a mano, `dateutil` no evitar tener que conocer las reglas de horario de verano.\n",
    "\n",
    "Creamos un objeto de zona horaria llamando a `tz.gettz()` y pasamos nuestra cadena de descripción de zona horaria. Recuerde que dado que Washington, DC está en la zona horaria de \"Amaerica/New_York\", eso es lo que usamos.\n",
    "\n",
    "\n",
    "Una vez más, creamos una fecha y hora correspondiente a las 1:59 a. m. del día en que la costa este de los EE. UU. salta hacia adelante.\n",
    "\n",
    "Esta vez, sin embargo, configuramos el `tzinfo` a la hora el este. De manera similar, creamos una fecha y establecia para las 3 a. m. del 12 de marzo, y cuando establecemos `tzinfo` para ser hora del este, `dateutil` se da cuenta de que debería estar en EDT. \n"
   ]
  },
  {
   "cell_type": "code",
   "execution_count": 2,
   "id": "ab3d7b35",
   "metadata": {},
   "outputs": [
    {
     "name": "stdout",
     "output_type": "stream",
     "text": [
      "2017-03-12T01:59:59-05:00\n",
      "2017-03-12T03:00:00-04:00\n"
     ]
    }
   ],
   "source": [
    "from dateutil import tz\n",
    "\n",
    "\n",
    "eastern = tz.gettz('America/New_York')\n",
    "\n",
    "spring_ahead_159am_ = datetime(2017, 3, 12, 1, 59, 59, tzinfo = eastern)\n",
    "print(spring_ahead_159am_.isoformat())\n",
    "\n",
    "spring_ahead_3am_ = datetime(2017, 3, 12, 3, 0, 0, tzinfo = eastern)\n",
    "print(spring_ahead_3am_.isoformat())"
   ]
  },
  {
   "cell_type": "code",
   "execution_count": 112,
   "id": "17cbf89e",
   "metadata": {},
   "outputs": [
    {
     "data": {
      "text/plain": [
       "3601"
      ]
     },
     "execution_count": 112,
     "metadata": {},
     "output_type": "execute_result"
    }
   ],
   "source": [
    "(spring_ahead_3am_ - spring_ahead_159am_).seconds  # NO ME DA EL 00:00:01 QUE DEBERIA DARME"
   ]
  },
  {
   "cell_type": "code",
   "execution_count": 116,
   "id": "3a7b39cc",
   "metadata": {},
   "outputs": [
    {
     "data": {
      "text/plain": [
       "1.0"
      ]
     },
     "execution_count": 116,
     "metadata": {},
     "output_type": "execute_result"
    }
   ],
   "source": [
    "(spring_ahead_3am_.astimezone(timezone.utc) - spring_ahead_159am_.astimezone(timezone.utc)).total_seconds()"
   ]
  },
  {
   "cell_type": "code",
   "execution_count": 118,
   "id": "ff619180",
   "metadata": {},
   "outputs": [
    {
     "name": "stdout",
     "output_type": "stream",
     "text": [
      "0:00:01\n"
     ]
    }
   ],
   "source": [
    "print(spring_ahead_3am_.astimezone(timezone.utc) - spring_ahead_159am_.astimezone(timezone.utc))\n"
   ]
  },
  {
   "cell_type": "markdown",
   "id": "dc394798",
   "metadata": {},
   "source": [
    "**IMPORTANTE: Cuando comparamos tiempos en zonas horarias locales, todo se convierte en tiempo de reloj. Recuerda que si quieres obtener diferencias horarias absolutas, ¡muévete siempre a UTC!**"
   ]
  },
  {
   "cell_type": "markdown",
   "id": "1c71fdb3",
   "metadata": {},
   "source": [
    "# Fin del horario de verano\n",
    "\n",
    "Anteriormente, vimos como manejar cuando el reloj \"se adelanta\" e ingresamos al horario de verano. En otoño, cuando los relojes se reajustan a la hora estándar, se produce un giro interesante.\n",
    "\n",
    "Ahora veremos lo que sucede cuando \"retrocede\", y también hablar sobre cómo manejar sin ambigüedades los eventos que superan un salto de ahorro del luz diurna.\n",
    "\n",
    "---\n",
    "\n",
    "\n",
    "Miremos hacia atrá a nuestro ejemplo en Washington, DC, el día en que terminó el horario de verano. El 5 de noviembre de 2017, a las 2 a.m., los relojes retrocedieron una hora. Eso significa que habían dos 1 AM.\n",
    "\n",
    "<img src=\".\\img_3\\26.png\" width=\"600px\" height=\"350px\">\n",
    "\n",
    "Hemos representado esto \"doblando\" nuestra línea de tiempo para mostrar la repetición.\n",
    "\n",
    "\n",
    "Como antes, para dar sentido a esta situación, necesitamos mapear todo de nuevo a UTC. \n",
    "\n",
    "La primera 1 am corresponde a las 5 am UTC. Este es el desplazamiento UTC de menos 4 horas para el horario de verano del este que se discutio anteriormente. A las 1:59:59 hora local, estamos a las 5:59:59 UTC. Al momento siguiente, nuestro reloj local retrocede, pero desde el tiempo en realidad no ha retrocedido, el reloj continúa marcando en UTC. Cambiamos a un desplazamiento UTC de menos 5 horas (coloreado en azul), y la segunda 1 AM corresponde a las 6 AM UTC.\n",
    "\n",
    "\n",
    "<img src=\".\\img_3\\27.png\" width=\"600px\" height=\"350px\">\n",
    "\n",
    "\n",
    "## Fin del horario de verano\n",
    "\n",
    "\n",
    "Primero, hagamos un objeto `tzinfo` correspondiente a la zona horaria de los datos de nuestra bibicleta. Hacemos una cita para el 5 de noviembre y 1 AM.\n",
    "\n",
    "Verificamos y veamos si este tiempo es ambiguo, lo que significa que debemos diferenciarlo de alguna manera.\n",
    "\n",
    "Llamamos a `tz.datetime_ambiguous()`, y vemos que sí, este es una hora que podría ocurrir en dos momentos UTC diferentes en esta zona horaria.\n",
    "\n",
    "\n",
    "Ahora creamos una segunda fecha y hora, con la misma fecha y hora. Esta vez, llamamos a `tz.enfold()`, que toma como argumento la fecha y hora que queremos marcar. `enfold` dice que esta fecha y hora pertenece a la \"segunda\" vez que el reloj de pared marcó a las 1 AM de este día, y no a la primera."
   ]
  },
  {
   "cell_type": "code",
   "execution_count": 7,
   "id": "459df625",
   "metadata": {},
   "outputs": [
    {
     "data": {
      "text/plain": [
       "True"
      ]
     },
     "execution_count": 7,
     "metadata": {},
     "output_type": "execute_result"
    }
   ],
   "source": [
    "eastern = tz.gettz('US/Eastern')\n",
    "\n",
    "first_1am = datetime(2017,11,5,1,0,0,tzinfo = eastern)\n",
    "\n",
    "tz.datetime_ambiguous(first_1am)"
   ]
  },
  {
   "cell_type": "code",
   "execution_count": 8,
   "id": "2994e63d",
   "metadata": {},
   "outputs": [],
   "source": [
    "second_1am = datetime(2017,11,5,1,0,0, tzinfo = eastern)\n",
    "\n",
    "second_1am = tz.enfold(second_1am)"
   ]
  },
  {
   "cell_type": "markdown",
   "id": "87007319",
   "metadata": {},
   "source": [
    "La cuestión es que `enfold` por sí mismo no cambia nada del comportamiento de una fecha y hora.\n",
    "\n",
    "Puede ver aquí que Python no lo tiene en cuenta al hacer aritmética de fecha y hora. `Fold` es solo un marcador de posición, y depende de otras partes de el programa para prestar atención a doblar y hacer algo con él."
   ]
  },
  {
   "cell_type": "code",
   "execution_count": 11,
   "id": "5bcbdbc1",
   "metadata": {},
   "outputs": [
    {
     "data": {
      "text/plain": [
       "0.0"
      ]
     },
     "execution_count": 11,
     "metadata": {},
     "output_type": "execute_result"
    }
   ],
   "source": [
    "(first_1am - second_1am).total_seconds()"
   ]
  },
  {
   "cell_type": "markdown",
   "id": "372832b8",
   "metadata": {},
   "source": [
    "**¿Qué vamos a hacer?**\n",
    "\n",
    "Necesitamos convertir a UTC, que es inequívoco.\n",
    "\n",
    "Cuando realmente queremos asegurarnos de que todo esté contabilizado, poner todo en UTC es la forma de hacerlo.\n",
    "\n",
    "Ahora, cuando le pedimos a Python que tome la diferencia, vemos que nos dice correctamente que estas dos marcas de tiempo tienen una hora de diferencia.\n",
    "\n",
    "En general, siempre que queramos estar realmente seguros de la duración entre evento que podrían curzar un límite de ahora de luz diurna, necesitamos hacer nuestros cálculos en UTC."
   ]
  },
  {
   "cell_type": "code",
   "execution_count": 14,
   "id": "0f62b5f3",
   "metadata": {},
   "outputs": [
    {
     "data": {
      "text/plain": [
       "3600.0"
      ]
     },
     "execution_count": 14,
     "metadata": {},
     "output_type": "execute_result"
    }
   ],
   "source": [
    "first_1am = first_1am.astimezone(tz.UTC)\n",
    "second_1am = second_1am.astimezone(tz.UTC)\n",
    "\n",
    "(second_1am - first_1am).total_seconds()"
   ]
  },
  {
   "cell_type": "markdown",
   "id": "8a69d26e",
   "metadata": {},
   "source": [
    "**Conclusión:**\n",
    "\n",
    "Python a menudo intenta ser útil al pasar por alto la diferencia del horario de verano y, a menudo, eso es lo que desea. Sin embargo, cuando le importe, use `dateutil` para configuar correctamente la información de la zona horaria y luego cambie a UTC para las comparaciónes más precisas entre eventos.\n",
    "\n",
    "**Si está recopilando datos, guárdelos en UTC o con un desplazamiento UTC fijo.**"
   ]
  },
  {
   "cell_type": "markdown",
   "id": "4a3daa69",
   "metadata": {},
   "source": [
    "## Limpieza de datos de horario de verano con pliegue\n",
    "\n",
    "Como acabamos de descubrir, hay un viaje en nuestro conjunto de datos que está siendo alterado por un cambio de horario de verano. Limpiemos el conjunto de datos para que tengamos una longitud de viaje mínima correcta. Podemos usar el hecho de que sabemos que el final del viaje ocurrió después del comienzo para corregir la duración alterada por el cambio del horario de verano.\n",
    "\n",
    "Dado que Python no maneja tz.enfold() la aritmética, debemos poner nuestros objetos de fecha y hora en UTC, donde se han resuelto las ambigüedades.\n",
    "\n",
    "(Ejecricio Final de la unidad 3)\n",
    "\n",
    "Complete la if declaración para que sea verdadera solo cuando un viaje start viene después de su end.\n",
    "\n",
    "\n",
    "Cuando start sea posterior a end, llama tz.enfold() al end para que sepas que se refiere al posterior al cambio de horario de verano.\n",
    "\n",
    "\n",
    "Después de la if declaración, convierta el inicio y el final a UTC para que pueda hacer una comparación adecuada."
   ]
  },
  {
   "cell_type": "code",
   "execution_count": 16,
   "id": "d4aa71cf",
   "metadata": {},
   "outputs": [],
   "source": [
    "import pandas as pd\n",
    "\n",
    "onebike_datetimes = pd.read_csv('./datasets/capital-onebike.csv')"
   ]
  },
  {
   "cell_type": "code",
   "execution_count": 18,
   "id": "3182a960",
   "metadata": {
    "collapsed": true
   },
   "outputs": [
    {
     "ename": "TypeError",
     "evalue": "string indices must be integers",
     "output_type": "error",
     "traceback": [
      "\u001b[1;31m---------------------------------------------------------------------------\u001b[0m",
      "\u001b[1;31mTypeError\u001b[0m                                 Traceback (most recent call last)",
      "Input \u001b[1;32mIn [18]\u001b[0m, in \u001b[0;36m<cell line: 2>\u001b[1;34m()\u001b[0m\n\u001b[0;32m      1\u001b[0m trip_durations \u001b[38;5;241m=\u001b[39m []\n\u001b[0;32m      2\u001b[0m \u001b[38;5;28;01mfor\u001b[39;00m trip \u001b[38;5;129;01min\u001b[39;00m onebike_datetimes:\n\u001b[0;32m      3\u001b[0m     \u001b[38;5;66;03m# When the start is later than the end, set the fold to be 1\u001b[39;00m\n\u001b[1;32m----> 4\u001b[0m     \u001b[38;5;28;01mif\u001b[39;00m \u001b[43mtrip\u001b[49m\u001b[43m[\u001b[49m\u001b[38;5;124;43m'\u001b[39;49m\u001b[38;5;124;43mStart date\u001b[39;49m\u001b[38;5;124;43m'\u001b[39;49m\u001b[43m]\u001b[49m \u001b[38;5;241m>\u001b[39m trip[\u001b[38;5;124m'\u001b[39m\u001b[38;5;124mEnd date\u001b[39m\u001b[38;5;124m'\u001b[39m]:\n\u001b[0;32m      5\u001b[0m         trip[\u001b[38;5;124m'\u001b[39m\u001b[38;5;124mEnd date\u001b[39m\u001b[38;5;124m'\u001b[39m] \u001b[38;5;241m=\u001b[39m tz\u001b[38;5;241m.\u001b[39menfold(trip[\u001b[38;5;124m'\u001b[39m\u001b[38;5;124mEnd date\u001b[39m\u001b[38;5;124m'\u001b[39m])\n\u001b[0;32m      6\u001b[0m     \u001b[38;5;66;03m# Convert to UTC\u001b[39;00m\n",
      "\u001b[1;31mTypeError\u001b[0m: string indices must be integers"
     ]
    }
   ],
   "source": [
    "trip_durations = []\n",
    "for trip in onebike_datetimes:\n",
    "    # When the start is later than the end, set the fold to be 1\n",
    "    if trip['Start date'] > trip['End date']:\n",
    "        trip['End date'] = tz.enfold(trip['End date'])\n",
    "    # Convert to UTC\n",
    "    start = trip['Start date'].astimezone(tz.UTC)\n",
    "    end = trip['End dateend'].astimezone(tz.UTC)\n",
    "\n",
    "    # Subtract the difference\n",
    "    trip_length_seconds = (end-start).total_seconds()\n",
    "    trip_durations.append(trip_length_seconds)\n",
    "\n",
    "# Take the shortest trip duration\n",
    "print(\"Shortest trip: \" + str(min(trip_durations)))"
   ]
  },
  {
   "cell_type": "markdown",
   "id": "29788db8",
   "metadata": {},
   "source": [
    "# Lectura de datos de fecha y hora en Pandas\n",
    "\n",
    "\n",
    "## Un simple ejemplo con Pandas\n",
    "\n",
    "Cada una de estas filas tiene una fecha de inicio, una fecha de finalización, una estación de inicio y una estación de finalización, el número de bicicleta y si el viaje fue de alguein que es miembro o alguien que se acercó al quioso y compró un viaje en el acto."
   ]
  },
  {
   "cell_type": "code",
   "execution_count": 87,
   "id": "258295d9",
   "metadata": {},
   "outputs": [
    {
     "data": {
      "text/html": [
       "<div>\n",
       "<style scoped>\n",
       "    .dataframe tbody tr th:only-of-type {\n",
       "        vertical-align: middle;\n",
       "    }\n",
       "\n",
       "    .dataframe tbody tr th {\n",
       "        vertical-align: top;\n",
       "    }\n",
       "\n",
       "    .dataframe thead th {\n",
       "        text-align: right;\n",
       "    }\n",
       "</style>\n",
       "<table border=\"1\" class=\"dataframe\">\n",
       "  <thead>\n",
       "    <tr style=\"text-align: right;\">\n",
       "      <th></th>\n",
       "      <th>Start date</th>\n",
       "      <th>End date</th>\n",
       "      <th>Start station number</th>\n",
       "      <th>Start station</th>\n",
       "      <th>End station number</th>\n",
       "      <th>End station</th>\n",
       "      <th>Bike number</th>\n",
       "      <th>Member type</th>\n",
       "    </tr>\n",
       "  </thead>\n",
       "  <tbody>\n",
       "    <tr>\n",
       "      <th>0</th>\n",
       "      <td>2017-10-01 15:23:25</td>\n",
       "      <td>2017-10-01 15:26:26</td>\n",
       "      <td>31038</td>\n",
       "      <td>Glebe Rd &amp; 11th St N</td>\n",
       "      <td>31036</td>\n",
       "      <td>George Mason Dr &amp; Wilson Blvd</td>\n",
       "      <td>W20529</td>\n",
       "      <td>Member</td>\n",
       "    </tr>\n",
       "    <tr>\n",
       "      <th>1</th>\n",
       "      <td>2017-10-01 15:42:57</td>\n",
       "      <td>2017-10-01 17:49:59</td>\n",
       "      <td>31036</td>\n",
       "      <td>George Mason Dr &amp; Wilson Blvd</td>\n",
       "      <td>31036</td>\n",
       "      <td>George Mason Dr &amp; Wilson Blvd</td>\n",
       "      <td>W20529</td>\n",
       "      <td>Casual</td>\n",
       "    </tr>\n",
       "    <tr>\n",
       "      <th>2</th>\n",
       "      <td>2017-10-02 06:37:10</td>\n",
       "      <td>2017-10-02 06:42:53</td>\n",
       "      <td>31036</td>\n",
       "      <td>George Mason Dr &amp; Wilson Blvd</td>\n",
       "      <td>31037</td>\n",
       "      <td>Ballston Metro / N Stuart &amp; 9th St N</td>\n",
       "      <td>W20529</td>\n",
       "      <td>Member</td>\n",
       "    </tr>\n",
       "    <tr>\n",
       "      <th>3</th>\n",
       "      <td>2017-10-02 08:56:45</td>\n",
       "      <td>2017-10-02 09:18:03</td>\n",
       "      <td>31037</td>\n",
       "      <td>Ballston Metro / N Stuart &amp; 9th St N</td>\n",
       "      <td>31295</td>\n",
       "      <td>Potomac &amp; M St NW</td>\n",
       "      <td>W20529</td>\n",
       "      <td>Member</td>\n",
       "    </tr>\n",
       "    <tr>\n",
       "      <th>4</th>\n",
       "      <td>2017-10-02 18:23:48</td>\n",
       "      <td>2017-10-02 18:45:05</td>\n",
       "      <td>31295</td>\n",
       "      <td>Potomac &amp; M St NW</td>\n",
       "      <td>31230</td>\n",
       "      <td>Metro Center / 12th &amp; G St NW</td>\n",
       "      <td>W20529</td>\n",
       "      <td>Member</td>\n",
       "    </tr>\n",
       "  </tbody>\n",
       "</table>\n",
       "</div>"
      ],
      "text/plain": [
       "            Start date             End date  Start station number  \\\n",
       "0  2017-10-01 15:23:25  2017-10-01 15:26:26                 31038   \n",
       "1  2017-10-01 15:42:57  2017-10-01 17:49:59                 31036   \n",
       "2  2017-10-02 06:37:10  2017-10-02 06:42:53                 31036   \n",
       "3  2017-10-02 08:56:45  2017-10-02 09:18:03                 31037   \n",
       "4  2017-10-02 18:23:48  2017-10-02 18:45:05                 31295   \n",
       "\n",
       "                          Start station  End station number  \\\n",
       "0                  Glebe Rd & 11th St N               31036   \n",
       "1         George Mason Dr & Wilson Blvd               31036   \n",
       "2         George Mason Dr & Wilson Blvd               31037   \n",
       "3  Ballston Metro / N Stuart & 9th St N               31295   \n",
       "4                     Potomac & M St NW               31230   \n",
       "\n",
       "                            End station Bike number Member type  \n",
       "0         George Mason Dr & Wilson Blvd      W20529      Member  \n",
       "1         George Mason Dr & Wilson Blvd      W20529      Casual  \n",
       "2  Ballston Metro / N Stuart & 9th St N      W20529      Member  \n",
       "3                     Potomac & M St NW      W20529      Member  \n",
       "4         Metro Center / 12th & G St NW      W20529      Member  "
      ]
     },
     "execution_count": 87,
     "metadata": {},
     "output_type": "execute_result"
    }
   ],
   "source": [
    "import pandas as pd\n",
    "\n",
    "rides = pd.read_csv('./datasets/capital-onebike.csv')\n",
    "\n",
    "rides.head()"
   ]
  },
  {
   "cell_type": "code",
   "execution_count": 88,
   "id": "4bddcaed",
   "metadata": {},
   "outputs": [
    {
     "data": {
      "text/plain": [
       "'2017-10-01 15:42:57'"
      ]
     },
     "execution_count": 88,
     "metadata": {},
     "output_type": "execute_result"
    }
   ],
   "source": [
    "rides.iloc[1,0]"
   ]
  },
  {
   "cell_type": "markdown",
   "id": "665c3d87",
   "metadata": {},
   "source": [
    "## Carga de fechas y horas con `parse_dates`\n",
    "\n",
    "Si queremos que Pandas trate estas columnas como fecha y hora, podemos hacer eso del argumento `parse_dates` en `read_csv()`, y configúrelo para que sea una lista de nombres de columna, pasados como cadenas.\n",
    "\n",
    "Ahora Pandas leerá estas columnas y las convertirá para nosotros en fechas y horas.\n"
   ]
  },
  {
   "cell_type": "code",
   "execution_count": 89,
   "id": "705f240c",
   "metadata": {},
   "outputs": [],
   "source": [
    "rides = pd.read_csv('./datasets/capital-onebike.csv',\n",
    "                    parse_dates = ['Start date', 'End date'])\n",
    "\n"
   ]
  },
  {
   "cell_type": "markdown",
   "id": "2e7f5f99",
   "metadata": {},
   "source": [
    "Pandas intentará ser inteligente y descrubrirá el formato de sus cadenas de fecha y hora. En el raro caso de que esto no funcione, puede usar el método `to_datetime()` que le permite especificar el formato manualmente."
   ]
  },
  {
   "cell_type": "code",
   "execution_count": 90,
   "id": "7ee9a01a",
   "metadata": {},
   "outputs": [],
   "source": [
    "rides['Start date'] = pd.to_datetime(rides['Start date'], format = '%Y-%m-%d %H:%M:%S')"
   ]
  },
  {
   "cell_type": "markdown",
   "id": "b993654e",
   "metadata": {},
   "source": [
    "Ahora, cuando volvemos a pedir la fecha de inicio de la fila 2, obtenemos una marca de tiempo de Pandas, que esencialmente para todos los propósitos que pueda imaginar es un objeto Python Datatime con un nombre diferente. Se comportan básicamente exactamente igual."
   ]
  },
  {
   "cell_type": "code",
   "execution_count": 91,
   "id": "155ae02a",
   "metadata": {},
   "outputs": [
    {
     "data": {
      "text/plain": [
       "Timestamp('2017-10-02 06:37:10')"
      ]
     },
     "execution_count": 91,
     "metadata": {},
     "output_type": "execute_result"
    }
   ],
   "source": [
    "rides['Start date'].iloc[2]"
   ]
  },
  {
   "cell_type": "markdown",
   "id": "a86c9e56",
   "metadata": {},
   "source": [
    "## Aritmética consciente de la zona horaria\n",
    "\n",
    "Dado que nuestras columnas Fecha de inicio y Fecha de finalización ahora son datetimes, podemos tratar con ellos de la forma en que normalmente tratamos con datetimes.\n",
    "\n",
    "Por ejemplo, podemos crear una nueva columna, \"Duración\", restando la Fecha de inicio de la Fecha de finalización.\n",
    "\n",
    "Debido a  que cada una de estas columnas son fechas y horas, cuando las restamos obtenemos timedeltas.\n",
    "\n",
    "Si imprimimos las primeras 5 filas, obtenemos que el primer viaje duró solo 3 minutos y 1 segundo, el segundo viaje duró 2 horas y 7 minutos, el tercer viaje duro 5 horas, 43 minutos, y asi sucesivamente."
   ]
  },
  {
   "cell_type": "code",
   "execution_count": 92,
   "id": "8374c0bf",
   "metadata": {},
   "outputs": [],
   "source": [
    "rides['Duration'] = rides['End date'] - rides['Start date']"
   ]
  },
  {
   "cell_type": "code",
   "execution_count": 93,
   "id": "71604045",
   "metadata": {},
   "outputs": [
    {
     "data": {
      "text/html": [
       "<div>\n",
       "<style scoped>\n",
       "    .dataframe tbody tr th:only-of-type {\n",
       "        vertical-align: middle;\n",
       "    }\n",
       "\n",
       "    .dataframe tbody tr th {\n",
       "        vertical-align: top;\n",
       "    }\n",
       "\n",
       "    .dataframe thead th {\n",
       "        text-align: right;\n",
       "    }\n",
       "</style>\n",
       "<table border=\"1\" class=\"dataframe\">\n",
       "  <thead>\n",
       "    <tr style=\"text-align: right;\">\n",
       "      <th></th>\n",
       "      <th>Duration</th>\n",
       "    </tr>\n",
       "  </thead>\n",
       "  <tbody>\n",
       "    <tr>\n",
       "      <th>0</th>\n",
       "      <td>0 days 00:03:01</td>\n",
       "    </tr>\n",
       "    <tr>\n",
       "      <th>1</th>\n",
       "      <td>0 days 02:07:02</td>\n",
       "    </tr>\n",
       "    <tr>\n",
       "      <th>2</th>\n",
       "      <td>0 days 00:05:43</td>\n",
       "    </tr>\n",
       "    <tr>\n",
       "      <th>3</th>\n",
       "      <td>0 days 00:21:18</td>\n",
       "    </tr>\n",
       "    <tr>\n",
       "      <th>4</th>\n",
       "      <td>0 days 00:21:17</td>\n",
       "    </tr>\n",
       "  </tbody>\n",
       "</table>\n",
       "</div>"
      ],
      "text/plain": [
       "         Duration\n",
       "0 0 days 00:03:01\n",
       "1 0 days 02:07:02\n",
       "2 0 days 00:05:43\n",
       "3 0 days 00:21:18\n",
       "4 0 days 00:21:17"
      ]
     },
     "execution_count": 93,
     "metadata": {},
     "output_type": "execute_result"
    }
   ],
   "source": [
    "rides[['Duration']].head()"
   ]
  },
  {
   "cell_type": "markdown",
   "id": "2e9e61f1",
   "metadata": {},
   "source": [
    "Pandas tiene dos características que vale la pena mencionar aquí.\n",
    "\n",
    "Veamos un ejemplo  de cómo convertir nuestra Duración a segundos y mirar las primeras 5 filas."
   ]
  },
  {
   "cell_type": "code",
   "execution_count": 94,
   "id": "74c878fc",
   "metadata": {},
   "outputs": [
    {
     "data": {
      "text/plain": [
       "0     181.0\n",
       "1    7622.0\n",
       "2     343.0\n",
       "3    1278.0\n",
       "4    1277.0\n",
       "Name: Duration, dtype: float64"
      ]
     },
     "execution_count": 94,
     "metadata": {},
     "output_type": "execute_result"
    }
   ],
   "source": [
    "rides.Duration\\\n",
    "     .dt.total_seconds()\\\n",
    "     .head()"
   ]
  },
  {
   "cell_type": "markdown",
   "id": "a4ef307e",
   "metadata": {},
   "source": [
    "Primero, el código de Pandas a menudo se escribe en un \"Encadenamiento de métodos\", donde llamamos a un método, y luego a otro, y luego a otro.\n",
    "\n",
    "Para facilitar la lectura, es común dividirlos con una barra invertida y un salto de línea al final de cada uno.\n",
    "\n",
    "En segundo lugar, puede acceder a todos los métodos típicos de fecha y hora dentro del espacio de nombres `.dt`. Por ejemplo, podemos convertir nuestros timedeltas en números con `.dt.total_seconds()`.\n",
    "\n",
    "\n",
    "Ahora, cuando miramos los resultados, vemos que tenemos segundo en lugar de timedeltas.\n",
    "\n",
    "Nuestro primer viaje duró 181 segundos, el segundo 7622 segundos, y así sucesivamente."
   ]
  },
  {
   "cell_type": "markdown",
   "id": "76ea1ee0",
   "metadata": {},
   "source": [
    "# Resumen de datos de fecha y hora en Pandas\n",
    "\n",
    "Ahora discutiremos cómo resumir las tablas de Pandas, especialmente cuando tenemos columnas de fecha y hora.\n",
    "\n",
    "\n",
    "## Resumen de datos de fecha y hora en Pandas\n",
    "\n"
   ]
  },
  {
   "cell_type": "code",
   "execution_count": 95,
   "id": "deb01fcf",
   "metadata": {},
   "outputs": [
    {
     "data": {
      "text/plain": [
       "Timedelta('0 days 00:19:38.931034482')"
      ]
     },
     "execution_count": 95,
     "metadata": {},
     "output_type": "execute_result"
    }
   ],
   "source": [
    "rides['Duration'].mean()"
   ]
  },
  {
   "cell_type": "markdown",
   "id": "b1cf636a",
   "metadata": {},
   "source": [
    "19 minutos y 38 segundos es el tiempo promedio en que se uso la bicicleta en los diferentes viajes."
   ]
  },
  {
   "cell_type": "code",
   "execution_count": 96,
   "id": "767c881e",
   "metadata": {},
   "outputs": [
    {
     "data": {
      "text/plain": [
       "Timedelta('3 days 22:58:10')"
      ]
     },
     "execution_count": 96,
     "metadata": {},
     "output_type": "execute_result"
    }
   ],
   "source": [
    "rides['Duration'].sum()"
   ]
  },
  {
   "cell_type": "markdown",
   "id": "63a55f7f",
   "metadata": {},
   "source": [
    "3 Dias y casi 23 horas, es el tiempo de uso total que le dieron a la bicicleta.\n",
    "\n",
    "\n",
    "---\n",
    "\n",
    "\n",
    "El resultado de las operaciones de Pandas se combina perfectamente con el resto de Python. Por ejemplo, si dividimos esta suma por 91 dias (el número de días del 1 de octubre al 31 de diciembre), vemos que la bicicleta estuvo fuera un 4.3% del tiempo, lo que significa aproximadamente el 96% del tiempo que la bicicleta estuvo en el muelle."
   ]
  },
  {
   "cell_type": "code",
   "execution_count": 97,
   "id": "13c5d710",
   "metadata": {},
   "outputs": [
    {
     "data": {
      "text/plain": [
       "4.348417785917786"
      ]
     },
     "execution_count": 97,
     "metadata": {},
     "output_type": "execute_result"
    }
   ],
   "source": [
    "from datetime import timedelta\n",
    "(rides['Duration'].sum() / timedelta(days=91)) * 100"
   ]
  },
  {
   "cell_type": "markdown",
   "id": "a4bd3328",
   "metadata": {},
   "source": [
    "Para columnas no númericas, tenemos otras formas de hacer resúmenes.\n",
    "\n",
    "El método `.value_counst()` nos dice cuántas veces aparece un valor dado.\n",
    "\n",
    "En este caso, queremos saber con qué frecuencia el tipo de Miembro es Miembro o Casual.\n",
    "\n",
    "236 viajes fueron de miembros, y 54 fueron de ciclistas casuales, que compraron un viaje en el quiosco de bicicletas sin membresía."
   ]
  },
  {
   "cell_type": "code",
   "execution_count": 98,
   "id": "6a532791",
   "metadata": {},
   "outputs": [
    {
     "data": {
      "text/plain": [
       "Member    236\n",
       "Casual     54\n",
       "Name: Member type, dtype: int64"
      ]
     },
     "execution_count": 98,
     "metadata": {},
     "output_type": "execute_result"
    }
   ],
   "source": [
    "rides['Member type'].value_counts()"
   ]
  },
  {
   "cell_type": "markdown",
   "id": "347cb52b",
   "metadata": {},
   "source": [
    "También podemos dividir por el número total de viajes, usando `len()`, y Pandas maneja la división por nosotros a través de nuestro resultado.\n",
    "\n",
    "El 81.4% de los viajes fueron de miembros, mientras que el 18.6% de los viajes fueron de pasajeros ocasionales."
   ]
  },
  {
   "cell_type": "code",
   "execution_count": 99,
   "id": "a8ae4da2",
   "metadata": {},
   "outputs": [
    {
     "data": {
      "text/plain": [
       "Member    0.813793\n",
       "Casual    0.186207\n",
       "Name: Member type, dtype: float64"
      ]
     },
     "execution_count": 99,
     "metadata": {},
     "output_type": "execute_result"
    }
   ],
   "source": [
    "rides['Member type'].value_counts() / len(rides)"
   ]
  },
  {
   "cell_type": "markdown",
   "id": "a52a0db1",
   "metadata": {},
   "source": [
    "Para facilitar la siguiente sección, hagamos una columna llamada \"Duracion en Segundos\"."
   ]
  },
  {
   "cell_type": "code",
   "execution_count": 100,
   "id": "35c42bf5",
   "metadata": {},
   "outputs": [
    {
     "name": "stdout",
     "output_type": "stream",
     "text": [
      "-3346.0\n"
     ]
    },
    {
     "data": {
      "text/html": [
       "<div>\n",
       "<style scoped>\n",
       "    .dataframe tbody tr th:only-of-type {\n",
       "        vertical-align: middle;\n",
       "    }\n",
       "\n",
       "    .dataframe tbody tr th {\n",
       "        vertical-align: top;\n",
       "    }\n",
       "\n",
       "    .dataframe thead th {\n",
       "        text-align: right;\n",
       "    }\n",
       "</style>\n",
       "<table border=\"1\" class=\"dataframe\">\n",
       "  <thead>\n",
       "    <tr style=\"text-align: right;\">\n",
       "      <th></th>\n",
       "      <th>Start date</th>\n",
       "      <th>End date</th>\n",
       "      <th>Start station number</th>\n",
       "      <th>Start station</th>\n",
       "      <th>End station number</th>\n",
       "      <th>End station</th>\n",
       "      <th>Bike number</th>\n",
       "      <th>Member type</th>\n",
       "      <th>Duration</th>\n",
       "      <th>Duration seconds</th>\n",
       "    </tr>\n",
       "  </thead>\n",
       "  <tbody>\n",
       "    <tr>\n",
       "      <th>0</th>\n",
       "      <td>2017-10-01 15:23:25</td>\n",
       "      <td>2017-10-01 15:26:26</td>\n",
       "      <td>31038</td>\n",
       "      <td>Glebe Rd &amp; 11th St N</td>\n",
       "      <td>31036</td>\n",
       "      <td>George Mason Dr &amp; Wilson Blvd</td>\n",
       "      <td>W20529</td>\n",
       "      <td>Member</td>\n",
       "      <td>0 days 00:03:01</td>\n",
       "      <td>181.0</td>\n",
       "    </tr>\n",
       "    <tr>\n",
       "      <th>1</th>\n",
       "      <td>2017-10-01 15:42:57</td>\n",
       "      <td>2017-10-01 17:49:59</td>\n",
       "      <td>31036</td>\n",
       "      <td>George Mason Dr &amp; Wilson Blvd</td>\n",
       "      <td>31036</td>\n",
       "      <td>George Mason Dr &amp; Wilson Blvd</td>\n",
       "      <td>W20529</td>\n",
       "      <td>Casual</td>\n",
       "      <td>0 days 02:07:02</td>\n",
       "      <td>7622.0</td>\n",
       "    </tr>\n",
       "    <tr>\n",
       "      <th>2</th>\n",
       "      <td>2017-10-02 06:37:10</td>\n",
       "      <td>2017-10-02 06:42:53</td>\n",
       "      <td>31036</td>\n",
       "      <td>George Mason Dr &amp; Wilson Blvd</td>\n",
       "      <td>31037</td>\n",
       "      <td>Ballston Metro / N Stuart &amp; 9th St N</td>\n",
       "      <td>W20529</td>\n",
       "      <td>Member</td>\n",
       "      <td>0 days 00:05:43</td>\n",
       "      <td>343.0</td>\n",
       "    </tr>\n",
       "  </tbody>\n",
       "</table>\n",
       "</div>"
      ],
      "text/plain": [
       "           Start date            End date  Start station number  \\\n",
       "0 2017-10-01 15:23:25 2017-10-01 15:26:26                 31038   \n",
       "1 2017-10-01 15:42:57 2017-10-01 17:49:59                 31036   \n",
       "2 2017-10-02 06:37:10 2017-10-02 06:42:53                 31036   \n",
       "\n",
       "                   Start station  End station number  \\\n",
       "0           Glebe Rd & 11th St N               31036   \n",
       "1  George Mason Dr & Wilson Blvd               31036   \n",
       "2  George Mason Dr & Wilson Blvd               31037   \n",
       "\n",
       "                            End station Bike number Member type  \\\n",
       "0         George Mason Dr & Wilson Blvd      W20529      Member   \n",
       "1         George Mason Dr & Wilson Blvd      W20529      Casual   \n",
       "2  Ballston Metro / N Stuart & 9th St N      W20529      Member   \n",
       "\n",
       "         Duration  Duration seconds  \n",
       "0 0 days 00:03:01             181.0  \n",
       "1 0 days 02:07:02            7622.0  \n",
       "2 0 days 00:05:43             343.0  "
      ]
     },
     "execution_count": 100,
     "metadata": {},
     "output_type": "execute_result"
    }
   ],
   "source": [
    "rides['Duration seconds'] = rides['Duration'].dt.total_seconds()\n",
    "print(min(rides['Duration seconds'])) # Este resultado es por que se realizo un cambio de horario, por el horario de verano\n",
    "rides.head(3)"
   ]
  },
  {
   "cell_type": "markdown",
   "id": "4f2268f4",
   "metadata": {},
   "source": [
    "Pandas tiene poderodas formas de agrupar filas.\n",
    "\n",
    "Primero, podemos agrupar por valore en cualquier columna, usando el método `.groupby()`.\n",
    "\n",
    "`.groupby()` toma un nombre de columna y realiza todas las operaciones posteriores en cada grupo.\n",
    "\n",
    "Por ejemplo, podemos agrupar por tipo de miembro y pedir la duración media en segundos para cada tipo de miembro.\n",
    "\n",
    "Los viajes de los miembros ocasionales duran casi el dombre en promedio."
   ]
  },
  {
   "cell_type": "code",
   "execution_count": 101,
   "id": "fc4e9d36",
   "metadata": {},
   "outputs": [
    {
     "data": {
      "text/plain": [
       "Member type\n",
       "Casual    1994.666667\n",
       "Member     992.279661\n",
       "Name: Duration seconds, dtype: float64"
      ]
     },
     "execution_count": 101,
     "metadata": {},
     "output_type": "execute_result"
    }
   ],
   "source": [
    "rides.groupby('Member type')['Duration seconds'].mean()"
   ]
  },
  {
   "cell_type": "markdown",
   "id": "70f3c235",
   "metadata": {},
   "source": [
    "## Agrupar por tiempo\n",
    "\n",
    "En segundo lugar, también podemos agrupar por tiempo, utilizando el método `.resample()`.\n",
    "\n",
    "`.resample()` toma una unidad de tiempo (por ejemplo, `M` para mes) y una columna de fecha y hora para agrupar, en este caso, \"Start date\"."
   ]
  },
  {
   "cell_type": "code",
   "execution_count": 102,
   "id": "330c1811",
   "metadata": {},
   "outputs": [
    {
     "data": {
      "text/plain": [
       "Start date\n",
       "2017-10-31    1886.453704\n",
       "2017-11-30     854.174757\n",
       "2017-12-31     635.101266\n",
       "Freq: M, Name: Duration seconds, dtype: float64"
      ]
     },
     "execution_count": 102,
     "metadata": {},
     "output_type": "execute_result"
    }
   ],
   "source": [
    "rides.resample('M', on = 'Start date')['Duration seconds'].mean()"
   ]
  },
  {
   "cell_type": "markdown",
   "id": "3327f050",
   "metadata": {},
   "source": [
    "De esto podemos ver que, en el mes que terminó el 31 de octubre, el promedio de  viajes fue de 1886 segundos, o aproximadamente 30 minutos, mientras que para el mes que terminó el 31 de diciembre, los viajes promedio fueron de 635 segundos, o más cerca de los diez minutos.\n",
    "\n",
    "---\n",
    "\n",
    "\n",
    "También hay otros métodos que operan en grupo.\n",
    "\n",
    "Por ejemplo, podemos llamar a `.size()` para obtener el tamaño de cada grupo."
   ]
  },
  {
   "cell_type": "code",
   "execution_count": 103,
   "id": "92373b94",
   "metadata": {},
   "outputs": [
    {
     "data": {
      "text/plain": [
       "Member type\n",
       "Casual     54\n",
       "Member    236\n",
       "dtype: int64"
      ]
     },
     "execution_count": 103,
     "metadata": {},
     "output_type": "execute_result"
    }
   ],
   "source": [
    "rides.groupby('Member type').size()"
   ]
  },
  {
   "cell_type": "markdown",
   "id": "6a34b27b",
   "metadata": {},
   "source": [
    "O podemos llamar a `.first()` para obtener la primer fila de cada grupo."
   ]
  },
  {
   "cell_type": "code",
   "execution_count": 104,
   "id": "84b9c6a8",
   "metadata": {},
   "outputs": [
    {
     "data": {
      "text/html": [
       "<div>\n",
       "<style scoped>\n",
       "    .dataframe tbody tr th:only-of-type {\n",
       "        vertical-align: middle;\n",
       "    }\n",
       "\n",
       "    .dataframe tbody tr th {\n",
       "        vertical-align: top;\n",
       "    }\n",
       "\n",
       "    .dataframe thead th {\n",
       "        text-align: right;\n",
       "    }\n",
       "</style>\n",
       "<table border=\"1\" class=\"dataframe\">\n",
       "  <thead>\n",
       "    <tr style=\"text-align: right;\">\n",
       "      <th></th>\n",
       "      <th>Start date</th>\n",
       "      <th>End date</th>\n",
       "      <th>Start station number</th>\n",
       "      <th>Start station</th>\n",
       "      <th>End station number</th>\n",
       "      <th>End station</th>\n",
       "      <th>Bike number</th>\n",
       "      <th>Duration</th>\n",
       "      <th>Duration seconds</th>\n",
       "    </tr>\n",
       "    <tr>\n",
       "      <th>Member type</th>\n",
       "      <th></th>\n",
       "      <th></th>\n",
       "      <th></th>\n",
       "      <th></th>\n",
       "      <th></th>\n",
       "      <th></th>\n",
       "      <th></th>\n",
       "      <th></th>\n",
       "      <th></th>\n",
       "    </tr>\n",
       "  </thead>\n",
       "  <tbody>\n",
       "    <tr>\n",
       "      <th>Casual</th>\n",
       "      <td>2017-10-01 15:42:57</td>\n",
       "      <td>2017-10-01 17:49:59</td>\n",
       "      <td>31036</td>\n",
       "      <td>George Mason Dr &amp; Wilson Blvd</td>\n",
       "      <td>31036</td>\n",
       "      <td>George Mason Dr &amp; Wilson Blvd</td>\n",
       "      <td>W20529</td>\n",
       "      <td>0 days 02:07:02</td>\n",
       "      <td>7622.0</td>\n",
       "    </tr>\n",
       "    <tr>\n",
       "      <th>Member</th>\n",
       "      <td>2017-10-01 15:23:25</td>\n",
       "      <td>2017-10-01 15:26:26</td>\n",
       "      <td>31038</td>\n",
       "      <td>Glebe Rd &amp; 11th St N</td>\n",
       "      <td>31036</td>\n",
       "      <td>George Mason Dr &amp; Wilson Blvd</td>\n",
       "      <td>W20529</td>\n",
       "      <td>0 days 00:03:01</td>\n",
       "      <td>181.0</td>\n",
       "    </tr>\n",
       "  </tbody>\n",
       "</table>\n",
       "</div>"
      ],
      "text/plain": [
       "                     Start date            End date  Start station number  \\\n",
       "Member type                                                                 \n",
       "Casual      2017-10-01 15:42:57 2017-10-01 17:49:59                 31036   \n",
       "Member      2017-10-01 15:23:25 2017-10-01 15:26:26                 31038   \n",
       "\n",
       "                             Start station  End station number  \\\n",
       "Member type                                                      \n",
       "Casual       George Mason Dr & Wilson Blvd               31036   \n",
       "Member                Glebe Rd & 11th St N               31036   \n",
       "\n",
       "                               End station Bike number        Duration  \\\n",
       "Member type                                                              \n",
       "Casual       George Mason Dr & Wilson Blvd      W20529 0 days 02:07:02   \n",
       "Member       George Mason Dr & Wilson Blvd      W20529 0 days 00:03:01   \n",
       "\n",
       "             Duration seconds  \n",
       "Member type                    \n",
       "Casual                 7622.0  \n",
       "Member                  181.0  "
      ]
     },
     "execution_count": 104,
     "metadata": {},
     "output_type": "execute_result"
    }
   ],
   "source": [
    "rides.groupby('Member type').first()"
   ]
  },
  {
   "cell_type": "markdown",
   "id": "b91352f1",
   "metadata": {},
   "source": [
    "Pandas también facilita la representación gráfica de los resultados. Simplemente agregue el método `.plot()` al final de su llamada y pasará los resultados a la biblioteca de trazado de Python Matplotlib."
   ]
  },
  {
   "cell_type": "code",
   "execution_count": 105,
   "id": "a46357dc",
   "metadata": {},
   "outputs": [
    {
     "data": {
      "image/png": "[encoded data removed]",
      "text/plain": [
       "<Figure size 432x288 with 1 Axes>"
      ]
     },
     "metadata": {
      "needs_background": "light"
     },
     "output_type": "display_data"
    }
   ],
   "source": [
    "import matplotlib.pyplot as plt\n",
    "\n",
    "rides\\\n",
    ".resample('M', on = 'Start date')\\\n",
    "['Duration seconds']\\\n",
    ".mean()\\\n",
    ".plot()\n",
    "\n",
    "plt.show()"
   ]
  },
  {
   "cell_type": "markdown",
   "id": "bdcd7b61",
   "metadata": {},
   "source": [
    "Por lo general, tendrá valores predeterminados razonables, aunque si desea cambiar más las cosas, puede hacerlo.\n",
    "\n",
    "---\n",
    "\n",
    "También podemos cambiar la tasa de remuestreo de `M` para meses a `D` para días, y graficar nuevamente.\n",
    "\n",
    "ahora podemos ver que hay al menos un gran valor atípico sesgando nuestros datos: algún viaje a mediado de octubre duró 25000 segundos, o casi 7 horas. Ya se vio anteriormente, que se debio a una reparacion de la bicicleta.\n",
    "\n",
    "Ahora podemos ver que sucedio después de muchos días sin viajes, lo que le da fuerza a esa idea. Si la bicicleta se rompio y permaneció en el muelle por un tiempo, eventualmente habría sido removido para reparaciones y luego devuelto."
   ]
  },
  {
   "cell_type": "code",
   "execution_count": 106,
   "id": "0f556a33",
   "metadata": {
    "scrolled": true
   },
   "outputs": [
    {
     "data": {
      "image/png": "[encoded data removed]",
      "text/plain": [
       "<Figure size 432x288 with 1 Axes>"
      ]
     },
     "metadata": {
      "needs_background": "light"
     },
     "output_type": "display_data"
    }
   ],
   "source": [
    "rides\\\n",
    ".resample('D', on = 'Start date')\\\n",
    "['Duration seconds']\\\n",
    ".mean()\\\n",
    ".plot()\n",
    "\n",
    "plt.show()"
   ]
  },
  {
   "cell_type": "code",
   "execution_count": 107,
   "id": "749ebd5b",
   "metadata": {},
   "outputs": [
    {
     "data": {
      "text/plain": [
       "Member type  Start date\n",
       "Casual       2017-10-31          0 days 00:27:16\n",
       "             2017-11-30   0 days 00:19:19.500000\n",
       "             2017-12-31          0 days 00:14:10\n",
       "Member       2017-10-31          0 days 00:11:11\n",
       "             2017-11-30          0 days 00:10:55\n",
       "             2017-12-31   0 days 00:06:27.500000\n",
       "Name: Duration, dtype: timedelta64[ns]"
      ]
     },
     "execution_count": 107,
     "metadata": {},
     "output_type": "execute_result"
    }
   ],
   "source": [
    "# Group rides by member type, and resample to the month\n",
    "grouped = rides.groupby('Member type')\\\n",
    "  .resample('M', on = 'Start date')\n",
    "\n",
    "# Print the median duration for each group\n",
    "grouped['Duration'].median()"
   ]
  },
  {
   "cell_type": "markdown",
   "id": "633e924b",
   "metadata": {},
   "source": [
    "# Métodos de fecha y hora adicionales en Pandas\n",
    "\n",
    "## Zonas horarias en Pandas\n",
    "\n",
    "Primero, un recordadorio de la importancia de las zonas horarias.\n",
    "\n",
    "Si le pedimos a Pandas que nos diga la duración más pequeña del viaje en segundos, usando los métodos `.total_seconds()` y `.min()`, obtenemos -3346 segundos o -55 minutos.\n",
    "\n",
    "Algo está mal, ya que la duración de nuestros viajes nunca debería ser negativa. La respuesta, como lo fue cuando analizamos este conjunto de datos en Python estándar, es el horario de verano.\n",
    "\n",
    "Al igual que con Python estándar, estos objetos de fecha y hora comienzan como ingenuos de la zona horaria. No están vinculados a ningún tiempo absoluto con un desplazamiento UTC.\n",
    "\n",
    "Veamos las primeras tres filas de inicio para que podamos ver cómo se muestran y verificar que no haya un desplazamiento UTC."
   ]
  },
  {
   "cell_type": "code",
   "execution_count": 108,
   "id": "75073ac5",
   "metadata": {
    "scrolled": true
   },
   "outputs": [
    {
     "data": {
      "text/plain": [
       "-3346.0"
      ]
     },
     "execution_count": 108,
     "metadata": {},
     "output_type": "execute_result"
    }
   ],
   "source": [
    "rides['Duration'].dt.total_seconds().min()"
   ]
  },
  {
   "cell_type": "code",
   "execution_count": 109,
   "id": "55b5294f",
   "metadata": {
    "scrolled": true
   },
   "outputs": [
    {
     "data": {
      "text/plain": [
       "0   2017-10-01 15:23:25\n",
       "1   2017-10-01 15:42:57\n",
       "2   2017-10-02 06:37:10\n",
       "Name: Start date, dtype: datetime64[ns]"
      ]
     },
     "execution_count": 109,
     "metadata": {},
     "output_type": "execute_result"
    }
   ],
   "source": [
    "rides['Start date'].head(3)"
   ]
  },
  {
   "cell_type": "markdown",
   "id": "037199a3",
   "metadata": {},
   "source": [
    "Para empezar, queremos que esas mismas tres fechas y horas se coloquen en una franja horaria.\n",
    "\n",
    "El método para esto en Pandas es `dt.tz_localize()`. Ahora, cuando miramos las fechas y horas localizadas, podemos ver que tiene un desplazamiento UTC."
   ]
  },
  {
   "cell_type": "code",
   "execution_count": 111,
   "id": "fa4f43de",
   "metadata": {},
   "outputs": [
    {
     "data": {
      "text/plain": [
       "0   2017-10-01 15:23:25-03:00\n",
       "1   2017-10-01 15:42:57-03:00\n",
       "2   2017-10-02 06:37:10-03:00\n",
       "Name: Start date, dtype: datetime64[ns, America/Argentina/Salta]"
      ]
     },
     "execution_count": 111,
     "metadata": {},
     "output_type": "execute_result"
    }
   ],
   "source": [
    "import pandas as pd\n",
    "\n",
    "rides['Start date'].head(3)\\\n",
    "                   .dt.tz_localize('America/Argentina/Salta')"
   ]
  },
  {
   "cell_type": "markdown",
   "id": "6a2bbb38",
   "metadata": {},
   "source": [
    "Sin embargo, si tratamos de convertir todo nuestra Columna de fecha de inicio a la zona horaria de América/Nueva_york, pandas arrojára un AmbiguosTimeError."
   ]
  },
  {
   "cell_type": "code",
   "execution_count": 113,
   "id": "f0b1b7c8",
   "metadata": {},
   "outputs": [
    {
     "ename": "AmbiguousTimeError",
     "evalue": "Cannot infer dst time from 2017-11-05 01:56:50, try using the 'ambiguous' argument",
     "output_type": "error",
     "traceback": [
      "\u001b[1;31m---------------------------------------------------------------------------\u001b[0m",
      "\u001b[1;31mAmbiguousTimeError\u001b[0m                        Traceback (most recent call last)",
      "Input \u001b[1;32mIn [113]\u001b[0m, in \u001b[0;36m<cell line: 1>\u001b[1;34m()\u001b[0m\n\u001b[1;32m----> 1\u001b[0m rides[\u001b[38;5;124m'\u001b[39m\u001b[38;5;124mStart date\u001b[39m\u001b[38;5;124m'\u001b[39m] \u001b[38;5;241m=\u001b[39m \u001b[43mrides\u001b[49m\u001b[43m[\u001b[49m\u001b[38;5;124;43m'\u001b[39;49m\u001b[38;5;124;43mStart date\u001b[39;49m\u001b[38;5;124;43m'\u001b[39;49m\u001b[43m]\u001b[49m\u001b[38;5;241;43m.\u001b[39;49m\u001b[43mdt\u001b[49m\u001b[38;5;241;43m.\u001b[39;49m\u001b[43mtz_localize\u001b[49m\u001b[43m(\u001b[49m\u001b[38;5;124;43m'\u001b[39;49m\u001b[38;5;124;43mAmerica/New_York\u001b[39;49m\u001b[38;5;124;43m'\u001b[39;49m\u001b[43m)\u001b[49m\n",
      "File \u001b[1;32m~\\anaconda3\\lib\\site-packages\\pandas\\core\\accessor.py:94\u001b[0m, in \u001b[0;36mPandasDelegate._add_delegate_accessors.<locals>._create_delegator_method.<locals>.f\u001b[1;34m(self, *args, **kwargs)\u001b[0m\n\u001b[0;32m     93\u001b[0m \u001b[38;5;28;01mdef\u001b[39;00m \u001b[38;5;21mf\u001b[39m(\u001b[38;5;28mself\u001b[39m, \u001b[38;5;241m*\u001b[39margs, \u001b[38;5;241m*\u001b[39m\u001b[38;5;241m*\u001b[39mkwargs):\n\u001b[1;32m---> 94\u001b[0m     \u001b[38;5;28;01mreturn\u001b[39;00m \u001b[38;5;28mself\u001b[39m\u001b[38;5;241m.\u001b[39m_delegate_method(name, \u001b[38;5;241m*\u001b[39margs, \u001b[38;5;241m*\u001b[39m\u001b[38;5;241m*\u001b[39mkwargs)\n",
      "File \u001b[1;32m~\\anaconda3\\lib\\site-packages\\pandas\\core\\indexes\\accessors.py:123\u001b[0m, in \u001b[0;36mProperties._delegate_method\u001b[1;34m(self, name, *args, **kwargs)\u001b[0m\n\u001b[0;32m    120\u001b[0m values \u001b[38;5;241m=\u001b[39m \u001b[38;5;28mself\u001b[39m\u001b[38;5;241m.\u001b[39m_get_values()\n\u001b[0;32m    122\u001b[0m method \u001b[38;5;241m=\u001b[39m \u001b[38;5;28mgetattr\u001b[39m(values, name)\n\u001b[1;32m--> 123\u001b[0m result \u001b[38;5;241m=\u001b[39m method(\u001b[38;5;241m*\u001b[39margs, \u001b[38;5;241m*\u001b[39m\u001b[38;5;241m*\u001b[39mkwargs)\n\u001b[0;32m    125\u001b[0m \u001b[38;5;28;01mif\u001b[39;00m \u001b[38;5;129;01mnot\u001b[39;00m is_list_like(result):\n\u001b[0;32m    126\u001b[0m     \u001b[38;5;28;01mreturn\u001b[39;00m result\n",
      "File \u001b[1;32m~\\anaconda3\\lib\\site-packages\\pandas\\core\\indexes\\datetimes.py:273\u001b[0m, in \u001b[0;36mDatetimeIndex.tz_localize\u001b[1;34m(self, tz, ambiguous, nonexistent)\u001b[0m\n\u001b[0;32m    271\u001b[0m \u001b[38;5;129m@doc\u001b[39m(DatetimeArray\u001b[38;5;241m.\u001b[39mtz_localize)\n\u001b[0;32m    272\u001b[0m \u001b[38;5;28;01mdef\u001b[39;00m \u001b[38;5;21mtz_localize\u001b[39m(\u001b[38;5;28mself\u001b[39m, tz, ambiguous\u001b[38;5;241m=\u001b[39m\u001b[38;5;124m\"\u001b[39m\u001b[38;5;124mraise\u001b[39m\u001b[38;5;124m\"\u001b[39m, nonexistent\u001b[38;5;241m=\u001b[39m\u001b[38;5;124m\"\u001b[39m\u001b[38;5;124mraise\u001b[39m\u001b[38;5;124m\"\u001b[39m) \u001b[38;5;241m-\u001b[39m\u001b[38;5;241m>\u001b[39m DatetimeIndex:\n\u001b[1;32m--> 273\u001b[0m     arr \u001b[38;5;241m=\u001b[39m \u001b[38;5;28;43mself\u001b[39;49m\u001b[38;5;241;43m.\u001b[39;49m\u001b[43m_data\u001b[49m\u001b[38;5;241;43m.\u001b[39;49m\u001b[43mtz_localize\u001b[49m\u001b[43m(\u001b[49m\u001b[43mtz\u001b[49m\u001b[43m,\u001b[49m\u001b[43m \u001b[49m\u001b[43mambiguous\u001b[49m\u001b[43m,\u001b[49m\u001b[43m \u001b[49m\u001b[43mnonexistent\u001b[49m\u001b[43m)\u001b[49m\n\u001b[0;32m    274\u001b[0m     \u001b[38;5;28;01mreturn\u001b[39;00m \u001b[38;5;28mtype\u001b[39m(\u001b[38;5;28mself\u001b[39m)\u001b[38;5;241m.\u001b[39m_simple_new(arr, name\u001b[38;5;241m=\u001b[39m\u001b[38;5;28mself\u001b[39m\u001b[38;5;241m.\u001b[39mname)\n",
      "File \u001b[1;32m~\\anaconda3\\lib\\site-packages\\pandas\\core\\arrays\\_mixins.py:84\u001b[0m, in \u001b[0;36mravel_compat.<locals>.method\u001b[1;34m(self, *args, **kwargs)\u001b[0m\n\u001b[0;32m     81\u001b[0m \u001b[38;5;129m@wraps\u001b[39m(meth)\n\u001b[0;32m     82\u001b[0m \u001b[38;5;28;01mdef\u001b[39;00m \u001b[38;5;21mmethod\u001b[39m(\u001b[38;5;28mself\u001b[39m, \u001b[38;5;241m*\u001b[39margs, \u001b[38;5;241m*\u001b[39m\u001b[38;5;241m*\u001b[39mkwargs):\n\u001b[0;32m     83\u001b[0m     \u001b[38;5;28;01mif\u001b[39;00m \u001b[38;5;28mself\u001b[39m\u001b[38;5;241m.\u001b[39mndim \u001b[38;5;241m==\u001b[39m \u001b[38;5;241m1\u001b[39m:\n\u001b[1;32m---> 84\u001b[0m         \u001b[38;5;28;01mreturn\u001b[39;00m meth(\u001b[38;5;28mself\u001b[39m, \u001b[38;5;241m*\u001b[39margs, \u001b[38;5;241m*\u001b[39m\u001b[38;5;241m*\u001b[39mkwargs)\n\u001b[0;32m     86\u001b[0m     flags \u001b[38;5;241m=\u001b[39m \u001b[38;5;28mself\u001b[39m\u001b[38;5;241m.\u001b[39m_ndarray\u001b[38;5;241m.\u001b[39mflags\n\u001b[0;32m     87\u001b[0m     flat \u001b[38;5;241m=\u001b[39m \u001b[38;5;28mself\u001b[39m\u001b[38;5;241m.\u001b[39mravel(\u001b[38;5;124m\"\u001b[39m\u001b[38;5;124mK\u001b[39m\u001b[38;5;124m\"\u001b[39m)\n",
      "File \u001b[1;32m~\\anaconda3\\lib\\site-packages\\pandas\\core\\arrays\\datetimes.py:1043\u001b[0m, in \u001b[0;36mDatetimeArray.tz_localize\u001b[1;34m(self, tz, ambiguous, nonexistent)\u001b[0m\n\u001b[0;32m   1040\u001b[0m     tz \u001b[38;5;241m=\u001b[39m timezones\u001b[38;5;241m.\u001b[39mmaybe_get_tz(tz)\n\u001b[0;32m   1041\u001b[0m     \u001b[38;5;66;03m# Convert to UTC\u001b[39;00m\n\u001b[1;32m-> 1043\u001b[0m     new_dates \u001b[38;5;241m=\u001b[39m \u001b[43mtzconversion\u001b[49m\u001b[38;5;241;43m.\u001b[39;49m\u001b[43mtz_localize_to_utc\u001b[49m\u001b[43m(\u001b[49m\n\u001b[0;32m   1044\u001b[0m \u001b[43m        \u001b[49m\u001b[38;5;28;43mself\u001b[39;49m\u001b[38;5;241;43m.\u001b[39;49m\u001b[43masi8\u001b[49m\u001b[43m,\u001b[49m\u001b[43m \u001b[49m\u001b[43mtz\u001b[49m\u001b[43m,\u001b[49m\u001b[43m \u001b[49m\u001b[43mambiguous\u001b[49m\u001b[38;5;241;43m=\u001b[39;49m\u001b[43mambiguous\u001b[49m\u001b[43m,\u001b[49m\u001b[43m \u001b[49m\u001b[43mnonexistent\u001b[49m\u001b[38;5;241;43m=\u001b[39;49m\u001b[43mnonexistent\u001b[49m\n\u001b[0;32m   1045\u001b[0m \u001b[43m    \u001b[49m\u001b[43m)\u001b[49m\n\u001b[0;32m   1046\u001b[0m new_dates \u001b[38;5;241m=\u001b[39m new_dates\u001b[38;5;241m.\u001b[39mview(DT64NS_DTYPE)\n\u001b[0;32m   1047\u001b[0m dtype \u001b[38;5;241m=\u001b[39m tz_to_dtype(tz)\n",
      "File \u001b[1;32m~\\anaconda3\\lib\\site-packages\\pandas\\_libs\\tslibs\\tzconversion.pyx:284\u001b[0m, in \u001b[0;36mpandas._libs.tslibs.tzconversion.tz_localize_to_utc\u001b[1;34m()\u001b[0m\n",
      "\u001b[1;31mAmbiguousTimeError\u001b[0m: Cannot infer dst time from 2017-11-05 01:56:50, try using the 'ambiguous' argument"
     ]
    }
   ],
   "source": [
    "rides['Start date'] = rides['Start date'].dt.tz_localize('America/New_York')"
   ]
  },
  {
   "cell_type": "markdown",
   "id": "d47ab1a2",
   "metadata": {},
   "source": [
    "Como era de esperar, tenemos una fecha y hora que se produce durante el cambio de horario de verano. Siguiendo el consejo del mensaje de error, podemos establecer el argumento ambiguo en el método `dt.tz_localize()`. Por defecto, lanza un erro, como vimos antes. También podemos pasar la cadena `'NaT'`, que dice que si el convertidor se confunde, debería establecer el mal resultado como `No es un momento`. Pandas es lo suficientemente inteligente como para saltarse los `NaT` cuando los ve, por lo que nuestro `.min()` y otros métodos simplemente ignorarán esta fila."
   ]
  },
  {
   "cell_type": "code",
   "execution_count": 114,
   "id": "1626c948",
   "metadata": {},
   "outputs": [],
   "source": [
    "rides['End date'] = rides['End date'].dt.tz_localize('America/New_York',ambiguous = 'NaT') # Se ejecuta una vez"
   ]
  },
  {
   "cell_type": "code",
   "execution_count": 115,
   "id": "aaf11920",
   "metadata": {},
   "outputs": [],
   "source": [
    "rides['Start date'] = rides['Start date'].dt.tz_localize('America/New_York', ambiguous = 'NaT') # Se ejecuta una vez\n"
   ]
  },
  {
   "cell_type": "markdown",
   "id": "0cf8fc39",
   "metadata": {},
   "source": [
    "**NOTA:** Solo puedo aplicar una vez el codigo de arriba, ya que agrego la zona horaria, y al aplicar nuevamente el codigo no puede agregar algo que ya estaba. Pero si deseo cambiar la zona horaria a otra zona, debo usar el método `.dt.tz_convert()` Ejemplo: `rides['Start date'] = rides['Start date'].dt.tz_convert('Europe/London')`.\n",
    "\n",
    "\n",
    "`dt.tz_convert()` convierte a una nueva zona horaria, mientras que `dt.tz_localize()` establece una zona horaria en primer lugar."
   ]
  },
  {
   "cell_type": "markdown",
   "id": "2821c422",
   "metadata": {},
   "source": [
    "Ahora que hemos arreglado las zonas horarias, debemos volver a calcular nuestra duraciones, en caso de que algún viaje haya cruzado los límites del horario de verano.\n",
    "\n",
    "Esta vez, cuando tomamos Duraciones, las convertimos en segundos y tomamos el minimo, obtenemos 116.0 segundos mucho más sensatos, o unos dos minutos."
   ]
  },
  {
   "cell_type": "code",
   "execution_count": 120,
   "id": "7d7ff30d",
   "metadata": {},
   "outputs": [
    {
     "data": {
      "text/plain": [
       "116.00000000000001"
      ]
     },
     "execution_count": 120,
     "metadata": {},
     "output_type": "execute_result"
    }
   ],
   "source": [
    "rides['Duration'] = rides['End date'] - rides['Start date']\n",
    "\n",
    "rides['Duration'].dt.total_seconds().min()"
   ]
  },
  {
   "cell_type": "markdown",
   "id": "566c3f2e",
   "metadata": {},
   "source": [
    "Solo para saber lo que estamos viendo, abramos nuestra fila problemática. Aquí, tanto la hora de inicio como la de finalización eran ambiguas, por lo que se configuraron en `'NaT'`. Como resultado, nuestra Duración, ya que es la diferencia de dos tiempos indefinidos, también es `'NaT'`. "
   ]
  },
  {
   "cell_type": "code",
   "execution_count": 122,
   "id": "6170ae6d",
   "metadata": {},
   "outputs": [
    {
     "data": {
      "text/plain": [
       "Start date                        NaT\n",
       "End date                          NaT\n",
       "Start station number            31615\n",
       "Start station           6th & H St NE\n",
       "End station number              31627\n",
       "End station             3rd & M St NE\n",
       "Bike number                    W20529\n",
       "Member type                    Member\n",
       "Duration                          NaT\n",
       "Duration seconds              -3346.0\n",
       "Name: 129, dtype: object"
      ]
     },
     "execution_count": 122,
     "metadata": {},
     "output_type": "execute_result"
    }
   ],
   "source": [
    "rides.iloc[129]"
   ]
  },
  {
   "cell_type": "markdown",
   "id": "76214948",
   "metadata": {},
   "source": [
    "## Otras operaciones datetime en Pandas\n",
    "\n",
    "Hay otras operaciones de fecha y hora que también debe conocer.\n",
    "\n",
    "Los más simples son aquellos con los que ya está familiarizado: año, mes, y así sucesivamente.\n",
    "\n",
    "En Pandas, se accede a estos con `dt.año`, `dt.mes`, etc. Por ejemplo, aquí está el año de las tres primeras filas."
   ]
  },
  {
   "cell_type": "code",
   "execution_count": 124,
   "id": "ca5c0976",
   "metadata": {},
   "outputs": [
    {
     "data": {
      "text/plain": [
       "0    2017\n",
       "1    2017\n",
       "2    2017\n",
       "Name: Start date, dtype: int64"
      ]
     },
     "execution_count": 124,
     "metadata": {},
     "output_type": "execute_result"
    }
   ],
   "source": [
    "rides['Start date'].head(3).dt.year"
   ]
  },
  {
   "cell_type": "markdown",
   "id": "b86d422f",
   "metadata": {},
   "source": [
    "### Dia de semana de una serie de fecha y hora\n",
    "\n",
    "Hay otras coas útiles que le brinda Pandas, algunas de las cuales no están disponibles en Python estándar. Por ejemplo, el método `dt.day_name()` le da el dia de la semana para cada elemento de una serie de fecha y hora.\n",
    "\n",
    "Incluso puede especificar si desa nombres de días de la semana en un idioma que no sea inglés.\n",
    "\n",
    "Estos resultados se pueden agregar con la llamada `.groupby()`, para resumir los datos por año, mes, dia de la semana, etc."
   ]
  },
  {
   "cell_type": "code",
   "execution_count": 126,
   "id": "5b7bd82f",
   "metadata": {},
   "outputs": [
    {
     "data": {
      "text/plain": [
       "0    Sunday\n",
       "1    Sunday\n",
       "2    Monday\n",
       "Name: Start date, dtype: object"
      ]
     },
     "execution_count": 126,
     "metadata": {},
     "output_type": "execute_result"
    }
   ],
   "source": [
    "rides['Start date'].head(3).dt.day_name()"
   ]
  },
  {
   "cell_type": "code",
   "execution_count": 137,
   "id": "e4c8ea5a",
   "metadata": {},
   "outputs": [
    {
     "data": {
      "text/plain": [
       "Ride start weekday\n",
       "Friday       724.5\n",
       "Monday       810.5\n",
       "Saturday     462.0\n",
       "Sunday       917.0\n",
       "Thursday     652.0\n",
       "Tuesday      641.5\n",
       "Wednesday    585.0\n",
       "Name: Duration seconds, dtype: float64"
      ]
     },
     "execution_count": 137,
     "metadata": {},
     "output_type": "execute_result"
    }
   ],
   "source": [
    "# USO DE dt.day_name() con GROUPBY()\n",
    "\n",
    "rides['Ride start weekday'] = rides['Start date'].dt.day_name()\n",
    "\n",
    "# Print the median trip time per weekday\n",
    "rides.groupby('Ride start weekday')['Duration seconds'].median()"
   ]
  },
  {
   "cell_type": "markdown",
   "id": "b51a9918",
   "metadata": {},
   "source": [
    "## Otras partes de Pandas\n",
    "\n",
    "Pandas también te permite desplzar filas hacia arriba y hacia abajo con el método `.shift()`. Aquí hemos desplazado las atracciones una fila hacia adelante para que nuestra fila cero sea ahora `NaT`, y nuestra primera fila tiene el mismo valor que tenía antes nuestra fila cero.\n",
    "\n",
    "Esto es útil si desea, por ejemplo, alinear las horas de finalización de cada fila con la hora de inicio de la siguiente.\n",
    "\n",
    "Ahora puede responder preguntas sobre cómo se compara cada viaje con el anterior.\n",
    "\n",
    "Ultimo ejercicio de la unidad 4 usa el método `.shift()`."
   ]
  },
  {
   "cell_type": "code",
   "execution_count": 127,
   "id": "25780fc3",
   "metadata": {},
   "outputs": [
    {
     "data": {
      "text/plain": [
       "0                         NaT\n",
       "1   2017-10-01 15:26:26-04:00\n",
       "2   2017-10-01 17:49:59-04:00\n",
       "Name: End date, dtype: datetime64[ns, America/New_York]"
      ]
     },
     "execution_count": 127,
     "metadata": {},
     "output_type": "execute_result"
    }
   ],
   "source": [
    "rides['End date'].shift(1).head(3)"
   ]
  },
  {
   "cell_type": "markdown",
   "id": "d4a05260",
   "metadata": {},
   "source": [
    "<h1 style='background:#000000; color:#FFFFFF;height: 55px;padding-top: 13px;font-size: 25px;border-style: double;'><center>Curso: Escribir funciones en Python</center></h1><a name=\"EscribirfuncionesenPython\"></a>"
   ]
  },
  {
   "cell_type": "code",
   "execution_count": null,
   "id": "4e3a09c7",
   "metadata": {},
   "outputs": [],
   "source": []
  }
 ],
 "metadata": {
  "kernelspec": {
   "display_name": "Python 3 (ipykernel)",
   "language": "python",
   "name": "python3"
  },
  "language_info": {
   "codemirror_mode": {
    "name": "ipython",
    "version": 3
   },
   "file_extension": ".py",
   "mimetype": "text/x-python",
   "name": "python",
   "nbconvert_exporter": "python",
   "pygments_lexer": "ipython3",
   "version": "3.9.12"
  }
 },
 "nbformat": 4,
 "nbformat_minor": 5
}
