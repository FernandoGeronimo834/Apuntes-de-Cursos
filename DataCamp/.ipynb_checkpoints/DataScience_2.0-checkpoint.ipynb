{
 "cells": [
  {
   "cell_type": "markdown",
   "id": "4f086ce5",
   "metadata": {},
   "source": [
    "# Curso: Introducción a la importación de datos en Python\n",
    "\n",
    "\n",
    "## Leer un archivo de texto (**`.txt`**)\n",
    "\n",
    "\n",
    "Para verificar cualquier archivo de texto sin formato, puede usar la función de apertura básica de Python para abri una conexión con el archivo.\n",
    "\n",
    "Para hacerlo, asigna el nombre del archivo a una varibale como una cadena, pasa el nombre del archiovo a la función open y también le pasa el modo de argumento es igual a **`'r'`**, lo que asegura que solo podamos leerlo (no nos gustarias escribirlo accidentalmente.), asgine el texto del archivo a un texto variable aplicando el métodod e lectura a la conexión con el archivo.\n",
    "\n",
    "Después de hacer esto, asegúrese de cerrar la conexión con el archivo usando el comando `file.close()`. Luego puede imprimir el archivo en la consola y verificarlo usando el comando `print(text)`.\n",
    "\n"
   ]
  },
  {
   "cell_type": "code",
   "execution_count": 16,
   "id": "0c623026",
   "metadata": {},
   "outputs": [
    {
     "name": "stdout",
     "output_type": "stream",
     "text": [
      "\n"
     ]
    }
   ],
   "source": [
    "filename = './datasets/seaslug.txt'\n",
    "\n",
    "file = open(filename, mode = 'r')\n",
    "\n",
    "text = file.read()\n",
    "\n",
    "print(text)\n",
    "\n",
    "file.close()  # Cerrar siempre el archivo luego de terminar de manipularlo\n"
   ]
  },
  {
   "cell_type": "markdown",
   "id": "781042c8",
   "metadata": {},
   "source": [
    "## Escribir en un archivo\n",
    "\n",
    "Si quisieras abrir un archivo en orden para escribirle, le pasaría el modo de argumento igual a **`'w'`**."
   ]
  },
  {
   "cell_type": "code",
   "execution_count": 13,
   "id": "2de749a1",
   "metadata": {},
   "outputs": [],
   "source": [
    "filename = './datasets/seaslug.txt'\n",
    "\n",
    "file = open(filename, mode = 'w')\n",
    "\n",
    "file.close()"
   ]
  },
  {
   "cell_type": "markdown",
   "id": "1cec765e",
   "metadata": {},
   "source": [
    "\n",
    "## Administrador de contexto `with`\n",
    "\n",
    "\n",
    "Puede evitar tener que cerrar la conexión con el archivo utilizando una sentencia `with`. Esto le permite crear un contexto en el que puede ejecutar comandos con el archivo abierto. Una vez fuera de esta cláusula/contexto, el archivo ya no está abierto y, por este motivo, se denomina Administrador de contexto.\n",
    "\n",
    "\n",
    "Lo que está haciendo aquí se llama \"vincular\" una variable en la construcción del administrador de contexto; mientras aún esté dentro de esta construcción, el archivo variable estará vinculado a `open(filename, 'r')`.\n",
    "\n",
    "Es una buena practica usar la declaración `with` ya que nunca tendrá que preocuparse por cerrar los archivos nuevamente."
   ]
  },
  {
   "cell_type": "code",
   "execution_count": 18,
   "id": "eff7a7bd",
   "metadata": {},
   "outputs": [
    {
     "name": "stdout",
     "output_type": "stream",
     "text": [
      "Recuerde el alma dormida\n",
      "Avive el seso y despierte\n",
      "Contemplando\n",
      "CÃ³mo se pasa la vida,\n",
      "CÃ³mo se viene la muerte,\n",
      "Tan callando,\n",
      "CuÃ¡n presto se va el placer,\n",
      "CÃ³mo, despuÃ©s de acordado\n",
      "Da dolor,\n",
      "CÃ³mo, a nuestro parecer,\n",
      "Cualquier tiempo pasado\n",
      "Fue mejor.\n",
      "\n",
      "\n"
     ]
    }
   ],
   "source": [
    "with open('./datasets/seaslug.txt', 'r') as file:\n",
    "    print(file.read())"
   ]
  },
  {
   "cell_type": "markdown",
   "id": "c5bcc32f",
   "metadata": {},
   "source": [
    "# La importancia de los archivos planos en la ciencia de datos\n",
    "\n",
    "\n",
    "## Archivos planos\n",
    "\n",
    "Ahora que sabe cómo importar archivos de texto sin formato, vamos a ver archivos planos, como \"titanic.csv\", en el que cada fil es un pasajero único a bordo y la columna es una caracteristica del atributo, como género, cabina y \"sobrevivió o no\".\n",
    "\n",
    "\n",
    "---\n",
    "\n",
    "Los archivos planos son archivos de texto básico que contienen registros, es decir, datos de tabla, sin relaciones estructuradas. Esto contrasta con una base de datos relacional, por ejemplo, en la que se pueden relacionar columnas de tablas distintas. Para ser aún más precisos, los archivos planos consisten en registros, donde un registro se refiere a una fila de campos o atributos, cada uno de los cuales contiene como máximo un elemento de información.\n",
    "\n",
    "## Header\n",
    "\n",
    "También es esencial tener en cuenta que un archivo plano pueda tener un encabezado, como en el \"titanic.csv\", que es una fila que ocurre como la primera fila, y describe el contenido de las columnas de datos o establecer cuáles son los atributos o características correspondientes en cada columnas.\n",
    "\n",
    "Será importante saber si su archivo tiene o no un encabezado, ya que puede alterar la importación de datos.\n",
    "\n",
    "La razón por la que los archivos planos son tan importantes en la ciencia de datos es que a los cientificos de datos realmente les gusta pensar en registris o filas de atributos.\n",
    "\n",
    "\n",
    "## Extensión del archivo\n",
    "\n",
    "Ahora es posible que haya notado que la extensión del archivo es `.csv`. CSV es un acrónimo de valor separado por comas y significa exactamente lo que dice. Los valores de cada fila están separados por comas.\n",
    "\n",
    "\n",
    "Otra extensión común para un archivo plano es `.txt`, lo que significa un archivo de texto. Los valores en archivos sin formato se pueden separar por caracteres o secuencias de caracteres distintos que las comas, como un tabulador, y el carácter o caracteres en cuestión se denomina **delimitador**.\n",
    "\n",
    "\n",
    "\n",
    "## Archivo delimitado por tabulador\n",
    "\n",
    "\n",
    "Vea aquí un ejemplo de un archivo delimitado por tabuladores. Los datos consisten en el famoso reconodimiento de dígitos MNIST imagenes, donde cada fila contiene los valores de píxeles de una imagen determinada. \n",
    "\n",
    "Tenga en cuenta que todos los campos en los datos MNIST son numéricos mientras que en el \"titanic.csv\" también contenía cadenas.\n",
    "\n",
    "<img src=\".\\img_3\\1.png\" width=\"350px\" height=\"350px\">\n",
    "\n",
    "<img src=\".\\img_3\\2.png\" width=\"150px\" height=\"350px\">\n",
    "\n",
    "\n",
    "## Como importamos estos archivos?\n",
    "\n",
    "Si consiste completamente en números y queremos almacenarlos como una matriz numpy, podríamos usar numpy.\n",
    "\n",
    "Si, en cambio, queremos almacenar los datos en un marco de datos (DataFrame), podríamos usar pandas.\n",
    "\n",
    "La mayoria de las veces, utilizará una de estas opciones."
   ]
  },
  {
   "cell_type": "markdown",
   "id": "980e83a6",
   "metadata": {},
   "source": [
    "# Importación de archivos planos usando NumPy\n",
    "\n",
    "\n",
    "¿Qué sucede si ahora desea importar un archivo plano y asignarlo a una variable?\n",
    "\n",
    "Si todos los datos son numéricos, puede usar el paquete numpy para importar los datos como una matriz numpy.\n",
    "\n",
    "¿Por qué querriamos hacer esto?\n",
    "\n",
    "## ¿Por qué Numpy?\n",
    "\n",
    "En primero lugar, las matrices numpy son el estándar de Python para almacenar datos numéricos. Son eficientes, rápidos y limpios.\n",
    "\n",
    "En segundo lugar, las matrices numpy suelen ser esenciales para otros paquetes, comoscikit-learn, un popular paquete de aprendizaje automatico para Python.\n",
    "\n",
    "Numpy en si tiene una serie de funcionalidades integradas que hacen que sea mucho más fácil y eficiente para nosotros importar datos como matrices.\n",
    "\n",
    "\n",
    "Ingrese las funciones Numpy `loadtxt()` y `genfromtxt()`.\n",
    "\n",
    "\n",
    "## Importar archivo planos usando NumPy\n",
    "\n",
    "Para usar cualquiera de estos, primero debemos importar NumPy. Luego llamamos a `loadtxt()` y le pasamos el nombre del archivo como primer argumento, junto con el delimitador, como segundo argumento. Tenga en cuenta que el delimitador predeterminado es cualquier espacio en blanco, por lo que normalmente necesitaremos especificarlo explícitamente."
   ]
  },
  {
   "cell_type": "code",
   "execution_count": 7,
   "id": "2a230620",
   "metadata": {
    "collapsed": true
   },
   "outputs": [
    {
     "ename": "OSError",
     "evalue": "MNIST1.txt not found.",
     "output_type": "error",
     "traceback": [
      "\u001b[1;31m---------------------------------------------------------------------------\u001b[0m",
      "\u001b[1;31mOSError\u001b[0m                                   Traceback (most recent call last)",
      "Input \u001b[1;32mIn [7]\u001b[0m, in \u001b[0;36m<cell line: 5>\u001b[1;34m()\u001b[0m\n\u001b[0;32m      1\u001b[0m \u001b[38;5;28;01mimport\u001b[39;00m \u001b[38;5;21;01mnumpy\u001b[39;00m \u001b[38;5;28;01mas\u001b[39;00m \u001b[38;5;21;01mnp\u001b[39;00m\n\u001b[0;32m      3\u001b[0m filename \u001b[38;5;241m=\u001b[39m \u001b[38;5;124m'\u001b[39m\u001b[38;5;124mMNIST1.txt\u001b[39m\u001b[38;5;124m'\u001b[39m\n\u001b[1;32m----> 5\u001b[0m data \u001b[38;5;241m=\u001b[39m \u001b[43mnp\u001b[49m\u001b[38;5;241;43m.\u001b[39;49m\u001b[43mloadtxt\u001b[49m\u001b[43m(\u001b[49m\u001b[43mfilename\u001b[49m\u001b[43m,\u001b[49m\u001b[43m \u001b[49m\u001b[43mdelimiter\u001b[49m\u001b[43m \u001b[49m\u001b[38;5;241;43m=\u001b[39;49m\u001b[43m \u001b[49m\u001b[38;5;124;43m'\u001b[39;49m\u001b[38;5;124;43m,\u001b[39;49m\u001b[38;5;124;43m'\u001b[39;49m\u001b[43m,\u001b[49m\u001b[43m \u001b[49m\u001b[43mskiprows\u001b[49m\u001b[43m \u001b[49m\u001b[38;5;241;43m=\u001b[39;49m\u001b[43m \u001b[49m\u001b[38;5;241;43m1\u001b[39;49m\u001b[43m)\u001b[49m\n\u001b[0;32m      7\u001b[0m data\n",
      "File \u001b[1;32m~\\anaconda3\\lib\\site-packages\\numpy\\lib\\npyio.py:1067\u001b[0m, in \u001b[0;36mloadtxt\u001b[1;34m(fname, dtype, comments, delimiter, converters, skiprows, usecols, unpack, ndmin, encoding, max_rows, like)\u001b[0m\n\u001b[0;32m   1065\u001b[0m     fname \u001b[38;5;241m=\u001b[39m os_fspath(fname)\n\u001b[0;32m   1066\u001b[0m \u001b[38;5;28;01mif\u001b[39;00m _is_string_like(fname):\n\u001b[1;32m-> 1067\u001b[0m     fh \u001b[38;5;241m=\u001b[39m \u001b[43mnp\u001b[49m\u001b[38;5;241;43m.\u001b[39;49m\u001b[43mlib\u001b[49m\u001b[38;5;241;43m.\u001b[39;49m\u001b[43m_datasource\u001b[49m\u001b[38;5;241;43m.\u001b[39;49m\u001b[43mopen\u001b[49m\u001b[43m(\u001b[49m\u001b[43mfname\u001b[49m\u001b[43m,\u001b[49m\u001b[43m \u001b[49m\u001b[38;5;124;43m'\u001b[39;49m\u001b[38;5;124;43mrt\u001b[39;49m\u001b[38;5;124;43m'\u001b[39;49m\u001b[43m,\u001b[49m\u001b[43m \u001b[49m\u001b[43mencoding\u001b[49m\u001b[38;5;241;43m=\u001b[39;49m\u001b[43mencoding\u001b[49m\u001b[43m)\u001b[49m\n\u001b[0;32m   1068\u001b[0m     fencoding \u001b[38;5;241m=\u001b[39m \u001b[38;5;28mgetattr\u001b[39m(fh, \u001b[38;5;124m'\u001b[39m\u001b[38;5;124mencoding\u001b[39m\u001b[38;5;124m'\u001b[39m, \u001b[38;5;124m'\u001b[39m\u001b[38;5;124mlatin1\u001b[39m\u001b[38;5;124m'\u001b[39m)\n\u001b[0;32m   1069\u001b[0m     fh \u001b[38;5;241m=\u001b[39m \u001b[38;5;28miter\u001b[39m(fh)\n",
      "File \u001b[1;32m~\\anaconda3\\lib\\site-packages\\numpy\\lib\\_datasource.py:193\u001b[0m, in \u001b[0;36mopen\u001b[1;34m(path, mode, destpath, encoding, newline)\u001b[0m\n\u001b[0;32m    156\u001b[0m \u001b[38;5;124;03m\"\"\"\u001b[39;00m\n\u001b[0;32m    157\u001b[0m \u001b[38;5;124;03mOpen `path` with `mode` and return the file object.\u001b[39;00m\n\u001b[0;32m    158\u001b[0m \n\u001b[1;32m   (...)\u001b[0m\n\u001b[0;32m    189\u001b[0m \n\u001b[0;32m    190\u001b[0m \u001b[38;5;124;03m\"\"\"\u001b[39;00m\n\u001b[0;32m    192\u001b[0m ds \u001b[38;5;241m=\u001b[39m DataSource(destpath)\n\u001b[1;32m--> 193\u001b[0m \u001b[38;5;28;01mreturn\u001b[39;00m \u001b[43mds\u001b[49m\u001b[38;5;241;43m.\u001b[39;49m\u001b[43mopen\u001b[49m\u001b[43m(\u001b[49m\u001b[43mpath\u001b[49m\u001b[43m,\u001b[49m\u001b[43m \u001b[49m\u001b[43mmode\u001b[49m\u001b[43m,\u001b[49m\u001b[43m \u001b[49m\u001b[43mencoding\u001b[49m\u001b[38;5;241;43m=\u001b[39;49m\u001b[43mencoding\u001b[49m\u001b[43m,\u001b[49m\u001b[43m \u001b[49m\u001b[43mnewline\u001b[49m\u001b[38;5;241;43m=\u001b[39;49m\u001b[43mnewline\u001b[49m\u001b[43m)\u001b[49m\n",
      "File \u001b[1;32m~\\anaconda3\\lib\\site-packages\\numpy\\lib\\_datasource.py:533\u001b[0m, in \u001b[0;36mDataSource.open\u001b[1;34m(self, path, mode, encoding, newline)\u001b[0m\n\u001b[0;32m    530\u001b[0m     \u001b[38;5;28;01mreturn\u001b[39;00m _file_openers[ext](found, mode\u001b[38;5;241m=\u001b[39mmode,\n\u001b[0;32m    531\u001b[0m                               encoding\u001b[38;5;241m=\u001b[39mencoding, newline\u001b[38;5;241m=\u001b[39mnewline)\n\u001b[0;32m    532\u001b[0m \u001b[38;5;28;01melse\u001b[39;00m:\n\u001b[1;32m--> 533\u001b[0m     \u001b[38;5;28;01mraise\u001b[39;00m \u001b[38;5;167;01mIOError\u001b[39;00m(\u001b[38;5;124m\"\u001b[39m\u001b[38;5;132;01m%s\u001b[39;00m\u001b[38;5;124m not found.\u001b[39m\u001b[38;5;124m\"\u001b[39m \u001b[38;5;241m%\u001b[39m path)\n",
      "\u001b[1;31mOSError\u001b[0m: MNIST1.txt not found."
     ]
    }
   ],
   "source": [
    "import numpy as np\n",
    "\n",
    "filename = 'MNIST1.txt'\n",
    "\n",
    "data = np.loadtxt(filename, delimiter = ',')\n",
    "\n",
    "data"
   ]
  },
  {
   "cell_type": "markdown",
   "id": "7e1f1a2f",
   "metadata": {},
   "source": [
    "<img src=\".\\img_3\\3.png\" width=\"350px\" height=\"350px\">\n",
    "\n",
    "\n",
    "## Personalización de la importación de Numpy\n",
    "\n",
    "Hay una serie de argumentos adicionales que tal vez desee especificar.\n",
    "\n",
    "Si, por ejemplo, sus datos consisten en números y su encabezado tiene cadenas, como en el MNIST datos de dígitos, querrá omitir la primer fila llamando a `loadtxt` con el argumento `skiprows = 1`. "
   ]
  },
  {
   "cell_type": "code",
   "execution_count": null,
   "id": "400e4712",
   "metadata": {},
   "outputs": [],
   "source": [
    "import numpy as np\n",
    "\n",
    "filename = 'MNIST1.txt'\n",
    "\n",
    "data = np.loadtxt(filename, delimiter = ',', skiprows = 1)\n",
    "\n",
    "print(data)"
   ]
  },
  {
   "cell_type": "markdown",
   "id": "8c1ef9f5",
   "metadata": {},
   "source": [
    "<img src=\".\\img_3\\3.png\" width=\"300px\" height=\"350px\">\n",
    "\n",
    "Si solo desea la primera y la tercera columna de los datos, querrá establecer `usecols = [0,2]`.\n",
    "\n",
    "<img src=\".\\img_3\\4.png\" width=\"150px\" height=\"350px\">\n",
    "\n",
    "\n",
    "### Importar matriz compuesta de cadenas\n",
    "\n",
    "También puede importar diferentes tipos de datos en matrices NumPy: por ejemplo, establecer el argumento `dtype = str` garantizará que todas las entradas se importen como cadenas.\n",
    "\n",
    "**`data = np.loadtxt(filename, delimiter = ',', dtype = str)`**\n",
    "\n",
    "\n",
    "## Tipos de datos Mixtos\n",
    "\n",
    "`loadtxt` es excelente para casos básicos, pero tiende a fallar cuando tenemos tipos de datos mixtos, por ejemplo, columnas que consisten en flotadores y columnas que consisten en cadenas, como vimos en el conjunto de datos Titanic."
   ]
  },
  {
   "cell_type": "markdown",
   "id": "1c86403e",
   "metadata": {},
   "source": [
    "# Nuevo texto de prueba\n"
   ]
  }
 ],
 "metadata": {
  "kernelspec": {
   "display_name": "Python 3 (ipykernel)",
   "language": "python",
   "name": "python3"
  },
  "language_info": {
   "codemirror_mode": {
    "name": "ipython",
    "version": 3
   },
   "file_extension": ".py",
   "mimetype": "text/x-python",
   "name": "python",
   "nbconvert_exporter": "python",
   "pygments_lexer": "ipython3",
   "version": "3.9.13"
  }
 },
 "nbformat": 4,
 "nbformat_minor": 5
}
