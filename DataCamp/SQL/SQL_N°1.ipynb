{
 "cells": [
  {
   "cell_type": "markdown",
   "id": "cd33dc8d",
   "metadata": {},
   "source": [
    "<h1 style='background:#000000; color:#FFFFFF;height: 65px;padding-top: 8px;font-size: 45px;border-style: double;'><center>SQL PARA ANÁLISIS DE DATOS</center></h1>\n",
    "\n",
    "<h1 style='background:#000000; color:#FFFFFF;height: 55px; padding-top: 13px;font-size: 25px;border-style: double;'><center>ÍNDICE</center></h1>\n",
    "\n",
    "1. [Comprender la visualización de datos](#Comprenderlavisualizacióndedatos)\n"
   ]
  },
  {
   "cell_type": "markdown",
   "id": "32fe1318",
   "metadata": {},
   "source": [
    "<h1 style='background:#000000; color:#FFFFFF;height: 55px;padding-top: 13px;font-size: 25px;border-style: double;'><center>Curso: Comprender la visualización de datos</center></h1><a name=\"Comprenderlavisualizacióndedatos\"></a>\n"
   ]
  }
 ],
 "metadata": {
  "kernelspec": {
   "display_name": "Python 3 (ipykernel)",
   "language": "python",
   "name": "python3"
  },
  "language_info": {
   "codemirror_mode": {
    "name": "ipython",
    "version": 3
   },
   "file_extension": ".py",
   "mimetype": "text/x-python",
   "name": "python",
   "nbconvert_exporter": "python",
   "pygments_lexer": "ipython3",
   "version": "3.9.12"
  }
 },
 "nbformat": 4,
 "nbformat_minor": 5
}
