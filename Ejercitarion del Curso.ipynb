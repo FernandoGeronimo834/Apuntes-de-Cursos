{
 "cells": [
  {
   "cell_type": "markdown",
   "id": "85582fb5",
   "metadata": {},
   "source": [
    "# Curso Basico"
   ]
  },
  {
   "cell_type": "markdown",
   "id": "18122698",
   "metadata": {},
   "source": [
    "# <font color='green'>bar</font>"
   ]
  },
  {
   "cell_type": "code",
   "execution_count": null,
   "id": "33c1fee9",
   "metadata": {},
   "outputs": [],
   "source": [
    "# Funciones que debo investiga:\n",
    "# ASCII\n",
    "chr()  # Ejercico de RUEDA\n",
    "ord()\n",
    "# Funcion Enumerate()"
   ]
  },
  {
   "cell_type": "markdown",
   "id": "6aa2c1f9",
   "metadata": {},
   "source": [
    "## Proyecto Palindromo"
   ]
  },
  {
   "cell_type": "code",
   "execution_count": 27,
   "id": "cf48fe1d",
   "metadata": {},
   "outputs": [
    {
     "name": "stdout",
     "output_type": "stream",
     "text": [
      "Ingrese un String: Luz Azul\n",
      "Es un palindromo\n"
     ]
    }
   ],
   "source": [
    "# Un palindromo es una palabra o frace que se lee igual al derecho y al revez --> Ej: Luz Azul\n",
    "Texto = input(\"Ingrese un String: \")\n",
    "Texto = Texto.replace(\" \",\"\").lower()\n",
    "analisis_texto = Texto[::-1]\n",
    "if Texto == analisis_texto:\n",
    "    print('Es un palindromo')\n",
    "else:\n",
    "    print('No es un palindromo')\n",
    "#analisis_texto"
   ]
  },
  {
   "cell_type": "markdown",
   "id": "bfbad0cf",
   "metadata": {},
   "source": [
    "### Primer programa: Conversor de monedas\n"
   ]
  },
  {
   "cell_type": "code",
   "execution_count": 2,
   "id": "52b04665",
   "metadata": {},
   "outputs": [
    {
     "name": "stdout",
     "output_type": "stream",
     "text": [
      "Ingrese cantidad de pesos que tiene: 500\n",
      "La convercion de  500.0 pesos a dolares es  4.506\n"
     ]
    }
   ],
   "source": [
    "pesos = float(input(\"Ingrese cantidad de pesos que tiene: \"))\n",
    "valor_dolar = 110.96\n",
    "dolares = round(pesos / valor_dolar,3)\n",
    "print('La convercion de ',pesos,'pesos a dolares es ',dolares)\n"
   ]
  },
  {
   "cell_type": "code",
   "execution_count": 9,
   "id": "da0b4d5f",
   "metadata": {},
   "outputs": [],
   "source": [
    "def conversor(tipo_peso,valor_dolar,cantidad_pesos):\n",
    "    dolares = round(cantidad_pesos / valor_dolar,3)\n",
    "    return print('La convercion de ',cantidad_pesos,'pesos a dolares es ',dolares)\n",
    "    "
   ]
  },
  {
   "cell_type": "code",
   "execution_count": 11,
   "id": "964f23d1",
   "metadata": {},
   "outputs": [
    {
     "name": "stdout",
     "output_type": "stream",
     "text": [
      "\n",
      "Bienvenido al conversor de monedas 💲\n",
      "1 - Pesos colombianos\n",
      "2 - Pesos argentinos\n",
      "3 - Pesos mexicanos\n",
      "\n",
      "\n",
      "Elige una Opcion: 3\n",
      "Ingrese el valor del dolar en su pais: 24\n",
      "Ingrese la cantidad de pesos que tiene: 67\n",
      "La convercion de  67 pesos a dolares es  2.792\n"
     ]
    }
   ],
   "source": [
    "## Agregar paises\n",
    "\n",
    "menu = \"\"\"\n",
    "Bienvenido al conversor de monedas 💲\n",
    "1 - Pesos colombianos\n",
    "2 - Pesos argentinos\n",
    "3 - Pesos mexicanos\n",
    "\n",
    "\"\"\"\n",
    "print(menu)\n",
    "opcion = int(input(\"Elige una Opcion: \"))\n",
    "if opcion == 1:\n",
    "    conversor(opcion,valor_dolar = int(input(\"Ingrese el valor del dolar en su pais: \")),cantidad_pesos = int(input(\"Ingrese la cantidad de pesos que tiene: \")))\n",
    "elif opcion == 2:\n",
    "    conversor(opcion,valor_dolar = int(input(\"Ingrese el valor del dolar en su pais: \")),cantidad_pesos = int(input(\"Ingrese la cantidad de pesos que tiene: \")))\n",
    "elif opcion == 3:\n",
    "    conversor(opcion,valor_dolar = int(input(\"Ingrese el valor del dolar en su pais: \")),cantidad_pesos = int(input(\"Ingrese la cantidad de pesos que tiene: \")))\n",
    "else:\n",
    "    print('Elige una opcion correcta')"
   ]
  },
  {
   "cell_type": "markdown",
   "id": "6843e7c2",
   "metadata": {},
   "source": [
    "### Bucles"
   ]
  },
  {
   "cell_type": "code",
   "execution_count": 53,
   "id": "06ccb0bf",
   "metadata": {
    "scrolled": false
   },
   "outputs": [
    {
     "name": "stdout",
     "output_type": "stream",
     "text": [
      "2 elevado a 0 es igual a:  1\n",
      "2 elevado a 1 es igual a:  2\n",
      "2 elevado a 2 es igual a:  4\n",
      "2 elevado a 3 es igual a:  8\n",
      "2 elevado a 4 es igual a:  16\n",
      "2 elevado a 5 es igual a:  32\n",
      "2 elevado a 6 es igual a:  64\n",
      "2 elevado a 7 es igual a:  128\n",
      "2 elevado a 8 es igual a:  256\n",
      "2 elevado a 9 es igual a:  512\n"
     ]
    }
   ],
   "source": [
    "def run():\n",
    "    LIMITE = 1000\n",
    "    contador = 0\n",
    "    operacion = 2 ** contador\n",
    "    while operacion < LIMITE: \n",
    "        print('2 elevado a '+str(contador)+' es igual a: ',operacion)\n",
    "        contador += 1\n",
    "        operacion = 2**contador\n",
    "    \n",
    "    \n",
    "if __name__ == '__main__':\n",
    "    run()"
   ]
  },
  {
   "cell_type": "markdown",
   "id": "b21771b6",
   "metadata": {},
   "source": [
    "### Comprobar si un numero es primo"
   ]
  },
  {
   "cell_type": "code",
   "execution_count": null,
   "id": "00c1504d",
   "metadata": {},
   "outputs": [],
   "source": [
    "def es_primo(numero):\n",
    "    contador = 0\n",
    "    for i in range(1,numero+1):\n",
    "        if i == 1 or i == numero:\n",
    "            continue\n",
    "        if numero % i == 0:\n",
    "            contador += 1\n",
    "    if contador == 0:\n",
    "        return True\n",
    "    else:\n",
    "        return False\n",
    "def run():\n",
    "    numero = int(input('Ingrese un numero: '))\n",
    "    if es_primo(numero):  #Se ejecutara si el resultado de la funcion es_primo es 'True'\n",
    "        print('Es primo')\n",
    "    else:\n",
    "        print('No es primo')\n",
    "if __name__ == '__main__':\n",
    "    run()"
   ]
  },
  {
   "cell_type": "markdown",
   "id": "fc2a495c",
   "metadata": {},
   "source": [
    "### Adivina el numero"
   ]
  },
  {
   "cell_type": "code",
   "execution_count": 94,
   "id": "a55ba68c",
   "metadata": {},
   "outputs": [
    {
     "name": "stdout",
     "output_type": "stream",
     "text": [
      "Ingresa un número: 85\n",
      "Elige un numero más chico\n",
      "Ingresa otro número: 50\n",
      "Elige un numero más alto\n",
      "Ingresa otro número: 70\n",
      "Elige un numero más alto\n",
      "Ingresa otro número: 75\n",
      "Elige un numero más alto\n",
      "Ingresa otro número: 78\n",
      "Elige un numero más alto\n",
      "Ingresa otro número: 79\n",
      "Elige un numero más alto\n",
      "Ingresa otro número: 80\n",
      "Elige un numero más alto\n",
      "Ingresa otro número: 83\n",
      "Elige un numero más chico\n",
      "Ingresa otro número: 82\n",
      "Ganaste!\n"
     ]
    }
   ],
   "source": [
    "import random\n",
    "def run():\n",
    "    \n",
    "    numero_ganador = random.randint(0,101)\n",
    "    #print(\"el numero ganador es: \",numero_ganador)\n",
    "    numero = int(input('Ingresa un número del 1 al 100: '))\n",
    "    while numero != numero_ganador:    \n",
    "        if numero < numero_ganador:\n",
    "            print('Elige un numero más alto')\n",
    "        else:\n",
    "            print('Elige un numero más chico')\n",
    "        numero = int(input('Ingresa otro número: '))\n",
    "    if numero == numero_ganador:\n",
    "        print('Ganaste!')\n",
    "    \n",
    "    \n",
    "if __name__ == '__main__':\n",
    "    run()"
   ]
  },
  {
   "cell_type": "markdown",
   "id": "1c7094e8",
   "metadata": {},
   "source": [
    "### Proyecto Generador de Contraseñas"
   ]
  },
  {
   "cell_type": "code",
   "execution_count": 104,
   "id": "088883ef",
   "metadata": {},
   "outputs": [
    {
     "name": "stdout",
     "output_type": "stream",
     "text": [
      "Tu nueva contraseña es:  G05D@eGAE20EDEC\n"
     ]
    }
   ],
   "source": [
    "import random\n",
    "def generar_contraseña():\n",
    "    mayusculas = ['A','B','C','D','E','F','G','H','I']\n",
    "    minusculas = ['a','b','c','d','e','f','g','h','i']\n",
    "    simbolos = ['!','%','@','/','#','=']\n",
    "    numeros = ['1','2','3','4','5','6','7','8','9','0']\n",
    "    caracteres = mayusculas+minusculas+simbolos+numeros\n",
    "    contrasena = []\n",
    "    for i in range(15):\n",
    "        caracter_random = random.choice(caracteres)\n",
    "        contrasena.append(caracter_random)\n",
    "    contrasena = \"\".join(contrasena)\n",
    "    return contrasena\n",
    "def run():\n",
    "    contrasena = generar_contraseña()\n",
    "    print('Tu nueva contraseña es: ',contrasena)\n",
    "if __name__ == '__main__':\n",
    "    run()"
   ]
  },
  {
   "cell_type": "code",
   "execution_count": 114,
   "id": "6a3f92ff",
   "metadata": {},
   "outputs": [
    {
     "name": "stdout",
     "output_type": "stream",
     "text": [
      "Tu nueva contraseña es:  8b%ECA150/4#3!e\n"
     ]
    }
   ],
   "source": [
    "# Otra forma\n",
    "import random\n",
    "def generar_contraseña():\n",
    "    mayusculas = ['A','B','C','D','E','F','G','H','I']\n",
    "    minusculas = ['a','b','c','d','e','f','g','h','i']\n",
    "    simbolos = ['!','%','@','/','#','=']\n",
    "    numeros = ['1','2','3','4','5','6','7','8','9','0']\n",
    "    caracteres = mayusculas+minusculas+simbolos+numeros\n",
    "    contrasena = []\n",
    "    contrasena=random.sample(caracteres, 15)\n",
    "    contrasena = \"\".join(contrasena)\n",
    "    return contrasena\n",
    "def run():\n",
    "    contrasena = generar_contraseña()\n",
    "    print('Tu nueva contraseña es: ',contrasena)\n",
    "if __name__ == '__main__':\n",
    "    run()"
   ]
  },
  {
   "cell_type": "markdown",
   "id": "efc4f70f",
   "metadata": {},
   "source": [
    "### Reproducir la letra de cumpleaños feliz"
   ]
  },
  {
   "cell_type": "code",
   "execution_count": 14,
   "id": "ac27271e",
   "metadata": {},
   "outputs": [
    {
     "name": "stdout",
     "output_type": "stream",
     "text": [
      "Nombre del cumpleañero: Fernando\n",
      "¡Cumpleaños feliz!\n",
      "¡Cumpleaños feliz!\n",
      "Te desamos Fernando,\n",
      "¡Cumpleaños feliz!\n"
     ]
    }
   ],
   "source": [
    "persona = input('Nombre del cumpleañero: ')\n",
    "str1 = '¡Cumpleaños feliz!'\n",
    "str2 = 'Te desamos todos'\n",
    "print((str1+'\\n')*2 + str2.replace('todos',persona)+ ',\\n'+ str1)"
   ]
  },
  {
   "cell_type": "markdown",
   "id": "b0368dc5",
   "metadata": {},
   "source": [
    "###  EJERCICIO DEL VIDEO 12 CAP 4"
   ]
  },
  {
   "cell_type": "code",
   "execution_count": 11,
   "id": "5de4aad4",
   "metadata": {},
   "outputs": [
    {
     "name": "stdout",
     "output_type": "stream",
     "text": [
      "Este es el string original:  El camino esta cerrado pero seguro que podemos encontrar una alternativa\n",
      "Introduce una palabra que quieras eliminar del string original\n",
      "Ingrese la palabra: pero\n",
      "El camino esta cerrado seguro que podemos encontrar una alternativa\n"
     ]
    }
   ],
   "source": [
    "string = 'El camino esta cerrado pero seguro que podemos encontrar una alternativa'\n",
    "print('Este es el string original: ',end=' ')\n",
    "print(string)\n",
    "print('Introduce una palabra que quieras eliminar del string original')\n",
    "palabra_eliminar = input('Ingrese la palabra: ')\n",
    "\n",
    "indice = string.find(palabra_eliminar)\n",
    "sub_string = string[:indice] + string[indice+1+ len(palabra_eliminar):]\n",
    "print(sub_string)"
   ]
  },
  {
   "cell_type": "code",
   "execution_count": 26,
   "id": "63590863",
   "metadata": {},
   "outputs": [
    {
     "name": "stdout",
     "output_type": "stream",
     "text": [
      "Ingrese un texto: HOjA NUMERO jUAN\n"
     ]
    }
   ],
   "source": [
    "string = input('Ingrese un texto: ')"
   ]
  },
  {
   "cell_type": "code",
   "execution_count": null,
   "id": "47baeb80",
   "metadata": {},
   "outputs": [],
   "source": [
    "print('Ej1:',string.upper())\n",
    "print('Ej2:',string.title())"
   ]
  },
  {
   "cell_type": "code",
   "execution_count": 39,
   "id": "bf425524",
   "metadata": {},
   "outputs": [
    {
     "name": "stdout",
     "output_type": "stream",
     "text": [
      "hoJa numero juan\n"
     ]
    }
   ],
   "source": [
    "texto = string[:2].lower()+string[2].upper()+string[3:].lower()\n",
    "print(texto)"
   ]
  },
  {
   "cell_type": "code",
   "execution_count": 40,
   "id": "67fd9d6d",
   "metadata": {
    "scrolled": true
   },
   "outputs": [
    {
     "name": "stdout",
     "output_type": "stream",
     "text": [
      "Ingrese un texto: hooola mi nombre es fernando\n",
      "hOOOLA MI NOMBRE ES FERNANDo\n"
     ]
    }
   ],
   "source": [
    "string = input('Ingrese un texto: ')\n",
    "hola = string[0].lower()+string[1:len(string)-1].upper()+string[-1].lower()\n",
    "print(hola)"
   ]
  },
  {
   "cell_type": "code",
   "execution_count": 48,
   "id": "648ac781",
   "metadata": {
    "scrolled": true
   },
   "outputs": [
    {
     "name": "stdout",
     "output_type": "stream",
     "text": [
      "Ingrese un texto: hola fer\n",
      "ingresa una letra: nano\n",
      "nanola fer\n"
     ]
    }
   ],
   "source": [
    "string = input('Ingrese un texto: ')\n",
    "sub = input('ingresa una letra: ')\n",
    "\n",
    "print(string.replace(string[0:2],sub))"
   ]
  },
  {
   "cell_type": "code",
   "execution_count": 50,
   "id": "c8033cd2",
   "metadata": {
    "scrolled": true
   },
   "outputs": [
    {
     "name": "stdout",
     "output_type": "stream",
     "text": [
      "Ingrese se año de nacimiento: 1997\n",
      "Ingrese el año actual: 2022\n",
      "Su edad es: 25 años\n"
     ]
    }
   ],
   "source": [
    "# Otro ejercicio\n",
    "año_nacimiento = int(input('Ingrese se año de nacimiento: '))\n",
    "año_actual  = int(input('Ingrese el año actual: '))\n",
    "diferencia = año_actual - año_nacimiento\n",
    "print('Su edad es: {} años'.format(diferencia))"
   ]
  },
  {
   "cell_type": "code",
   "execution_count": 55,
   "id": "f96ec517",
   "metadata": {},
   "outputs": [
    {
     "name": "stdout",
     "output_type": "stream",
     "text": [
      "Ingrese un texto: \n",
      "hola \n",
      "El String si contiene espacios en blanco, y contiene 1.\n"
     ]
    }
   ],
   "source": [
    "# Ejercicio\n",
    "s = input('Ingrese un texto: \\n')\n",
    "if ' ' in s:\n",
    "    h = s.count(' ')\n",
    "    print('El String si contiene espacios en blanco, y contiene {}.'.format(h))"
   ]
  },
  {
   "cell_type": "code",
   "execution_count": 60,
   "id": "323144ab",
   "metadata": {},
   "outputs": [
    {
     "name": "stdout",
     "output_type": "stream",
     "text": [
      " Ingrese el valor de la variable A: 0\n",
      " Ingrese el valor de la variable B: 48\n",
      "No se puede resolver la ecuacion, debido a que A = 0.\n"
     ]
    }
   ],
   "source": [
    "# Ejercicio\n",
    "A = float(input(' Ingrese el valor de la variable A: '))\n",
    "B = float(input(' Ingrese el valor de la variable B: '))\n",
    "\n",
    "if A != 0:\n",
    "    x = -B/A\n",
    "    print('El valor de X, resultado de la ecuacion es {}.'.format(x))\n",
    "else:\n",
    "    print('No se puede resolver la ecuacion, debido a que A = 0.')"
   ]
  },
  {
   "cell_type": "code",
   "execution_count": 65,
   "id": "7f9b617e",
   "metadata": {},
   "outputs": [
    {
     "name": "stdout",
     "output_type": "stream",
     "text": [
      "Ingrese un numero: 33\n",
      "El numero 33 es Impar.\n"
     ]
    }
   ],
   "source": [
    "# Ejercicio par o impar\n",
    "numero = int(input('Ingrese un numero: '))\n",
    "print( 'El numero {} es Par.'.format(numero) if numero % 2 == 0 else 'El numero {} es Impar.'.format(numero))\n"
   ]
  },
  {
   "cell_type": "code",
   "execution_count": 72,
   "id": "592f493d",
   "metadata": {},
   "outputs": [
    {
     "name": "stdout",
     "output_type": "stream",
     "text": [
      "Ingrese el valor da la variable x: -0.5\n",
      "Ingrese el valor da la variable y: 0\n",
      "(-0.5,0.0) no esta dentro del cuadro unidad\n"
     ]
    }
   ],
   "source": [
    "# Cuadrado unidad\n",
    "x = float(input('Ingrese el valor da la variable x: '))\n",
    "y = float(input('Ingrese el valor da la variable y: '))\n",
    "print(\"({},{}) esta dentro del cuadro unidad\".format(x,y) if (x >= 0 and x<=1) and (y >= 0 and y<=1) else \"({},{}) no esta dentro del cuadro unidad\".format(x,y))"
   ]
  },
  {
   "cell_type": "code",
   "execution_count": 85,
   "id": "c38e0289",
   "metadata": {},
   "outputs": [
    {
     "name": "stdout",
     "output_type": "stream",
     "text": [
      "Ingrese el año: 4\n",
      "El año 4 es bisiesto\n"
     ]
    }
   ],
   "source": [
    "# Año bisiesto: es bisiesto si el año es divisible entre 4, pero no es multiplo de cien a no ser que lo sea de 400\n",
    "\n",
    "año = int(input('Ingrese el año: '))\n",
    "print('El año {} es bisiesto'.format(año) if ((año%4 == 0) and (año%100 != 0 or año == 400)) else 'El año {} no es bisiesto'.format(año))"
   ]
  },
  {
   "cell_type": "code",
   "execution_count": 26,
   "id": "76b8e210",
   "metadata": {},
   "outputs": [
    {
     "name": "stdout",
     "output_type": "stream",
     "text": [
      "Tripletes: [[-10, 4, 6], [-10, 6, 4], [-8, 1, 7], [-8, 4, 4], [-8, 7, 1], [-7, -1, 8], [-7, 1, 6], [-7, 6, 1], [-7, 8, -1], [-1, -7, 8], [-1, 8, -7], [1, -8, 7], [1, -7, 6], [1, 6, -7], [1, 7, -8], [4, -10, 6], [4, -8, 4], [4, 4, -8], [4, 6, -10], [6, -10, 4], [6, -7, 1], [6, 1, -7], [6, 4, -10], [7, -8, 1], [7, 1, -8], [8, -7, -1], [8, -1, -7]]\n",
      "\n",
      "Cantidad de Tripletes que logran una suma objetiva igual a 0 es: 27\n"
     ]
    }
   ],
   "source": [
    "# Ejercicio de Meli\n",
    "lista = [-7, -1, 8, -10, 6, 4, -8, 1, 7]\n",
    "lista.sort()  # Ordenar lista de forma ascendente, pero no cambia el resultado al no ordenarla, obtengo la misma cantidad de tripletes\n",
    "lista_final = []\n",
    "suma_objetiva = 0\n",
    "longitud = len(lista)\n",
    "for j in lista:\n",
    "    for i in lista:\n",
    "        for x in lista:\n",
    "            #print(x)\n",
    "            if (j+i+x) == 0:\n",
    "                lista_provi = []\n",
    "                lista_provi.append(j)\n",
    "                lista_provi.append(i)\n",
    "                lista_provi.append(x)\n",
    "                lista_final.append(lista_provi)\n",
    "print('Tripletes:',lista_final)\n",
    "print('\\nCantidad de Tripletes que logran una suma objetiva igual a 0 es:',len(lista_final))\n",
    "#print(lista_invertida)"
   ]
  },
  {
   "cell_type": "code",
   "execution_count": 12,
   "id": "e14ac6b5",
   "metadata": {
    "scrolled": true
   },
   "outputs": [
    {
     "name": "stdout",
     "output_type": "stream",
     "text": [
      "[7, 1, -8, 4, 6, -10, 8, -1, -7]\n"
     ]
    }
   ],
   "source": [
    "lista = [-7, -1, 8, -10, 6, 4, -8, 1, 7]\n",
    "l = lista.reverse()\n",
    "print(lista)"
   ]
  },
  {
   "cell_type": "code",
   "execution_count": 52,
   "id": "4ce4615c",
   "metadata": {
    "scrolled": false
   },
   "outputs": [
    {
     "name": "stdout",
     "output_type": "stream",
     "text": [
      "1\n",
      "2\n",
      "fit\n",
      "4\n",
      "but\n",
      "fit\n",
      "7\n",
      "8\n",
      "fit\n",
      "but\n",
      "11\n",
      "fit\n",
      "13\n",
      "14\n",
      "fitbut\n",
      "16\n",
      "17\n",
      "fit\n",
      "19\n",
      "but\n",
      "fit\n",
      "22\n",
      "23\n",
      "fit\n",
      "but\n",
      "26\n",
      "fit\n",
      "28\n",
      "29\n",
      "fitbut\n",
      "31\n",
      "32\n",
      "fit\n",
      "34\n",
      "but\n",
      "fit\n",
      "37\n",
      "38\n",
      "fit\n",
      "but\n",
      "41\n",
      "fit\n",
      "43\n",
      "44\n",
      "fitbut\n",
      "46\n",
      "47\n",
      "fit\n",
      "49\n",
      "but\n",
      "fit\n",
      "52\n",
      "53\n",
      "fit\n",
      "but\n",
      "56\n",
      "fit\n",
      "58\n",
      "59\n",
      "fitbut\n",
      "61\n",
      "62\n",
      "fit\n",
      "64\n",
      "but\n",
      "fit\n",
      "67\n",
      "68\n",
      "fit\n",
      "but\n",
      "71\n",
      "fit\n",
      "73\n",
      "74\n",
      "fitbut\n",
      "76\n",
      "77\n",
      "fit\n",
      "79\n",
      "but\n",
      "fit\n",
      "82\n",
      "83\n",
      "fit\n",
      "but\n",
      "86\n",
      "fit\n",
      "88\n",
      "89\n",
      "fitbut\n",
      "91\n",
      "92\n",
      "fit\n",
      "94\n",
      "but\n",
      "fit\n",
      "97\n",
      "98\n",
      "fit\n",
      "but\n"
     ]
    }
   ],
   "source": [
    "# Ejercicio de entrevista\n",
    "#muetre del 1 al 100\n",
    "#multiplos de 3 por la palabra fit\n",
    "#multiplos de 5 por la palabra but\n",
    "#multiplos de 3 y 5 por fitbut\n",
    "for x in range(1,101):\n",
    "    if (x%3 ==0 and x%5 == 0):\n",
    "        x = 'fitbut'\n",
    "    elif (x%3 == 0):\n",
    "        x = 'fit'\n",
    "    elif (x%5 == 0):\n",
    "        x = 'but'\n",
    "    print(x)"
   ]
  },
  {
   "cell_type": "code",
   "execution_count": 61,
   "id": "3ed217f8",
   "metadata": {},
   "outputs": [
    {
     "name": "stdout",
     "output_type": "stream",
     "text": [
      "Ingrese un string: Hola mi nombre es fernando mucho gustO\n",
      "Hay 13 vocales en el string.\n"
     ]
    }
   ],
   "source": [
    "# Ejercicio\n",
    "sr = input('Ingrese un string: ')\n",
    "sr = sr.lower()\n",
    "i = 0\n",
    "count = 0\n",
    "while i < len(sr):\n",
    "    if sr[i] == 'a' or sr[i] == 'e' or sr[i] == 'i' or sr[i] == 'o' or sr[i] == 'u':\n",
    "        count += 1\n",
    "    i += 1\n",
    "\n",
    "print('Hay {} vocales en el string.'.format(count))"
   ]
  },
  {
   "cell_type": "code",
   "execution_count": 79,
   "id": "c3c4b81f",
   "metadata": {
    "scrolled": true
   },
   "outputs": [
    {
     "name": "stdout",
     "output_type": "stream",
     "text": [
      "1\n",
      "1\n",
      "2\n",
      "3\n",
      "5\n",
      "8\n",
      "13\n",
      "21\n",
      "34\n",
      "55\n",
      "89\n",
      "144\n",
      "233\n",
      "377\n",
      "610\n",
      "987\n",
      "1597\n",
      "2584\n",
      "4181\n",
      "6765\n"
     ]
    }
   ],
   "source": [
    "# Figonacci\n",
    "\n",
    "figo_ant = 1\n",
    "figo_act = 1\n",
    "i = 0\n",
    "figo_actual = 0\n",
    "while figo_actual < 500000:\n",
    "    print(figo_ant)\n",
    "    figo_actual = figo_ant + figo_act\n",
    "    figo_ant = figo_act\n",
    "    figo_act =figo_actual\n",
    "    i += 1\n",
    "    if i == 20: # Solo me dara hasta el indice numero 20\n",
    "        break\n"
   ]
  },
  {
   "cell_type": "code",
   "execution_count": 86,
   "id": "7e04c961",
   "metadata": {},
   "outputs": [
    {
     "name": "stdout",
     "output_type": "stream",
     "text": [
      "Ingrese un numero: 4\n",
      "Ingrese un numero: 5\n",
      "Ingrese un numero: 0\n",
      "El resultado de la suma es: 9 .\n"
     ]
    }
   ],
   "source": [
    "# El usuario introduzca  numero por teclado e iremos sumandolos. Cuando el usuario introduzca 0 saldremos del bucle while.\n",
    "# Al salid del bucle con un else mostraremos la suma.\n",
    "suma = 0\n",
    "a = True\n",
    "while a:\n",
    "    numero = int(input('Ingrese un numero: '))\n",
    "    if numero != 0:\n",
    "        suma += numero\n",
    "    else:\n",
    "        a = False\n",
    "else:\n",
    "    print('El resultado de la suma es: {} .'.format(suma))"
   ]
  },
  {
   "cell_type": "code",
   "execution_count": 88,
   "id": "d3b461f2",
   "metadata": {},
   "outputs": [
    {
     "name": "stdout",
     "output_type": "stream",
     "text": [
      "Ingrese un numero: 8\n",
      "Ingrese un numero: 2\n",
      "Ingrese un numero: 0\n",
      "El resultado de la suma es: 10.0\n"
     ]
    }
   ],
   "source": [
    "# Otra forma mas efectiva del ejercicio de arriba:\n",
    "n = float(input('Ingrese un numero: '))\n",
    "suma = 0\n",
    "while n !=0:\n",
    "    suma +=n\n",
    "    n = float(input('Ingrese un numero: '))\n",
    "else:\n",
    "    print('El resultado de la suma es: {}'.format(suma))\n",
    "    \n",
    "    "
   ]
  },
  {
   "cell_type": "code",
   "execution_count": 93,
   "id": "5e4a0e13",
   "metadata": {},
   "outputs": [
    {
     "name": "stdout",
     "output_type": "stream",
     "text": [
      "Introduce una rotacion: 10\n",
      "A:K\n",
      "B:L\n",
      "C:M\n",
      "D:N\n",
      "E:O\n",
      "F:P\n",
      "G:Q\n",
      "H:R\n",
      "I:S\n",
      "J:T\n",
      "K:U\n",
      "L:V\n",
      "M:W\n",
      "N:X\n",
      "O:Y\n",
      "P:Z\n",
      "Q:A\n",
      "R:B\n",
      "S:C\n",
      "T:D\n",
      "U:E\n",
      "V:F\n",
      "W:G\n",
      "X:H\n",
      "Y:I\n",
      "Z:J\n"
     ]
    }
   ],
   "source": [
    "# 65 a 90 RUEDA\n",
    "\n",
    "n = int(input('Introduce una rotacion: '))\n",
    "i = 65\n",
    "\n",
    "while i<=90:\n",
    "    if i + n <= 90:\n",
    "        \n",
    "        print(chr(i) + ':' + chr(i+n)) # Desplaza el caracter i, n posiciones\n",
    "    else:\n",
    "        print(chr(i) + ':' + chr((i-26)+n)) # Esto vuelve a la 'A'\n",
    "    i +=1"
   ]
  },
  {
   "cell_type": "code",
   "execution_count": 29,
   "id": "e8381be5",
   "metadata": {},
   "outputs": [
    {
     "name": "stdout",
     "output_type": "stream",
     "text": [
      "Ingrese un texto: Hola mi nombre es Fernando.\n",
      "\n",
      "\n",
      ".odnanreF se erbmon im aloH\n"
     ]
    }
   ],
   "source": [
    "string = input('Ingrese un texto: ')\n",
    "print('\\n')\n",
    "c =''\n",
    "for x in string:\n",
    "    c = x + c # Cambia si sumo primer c y luego x --> obtendria el mismo mensaje que asigne de entrada\n",
    "print(c)"
   ]
  },
  {
   "cell_type": "code",
   "execution_count": 30,
   "id": "0181f520",
   "metadata": {},
   "outputs": [
    {
     "name": "stdout",
     "output_type": "stream",
     "text": [
      "Ingrese un texto: Hola mi nombre es Fernando.\n",
      "\n",
      "\n",
      ".odnanreF se erbmon im aloH\n"
     ]
    }
   ],
   "source": [
    "string = input('Ingrese un texto: ')\n",
    "print('\\n')\n",
    "c =''\n",
    "for x in string[::-1]:\n",
    "    c += x\n",
    "print(c)"
   ]
  },
  {
   "cell_type": "code",
   "execution_count": 26,
   "id": "a1a1e2ae",
   "metadata": {},
   "outputs": [
    {
     "name": "stdout",
     "output_type": "stream",
     "text": [
      "h\n",
      "oh\n",
      "loh\n",
      "aloh\n",
      "aloh\n"
     ]
    }
   ],
   "source": [
    "s = \"hola\"\n",
    "s_in = \"\"\n",
    "\n",
    "for c in s:\n",
    "    \n",
    "    s_in = c + s_in\n",
    "    print(s_in)\n",
    "\n",
    "print(s_in)"
   ]
  },
  {
   "cell_type": "code",
   "execution_count": 33,
   "id": "79e2fdfe",
   "metadata": {},
   "outputs": [
    {
     "name": "stdout",
     "output_type": "stream",
     "text": [
      "Ingrese un texto: hola mi nombre es fernando\n",
      "Letra a eliminar: o\n",
      "hla mi nmbre es fernand\n"
     ]
    }
   ],
   "source": [
    "# Ejercicio:\n",
    "\n",
    "string = input('Ingrese un texto: ')\n",
    "string = string.lower()\n",
    "letra = input('Letra a eliminar: ')\n",
    "letra = letra.lower()\n",
    "h =''\n",
    "for x in string:\n",
    "    if x == letra:\n",
    "        continue\n",
    "    h += x\n",
    "print(h)"
   ]
  },
  {
   "cell_type": "code",
   "execution_count": 34,
   "id": "fe14d47e",
   "metadata": {},
   "outputs": [
    {
     "name": "stdout",
     "output_type": "stream",
     "text": [
      "Ingrese un texto: hola mi nombre es fernando\n",
      "Letra a eliminar: o\n",
      "hla mi nmbre es fernand"
     ]
    }
   ],
   "source": [
    "string = input('Ingrese un texto: ')\n",
    "string = string.lower()\n",
    "letra = input('Letra a eliminar: ')\n",
    "letra = letra.lower()\n",
    "for x in string:\n",
    "    if x == letra:\n",
    "        continue\n",
    "    print(x,end = '')"
   ]
  },
  {
   "cell_type": "code",
   "execution_count": 65,
   "id": "ff31f25c",
   "metadata": {},
   "outputs": [
    {
     "name": "stdout",
     "output_type": "stream",
     "text": [
      "Ingrese un texto: Hola mi nombre es fernando y estudio en la faculta de ciencias exacta y tecnologia, mucho gusto\n",
      "Letra que detendra el programa: c\n",
      "Cuantas veces debe aparecer la letra para detener el programa?: 4\n",
      "\n",
      "*El programa se detuvo, ya que la letra indicada alcanzo la el numero maximo de apariciones indicado.*\n",
      "\n",
      "hl m nmbr s frnnd y std n l fclt d cncs xc"
     ]
    }
   ],
   "source": [
    "# Ejercicio\n",
    "#eliminar vocale y detener si una letra aparece n veces.\n",
    "string = input('Ingrese un texto: ')\n",
    "string = string.lower()\n",
    "letra = input('Letra que detendra el programa: ')\n",
    "letra = letra.lower()\n",
    "n = int(input('Cuantas veces debe aparecer la letra para detener el programa?: '))\n",
    "i = 0\n",
    "s = ''\n",
    "for x in string:        \n",
    "    \n",
    "    if i >= n:\n",
    "        print('\\n*El programa se detuvo, ya que la letra indicada alcanzo la el numero maximo de apariciones indicado.*\\n')\n",
    "        break\n",
    "    if x == letra:\n",
    "        i+=1\n",
    "    elif x == 'a' or x == 'e' or x == 'i' or x == 'o' or x == 'u':\n",
    "        continue\n",
    "    s += x\n",
    "print(s, end='')"
   ]
  },
  {
   "cell_type": "code",
   "execution_count": 2,
   "id": "bcf1ce41",
   "metadata": {
    "scrolled": true
   },
   "outputs": [
    {
     "name": "stdout",
     "output_type": "stream",
     "text": [
      "Ingrese cuando numeros desea agregar: 4\n",
      "Ingrese un numero: 45\n",
      "Ingrese un numero: 62\n",
      "Ingrese un numero: 4563\n",
      "Ingrese un numero: 489\n",
      "[45, 62, 4563, 489]\n"
     ]
    }
   ],
   "source": [
    "# Ejercicio\n",
    "n = int(input('Ingrese cuando numeros desea agregar: '))\n",
    "lista = []\n",
    "for x in range(n):\n",
    "    numero = int(input('Ingrese un numero: '))\n",
    "    lista.append(numero)\n",
    "print(lista)"
   ]
  },
  {
   "cell_type": "code",
   "execution_count": 21,
   "id": "5d3b9e92",
   "metadata": {},
   "outputs": [
    {
     "name": "stdout",
     "output_type": "stream",
     "text": [
      "Ingrese el numero que desea eliminar: 5\n",
      "habian 2 valores igual a 5.\n",
      "La lista quedaria de la siguiente forma:  [1, 6, 3, 8, 4, 6, 2, 6, 8, 6, 11, 6, 8, 6]\n"
     ]
    }
   ],
   "source": [
    "# Ejercicio --> quiitar elemento de una lista\n",
    "lista = [1,6,3,5,8,4,6,2,6,8,6,11,5,6,8,6]\n",
    "dato = int(input('Ingrese el numero que desea eliminar: '))\n",
    "i = 0\n",
    "n= 0\n",
    "while lista.count(dato) !=0:\n",
    "    if dato == lista[i]:\n",
    "        lista.remove(dato)\n",
    "        n += 1\n",
    "    i +=1\n",
    "else:\n",
    "    print('habian {} valores igual a {}.\\nLa lista quedaria de la siguiente forma: '.format(n,dato),lista)"
   ]
  },
  {
   "cell_type": "code",
   "execution_count": 40,
   "id": "9129a1ef",
   "metadata": {
    "scrolled": true
   },
   "outputs": [
    {
     "name": "stdout",
     "output_type": "stream",
     "text": [
      "Orden Ascendente (A) o Orden Descendente (D) --> Ingrese A o D: D\n",
      "1: Ingrese un numero: 56\n",
      "2: Ingrese un numero: 1\n",
      "3: Ingrese un numero: 32\n",
      "4: Ingrese un numero: 48\n",
      "5: Ingrese un numero: 3211\n",
      "6: Ingrese un numero: 59\n",
      "7: Ingrese un numero: 78\n",
      "8: Ingrese un numero: 315\n",
      "9: Ingrese un numero: 69\n",
      "10: Ingrese un numero: 43\n",
      "Lista Ordenada Descendentemente:  [3211, 315, 78, 69, 59, 56, 48, 43, 32, 1]\n"
     ]
    }
   ],
   "source": [
    "dato = input('Orden Ascendente (A) o Orden Descendente (D) --> Ingrese A o D: ')\n",
    "lista = []\n",
    "for x in range(10):\n",
    "    lista.append(int(input('{}: Ingrese un numero: '.format(x+1))))\n",
    "\n",
    "if dato == 'A':\n",
    "    lista.sort()\n",
    "    print('Lista Ordenada Ascendentemente: ',lista)\n",
    "elif dato == 'D':\n",
    "    lista.sort(reverse = True)\n",
    "    print('Lista Ordenada Descendentemente: ',lista)\n",
    "else:\n",
    "    print('Ingrese correctamente la forma en que se ordenara la lista')"
   ]
  },
  {
   "cell_type": "code",
   "execution_count": 4,
   "id": "373fabc2",
   "metadata": {},
   "outputs": [
    {
     "name": "stdout",
     "output_type": "stream",
     "text": [
      "El valor 1 ocupa el inidice 0\n",
      "El valor 3 ocupa el inidice 1\n",
      "El valor 5 ocupa el inidice 2\n",
      "El valor 7 ocupa el inidice 3\n",
      "El valor 9 ocupa el inidice 4\n",
      "El valor 11 ocupa el inidice 5\n",
      "El valor 13 ocupa el inidice 6\n",
      "El valor 15 ocupa el inidice 7\n",
      "El valor 17 ocupa el inidice 8\n",
      "El valor 19 ocupa el inidice 9\n",
      "El valor 21 ocupa el inidice 10\n",
      "El valor 23 ocupa el inidice 11\n",
      "El valor 25 ocupa el inidice 12\n",
      "El valor 27 ocupa el inidice 13\n",
      "El valor 29 ocupa el inidice 14\n"
     ]
    },
    {
     "data": {
      "text/plain": [
       "[1, 3, 5, 7, 9, 11, 13, 15, 17, 19, 21, 23, 25, 27, 29]"
      ]
     },
     "execution_count": 4,
     "metadata": {},
     "output_type": "execute_result"
    }
   ],
   "source": [
    "# Ejercicio\n",
    "lista = []\n",
    "i = 0\n",
    "for x in range(0,31):\n",
    "    if x%2!=0:\n",
    "        lista.append(x)\n",
    "        print('El valor {} ocupa el inidice {}'.format(x,i))\n",
    "        i+=1\n",
    "lista"
   ]
  },
  {
   "cell_type": "code",
   "execution_count": 9,
   "id": "57b0591b",
   "metadata": {
    "scrolled": true
   },
   "outputs": [
    {
     "name": "stdout",
     "output_type": "stream",
     "text": [
      "El valor 1, ocupa el inidice 0\n",
      "El valor 3, ocupa el inidice 1\n",
      "El valor 5, ocupa el inidice 2\n",
      "El valor 7, ocupa el inidice 3\n",
      "El valor 9, ocupa el inidice 4\n",
      "El valor 11, ocupa el inidice 5\n",
      "El valor 13, ocupa el inidice 6\n",
      "El valor 15, ocupa el inidice 7\n",
      "El valor 17, ocupa el inidice 8\n",
      "El valor 19, ocupa el inidice 9\n",
      "El valor 21, ocupa el inidice 10\n",
      "El valor 23, ocupa el inidice 11\n",
      "El valor 25, ocupa el inidice 12\n",
      "El valor 27, ocupa el inidice 13\n",
      "El valor 29, ocupa el inidice 14\n"
     ]
    }
   ],
   "source": [
    "# Otra forma del ejercicio anterior\n",
    "lista = list(range(1,31,2))\n",
    "for x in range(len(lista)):  \n",
    "    print('El valor {}, ocupa el inidice {}'.format(lista[x],x))"
   ]
  },
  {
   "cell_type": "code",
   "execution_count": 13,
   "id": "3a712722",
   "metadata": {},
   "outputs": [
    {
     "name": "stdout",
     "output_type": "stream",
     "text": [
      "Ingrese la cantidad de filas: 3\n",
      "Ingrese la cantidad de columnas: 6\n",
      "Ingrese el valor del elemento (0,0): 5\n",
      "Ingrese el valor del elemento (0,1): 6\n",
      "Ingrese el valor del elemento (0,2): 4\n",
      "Ingrese el valor del elemento (0,3): 9\n",
      "Ingrese el valor del elemento (0,4): 8\n",
      "Ingrese el valor del elemento (0,5): 3\n",
      "Ingrese el valor del elemento (1,0): 4\n",
      "Ingrese el valor del elemento (1,1): 6\n",
      "Ingrese el valor del elemento (1,2): 9\n",
      "Ingrese el valor del elemento (1,3): 5\n",
      "Ingrese el valor del elemento (1,4): 1\n",
      "Ingrese el valor del elemento (1,5): 2\n",
      "Ingrese el valor del elemento (2,0): 3\n",
      "Ingrese el valor del elemento (2,1): 9\n",
      "Ingrese el valor del elemento (2,2): 8\n",
      "Ingrese el valor del elemento (2,3): 7\n",
      "Ingrese el valor del elemento (2,4): 8\n",
      "Ingrese el valor del elemento (2,5): 9\n",
      "\n",
      " === Matriz A ===\n",
      "[[5. 6. 4. 9. 8. 3.]\n",
      " [4. 6. 9. 5. 1. 2.]\n",
      " [3. 9. 8. 7. 8. 9.]]\n"
     ]
    }
   ],
   "source": [
    "# Crear una matriz de nxm manualmente\n",
    "import numpy as np\n",
    "n = int(input('Ingrese la cantidad de filas: '))\n",
    "m = int(input('Ingrese la cantidad de columnas: '))\n",
    "Matriz = np.empty((n,m))\n",
    "for i in range(len(Matriz)):\n",
    "    for j in range(len(Matriz[0])):\n",
    "        Matriz[i][j]= int(input('Ingrese el valor del elemento ({},{}): '.format(i,j)))\n",
    "print('\\n === Matriz A ===')      \n",
    "print(Matriz)\n"
   ]
  },
  {
   "cell_type": "code",
   "execution_count": 16,
   "id": "aaade869",
   "metadata": {},
   "outputs": [
    {
     "name": "stdout",
     "output_type": "stream",
     "text": [
      "Ingrese la cantidad de filas: 3\n",
      "Ingrese la cantidad de columnas: 3\n",
      "Ingrese el valor del elemento (0,0), de la matriz A: 1\n",
      "Ingrese el valor del elemento (0,1), de la matriz A: 2\n",
      "Ingrese el valor del elemento (0,2), de la matriz A: 3\n",
      "Ingrese el valor del elemento (1,0), de la matriz A: 4\n",
      "Ingrese el valor del elemento (1,1), de la matriz A: 5\n",
      "Ingrese el valor del elemento (1,2), de la matriz A: 6\n",
      "Ingrese el valor del elemento (2,0), de la matriz A: 7\n",
      "Ingrese el valor del elemento (2,1), de la matriz A: 8\n",
      "Ingrese el valor del elemento (2,2), de la matriz A: 9\n",
      "\n",
      "\n",
      "\n",
      "Ingrese el valor del elemento (0,0), de la matriz B: 1\n",
      "Ingrese el valor del elemento (0,1), de la matriz B: 2\n",
      "Ingrese el valor del elemento (0,2), de la matriz B: 3\n",
      "Ingrese el valor del elemento (1,0), de la matriz B: 4\n",
      "Ingrese el valor del elemento (1,1), de la matriz B: 5\n",
      "Ingrese el valor del elemento (1,2), de la matriz B: 6\n",
      "Ingrese el valor del elemento (2,0), de la matriz B: 7\n",
      "Ingrese el valor del elemento (2,1), de la matriz B: 8\n",
      "Ingrese el valor del elemento (2,2), de la matriz B: 9\n",
      "\n",
      "La matriz resultante de la suma de las matrices \"A\" y \"B\", es: \n",
      "\n",
      "[[ 2.  4.  6.]\n",
      " [ 8. 10. 12.]\n",
      " [14. 16. 18.]]\n"
     ]
    }
   ],
   "source": [
    "# Suma de Matrices dadas por el usuario:\n",
    "import numpy as np\n",
    "n = int(input('Ingrese la cantidad de filas: '))\n",
    "m = int(input('Ingrese la cantidad de columnas: '))\n",
    "Matriz_A = np.empty((n,m))\n",
    "Matriz_B = np.empty((n,m))\n",
    "for i in range(len(Matriz_A)):\n",
    "    for j in range(len(Matriz_A[0])):\n",
    "        Matriz_A[i][j]= int(input('Ingrese el valor del elemento ({},{}), de la matriz A: '.format(i,j)))\n",
    "print('\\n\\n')\n",
    "for i in range(len(Matriz_B)):\n",
    "    for j in range(len(Matriz_B[0])):\n",
    "        Matriz_B[i][j]= int(input('Ingrese el valor del elemento ({},{}), de la matriz B: '.format(i,j)))\n",
    "matriz_suma = Matriz_A + Matriz_B\n",
    "\n",
    "print('\\nLa matriz resultante de la suma de las matrices \"A\" y \"B\", es: \\n')\n",
    "print(matriz_suma)"
   ]
  },
  {
   "cell_type": "code",
   "execution_count": 20,
   "id": "ced3ef79",
   "metadata": {},
   "outputs": [
    {
     "name": "stdout",
     "output_type": "stream",
     "text": [
      "Ingrese la cantidad de filas de la matriz A: 3\n",
      "Ingrese la cantidad de columnas de la matriz A: 2\n",
      "Ingrese la cantidad de filas de la matriz B: 3\n",
      "Ingrese la cantidad de columnas de la matriz B: 5\n",
      "No es posible realizar el producto de la matriz \"A\" por la matriz \"B\".\n",
      " Debido a que el numero de columnas de la Matriz A, no coincide con el numero de filas de la matriz \"B\".\n"
     ]
    }
   ],
   "source": [
    "# Producto de dos matrices:\n",
    "import numpy as np\n",
    "A_n = int(input('Ingrese la cantidad de filas de la matriz A: '))\n",
    "A_m = int(input('Ingrese la cantidad de columnas de la matriz A: '))\n",
    "B_n = int(input('Ingrese la cantidad de filas de la matriz B: '))\n",
    "B_m = int(input('Ingrese la cantidad de columnas de la matriz B: '))\n",
    "Matriz_A = np.empty((A_n,A_m))\n",
    "Matriz_B = np.empty((B_n,B_m))\n",
    "if A_m == B_n:\n",
    "    for i in range(len(Matriz_A)):\n",
    "        for j in range(len(Matriz_A[0])):\n",
    "            Matriz_A[i][j]= int(input('Ingrese el valor del elemento ({},{}), de la matriz A: '.format(i,j)))\n",
    "    print('\\n\\n')\n",
    "    for i in range(len(Matriz_B)):\n",
    "        for j in range(len(Matriz_B[0])):\n",
    "            Matriz_B[i][j]= int(input('Ingrese el valor del elemento ({},{}), de la matriz B: '.format(i,j)))\n",
    "    \n",
    "    print('La matriz resulado del producto de la matriz \"A\" por la matriz \"B\" es: ')\n",
    "    print(Matriz_A.dot(Matriz_B))\n",
    "else:\n",
    "    print('\\nNo es posible realizar el producto de la matriz \"A\" por la matriz \"B\".\\n Debido a que el numero de columnas de la Matriz A, no coincide con el numero de filas de la matriz \"B\".')"
   ]
  },
  {
   "cell_type": "code",
   "execution_count": 21,
   "id": "e9393899",
   "metadata": {},
   "outputs": [
    {
     "name": "stdout",
     "output_type": "stream",
     "text": [
      "Ingrese su nombre: Fernando\n",
      "Ingrese su apellido: Geronimo\n",
      "Ingrese su edad: 24\n",
      "Ingrese se DNI: 40330222\n",
      "Ingrese la cantidad de dinero que pagara: 596\n",
      "{'nombre': 'Fernando', 'apellido': 'Geronimo', 'edad': 24, 'dni': 40330222, 'deposito': 596.0}\n"
     ]
    }
   ],
   "source": [
    "# Ejercicio de diccionario:\n",
    "ficha_cliente = {}\n",
    "ficha_cliente['nombre']=str(input('Ingrese su nombre: '))\n",
    "ficha_cliente['apellido'] = str(input('Ingrese su apellido: '))\n",
    "ficha_cliente['edad'] = int(input('Ingrese su edad: '))\n",
    "ficha_cliente['dni'] = int(input('Ingrese se DNI: '))\n",
    "ficha_cliente['deposito'] = float(input('Ingrese la cantidad de dinero que pagara: '))\n",
    "print(ficha_cliente)"
   ]
  },
  {
   "cell_type": "code",
   "execution_count": 36,
   "id": "c22b3262",
   "metadata": {},
   "outputs": [
    {
     "name": "stdout",
     "output_type": "stream",
     "text": [
      "Ingrese su nota N° 1 en Math: 9\n",
      "Ingrese su nota N° 2 en Math: 9\n",
      "Ingrese su nota N° 3 en Math: 9\n",
      "\n",
      "\n",
      "Ingrese su nota N° 1 en English: 8\n",
      "Ingrese su nota N° 2 en English: 7\n",
      "Ingrese su nota N° 3 en English: 8\n",
      "\n",
      "\n",
      "Ingrese su nota N° 1 en History: 9\n",
      "Ingrese su nota N° 2 en History: 6\n",
      "Ingrese su nota N° 3 en History: 4\n",
      "\n",
      "\n",
      "Ingrese su nota N° 1 en Science: 8\n",
      "Ingrese su nota N° 2 en Science: 6\n",
      "Ingrese su nota N° 3 en Science: 5\n",
      "\n",
      "\n",
      "Ingrese su nota N° 1 en IT: 4\n",
      "Ingrese su nota N° 2 en IT: 8\n",
      "Ingrese su nota N° 3 en IT: 9\n",
      "\n",
      "\n",
      "{'Math': [9, 9, 9], 'English': [8, 7, 8], 'History': [9, 6, 4], 'Science': [8, 6, 5], 'IT': [4, 8, 9]}\n",
      "\n",
      "=== Media de las notas de cada asignatura ===\n",
      "La media de Math es: 9.0\n",
      "La media de English es: 7.666666666666667\n",
      "La media de History es: 6.333333333333333\n",
      "La media de Science es: 6.333333333333333\n",
      "La media de IT es: 7.0\n"
     ]
    }
   ],
   "source": [
    "# Ejercicio\n",
    "diccionario = {'Math':[],\n",
    "               'English':[],\n",
    "               'History':[],\n",
    "               'Science':[],\n",
    "               'IT':[]\n",
    "              }\n",
    "for key,value in diccionario.items():\n",
    "    for n in range(3):\n",
    "        value.append(int(input('Ingrese su nota N° {} en {}: '.format(n+1,key))))\n",
    "    print('\\n')\n",
    "print(diccionario)\n",
    "print('\\n=== Media de las notas de cada asignatura ===')\n",
    "for key, value in diccionario.items():\n",
    "    print('La media de {} es: {}'.format(key,(sum(value)/len(value))))"
   ]
  },
  {
   "cell_type": "code",
   "execution_count": 10,
   "id": "e7a8c0ee",
   "metadata": {},
   "outputs": [
    {
     "name": "stdout",
     "output_type": "stream",
     "text": [
      "Las claves del diccionario son:  dict_keys(['a', 'e', 'i', 'o', 'u', 'b', 'c', 'd'])\n",
      "\n",
      "Ingrese la clave que desea eliminar: b\n",
      "\n",
      "El diccionario original es:  {'a': 1, 'e': 5, 'i': 3, 'o': 4, 'u': 5, 'b': 2, 'c': 3, 'd': 4}\n",
      "\n",
      "El nuevo diccionario sin la clave eliminada es:  {'a': 1, 'e': 5, 'i': 3, 'o': 4, 'u': 5, 'c': 3, 'd': 4}\n"
     ]
    }
   ],
   "source": [
    "# ejericio: Dado un diccionario, vamos a solicitar al usuario una clave que quiera eliminar y vamos a eliminarla. Al final, le mostraremos el diccionario actualizado.\n",
    "dicc = {'a': 1, 'e': 5, 'i': 3, 'o': 4, 'u': 5, 'b': 2, 'c': 3, 'd': 4}\n",
    "#print('El diccionario original es: ',dicc,'\\n')\n",
    "a = dicc.keys()\n",
    "print('Las claves del diccionario son: ',a)\n",
    "clave = input('\\nIngrese la clave que desea eliminar: ')\n",
    "print('\\nEl diccionario original es: ',dicc)\n",
    "dicc.pop(clave)\n",
    "print('\\nEl nuevo diccionario sin la clave eliminada es: ',dicc)\n",
    "#print(dicc)\n"
   ]
  },
  {
   "cell_type": "code",
   "execution_count": 12,
   "id": "95ae518b",
   "metadata": {},
   "outputs": [
    {
     "name": "stdout",
     "output_type": "stream",
     "text": [
      "** Ingrese los numeros de su DNI uno por uno **\n",
      "Ingrese el digito N° 1: 4\n",
      "Ingrese el digito N° 2: 5\n",
      "Ingrese el digito N° 3: 6\n",
      "Ingrese el digito N° 4: 8\n",
      "Ingrese el digito N° 5: 4\n",
      "Ingrese el digito N° 6: 3\n",
      "Ingrese el digito N° 7: 5\n",
      "Ingrese el digito N° 8: 9\n",
      "['4', '5', '6', '8', '4', '3', '5', '9']\n"
     ]
    }
   ],
   "source": [
    "print('** Ingrese los numeros de su DNI uno por uno **')\n",
    "lista = []\n",
    "for x in range(8):\n",
    "    lista.append(int(input('Ingrese el digito N° {}: '.format(x+1))))\n",
    "print(lista)"
   ]
  },
  {
   "cell_type": "code",
   "execution_count": 18,
   "id": "82aa1e4f",
   "metadata": {},
   "outputs": [
    {
     "name": "stdout",
     "output_type": "stream",
     "text": [
      "Ingrese un String: hola soy fernando\n",
      "{'h': 1, 'o': 3, 'l': 1, 'a': 2, ' ': 2, 's': 1, 'y': 1, 'f': 1, 'e': 1, 'r': 1, 'n': 2, 'd': 1}\n"
     ]
    }
   ],
   "source": [
    "# Vamos a leer un string por teclado y vamor a devolver un diccionario con la cantidad de apariciones de cada caracter en el string proporcionado por el usuario.\n",
    "\n",
    "string = input('Ingrese un String: ')\n",
    "string = string.lower()\n",
    "dicc = {}\n",
    "for x in string:\n",
    "    suma = 0\n",
    "    for n in string:\n",
    "        if x in dicc.keys():\n",
    "            continue\n",
    "        else:\n",
    "            if x == n:\n",
    "                suma +=1\n",
    "    dicc.setdefault(x,suma)\n",
    "print(dicc)"
   ]
  },
  {
   "cell_type": "code",
   "execution_count": 20,
   "id": "e95c88df",
   "metadata": {},
   "outputs": [
    {
     "name": "stdout",
     "output_type": "stream",
     "text": [
      "Ingrese un String: hola soy fernando mucho gusto\n",
      "{'H': 2, 'O': 5, 'L': 1, 'A': 2, 'S': 2, 'Y': 1, 'F': 1, 'E': 1, 'R': 1, 'N': 2, 'D': 1, 'M': 1, 'U': 2, 'C': 1, 'G': 1, 'T': 1}\n"
     ]
    }
   ],
   "source": [
    "# Vamos a leer un string por teclado y vamor a devolver un diccionario con la cantidad de apariciones de cada caracter en el string proporcionado por el usuario.\n",
    "\n",
    "string = input('Ingrese un String: ')\n",
    "string = string.lower()\n",
    "dicc = {}\n",
    "for x in string:\n",
    "    suma = 0\n",
    "    if x in dicc.keys() or x == ' ':\n",
    "            continue \n",
    "    for n in string:\n",
    "        if x == n:\n",
    "            suma +=1\n",
    "    dicc.setdefault(x.upper(),suma)\n",
    "print(dicc)"
   ]
  },
  {
   "cell_type": "markdown",
   "id": "6b4ab112",
   "metadata": {},
   "source": [
    "### Ejercicio de Conjuntos"
   ]
  },
  {
   "cell_type": "code",
   "execution_count": 27,
   "id": "5b2af8d8",
   "metadata": {},
   "outputs": [
    {
     "name": "stdout",
     "output_type": "stream",
     "text": [
      "Ingrese una frase: Hola soy Fernando\n",
      "{'l', 'f', 'o', 'h', 'y', 'r', 'n', 's', 'd', 'e', 'a'}\n"
     ]
    }
   ],
   "source": [
    "frase = input('Ingrese una frase: ')\n",
    "frase = frase.lower()\n",
    "set1 = set()\n",
    "for x in frase:\n",
    "    if x == ' ':\n",
    "        continue\n",
    "    set1.add(x)\n",
    "print(set1)"
   ]
  },
  {
   "cell_type": "code",
   "execution_count": 33,
   "id": "7bd36f02",
   "metadata": {},
   "outputs": [
    {
     "name": "stdout",
     "output_type": "stream",
     "text": [
      "Ingrese la primera palabra: nene\n",
      "Ingrese la segunda palabra: mimo\n",
      "La interseccion es:  set()\n"
     ]
    }
   ],
   "source": [
    "palabra1 = input('Ingrese la primera palabra: ')\n",
    "palabra2 = input('Ingrese la segunda palabra: ')\n",
    "set1 = set()\n",
    "set2 = set()\n",
    "for x in palabra1.lower():\n",
    "    set1.add(x)\n",
    "for y in palabra2.lower():\n",
    "    set2.add(y)    \n",
    "print('La interseccion es: ',set1&set2)"
   ]
  },
  {
   "cell_type": "code",
   "execution_count": 37,
   "id": "13f47d23",
   "metadata": {},
   "outputs": [
    {
     "name": "stdout",
     "output_type": "stream",
     "text": [
      "Intervalos: [a,b] y [c,d]\n",
      "\n",
      "Ingrese el valor de a: 1\n",
      "Ingrese el valor de b: 9\n",
      "Ingrese el valor de c: 7\n",
      "Ingrese el valor de d: 15\n",
      "La diferencia simetria es:  {1, 2, 3, 4, 5, 6, 10, 11, 12, 13, 14, 15}\n"
     ]
    }
   ],
   "source": [
    "print('Intervalos: [a,b] y [c,d]\\n')\n",
    "a = int(input('Ingrese el valor de a: '))\n",
    "b = int(input('Ingrese el valor de b: '))\n",
    "c = int(input('Ingrese el valor de c: '))\n",
    "d = int(input('Ingrese el valor de d: '))\n",
    "if b < a or d < c:\n",
    "    print('Los valores proporcionados no pueden formar los intervalos, ya que los valores deben cumplir: a<b y c<d') \n",
    "else: \n",
    "    A = set(range(a,b+1))\n",
    "    B = set(range(c,d+1))\n",
    "    print('La diferencia simetria es: ',A.symmetric_difference(B))"
   ]
  },
  {
   "cell_type": "code",
   "execution_count": 41,
   "id": "6cbfa0f3",
   "metadata": {},
   "outputs": [
    {
     "name": "stdout",
     "output_type": "stream",
     "text": [
      "El valor maximo del conjunto es:  49151\n"
     ]
    }
   ],
   "source": [
    "dic1 = {1,9,5,18,6,1,51,9,49151,-56,45,8,1,15191,519,12,15,45,3618,2,2,3,51,156,4}\n",
    "maximo = -1E1000\n",
    "for x in dic1:\n",
    "    if x > maximo:\n",
    "        maximo = x\n",
    "print('El valor maximo del conjunto es: ',maximo)"
   ]
  },
  {
   "cell_type": "markdown",
   "id": "a95805b7",
   "metadata": {},
   "source": [
    "### Ejercicios de Tuplas"
   ]
  },
  {
   "cell_type": "code",
   "execution_count": 4,
   "id": "0537e489",
   "metadata": {},
   "outputs": [
    {
     "name": "stdout",
     "output_type": "stream",
     "text": [
      "Cuantos números deseas ingresar?: 10\n",
      "Ingrese el elemento N° 1: 5\n",
      "Ingrese el elemento N° 2: -9\n",
      "Ingrese el elemento N° 3: 0\n",
      "Ingrese el elemento N° 4: 6\n",
      "Ingrese el elemento N° 5: 48\n",
      "Ingrese el elemento N° 6: -59\n",
      "Ingrese el elemento N° 7: 148\n",
      "Ingrese el elemento N° 8: 0\n",
      "Ingrese el elemento N° 9: -8889\n",
      "Ingrese el elemento N° 10: 69\n",
      "La lista es: \n",
      " [(5, 'positivo'), (-9, 'negativo'), (0, 'cero'), (6, 'positivo'), (48, 'positivo'), (-59, 'negativo'), (148, 'positivo'), (0, 'cero'), (-8889, 'negativo'), (69, 'positivo')]\n"
     ]
    }
   ],
   "source": [
    "# Ejercicio\n",
    "n = int(input('Cuantos números deseas ingresar?: '))\n",
    "lista = []\n",
    "sign=' '\n",
    "for x in range(n):\n",
    "    num = int(input('Ingrese el elemento N° {}: '.format(x+1)))\n",
    "    if num>0:\n",
    "        sign = 'positivo'\n",
    "    elif num == 0:\n",
    "        sign = 'cero'\n",
    "    else:\n",
    "        sign = 'negativo'\n",
    "    lista.append((num,sign))\n",
    "print('La lista es: \\n',lista)"
   ]
  },
  {
   "cell_type": "code",
   "execution_count": 10,
   "id": "3dbbeb8f",
   "metadata": {},
   "outputs": [
    {
     "name": "stdout",
     "output_type": "stream",
     "text": [
      "Ingrese un Número entre el 1 y el 10: 9\n",
      "Su tuplas es: (9, 'excelente')\n",
      "Ingrese un Número entre el 1 y el 10: 4\n",
      "Su tuplas es: (4, 'suspenso')\n",
      "Ingrese un Número entre el 1 y el 10: 2\n",
      "Su tuplas es: (2, 'suspenso')\n",
      "Ingrese un Número entre el 1 y el 10: 6\n",
      "Su tuplas es: (6, 'aprobado')\n",
      "Ingrese un Número entre el 1 y el 10: 4\n",
      "Su tuplas es: (4, 'suspenso')\n",
      "Ingrese un Número entre el 1 y el 10: 5\n",
      "Su tuplas es: (5, 'aprobado')\n",
      "Ingrese un Número entre el 1 y el 10: 0\n",
      "**El programa finalizo**\n",
      "El conjunto de tuplas es: [(9, 'excelente'), (4, 'suspenso'), (2, 'suspenso'), (6, 'aprobado'), (4, 'suspenso'), (5, 'aprobado')]\n"
     ]
    }
   ],
   "source": [
    "n = int(input('Ingrese un Número entre el 1 y el 10: '))\n",
    "tuplas = []\n",
    "i = 0\n",
    "palabra = ''\n",
    "while n != 0:\n",
    "    if n >= 1 and n < 5:\n",
    "        palabra = 'suspenso'\n",
    "    elif n >= 5 and n<7:\n",
    "        palabra = 'aprobado'\n",
    "    elif n >= 7 and n <9:\n",
    "        palabra = 'notable'\n",
    "    elif n>=9 and n<=10:\n",
    "        palabra = 'excelente'\n",
    "    else:\n",
    "        print('\\nERROR!!!')\n",
    "        print('\\nIngrese un número entero entre 1 y 10')\n",
    "        print('FIN DEL PROGRAMA')\n",
    "        break\n",
    "    tuplas.append((n,palabra))\n",
    "    print('Su tuplas es: {}'.format(tuplas[i]))\n",
    "    i += 1\n",
    "    n = int(input('Ingrese un Número entre el 1 y el 10: '))\n",
    "else:\n",
    "    print('**El programa finalizo**')\n",
    "    print('El conjunto de tuplas es: {}'.format(tuplas))"
   ]
  },
  {
   "cell_type": "code",
   "execution_count": 15,
   "id": "90a56801",
   "metadata": {},
   "outputs": [
    {
     "name": "stdout",
     "output_type": "stream",
     "text": [
      "Ingrese una frase: mi perro se llama juan\n",
      "[('numero de vocales: ', 8), ('numero de consonantes: ', 10), ('numero de espacios: ', 4)]\n"
     ]
    }
   ],
   "source": [
    "frase = input('Ingrese una frase: ')\n",
    "frase = frase.lower()\n",
    "lista = []\n",
    "vocal = 0\n",
    "consonante = 0\n",
    "espacio = 0\n",
    "for x in frase:\n",
    "    if x=='a' or x == 'e' or x == 'i' or x == 'o' or x == 'u':\n",
    "        vocal +=1\n",
    "    elif x == ' ':\n",
    "        espacio +=1\n",
    "    else:\n",
    "        consonante += 1    \n",
    "lista.append(('numero de vocales: ',vocal))\n",
    "lista.append(('numero de consonantes: ',consonante))\n",
    "lista.append(('numero de espacios: ',espacio))\n",
    "print(lista)"
   ]
  },
  {
   "cell_type": "code",
   "execution_count": 19,
   "id": "96cc2c6c",
   "metadata": {},
   "outputs": [
    {
     "name": "stdout",
     "output_type": "stream",
     "text": [
      "['Mates', 'Lengua', 'Historia', 'Informatica', 'Musica']\n",
      "Ingrese la materia: Mates\n",
      "Ingrese la nota: 8\n",
      "Ingrese la materia: Mates\n",
      "Ingrese la nota: 10\n",
      "Ingrese la materia: Lengua\n",
      "Ingrese la nota: 7\n",
      "Ingrese la materia: Historia\n",
      "Ingrese la nota: 7\n",
      "Ingrese la materia: Historia\n",
      "Ingrese la nota: 5\n",
      "Ingrese la materia: Informatica\n",
      "Ingrese la nota: 10\n",
      "Ingrese la materia: Informatica\n",
      "Ingrese la nota: 9\n",
      "Ingrese la materia: \n",
      "\n",
      " === NOTAS MEDAS ===\n",
      "La nota media de Mates es 9.0\n",
      "La nota media de Lengua es 7.0\n",
      "La nota media de Historia es 6.0\n",
      "La nota media de Informatica es 9.5\n",
      "La nota media de Musica es desconocida\n"
     ]
    }
   ],
   "source": [
    "# Video  numero 006 - Asignatuas, notas y nota medio - del tema de tuplas\n",
    "\n",
    "# REVISAAAAAAR\n",
    "\n",
    "\n",
    "materias = ['Mates','Lengua','Historia','Informatica','Musica']\n",
    "tupla = []\n",
    "print(materias)\n",
    "asignatura = input('Ingrese la materia: ')\n",
    "while asignatura in materias:\n",
    "    nota = float(input('Ingrese la nota: '))\n",
    "    tupla.append((asignatura,nota))\n",
    "    asignatura = input('Ingrese la materia: ')\n",
    "means = {'Mates': [],\n",
    "         'Lengua':[],\n",
    "         'Historia':[],\n",
    "         'Informatica':[],\n",
    "         'Musica':[]}\n",
    "for item in tupla:\n",
    "    means[item[0]].append(item[1])\n",
    "print('\\n === NOTAS MEDAS ===')\n",
    "for key, val in means.items():\n",
    "    print('La nota media de {} es {}'.format(key, 'desconocida' if len(val) == 0 else sum(val)/len(val)))"
   ]
  },
  {
   "cell_type": "code",
   "execution_count": 4,
   "id": "72ac32ae",
   "metadata": {},
   "outputs": [
    {
     "name": "stdout",
     "output_type": "stream",
     "text": [
      "Cuantos puntos desea ingresar? 4\n",
      "\n",
      "Ingrese el valor de \"x\", del punto N° 1: -4\n",
      "Ingrese el valor de \"y\", del punto N° 1: 9\n",
      "\n",
      "Ingrese el valor de \"x\", del punto N° 2: 7\n",
      "Ingrese el valor de \"y\", del punto N° 2: 9\n",
      "\n",
      "Ingrese el valor de \"x\", del punto N° 3: -1\n",
      "Ingrese el valor de \"y\", del punto N° 3: -9\n",
      "\n",
      "Ingrese el valor de \"x\", del punto N° 4: 9\n",
      "Ingrese el valor de \"y\", del punto N° 4: -1\n",
      "\n",
      "\n",
      "El punto (-4,9), pertenece al II cuadrante\n",
      "El punto (7,9), pertenece al I cuadrante\n",
      "El punto (-1,-9), pertenece al III cuadrante\n",
      "El punto (9,-1), pertenece al IV cuadrante\n"
     ]
    }
   ],
   "source": [
    "puntos = int(input('Cuantos puntos desea ingresar? '))\n",
    "lista = []\n",
    "for m in range(puntos):\n",
    "    x = int(input('\\nIngrese el valor de \"x\", del punto N° {}: '.format(m+1)))\n",
    "    y = int(input('Ingrese el valor de \"y\", del punto N° {}: '.format(m+1)))\n",
    "    if x== 0 and y == 0:\n",
    "        cuadrante = 'center'\n",
    "    if x >= 0 and y >= 0:\n",
    "        cuadrante = 'I'\n",
    "    if x <= 0 and y >= 0:\n",
    "        cuadrante = 'II'\n",
    "    if x <= 0 and y <= 0:\n",
    "        cuadrante = 'III'\n",
    "    if x>= 0 and y <= 0:\n",
    "        cuadrante = 'IV'\n",
    "    lista.append((x,y,cuadrante))\n",
    "print('\\n')\n",
    "for n in lista:\n",
    "    x,y,cuadrante = n\n",
    "    print('El punto ({},{}), pertenece al {} cuadrante'.format(x,y,cuadrante))"
   ]
  },
  {
   "cell_type": "code",
   "execution_count": 5,
   "id": "7faf57c4",
   "metadata": {},
   "outputs": [
    {
     "name": "stdout",
     "output_type": "stream",
     "text": [
      "(('hola', 'h'), ('perro', 'p'), ('animal', 'a'), ('luna', 'l'), ('casa', 'c'))\n"
     ]
    }
   ],
   "source": [
    "lista = ['hola','perro','animal','luna','casa']\n",
    "letras = []\n",
    "for x in lista:\n",
    "    letras.append(x[0])\n",
    "conjunto = tuple(zip(lista,letras))\n",
    "print(conjunto)"
   ]
  },
  {
   "cell_type": "markdown",
   "id": "d860f23e",
   "metadata": {},
   "source": [
    "## Ejercicio de Funciones "
   ]
  },
  {
   "cell_type": "code",
   "execution_count": 11,
   "id": "04d10b02",
   "metadata": {},
   "outputs": [],
   "source": [
    "# Ejercicio\n",
    "def contador(frase,letra):\n",
    "    frase = frase.lower()\n",
    "    contador = frase.count(letra)\n",
    "    return contador\n"
   ]
  },
  {
   "cell_type": "code",
   "execution_count": 10,
   "id": "33b2a89d",
   "metadata": {},
   "outputs": [
    {
     "name": "stdout",
     "output_type": "stream",
     "text": [
      "Ingresa una frase: Hola soy fernando y estoy programando en python a las 2 de la mañana saludos\n",
      "Ingresa una letra: a\n",
      "11\n"
     ]
    }
   ],
   "source": [
    "string = input('Ingresa una frase: ')\n",
    "letra = input('Ingresa una letra: ')\n",
    "print(contador(string,letra))"
   ]
  },
  {
   "cell_type": "code",
   "execution_count": 1,
   "id": "26d23540",
   "metadata": {},
   "outputs": [],
   "source": [
    "def condifion(n):\n",
    "    if n == 0:\n",
    "        a = '{} es cero.'.format(n)\n",
    "    elif n > 0:\n",
    "        a = '{} es positivo.'.format(n)\n",
    "    else:\n",
    "        a = '{} es negativo.'.format(n)\n",
    "    return a"
   ]
  },
  {
   "cell_type": "code",
   "execution_count": 4,
   "id": "a8dbc1ed",
   "metadata": {},
   "outputs": [
    {
     "name": "stdout",
     "output_type": "stream",
     "text": [
      "-9 es negativo.\n"
     ]
    }
   ],
   "source": [
    "print(condifion(-9))"
   ]
  },
  {
   "cell_type": "code",
   "execution_count": 19,
   "id": "1e175ede",
   "metadata": {},
   "outputs": [],
   "source": [
    "def tabla(num):\n",
    "    lista = []\n",
    "    if type(num) != int:\n",
    "        return 'El numero introducido no es entero'\n",
    "    for x in range(10):\n",
    "        print('{} x {} = {}'.format(num,x+1,(x+1)*num))\n",
    "        lista.append((x+1)*num)\n",
    "    return lista"
   ]
  },
  {
   "cell_type": "code",
   "execution_count": 21,
   "id": "2f3cfc83",
   "metadata": {},
   "outputs": [
    {
     "name": "stdout",
     "output_type": "stream",
     "text": [
      "3 x 1 = 3\n",
      "3 x 2 = 6\n",
      "3 x 3 = 9\n",
      "3 x 4 = 12\n",
      "3 x 5 = 15\n",
      "3 x 6 = 18\n",
      "3 x 7 = 21\n",
      "3 x 8 = 24\n",
      "3 x 9 = 27\n",
      "3 x 10 = 30\n",
      "[3, 6, 9, 12, 15, 18, 21, 24, 27, 30]\n"
     ]
    }
   ],
   "source": [
    "print(tabla(3))"
   ]
  },
  {
   "cell_type": "code",
   "execution_count": 35,
   "id": "db807d37",
   "metadata": {},
   "outputs": [],
   "source": [
    "def detector(frase,letra):\n",
    "    i = 0  \n",
    "    while i < len(frase):\n",
    "        if frase[i] == letra:      \n",
    "            return True\n",
    "        i +=1\n",
    "    return False     "
   ]
  },
  {
   "cell_type": "code",
   "execution_count": 36,
   "id": "d7d301c9",
   "metadata": {},
   "outputs": [
    {
     "name": "stdout",
     "output_type": "stream",
     "text": [
      "False\n"
     ]
    }
   ],
   "source": [
    "print(detector('fernndo me llmo.','p'))"
   ]
  },
  {
   "cell_type": "code",
   "execution_count": 53,
   "id": "8e2720b3",
   "metadata": {},
   "outputs": [],
   "source": [
    "def funcion_recursiva(num):\n",
    "    if num == 0:\n",
    "        return 0\n",
    "    print(num)\n",
    "    return funcion_recursiva(num-1)"
   ]
  },
  {
   "cell_type": "code",
   "execution_count": 54,
   "id": "7a04b7ab",
   "metadata": {},
   "outputs": [
    {
     "name": "stdout",
     "output_type": "stream",
     "text": [
      "10\n",
      "9\n",
      "8\n",
      "7\n",
      "6\n",
      "5\n",
      "4\n",
      "3\n",
      "2\n",
      "1\n",
      "0\n"
     ]
    }
   ],
   "source": [
    "print(funcion_recursiva(10))"
   ]
  },
  {
   "cell_type": "code",
   "execution_count": 59,
   "id": "1e017157",
   "metadata": {},
   "outputs": [],
   "source": [
    "def factorial(numero):\n",
    "    if numero == 0:\n",
    "        return 1\n",
    "    return numero*factorial(numero-1)\n",
    "    "
   ]
  },
  {
   "cell_type": "code",
   "execution_count": 61,
   "id": "a6c9ab8a",
   "metadata": {},
   "outputs": [
    {
     "data": {
      "text/plain": [
       "720"
      ]
     },
     "execution_count": 61,
     "metadata": {},
     "output_type": "execute_result"
    }
   ],
   "source": [
    "factorial(6)"
   ]
  },
  {
   "cell_type": "code",
   "execution_count": 62,
   "id": "d65410ce",
   "metadata": {},
   "outputs": [],
   "source": [
    "def Fibonacci(index):\n",
    "    if index == 0  or index ==1:\n",
    "        return 1\n",
    "    return Fibonacci(index-1)+ Fibonacci(index-2)"
   ]
  },
  {
   "cell_type": "code",
   "execution_count": 66,
   "id": "9d240abc",
   "metadata": {},
   "outputs": [
    {
     "name": "stdout",
     "output_type": "stream",
     "text": [
      "8\n"
     ]
    }
   ],
   "source": [
    "print(Fibonacci(5))"
   ]
  },
  {
   "cell_type": "code",
   "execution_count": 71,
   "id": "4949ae64",
   "metadata": {},
   "outputs": [],
   "source": [
    "def ecuaciones (A,B):\n",
    "    if A != 0:\n",
    "        x = -B/A\n",
    "        return 'x = {}'.format(x)\n",
    "    return 'A no puede ser 0'"
   ]
  },
  {
   "cell_type": "code",
   "execution_count": 72,
   "id": "a71f10a8",
   "metadata": {},
   "outputs": [
    {
     "name": "stdout",
     "output_type": "stream",
     "text": [
      "x = -1.0\n"
     ]
    }
   ],
   "source": [
    "print(ecuaciones(1,1))"
   ]
  },
  {
   "cell_type": "code",
   "execution_count": 76,
   "id": "e69c9d9a",
   "metadata": {},
   "outputs": [],
   "source": [
    "def helper_print(operacion,x,y,resultado):\n",
    "    print('El resultado de la {} de los números {} y {} es: {}.'.format(operacion,x,y,resultado))\n",
    "def calculadora(operacion,x,y):\n",
    "    if operacion == 'suma':\n",
    "        resultado = x+y\n",
    "        return helper_print(operacion,x,y,resultado)\n",
    "    elif operacion == 'resta':\n",
    "        resultado = x-y\n",
    "        return helper_print(operacion,x,y,resultado)\n",
    "    elif operacion == 'multiplicacion':\n",
    "        resultado = x*y\n",
    "        return helper_print(operacion,x,y,resultado)\n",
    "    elif operacion == 'division':\n",
    "        resultado = x/y\n",
    "        return helper_print(operacion,x,y,resultado)\n",
    "    else:\n",
    "        return 'Ingreso la modalidad de operacion de forma incorrecta.'"
   ]
  },
  {
   "cell_type": "code",
   "execution_count": 77,
   "id": "b1445607",
   "metadata": {},
   "outputs": [
    {
     "name": "stdout",
     "output_type": "stream",
     "text": [
      "El resultado de la division de los números 8 y 9 es: 0.8888888888888888.\n"
     ]
    }
   ],
   "source": [
    "calculadora('division',8,9)"
   ]
  },
  {
   "cell_type": "markdown",
   "id": "333d1868",
   "metadata": {},
   "source": [
    "### Ejercicios Funciones Lambda "
   ]
  },
  {
   "cell_type": "code",
   "execution_count": 6,
   "id": "b58d8b0e",
   "metadata": {},
   "outputs": [
    {
     "name": "stdout",
     "output_type": "stream",
     "text": [
      "0\n"
     ]
    }
   ],
   "source": [
    "discriminante = lambda a,b,c : b**2 - 4*a*c\n",
    "print(discriminante(1,2,1))"
   ]
  },
  {
   "cell_type": "code",
   "execution_count": 13,
   "id": "262f99ff",
   "metadata": {},
   "outputs": [
    {
     "name": "stdout",
     "output_type": "stream",
     "text": [
      "(4, 8, 16)\n"
     ]
    }
   ],
   "source": [
    "tupla =lambda x:(x,x*2,x**2)\n",
    "print(tupla(4))"
   ]
  },
  {
   "cell_type": "code",
   "execution_count": 16,
   "id": "4fa2d5ad",
   "metadata": {},
   "outputs": [
    {
     "name": "stdout",
     "output_type": "stream",
     "text": [
      "[2, 8, 6, 1, 4, 6, 4, 6, 8, 7]\n"
     ]
    }
   ],
   "source": [
    "lista = [-1,2,8,-7,6,1,-8,-2,4,6,-4,4,6,8,7]\n",
    "positivos = list(filter(lambda x: x>= 0,lista))\n",
    "print(positivos)"
   ]
  },
  {
   "cell_type": "code",
   "execution_count": 20,
   "id": "700ee6ad",
   "metadata": {},
   "outputs": [
    {
     "data": {
      "text/plain": [
       "'hakakala'"
      ]
     },
     "execution_count": 20,
     "metadata": {},
     "output_type": "execute_result"
    }
   ],
   "source": [
    "from functools import reduce\n",
    "def mas_a(palabra1,palabra2):\n",
    "    if palabra1.count('a') > palabra2.count('a'):\n",
    "        return palabra1\n",
    "    return palabra2\n",
    "palabras=['holaas','estas','carro','sabana','cazadora','casa','almhoada','camila','hakakala']\n",
    "reduce(mas_a,palabras)"
   ]
  },
  {
   "cell_type": "code",
   "execution_count": 23,
   "id": "23e3bf65",
   "metadata": {},
   "outputs": [
    {
     "data": {
      "text/plain": [
       "[32.0, 41.0, 50.0, 59.0, 68.0, 77.0, 122.0, 212.0, 392.0]"
      ]
     },
     "execution_count": 23,
     "metadata": {},
     "output_type": "execute_result"
    }
   ],
   "source": [
    "# ejercicio con map()\n",
    "def conversor_temperatura(dato):\n",
    "    return (dato*9/5)+32\n",
    "lista =[0,5,10,15,20,25,50,100,200]\n",
    "list(map(conversor_temperatura,lista))"
   ]
  },
  {
   "cell_type": "code",
   "execution_count": 24,
   "id": "80b648da",
   "metadata": {},
   "outputs": [
    {
     "data": {
      "text/plain": [
       "['aaaaaaaaaaaaaaaaaaaa',\n",
       " 'aaaaaaaaaa',\n",
       " 'aaaaaa',\n",
       " 'aaaaa',\n",
       " 'aaaaa',\n",
       " 'aaa',\n",
       " 'holaa',\n",
       " 'hola']"
      ]
     },
     "execution_count": 24,
     "metadata": {},
     "output_type": "execute_result"
    }
   ],
   "source": [
    "lista = ['holaa','hola','aaa','aaaaa','aaaaaa','aaaaa','aaaaaaaaaaaaaaaaaaaa','aaaaaaaaaa']\n",
    "letra = 'a'\n",
    "sorted(lista,key=lambda x: x.count(letra),reverse=True)"
   ]
  },
  {
   "cell_type": "code",
   "execution_count": 28,
   "id": "c20b44cf",
   "metadata": {
    "scrolled": true
   },
   "outputs": [
    {
     "name": "stdout",
     "output_type": "stream",
     "text": [
      "Ingresa una letra: a\n"
     ]
    },
    {
     "data": {
      "text/plain": [
       "['aaaaaaaaaaaaaaaaaaaa',\n",
       " 'aaaaaaaaaa',\n",
       " 'aaaaaa',\n",
       " 'aaaaa',\n",
       " 'aaaaa',\n",
       " 'aaa',\n",
       " 'holaa',\n",
       " 'hola']"
      ]
     },
     "execution_count": 28,
     "metadata": {},
     "output_type": "execute_result"
    }
   ],
   "source": [
    "# Otra forma del ejercicio anterior\n",
    "def total_letras(palabra,l):\n",
    "    letras = 0\n",
    "    for x in palabra.lower():\n",
    "        if x == l.lower():\n",
    "            letras +=1\n",
    "    return letras\n",
    "l = input('Ingresa una letra: ')\n",
    "lista = ['holaa','hola','aaa','aaaaa','aaaaaa','aaaaa','aaaaaaaaaaaaaaaaaaaa','aaaaaaaaaa']\n",
    "sorted(lista, key = lambda palabra: total_letras(palabra,l),reverse = True)"
   ]
  },
  {
   "cell_type": "markdown",
   "id": "36681f20",
   "metadata": {},
   "source": [
    "## Ejercicio de DataFrames"
   ]
  },
  {
   "cell_type": "code",
   "execution_count": 1,
   "id": "ea96c0f1",
   "metadata": {},
   "outputs": [],
   "source": [
    "\n",
    "def palindromo(Texto):\n",
    "    Texto = Texto.replace(\" \",\"\").lower()\n",
    "    analisis_texto = Texto[::-1]\n",
    "    if Texto == analisis_texto:\n",
    "        return True\n",
    "    return False"
   ]
  },
  {
   "cell_type": "code",
   "execution_count": 2,
   "id": "dc5bad9f",
   "metadata": {
    "scrolled": true
   },
   "outputs": [
    {
     "data": {
      "text/html": [
       "<div>\n",
       "<style scoped>\n",
       "    .dataframe tbody tr th:only-of-type {\n",
       "        vertical-align: middle;\n",
       "    }\n",
       "\n",
       "    .dataframe tbody tr th {\n",
       "        vertical-align: top;\n",
       "    }\n",
       "\n",
       "    .dataframe thead th {\n",
       "        text-align: right;\n",
       "    }\n",
       "</style>\n",
       "<table border=\"1\" class=\"dataframe\">\n",
       "  <thead>\n",
       "    <tr style=\"text-align: right;\">\n",
       "      <th></th>\n",
       "      <th>word</th>\n",
       "      <th>legth</th>\n",
       "      <th>start</th>\n",
       "      <th>end</th>\n",
       "      <th>isPalindrome</th>\n",
       "    </tr>\n",
       "  </thead>\n",
       "  <tbody>\n",
       "    <tr>\n",
       "      <th>0</th>\n",
       "      <td>Hola</td>\n",
       "      <td>4</td>\n",
       "      <td>H</td>\n",
       "      <td>a</td>\n",
       "      <td>False</td>\n",
       "    </tr>\n",
       "    <tr>\n",
       "      <th>1</th>\n",
       "      <td>Zapato</td>\n",
       "      <td>6</td>\n",
       "      <td>Z</td>\n",
       "      <td>o</td>\n",
       "      <td>False</td>\n",
       "    </tr>\n",
       "    <tr>\n",
       "      <th>2</th>\n",
       "      <td>Comida</td>\n",
       "      <td>6</td>\n",
       "      <td>C</td>\n",
       "      <td>a</td>\n",
       "      <td>False</td>\n",
       "    </tr>\n",
       "    <tr>\n",
       "      <th>3</th>\n",
       "      <td>Disco</td>\n",
       "      <td>5</td>\n",
       "      <td>D</td>\n",
       "      <td>o</td>\n",
       "      <td>False</td>\n",
       "    </tr>\n",
       "    <tr>\n",
       "      <th>4</th>\n",
       "      <td>Celular</td>\n",
       "      <td>7</td>\n",
       "      <td>C</td>\n",
       "      <td>r</td>\n",
       "      <td>False</td>\n",
       "    </tr>\n",
       "    <tr>\n",
       "      <th>5</th>\n",
       "      <td>Arroz</td>\n",
       "      <td>5</td>\n",
       "      <td>A</td>\n",
       "      <td>z</td>\n",
       "      <td>False</td>\n",
       "    </tr>\n",
       "    <tr>\n",
       "      <th>6</th>\n",
       "      <td>Basura</td>\n",
       "      <td>6</td>\n",
       "      <td>B</td>\n",
       "      <td>a</td>\n",
       "      <td>False</td>\n",
       "    </tr>\n",
       "    <tr>\n",
       "      <th>7</th>\n",
       "      <td>Carne</td>\n",
       "      <td>5</td>\n",
       "      <td>C</td>\n",
       "      <td>e</td>\n",
       "      <td>False</td>\n",
       "    </tr>\n",
       "    <tr>\n",
       "      <th>8</th>\n",
       "      <td>Diamante</td>\n",
       "      <td>8</td>\n",
       "      <td>D</td>\n",
       "      <td>e</td>\n",
       "      <td>False</td>\n",
       "    </tr>\n",
       "    <tr>\n",
       "      <th>9</th>\n",
       "      <td>Elefante</td>\n",
       "      <td>8</td>\n",
       "      <td>E</td>\n",
       "      <td>e</td>\n",
       "      <td>False</td>\n",
       "    </tr>\n",
       "    <tr>\n",
       "      <th>10</th>\n",
       "      <td>aua</td>\n",
       "      <td>3</td>\n",
       "      <td>a</td>\n",
       "      <td>a</td>\n",
       "      <td>True</td>\n",
       "    </tr>\n",
       "  </tbody>\n",
       "</table>\n",
       "</div>"
      ],
      "text/plain": [
       "        word  legth start end  isPalindrome\n",
       "0       Hola      4     H   a         False\n",
       "1     Zapato      6     Z   o         False\n",
       "2     Comida      6     C   a         False\n",
       "3      Disco      5     D   o         False\n",
       "4    Celular      7     C   r         False\n",
       "5      Arroz      5     A   z         False\n",
       "6     Basura      6     B   a         False\n",
       "7      Carne      5     C   e         False\n",
       "8   Diamante      8     D   e         False\n",
       "9   Elefante      8     E   e         False\n",
       "10       aua      3     a   a          True"
      ]
     },
     "execution_count": 2,
     "metadata": {},
     "output_type": "execute_result"
    }
   ],
   "source": [
    "word = ['Hola','Zapato','Comida','Disco','Celular','Arroz','Basura','Carne','Diamante','Elefante','aua']\n",
    "data = {'word': word,\n",
    "        'legth': map(len,word),\n",
    "        'start': map(lambda x: x[0],word),\n",
    "        'end': map(lambda x: x[len(x)-1],word),\n",
    "        'isPalindrome': map(palindromo,word)}\n",
    "import pandas as pd\n",
    "df = pd.DataFrame(data=data)\n",
    "df"
   ]
  },
  {
   "cell_type": "code",
   "execution_count": 3,
   "id": "d0e089e5",
   "metadata": {},
   "outputs": [
    {
     "data": {
      "text/html": [
       "<div>\n",
       "<style scoped>\n",
       "    .dataframe tbody tr th:only-of-type {\n",
       "        vertical-align: middle;\n",
       "    }\n",
       "\n",
       "    .dataframe tbody tr th {\n",
       "        vertical-align: top;\n",
       "    }\n",
       "\n",
       "    .dataframe thead th {\n",
       "        text-align: right;\n",
       "    }\n",
       "</style>\n",
       "<table border=\"1\" class=\"dataframe\">\n",
       "  <thead>\n",
       "    <tr style=\"text-align: right;\">\n",
       "      <th></th>\n",
       "      <th>legth</th>\n",
       "      <th>start</th>\n",
       "      <th>end</th>\n",
       "      <th>isPalindrome</th>\n",
       "    </tr>\n",
       "  </thead>\n",
       "  <tbody>\n",
       "    <tr>\n",
       "      <th>Hola</th>\n",
       "      <td>4</td>\n",
       "      <td>H</td>\n",
       "      <td>a</td>\n",
       "      <td>False</td>\n",
       "    </tr>\n",
       "    <tr>\n",
       "      <th>Zapato</th>\n",
       "      <td>6</td>\n",
       "      <td>Z</td>\n",
       "      <td>o</td>\n",
       "      <td>False</td>\n",
       "    </tr>\n",
       "    <tr>\n",
       "      <th>Comida</th>\n",
       "      <td>6</td>\n",
       "      <td>C</td>\n",
       "      <td>a</td>\n",
       "      <td>False</td>\n",
       "    </tr>\n",
       "    <tr>\n",
       "      <th>Disco</th>\n",
       "      <td>5</td>\n",
       "      <td>D</td>\n",
       "      <td>o</td>\n",
       "      <td>False</td>\n",
       "    </tr>\n",
       "    <tr>\n",
       "      <th>Celular</th>\n",
       "      <td>7</td>\n",
       "      <td>C</td>\n",
       "      <td>r</td>\n",
       "      <td>False</td>\n",
       "    </tr>\n",
       "    <tr>\n",
       "      <th>Arroz</th>\n",
       "      <td>5</td>\n",
       "      <td>A</td>\n",
       "      <td>z</td>\n",
       "      <td>False</td>\n",
       "    </tr>\n",
       "    <tr>\n",
       "      <th>Basura</th>\n",
       "      <td>6</td>\n",
       "      <td>B</td>\n",
       "      <td>a</td>\n",
       "      <td>False</td>\n",
       "    </tr>\n",
       "    <tr>\n",
       "      <th>Carne</th>\n",
       "      <td>5</td>\n",
       "      <td>C</td>\n",
       "      <td>e</td>\n",
       "      <td>False</td>\n",
       "    </tr>\n",
       "    <tr>\n",
       "      <th>Diamante</th>\n",
       "      <td>8</td>\n",
       "      <td>D</td>\n",
       "      <td>e</td>\n",
       "      <td>False</td>\n",
       "    </tr>\n",
       "    <tr>\n",
       "      <th>Elefante</th>\n",
       "      <td>8</td>\n",
       "      <td>E</td>\n",
       "      <td>e</td>\n",
       "      <td>False</td>\n",
       "    </tr>\n",
       "    <tr>\n",
       "      <th>aua</th>\n",
       "      <td>3</td>\n",
       "      <td>a</td>\n",
       "      <td>a</td>\n",
       "      <td>True</td>\n",
       "    </tr>\n",
       "  </tbody>\n",
       "</table>\n",
       "</div>"
      ],
      "text/plain": [
       "          legth start end  isPalindrome\n",
       "Hola          4     H   a         False\n",
       "Zapato        6     Z   o         False\n",
       "Comida        6     C   a         False\n",
       "Disco         5     D   o         False\n",
       "Celular       7     C   r         False\n",
       "Arroz         5     A   z         False\n",
       "Basura        6     B   a         False\n",
       "Carne         5     C   e         False\n",
       "Diamante      8     D   e         False\n",
       "Elefante      8     E   e         False\n",
       "aua           3     a   a          True"
      ]
     },
     "execution_count": 3,
     "metadata": {},
     "output_type": "execute_result"
    }
   ],
   "source": [
    "word = df.set_index('word') # Indico que la columna 'word' sea la columna de indices\n",
    "word.index.names = [None]  # Quite el nick 'word' de la columna de indices, tambien donde esta None podria ponerle otro nombre a la columna de indices\n",
    "word"
   ]
  },
  {
   "cell_type": "code",
   "execution_count": 4,
   "id": "51b5fe61",
   "metadata": {},
   "outputs": [
    {
     "data": {
      "text/plain": [
       "(11, 4)"
      ]
     },
     "execution_count": 4,
     "metadata": {},
     "output_type": "execute_result"
    }
   ],
   "source": [
    "# Calcular dimensiones\n",
    "word.shape # (11,4) 11 filas, 4 columnas"
   ]
  },
  {
   "cell_type": "code",
   "execution_count": 5,
   "id": "6366052e",
   "metadata": {},
   "outputs": [
    {
     "name": "stdout",
     "output_type": "stream",
     "text": [
      "=== LEGTH ===\n",
      "Hola        4\n",
      "Zapato      6\n",
      "Comida      6\n",
      "Disco       5\n",
      "Celular     7\n",
      "Arroz       5\n",
      "Basura      6\n",
      "Carne       5\n",
      "Diamante    8\n",
      "Elefante    8\n",
      "aua         3\n",
      "Name: legth, dtype: int64 \n",
      "\n",
      "\n",
      "=== START ===\n",
      "Hola        H\n",
      "Zapato      Z\n",
      "Comida      C\n",
      "Disco       D\n",
      "Celular     C\n",
      "Arroz       A\n",
      "Basura      B\n",
      "Carne       C\n",
      "Diamante    D\n",
      "Elefante    E\n",
      "aua         a\n",
      "Name: start, dtype: object \n",
      "\n",
      "\n",
      "=== END ===\n",
      "Hola        a\n",
      "Zapato      o\n",
      "Comida      a\n",
      "Disco       o\n",
      "Celular     r\n",
      "Arroz       z\n",
      "Basura      a\n",
      "Carne       e\n",
      "Diamante    e\n",
      "Elefante    e\n",
      "aua         a\n",
      "Name: end, dtype: object \n",
      "\n",
      "\n",
      "=== ISPALINDROME ===\n",
      "Hola        False\n",
      "Zapato      False\n",
      "Comida      False\n",
      "Disco       False\n",
      "Celular     False\n",
      "Arroz       False\n",
      "Basura      False\n",
      "Carne       False\n",
      "Diamante    False\n",
      "Elefante    False\n",
      "aua          True\n",
      "Name: isPalindrome, dtype: bool \n",
      "\n",
      "\n"
     ]
    }
   ],
   "source": [
    "for x in list(word):\n",
    "    print('=== {} ==='.format(x.upper()))\n",
    "    print(word.loc[:,x],'\\n\\n')\n",
    "    #print(x)"
   ]
  },
  {
   "cell_type": "code",
   "execution_count": 6,
   "id": "93af986d",
   "metadata": {
    "scrolled": true
   },
   "outputs": [
    {
     "data": {
      "text/html": [
       "<div>\n",
       "<style scoped>\n",
       "    .dataframe tbody tr th:only-of-type {\n",
       "        vertical-align: middle;\n",
       "    }\n",
       "\n",
       "    .dataframe tbody tr th {\n",
       "        vertical-align: top;\n",
       "    }\n",
       "\n",
       "    .dataframe thead th {\n",
       "        text-align: right;\n",
       "    }\n",
       "</style>\n",
       "<table border=\"1\" class=\"dataframe\">\n",
       "  <thead>\n",
       "    <tr style=\"text-align: right;\">\n",
       "      <th></th>\n",
       "      <th>start</th>\n",
       "      <th>end</th>\n",
       "      <th>isPalindrome</th>\n",
       "    </tr>\n",
       "  </thead>\n",
       "  <tbody>\n",
       "    <tr>\n",
       "      <th>Hola</th>\n",
       "      <td>H</td>\n",
       "      <td>a</td>\n",
       "      <td>False</td>\n",
       "    </tr>\n",
       "    <tr>\n",
       "      <th>Zapato</th>\n",
       "      <td>Z</td>\n",
       "      <td>o</td>\n",
       "      <td>False</td>\n",
       "    </tr>\n",
       "    <tr>\n",
       "      <th>Comida</th>\n",
       "      <td>C</td>\n",
       "      <td>a</td>\n",
       "      <td>False</td>\n",
       "    </tr>\n",
       "    <tr>\n",
       "      <th>Disco</th>\n",
       "      <td>D</td>\n",
       "      <td>o</td>\n",
       "      <td>False</td>\n",
       "    </tr>\n",
       "    <tr>\n",
       "      <th>Celular</th>\n",
       "      <td>C</td>\n",
       "      <td>r</td>\n",
       "      <td>False</td>\n",
       "    </tr>\n",
       "    <tr>\n",
       "      <th>Arroz</th>\n",
       "      <td>A</td>\n",
       "      <td>z</td>\n",
       "      <td>False</td>\n",
       "    </tr>\n",
       "    <tr>\n",
       "      <th>Basura</th>\n",
       "      <td>B</td>\n",
       "      <td>a</td>\n",
       "      <td>False</td>\n",
       "    </tr>\n",
       "    <tr>\n",
       "      <th>Carne</th>\n",
       "      <td>C</td>\n",
       "      <td>e</td>\n",
       "      <td>False</td>\n",
       "    </tr>\n",
       "    <tr>\n",
       "      <th>Diamante</th>\n",
       "      <td>D</td>\n",
       "      <td>e</td>\n",
       "      <td>False</td>\n",
       "    </tr>\n",
       "    <tr>\n",
       "      <th>Elefante</th>\n",
       "      <td>E</td>\n",
       "      <td>e</td>\n",
       "      <td>False</td>\n",
       "    </tr>\n",
       "    <tr>\n",
       "      <th>aua</th>\n",
       "      <td>a</td>\n",
       "      <td>a</td>\n",
       "      <td>True</td>\n",
       "    </tr>\n",
       "  </tbody>\n",
       "</table>\n",
       "</div>"
      ],
      "text/plain": [
       "         start end  isPalindrome\n",
       "Hola         H   a         False\n",
       "Zapato       Z   o         False\n",
       "Comida       C   a         False\n",
       "Disco        D   o         False\n",
       "Celular      C   r         False\n",
       "Arroz        A   z         False\n",
       "Basura       B   a         False\n",
       "Carne        C   e         False\n",
       "Diamante     D   e         False\n",
       "Elefante     E   e         False\n",
       "aua          a   a          True"
      ]
     },
     "execution_count": 6,
     "metadata": {},
     "output_type": "execute_result"
    }
   ],
   "source": [
    "word2 = pd.DataFrame(word.iloc[:,[-3,-2,-1]])\n",
    "word2"
   ]
  },
  {
   "cell_type": "code",
   "execution_count": 8,
   "id": "b77f4ecc",
   "metadata": {
    "scrolled": true
   },
   "outputs": [
    {
     "data": {
      "text/html": [
       "<div>\n",
       "<style scoped>\n",
       "    .dataframe tbody tr th:only-of-type {\n",
       "        vertical-align: middle;\n",
       "    }\n",
       "\n",
       "    .dataframe tbody tr th {\n",
       "        vertical-align: top;\n",
       "    }\n",
       "\n",
       "    .dataframe thead th {\n",
       "        text-align: right;\n",
       "    }\n",
       "</style>\n",
       "<table border=\"1\" class=\"dataframe\">\n",
       "  <thead>\n",
       "    <tr style=\"text-align: right;\">\n",
       "      <th></th>\n",
       "      <th>legth</th>\n",
       "      <th>start</th>\n",
       "      <th>end</th>\n",
       "      <th>isPalindrome</th>\n",
       "    </tr>\n",
       "  </thead>\n",
       "  <tbody>\n",
       "    <tr>\n",
       "      <th>Hola</th>\n",
       "      <td>4</td>\n",
       "      <td>H</td>\n",
       "      <td>a</td>\n",
       "      <td>False</td>\n",
       "    </tr>\n",
       "    <tr>\n",
       "      <th>Zapato</th>\n",
       "      <td>6</td>\n",
       "      <td>Z</td>\n",
       "      <td>o</td>\n",
       "      <td>False</td>\n",
       "    </tr>\n",
       "    <tr>\n",
       "      <th>Comida</th>\n",
       "      <td>6</td>\n",
       "      <td>C</td>\n",
       "      <td>a</td>\n",
       "      <td>False</td>\n",
       "    </tr>\n",
       "    <tr>\n",
       "      <th>Disco</th>\n",
       "      <td>5</td>\n",
       "      <td>D</td>\n",
       "      <td>o</td>\n",
       "      <td>False</td>\n",
       "    </tr>\n",
       "    <tr>\n",
       "      <th>Celular</th>\n",
       "      <td>7</td>\n",
       "      <td>C</td>\n",
       "      <td>r</td>\n",
       "      <td>False</td>\n",
       "    </tr>\n",
       "    <tr>\n",
       "      <th>Arroz</th>\n",
       "      <td>5</td>\n",
       "      <td>A</td>\n",
       "      <td>z</td>\n",
       "      <td>False</td>\n",
       "    </tr>\n",
       "    <tr>\n",
       "      <th>Basura</th>\n",
       "      <td>6</td>\n",
       "      <td>B</td>\n",
       "      <td>a</td>\n",
       "      <td>False</td>\n",
       "    </tr>\n",
       "    <tr>\n",
       "      <th>Carne</th>\n",
       "      <td>5</td>\n",
       "      <td>C</td>\n",
       "      <td>e</td>\n",
       "      <td>False</td>\n",
       "    </tr>\n",
       "    <tr>\n",
       "      <th>Diamante</th>\n",
       "      <td>8</td>\n",
       "      <td>D</td>\n",
       "      <td>e</td>\n",
       "      <td>False</td>\n",
       "    </tr>\n",
       "    <tr>\n",
       "      <th>Elefante</th>\n",
       "      <td>8</td>\n",
       "      <td>E</td>\n",
       "      <td>e</td>\n",
       "      <td>False</td>\n",
       "    </tr>\n",
       "    <tr>\n",
       "      <th>aua</th>\n",
       "      <td>3</td>\n",
       "      <td>a</td>\n",
       "      <td>a</td>\n",
       "      <td>True</td>\n",
       "    </tr>\n",
       "  </tbody>\n",
       "</table>\n",
       "</div>"
      ],
      "text/plain": [
       "          legth start end  isPalindrome\n",
       "Hola          4     H   a         False\n",
       "Zapato        6     Z   o         False\n",
       "Comida        6     C   a         False\n",
       "Disco         5     D   o         False\n",
       "Celular       7     C   r         False\n",
       "Arroz         5     A   z         False\n",
       "Basura        6     B   a         False\n",
       "Carne         5     C   e         False\n",
       "Diamante      8     D   e         False\n",
       "Elefante      8     E   e         False\n",
       "aua           3     a   a          True"
      ]
     },
     "execution_count": 8,
     "metadata": {},
     "output_type": "execute_result"
    }
   ],
   "source": [
    "word"
   ]
  },
  {
   "cell_type": "code",
   "execution_count": 17,
   "id": "cfa6f0b2",
   "metadata": {},
   "outputs": [
    {
     "name": "stdout",
     "output_type": "stream",
     "text": [
      "La palabra Hola, no es un palindromo de 4 letras.\n",
      "La palabra Zapato, no es un palindromo de 6 letras.\n",
      "La palabra Comida, no es un palindromo de 6 letras.\n",
      "La palabra Disco, no es un palindromo de 5 letras.\n",
      "La palabra Celular, no es un palindromo de 7 letras.\n",
      "La palabra Arroz, no es un palindromo de 5 letras.\n",
      "La palabra Basura, no es un palindromo de 6 letras.\n",
      "La palabra Carne, no es un palindromo de 5 letras.\n",
      "La palabra Diamante, no es un palindromo de 8 letras.\n",
      "La palabra Elefante, no es un palindromo de 8 letras.\n",
      "La palabra aua,  es un palindromo de 3 letras.\n"
     ]
    }
   ],
   "source": [
    "for i in word.itertuples():\n",
    "    print('La palabra {}, {} es un palindromo de {} letras.'.format(i[0],'' if i[4] else 'no',i[1]))\n",
    "    "
   ]
  },
  {
   "cell_type": "code",
   "execution_count": 22,
   "id": "0e252948",
   "metadata": {},
   "outputs": [
    {
     "data": {
      "text/html": [
       "<div>\n",
       "<style scoped>\n",
       "    .dataframe tbody tr th:only-of-type {\n",
       "        vertical-align: middle;\n",
       "    }\n",
       "\n",
       "    .dataframe tbody tr th {\n",
       "        vertical-align: top;\n",
       "    }\n",
       "\n",
       "    .dataframe thead th {\n",
       "        text-align: right;\n",
       "    }\n",
       "</style>\n",
       "<table border=\"1\" class=\"dataframe\">\n",
       "  <thead>\n",
       "    <tr style=\"text-align: right;\">\n",
       "      <th></th>\n",
       "      <th>SetID</th>\n",
       "      <th>Number</th>\n",
       "      <th>Variant</th>\n",
       "      <th>Theme</th>\n",
       "      <th>Subtheme</th>\n",
       "      <th>Year</th>\n",
       "      <th>Name</th>\n",
       "      <th>Minifigs</th>\n",
       "      <th>Pieces</th>\n",
       "      <th>UKPrice</th>\n",
       "      <th>USPrice</th>\n",
       "      <th>CAPrice</th>\n",
       "      <th>EUPrice</th>\n",
       "      <th>ImageURL</th>\n",
       "      <th>Owned</th>\n",
       "      <th>Wanted</th>\n",
       "      <th>QtyOwned</th>\n",
       "    </tr>\n",
       "  </thead>\n",
       "  <tbody>\n",
       "    <tr>\n",
       "      <th>0</th>\n",
       "      <td>5860</td>\n",
       "      <td>10179</td>\n",
       "      <td>1</td>\n",
       "      <td>Star Wars</td>\n",
       "      <td>Ultimate Collector Series</td>\n",
       "      <td>2007</td>\n",
       "      <td>Ultimate Collector's Millennium Falcon</td>\n",
       "      <td>5.0</td>\n",
       "      <td>5197.0</td>\n",
       "      <td>342.49</td>\n",
       "      <td>499.99</td>\n",
       "      <td>NaN</td>\n",
       "      <td>NaN</td>\n",
       "      <td>http://images.brickset.com/sets/images/10179-1...</td>\n",
       "      <td>No</td>\n",
       "      <td>No</td>\n",
       "      <td>0</td>\n",
       "    </tr>\n",
       "    <tr>\n",
       "      <th>1</th>\n",
       "      <td>6522</td>\n",
       "      <td>10188</td>\n",
       "      <td>1</td>\n",
       "      <td>Star Wars</td>\n",
       "      <td>Ultimate Collector Series</td>\n",
       "      <td>2008</td>\n",
       "      <td>Death Star</td>\n",
       "      <td>24.0</td>\n",
       "      <td>3803.0</td>\n",
       "      <td>274.99</td>\n",
       "      <td>399.99</td>\n",
       "      <td>499.99</td>\n",
       "      <td>419.99</td>\n",
       "      <td>http://images.brickset.com/sets/images/10188-1...</td>\n",
       "      <td>No</td>\n",
       "      <td>No</td>\n",
       "      <td>0</td>\n",
       "    </tr>\n",
       "    <tr>\n",
       "      <th>2</th>\n",
       "      <td>4799</td>\n",
       "      <td>10143</td>\n",
       "      <td>1</td>\n",
       "      <td>Star Wars</td>\n",
       "      <td>Ultimate Collector Series</td>\n",
       "      <td>2005</td>\n",
       "      <td>Death Star II</td>\n",
       "      <td>NaN</td>\n",
       "      <td>3441.0</td>\n",
       "      <td>249.99</td>\n",
       "      <td>269.99</td>\n",
       "      <td>NaN</td>\n",
       "      <td>NaN</td>\n",
       "      <td>http://images.brickset.com/sets/images/10143-1...</td>\n",
       "      <td>No</td>\n",
       "      <td>No</td>\n",
       "      <td>0</td>\n",
       "    </tr>\n",
       "    <tr>\n",
       "      <th>3</th>\n",
       "      <td>23529</td>\n",
       "      <td>75059</td>\n",
       "      <td>1</td>\n",
       "      <td>Star Wars</td>\n",
       "      <td>Ultimate Collector Series</td>\n",
       "      <td>2014</td>\n",
       "      <td>Sandcrawler</td>\n",
       "      <td>14.0</td>\n",
       "      <td>3296.0</td>\n",
       "      <td>249.99</td>\n",
       "      <td>299.99</td>\n",
       "      <td>349.99</td>\n",
       "      <td>299.99</td>\n",
       "      <td>http://images.brickset.com/sets/images/75059-1...</td>\n",
       "      <td>No</td>\n",
       "      <td>No</td>\n",
       "      <td>0</td>\n",
       "    </tr>\n",
       "    <tr>\n",
       "      <th>4</th>\n",
       "      <td>8733</td>\n",
       "      <td>10221</td>\n",
       "      <td>1</td>\n",
       "      <td>Star Wars</td>\n",
       "      <td>Ultimate Collector Series</td>\n",
       "      <td>2011</td>\n",
       "      <td>Super Star Destroyer</td>\n",
       "      <td>5.0</td>\n",
       "      <td>3152.0</td>\n",
       "      <td>349.99</td>\n",
       "      <td>399.99</td>\n",
       "      <td>499.99</td>\n",
       "      <td>399.99</td>\n",
       "      <td>http://images.brickset.com/sets/images/10221-1...</td>\n",
       "      <td>No</td>\n",
       "      <td>No</td>\n",
       "      <td>0</td>\n",
       "    </tr>\n",
       "  </tbody>\n",
       "</table>\n",
       "</div>"
      ],
      "text/plain": [
       "   SetID Number  Variant      Theme                   Subtheme  Year  \\\n",
       "0   5860  10179        1  Star Wars  Ultimate Collector Series  2007   \n",
       "1   6522  10188        1  Star Wars  Ultimate Collector Series  2008   \n",
       "2   4799  10143        1  Star Wars  Ultimate Collector Series  2005   \n",
       "3  23529  75059        1  Star Wars  Ultimate Collector Series  2014   \n",
       "4   8733  10221        1  Star Wars  Ultimate Collector Series  2011   \n",
       "\n",
       "                                     Name  Minifigs  Pieces  UKPrice  USPrice  \\\n",
       "0  Ultimate Collector's Millennium Falcon       5.0  5197.0   342.49   499.99   \n",
       "1                              Death Star      24.0  3803.0   274.99   399.99   \n",
       "2                           Death Star II       NaN  3441.0   249.99   269.99   \n",
       "3                             Sandcrawler      14.0  3296.0   249.99   299.99   \n",
       "4                   Super Star Destroyer        5.0  3152.0   349.99   399.99   \n",
       "\n",
       "   CAPrice  EUPrice                                           ImageURL Owned  \\\n",
       "0      NaN      NaN  http://images.brickset.com/sets/images/10179-1...    No   \n",
       "1   499.99   419.99  http://images.brickset.com/sets/images/10188-1...    No   \n",
       "2      NaN      NaN  http://images.brickset.com/sets/images/10143-1...    No   \n",
       "3   349.99   299.99  http://images.brickset.com/sets/images/75059-1...    No   \n",
       "4   499.99   399.99  http://images.brickset.com/sets/images/10221-1...    No   \n",
       "\n",
       "  Wanted  QtyOwned  \n",
       "0     No         0  \n",
       "1     No         0  \n",
       "2     No         0  \n",
       "3     No         0  \n",
       "4     No         0  "
      ]
     },
     "execution_count": 22,
     "metadata": {},
     "output_type": "execute_result"
    }
   ],
   "source": [
    "# EJERCICIO vamos a cargar una url y a continuacion vamos a eliminar todos los valores NA.\n",
    "import pandas as pd\n",
    "sw = pd.read_csv(\"https://gist.githubusercontent.com/jncraton/68beb88e6027d9321373/raw/381dcf8c0d4534d420d2488b9c60b1204c9f4363/starwars.csv\")\n",
    "sw.head()"
   ]
  },
  {
   "cell_type": "code",
   "execution_count": 24,
   "id": "d7697034",
   "metadata": {},
   "outputs": [
    {
     "data": {
      "text/plain": [
       "(508, 17)"
      ]
     },
     "execution_count": 24,
     "metadata": {},
     "output_type": "execute_result"
    }
   ],
   "source": [
    "sw.shape"
   ]
  },
  {
   "cell_type": "code",
   "execution_count": 28,
   "id": "397d4307",
   "metadata": {},
   "outputs": [
    {
     "data": {
      "text/plain": [
       "(155, 17)"
      ]
     },
     "execution_count": 28,
     "metadata": {},
     "output_type": "execute_result"
    }
   ],
   "source": [
    "sw = sw.dropna() # METODO PARA ELIMINAR TODAS LAS OBSERVACIONES CON VALORES 'NaN'\n",
    "sw.shape  # NO ES RECOMENDABLE ELIMINAR ESOS DATOS"
   ]
  },
  {
   "cell_type": "code",
   "execution_count": 11,
   "id": "d4ed471d",
   "metadata": {},
   "outputs": [
    {
     "name": "stdout",
     "output_type": "stream",
     "text": [
      "La palabra Hola empieza por H\n",
      "La palabra Zapato empieza por Z\n",
      "La palabra Comida empieza por C\n",
      "La palabra Disco empieza por D\n",
      "La palabra Celular empieza por C\n",
      "La palabra Arroz empieza por A\n",
      "La palabra Basura empieza por B\n",
      "La palabra Carne empieza por C\n",
      "La palabra Diamante empieza por D\n",
      "La palabra Elefante empieza por E\n",
      "La palabra aua empieza por a\n"
     ]
    }
   ],
   "source": [
    "# EJERCICIO\n",
    "start_df = word['start'].to_frame()  # Convertir una Serie en un Dataframe\n",
    "for row in start_df.itertuples():\n",
    "    print('La palabra {} empieza por {}'.format(row[0],row[1]))\n",
    "    \n"
   ]
  },
  {
   "cell_type": "code",
   "execution_count": null,
   "id": "b69f7d53",
   "metadata": {},
   "outputs": [],
   "source": [
    "length_list = word['legth'].tolist()\n",
    "print(length_list)\n",
    "length_list.remove(3)\n",
    "print(length_list)"
   ]
  },
  {
   "cell_type": "markdown",
   "id": "0ed86c06",
   "metadata": {},
   "source": [
    "## Ejercitacion de POO"
   ]
  },
  {
   "cell_type": "code",
   "execution_count": 3,
   "id": "cff056c5",
   "metadata": {},
   "outputs": [],
   "source": [
    "class RotionalNumber():\n",
    "    def __init__(self,numerator, denominator = 1):\n",
    "        if  type(numerator) == int  and type(denominator) is int: \n",
    "            self.numerator = numerator\n",
    "            self. denominator = denominator\n",
    "        else:\n",
    "            print('El numerador y el denominador deben ser numeros enteros')"
   ]
  },
  {
   "cell_type": "code",
   "execution_count": 10,
   "id": "600f4863",
   "metadata": {},
   "outputs": [],
   "source": [
    "class RotionalNumber():\n",
    "    def __init__(self,numerator, denominator = 1):\n",
    "        if  type(numerator) == int  and type(denominator) is int: \n",
    "            self.numerator = numerator\n",
    "            self. denominator = denominator\n",
    "        else:\n",
    "            print('El numerador y el denominador deben ser numeros enteros')\n",
    "    def __str__(self):\n",
    "        return '{}/{}'.format(self.numerator,self.denominator)"
   ]
  },
  {
   "cell_type": "code",
   "execution_count": 11,
   "id": "66116959",
   "metadata": {},
   "outputs": [
    {
     "name": "stdout",
     "output_type": "stream",
     "text": [
      "8/4\n"
     ]
    }
   ],
   "source": [
    "valor = RotionalNumber(8,4)\n",
    "print(valor)"
   ]
  },
  {
   "cell_type": "code",
   "execution_count": 12,
   "id": "6e3159ee",
   "metadata": {},
   "outputs": [],
   "source": [
    "# Usar LaTex en string Python\n",
    "class RotionalNumber():\n",
    "    def __init__(self,numerator, denominator = 1):\n",
    "        if  type(numerator) == int  and type(denominator) is int: \n",
    "            self.numerator = numerator\n",
    "            self. denominator = denominator\n",
    "        else:\n",
    "            print('El numerador y el denominador deben ser numeros enteros')\n",
    "    def __str__(self):\n",
    "        return '{}/{}'.format(self.numerator,self.denominator)\n",
    "    def mathFormat(self):\n",
    "        from IPython.display import display, Latex\n",
    "        display(Latex(f'${self.numerator}\\\\over{self.denominator}$'))"
   ]
  },
  {
   "cell_type": "code",
   "execution_count": 13,
   "id": "37cc3fc1",
   "metadata": {},
   "outputs": [],
   "source": [
    "q = RotionalNumber(2,4)"
   ]
  },
  {
   "cell_type": "code",
   "execution_count": 14,
   "id": "1e79c933",
   "metadata": {},
   "outputs": [
    {
     "data": {
      "text/latex": [
       "$2\\over4$"
      ],
      "text/plain": [
       "<IPython.core.display.Latex object>"
      ]
     },
     "metadata": {},
     "output_type": "display_data"
    }
   ],
   "source": [
    "q.mathFormat()"
   ]
  },
  {
   "cell_type": "code",
   "execution_count": 22,
   "id": "9ef9f5e8",
   "metadata": {},
   "outputs": [],
   "source": [
    "class RotionalNumber():\n",
    "    def __init__(self,numerator, denominator = 1):\n",
    "        if  type(numerator) == int  and type(denominator) is int: \n",
    "            self.numerator = numerator\n",
    "            self. denominator = denominator\n",
    "        else:\n",
    "            print('El numerador y el denominador deben ser numeros enteros')\n",
    "    def __str__(self):\n",
    "        return '{}/{}'.format(self.numerator,self.denominator)\n",
    "    def mathFormat(self):\n",
    "        from IPython.display import display, Latex\n",
    "        display(Latex(f'${self.numerator}\\\\over{self.denominator}$'))\n",
    "    \n",
    "    def quotient(self):\n",
    "        return ('El cociente entre numerador y denominador es {}'.format(self.numerator/self.denominator))\n",
    "    \n",
    "    def isInfinite(self):\n",
    "        if self.denominator == 0:\n",
    "            return True\n",
    "        return False\n"
   ]
  },
  {
   "cell_type": "code",
   "execution_count": 24,
   "id": "97be57d0",
   "metadata": {},
   "outputs": [
    {
     "data": {
      "text/latex": [
       "$2\\over4$"
      ],
      "text/plain": [
       "<IPython.core.display.Latex object>"
      ]
     },
     "metadata": {},
     "output_type": "display_data"
    }
   ],
   "source": [
    "q = RotionalNumber(2,4)\n",
    "q.mathFormat()"
   ]
  },
  {
   "cell_type": "code",
   "execution_count": 26,
   "id": "66369496",
   "metadata": {},
   "outputs": [
    {
     "data": {
      "text/plain": [
       "'El cociente entre numerador y denominador es 0.5'"
      ]
     },
     "execution_count": 26,
     "metadata": {},
     "output_type": "execute_result"
    }
   ],
   "source": [
    "q.quotient()"
   ]
  },
  {
   "cell_type": "code",
   "execution_count": 27,
   "id": "ac99ef16",
   "metadata": {},
   "outputs": [
    {
     "data": {
      "text/plain": [
       "False"
      ]
     },
     "execution_count": 27,
     "metadata": {},
     "output_type": "execute_result"
    }
   ],
   "source": [
    "q.isInfinite()"
   ]
  },
  {
   "cell_type": "code",
   "execution_count": 1,
   "id": "8f141c83",
   "metadata": {},
   "outputs": [],
   "source": [
    "# METODOS ESTATICOS\n",
    "class RotionalNumber():\n",
    "    def __init__(self,numerator, denominator = 1):\n",
    "        if  type(numerator) == int  and type(denominator) is int: \n",
    "            self.numerator = numerator\n",
    "            self. denominator = denominator\n",
    "        else:\n",
    "            print('El numerador y el denominador deben ser numeros enteros')\n",
    "    def __str__(self):\n",
    "        return '{}/{}'.format(self.numerator,self.denominator)\n",
    "    def mathFormat(self):\n",
    "        from IPython.display import display, Latex\n",
    "        display(Latex(f'${self.numerator}\\\\over{self.denominator}$'))\n",
    "    \n",
    "    def quotient(self):\n",
    "        return ('El cociente entre numerador y denominador es {}'.format(self.numerator/self.denominator))\n",
    "    \n",
    "    def isInfinite(self):\n",
    "        if self.denominator == 0:\n",
    "            return True\n",
    "        return False\n",
    "    @staticmethod\n",
    "    def sum(rac1,rac2):\n",
    "        return (rac1.numerator/rac1.denominator)+(rac2.numerator/rac2.denominator)\n",
    "    @staticmethod\n",
    "    def subract(rac1,rac2):\n",
    "        return (rac1.numerator/rac1.denominator)-(rac2.numerator/rac2.denominator)\n",
    "    @staticmethod\n",
    "    def product(rac1,rac2):\n",
    "        return (rac1.numerator/rac1.denominator)*(rac2.numerator/rac2.denominator)\n",
    "    @staticmethod\n",
    "    def division(rac1,rac2):\n",
    "        return (rac1.numerator/rac1.denominator)/(rac2.numerator/rac2.denominator)\n"
   ]
  },
  {
   "cell_type": "code",
   "execution_count": 5,
   "id": "61cb3163",
   "metadata": {},
   "outputs": [
    {
     "name": "stdout",
     "output_type": "stream",
     "text": [
      "Suma:  1.1666666666666665\n",
      "Resta:  -0.16666666666666663\n",
      "Producto:  0.3333333333333333\n",
      "Division:  0.75\n"
     ]
    }
   ],
   "source": [
    "rac1 = RotionalNumber(1,2)\n",
    "rac2 = RotionalNumber(2,3)\n",
    "print('Suma: ',RotionalNumber.sum(rac1,rac2))\n",
    "print('Resta: ',RotionalNumber.subract(rac1,rac2))\n",
    "print('Producto: ',RotionalNumber.product(rac1,rac2))\n",
    "print('Division: ',RotionalNumber.division(rac1,rac2))"
   ]
  },
  {
   "cell_type": "code",
   "execution_count": 6,
   "id": "8cd306e2",
   "metadata": {},
   "outputs": [],
   "source": [
    "# METODO DE CLASE  --> ejercicio video 13 de POO - Gomila\n",
    "import random\n",
    "class RotionalNumber():\n",
    "    def __init__(self,numerator, denominator = 1):\n",
    "        if  type(numerator) == int  and type(denominator) is int: \n",
    "            self.numerator = numerator\n",
    "            self. denominator = denominator\n",
    "        else:\n",
    "            print('El numerador y el denominador deben ser numeros enteros')\n",
    "    def __str__(self):\n",
    "        return '{}/{}'.format(self.numerator,self.denominator)\n",
    "    def mathFormat(self):\n",
    "        from IPython.display import display, Latex\n",
    "        display(Latex(f'${self.numerator}\\\\over{self.denominator}$'))\n",
    "    \n",
    "    def quotient(self):\n",
    "        return ('El cociente entre numerador y denominador es {}'.format(self.numerator/self.denominator))\n",
    "    \n",
    "    def isInfinite(self):\n",
    "        if self.denominator == 0:\n",
    "            return True\n",
    "        return False\n",
    "    @staticmethod\n",
    "    def sum(rac1,rac2):\n",
    "        return (rac1.numerator/rac1.denominator)+(rac2.numerator/rac2.denominator)\n",
    "    @staticmethod\n",
    "    def subract(rac1,rac2):\n",
    "        return (rac1.numerator/rac1.denominator)-(rac2.numerator/rac2.denominator)\n",
    "    @staticmethod\n",
    "    def product(rac1,rac2):\n",
    "        return (rac1.numerator/rac1.denominator)*(rac2.numerator/rac2.denominator)\n",
    "    @staticmethod\n",
    "    def division(rac1,rac2):\n",
    "        return (rac1.numerator/rac1.denominator)/(rac2.numerator/rac2.denominator)\n",
    "    \n",
    "    @classmethod\n",
    "    def random(cls):\n",
    "        numerator = random.randrange(-100,100)\n",
    "        denominator = random.randrange(-100,100)\n",
    "        while denominator == 0:\n",
    "            denominator = random.randrange(-100,100)\n",
    "        return cls(numerator,denominator)\n",
    "    \n",
    "    @classmethod\n",
    "    def zero(cls):\n",
    "        numerator = 0\n",
    "        denominator = 1\n",
    "        return cls(numerator,denominator)\n",
    "    \n",
    "    @classmethod\n",
    "    def one(cls):\n",
    "        numerator = 1\n",
    "        denominator = 1\n",
    "        return cls(numerator,denominator)\n",
    "    \n",
    "    @classmethod\n",
    "    def fromRealNumber(cls, f):  # f: float\n",
    "        import math \n",
    "        numerator = f\n",
    "        denominator = 1\n",
    "        d , i = math.modf(numerator)\n",
    "        while d != 0:\n",
    "            numerator *= 10\n",
    "            denominator *= 10\n",
    "            d,i = math.modf(numerator)\n",
    "        numerator = int(numerator)\n",
    "        denominator = int(denominator)\n",
    "        return cls(numerator,denominator)\n",
    "        \n"
   ]
  },
  {
   "cell_type": "code",
   "execution_count": 33,
   "id": "936f57a3",
   "metadata": {},
   "outputs": [
    {
     "data": {
      "text/latex": [
       "$-7\\over-16$"
      ],
      "text/plain": [
       "<IPython.core.display.Latex object>"
      ]
     },
     "metadata": {},
     "output_type": "display_data"
    }
   ],
   "source": [
    "p = RotionalNumber.random()\n",
    "p.mathFormat()"
   ]
  },
  {
   "cell_type": "code",
   "execution_count": 39,
   "id": "9cdedf85",
   "metadata": {},
   "outputs": [
    {
     "data": {
      "text/latex": [
       "$0\\over1$"
      ],
      "text/plain": [
       "<IPython.core.display.Latex object>"
      ]
     },
     "metadata": {},
     "output_type": "display_data"
    }
   ],
   "source": [
    "zero= RotionalNumber.zero()\n",
    "zero.mathFormat()"
   ]
  },
  {
   "cell_type": "code",
   "execution_count": 40,
   "id": "9687bd1d",
   "metadata": {},
   "outputs": [
    {
     "data": {
      "text/latex": [
       "$1\\over1$"
      ],
      "text/plain": [
       "<IPython.core.display.Latex object>"
      ]
     },
     "metadata": {},
     "output_type": "display_data"
    }
   ],
   "source": [
    "one = RotionalNumber.one()\n",
    "one.mathFormat()"
   ]
  },
  {
   "cell_type": "code",
   "execution_count": 43,
   "id": "4d879ef6",
   "metadata": {},
   "outputs": [
    {
     "data": {
      "text/latex": [
       "$54\\over10$"
      ],
      "text/plain": [
       "<IPython.core.display.Latex object>"
      ]
     },
     "metadata": {},
     "output_type": "display_data"
    }
   ],
   "source": [
    "q = RotionalNumber.fromRealNumber(5.4)\n",
    "q.mathFormat()"
   ]
  },
  {
   "cell_type": "code",
   "execution_count": 44,
   "id": "29dd4a8d",
   "metadata": {},
   "outputs": [],
   "source": [
    "import random\n",
    "class RotionalNumber():\n",
    "    def __init__(self,numerator, denominator = 1):\n",
    "        if  type(numerator) == int  and type(denominator) is int: \n",
    "            self.numerator = numerator\n",
    "            self. denominator = denominator\n",
    "        else:\n",
    "            print('El numerador y el denominador deben ser numeros enteros')\n",
    "    def __str__(self):\n",
    "        return '{}/{}'.format(self.numerator,self.denominator)\n",
    "    @property\n",
    "    def mathFormat(self):\n",
    "        from IPython.display import display, Latex\n",
    "        display(Latex(f'${self.numerator}\\\\over{self.denominator}$'))\n",
    "    @property\n",
    "    def quotient(self):\n",
    "        return ('El cociente entre numerador y denominador es {}'.format(self.numerator/self.denominator))\n",
    "    \n",
    "    def isInfinite(self):\n",
    "        if self.denominator == 0:\n",
    "            return True\n",
    "        return False\n",
    "    @staticmethod\n",
    "    def sum(rac1,rac2):\n",
    "        return (rac1.numerator/rac1.denominator)+(rac2.numerator/rac2.denominator)\n",
    "    @staticmethod\n",
    "    def subract(rac1,rac2):\n",
    "        return (rac1.numerator/rac1.denominator)-(rac2.numerator/rac2.denominator)\n",
    "    @staticmethod\n",
    "    def product(rac1,rac2):\n",
    "        return (rac1.numerator/rac1.denominator)*(rac2.numerator/rac2.denominator)\n",
    "    @staticmethod\n",
    "    def division(rac1,rac2):\n",
    "        return (rac1.numerator/rac1.denominator)/(rac2.numerator/rac2.denominator)\n",
    "    \n",
    "    @classmethod\n",
    "    def random(cls):\n",
    "        numerator = random.randrange(-100,100)\n",
    "        denominator = random.randrange(-100,100)\n",
    "        while denominator == 0:\n",
    "            denominator = random.randrange(-100,100)\n",
    "        return cls(numerator,denominator)\n",
    "    \n",
    "    @classmethod\n",
    "    def zero(cls):\n",
    "        numerator = 0\n",
    "        denominator = 1\n",
    "        return cls(numerator,denominator)\n",
    "    \n",
    "    @classmethod\n",
    "    def one(cls):\n",
    "        numerator = 1\n",
    "        denominator = 1\n",
    "        return cls(numerator,denominator)\n",
    "    \n",
    "    @classmethod\n",
    "    def fromRealNumber(cls, f):  # f: float\n",
    "        import math \n",
    "        numerator = f\n",
    "        denominator = 1\n",
    "        d , i = math.modf(numerator)\n",
    "        while d != 0:\n",
    "            numerator *= 10\n",
    "            denominator *= 10\n",
    "            d,i = math.modf(numerator)\n",
    "        numerator = int(numerator)\n",
    "        denominator = int(denominator)\n",
    "        return cls(numerator,denominator)"
   ]
  },
  {
   "cell_type": "code",
   "execution_count": 45,
   "id": "b40158e5",
   "metadata": {},
   "outputs": [],
   "source": [
    "q = RotionalNumber(8,7)"
   ]
  },
  {
   "cell_type": "code",
   "execution_count": 47,
   "id": "c1f6f10c",
   "metadata": {},
   "outputs": [
    {
     "data": {
      "text/latex": [
       "$8\\over7$"
      ],
      "text/plain": [
       "<IPython.core.display.Latex object>"
      ]
     },
     "metadata": {},
     "output_type": "display_data"
    }
   ],
   "source": [
    "q.mathFormat"
   ]
  },
  {
   "cell_type": "code",
   "execution_count": 48,
   "id": "779c2615",
   "metadata": {},
   "outputs": [
    {
     "data": {
      "text/plain": [
       "'El cociente entre numerador y denominador es 1.1428571428571428'"
      ]
     },
     "execution_count": 48,
     "metadata": {},
     "output_type": "execute_result"
    }
   ],
   "source": [
    "q.quotient"
   ]
  },
  {
   "cell_type": "code",
   "execution_count": 1,
   "id": "1012ea57",
   "metadata": {},
   "outputs": [
    {
     "name": "stdout",
     "output_type": "stream",
     "text": [
      "6\n"
     ]
    }
   ],
   "source": [
    "def sum(a,b):\n",
    "    return a*b\n",
    "    return a+b\n",
    "print(sum(2,3))"
   ]
  },
  {
   "cell_type": "code",
   "execution_count": 2,
   "id": "4d8f0e2b",
   "metadata": {},
   "outputs": [],
   "source": [
    "class Point2D(object):\n",
    "    \n",
    "    def __init__(self, x,y):\n",
    "        self.x = x\n",
    "        self.y = y\n",
    "        \n",
    "    def __str__(self):\n",
    "        return '({}, {})'.format(self.x, self.y)\n",
    "    \n",
    "    @classmethod\n",
    "    def zero(cls):\n",
    "        return cls(0, 0)\n",
    "    "
   ]
  },
  {
   "cell_type": "code",
   "execution_count": 18,
   "id": "337fb605",
   "metadata": {},
   "outputs": [],
   "source": [
    "class Point3D(Point2D):\n",
    "    \n",
    "    def __init__(self , x, y, z):\n",
    "        super().__init__(x,y)   # AQUI USO SUPER PARA METODOS\n",
    "        self.z = z\n",
    "    \n",
    "    def  __str__(self):\n",
    "        return super().__str__()[:-1] + ', {})'.format(self.z)\n",
    "    \n",
    "    @classmethod\n",
    "    def zero(cls):\n",
    "        return cls(0,0,0)\n",
    "    "
   ]
  },
  {
   "cell_type": "code",
   "execution_count": 19,
   "id": "c4058a71",
   "metadata": {},
   "outputs": [
    {
     "name": "stdout",
     "output_type": "stream",
     "text": [
      "(1, -1)\n"
     ]
    }
   ],
   "source": [
    "p = Point2D(1,-1)\n",
    "print(p)"
   ]
  },
  {
   "cell_type": "code",
   "execution_count": 20,
   "id": "6e208a81",
   "metadata": {},
   "outputs": [
    {
     "name": "stdout",
     "output_type": "stream",
     "text": [
      "(0, 0)\n"
     ]
    }
   ],
   "source": [
    "cero2D = Point2D.zero()\n",
    "print(cero2D)"
   ]
  },
  {
   "cell_type": "code",
   "execution_count": 21,
   "id": "4f0706ff",
   "metadata": {},
   "outputs": [
    {
     "name": "stdout",
     "output_type": "stream",
     "text": [
      "(1, 2, 3)\n"
     ]
    }
   ],
   "source": [
    "q = Point3D(1,2,3)\n",
    "print(q)"
   ]
  },
  {
   "cell_type": "code",
   "execution_count": 24,
   "id": "597f0203",
   "metadata": {},
   "outputs": [
    {
     "name": "stdout",
     "output_type": "stream",
     "text": [
      "(0, 0, 0)\n"
     ]
    }
   ],
   "source": [
    "cero3D = Point3D.zero()\n",
    "print(cero3D)"
   ]
  },
  {
   "cell_type": "code",
   "execution_count": 25,
   "id": "d0525868",
   "metadata": {},
   "outputs": [],
   "source": [
    "class Square():\n",
    "    def __init__(self, base):\n",
    "        self.base = base\n",
    "        \n",
    "    @property\n",
    "    def perimeter(self):\n",
    "        return 4 * self.base\n",
    "    \n",
    "    @property\n",
    "    def area(self):\n",
    "        return self.base * self.base\n",
    "    \n",
    "class Triangle():\n",
    "    def __init__(self, base, height):\n",
    "        self.base = base\n",
    "        self.height = height\n",
    "        \n",
    "    @property\n",
    "    def area(self):\n",
    "        return 0.5 * self.base * self.height"
   ]
  },
  {
   "cell_type": "code",
   "execution_count": 28,
   "id": "523adce2",
   "metadata": {},
   "outputs": [],
   "source": [
    "import math\n",
    "class Pytamid(Square, Triangle):\n",
    "    \n",
    "    def __init__(self, base, height):\n",
    "        super().__init__(base)\n",
    "        # Altura de la piramite\n",
    "        self.height = height\n",
    "    @property\n",
    "    def slant_height(self):\n",
    "        return math.sqrt((self.base / 2)**2 + self.height ** 2)\n",
    "    \n",
    "    @property\n",
    "    def area(self):\n",
    "        base_area = super().area\n",
    "        base_perimeter = super().perimeter\n",
    "        lateral_area = 0.5 * base_perimeter * self.slant_height\n",
    "        return lateral_area + base_area\n",
    "    \n",
    "    @property\n",
    "    def volume(self):\n",
    "        base_area = super().area\n",
    "        return base_area * self.height / 3"
   ]
  },
  {
   "cell_type": "code",
   "execution_count": 30,
   "id": "4c72f8e6",
   "metadata": {},
   "outputs": [],
   "source": [
    "p = Pytamid(2,2)"
   ]
  },
  {
   "cell_type": "code",
   "execution_count": 32,
   "id": "1fd1d3a9",
   "metadata": {},
   "outputs": [
    {
     "data": {
      "text/plain": [
       "12.94427190999916"
      ]
     },
     "execution_count": 32,
     "metadata": {},
     "output_type": "execute_result"
    }
   ],
   "source": [
    "p.area"
   ]
  },
  {
   "cell_type": "code",
   "execution_count": 34,
   "id": "1c8a6c3a",
   "metadata": {},
   "outputs": [
    {
     "data": {
      "text/plain": [
       "2.6666666666666665"
      ]
     },
     "execution_count": 34,
     "metadata": {},
     "output_type": "execute_result"
    }
   ],
   "source": [
    "p.volume"
   ]
  },
  {
   "cell_type": "markdown",
   "id": "54bb34d1",
   "metadata": {},
   "source": [
    "# Scripts"
   ]
  },
  {
   "cell_type": "code",
   "execution_count": 3,
   "id": "90789af3",
   "metadata": {},
   "outputs": [
    {
     "name": "stdout",
     "output_type": "stream",
     "text": [
      "12\n"
     ]
    }
   ],
   "source": [
    "h = '1'\n",
    "g = '2'\n",
    "print(h+g)"
   ]
  },
  {
   "cell_type": "code",
   "execution_count": 7,
   "id": "a2986641",
   "metadata": {},
   "outputs": [
    {
     "name": "stdout",
     "output_type": "stream",
     "text": [
      "Ingrese su Nombre: luis fernando\n",
      "Ingrese su edad: 25\n",
      "LF25@gmail.com\n"
     ]
    }
   ],
   "source": [
    "nombre, edad = input('Ingrese su Nombre: '), input('Ingrese su edad: ')\n",
    "print(nombre[0].upper()+nombre[nombre.find(' ')+1].upper()+edad+'@gmail.com')"
   ]
  },
  {
   "cell_type": "code",
   "execution_count": 31,
   "id": "d39aa56d",
   "metadata": {},
   "outputs": [
    {
     "name": "stdout",
     "output_type": "stream",
     "text": [
      "[5, 4, 3, 2, 1, 0, 1, 2, 3, 4, 5]\n",
      "**********\n",
      "****  ****\n",
      "***    ***\n",
      "**      **\n",
      "*        *\n",
      "          \n"
     ]
    }
   ],
   "source": [
    "lista = [abs(ele) for ele in range(-5,6)]  # Convertir una lista a todos sus elemento en valor absoluto\n",
    "print(lista)\n",
    "for x,y in zip(lista[::-1],lista[5:]):\n",
    "        print('*'*x+' '*y+' '*y+'*'*x)\n",
    "#print(end=' ')\n",
    "#for x,y in zip(lista,lista[::-1]):\n",
    "#        print('*'*x+' '*y+' '*y+'*'*x)"
   ]
  },
  {
   "cell_type": "code",
   "execution_count": 27,
   "id": "e845b84a",
   "metadata": {},
   "outputs": [
    {
     "name": "stdout",
     "output_type": "stream",
     "text": [
      "[5, 4, 3, 2, 1, 0, 1, 2, 3, 4, 5]\n"
     ]
    }
   ],
   "source": [
    "#lista = [abs(list(range(-5,6)))]\n",
    "\n",
    "\n",
    "res =  [abs(ele) for ele in range(-5,6)]\n",
    "print(res)"
   ]
  },
  {
   "cell_type": "code",
   "execution_count": null,
   "id": "8d8fbde6",
   "metadata": {},
   "outputs": [],
   "source": [
    "## quede en comenza la clase de concatenacion de array"
   ]
  },
  {
   "cell_type": "code",
   "execution_count": 6,
   "id": "e9856637",
   "metadata": {},
   "outputs": [
    {
     "data": {
      "text/plain": [
       "256"
      ]
     },
     "execution_count": 6,
     "metadata": {},
     "output_type": "execute_result"
    }
   ],
   "source": [
    "2**2**3"
   ]
  },
  {
   "cell_type": "code",
   "execution_count": 35,
   "id": "aaeadc5b",
   "metadata": {},
   "outputs": [
    {
     "name": "stdout",
     "output_type": "stream",
     "text": [
      "[1, 3]\n",
      "[1, 3]\n"
     ]
    },
    {
     "data": {
      "text/plain": [
       "True"
      ]
     },
     "execution_count": 35,
     "metadata": {},
     "output_type": "execute_result"
    }
   ],
   "source": [
    "num = [1,2,3]\n",
    "val = num\n",
    "del val[1:2]\n",
    "\n",
    "print(num)\n",
    "print(val)\n",
    "num == val"
   ]
  },
  {
   "cell_type": "code",
   "execution_count": 36,
   "id": "dc841743",
   "metadata": {},
   "outputs": [
    {
     "name": "stdout",
     "output_type": "stream",
     "text": [
      "[1, 2, 3]\n",
      "[]\n"
     ]
    },
    {
     "data": {
      "text/plain": [
       "False"
      ]
     },
     "execution_count": 36,
     "metadata": {},
     "output_type": "execute_result"
    }
   ],
   "source": [
    "num = [1,2,3]\n",
    "val = num[-1:-2]\n",
    "\n",
    "\n",
    "print(num)\n",
    "print(val)\n",
    "num == val"
   ]
  },
  {
   "cell_type": "code",
   "execution_count": 39,
   "id": "cf6bda41",
   "metadata": {},
   "outputs": [
    {
     "ename": "IndexError",
     "evalue": "list index out of range",
     "output_type": "error",
     "traceback": [
      "\u001b[1;31m---------------------------------------------------------------------------\u001b[0m",
      "\u001b[1;31mIndexError\u001b[0m                                Traceback (most recent call last)",
      "Input \u001b[1;32mIn [39]\u001b[0m, in \u001b[0;36m<cell line: 2>\u001b[1;34m()\u001b[0m\n\u001b[0;32m      1\u001b[0m h \u001b[38;5;241m=\u001b[39m [[\u001b[38;5;241m0\u001b[39m,\u001b[38;5;241m1\u001b[39m,\u001b[38;5;241m2\u001b[39m,\u001b[38;5;241m3\u001b[39m] \u001b[38;5;28;01mfor\u001b[39;00m i \u001b[38;5;129;01min\u001b[39;00m \u001b[38;5;28mrange\u001b[39m(\u001b[38;5;241m2\u001b[39m)]\n\u001b[1;32m----> 2\u001b[0m \u001b[38;5;28mprint\u001b[39m(\u001b[43mh\u001b[49m\u001b[43m[\u001b[49m\u001b[38;5;241;43m2\u001b[39;49m\u001b[43m]\u001b[49m[\u001b[38;5;241m0\u001b[39m])\n",
      "\u001b[1;31mIndexError\u001b[0m: list index out of range"
     ]
    }
   ],
   "source": [
    "h = [[0,1,2,3] for i in range(2)]\n",
    "print(h[2][0])"
   ]
  },
  {
   "cell_type": "code",
   "execution_count": 40,
   "id": "27a63080",
   "metadata": {},
   "outputs": [
    {
     "name": "stdout",
     "output_type": "stream",
     "text": [
      "2\n"
     ]
    }
   ],
   "source": [
    "a= 1\n",
    "b = 0\n",
    "c = a&b\n",
    "d = a|b\n",
    "e = a^b\n",
    "print(c+d+e)"
   ]
  },
  {
   "cell_type": "code",
   "execution_count": 41,
   "id": "bcc13ab4",
   "metadata": {},
   "outputs": [
    {
     "name": "stdout",
     "output_type": "stream",
     "text": [
      "6\n"
     ]
    }
   ],
   "source": [
    "t = [[3-i for i in range(3)] for j in range (3)]\n",
    "s = 0\n",
    "for i in range(3):\n",
    "    s += t[i][i]\n",
    "print(s)"
   ]
  },
  {
   "cell_type": "code",
   "execution_count": 45,
   "id": "ae143def",
   "metadata": {
    "scrolled": true
   },
   "outputs": [
    {
     "name": "stdout",
     "output_type": "stream",
     "text": [
      "#\n",
      "2\n",
      "#\n",
      "4\n",
      "#\n",
      "8\n",
      "#\n",
      "16\n"
     ]
    }
   ],
   "source": [
    "var = 1\n",
    "while var < 10:\n",
    "    print(\"#\")\n",
    "    var = var << 1\n",
    "    print(var)"
   ]
  },
  {
   "cell_type": "code",
   "execution_count": 46,
   "id": "f71aa8e5",
   "metadata": {},
   "outputs": [
    {
     "name": "stdout",
     "output_type": "stream",
     "text": [
      "[3, 2, 1]\n"
     ]
    }
   ],
   "source": [
    "l1 = [1,2,3]\n",
    "l2 = []\n",
    "for v in l1:\n",
    "    l2.insert(0, v)\n",
    "print(l2)"
   ]
  },
  {
   "cell_type": "code",
   "execution_count": 47,
   "id": "8e857f91",
   "metadata": {
    "scrolled": true
   },
   "outputs": [
    {
     "data": {
      "text/plain": [
       "[-1, 0, 1]"
      ]
     },
     "execution_count": 47,
     "metadata": {},
     "output_type": "execute_result"
    }
   ],
   "source": [
    "l = [i for i in range(-1,2) ]\n",
    "l"
   ]
  },
  {
   "cell_type": "code",
   "execution_count": 48,
   "id": "5f779343",
   "metadata": {},
   "outputs": [
    {
     "name": "stdout",
     "output_type": "stream",
     "text": [
      "[1, 1, 1, 1, 2, 3]\n"
     ]
    }
   ],
   "source": [
    "l = [1,2,3]\n",
    "for v in range(len(l)):\n",
    "    l.insert(1,l[v])\n",
    "print(l)"
   ]
  },
  {
   "cell_type": "code",
   "execution_count": 49,
   "id": "da13fdee",
   "metadata": {},
   "outputs": [
    {
     "name": "stdout",
     "output_type": "stream",
     "text": [
      "#\n",
      "#\n"
     ]
    }
   ],
   "source": [
    "for i in range(1):\n",
    "    print('#')\n",
    "else:\n",
    "    print('#')"
   ]
  },
  {
   "cell_type": "code",
   "execution_count": 50,
   "id": "2164c40a",
   "metadata": {},
   "outputs": [
    {
     "name": "stdout",
     "output_type": "stream",
     "text": [
      "[2]\n"
     ]
    }
   ],
   "source": [
    "l = [1,2,3,4]\n",
    "print(l[-3:-2])"
   ]
  },
  {
   "cell_type": "code",
   "execution_count": 56,
   "id": "c58d3141",
   "metadata": {},
   "outputs": [
    {
     "data": {
      "text/plain": [
       "[1, 1, 2]"
      ]
     },
     "execution_count": 56,
     "metadata": {},
     "output_type": "execute_result"
    }
   ],
   "source": [
    "val = [0,1,2]\n",
    "val.insert(0,1)\n",
    "del val[1]\n",
    "val"
   ]
  },
  {
   "cell_type": "code",
   "execution_count": 57,
   "id": "0325d523",
   "metadata": {},
   "outputs": [
    {
     "name": "stdout",
     "output_type": "stream",
     "text": [
      "1\n"
     ]
    }
   ],
   "source": [
    "m = [3,1,-2]\n",
    "print(m[m[-1]])"
   ]
  },
  {
   "cell_type": "code",
   "execution_count": 58,
   "id": "fa4a6c9f",
   "metadata": {},
   "outputs": [],
   "source": [
    "# Quede en el video 34 de numpy, debo verlo, se llamar Funciones de Productos"
   ]
  },
  {
   "cell_type": "code",
   "execution_count": 1,
   "id": "f160ce66",
   "metadata": {},
   "outputs": [],
   "source": [
    "# Comenzar con Representacion Grafica"
   ]
  }
 ],
 "metadata": {
  "kernelspec": {
   "display_name": "Python 3 (ipykernel)",
   "language": "python",
   "name": "python3"
  },
  "language_info": {
   "codemirror_mode": {
    "name": "ipython",
    "version": 3
   },
   "file_extension": ".py",
   "mimetype": "text/x-python",
   "name": "python",
   "nbconvert_exporter": "python",
   "pygments_lexer": "ipython3",
   "version": "3.9.12"
  }
 },
 "nbformat": 4,
 "nbformat_minor": 5
}
