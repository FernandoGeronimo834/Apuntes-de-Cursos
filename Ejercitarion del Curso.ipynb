{
 "cells": [
  {
   "cell_type": "markdown",
   "id": "85582fb5",
   "metadata": {},
   "source": [
    "# Curso Basico"
   ]
  },
  {
   "cell_type": "code",
   "execution_count": null,
   "id": "33c1fee9",
   "metadata": {},
   "outputs": [],
   "source": [
    "# Funciones que debo investiga:\n",
    "# ASCII\n",
    "chr()  # Ejercico de RUEDA\n",
    "ord()"
   ]
  },
  {
   "cell_type": "markdown",
   "id": "bfbad0cf",
   "metadata": {},
   "source": [
    "### Primer programa: Conversor de monedas\n"
   ]
  },
  {
   "cell_type": "code",
   "execution_count": 2,
   "id": "52b04665",
   "metadata": {},
   "outputs": [
    {
     "name": "stdout",
     "output_type": "stream",
     "text": [
      "Ingrese cantidad de pesos que tiene: 500\n",
      "La convercion de  500.0 pesos a dolares es  4.506\n"
     ]
    }
   ],
   "source": [
    "pesos = float(input(\"Ingrese cantidad de pesos que tiene: \"))\n",
    "valor_dolar = 110.96\n",
    "dolares = round(pesos / valor_dolar,3)\n",
    "print('La convercion de ',pesos,'pesos a dolares es ',dolares)\n"
   ]
  },
  {
   "cell_type": "code",
   "execution_count": 9,
   "id": "da0b4d5f",
   "metadata": {},
   "outputs": [],
   "source": [
    "def conversor(tipo_peso,valor_dolar,cantidad_pesos):\n",
    "    dolares = round(cantidad_pesos / valor_dolar,3)\n",
    "    return print('La convercion de ',cantidad_pesos,'pesos a dolares es ',dolares)\n",
    "    "
   ]
  },
  {
   "cell_type": "code",
   "execution_count": 11,
   "id": "964f23d1",
   "metadata": {},
   "outputs": [
    {
     "name": "stdout",
     "output_type": "stream",
     "text": [
      "\n",
      "Bienvenido al conversor de monedas 💲\n",
      "1 - Pesos colombianos\n",
      "2 - Pesos argentinos\n",
      "3 - Pesos mexicanos\n",
      "\n",
      "\n",
      "Elige una Opcion: 3\n",
      "Ingrese el valor del dolar en su pais: 24\n",
      "Ingrese la cantidad de pesos que tiene: 67\n",
      "La convercion de  67 pesos a dolares es  2.792\n"
     ]
    }
   ],
   "source": [
    "## Agregar paises\n",
    "\n",
    "menu = \"\"\"\n",
    "Bienvenido al conversor de monedas 💲\n",
    "1 - Pesos colombianos\n",
    "2 - Pesos argentinos\n",
    "3 - Pesos mexicanos\n",
    "\n",
    "\"\"\"\n",
    "print(menu)\n",
    "opcion = int(input(\"Elige una Opcion: \"))\n",
    "if opcion == 1:\n",
    "    conversor(opcion,valor_dolar = int(input(\"Ingrese el valor del dolar en su pais: \")),cantidad_pesos = int(input(\"Ingrese la cantidad de pesos que tiene: \")))\n",
    "elif opcion == 2:\n",
    "    conversor(opcion,valor_dolar = int(input(\"Ingrese el valor del dolar en su pais: \")),cantidad_pesos = int(input(\"Ingrese la cantidad de pesos que tiene: \")))\n",
    "elif opcion == 3:\n",
    "    conversor(opcion,valor_dolar = int(input(\"Ingrese el valor del dolar en su pais: \")),cantidad_pesos = int(input(\"Ingrese la cantidad de pesos que tiene: \")))\n",
    "else:\n",
    "    print('Elige una opcion correcta')"
   ]
  },
  {
   "cell_type": "markdown",
   "id": "840ac5e0",
   "metadata": {},
   "source": [
    "## Proyecto Palindromo"
   ]
  },
  {
   "cell_type": "code",
   "execution_count": 27,
   "id": "30dc3ea9",
   "metadata": {},
   "outputs": [
    {
     "name": "stdout",
     "output_type": "stream",
     "text": [
      "Ingrese un String: Luz Azul\n",
      "Es un palindromo\n"
     ]
    }
   ],
   "source": [
    "# Un palindromo es una palabra o frace que se lee igual al derecho y al revez --> Ej: Luz Azul\n",
    "Texto = input(\"Ingrese un String: \")\n",
    "Texto = Texto.replace(\" \",\"\").lower()\n",
    "analisis_texto = Texto[::-1]\n",
    "if Texto == analisis_texto:\n",
    "    print('Es un palindromo')\n",
    "else:\n",
    "    print('No es un palindromo')\n",
    "#analisis_texto"
   ]
  },
  {
   "cell_type": "markdown",
   "id": "6843e7c2",
   "metadata": {},
   "source": [
    "### Bucles"
   ]
  },
  {
   "cell_type": "code",
   "execution_count": 53,
   "id": "06ccb0bf",
   "metadata": {
    "scrolled": false
   },
   "outputs": [
    {
     "name": "stdout",
     "output_type": "stream",
     "text": [
      "2 elevado a 0 es igual a:  1\n",
      "2 elevado a 1 es igual a:  2\n",
      "2 elevado a 2 es igual a:  4\n",
      "2 elevado a 3 es igual a:  8\n",
      "2 elevado a 4 es igual a:  16\n",
      "2 elevado a 5 es igual a:  32\n",
      "2 elevado a 6 es igual a:  64\n",
      "2 elevado a 7 es igual a:  128\n",
      "2 elevado a 8 es igual a:  256\n",
      "2 elevado a 9 es igual a:  512\n"
     ]
    }
   ],
   "source": [
    "def run():\n",
    "    LIMITE = 1000\n",
    "    contador = 0\n",
    "    operacion = 2 ** contador\n",
    "    while operacion < LIMITE: \n",
    "        print('2 elevado a '+str(contador)+' es igual a: ',operacion)\n",
    "        contador += 1\n",
    "        operacion = 2**contador\n",
    "    \n",
    "    \n",
    "if __name__ == '__main__':\n",
    "    run()"
   ]
  },
  {
   "cell_type": "markdown",
   "id": "b21771b6",
   "metadata": {},
   "source": [
    "### Comprobar si un numero es primo"
   ]
  },
  {
   "cell_type": "code",
   "execution_count": null,
   "id": "00c1504d",
   "metadata": {},
   "outputs": [],
   "source": [
    "def es_primo(numero):\n",
    "    contador = 0\n",
    "    for i in range(1,numero+1):\n",
    "        if i == 1 or i == numero:\n",
    "            continue\n",
    "        if numero % i == 0:\n",
    "            contador += 1\n",
    "    if contador == 0:\n",
    "        return True\n",
    "    else:\n",
    "        return False\n",
    "def run():\n",
    "    numero = int(input('Ingrese un numero: '))\n",
    "    if es_primo(numero):  #Se ejecutara si el resultado de la funcion es_primo es 'True'\n",
    "        print('Es primo')\n",
    "    else:\n",
    "        print('No es primo')\n",
    "if __name__ == '__main__':\n",
    "    run()"
   ]
  },
  {
   "cell_type": "markdown",
   "id": "fc2a495c",
   "metadata": {},
   "source": [
    "### Adivina el numero"
   ]
  },
  {
   "cell_type": "code",
   "execution_count": 94,
   "id": "a55ba68c",
   "metadata": {},
   "outputs": [
    {
     "name": "stdout",
     "output_type": "stream",
     "text": [
      "Ingresa un número: 85\n",
      "Elige un numero más chico\n",
      "Ingresa otro número: 50\n",
      "Elige un numero más alto\n",
      "Ingresa otro número: 70\n",
      "Elige un numero más alto\n",
      "Ingresa otro número: 75\n",
      "Elige un numero más alto\n",
      "Ingresa otro número: 78\n",
      "Elige un numero más alto\n",
      "Ingresa otro número: 79\n",
      "Elige un numero más alto\n",
      "Ingresa otro número: 80\n",
      "Elige un numero más alto\n",
      "Ingresa otro número: 83\n",
      "Elige un numero más chico\n",
      "Ingresa otro número: 82\n",
      "Ganaste!\n"
     ]
    }
   ],
   "source": [
    "import random\n",
    "def run():\n",
    "    \n",
    "    numero_ganador = random.randint(0,101)\n",
    "    #print(\"el numero ganador es: \",numero_ganador)\n",
    "    numero = int(input('Ingresa un número del 1 al 100: '))\n",
    "    while numero != numero_ganador:    \n",
    "        if numero < numero_ganador:\n",
    "            print('Elige un numero más alto')\n",
    "        else:\n",
    "            print('Elige un numero más chico')\n",
    "        numero = int(input('Ingresa otro número: '))\n",
    "    if numero == numero_ganador:\n",
    "        print('Ganaste!')\n",
    "    \n",
    "    \n",
    "if __name__ == '__main__':\n",
    "    run()"
   ]
  },
  {
   "cell_type": "markdown",
   "id": "1c7094e8",
   "metadata": {},
   "source": [
    "### Proyecto Generador de Contraseñas"
   ]
  },
  {
   "cell_type": "code",
   "execution_count": 104,
   "id": "088883ef",
   "metadata": {},
   "outputs": [
    {
     "name": "stdout",
     "output_type": "stream",
     "text": [
      "Tu nueva contraseña es:  G05D@eGAE20EDEC\n"
     ]
    }
   ],
   "source": [
    "import random\n",
    "def generar_contraseña():\n",
    "    mayusculas = ['A','B','C','D','E','F','G','H','I']\n",
    "    minusculas = ['a','b','c','d','e','f','g','h','i']\n",
    "    simbolos = ['!','%','@','/','#','=']\n",
    "    numeros = ['1','2','3','4','5','6','7','8','9','0']\n",
    "    caracteres = mayusculas+minusculas+simbolos+numeros\n",
    "    contrasena = []\n",
    "    for i in range(15):\n",
    "        caracter_random = random.choice(caracteres)\n",
    "        contrasena.append(caracter_random)\n",
    "    contrasena = \"\".join(contrasena)\n",
    "    return contrasena\n",
    "def run():\n",
    "    contrasena = generar_contraseña()\n",
    "    print('Tu nueva contraseña es: ',contrasena)\n",
    "if __name__ == '__main__':\n",
    "    run()"
   ]
  },
  {
   "cell_type": "code",
   "execution_count": 114,
   "id": "6a3f92ff",
   "metadata": {},
   "outputs": [
    {
     "name": "stdout",
     "output_type": "stream",
     "text": [
      "Tu nueva contraseña es:  8b%ECA150/4#3!e\n"
     ]
    }
   ],
   "source": [
    "# Otra forma\n",
    "import random\n",
    "def generar_contraseña():\n",
    "    mayusculas = ['A','B','C','D','E','F','G','H','I']\n",
    "    minusculas = ['a','b','c','d','e','f','g','h','i']\n",
    "    simbolos = ['!','%','@','/','#','=']\n",
    "    numeros = ['1','2','3','4','5','6','7','8','9','0']\n",
    "    caracteres = mayusculas+minusculas+simbolos+numeros\n",
    "    contrasena = []\n",
    "    contrasena=random.sample(caracteres, 15)\n",
    "    contrasena = \"\".join(contrasena)\n",
    "    return contrasena\n",
    "def run():\n",
    "    contrasena = generar_contraseña()\n",
    "    print('Tu nueva contraseña es: ',contrasena)\n",
    "if __name__ == '__main__':\n",
    "    run()"
   ]
  },
  {
   "cell_type": "markdown",
   "id": "efc4f70f",
   "metadata": {},
   "source": [
    "### Reproducir la letra de cumpleaños feliz"
   ]
  },
  {
   "cell_type": "code",
   "execution_count": 14,
   "id": "ac27271e",
   "metadata": {},
   "outputs": [
    {
     "name": "stdout",
     "output_type": "stream",
     "text": [
      "Nombre del cumpleañero: Fernando\n",
      "¡Cumpleaños feliz!\n",
      "¡Cumpleaños feliz!\n",
      "Te desamos Fernando,\n",
      "¡Cumpleaños feliz!\n"
     ]
    }
   ],
   "source": [
    "persona = input('Nombre del cumpleañero: ')\n",
    "str1 = '¡Cumpleaños feliz!'\n",
    "str2 = 'Te desamos todos'\n",
    "print((str1+'\\n')*2 + str2.replace('todos',persona)+ ',\\n'+ str1)"
   ]
  },
  {
   "cell_type": "markdown",
   "id": "b0368dc5",
   "metadata": {},
   "source": [
    "###  EJERCICIO DEL VIDEO 12 CAP 4"
   ]
  },
  {
   "cell_type": "code",
   "execution_count": 11,
   "id": "5de4aad4",
   "metadata": {},
   "outputs": [
    {
     "name": "stdout",
     "output_type": "stream",
     "text": [
      "Este es el string original:  El camino esta cerrado pero seguro que podemos encontrar una alternativa\n",
      "Introduce una palabra que quieras eliminar del string original\n",
      "Ingrese la palabra: pero\n",
      "El camino esta cerrado seguro que podemos encontrar una alternativa\n"
     ]
    }
   ],
   "source": [
    "string = 'El camino esta cerrado pero seguro que podemos encontrar una alternativa'\n",
    "print('Este es el string original: ',end=' ')\n",
    "print(string)\n",
    "print('Introduce una palabra que quieras eliminar del string original')\n",
    "palabra_eliminar = input('Ingrese la palabra: ')\n",
    "\n",
    "indice = string.find(palabra_eliminar)\n",
    "sub_string = string[:indice] + string[indice+1+ len(palabra_eliminar):]\n",
    "print(sub_string)"
   ]
  },
  {
   "cell_type": "code",
   "execution_count": 26,
   "id": "63590863",
   "metadata": {},
   "outputs": [
    {
     "name": "stdout",
     "output_type": "stream",
     "text": [
      "Ingrese un texto: HOjA NUMERO jUAN\n"
     ]
    }
   ],
   "source": [
    "string = input('Ingrese un texto: ')"
   ]
  },
  {
   "cell_type": "code",
   "execution_count": null,
   "id": "47baeb80",
   "metadata": {},
   "outputs": [],
   "source": [
    "print('Ej1:',string.upper())\n",
    "print('Ej2:',string.title())"
   ]
  },
  {
   "cell_type": "code",
   "execution_count": 39,
   "id": "bf425524",
   "metadata": {},
   "outputs": [
    {
     "name": "stdout",
     "output_type": "stream",
     "text": [
      "hoJa numero juan\n"
     ]
    }
   ],
   "source": [
    "texto = string[:2].lower()+string[2].upper()+string[3:].lower()\n",
    "print(texto)"
   ]
  },
  {
   "cell_type": "code",
   "execution_count": 40,
   "id": "67fd9d6d",
   "metadata": {
    "scrolled": true
   },
   "outputs": [
    {
     "name": "stdout",
     "output_type": "stream",
     "text": [
      "Ingrese un texto: hooola mi nombre es fernando\n",
      "hOOOLA MI NOMBRE ES FERNANDo\n"
     ]
    }
   ],
   "source": [
    "string = input('Ingrese un texto: ')\n",
    "hola = string[0].lower()+string[1:len(string)-1].upper()+string[-1].lower()\n",
    "print(hola)"
   ]
  },
  {
   "cell_type": "code",
   "execution_count": 48,
   "id": "648ac781",
   "metadata": {
    "scrolled": true
   },
   "outputs": [
    {
     "name": "stdout",
     "output_type": "stream",
     "text": [
      "Ingrese un texto: hola fer\n",
      "ingresa una letra: nano\n",
      "nanola fer\n"
     ]
    }
   ],
   "source": [
    "string = input('Ingrese un texto: ')\n",
    "sub = input('ingresa una letra: ')\n",
    "\n",
    "print(string.replace(string[0:2],sub))"
   ]
  },
  {
   "cell_type": "code",
   "execution_count": 50,
   "id": "c8033cd2",
   "metadata": {
    "scrolled": true
   },
   "outputs": [
    {
     "name": "stdout",
     "output_type": "stream",
     "text": [
      "Ingrese se año de nacimiento: 1997\n",
      "Ingrese el año actual: 2022\n",
      "Su edad es: 25 años\n"
     ]
    }
   ],
   "source": [
    "# Otro ejercicio\n",
    "año_nacimiento = int(input('Ingrese se año de nacimiento: '))\n",
    "año_actual  = int(input('Ingrese el año actual: '))\n",
    "diferencia = año_actual - año_nacimiento\n",
    "print('Su edad es: {} años'.format(diferencia))"
   ]
  },
  {
   "cell_type": "code",
   "execution_count": 55,
   "id": "f96ec517",
   "metadata": {},
   "outputs": [
    {
     "name": "stdout",
     "output_type": "stream",
     "text": [
      "Ingrese un texto: \n",
      "hola \n",
      "El String si contiene espacios en blanco, y contiene 1.\n"
     ]
    }
   ],
   "source": [
    "# Ejercicio\n",
    "s = input('Ingrese un texto: \\n')\n",
    "if ' ' in s:\n",
    "    h = s.count(' ')\n",
    "    print('El String si contiene espacios en blanco, y contiene {}.'.format(h))"
   ]
  },
  {
   "cell_type": "code",
   "execution_count": 60,
   "id": "323144ab",
   "metadata": {},
   "outputs": [
    {
     "name": "stdout",
     "output_type": "stream",
     "text": [
      " Ingrese el valor de la variable A: 0\n",
      " Ingrese el valor de la variable B: 48\n",
      "No se puede resolver la ecuacion, debido a que A = 0.\n"
     ]
    }
   ],
   "source": [
    "# Ejercicio\n",
    "A = float(input(' Ingrese el valor de la variable A: '))\n",
    "B = float(input(' Ingrese el valor de la variable B: '))\n",
    "\n",
    "if A != 0:\n",
    "    x = -B/A\n",
    "    print('El valor de X, resultado de la ecuacion es {}.'.format(x))\n",
    "else:\n",
    "    print('No se puede resolver la ecuacion, debido a que A = 0.')"
   ]
  },
  {
   "cell_type": "code",
   "execution_count": 65,
   "id": "7f9b617e",
   "metadata": {},
   "outputs": [
    {
     "name": "stdout",
     "output_type": "stream",
     "text": [
      "Ingrese un numero: 33\n",
      "El numero 33 es Impar.\n"
     ]
    }
   ],
   "source": [
    "# Ejercicio par o impar\n",
    "numero = int(input('Ingrese un numero: '))\n",
    "print( 'El numero {} es Par.'.format(numero) if numero % 2 == 0 else 'El numero {} es Impar.'.format(numero))\n"
   ]
  },
  {
   "cell_type": "code",
   "execution_count": 72,
   "id": "592f493d",
   "metadata": {},
   "outputs": [
    {
     "name": "stdout",
     "output_type": "stream",
     "text": [
      "Ingrese el valor da la variable x: -0.5\n",
      "Ingrese el valor da la variable y: 0\n",
      "(-0.5,0.0) no esta dentro del cuadro unidad\n"
     ]
    }
   ],
   "source": [
    "# Cuadrado unidad\n",
    "x = float(input('Ingrese el valor da la variable x: '))\n",
    "y = float(input('Ingrese el valor da la variable y: '))\n",
    "print(\"({},{}) esta dentro del cuadro unidad\".format(x,y) if (x >= 0 and x<=1) and (y >= 0 and y<=1) else \"({},{}) no esta dentro del cuadro unidad\".format(x,y))"
   ]
  },
  {
   "cell_type": "code",
   "execution_count": 85,
   "id": "c38e0289",
   "metadata": {},
   "outputs": [
    {
     "name": "stdout",
     "output_type": "stream",
     "text": [
      "Ingrese el año: 4\n",
      "El año 4 es bisiesto\n"
     ]
    }
   ],
   "source": [
    "# Año bisiesto: es bisiesto si el año es divisible entre 4, pero no es multiplo de cien a no ser que lo sea de 400\n",
    "\n",
    "año = int(input('Ingrese el año: '))\n",
    "print('El año {} es bisiesto'.format(año) if ((año%4 == 0) and (año%100 != 0 or año == 400)) else 'El año {} no es bisiesto'.format(año))"
   ]
  },
  {
   "cell_type": "code",
   "execution_count": 26,
   "id": "76b8e210",
   "metadata": {},
   "outputs": [
    {
     "name": "stdout",
     "output_type": "stream",
     "text": [
      "Tripletes: [[-10, 4, 6], [-10, 6, 4], [-8, 1, 7], [-8, 4, 4], [-8, 7, 1], [-7, -1, 8], [-7, 1, 6], [-7, 6, 1], [-7, 8, -1], [-1, -7, 8], [-1, 8, -7], [1, -8, 7], [1, -7, 6], [1, 6, -7], [1, 7, -8], [4, -10, 6], [4, -8, 4], [4, 4, -8], [4, 6, -10], [6, -10, 4], [6, -7, 1], [6, 1, -7], [6, 4, -10], [7, -8, 1], [7, 1, -8], [8, -7, -1], [8, -1, -7]]\n",
      "\n",
      "Cantidad de Tripletes que logran una suma objetiva igual a 0 es: 27\n"
     ]
    }
   ],
   "source": [
    "# Ejercicio de Meli\n",
    "lista = [-7, -1, 8, -10, 6, 4, -8, 1, 7]\n",
    "lista.sort()  # Ordenar lista de forma ascendente, pero no cambia el resultado al no ordenarla, obtengo la misma cantidad de tripletes\n",
    "lista_final = []\n",
    "suma_objetiva = 0\n",
    "longitud = len(lista)\n",
    "for j in lista:\n",
    "    for i in lista:\n",
    "        for x in lista:\n",
    "            #print(x)\n",
    "            if (j+i+x) == 0:\n",
    "                lista_provi = []\n",
    "                lista_provi.append(j)\n",
    "                lista_provi.append(i)\n",
    "                lista_provi.append(x)\n",
    "                lista_final.append(lista_provi)\n",
    "print('Tripletes:',lista_final)\n",
    "print('\\nCantidad de Tripletes que logran una suma objetiva igual a 0 es:',len(lista_final))\n",
    "#print(lista_invertida)"
   ]
  },
  {
   "cell_type": "code",
   "execution_count": 12,
   "id": "e14ac6b5",
   "metadata": {
    "scrolled": true
   },
   "outputs": [
    {
     "name": "stdout",
     "output_type": "stream",
     "text": [
      "[7, 1, -8, 4, 6, -10, 8, -1, -7]\n"
     ]
    }
   ],
   "source": [
    "lista = [-7, -1, 8, -10, 6, 4, -8, 1, 7]\n",
    "l = lista.reverse()\n",
    "print(lista)"
   ]
  },
  {
   "cell_type": "code",
   "execution_count": 52,
   "id": "4ce4615c",
   "metadata": {
    "scrolled": false
   },
   "outputs": [
    {
     "name": "stdout",
     "output_type": "stream",
     "text": [
      "1\n",
      "2\n",
      "fit\n",
      "4\n",
      "but\n",
      "fit\n",
      "7\n",
      "8\n",
      "fit\n",
      "but\n",
      "11\n",
      "fit\n",
      "13\n",
      "14\n",
      "fitbut\n",
      "16\n",
      "17\n",
      "fit\n",
      "19\n",
      "but\n",
      "fit\n",
      "22\n",
      "23\n",
      "fit\n",
      "but\n",
      "26\n",
      "fit\n",
      "28\n",
      "29\n",
      "fitbut\n",
      "31\n",
      "32\n",
      "fit\n",
      "34\n",
      "but\n",
      "fit\n",
      "37\n",
      "38\n",
      "fit\n",
      "but\n",
      "41\n",
      "fit\n",
      "43\n",
      "44\n",
      "fitbut\n",
      "46\n",
      "47\n",
      "fit\n",
      "49\n",
      "but\n",
      "fit\n",
      "52\n",
      "53\n",
      "fit\n",
      "but\n",
      "56\n",
      "fit\n",
      "58\n",
      "59\n",
      "fitbut\n",
      "61\n",
      "62\n",
      "fit\n",
      "64\n",
      "but\n",
      "fit\n",
      "67\n",
      "68\n",
      "fit\n",
      "but\n",
      "71\n",
      "fit\n",
      "73\n",
      "74\n",
      "fitbut\n",
      "76\n",
      "77\n",
      "fit\n",
      "79\n",
      "but\n",
      "fit\n",
      "82\n",
      "83\n",
      "fit\n",
      "but\n",
      "86\n",
      "fit\n",
      "88\n",
      "89\n",
      "fitbut\n",
      "91\n",
      "92\n",
      "fit\n",
      "94\n",
      "but\n",
      "fit\n",
      "97\n",
      "98\n",
      "fit\n",
      "but\n"
     ]
    }
   ],
   "source": [
    "# Ejercicio de entrevista\n",
    "#muetre del 1 al 100\n",
    "#multiplos de 3 por la palabra fit\n",
    "#multiplos de 5 por la palabra but\n",
    "#multiplos de 3 y 5 por fitbut\n",
    "for x in range(1,101):\n",
    "    if (x%3 ==0 and x%5 == 0):\n",
    "        x = 'fitbut'\n",
    "    elif (x%3 == 0):\n",
    "        x = 'fit'\n",
    "    elif (x%5 == 0):\n",
    "        x = 'but'\n",
    "    print(x)"
   ]
  },
  {
   "cell_type": "code",
   "execution_count": 61,
   "id": "3ed217f8",
   "metadata": {},
   "outputs": [
    {
     "name": "stdout",
     "output_type": "stream",
     "text": [
      "Ingrese un string: Hola mi nombre es fernando mucho gustO\n",
      "Hay 13 vocales en el string.\n"
     ]
    }
   ],
   "source": [
    "# Ejercicio\n",
    "sr = input('Ingrese un string: ')\n",
    "sr = sr.lower()\n",
    "i = 0\n",
    "count = 0\n",
    "while i < len(sr):\n",
    "    if sr[i] == 'a' or sr[i] == 'e' or sr[i] == 'i' or sr[i] == 'o' or sr[i] == 'u':\n",
    "        count += 1\n",
    "    i += 1\n",
    "\n",
    "print('Hay {} vocales en el string.'.format(count))"
   ]
  },
  {
   "cell_type": "code",
   "execution_count": 79,
   "id": "c3c4b81f",
   "metadata": {
    "scrolled": true
   },
   "outputs": [
    {
     "name": "stdout",
     "output_type": "stream",
     "text": [
      "1\n",
      "1\n",
      "2\n",
      "3\n",
      "5\n",
      "8\n",
      "13\n",
      "21\n",
      "34\n",
      "55\n",
      "89\n",
      "144\n",
      "233\n",
      "377\n",
      "610\n",
      "987\n",
      "1597\n",
      "2584\n",
      "4181\n",
      "6765\n"
     ]
    }
   ],
   "source": [
    "# Figonacci\n",
    "\n",
    "figo_ant = 1\n",
    "figo_act = 1\n",
    "i = 0\n",
    "figo_actual = 0\n",
    "while figo_actual < 500000:\n",
    "    print(figo_ant)\n",
    "    figo_actual = figo_ant + figo_act\n",
    "    figo_ant = figo_act\n",
    "    figo_act =figo_actual\n",
    "    i += 1\n",
    "    if i == 20: # Solo me dara hasta el indice numero 20\n",
    "        break\n"
   ]
  },
  {
   "cell_type": "code",
   "execution_count": 86,
   "id": "7e04c961",
   "metadata": {},
   "outputs": [
    {
     "name": "stdout",
     "output_type": "stream",
     "text": [
      "Ingrese un numero: 4\n",
      "Ingrese un numero: 5\n",
      "Ingrese un numero: 0\n",
      "El resultado de la suma es: 9 .\n"
     ]
    }
   ],
   "source": [
    "# El usuario introduzca  numero por teclado e iremos sumandolos. Cuando el usuario introduzca 0 saldremos del bucle while.\n",
    "# Al salid del bucle con un else mostraremos la suma.\n",
    "suma = 0\n",
    "a = True\n",
    "while a:\n",
    "    numero = int(input('Ingrese un numero: '))\n",
    "    if numero != 0:\n",
    "        suma += numero\n",
    "    else:\n",
    "        a = False\n",
    "else:\n",
    "    print('El resultado de la suma es: {} .'.format(suma))"
   ]
  },
  {
   "cell_type": "code",
   "execution_count": 88,
   "id": "d3b461f2",
   "metadata": {},
   "outputs": [
    {
     "name": "stdout",
     "output_type": "stream",
     "text": [
      "Ingrese un numero: 8\n",
      "Ingrese un numero: 2\n",
      "Ingrese un numero: 0\n",
      "El resultado de la suma es: 10.0\n"
     ]
    }
   ],
   "source": [
    "# Otra forma mas efectiva del ejercicio de arriba:\n",
    "n = float(input('Ingrese un numero: '))\n",
    "suma = 0\n",
    "while n !=0:\n",
    "    suma +=n\n",
    "    n = float(input('Ingrese un numero: '))\n",
    "else:\n",
    "    print('El resultado de la suma es: {}'.format(suma))\n",
    "    \n",
    "    "
   ]
  },
  {
   "cell_type": "code",
   "execution_count": 93,
   "id": "5e4a0e13",
   "metadata": {},
   "outputs": [
    {
     "name": "stdout",
     "output_type": "stream",
     "text": [
      "Introduce una rotacion: 10\n",
      "A:K\n",
      "B:L\n",
      "C:M\n",
      "D:N\n",
      "E:O\n",
      "F:P\n",
      "G:Q\n",
      "H:R\n",
      "I:S\n",
      "J:T\n",
      "K:U\n",
      "L:V\n",
      "M:W\n",
      "N:X\n",
      "O:Y\n",
      "P:Z\n",
      "Q:A\n",
      "R:B\n",
      "S:C\n",
      "T:D\n",
      "U:E\n",
      "V:F\n",
      "W:G\n",
      "X:H\n",
      "Y:I\n",
      "Z:J\n"
     ]
    }
   ],
   "source": [
    "# 65 a 90 RUEDA\n",
    "\n",
    "n = int(input('Introduce una rotacion: '))\n",
    "i = 65\n",
    "\n",
    "while i<=90:\n",
    "    if i + n <= 90:\n",
    "        \n",
    "        print(chr(i) + ':' + chr(i+n)) # Desplaza el caracter i, n posiciones\n",
    "    else:\n",
    "        print(chr(i) + ':' + chr((i-26)+n)) # Esto vuelve a la 'A'\n",
    "    i +=1"
   ]
  },
  {
   "cell_type": "code",
   "execution_count": 29,
   "id": "e8381be5",
   "metadata": {},
   "outputs": [
    {
     "name": "stdout",
     "output_type": "stream",
     "text": [
      "Ingrese un texto: Hola mi nombre es Fernando.\n",
      "\n",
      "\n",
      ".odnanreF se erbmon im aloH\n"
     ]
    }
   ],
   "source": [
    "string = input('Ingrese un texto: ')\n",
    "print('\\n')\n",
    "c =''\n",
    "for x in string:\n",
    "    c = x + c # Cambia si sumo primer c y luego x --> obtendria el mismo mensaje que asigne de entrada\n",
    "print(c)"
   ]
  },
  {
   "cell_type": "code",
   "execution_count": 30,
   "id": "0181f520",
   "metadata": {},
   "outputs": [
    {
     "name": "stdout",
     "output_type": "stream",
     "text": [
      "Ingrese un texto: Hola mi nombre es Fernando.\n",
      "\n",
      "\n",
      ".odnanreF se erbmon im aloH\n"
     ]
    }
   ],
   "source": [
    "string = input('Ingrese un texto: ')\n",
    "print('\\n')\n",
    "c =''\n",
    "for x in string[::-1]:\n",
    "    c += x\n",
    "print(c)"
   ]
  },
  {
   "cell_type": "code",
   "execution_count": 26,
   "id": "a1a1e2ae",
   "metadata": {},
   "outputs": [
    {
     "name": "stdout",
     "output_type": "stream",
     "text": [
      "h\n",
      "oh\n",
      "loh\n",
      "aloh\n",
      "aloh\n"
     ]
    }
   ],
   "source": [
    "s = \"hola\"\n",
    "s_in = \"\"\n",
    "\n",
    "for c in s:\n",
    "    \n",
    "    s_in = c + s_in\n",
    "    print(s_in)\n",
    "\n",
    "print(s_in)"
   ]
  },
  {
   "cell_type": "code",
   "execution_count": 33,
   "id": "79e2fdfe",
   "metadata": {},
   "outputs": [
    {
     "name": "stdout",
     "output_type": "stream",
     "text": [
      "Ingrese un texto: hola mi nombre es fernando\n",
      "Letra a eliminar: o\n",
      "hla mi nmbre es fernand\n"
     ]
    }
   ],
   "source": [
    "# Ejercicio:\n",
    "\n",
    "string = input('Ingrese un texto: ')\n",
    "string = string.lower()\n",
    "letra = input('Letra a eliminar: ')\n",
    "letra = letra.lower()\n",
    "h =''\n",
    "for x in string:\n",
    "    if x == letra:\n",
    "        continue\n",
    "    h += x\n",
    "print(h)"
   ]
  },
  {
   "cell_type": "code",
   "execution_count": 34,
   "id": "fe14d47e",
   "metadata": {},
   "outputs": [
    {
     "name": "stdout",
     "output_type": "stream",
     "text": [
      "Ingrese un texto: hola mi nombre es fernando\n",
      "Letra a eliminar: o\n",
      "hla mi nmbre es fernand"
     ]
    }
   ],
   "source": [
    "string = input('Ingrese un texto: ')\n",
    "string = string.lower()\n",
    "letra = input('Letra a eliminar: ')\n",
    "letra = letra.lower()\n",
    "for x in string:\n",
    "    if x == letra:\n",
    "        continue\n",
    "    print(x,end = '')"
   ]
  },
  {
   "cell_type": "code",
   "execution_count": 65,
   "id": "ff31f25c",
   "metadata": {},
   "outputs": [
    {
     "name": "stdout",
     "output_type": "stream",
     "text": [
      "Ingrese un texto: Hola mi nombre es fernando y estudio en la faculta de ciencias exacta y tecnologia, mucho gusto\n",
      "Letra que detendra el programa: c\n",
      "Cuantas veces debe aparecer la letra para detener el programa?: 4\n",
      "\n",
      "*El programa se detuvo, ya que la letra indicada alcanzo la el numero maximo de apariciones indicado.*\n",
      "\n",
      "hl m nmbr s frnnd y std n l fclt d cncs xc"
     ]
    }
   ],
   "source": [
    "# Ejercicio\n",
    "#eliminar vocale y detener si una letra aparece n veces.\n",
    "string = input('Ingrese un texto: ')\n",
    "string = string.lower()\n",
    "letra = input('Letra que detendra el programa: ')\n",
    "letra = letra.lower()\n",
    "n = int(input('Cuantas veces debe aparecer la letra para detener el programa?: '))\n",
    "i = 0\n",
    "s = ''\n",
    "for x in string:        \n",
    "    \n",
    "    if i >= n:\n",
    "        print('\\n*El programa se detuvo, ya que la letra indicada alcanzo la el numero maximo de apariciones indicado.*\\n')\n",
    "        break\n",
    "    if x == letra:\n",
    "        i+=1\n",
    "    elif x == 'a' or x == 'e' or x == 'i' or x == 'o' or x == 'u':\n",
    "        continue\n",
    "    s += x\n",
    "print(s, end='')"
   ]
  }
 ],
 "metadata": {
  "kernelspec": {
   "display_name": "Python 3 (ipykernel)",
   "language": "python",
   "name": "python3"
  },
  "language_info": {
   "codemirror_mode": {
    "name": "ipython",
    "version": 3
   },
   "file_extension": ".py",
   "mimetype": "text/x-python",
   "name": "python",
   "nbconvert_exporter": "python",
   "pygments_lexer": "ipython3",
   "version": "3.9.7"
  }
 },
 "nbformat": 4,
 "nbformat_minor": 5
}
